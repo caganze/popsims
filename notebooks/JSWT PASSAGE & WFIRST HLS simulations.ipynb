{
 "cells": [
  {
   "cell_type": "code",
   "execution_count": 1,
   "metadata": {},
   "outputs": [
    {
     "name": "stdout",
     "output_type": "stream",
     "text": [
      "Adding 89 sources from /Users/caganze/research/splat//resources/Spectra/Public/MAGE/ to spectral database\n",
      "Adding 2404 sources from /Users/caganze/research/splat//resources/Spectra/Public/SPEX-PRISM/ to spectral database\n",
      "Adding 145 sources from /Users/caganze/research/splat//resources/Spectra/Public/LRIS-RED/ to spectral database\n"
     ]
    }
   ],
   "source": [
    "import numpy as np\n",
    "import pandas as pd\n",
    "import splat\n",
    "import popsims\n",
    "from astropy.coordinates import SkyCoord, Galactic\n",
    "import matplotlib.pyplot as plt\n",
    "import seaborn as sns\n",
    "import scipy\n",
    "#sns.set_style(\"darkgrid\", {\"axes.facecolor\": \".95\"})\n",
    "\n",
    "plt.style.use('fivethirtyeight')\n",
    "plt.style.use('dark_background')\n",
    "\n",
    "from  matplotlib.colors import Normalize\n",
    "import astropy.units as u\n",
    "import popsims\n",
    "import matplotlib\n",
    "from tqdm import tqdm\n",
    "from tqdm import tqdm\n",
    "import matplotlib as mpl \n",
    "mpl.rcParams['axes.labelsize'] = 20\n",
    "mpl.rcParams['xtick.labelsize'] =20\n",
    "mpl.rcParams['ytick.labelsize'] = 20\n",
    "mpl.rcParams['legend.fontsize'] = 20\n",
    "mpl.rcParams['figure.titlesize'] = 20\n",
    "\n",
    "splat.initializeStandards(all=True)\n",
    "\n",
    "%matplotlib inline"
   ]
  },
  {
   "cell_type": "code",
   "execution_count": 2,
   "metadata": {},
   "outputs": [
    {
     "data": {
      "text/plain": [
       "1800.0000000000002"
      ]
     },
     "execution_count": 2,
     "metadata": {},
     "output_type": "execute_result"
    }
   ],
   "source": [
    "0.5*(u.degree**2).to(u.arcmin**2)"
   ]
  },
  {
   "cell_type": "code",
   "execution_count": 3,
   "metadata": {},
   "outputs": [
    {
     "data": {
      "text/plain": [
       "'/volumes/LaCie/wispsdata/db/'"
      ]
     },
     "execution_count": 3,
     "metadata": {},
     "output_type": "execute_result"
    }
   ],
   "source": [
    "popsims.DATA_FOLDER"
   ]
  },
  {
   "cell_type": "code",
   "execution_count": 4,
   "metadata": {},
   "outputs": [],
   "source": [
    "#get evolutionary models\n",
    "m='baraffe2003' #la base\n",
    "thin_disk=popsims.make_systems(model_name=m, recompute=True, range=[0.01, 0.1, 0., 8.0],\\\n",
    "                              nsample=5e4)\n",
    "thick_disk=popsims.make_systems(model_name=m, recompute=True, range=[0.01, 0.1, 8, 14.0],\\\n",
    "    nsample=5e5, filename='/users/caganze/research/popsims/data/{}_thick.pkl'.format(m))\n",
    "halo=popsims.make_systems(model_name='roman2020', range=[0.01, 0.2, 10, 13.5 ],\n",
    "                             recompute=True, nsample=5e5)"
   ]
  },
  {
   "cell_type": "code",
   "execution_count": 5,
   "metadata": {},
   "outputs": [
    {
     "name": "stderr",
     "output_type": "stream",
     "text": [
      "findfont: Font family ['serif'] not found. Falling back to DejaVu Sans.\n"
     ]
    },
    {
     "data": {
      "text/plain": [
       "[(0.005, 0.4)]"
      ]
     },
     "execution_count": 5,
     "metadata": {},
     "output_type": "execute_result"
    },
    {
     "data": {
      "image/png": "[encoded data removed]",
      "text/plain": [
       "<Figure size 432x288 with 1 Axes>"
      ]
     },
     "metadata": {
      "needs_background": "dark"
     },
     "output_type": "display_data"
    }
   ],
   "source": [
    "#compare the distributions visually\n",
    "fig, ax=plt.subplots()\n",
    "h=plt.hist(halo['spt'], bins=24, histtype='step', range=[15, 40], \\\n",
    "           log=True, density=True, label='halo', lw=4)\n",
    "h=plt.hist(thin_disk['spt'],bins=24, histtype='step', range=[15, 40], \\\n",
    "           log=True, density=True, label='thin', lw=4)\n",
    "h=plt.hist(thick_disk['spt'], bins=24, histtype='step', range=[15, 40], \\\n",
    "           log=True, density=True, label='thick', lw=4)\n",
    "plt.tight_layout()\n",
    "plt.legend()\n",
    "ax.grid(False)\n",
    "ax.set(ylim=[5e-3, 4e-1])"
   ]
  },
  {
   "cell_type": "code",
   "execution_count": 6,
   "metadata": {},
   "outputs": [],
   "source": [
    "#halo"
   ]
  },
  {
   "cell_type": "code",
   "execution_count": 7,
   "metadata": {},
   "outputs": [],
   "source": [
    "H=350\n",
    "FOV={'jswt':220*(u.arcmin**2)*124,\n",
    "    'GRS':  0.28*(u.deg**2),\n",
    "    'PRS':0.28*(u.deg**2),\n",
    "    'WFIRST_WIDE':2000*(u.deg**2),\n",
    "    'EUCLID': 40*(u.deg**2)}\n",
    "\n",
    "#make magnitude cuts\n",
    "grism_cuts={'JSWT':{'NIRCAM_F200W':[1, 27.2], 'NIRCAM_F115W':[1, 27.2]},\n",
    "              'GRS':{'WFIRST_WFIJ':[1, 20.8]},\n",
    "            'PRS':{'WFIRST_WFIJ':[1, 23.5]},\n",
    "            'WFIRST_WIDE':{'WFIRST_WFIJ': [1,24.], 'WFIRST_WFIH':[1,24.]},\n",
    "           'EUCLID':{'EUCLID_J':[1., 27.]}}\n",
    "\n",
    "#the goods north field\n",
    "#POINTS={'}\n",
    "POINTS={'wfirst':SkyCoord(l=-30.0*u.deg, b=-30*u.deg, frame='galactic'),\n",
    "        'euclid':SkyCoord(l=24.6*u.deg, b=-82.0*u.deg , frame='galactic'),\n",
    "        'lsst':SkyCoord(l=224.07*u.deg, b=-54.47*u.deg, frame='galactic'),\n",
    "        'jswt':SkyCoord(ra=\"12:06:55\", dec=\"62:14:15\", unit=(u.hourangle, u.deg)),\n",
    "        'spherex':SkyCoord(l=224.07*u.deg, b=-54.47*u.deg, frame='galactic')}"
   ]
  },
  {
   "cell_type": "code",
   "execution_count": 8,
   "metadata": {},
   "outputs": [],
   "source": [
    "#local luminosity function\n",
    "#LF=pd.read_pickle(popsims.DATA_FOLDER+'/lf_scales.pkl')"
   ]
  },
  {
   "cell_type": "code",
   "execution_count": 9,
   "metadata": {},
   "outputs": [],
   "source": [
    "def scale_to_lf(data):\n",
    "    scale=data.scale.iloc[0]\n",
    "    return scale\n",
    "        \n",
    "\n",
    "def make_cuts(df,  cut_dict, survey='JSWT'):\n",
    "    dcts=grism_cuts[survey]\n",
    "    return df[np.logical_and.reduce([df[k]< dcts[k][1] for k in dcts.keys()])]\n",
    "\n",
    "def get_average_distance_limits(p, cut_dict, survey='JSWT'):\n",
    "    p.mag_limits=grism_cuts[survey.upper()]\n",
    "    return dict(pd.DataFrame(p.distance_limits).applymap(lambda x: x[1]).median(axis=1))"
   ]
  },
  {
   "cell_type": "code",
   "execution_count": 10,
   "metadata": {},
   "outputs": [],
   "source": [
    "#popsims.create_population?"
   ]
  },
  {
   "cell_type": "code",
   "execution_count": 11,
   "metadata": {},
   "outputs": [],
   "source": [
    "#fov"
   ]
  },
  {
   "cell_type": "code",
   "execution_count": 12,
   "metadata": {},
   "outputs": [],
   "source": [
    "def get_numbers(coord, fov, cuts, **kwargs):\n",
    "    NCOUNTS={}\n",
    "    spgrid=kwargs.get('spgrid', [20, 30])\n",
    "    h=kwargs.get('h', 350)\n",
    "    kind=kwargs.get('kind', 'disk')\n",
    "    survey=kwargs.get('survey', 'survey')\n",
    "    model=kwargs.get('model', 'burrows1997')\n",
    "    mag_keys=kwargs.get('mag_keys', [])\n",
    "    volume_kind='exp'\n",
    "    \n",
    "    if kind!='disk':\n",
    "        volume_kind='spheroid'\n",
    "    \n",
    "    p=popsims.Pointing(coord=coord)\n",
    "    dists=p.draw_distances(1, 5000, h=h, nsample=1e5)\n",
    "    dff=popsims.create_pop(bfraction=0.2,\\\n",
    "                         model= model,\\\n",
    "                             l=p.coord.galactic.l.radian,\\\n",
    "                           b=p.coord.galactic.b.radian,\\\n",
    "                           absmag_keys=mag_keys, \\\n",
    "                           nsample=1e6,\n",
    "                           distances=dists,\n",
    "                  poptype='dwarfs')\n",
    "    print (dff.columns)\n",
    "    scale=np.nanmedian(dff.scale)\n",
    "    df_cut= make_cuts(dff,cuts, survey=survey)\n",
    "    dct= get_average_distance_limits(p, cuts, survey=survey)\n",
    "    nxbr_counts=[]\n",
    "    vols=[]\n",
    "    for spt in tqdm(spgrid):\n",
    "        sptvol=popsims.volume_calc(p.coord.galactic.l.radian,\\\n",
    "                                   p.coord.galactic.b.radian,\n",
    "                                   1., dct[spt], h, kind=volume_kind)*(fov.to(u.radian**2)).value\n",
    "        df_select= df_cut[np.logical_and(df_cut.spt>=spt, df_cut.spt<spt+0.99)]\n",
    "\n",
    "\n",
    "        nbrs=len(df_select)\n",
    "        cnbrs=nbrs*sptvol*scale\n",
    "        vols.append(sptvol)\n",
    "        nxbr_counts.append(cnbrs)\n",
    "    NCOUNTS['counts']=np.array(nxbr_counts)\n",
    "    NCOUNTS['volumes']=np.array(vols)\n",
    "    NCOUNTS['data']=df_cut\n",
    "    return NCOUNTS\n",
    "        \n",
    "\n"
   ]
  },
  {
   "cell_type": "code",
   "execution_count": 13,
   "metadata": {},
   "outputs": [],
   "source": [
    "p=popsims.Pointing(coord=POINTS['jswt'])"
   ]
  },
  {
   "cell_type": "code",
   "execution_count": 14,
   "metadata": {},
   "outputs": [
    {
     "data": {
      "text/plain": [
       "{'NIRCAM_F200W': [1, 27.2], 'NIRCAM_F115W': [1, 27.2]}"
      ]
     },
     "execution_count": 14,
     "metadata": {},
     "output_type": "execute_result"
    }
   ],
   "source": [
    "grism_cuts['JSWT']"
   ]
  },
  {
   "cell_type": "code",
   "execution_count": 15,
   "metadata": {},
   "outputs": [
    {
     "name": "stdout",
     "output_type": "stream",
     "text": [
      "Index(['NIRCAM_F200W', 'abs_NIRCAM_F200W', 'NIRCAM_F115W', 'abs_NIRCAM_F115W',\n",
      "       'mass', 'age', 'temperature', 'luminosity', 'is_binary', 'spt',\n",
      "       'prim_spt', 'sec_spt', 'pri_mass', 'sec_mass', 'prim_luminosity',\n",
      "       'sec_luminosity', 'scale', 'scale_unc', 'scale_times_model', 'd', 'l',\n",
      "       'b', 'r', 'z', 'U', 'V', 'W'],\n",
      "      dtype='object')\n"
     ]
    },
    {
     "name": "stderr",
     "output_type": "stream",
     "text": [
      "100%|██████████| 23/23 [00:00<00:00, 24.17it/s]\n"
     ]
    }
   ],
   "source": [
    "thin_number=get_numbers(POINTS['jswt'], FOV['jswt'], grism_cuts['JSWT'],\n",
    "                         mag_keys=grism_cuts['JSWT'].keys(),\\\n",
    "                        spgrid=np.arange(17, 40), survey='JSWT')"
   ]
  },
  {
   "cell_type": "code",
   "execution_count": 16,
   "metadata": {},
   "outputs": [
    {
     "name": "stdout",
     "output_type": "stream",
     "text": [
      "Index(['NIRCAM_F200W', 'abs_NIRCAM_F200W', 'NIRCAM_F115W', 'abs_NIRCAM_F115W',\n",
      "       'mass', 'age', 'temperature', 'luminosity', 'is_binary', 'spt',\n",
      "       'prim_spt', 'sec_spt', 'pri_mass', 'sec_mass', 'prim_luminosity',\n",
      "       'sec_luminosity', 'scale', 'scale_unc', 'scale_times_model', 'd', 'l',\n",
      "       'b', 'r', 'z', 'U', 'V', 'W'],\n",
      "      dtype='object')\n"
     ]
    },
    {
     "name": "stderr",
     "output_type": "stream",
     "text": [
      "100%|██████████| 23/23 [00:00<00:00, 35.93it/s]\n"
     ]
    }
   ],
   "source": [
    "thick_number=get_numbers(POINTS['jswt'], FOV['jswt'], grism_cuts['JSWT'],\n",
    "                         mag_keys=grism_cuts['JSWT'].keys(),\\\n",
    "                        spgrid=np.arange(17, 40), survey='JSWT', h=900)"
   ]
  },
  {
   "cell_type": "code",
   "execution_count": 17,
   "metadata": {},
   "outputs": [
    {
     "name": "stdout",
     "output_type": "stream",
     "text": [
      "Index(['NIRCAM_F200W', 'abs_NIRCAM_F200W', 'NIRCAM_F115W', 'abs_NIRCAM_F115W',\n",
      "       'mass', 'age', 'temperature', 'luminosity', 'is_binary', 'spt',\n",
      "       'prim_spt', 'sec_spt', 'pri_mass', 'sec_mass', 'prim_luminosity',\n",
      "       'sec_luminosity', 'scale', 'scale_unc', 'scale_times_model', 'd', 'l',\n",
      "       'b', 'r', 'z', 'U', 'V', 'W'],\n",
      "      dtype='object')\n"
     ]
    },
    {
     "name": "stderr",
     "output_type": "stream",
     "text": [
      "100%|██████████| 23/23 [00:00<00:00, 35.26it/s]\n"
     ]
    }
   ],
   "source": [
    "halo_number=get_numbers(POINTS['jswt'], FOV['jswt'], grism_cuts['JSWT'],\n",
    "                         mag_keys=grism_cuts['JSWT'].keys(),\\\n",
    "                        spgrid=np.arange(17, 40), survey='JSWT', kind='halo')"
   ]
  },
  {
   "cell_type": "code",
   "execution_count": 18,
   "metadata": {},
   "outputs": [],
   "source": [
    "p=popsims.Pointing(coord=POINTS['jswt'])"
   ]
  },
  {
   "cell_type": "code",
   "execution_count": 19,
   "metadata": {},
   "outputs": [],
   "source": [
    "p.mag_limits=grism_cuts['JSWT']"
   ]
  },
  {
   "cell_type": "code",
   "execution_count": 20,
   "metadata": {},
   "outputs": [],
   "source": [
    "ave_limits=get_average_distance_limits(p, grism_cuts['JSWT'], survey='JSWT')"
   ]
  },
  {
   "cell_type": "code",
   "execution_count": 21,
   "metadata": {},
   "outputs": [],
   "source": [
    "def tick_function(locs, distlimits):\n",
    "   \n",
    "    return [\"{:.1f} kpc\".format(distlimits[x]/1000) for x in locs]"
   ]
  },
  {
   "cell_type": "code",
   "execution_count": 22,
   "metadata": {},
   "outputs": [],
   "source": [
    "#visualize \n",
    "#sns.set_palette('cividis')"
   ]
  },
  {
   "cell_type": "code",
   "execution_count": 23,
   "metadata": {},
   "outputs": [],
   "source": [
    "#np.nansum(halo_number['counts']*(1/400)), np.nansum(thick_number['counts']*(0.12))"
   ]
  },
  {
   "cell_type": "code",
   "execution_count": 24,
   "metadata": {},
   "outputs": [
    {
     "data": {
      "image/png": "[encoded data removed]",
      "text/plain": [
       "<Figure size 576x432 with 2 Axes>"
      ]
     },
     "metadata": {},
     "output_type": "display_data"
    }
   ],
   "source": [
    "fig, ax=plt.subplots(figsize=(8, 6))\n",
    "plt.step(np.arange(17, 40), halo_number['counts']*(1/400),\\\n",
    "         label='halo', where='mid')\n",
    "plt.step(np.arange(17, 40), thin_number['counts'], \\\n",
    "         label='thin disk', where='mid')\n",
    "plt.step(np.arange(17, 40), thick_number['counts']*(0.12), \\\n",
    "         label='thick disk', where='mid')\n",
    "\n",
    "\n",
    "ax.set(xlabel='Spectral Type', \\\n",
    "       ylabel='Number/SpT', xticks=[17, 20, 25, 30, 35, 40],\n",
    "      xticklabels=['M7', 'L0', 'L5', 'T0', 'T5','Y0'], yscale='log')\n",
    "\n",
    "ax.grid(False, which='both', axis='x')\n",
    "\n",
    "ax2 = ax.twiny()\n",
    "ax2.set_xlim(ax.get_xlim())\n",
    "new_tick_locations = np.array([15, 20, 25, 30, 37])\n",
    "ax2.set_xticks(new_tick_locations)\n",
    "ax2.set_xticklabels(tick_function(new_tick_locations, ave_limits ))\n",
    "ax2.tick_params(colors='#0074D9', which='both') \n",
    "ax.legend()\n",
    "plt.tight_layout()\n",
    "ax.grid(False)\n",
    "ax2.grid(False)\n",
    "plt.savefig(popsims.FIGURES+'/jswt_counts.jpeg', dpi=600)"
   ]
  },
  {
   "cell_type": "code",
   "execution_count": 25,
   "metadata": {},
   "outputs": [
    {
     "data": {
      "text/plain": [
       "3008.356504075242"
      ]
     },
     "execution_count": 25,
     "metadata": {},
     "output_type": "execute_result"
    }
   ],
   "source": [
    "np.nansum(halo_number['counts']*(1/400))"
   ]
  },
  {
   "cell_type": "code",
   "execution_count": 26,
   "metadata": {},
   "outputs": [
    {
     "data": {
      "text/plain": [
       "3887.112184157063"
      ]
     },
     "execution_count": 26,
     "metadata": {},
     "output_type": "execute_result"
    }
   ],
   "source": [
    "np.nansum(thin_number['counts'])"
   ]
  },
  {
   "cell_type": "code",
   "execution_count": 27,
   "metadata": {},
   "outputs": [
    {
     "data": {
      "text/plain": [
       "3636.997021921437"
      ]
     },
     "execution_count": 27,
     "metadata": {},
     "output_type": "execute_result"
    }
   ],
   "source": [
    "np.nansum(thick_number['counts']*(0.12))"
   ]
  },
  {
   "cell_type": "code",
   "execution_count": 28,
   "metadata": {},
   "outputs": [
    {
     "ename": "NameError",
     "evalue": "name 'hn' is not defined",
     "output_type": "error",
     "traceback": [
      "\u001b[0;31m---------------------------------------------------------------------------\u001b[0m",
      "\u001b[0;31mNameError\u001b[0m                                 Traceback (most recent call last)",
      "\u001b[0;32m<ipython-input-28-7b172809f7a6>\u001b[0m in \u001b[0;36m<module>\u001b[0;34m\u001b[0m\n\u001b[0;32m----> 1\u001b[0;31m \u001b[0mhn\u001b[0m\u001b[0;34m\u001b[0m\u001b[0;34m\u001b[0m\u001b[0m\n\u001b[0m",
      "\u001b[0;31mNameError\u001b[0m: name 'hn' is not defined"
     ]
    }
   ],
   "source": [
    "hn"
   ]
  },
  {
   "cell_type": "code",
   "execution_count": null,
   "metadata": {},
   "outputs": [],
   "source": [
    "p2=popsims.Pointing(coord=POINTS['wfirst'])\n",
    "p2.mag_limits=grism_cuts['PRS']\n",
    "wpave_limits=get_average_distance_limits(p2, grism_cuts['PRS'], survey='PRS')"
   ]
  },
  {
   "cell_type": "code",
   "execution_count": null,
   "metadata": {},
   "outputs": [],
   "source": [
    "wthin_number=get_numbers(POINTS['jswt'], FOV['PRS'], grism_cuts['PRS'],\\\n",
    "                        \n",
    "                        thin_disk, spgrid=np.arange(17, 40), survey='PRS')\n",
    "wthick_number=get_numbers(POINTS['jswt'], FOV['PRS'], grism_cuts['PRS'],\\\n",
    "                        \n",
    "                        thick_disk, h=900, spgrid=np.arange(17, 40), survey='PRS')\n",
    "whalo_number=get_numbers(POINTS['jswt'], FOV['PRS'], grism_cuts['PRS'],\\\n",
    "                        \n",
    "                        halo, spgrid=np.arange(17, 40), kind='halo', survey='PRS')"
   ]
  },
  {
   "cell_type": "code",
   "execution_count": null,
   "metadata": {},
   "outputs": [],
   "source": [
    "\n",
    "p3=popsims.Pointing(coord=POINTS['wfirst'])\n",
    "p3.mag_limits=grism_cuts['WFIRST_WIDE']\n",
    "wide_ave_limits=get_average_distance_limits(p3, grism_cuts['WFIRST_WIDE'], survey='WFIRST_WIDE')"
   ]
  },
  {
   "cell_type": "code",
   "execution_count": null,
   "metadata": {},
   "outputs": [],
   "source": [
    "wide_thin_number=get_numbers(POINTS['jswt'], FOV['WFIRST_WIDE'], grism_cuts['WFIRST_WIDE'],\\\n",
    "                        \n",
    "                        thin_disk, spgrid=np.arange(17, 40), survey='WFIRST_WIDE')\n",
    "wide_thick_number=get_numbers(POINTS['jswt'], FOV['WFIRST_WIDE'], grism_cuts['WFIRST_WIDE'],\\\n",
    "                        \n",
    "                        thick_disk, h=900, spgrid=np.arange(17, 40), survey='WFIRST_WIDE')\n",
    "wide_halo_number=get_numbers(POINTS['jswt'], FOV['WFIRST_WIDE'], grism_cuts['WFIRST_WIDE'],\\\n",
    "                        \n",
    "                        halo, h=900, spgrid=np.arange(17, 40), kind='halo', survey='WFIRST_WIDE')"
   ]
  },
  {
   "cell_type": "code",
   "execution_count": null,
   "metadata": {},
   "outputs": [],
   "source": [
    "fig, ax=plt.subplots(figsize=(8, 6))\n",
    "plt.step(np.arange(17, 40), whalo_number['counts']*(1/400),\\\n",
    "         label='halo', where='mid')\n",
    "plt.step(np.arange(17, 40), wthin_number['counts'], \\\n",
    "         label='thin disk', where='mid')\n",
    "plt.step(np.arange(17, 40), wthick_number['counts']*(0.12), \\\n",
    "         label='thick disk', where='mid')\n",
    "ax.set(xlabel='Spectral Type', \\\n",
    "       ylabel='Number/SpT/Pointing', xticks=[17, 20, 25, 30, 35, 40],\n",
    "      xticklabels=['M7', 'L0', 'L5', 'T0', 'T5','Y0'], yscale='log')\n",
    "ax.grid(False, which='both', axis='x')\n",
    "\n",
    "ax2 = ax.twiny()\n",
    "ax2.set_xlim(ax.get_xlim())\n",
    "new_tick_locations = np.array([15, 20, 25, 30, 37])\n",
    "ax2.set_xticks(new_tick_locations)\n",
    "ax2.set_xticklabels(tick_function(new_tick_locations, wpave_limits ))\n",
    "ax2.tick_params(colors='#0074D9', which='both') \n",
    "ax.legend()\n",
    "plt.tight_layout()\n",
    "ax.grid(False)\n",
    "ax2.grid(False)\n",
    "plt.savefig(popsims.FIGURES+'/wfirt_counts_spec.jpeg', dpi=600)"
   ]
  },
  {
   "cell_type": "code",
   "execution_count": null,
   "metadata": {},
   "outputs": [],
   "source": [
    "FOV['WFIRST_WIDE'].to(u.radian**2), FOV['jswt'].to(u.radian**2)"
   ]
  },
  {
   "cell_type": "code",
   "execution_count": null,
   "metadata": {},
   "outputs": [],
   "source": [
    "np.nansum( wide_halo_number['counts']*(1/400)),\n",
    "np.nansum(wide_thick_number['counts']*(0.12))"
   ]
  },
  {
   "cell_type": "code",
   "execution_count": null,
   "metadata": {},
   "outputs": [],
   "source": [
    "fig, ax=plt.subplots(figsize=(8, 6))\n",
    "plt.step(np.arange(17, 40), wide_halo_number['counts']*(1/400),\\\n",
    "         label='halo', where='mid')\n",
    "plt.step(np.arange(17, 40), wide_thin_number['counts'], \\\n",
    "         label='thin disk', where='mid')\n",
    "plt.step(np.arange(17, 40), wide_thick_number['counts']*(0.12), \\\n",
    "         label='thick disk', where='mid')\n",
    "ax.set(xlabel='Spectral Type', \\\n",
    "       ylabel='Number/SpT', xticks=[17, 20, 25, 30, 35, 40],\n",
    "      xticklabels=['M7', 'L0', 'L5', 'T0', 'T5','Y0'],\n",
    "      yscale='log')\n",
    "ax.grid(False, which='both', axis='x')\n",
    "\n",
    "ax2 = ax.twiny()\n",
    "ax2.set_xlim(ax.get_xlim())\n",
    "new_tick_locations = np.array([15, 20, 25, 30, 37])\n",
    "ax2.set_xticks(new_tick_locations)\n",
    "ax2.set_xticklabels(tick_function(new_tick_locations, wide_ave_limits ))\n",
    "ax2.tick_params(colors='#0074D9', which='both') \n",
    "ax.legend()\n",
    "plt.tight_layout()\n",
    "ax.grid(False)\n",
    "ax2.grid(False)\n",
    "plt.savefig(popsims.FIGURES+'/wfirt_counts_wide.jpeg', dpi=600)"
   ]
  },
  {
   "cell_type": "code",
   "execution_count": null,
   "metadata": {},
   "outputs": [],
   "source": [
    "p5=popsims.Pointing(coord=POINTS['euclid'])\n",
    "p5.mag_limits=grism_cuts['EUCLID']\n",
    "eude_ave_limits=get_average_distance_limits(p5, grism_cuts['EUCLID'], survey='EUCLID')\n",
    "eu_thin_number=get_numbers(POINTS['jswt'], FOV['EUCLID'], grism_cuts['EUCLID'],\\\n",
    "                        \n",
    "                        thin_disk, spgrid=np.arange(17, 40), survey='EUCLID')\n",
    "eu_thick_number=get_numbers(POINTS['jswt'], FOV['EUCLID'], grism_cuts['EUCLID'],\\\n",
    "                        \n",
    "                        thick_disk, h=900, spgrid=np.arange(17, 40), survey='EUCLID')\n",
    "eu_halo_number=get_numbers(POINTS['jswt'], FOV['EUCLID'], grism_cuts['EUCLID'],\\\n",
    "                        \n",
    "                        halo, spgrid=np.arange(17, 40), kind='halo', survey='EUCLID')"
   ]
  },
  {
   "cell_type": "code",
   "execution_count": null,
   "metadata": {},
   "outputs": [],
   "source": [
    "np.nansum(eu_halo_number['counts']*(1/400)),  np.nansum(eu_thick_number['counts']*(0.12))\n"
   ]
  },
  {
   "cell_type": "code",
   "execution_count": null,
   "metadata": {},
   "outputs": [],
   "source": [
    "220*(u.arcmin**2).to(u.deg**2)*124"
   ]
  },
  {
   "cell_type": "code",
   "execution_count": null,
   "metadata": {},
   "outputs": [],
   "source": [
    "fig, ax=plt.subplots(figsize=(8, 6))\n",
    "plt.step(np.arange(17, 40), eu_halo_number['counts']*(1/400),\\\n",
    "         label='halo', where='mid')\n",
    "plt.step(np.arange(17, 40), eu_thin_number['counts'], \\\n",
    "         label='thin disk', where='mid')\n",
    "plt.step(np.arange(17, 40), eu_thick_number['counts']*(0.12), \\\n",
    "         label='thick disk', where='mid')\n",
    "ax.set(xlabel='Spectral Type', \\\n",
    "       ylabel='Number/SpT', xticks=[17, 20, 25, 30, 35, 40],\n",
    "      xticklabels=['M7', 'L0', 'L5', 'T0', 'T5','Y0'],\n",
    "      yscale='log')\n",
    "ax.grid(False, which='both', axis='x')\n",
    "\n",
    "ax2 = ax.twiny()\n",
    "ax2.set_xlim(ax.get_xlim())\n",
    "new_tick_locations = np.array([15, 20, 25, 30, 37])\n",
    "ax2.set_xticks(new_tick_locations)\n",
    "ax2.set_xticklabels(tick_function(new_tick_locations,eude_ave_limits ))\n",
    "ax2.tick_params(colors='#0074D9', which='both') \n",
    "ax.legend()\n",
    "ax.grid(False)\n",
    "ax2.grid(False)\n",
    "plt.tight_layout()\n",
    "plt.savefig(popsims.FIGURES+'/euclid_counts_wide.jpeg', dpi=600)"
   ]
  },
  {
   "cell_type": "code",
   "execution_count": null,
   "metadata": {},
   "outputs": [],
   "source": [
    "#diagnostics\n",
    "disk_vol=[popsims.volume_calc(p.coord.galactic.l.radian,\\\n",
    "                                   p.coord.galactic.b.radian,\n",
    "                                   1., x, 350, kind='exp') for x in np.logspace(1, 4, 100)]\n",
    "tdisk_vol=[popsims.volume_calc(p.coord.galactic.l.radian,\\\n",
    "                                   p.coord.galactic.b.radian,\n",
    "                                   1., x, 900, kind='exp') for x in np.logspace(1, 4, 100)]\n",
    "halo_vol=[popsims.volume_calc(p.coord.galactic.l.radian,\\\n",
    "                                   p.coord.galactic.b.radian,\n",
    "                                   1., x, 900, kind='spheroid') for x in np.logspace(1, 4, 100)]"
   ]
  },
  {
   "cell_type": "code",
   "execution_count": null,
   "metadata": {},
   "outputs": [],
   "source": [
    "fig, ax=plt.subplots()\n",
    "plt.plot(np.logspace(1, 4, 100), disk_vol, label='thin disk')\n",
    "plt.plot(np.logspace(1, 4, 100), np.array(tdisk_vol)*0.12, label='thick disk')\n",
    "plt.plot(np.logspace(1, 4, 100), np.array(halo_vol)/400, label='halo')\n",
    "plt.legend()\n",
    "ax.grid(False)\n",
    "#ax.set(xscale='log', yscale='log')"
   ]
  },
  {
   "cell_type": "code",
   "execution_count": null,
   "metadata": {},
   "outputs": [],
   "source": [
    "popsims.DATA_FOLDER"
   ]
  },
  {
   "cell_type": "code",
   "execution_count": null,
   "metadata": {},
   "outputs": [],
   "source": []
  }
 ],
 "metadata": {
  "kernelspec": {
   "display_name": "Python (mcmenv)",
   "language": "python",
   "name": "myenv"
  },
  "language_info": {
   "codemirror_mode": {
    "name": "ipython",
    "version": 3
   },
   "file_extension": ".py",
   "mimetype": "text/x-python",
   "name": "python",
   "nbconvert_exporter": "python",
   "pygments_lexer": "ipython3",
   "version": "3.9.2"
  }
 },
 "nbformat": 4,
 "nbformat_minor": 4
}
