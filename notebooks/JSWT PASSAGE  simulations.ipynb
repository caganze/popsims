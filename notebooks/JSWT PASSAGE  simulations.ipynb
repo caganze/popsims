{
 "cells": [
  {
   "cell_type": "code",
   "execution_count": 1,
   "metadata": {},
   "outputs": [
    {
     "name": "stdout",
     "output_type": "stream",
     "text": [
      "Adding 2404 sources from /Users/caganze/research/splat//resources/Spectra/Public/SPEX-PRISM/ to spectral database\n",
      "Adding 145 sources from /Users/caganze/research/splat//resources/Spectra/Public/LRIS-RED/ to spectral database\n",
      "Adding 89 sources from /Users/caganze/research/splat//resources/Spectra/Public/MAGE/ to spectral database\n"
     ]
    }
   ],
   "source": [
    "import numpy as np\n",
    "import pandas as pd\n",
    "import splat\n",
    "import popsims\n",
    "from astropy.coordinates import SkyCoord, Galactic\n",
    "import matplotlib.pyplot as plt\n",
    "import seaborn as sns\n",
    "import scipy\n",
    "#sns.set_style(\"darkgrid\", {\"axes.facecolor\": \".95\"})\n",
    "\n",
    "#plt.style.use('fivethirtyeight')\n",
    "#plt.style.use('dark_background')\n",
    "\n",
    "from  matplotlib.colors import Normalize\n",
    "import astropy.units as u\n",
    "import popsims\n",
    "import matplotlib\n",
    "from tqdm import tqdm\n",
    "from tqdm import tqdm\n",
    "import matplotlib as mpl \n",
    "mpl.rcParams['axes.labelsize'] = 20\n",
    "mpl.rcParams['xtick.labelsize'] =20\n",
    "mpl.rcParams['ytick.labelsize'] = 20\n",
    "mpl.rcParams['legend.fontsize'] = 20\n",
    "mpl.rcParams['figure.titlesize'] = 20\n",
    "\n",
    "splat.initializeStandards(all=True)\n",
    "\n",
    "%matplotlib inline"
   ]
  },
  {
   "cell_type": "code",
   "execution_count": 2,
   "metadata": {},
   "outputs": [
    {
     "data": {
      "text/plain": [
       "1800.0000000000002"
      ]
     },
     "execution_count": 2,
     "metadata": {},
     "output_type": "execute_result"
    }
   ],
   "source": [
    "0.5*(u.degree**2).to(u.arcmin**2)"
   ]
  },
  {
   "cell_type": "code",
   "execution_count": 3,
   "metadata": {},
   "outputs": [],
   "source": [
    "#halo"
   ]
  },
  {
   "cell_type": "code",
   "execution_count": 4,
   "metadata": {},
   "outputs": [],
   "source": [
    "H=350\n",
    "FOV={'jswt':220*(u.arcmin**2)*124}\n",
    "#make magnitude cuts\n",
    "grism_cuts={'JSWT':{'NIRISS_F200W':[1, 27.], 'NIRISS_F115W':[1, 27.],\\\n",
    "                    'NIRISS_F150W':[1, 27.] }}\n",
    "\n",
    "#the goods north field\n",
    "#OINTS={'jswt':SkyCoord(ra=\"12:36:55\", dec=\"62:14:15\", unit=(u.hourangle, u.deg))}\n",
    "POINTS={'jswt':SkyCoord(l=np.random.uniform(-180, 180, 10 )*u.degree,\\\n",
    "               b=np.random.uniform(-90, 90, 10)*u.degree, frame='galactic')}"
   ]
  },
  {
   "cell_type": "code",
   "execution_count": 5,
   "metadata": {},
   "outputs": [],
   "source": [
    "#local luminosity function\n",
    "#LF=pd.read_pickle(popsims.DATA_FOLDER+'/lf_scales.pkl')"
   ]
  },
  {
   "cell_type": "code",
   "execution_count": 6,
   "metadata": {},
   "outputs": [],
   "source": [
    "def scale_to_lf(data):\n",
    "    scale=data.scale.iloc[0]\n",
    "    return scale\n",
    "        \n",
    "\n",
    "def make_cuts(df,  cut_dict, survey='JSWT'):\n",
    "    dcts=grism_cuts[survey]\n",
    "    return df[np.logical_and.reduce([df[k]< dcts[k][1] for k in dcts.keys()])]\n",
    "\n",
    "def get_average_distance_limits(p, cut_dict, survey='JSWT'):\n",
    "    p.mag_limits=grism_cuts[survey.upper()]\n",
    "    return dict(pd.DataFrame(p.distance_limits).applymap(lambda x: x[1]).median(axis=1))"
   ]
  },
  {
   "cell_type": "code",
   "execution_count": 54,
   "metadata": {},
   "outputs": [],
   "source": [
    "def sample_pointings(scaleH, scaleL, NSAMPLE, volume_kind='exp'):\n",
    "    ds=[]\n",
    "    for c in tqdm(POINTS['jswt']):\n",
    "        p= popsims.Pointing(coord=c,density= volume_kind)\n",
    "        ds.append(p.draw_distances(1, 50000, \\\n",
    "                    scaleH, scaleL, nsample=1e4))\n",
    "    ds=np.array(ds).flatten()\n",
    "    return  np.random.choice(ds, int(NSAMPLE), replace=True)\n",
    "\n",
    "def compute_normalized_volumes(scaleH, scaleL, volume_kind='exp'):\n",
    "    vs=dict(zip(range(17, 42),np.zeros(len(range(17, 42)))))\n",
    "    for c in tqdm(POINTS['jswt']):\n",
    "        p= popsims.Pointing(coord=c,density= volume_kind)\n",
    "        for s in range(17, 42):\n",
    "            vs[s]+= popsims.volume_calc(p.coord.galactic.l.radian,\\\n",
    "                                   p.coord.galactic.b.radian,\n",
    "                                    0, DIST_LIMITS[s],scaleH, scaleL, \\\n",
    "                                   kind= volume_kind)\n",
    "    \n",
    "    return  vs"
   ]
  },
  {
   "cell_type": "code",
   "execution_count": 43,
   "metadata": {},
   "outputs": [],
   "source": [
    "p=popsims.Pointing(coord=POINTS['jswt'])\n",
    "p.mag_limits=grism_cuts['JSWT']\n",
    "DIST_LIMITS=get_average_distance_limits(p, grism_cuts['JSWT'], survey='JSWT')"
   ]
  },
  {
   "cell_type": "code",
   "execution_count": 53,
   "metadata": {},
   "outputs": [],
   "source": [
    "#DIST_LIMITS[17]"
   ]
  },
  {
   "cell_type": "code",
   "execution_count": 55,
   "metadata": {},
   "outputs": [
    {
     "name": "stderr",
     "output_type": "stream",
     "text": [
      "100%|██████████| 10/10 [00:00<00:00, 80.90it/s]\n",
      "100%|██████████| 10/10 [00:00<00:00, 82.69it/s]\n",
      "100%|██████████| 10/10 [00:00<00:00, 88.96it/s]\n"
     ]
    }
   ],
   "source": [
    "VOLUMES={'thin_disk': compute_normalized_volumes(350,2600, volume_kind='exp'),\n",
    "         'thick_disk':compute_normalized_volumes(900, 3600, volume_kind='exp'),\n",
    "         'halo': compute_normalized_volumes(900, 3600, volume_kind='spheroid'),\n",
    "}"
   ]
  },
  {
   "cell_type": "code",
   "execution_count": 56,
   "metadata": {},
   "outputs": [
    {
     "data": {
      "text/plain": [
       "{'thin_disk': {17: 35581225962.093254,\n",
       "  18: 35581225635.095604,\n",
       "  19: 35581187839.83596,\n",
       "  20: 35580645026.023094,\n",
       "  21: 35576828920.72847,\n",
       "  22: 35560210701.26635,\n",
       "  23: 35508530730.976135,\n",
       "  24: 35383798041.155594,\n",
       "  25: 35139204999.10299,\n",
       "  26: 34739887202.12843,\n",
       "  27: 34189495954.04072,\n",
       "  28: 33542417301.517803,\n",
       "  29: 32885627502.04444,\n",
       "  30: 32294416749.18564,\n",
       "  31: 31781241134.221252,\n",
       "  32: 31250872961.695747,\n",
       "  33: 29534011878.700703,\n",
       "  34: 26324860489.948673,\n",
       "  35: 21401640228.745636,\n",
       "  36: 14843263038.224215,\n",
       "  37: 8161542743.5826025,\n",
       "  38: 2758844834.636356,\n",
       "  39: 511446627.93885314,\n",
       "  40: 48972753.53780192,\n",
       "  41: 1209081.2826036327},\n",
       " 'thick_disk': {17: 170636422701.16968,\n",
       "  18: 170623851756.017,\n",
       "  19: 170525650163.26813,\n",
       "  20: 170129479214.24567,\n",
       "  21: 169081590317.74228,\n",
       "  22: 166980944227.0603,\n",
       "  23: 163500792338.52002,\n",
       "  24: 158503366108.83582,\n",
       "  25: 152132569189.6829,\n",
       "  26: 144840295066.81653,\n",
       "  27: 137302496895.09752,\n",
       "  28: 130238596195.59875,\n",
       "  29: 124203558979.01347,\n",
       "  30: 119415006673.30121,\n",
       "  31: 115622636797.08702,\n",
       "  32: 111983947289.21494,\n",
       "  33: 101631328333.07921,\n",
       "  34: 85911132913.57343,\n",
       "  35: 66602750929.44293,\n",
       "  36: 45035707109.2783,\n",
       "  37: 24409812483.466084,\n",
       "  38: 7035975060.722222,\n",
       "  39: 875567741.4092255,\n",
       "  40: 61674962.22347455,\n",
       "  41: 1289248.6262955412},\n",
       " 'halo': {17: 5677664547552.036,\n",
       "  18: 4868930746790.067,\n",
       "  19: 4177272123624.858,\n",
       "  20: 3610832830706.2754,\n",
       "  21: 3137787046439.9365,\n",
       "  22: 2734661468104.4575,\n",
       "  23: 2385763661441.1904,\n",
       "  24: 2081955671989.1658,\n",
       "  25: 1818956859507.395,\n",
       "  26: 1595400893951.678,\n",
       "  27: 1410936648571.9128,\n",
       "  28: 1264641005565.2227,\n",
       "  29: 1153828543284.1494,\n",
       "  30: 1073041496060.0786,\n",
       "  31: 1012772720388.6191,\n",
       "  32: 957623784632.3424,\n",
       "  33: 812715290134.4755,\n",
       "  34: 619250343821.2957,\n",
       "  35: 415270321702.40826,\n",
       "  36: 226422883525.00558,\n",
       "  37: 89380822645.88235,\n",
       "  38: 15799980198.698214,\n",
       "  39: 1274661949.747564,\n",
       "  40: 71550897.61695649,\n",
       "  41: 1341884.4727998446}}"
      ]
     },
     "execution_count": 56,
     "metadata": {},
     "output_type": "execute_result"
    }
   ],
   "source": [
    "VOLUMES"
   ]
  },
  {
   "cell_type": "code",
   "execution_count": 8,
   "metadata": {},
   "outputs": [],
   "source": [
    "def get_numbers(coord, fov, cuts, **kwargs):\n",
    "    NCOUNTS={}\n",
    "    spgrid=kwargs.get('spgrid', [20, 30])\n",
    "    scaleH=kwargs.get('h', 350)\n",
    "    scaleL=kwargs.get('l', 2600)\n",
    "    kind=kwargs.get('kind', 'exp')\n",
    "    survey=kwargs.get('survey', 'survey')\n",
    "    model=kwargs.get('model', 'burrows1997')\n",
    "    mag_keys=kwargs.get('mag_keys', [])\n",
    "    \n",
    "    volume_kind=kind\n",
    "    if kind!='exp':\n",
    "        volume_kind='spheroid'\n",
    "\n",
    "    galactic_dists=sample_pointings(scaleH, scaleL, 1e6, volume_kind= volume_kind)\n",
    "    \n",
    "    dff=popsims.create_pop(bfraction=0.2,\\\n",
    "                         model= model,\\\n",
    "                           l=list(POINTS['jswt'].galactic.l.radian),\n",
    "                           b=list(POINTS['jswt'].galactic.b.radian),\n",
    "                           absmag_keys=mag_keys, \\\n",
    "                           nsample=int(1e6),\n",
    "                           distances=galactic_dists,\n",
    "                  poptype='dwarfs')\n",
    "    \n",
    "    scale=np.nanmedian(dff.scale)\n",
    "    df_cut= make_cuts(dff,cuts, survey=survey)\n",
    "    nxbr_counts=[]\n",
    "    vols=[]\n",
    "    \n",
    "    #compute volumes\n",
    "    p= popsims.Pointing(coord=POINTS['jswt'][0])\n",
    "    dct= get_average_distance_limits(p, cuts, survey=survey)\n",
    "    for spt in tqdm(spgrid):\n",
    "        sptvol=popsims.volume_calc(p.coord.galactic.l.radian,\\\n",
    "                                   p.coord.galactic.b.radian,\n",
    "                                   1., dct[spt],scaleH, scaleL, kind= volume_kind)*(fov.to(u.radian**2)).value\n",
    "        df_select= df_cut[np.logical_and(df_cut.spt>=spt, df_cut.spt<spt+0.99)]\n",
    "\n",
    "\n",
    "        nbrs=len(df_select)\n",
    "        cnbrs=nbrs*sptvol*scale\n",
    "        vols.append(sptvol)\n",
    "        nxbr_counts.append(cnbrs)\n",
    "    NCOUNTS['counts']=np.array(nxbr_counts)\n",
    "    NCOUNTS['volumes']=np.array(vols)\n",
    "    NCOUNTS['data']=df_cut\n",
    "    return NCOUNTS\n",
    "        \n",
    "\n"
   ]
  },
  {
   "cell_type": "code",
   "execution_count": 10,
   "metadata": {},
   "outputs": [],
   "source": [
    "def get_numbers_by_model(model='burrows1997'):\n",
    "    thin_number=get_numbers(POINTS['jswt'], FOV['jswt'], grism_cuts['JSWT'],\n",
    "                         mag_keys=grism_cuts['JSWT'].keys(),\\\n",
    "                        spgrid=np.arange(17, 42), survey='JSWT', model=model)\n",
    "    thick_number=get_numbers(POINTS['jswt'], FOV['jswt'], grism_cuts['JSWT'],\n",
    "                         mag_keys=grism_cuts['JSWT'].keys(),\\\n",
    "                        spgrid=np.arange(17, 42), survey='JSWT', h=900, l=3600, model=model)\n",
    "    halo_number=get_numbers(POINTS['jswt'], FOV['jswt'], grism_cuts['JSWT'],\n",
    "                         mag_keys=grism_cuts['JSWT'].keys(),\\\n",
    "                        spgrid=np.arange(17, 42), survey='JSWT', kind='halo', model=model)\n",
    "    \n",
    "    return {'thin': thin_number, 'thick': thick_number, 'halo': halo_number}"
   ]
  },
  {
   "cell_type": "code",
   "execution_count": 11,
   "metadata": {},
   "outputs": [
    {
     "name": "stderr",
     "output_type": "stream",
     "text": [
      "100%|██████████| 10/10 [00:17<00:00,  1.74s/it]\n",
      "100%|██████████| 25/25 [00:00<00:00, 69.90it/s]\n",
      "100%|██████████| 10/10 [00:20<00:00,  2.06s/it]\n",
      "100%|██████████| 25/25 [00:00<00:00, 74.47it/s]\n",
      "100%|██████████| 10/10 [00:22<00:00,  2.20s/it]\n",
      "100%|██████████| 25/25 [00:00<00:00, 129.78it/s]\n",
      "100%|██████████| 10/10 [00:17<00:00,  1.73s/it]\n",
      "100%|██████████| 25/25 [00:00<00:00, 60.55it/s]\n",
      "100%|██████████| 10/10 [00:17<00:00,  1.73s/it]\n",
      "100%|██████████| 25/25 [00:00<00:00, 73.71it/s]\n",
      "100%|██████████| 10/10 [00:22<00:00,  2.22s/it]\n",
      "100%|██████████| 25/25 [00:00<00:00, 133.10it/s]\n",
      "100%|██████████| 10/10 [00:17<00:00,  1.72s/it]\n",
      "100%|██████████| 25/25 [00:00<00:00, 66.58it/s]\n",
      "100%|██████████| 10/10 [00:18<00:00,  1.84s/it]\n",
      "100%|██████████| 25/25 [00:00<00:00, 77.50it/s]\n",
      "100%|██████████| 10/10 [00:22<00:00,  2.21s/it]\n",
      "100%|██████████| 25/25 [00:00<00:00, 169.51it/s]\n"
     ]
    }
   ],
   "source": [
    "b97=get_numbers_by_model(model='burrows1997')\n",
    "b01=get_numbers_by_model(model='burrows2001')\n",
    "b03=get_numbers_by_model(model='baraffe2003')"
   ]
  },
  {
   "cell_type": "code",
   "execution_count": 12,
   "metadata": {},
   "outputs": [
    {
     "data": {
      "text/plain": [
       "True"
      ]
     },
     "execution_count": 12,
     "metadata": {},
     "output_type": "execute_result"
    }
   ],
   "source": [
    "import collections\n",
    "isinstance(list(POINTS['jswt'].galactic.l.radian), collections.Sequence)"
   ]
  },
  {
   "cell_type": "code",
   "execution_count": 13,
   "metadata": {},
   "outputs": [
    {
     "data": {
      "text/plain": [
       "array([1.5233736 , 2.00571182, 4.53560718, 1.25414184, 4.31544773,\n",
       "       4.62768075, 1.66811525, 3.94708713, 6.08209618, 2.99440632])"
      ]
     },
     "execution_count": 13,
     "metadata": {},
     "output_type": "execute_result"
    }
   ],
   "source": [
    "POINTS['jswt'].galactic.l.radian"
   ]
  },
  {
   "cell_type": "code",
   "execution_count": 14,
   "metadata": {},
   "outputs": [],
   "source": []
  },
  {
   "cell_type": "code",
   "execution_count": 15,
   "metadata": {},
   "outputs": [],
   "source": []
  },
  {
   "cell_type": "code",
   "execution_count": 41,
   "metadata": {},
   "outputs": [],
   "source": []
  },
  {
   "cell_type": "code",
   "execution_count": 42,
   "metadata": {},
   "outputs": [
    {
     "data": {
      "text/plain": [
       "{10: 497344.2190417317,\n",
       " 11: 320776.0645877478,\n",
       " 12: 213386.0390108638,\n",
       " 13: 147985.28642706288,\n",
       " 14: 106948.96906641146,\n",
       " 15: 80379.67034098422,\n",
       " 16: 62624.40163129896,\n",
       " 17: 50383.36152218183,\n",
       " 18: 41172.40901410765,\n",
       " 19: 34202.940266055586,\n",
       " 20: 29058.309529560633,\n",
       " 21: 25114.032713899647,\n",
       " 22: 21982.12561143497,\n",
       " 23: 19425.19671638913,\n",
       " 24: 17302.107386586013,\n",
       " 25: 15531.791890831417,\n",
       " 26: 14068.227289752898,\n",
       " 27: 12882.987242099143,\n",
       " 28: 11953.121096807132,\n",
       " 29: 11252.146230325681,\n",
       " 30: 10741.55371947136,\n",
       " 31: 10360.196019872204,\n",
       " 32: 10010.420806714708,\n",
       " 33: 9084.028896190883,\n",
       " 34: 7813.193689762531,\n",
       " 35: 6378.753160421809,\n",
       " 36: 4835.124601411773,\n",
       " 37: 3308.8539707973496,\n",
       " 38: 1751.0265569842863,\n",
       " 39: 735.9355554439614,\n",
       " 40: 279.2000593309919,\n",
       " 41: 73.92311650864852,\n",
       " 42: 12.39046603819139}"
      ]
     },
     "execution_count": 42,
     "metadata": {},
     "output_type": "execute_result"
    }
   ],
   "source": [
    "DIST_LIMITS"
   ]
  },
  {
   "cell_type": "code",
   "execution_count": 17,
   "metadata": {},
   "outputs": [],
   "source": [
    "def tick_function(locs, distlimits):\n",
    "   \n",
    "    return [\"{:.1f} \".format(distlimits[x]/1000) for x in locs]"
   ]
  },
  {
   "cell_type": "code",
   "execution_count": 18,
   "metadata": {},
   "outputs": [],
   "source": [
    "#visualize \n",
    "#sns.set_palette('cividis')"
   ]
  },
  {
   "cell_type": "code",
   "execution_count": 19,
   "metadata": {},
   "outputs": [],
   "source": [
    "#np.nansum(halo_number['counts']*(1/400)), np.nansum(thick_number['counts']*(0.12))\n",
    "conversion_area=1/((7.5*u.deg**2).to(u.arcmin**2))"
   ]
  },
  {
   "cell_type": "code",
   "execution_count": 37,
   "metadata": {},
   "outputs": [
    {
     "data": {
      "image/png": "[encoded data removed]",
      "text/plain": [
       "<Figure size 864x432 with 2 Axes>"
      ]
     },
     "metadata": {
      "needs_background": "light"
     },
     "output_type": "display_data"
    }
   ],
   "source": [
    "fig, ax=plt.subplots(figsize=(12, 6))\n",
    "plt.step(np.arange(17, 42), b97['halo']['counts']*(1/400)*conversion_area,\\\n",
    "         where='mid',  linestyle='dotted', color='#0074D9', label='B97 Halo')\n",
    "plt.step(np.arange(17, 42), b97['thin']['counts']*conversion_area, \\\n",
    "          where='mid',  linestyle='-', color='#0074D9', label='B97 Thin Disk')\n",
    "plt.step(np.arange(17, 42), b97['thick']['counts']*(0.12)*conversion_area, \\\n",
    "          where='mid',  linestyle='--', color='#0074D9',label='B97 Thick Disk')\n",
    "\n",
    "plt.step(np.arange(17, 42), b01['halo']['counts']*(1/400)*conversion_area,\\\n",
    "         where='mid',  linestyle='dotted', color='#FF851B', label='B01 Halo')\n",
    "plt.step(np.arange(17, 42), b01['thin']['counts']*conversion_area, \\\n",
    "         where='mid', linestyle='-', color='#FF851B',  label='B01 Thin Disk')\n",
    "plt.step(np.arange(17, 42), b01['thick']['counts']*(0.12)*conversion_area, \\\n",
    "        where='mid', linestyle='--', color='#FF851B',   label='B01 Thick Disk')\n",
    "\n",
    "plt.step(np.arange(17, 42), b03['halo']['counts']*(1/400)*conversion_area,\\\n",
    "         where='mid', linestyle='dotted', color='#111111', label='B03 Halo')\n",
    "plt.step(np.arange(17, 42), b03['thin']['counts']*conversion_area, \\\n",
    "         where='mid', linestyle='-', color='#111111',  label='B03 Thin Disk')\n",
    "plt.step(np.arange(17, 42), b03['thick']['counts']*(0.12)*conversion_area, \\\n",
    "         where='mid', linestyle='--', color='#111111', label='B03 Thick Disk')\n",
    "\n",
    "\n",
    "ax.set(xlabel='Spectral Type', \\\n",
    "       ylabel=r'Surface Density (Arcmin$^{-2}$)', xticks=[17, 20, 25, 30, 35, 40],\n",
    "      xticklabels=['M7', 'L0', 'L5', 'T0', 'T5','Y0'], yscale='log')\n",
    "\n",
    "ax.grid(False, which='both', axis='x')\n",
    "\n",
    "ax2 = ax.twiny()\n",
    "ax2.set_xlim(ax.get_xlim())\n",
    "new_tick_locations = np.array([17, 20, 25, 30, 30, 35, 40])\n",
    "ax2.set_xticks(new_tick_locations)\n",
    "ax2.set_xticklabels(tick_function(new_tick_locations, ave_limits ), fontsize=16)\n",
    "ax2.tick_params(colors='#0074D9', which='both') \n",
    "ax2.set_xlabel('Maximum Distance (kpc) ')\n",
    "ax2.grid()\n",
    "ax.legend(bbox_to_anchor=(1.04,1), loc=\"upper left\")\n",
    "plt.tight_layout()\n",
    "ax.grid( axis='y',  which='major')\n",
    "ax.minorticks_on()\n",
    "plt.savefig(popsims.FIGURES+'/jswt_counts.pdf', dpi=600)"
   ]
  },
  {
   "cell_type": "code",
   "execution_count": 21,
   "metadata": {},
   "outputs": [
    {
     "data": {
      "text/latex": [
       "$0.0063976394 \\; \\mathrm{\\frac{1}{arcmin^{2}}}$"
      ],
      "text/plain": [
       "<Quantity 0.00639764 1 / arcmin2>"
      ]
     },
     "execution_count": 21,
     "metadata": {},
     "output_type": "execute_result"
    }
   ],
   "source": [
    "np.average(b97['halo']['counts']*(1/400)*conversion_area)"
   ]
  },
  {
   "cell_type": "code",
   "execution_count": 22,
   "metadata": {},
   "outputs": [
    {
     "data": {
      "text/latex": [
       "$0.0091876834 \\; \\mathrm{\\frac{1}{arcmin^{2}}}$"
      ],
      "text/plain": [
       "<Quantity 0.00918768 1 / arcmin2>"
      ]
     },
     "execution_count": 22,
     "metadata": {},
     "output_type": "execute_result"
    }
   ],
   "source": [
    "np.average(b03['halo']['counts']*(1/400)*conversion_area)"
   ]
  },
  {
   "cell_type": "code",
   "execution_count": 23,
   "metadata": {},
   "outputs": [
    {
     "data": {
      "text/latex": [
       "$0.0063807166 \\; \\mathrm{\\frac{1}{arcmin^{2}}}$"
      ],
      "text/plain": [
       "<Quantity 0.00638072 1 / arcmin2>"
      ]
     },
     "execution_count": 23,
     "metadata": {},
     "output_type": "execute_result"
    }
   ],
   "source": [
    "np.average(b01['halo']['counts']*(1/400)*conversion_area)"
   ]
  },
  {
   "cell_type": "code",
   "execution_count": 24,
   "metadata": {},
   "outputs": [
    {
     "data": {
      "text/latex": [
       "$0.02053594 \\; \\mathrm{\\frac{1}{arcmin^{2}}}$"
      ],
      "text/plain": [
       "<Quantity 0.02053594 1 / arcmin2>"
      ]
     },
     "execution_count": 24,
     "metadata": {},
     "output_type": "execute_result"
    }
   ],
   "source": [
    "np.average(b97['thick']['counts']*(0.12)*conversion_area)"
   ]
  },
  {
   "cell_type": "code",
   "execution_count": 25,
   "metadata": {},
   "outputs": [
    {
     "data": {
      "text/latex": [
       "$0.024236454 \\; \\mathrm{\\frac{1}{arcmin^{2}}}$"
      ],
      "text/plain": [
       "<Quantity 0.02423645 1 / arcmin2>"
      ]
     },
     "execution_count": 25,
     "metadata": {},
     "output_type": "execute_result"
    }
   ],
   "source": [
    "np.average(b03['thick']['counts']*(0.12)*conversion_area)"
   ]
  },
  {
   "cell_type": "code",
   "execution_count": 26,
   "metadata": {},
   "outputs": [
    {
     "data": {
      "text/latex": [
       "$0.020565845 \\; \\mathrm{\\frac{1}{arcmin^{2}}}$"
      ],
      "text/plain": [
       "<Quantity 0.02056585 1 / arcmin2>"
      ]
     },
     "execution_count": 26,
     "metadata": {},
     "output_type": "execute_result"
    }
   ],
   "source": [
    "np.average(b01['thick']['counts']*(0.12)*conversion_area)"
   ]
  },
  {
   "cell_type": "code",
   "execution_count": 27,
   "metadata": {},
   "outputs": [
    {
     "data": {
      "text/latex": [
       "$0.018698521 \\; \\mathrm{\\frac{1}{arcmin^{2}}}$"
      ],
      "text/plain": [
       "<Quantity 0.01869852 1 / arcmin2>"
      ]
     },
     "execution_count": 27,
     "metadata": {},
     "output_type": "execute_result"
    }
   ],
   "source": [
    "np.average(b01['thin']['counts']*conversion_area)"
   ]
  },
  {
   "cell_type": "code",
   "execution_count": 28,
   "metadata": {},
   "outputs": [
    {
     "data": {
      "text/latex": [
       "$0.020700109 \\; \\mathrm{\\frac{1}{arcmin^{2}}}$"
      ],
      "text/plain": [
       "<Quantity 0.02070011 1 / arcmin2>"
      ]
     },
     "execution_count": 28,
     "metadata": {},
     "output_type": "execute_result"
    }
   ],
   "source": [
    "np.average(b03['thin']['counts']*conversion_area)"
   ]
  },
  {
   "cell_type": "code",
   "execution_count": 29,
   "metadata": {},
   "outputs": [
    {
     "data": {
      "text/latex": [
       "$0.018600006 \\; \\mathrm{\\frac{1}{arcmin^{2}}}$"
      ],
      "text/plain": [
       "<Quantity 0.01860001 1 / arcmin2>"
      ]
     },
     "execution_count": 29,
     "metadata": {},
     "output_type": "execute_result"
    }
   ],
   "source": [
    "np.average(b97['thin']['counts']*conversion_area)"
   ]
  },
  {
   "cell_type": "code",
   "execution_count": 30,
   "metadata": {},
   "outputs": [
    {
     "data": {
      "text/plain": [
       "(array([ 87.28287801, 114.91882194, 259.87114866,  71.85703434,\n",
       "        247.25694138, 265.14657562,  95.57596343, 226.15143374,\n",
       "        348.47844198, 171.56684425]),\n",
       " array([ 33.71880276,  29.66332258, -47.05270506,  85.51535808,\n",
       "        -60.27070672,   4.46113826,  48.5476817 ,  57.084262  ,\n",
       "        -74.5918952 ,  21.73876037]))"
      ]
     },
     "execution_count": 30,
     "metadata": {},
     "output_type": "execute_result"
    }
   ],
   "source": [
    "POINTS['jswt'].galactic.l.degree,  POINTS['jswt'].galactic.b.degree"
   ]
  },
  {
   "cell_type": "code",
   "execution_count": 31,
   "metadata": {},
   "outputs": [
    {
     "data": {
      "text/plain": [
       "(4318.406573197864, 6201.6863079641835)"
      ]
     },
     "execution_count": 31,
     "metadata": {},
     "output_type": "execute_result"
    }
   ],
   "source": [
    "np.nansum(b97['halo']['counts']*(1/400)), np.nansum(b03['halo']['counts']*(1/400))"
   ]
  },
  {
   "cell_type": "code",
   "execution_count": 32,
   "metadata": {},
   "outputs": [
    {
     "data": {
      "text/plain": [
       "4306.983735634258"
      ]
     },
     "execution_count": 32,
     "metadata": {},
     "output_type": "execute_result"
    }
   ],
   "source": [
    "np.nansum(b01['halo']['counts']*(1/400))"
   ]
  },
  {
   "cell_type": "code",
   "execution_count": 33,
   "metadata": {},
   "outputs": [
    {
     "data": {
      "text/plain": [
       "(13881.945625979484, 16359.606589138291)"
      ]
     },
     "execution_count": 33,
     "metadata": {},
     "output_type": "execute_result"
    }
   ],
   "source": [
    "np.nansum(b01['thick']['counts']*(0.12)), np.nansum(b03['thick']['counts']*(0.12))"
   ]
  },
  {
   "cell_type": "code",
   "execution_count": 34,
   "metadata": {},
   "outputs": [
    {
     "data": {
      "text/plain": [
       "13861.759622055926"
      ]
     },
     "execution_count": 34,
     "metadata": {},
     "output_type": "execute_result"
    }
   ],
   "source": [
    "np.nansum(b97['thick']['counts']*(0.12))"
   ]
  },
  {
   "cell_type": "code",
   "execution_count": 35,
   "metadata": {},
   "outputs": [
    {
     "data": {
      "text/plain": [
       "(12621.501608588133, 13972.573888801331)"
      ]
     },
     "execution_count": 35,
     "metadata": {},
     "output_type": "execute_result"
    }
   ],
   "source": [
    "np.nansum(b01['thin']['counts']), np.nansum(b03['thin']['counts'])"
   ]
  },
  {
   "cell_type": "code",
   "execution_count": 36,
   "metadata": {},
   "outputs": [
    {
     "data": {
      "text/plain": [
       "12555.004271838601"
      ]
     },
     "execution_count": 36,
     "metadata": {},
     "output_type": "execute_result"
    }
   ],
   "source": [
    "np.nansum(b97['thin']['counts'])"
   ]
  },
  {
   "cell_type": "code",
   "execution_count": 17,
   "metadata": {},
   "outputs": [],
   "source": [
    "import numpy as np\n",
    "import astropy.units as u\n",
    "d=1*u.Mpc"
   ]
  },
  {
   "cell_type": "code",
   "execution_count": 24,
   "metadata": {},
   "outputs": [],
   "source": []
  },
  {
   "cell_type": "code",
   "execution_count": 25,
   "metadata": {},
   "outputs": [
    {
     "data": {
      "text/plain": [
       "array([23.49485002, 25.        , 26.50514998, 27.38560627, 28.01029996,\n",
       "       28.49485002])"
      ]
     },
     "execution_count": 25,
     "metadata": {},
     "output_type": "execute_result"
    }
   ],
   "source": [
    "dmods"
   ]
  },
  {
   "cell_type": "code",
   "execution_count": null,
   "metadata": {},
   "outputs": [],
   "source": []
  }
 ],
 "metadata": {
  "kernelspec": {
   "display_name": "Python 3 (ipykernel)",
   "language": "python",
   "name": "python3"
  },
  "language_info": {
   "codemirror_mode": {
    "name": "ipython",
    "version": 3
   },
   "file_extension": ".py",
   "mimetype": "text/x-python",
   "name": "python",
   "nbconvert_exporter": "python",
   "pygments_lexer": "ipython3",
   "version": "3.9.7"
  }
 },
 "nbformat": 4,
 "nbformat_minor": 4
}
