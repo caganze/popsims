{
 "cells": [
  {
   "cell_type": "markdown",
   "metadata": {},
   "source": [
    "# tutorial for reading a Gizmo snapshot\n",
    "\n",
    "@author: Andrew Wetzel <arwetzel@gmail.com>"
   ]
  },
  {
   "cell_type": "code",
   "execution_count": 5,
   "metadata": {},
   "outputs": [],
   "source": [
    "# First, move within a simulation directory, or point 'directory' below to a simulation directory.\n",
    "# This directory should contain either a snapshot file\n",
    "#    snapshot_???.hdf5\n",
    "# or a snapshot directory\n",
    "#    snapdir_???\n",
    "\n",
    "# In general, the simulation directory also should contain a text file:\n",
    "#     m12*_center.txt\n",
    "# that contains pre-computed galaxy center coordinates\n",
    "# and rotation vectors to align with the principal axes of the galaxy,\n",
    "# although that file is not required to read a snapshot.\n",
    "\n",
    "# The simulation directory also may contain text files:\n",
    "#    m12*_LSR{0,1,2}.txt\n",
    "# that contains the local standard of rest (LSR) coordinates\n",
    "# used by Ananke in creating Gaia synthetic surveys."
   ]
  },
  {
   "cell_type": "code",
   "execution_count": 1,
   "metadata": {},
   "outputs": [],
   "source": [
    "# Ensure that your python path points to this python package, then:\n",
    "\n",
    "import gizmo_read"
   ]
  },
  {
   "cell_type": "code",
   "execution_count": 2,
   "metadata": {},
   "outputs": [],
   "source": [
    "directory = '.'  # if running this notebook from within a simulation directory\n",
    "#directory = 'm12i/'   # if running higher-level directory\n",
    "#directory = 'm12f/'   # if running higher-level directory\n",
    "#directory = 'm12m/'   # if running higher-level directory"
   ]
  },
  {
   "cell_type": "markdown",
   "metadata": {},
   "source": [
    "# read particle data from a snapshot"
   ]
  },
  {
   "cell_type": "code",
   "execution_count": 4,
   "metadata": {},
   "outputs": [
    {
     "name": "stdout",
     "output_type": "stream",
     "text": [
      "reading header from:\n",
      "  snapdir_600/snapshot_600.0.hdf5\n",
      "\n",
      "snapshot contains the following number of particles:\n",
      "  star   (id = 4): 13976485 particles\n",
      "\n",
      "reading star properties:\n",
      "  ['form.scalefactor', 'id', 'mass', 'massfraction', 'position', 'potential', 'velocity']\n",
      "\n",
      "reading particles from:\n",
      "  snapshot_600.0.hdf5\n",
      "  snapshot_600.1.hdf5\n",
      "  snapshot_600.2.hdf5\n",
      "  snapshot_600.3.hdf5\n",
      "\n",
      "reading galaxy center coordinates and principal axes from:  m12i_res7100_center.txt\n",
      "  center position [kpc] = 41792.145, 44131.235, 46267.676\n",
      "  center velocity [km/s] = -52.5, 71.9, 95.2\n",
      "\n",
      "adjusting particle coordinates to be relative to galaxy center\n",
      "  and aligned with the principal axes\n",
      "\n"
     ]
    }
   ],
   "source": [
    "# read star particles (all properties)\n",
    "\n",
    "part = gizmo_read.read.Read.read_snapshot(species='star', directory=directory)"
   ]
  },
  {
   "cell_type": "code",
   "execution_count": 5,
   "metadata": {},
   "outputs": [
    {
     "name": "stdout",
     "output_type": "stream",
     "text": [
      "reading header from:\n",
      "  snapdir_600/snapshot_600.0.hdf5\n",
      "\n",
      "snapshot contains the following number of particles:\n",
      "  dark   (id = 1): 70514272 particles\n",
      "  dark.2 (id = 2): 5513331 particles\n",
      "  gas    (id = 0): 57060074 particles\n",
      "  star   (id = 4): 13976485 particles\n",
      "\n",
      "reading dark properties:\n",
      "  ['id', 'mass', 'position', 'potential', 'velocity']\n",
      "reading dark.2 properties:\n",
      "  ['id', 'mass', 'position', 'potential', 'velocity']\n",
      "reading gas properties:\n",
      "  ['density', 'electron.fraction', 'hydrogen.neutral.fraction', 'id', 'mass', 'massfraction', 'position', 'potential', 'temperature', 'velocity']\n",
      "reading star properties:\n",
      "  ['form.scalefactor', 'id', 'mass', 'massfraction', 'position', 'potential', 'velocity']\n",
      "\n",
      "reading particles from:\n",
      "  snapshot_600.0.hdf5\n",
      "  snapshot_600.1.hdf5\n",
      "  snapshot_600.2.hdf5\n",
      "  snapshot_600.3.hdf5\n",
      "\n",
      "reading galaxy center coordinates and principal axes from:  m12i_res7100_center.txt\n",
      "  center position [kpc] = 41792.145, 44131.235, 46267.676\n",
      "  center velocity [km/s] = -52.5, 71.9, 95.2\n",
      "\n",
      "adjusting particle coordinates to be relative to galaxy center\n",
      "  and aligned with the principal axes\n",
      "\n"
     ]
    }
   ],
   "source": [
    "# alternately, read all particle species (stars, gas, dark matter)\n",
    "\n",
    "part = gizmo_read.read.Read.read_snapshot(species='all', directory=directory)"
   ]
  },
  {
   "cell_type": "code",
   "execution_count": 6,
   "metadata": {},
   "outputs": [
    {
     "name": "stdout",
     "output_type": "stream",
     "text": [
      "reading header from:\n",
      "  snapdir_600/snapshot_600.0.hdf5\n",
      "\n",
      "snapshot contains the following number of particles:\n",
      "  star   (id = 4): 13976485 particles\n",
      "  dark   (id = 1): 70514272 particles\n",
      "\n",
      "reading star properties:\n",
      "  ['form.scalefactor', 'id', 'mass', 'massfraction', 'position', 'potential', 'velocity']\n",
      "reading dark properties:\n",
      "  ['id', 'mass', 'position', 'potential', 'velocity']\n",
      "\n",
      "reading particles from:\n",
      "  snapshot_600.0.hdf5\n",
      "  snapshot_600.1.hdf5\n",
      "  snapshot_600.2.hdf5\n",
      "  snapshot_600.3.hdf5\n",
      "\n",
      "reading galaxy center coordinates and principal axes from:  m12i_res7100_center.txt\n",
      "  center position [kpc] = 41792.145, 44131.235, 46267.676\n",
      "  center velocity [km/s] = -52.5, 71.9, 95.2\n",
      "\n",
      "adjusting particle coordinates to be relative to galaxy center\n",
      "  and aligned with the principal axes\n",
      "\n"
     ]
    }
   ],
   "source": [
    "# alternately, read just stars and dark matter (or any combination of species)\n",
    "\n",
    "part = gizmo_read.read.Read.read_snapshot(species=['star', 'dark'], directory=directory)"
   ]
  },
  {
   "cell_type": "code",
   "execution_count": 15,
   "metadata": {},
   "outputs": [
    {
     "name": "stdout",
     "output_type": "stream",
     "text": [
      "reading header from:\n",
      "  m12i/m12i_res7100/output/snapdir_600/snapshot_600.0.hdf5\n",
      "\n",
      "snapshot contains the following number of particles:\n",
      "  star   (id = 4): 13976485 particles\n",
      "\n",
      "read star  : ['mass', 'position', 'velocity']\n",
      "reading particles from:\n",
      "  snapshot_600.0.hdf5\n",
      "  snapshot_600.1.hdf5\n",
      "  snapshot_600.2.hdf5\n",
      "  snapshot_600.3.hdf5\n",
      "\n",
      "reading galaxy center coordinates and principal axes from:\n",
      "  m12i/m12i_res7100/output/m12i_res7100_center.txt\n",
      "  center position [kpc] = 41792.145, 44131.235, 46267.676\n",
      "  center velocity [km/s] = -52.5, 71.9, 95.2\n",
      "\n"
     ]
    }
   ],
   "source": [
    "# alternately, read only a subset of particle properties (to save memory)\n",
    "\n",
    "part = gizmo_read.read.Read.read_snapshot(species='star', properties=['position', 'velocity', 'mass'], directory=directory)"
   ]
  },
  {
   "cell_type": "code",
   "execution_count": 12,
   "metadata": {},
   "outputs": [
    {
     "name": "stdout",
     "output_type": "stream",
     "text": [
      "reading header from:\n",
      "  snapdir_600/snapshot_600.0.hdf5\n",
      "\n",
      "snapshot contains the following number of particles:\n",
      "  dark   (id = 1): 70514272 particles\n",
      "  dark.2 (id = 2): 5513331 particles\n",
      "  gas    (id = 0): 57060074 particles\n",
      "  star   (id = 4): 13976485 particles\n",
      "\n",
      "reading dark properties:\n",
      "  ['id', 'mass', 'position', 'potential', 'velocity']\n",
      "reading dark.2 properties:\n",
      "  ['id', 'mass', 'position', 'potential', 'velocity']\n",
      "reading gas properties:\n",
      "  ['density', 'electron.fraction', 'hydrogen.neutral.fraction', 'id', 'mass', 'massfraction', 'position', 'potential', 'temperature', 'velocity']\n",
      "reading star properties:\n",
      "  ['form.scalefactor', 'id', 'mass', 'massfraction', 'position', 'potential', 'velocity']\n",
      "\n",
      "reading particles from:\n",
      "  snapshot_600.0.hdf5\n",
      "  snapshot_600.1.hdf5\n",
      "  snapshot_600.2.hdf5\n",
      "  snapshot_600.3.hdf5\n",
      "\n",
      "periodically subsampling all particles by factor = 10\n",
      "\n",
      "reading galaxy center coordinates and principal axes from:  m12i_res7100_center.txt\n",
      "  center position [kpc] = 41792.145, 44131.235, 46267.676\n",
      "  center velocity [km/s] = -52.5, 71.9, 95.2\n",
      "\n",
      "adjusting particle coordinates to be relative to galaxy center\n",
      "  and aligned with the principal axes\n",
      "\n"
     ]
    }
   ],
   "source": [
    "# also can use particle_subsample_factor to periodically sub-sample particles, to save memory\n",
    "\n",
    "part = gizmo_read.read.Read.read_snapshot(species='all', directory=directory, particle_subsample_factor=10)"
   ]
  },
  {
   "cell_type": "markdown",
   "metadata": {},
   "source": [
    "# species dictionary"
   ]
  },
  {
   "cell_type": "code",
   "execution_count": 13,
   "metadata": {},
   "outputs": [
    {
     "data": {
      "text/plain": [
       "dict_keys(['dark', 'dark.2', 'gas', 'star'])"
      ]
     },
     "execution_count": 13,
     "metadata": {},
     "output_type": "execute_result"
    }
   ],
   "source": [
    "# each particle species is stored as its own dictionary\n",
    "# 'star' = stars, 'gas' = gas, 'dark' = dark matter, 'dark.2' = low-resolution dark matter\n",
    "\n",
    "part.keys()"
   ]
  },
  {
   "cell_type": "code",
   "execution_count": null,
   "metadata": {},
   "outputs": [],
   "source": [
    "# properties of particles are stored as dictionary"
   ]
  },
  {
   "cell_type": "code",
   "execution_count": 14,
   "metadata": {},
   "outputs": [
    {
     "name": "stdout",
     "output_type": "stream",
     "text": [
      "position\n",
      "mass\n",
      "massfraction\n",
      "id\n",
      "potential\n",
      "form.scalefactor\n",
      "velocity\n",
      "age\n",
      "metallicity.total\n",
      "metallicity.he\n",
      "metallicity.c\n",
      "metallicity.n\n",
      "metallicity.o\n",
      "metallicity.ne\n",
      "metallicity.mg\n",
      "metallicity.si\n",
      "metallicity.s\n",
      "metallicity.ca\n",
      "metallicity.fe\n"
     ]
    }
   ],
   "source": [
    "# properties of star particles\n",
    "\n",
    "for k in part['star'].keys():\n",
    "    print(k)"
   ]
  },
  {
   "cell_type": "code",
   "execution_count": 15,
   "metadata": {},
   "outputs": [
    {
     "name": "stdout",
     "output_type": "stream",
     "text": [
      "position\n",
      "mass\n",
      "id\n",
      "potential\n",
      "velocity\n"
     ]
    }
   ],
   "source": [
    "# properties of dark matter particles\n",
    "\n",
    "for k in part['dark'].keys():\n",
    "    print(k)"
   ]
  },
  {
   "cell_type": "code",
   "execution_count": 16,
   "metadata": {},
   "outputs": [
    {
     "name": "stdout",
     "output_type": "stream",
     "text": [
      "position\n",
      "density\n",
      "electron.fraction\n",
      "temperature\n",
      "mass\n",
      "massfraction\n",
      "hydrogen.neutral.fraction\n",
      "id\n",
      "potential\n",
      "velocity\n",
      "metallicity.total\n",
      "metallicity.he\n",
      "metallicity.c\n",
      "metallicity.n\n",
      "metallicity.o\n",
      "metallicity.ne\n",
      "metallicity.mg\n",
      "metallicity.si\n",
      "metallicity.s\n",
      "metallicity.ca\n",
      "metallicity.fe\n"
     ]
    }
   ],
   "source": [
    "# properties of gas particles\n",
    "\n",
    "for k in part['gas'].keys():\n",
    "    print(k)"
   ]
  },
  {
   "cell_type": "markdown",
   "metadata": {},
   "source": [
    "# particle coordinates"
   ]
  },
  {
   "cell_type": "code",
   "execution_count": 17,
   "metadata": {},
   "outputs": [
    {
     "data": {
      "text/plain": [
       "array([[ 1.16540960e+04, -2.75057897e+04,  9.79966007e+01],\n",
       "       [ 8.74077403e-01, -8.40383128e+00, -1.42074969e-01],\n",
       "       [ 5.93294059e-01, -8.54868009e+00, -9.42783421e-02],\n",
       "       ...,\n",
       "       [-1.89096016e+03,  8.44474680e+02,  3.64950773e+01],\n",
       "       [-1.90947320e+03,  8.70410327e+02,  4.84814836e+01],\n",
       "       [ 1.96999057e+03,  5.72262177e+02,  1.05859972e+03]])"
      ]
     },
     "execution_count": 17,
     "metadata": {},
     "output_type": "execute_result"
    }
   ],
   "source": [
    "# 3-D position of star particle (particle number x dimension number) in cartesian coordiantes [kpc physical]\n",
    "# if directory contains file m12*_center.txt, this reader automatically reads this file and \n",
    "# convert all positions to be in galactocentric coordinates, alined with principal axes of the galaxy\n",
    "\n",
    "part['star']['position']"
   ]
  },
  {
   "cell_type": "code",
   "execution_count": 18,
   "metadata": {},
   "outputs": [
    {
     "name": "stdout",
     "output_type": "stream",
     "text": [
      "[[ 2.98728375e+04  9.79966007e+01  5.11315470e+00]\n",
      " [ 8.44916513e+00 -1.42074969e-01  4.81602573e+00]\n",
      " [ 8.56924321e+00 -9.42783421e-02  4.78167971e+00]\n",
      " ...\n",
      " [ 2.07095818e+03  3.64950773e+01  2.72158217e+00]\n",
      " [ 2.09849995e+03  4.84814836e+01  2.71389451e+00]\n",
      " [ 2.05142556e+03  1.05859972e+03  2.82709171e-01]]\n"
     ]
    }
   ],
   "source": [
    "# you can convert these to cylindrical coordiantes...\n",
    "\n",
    "star_positions_cylindrical = gizmo_read.coordinate.get_positions_in_coordinate_system(\n",
    "    part['star']['position'], system_to='cylindrical')\n",
    "print(star_positions_cylindrical)"
   ]
  },
  {
   "cell_type": "code",
   "execution_count": 19,
   "metadata": {},
   "outputs": [
    {
     "name": "stdout",
     "output_type": "stream",
     "text": [
      "[[2.98729983e+04 1.56751588e+00 5.11315470e+00]\n",
      " [8.45035956e+00 1.58761001e+00 4.81602573e+00]\n",
      " [8.56976181e+00 1.58179783e+00 4.78167971e+00]\n",
      " ...\n",
      " [2.07127972e+03 1.55317584e+00 2.72158217e+00]\n",
      " [2.09905991e+03 1.54769751e+00 2.71389451e+00]\n",
      " [2.30845840e+03 1.09440612e+00 2.82709171e-01]]\n"
     ]
    }
   ],
   "source": [
    "# or spherical coordiantes\n",
    "\n",
    "star_positions_spherical = gizmo_read.coordinate.get_positions_in_coordinate_system(\n",
    "    part['star']['position'], system_to='spherical')\n",
    "print(star_positions_spherical)"
   ]
  },
  {
   "cell_type": "code",
   "execution_count": 20,
   "metadata": {},
   "outputs": [
    {
     "data": {
      "text/plain": [
       "array([[ 1.2493088e+03, -3.0202078e+03,  7.0889122e+01],\n",
       "       [ 1.5769327e+02,  5.3172966e+01,  1.0956430e+01],\n",
       "       [ 2.2855122e+02, -1.1627532e+01, -7.6147827e+01],\n",
       "       ...,\n",
       "       [-1.3088661e+02,  3.3774906e+01,  2.5818007e+00],\n",
       "       [-1.2095865e+02,  3.9211132e+01,  1.6003119e+01],\n",
       "       [ 1.6603368e+02,  2.3284418e+01,  9.7706291e+01]], dtype=float32)"
      ]
     },
     "execution_count": 20,
     "metadata": {},
     "output_type": "execute_result"
    }
   ],
   "source": [
    "# 3-D velocity of star particle (particle number x dimension number) in cartesian coordiantes [km/s]\n",
    "\n",
    "part['star']['velocity']"
   ]
  },
  {
   "cell_type": "code",
   "execution_count": 21,
   "metadata": {},
   "outputs": [
    {
     "name": "stdout",
     "output_type": "stream",
     "text": [
      "[[ 3.26827881e+03  7.08891220e+01 -2.79372520e+01]\n",
      " [-3.65740891e+01  1.09564304e+01  1.62347977e+02]\n",
      " [ 2.74234409e+01 -7.61478271e+01  2.27197754e+02]\n",
      " ...\n",
      " [ 1.33282959e+02  2.58180070e+00  2.25322895e+01]\n",
      " [ 1.26326935e+02  1.60031185e+01  1.44918041e+01]\n",
      " [ 1.65938049e+02  9.77062912e+01 -2.39563694e+01]]\n"
     ]
    }
   ],
   "source": [
    "# you can convert these to cylindrical coordiantes...\n",
    "\n",
    "star_velocities_cylindrical = gizmo_read.coordinate.get_velocities_in_coordinate_system(\n",
    "    part['star']['velocity'], part['star']['position'], system_to='cylindrical')\n",
    "print(star_velocities_cylindrical)"
   ]
  },
  {
   "cell_type": "code",
   "execution_count": 22,
   "metadata": {},
   "outputs": [
    {
     "name": "stdout",
     "output_type": "stream",
     "text": [
      "[[ 3.2684939e+03 -6.0167347e+01 -2.7937252e+01]\n",
      " [-3.6753128e+01 -1.0339966e+01  1.6234798e+02]\n",
      " [ 2.8259504e+01  7.5841530e+01  2.2719775e+02]\n",
      " ...\n",
      " [ 1.3330775e+02 -2.3301035e-01  2.2532290e+01]\n",
      " [ 1.2666286e+02 -1.3081106e+01  1.4491804e+01]\n",
      " [ 1.9226746e+02 -1.0732359e+01 -2.3956369e+01]]\n"
     ]
    }
   ],
   "source": [
    "# or spherical coordiantes\n",
    "\n",
    "star_velocities_spherical = gizmo_read.coordinate.get_velocities_in_coordinate_system(\n",
    "    part['star']['velocity'], part['star']['position'], system_to='spherical')\n",
    "print(star_velocities_spherical)"
   ]
  },
  {
   "cell_type": "code",
   "execution_count": 23,
   "metadata": {},
   "outputs": [
    {
     "name": "stdout",
     "output_type": "stream",
     "text": [
      "[41792.14534 44131.23473 46267.67629]\n",
      "[-52.45083  71.85282  95.19746]\n"
     ]
    }
   ],
   "source": [
    "# the galaxy center position [kpc comoving] and velocity [km/s] are stored via\n",
    "\n",
    "print(part.center_position)\n",
    "print(part.center_velocity)"
   ]
  },
  {
   "cell_type": "code",
   "execution_count": 24,
   "metadata": {},
   "outputs": [
    {
     "name": "stdout",
     "output_type": "stream",
     "text": [
      "[[ 0.11681398 -0.98166206  0.1506456 ]\n",
      " [-0.86026934 -0.02421714  0.50926436]\n",
      " [-0.49627729 -0.18908499 -0.84732267]]\n"
     ]
    }
   ],
   "source": [
    "# the rotation vectors to align with the principal axes are stored via\n",
    "\n",
    "print(part.principal_axes_vectors)"
   ]
  },
  {
   "cell_type": "markdown",
   "metadata": {},
   "source": [
    "# LSR coordinates for mock"
   ]
  },
  {
   "cell_type": "code",
   "execution_count": 25,
   "metadata": {},
   "outputs": [
    {
     "name": "stdout",
     "output_type": "stream",
     "text": [
      "reading LSR coordinates from:\n",
      "  m12i_res7100_LSR0.txt\n",
      "  LSR_0 position [kpc] = 0.000, 8.200, 0.000\n",
      "  LSR_0 velocity [km/s] = -224.7, -20.4, 3.9\n",
      "\n",
      "reading LSR coordinates from:\n",
      "  m12i_res7100_LSR1.txt\n",
      "  LSR_1 position [kpc] = -7.101, -4.100, 0.000\n",
      "  LSR_1 velocity [km/s] = 87.3, -186.9, -9.5\n",
      "\n",
      "reading LSR coordinates from:\n",
      "  m12i_res7100_LSR2.txt\n",
      "  LSR_2 position [kpc] = 7.101, -4.100, 0.000\n",
      "  LSR_2 velocity [km/s] = 80.4, 191.7, 1.5\n",
      "\n"
     ]
    }
   ],
   "source": [
    "# you can read the assumed local standard of rest (LSR) coordinates used in the Ananke mock catalogs\n",
    "# you need to input which LSR to use (currently 0, 1, or 2, because we use 3 per galaxy)\n",
    "\n",
    "gizmo_read.read.Read.read_lsr_coordinates(part, directory=directory, lsr_index=0)\n",
    "gizmo_read.read.Read.read_lsr_coordinates(part, directory=directory, lsr_index=1)\n",
    "gizmo_read.read.Read.read_lsr_coordinates(part, directory=directory, lsr_index=2)"
   ]
  },
  {
   "cell_type": "code",
   "execution_count": 26,
   "metadata": {},
   "outputs": [
    {
     "name": "stdout",
     "output_type": "stream",
     "text": [
      "[ 7.1014 -4.1     0.    ]\n",
      "[ 80.4269 191.724    1.5039]\n"
     ]
    }
   ],
   "source": [
    "# the particle catalog can store one LSR at a time via\n",
    "\n",
    "print(part.lsr_position)\n",
    "print(part.lsr_velocity)"
   ]
  },
  {
   "cell_type": "code",
   "execution_count": 27,
   "metadata": {},
   "outputs": [
    {
     "name": "stdout",
     "output_type": "stream",
     "text": [
      "[[ 1.16469946e+04 -2.75016897e+04  9.79966007e+01]\n",
      " [-6.22732260e+00 -4.30383128e+00 -1.42074969e-01]\n",
      " [-6.50810594e+00 -4.44868009e+00 -9.42783421e-02]\n",
      " ...\n",
      " [-1.89806156e+03  8.48574680e+02  3.64950773e+01]\n",
      " [-1.91657460e+03  8.74510327e+02  4.84814836e+01]\n",
      " [ 1.96288917e+03  5.76362177e+02  1.05859972e+03]]\n",
      "[[ 1.1688820e+03 -3.2119316e+03  6.9385223e+01]\n",
      " [ 7.7266365e+01 -1.3855103e+02  9.4525299e+00]\n",
      " [ 1.4812433e+02 -2.0335153e+02 -7.7651726e+01]\n",
      " ...\n",
      " [-2.1131351e+02 -1.5794910e+02  1.0779006e+00]\n",
      " [-2.0138556e+02 -1.5251286e+02  1.4499218e+01]\n",
      " [ 8.5606773e+01 -1.6843958e+02  9.6202393e+01]]\n"
     ]
    }
   ],
   "source": [
    "# you can convert coordinates to be relative to LSR via\n",
    "\n",
    "star_positions_wrt_lsr = part['star']['position'] - part.lsr_position\n",
    "star_velocities_wrt_lsr = part['star']['velocity'] - part.lsr_velocity\n",
    "print(star_positions_wrt_lsr)\n",
    "print(star_velocities_wrt_lsr)"
   ]
  },
  {
   "cell_type": "markdown",
   "metadata": {},
   "source": [
    "# other particle properties"
   ]
  },
  {
   "cell_type": "code",
   "execution_count": 29,
   "metadata": {},
   "outputs": [
    {
     "data": {
      "text/plain": [
       "array([6320.636 , 8178.447 , 9926.237 , ..., 4970.139 , 4788.8525,\n",
       "       5481.2456], dtype=float32)"
      ]
     },
     "execution_count": 29,
     "metadata": {},
     "output_type": "execute_result"
    }
   ],
   "source": [
    "# mass of star particle [M_sun]\n",
    "# note that star particles are created with an initial mass of ~7070 Msun, \n",
    "# but because of stellar mass loss they can be less massive by z = 0\n",
    "# a few star particles form from slightly higher-mass gas particles\n",
    "# (because gas particles gain mass via stellar mass loss)\n",
    "# so some star particles are a little more massive than 7070 Msun\n",
    "\n",
    "part['star']['mass']"
   ]
  },
  {
   "cell_type": "code",
   "execution_count": 30,
   "metadata": {},
   "outputs": [
    {
     "data": {
      "text/plain": [
       "array([0.37762484, 0.6921514 , 0.81758887, ..., 0.3989209 , 0.27083597,\n",
       "       0.24325013], dtype=float32)"
      ]
     },
     "execution_count": 30,
     "metadata": {},
     "output_type": "execute_result"
    }
   ],
   "source": [
    "# formation scale-factor of star particle\n",
    "\n",
    "part['star']['form.scalefactor']"
   ]
  },
  {
   "cell_type": "code",
   "execution_count": 31,
   "metadata": {},
   "outputs": [
    {
     "data": {
      "text/plain": [
       "array([ 9.7604   ,  4.6589947,  2.6762066, ...,  9.430905 , 11.310935 ,\n",
       "       11.676169 ], dtype=float32)"
      ]
     },
     "execution_count": 31,
     "metadata": {},
     "output_type": "execute_result"
    }
   ],
   "source": [
    "# or more usefully, the current age of star particle (the lookback time to when it formed) [Gyr]\n",
    "\n",
    "part['star']['age']"
   ]
  },
  {
   "cell_type": "code",
   "execution_count": 32,
   "metadata": {},
   "outputs": [
    {
     "data": {
      "text/plain": [
       "array([169771.5  ,  11979.097,  12643.253, ..., 133008.78 , 134697.44 ,\n",
       "       164163.73 ], dtype=float32)"
      ]
     },
     "execution_count": 32,
     "metadata": {},
     "output_type": "execute_result"
    }
   ],
   "source": [
    "# gravitational potential at position of star particle [km^2 / s^2 physical]\n",
    "# note: normalization is arbitrary\n",
    "\n",
    "part['star']['potential']"
   ]
  },
  {
   "cell_type": "code",
   "execution_count": 34,
   "metadata": {},
   "outputs": [
    {
     "data": {
      "text/plain": [
       "array([22233198, 58828888, 41128444, ...,  3191442,  6093691, 56923335],\n",
       "      dtype=uint32)"
      ]
     },
     "execution_count": 34,
     "metadata": {},
     "output_type": "execute_result"
    }
   ],
   "source": [
    "# ID of star particle\n",
    "# NOTE: Ananke uses/references the *index* (within this array) of star particles, *not* their ID!\n",
    "# (because for technical reasons some star particles can end up with the same ID)\n",
    "# So you generally should never have to use this ID!\n",
    "\n",
    "part['star']['id']"
   ]
  },
  {
   "cell_type": "markdown",
   "metadata": {},
   "source": [
    "# metallicities"
   ]
  },
  {
   "cell_type": "code",
   "execution_count": 35,
   "metadata": {},
   "outputs": [
    {
     "data": {
      "text/plain": [
       "array([[6.04377082e-03, 2.55347848e-01, 7.11850182e-04, ...,\n",
       "        1.08932793e-04, 1.17983473e-05, 2.19293885e-04],\n",
       "       [3.20439041e-02, 2.82981664e-01, 4.98278392e-03, ...,\n",
       "        5.37819054e-04, 5.91386015e-05, 1.30377908e-03],\n",
       "       [4.61774506e-02, 3.00529242e-01, 8.21984094e-03, ...,\n",
       "        7.05782557e-04, 7.78364774e-05, 1.77960587e-03],\n",
       "       ...,\n",
       "       [7.93497020e-04, 2.50798583e-01, 1.08723485e-04, ...,\n",
       "        1.41600467e-05, 1.54716554e-06, 3.10332689e-05],\n",
       "       [5.39982211e-05, 2.50072241e-01, 1.16227175e-05, ...,\n",
       "        1.47106300e-06, 1.88378863e-07, 8.77307502e-06],\n",
       "       [1.95024582e-03, 2.51242638e-01, 1.45905753e-04, ...,\n",
       "        3.65135165e-05, 3.92668244e-06, 6.71647067e-05]], dtype=float32)"
      ]
     },
     "execution_count": 35,
     "metadata": {},
     "output_type": "execute_result"
    }
   ],
   "source": [
    "# elemental abundance (metallicity) is stored natively as *linear mass fraction*\n",
    "# one value for each element, in a particle_number x element_number array\n",
    "# the first value is the mass fraction of all metals (everything not H, He)\n",
    "# 0 = all metals (everything not H, He), 1 = He, 2 = C, 3 = N, 4 = O, 5 = Ne, 6 = Mg, 7 = Si, 8 = S, 9 = Ca, 10 = Fe\n",
    "\n",
    "part['star']['massfraction']"
   ]
  },
  {
   "cell_type": "code",
   "execution_count": 36,
   "metadata": {},
   "outputs": [
    {
     "name": "stdout",
     "output_type": "stream",
     "text": [
      "[6.0437708e-03 3.2043904e-02 4.6177451e-02 ... 7.9349702e-04 5.3998221e-05\n",
      " 1.9502458e-03]\n",
      "[2.1929388e-04 1.3037791e-03 1.7796059e-03 ... 3.1033269e-05 8.7730750e-06\n",
      " 6.7164707e-05]\n"
     ]
    }
   ],
   "source": [
    "# get individual elements by their index\n",
    "\n",
    "# total metal mass fraction (everything not H, He) is index 0\n",
    "print(part['star']['massfraction'][:, 0])\n",
    "\n",
    "# iron is index 10\n",
    "print(part['star']['massfraction'][:, 10])"
   ]
  },
  {
   "cell_type": "code",
   "execution_count": 37,
   "metadata": {},
   "outputs": [
    {
     "name": "stdout",
     "output_type": "stream",
     "text": [
      "[-0.3457968   0.37864065  0.53732514 ... -1.2275594  -2.3947253\n",
      " -0.8370154 ]\n",
      "[-0.77062804  0.00354949  0.13866928 ... -1.619827   -2.1685026\n",
      " -1.2845135 ]\n",
      "[-0.23240621  0.4630599   0.62019897 ... -1.125268   -2.4857357\n",
      " -0.69058067]\n"
     ]
    }
   ],
   "source": [
    "# for convenience, this reader also stores 'metallicity' := log10(mass_fraction / mass_fraction_solar)\n",
    "# where mass_fraction_solar is from Asplund et al 2009\n",
    "\n",
    "print(part['star']['metallicity.total'])\n",
    "print(part['star']['metallicity.fe'])\n",
    "print(part['star']['metallicity.o'])"
   ]
  },
  {
   "cell_type": "code",
   "execution_count": 38,
   "metadata": {},
   "outputs": [
    {
     "data": {
      "text/plain": [
       "{'hydrogen': {'massfraction': 0.7381},\n",
       " 'helium': {'abundance': 0.08511380382023759, 'massfraction': 0.2485},\n",
       " 'metals': {'massfraction': 0.0134},\n",
       " 'total': {'massfraction': 0.0134},\n",
       " 'carbon': {'abundance': 0.0002691534803926914,\n",
       "  'massfraction': 0.002367134813394483},\n",
       " 'nitrogen': {'abundance': 6.760829753919819e-05,\n",
       "  'massfraction': 0.0006934106379733354},\n",
       " 'oxygen': {'abundance': 0.0004897788193684457,\n",
       "  'massfraction': 0.005737971271592906},\n",
       " 'neon': {'abundance': 8.51138038202376e-05,\n",
       "  'massfraction': 0.0012576777529689648},\n",
       " 'magnesium': {'abundance': 3.9810717055349695e-05,\n",
       "  'massfraction': 0.0007085170384267315},\n",
       " 'silicon': {'abundance': 3.235936569296281e-05,\n",
       "  'massfraction': 0.0006654827968172229},\n",
       " 'sulphur': {'abundance': 1.3182567385564074e-05,\n",
       "  'massfraction': 0.00030951800499730997},\n",
       " 'calcium': {'abundance': 2.1877616239495517e-06,\n",
       "  'massfraction': 6.420379718268677e-05},\n",
       " 'iron': {'abundance': 3.1622776601683795e-05,\n",
       "  'massfraction': 0.0012931667271008657},\n",
       " 'h': {'massfraction': 0.7381},\n",
       " 'he': {'abundance': 0.08511380382023759, 'massfraction': 0.2485},\n",
       " 'c': {'abundance': 0.0002691534803926914,\n",
       "  'massfraction': 0.002367134813394483},\n",
       " 'n': {'abundance': 6.760829753919819e-05,\n",
       "  'massfraction': 0.0006934106379733354},\n",
       " 'o': {'abundance': 0.0004897788193684457,\n",
       "  'massfraction': 0.005737971271592906},\n",
       " 'ne': {'abundance': 8.51138038202376e-05,\n",
       "  'massfraction': 0.0012576777529689648},\n",
       " 'mg': {'abundance': 3.9810717055349695e-05,\n",
       "  'massfraction': 0.0007085170384267315},\n",
       " 'si': {'abundance': 3.235936569296281e-05,\n",
       "  'massfraction': 0.0006654827968172229},\n",
       " 's': {'abundance': 1.3182567385564074e-05,\n",
       "  'massfraction': 0.00030951800499730997},\n",
       " 'ca': {'abundance': 2.1877616239495517e-06,\n",
       "  'massfraction': 6.420379718268677e-05},\n",
       " 'fe': {'abundance': 3.1622776601683795e-05,\n",
       "  'massfraction': 0.0012931667271008657}}"
      ]
     },
     "execution_count": 38,
     "metadata": {},
     "output_type": "execute_result"
    }
   ],
   "source": [
    "# see gizmo_read.constant for assumed solar values (Asplund et al 2009) and other constants\n",
    "\n",
    "gizmo_read.constant.sun_composition"
   ]
  },
  {
   "cell_type": "markdown",
   "metadata": {},
   "source": [
    "# additional information stored in sub-dictionaries"
   ]
  },
  {
   "cell_type": "code",
   "execution_count": 42,
   "metadata": {},
   "outputs": [
    {
     "data": {
      "text/plain": [
       "{'particle.numbers.in.file': array([13818978, 17322170,  1679251,        0,  3829217,        0],\n",
       "       dtype=int32),\n",
       " 'particle.numbers.total': array([57060074, 70514272,  5513331,        0, 13976485,        0],\n",
       "       dtype=uint32),\n",
       " 'particle.numbers.total.high.word': array([0, 0, 0, 0, 0, 0], dtype=uint32),\n",
       " 'particle.masses': array([0., 0., 0., 0., 0., 0.]),\n",
       " 'redshift': 0.0,\n",
       " 'box.length': 85470.08547008547,\n",
       " 'file.number.per.snapshot': 4,\n",
       " 'omega_matter': 0.272,\n",
       " 'omega_lambda': 0.728,\n",
       " 'hubble': 0.702,\n",
       " 'has.star.formation': 1,\n",
       " 'has.cooling': 1,\n",
       " 'has.star.age': 1,\n",
       " 'has.metals': 11,\n",
       " 'has.feedback': 1,\n",
       " 'has.double.precision': 0,\n",
       " 'has.ic.info': 3,\n",
       " 'compression.level': 0,\n",
       " 'compression.readme': 'This snapshot is part of the Feedback in Realistic Environments (FIRE) project -- Use, modification, or distribution only permitted with approval of the PI and the FIRE team -- No warranty, use at your own risk -- compactify_hdf5 (c) RF 2018',\n",
       " 'compression.version': 'v0.2',\n",
       " 'scalefactor': 1.0,\n",
       " 'box.length/h': 60000.0}"
      ]
     },
     "execution_count": 42,
     "metadata": {},
     "output_type": "execute_result"
    }
   ],
   "source": [
    "# dictionary of 'header' information about the simulation\n",
    "\n",
    "part.info"
   ]
  },
  {
   "cell_type": "code",
   "execution_count": 43,
   "metadata": {},
   "outputs": [
    {
     "data": {
      "text/plain": [
       "{'index': 600,\n",
       " 'redshift': 0.0,\n",
       " 'scalefactor': 1.0,\n",
       " 'time': 13.798746882657937,\n",
       " 'time.lookback': -13.798746882657955,\n",
       " 'time.hubble': 13.928664125669004}"
      ]
     },
     "execution_count": 43,
     "metadata": {},
     "output_type": "execute_result"
    }
   ],
   "source": [
    "# dictionary of information about this snapshot's scale-factor, redshift, time, lookback-time\n",
    "\n",
    "part.snapshot"
   ]
  },
  {
   "cell_type": "code",
   "execution_count": 44,
   "metadata": {},
   "outputs": [
    {
     "data": {
      "text/plain": [
       "{'omega_lambda': 0.728,\n",
       " 'omega_matter': 0.272,\n",
       " 'omega_baryon': 0.0455,\n",
       " 'omega_curvature': 0.0,\n",
       " 'omega_dm': 0.22650000000000003,\n",
       " 'baryon.fraction': 0.16727941176470587,\n",
       " 'hubble': 0.702,\n",
       " 'sigma_8': 0.807,\n",
       " 'n_s': 0.961,\n",
       " 'w': -1.0}"
      ]
     },
     "execution_count": 44,
     "metadata": {},
     "output_type": "execute_result"
    }
   ],
   "source": [
    "# dictionary class of cosmological parameters, with function for cosmological conversions\n",
    "\n",
    "part.Cosmology"
   ]
  },
  {
   "cell_type": "markdown",
   "metadata": {},
   "source": [
    "See gizmo_read.constant for assumed (astro)physical constants used throughout.\n",
    "\n",
    "See gizmo_read.coordinate for more coordiante transformation, zoom-in center "
   ]
  },
  {
   "cell_type": "code",
   "execution_count": null,
   "metadata": {},
   "outputs": [],
   "source": []
  }
 ],
 "metadata": {
  "anaconda-cloud": {},
  "kernelspec": {
   "display_name": "Python 3",
   "language": "python",
   "name": "python3"
  },
  "language_info": {
   "codemirror_mode": {
    "name": "ipython",
    "version": 3
   },
   "file_extension": ".py",
   "mimetype": "text/x-python",
   "name": "python",
   "nbconvert_exporter": "python",
   "pygments_lexer": "ipython3",
   "version": "3.8.5"
  }
 },
 "nbformat": 4,
 "nbformat_minor": 1
}
