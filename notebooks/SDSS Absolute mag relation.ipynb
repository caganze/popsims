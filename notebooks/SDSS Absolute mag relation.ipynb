{
 "cells": [
  {
   "cell_type": "code",
   "execution_count": 1,
   "metadata": {},
   "outputs": [
    {
     "name": "stdout",
     "output_type": "stream",
     "text": [
      "Adding 145 sources from /Users/caganze/research/splat//resources/Spectra/Public/LRIS-RED/ to spectral database\n",
      "Adding 89 sources from /Users/caganze/research/splat//resources/Spectra/Public/MAGE/ to spectral database\n",
      "Adding 2404 sources from /Users/caganze/research/splat//resources/Spectra/Public/SPEX-PRISM/ to spectral database\n"
     ]
    }
   ],
   "source": [
    "import pandas as pd\n",
    "from astropy.io import ascii, fits\n",
    "from io import StringIO\n",
    "import splat\n",
    "import numpy as np\n",
    "import popsims\n",
    "import matplotlib.pyplot as plt\n",
    "#plt.style.use('fivethirtyeight')\n",
    "from scipy.interpolate import interp1d"
   ]
  },
  {
   "cell_type": "code",
   "execution_count": 2,
   "metadata": {},
   "outputs": [],
   "source": [
    "%matplotlib inline"
   ]
  },
  {
   "cell_type": "code",
   "execution_count": 3,
   "metadata": {},
   "outputs": [],
   "source": [
    "#Hawley2002 relations\n",
    "t=r\"\"\"SpectralType, r−i, i−z, z−J, i−J, MJ\n",
    "M0,0.91(0.24),0.49(0.06),1.42(0.50),1.93(0.50),6.45\n",
    "M1,0.99(0.28),0.50(0.29),1.25(0.08),1.78(0.10),6.72\n",
    "M2,1.09(0.26),0.62(0.17),1.36(0.18),1.94(0.20),6.98\n",
    "M3,1.29(0.32),0.73(0.24),1.38(0.12),2.08(0.13),7.24\n",
    "M4,1.57(0.33),0.87(0.32),1.52(0.13),2.39(0.17),8.34\n",
    "M5,1.98(0.25),1.09(0.13),1.65(0.09),2.72(0.13),9.44\n",
    "M6,2.27(0.19),1.27(0.14),1.74(0.08),2.99(0.19),10.18\n",
    "M7,2.67(0.22),1.52(0.11),1.95(0.16),3.47(0.24),10.92\n",
    "M8,2.82(0.28),1.62(0.11),2.04(0.12),3.72(0.19),11.14\n",
    "M9,2.89(0.44),1.79(0.20),2.23(0.14),4.09(0.28),11.43\n",
    "L0,2.64(0.25),1.85(0.11),2.36(0.14),4.23(0.19),11.72\n",
    "L1,2.56(0.27),1.92(0.08),2.52(0.08),4.45(0.08),12.00\n",
    "L2,2.50(0.47),1.85(0.09),2.76(0.36),4.64(0.45),12.29\n",
    "L3,2.34(0.39),2.00(0.24),2.71(0.19),4.84(0.50),12.58\n",
    "L4,2.38(0.27),2.26(0.13),2.80(0.08),5.06(0.18),12.87\n",
    "L5,2.00(0.40),2.47(0.12),2.74(0.23),5.21(0.32),13.16\n",
    "L6,2.79(0.69),2.40(0.19),2.86(0.15),5.27(0.20),14.31\n",
    "L7,2.31(0.50),2.98(0.50),2.93(0.50),5.91(0.50),14.45\n",
    "L8,2.19(0.91),3.15(0.32),2.93(0.02),6.11(0.47),14.58\n",
    "L9,2.33(0.50),3.18(0.50),2.86(0.50),6.04(0.50),14.72\n",
    "T0,2.43(0.50),2.88(0.50),2.88(0.50),5.76(0.50),14.86\n",
    "T1,1.47(0.50),3.39(0.50),3.20(0.50),6.59(0.50),14.99\n",
    "T2,1.80(0.50),4.25(0.50),3.13(0.50),7.38(0.50),15.13\n",
    "T3,1.16(0.33),3.48(0.56),3.27(0.31),6.75(0.87),15.27\n",
    "T4,1.04(0.52),3.82(2.02),3.53(0.06),7.35(2.09),15.40\n",
    "T6,1.96(0.96),4.00(0.33),3.49(0.06),7.49(0.33),15.68\"\"\""
   ]
  },
  {
   "cell_type": "code",
   "execution_count": 4,
   "metadata": {},
   "outputs": [],
   "source": [
    "def get_num_and_unc(st):\n",
    "    return [float(st.split('(')[0]), float(st.split('(')[-1].split(')')[0])]"
   ]
  },
  {
   "cell_type": "code",
   "execution_count": 5,
   "metadata": {},
   "outputs": [
    {
     "data": {
      "text/plain": [
       "[0.49, 0.06]"
      ]
     },
     "execution_count": 5,
     "metadata": {},
     "output_type": "execute_result"
    }
   ],
   "source": [
    "get_num_and_unc('0.49(0.06)')"
   ]
  },
  {
   "cell_type": "code",
   "execution_count": 6,
   "metadata": {},
   "outputs": [],
   "source": [
    "df=pd.read_csv(StringIO(t), sep=',')\n",
    "df[[' r−i', ' i−z', ' z−J', ' i−J']]=df[[' r−i', ' i−z', ' z−J', ' i−J']].applymap(get_num_and_unc)"
   ]
  },
  {
   "cell_type": "code",
   "execution_count": 7,
   "metadata": {},
   "outputs": [],
   "source": [
    "df[' MJ']=df[' MJ'].apply(float)"
   ]
  },
  {
   "cell_type": "code",
   "execution_count": 8,
   "metadata": {},
   "outputs": [
    {
     "data": {
      "text/plain": [
       "Index(['SpectralType', ' r−i', ' i−z', ' z−J', ' i−J', ' MJ'], dtype='object')"
      ]
     },
     "execution_count": 8,
     "metadata": {},
     "output_type": "execute_result"
    }
   ],
   "source": [
    "df.columns"
   ]
  },
  {
   "cell_type": "code",
   "execution_count": 9,
   "metadata": {},
   "outputs": [],
   "source": [
    "#remove empty spaces\n",
    "df.columns=['SpectralType', 'r-i', 'i-z', 'z-J', 'i-J', 'MJ']"
   ]
  },
  {
   "cell_type": "code",
   "execution_count": 10,
   "metadata": {},
   "outputs": [],
   "source": [
    "DATA_FOLDER='/volumes/Lacie/popsimsdata//'"
   ]
  },
  {
   "cell_type": "code",
   "execution_count": 11,
   "metadata": {},
   "outputs": [],
   "source": [
    "#chris-table\n",
    "christ_class=pd.read_csv(DATA_FOLDER+'/Optical_MLTs_ctheissen.csv')\n",
    "christ_phot=pd.read_csv(DATA_FOLDER+'/Optical_MLTs_photometry_ctheissen.csv')\n"
   ]
  },
  {
   "cell_type": "code",
   "execution_count": 12,
   "metadata": {},
   "outputs": [],
   "source": [
    "#christ_class.drop3na?"
   ]
  },
  {
   "cell_type": "code",
   "execution_count": 13,
   "metadata": {},
   "outputs": [],
   "source": [
    "christ_class=christ_class[['objid', 'class', 'subclass']].dropna(subset=['objid'])\n",
    "christ_class.objid=christ_class.objid.astype(int)\n",
    "christ_phot.objid=christ_phot.dropna(subset=['objid']).objid.astype(int)"
   ]
  },
  {
   "cell_type": "code",
   "execution_count": 14,
   "metadata": {},
   "outputs": [],
   "source": [
    "#do an interp method\n",
    "chis_df=christ_phot.merge(christ_class, on='objid')"
   ]
  },
  {
   "cell_type": "code",
   "execution_count": 15,
   "metadata": {},
   "outputs": [
    {
     "data": {
      "text/plain": [
       "756"
      ]
     },
     "execution_count": 15,
     "metadata": {},
     "output_type": "execute_result"
    }
   ],
   "source": [
    "len(chis_df)"
   ]
  },
  {
   "cell_type": "code",
   "execution_count": 16,
   "metadata": {},
   "outputs": [],
   "source": [
    "chis_df.to_csv('/volumes/Lacie/ctheissen_sdss_gaia.csv')"
   ]
  },
  {
   "cell_type": "code",
   "execution_count": 17,
   "metadata": {},
   "outputs": [],
   "source": [
    "#gh"
   ]
  },
  {
   "cell_type": "code",
   "execution_count": 18,
   "metadata": {},
   "outputs": [],
   "source": [
    "import splat.empirical as spe"
   ]
  },
  {
   "cell_type": "code",
   "execution_count": 19,
   "metadata": {},
   "outputs": [],
   "source": [
    "schmidt_rel=splat.SPT_COLORS_RELATIONS['schmidt2015']['colors']"
   ]
  },
  {
   "cell_type": "code",
   "execution_count": 20,
   "metadata": {},
   "outputs": [
    {
     "data": {
      "text/plain": [
       "{'SDSS_I-SDSS_Z': {'spt': [17, 18, 19, 20, 21, 22, 23, 25],\n",
       "  'values': [1.17, 1.48, 1.66, 1.82, 1.81, 1.86, 2.13]},\n",
       " 'SDSS_I-2MASS_J': {'spt': [17, 18, 19, 20, 21, 22, 23, 25],\n",
       "  'values': [3.86, 4.42, 4.91, 5.44, 5.73, 5.83, 5.95, 6.4]},\n",
       " 'SDSS_Z-2MASS_J': {'spt': [17, 18, 19, 20, 21, 22, 23, 25, 26],\n",
       "  'values': [1.72, 1.95, 2.14, 2.37, 2.5, 2.59, 2.67, 2.82, 2.76]},\n",
       " '2MASS_J-2MASS_H': {'spt': [17, 18, 19, 20, 21, 22, 24, 23, 25, 26],\n",
       "  'values': [0.61, 0.64, 0.68, 0.74, 0.8, 0.89, 0.91, 0.91, 0.95, 0.96]},\n",
       " '2MASS_J-2MASS_KS': {'spt': [17, 18, 19, 20, 21, 22, 24, 23, 25, 26],\n",
       "  'values': [0.96, 1.03, 1.12, 1.2, 1.31, 1.45, 1.52, 1.47, 1.53, 1.54]},\n",
       " '2MASS_H-2MASS_KS': {'spt': [17, 18, 19, 20, 21, 22, 24, 23, 25, 26],\n",
       "  'values': [0.34, 0.39, 0.43, 0.46, 0.52, 0.56, 0.63, 0.58, 0.6, 0.59]},\n",
       " '2MASS_KS-WISE_W1': {'spt': [17, 18, 19, 20, 21, 22, 24, 23, 25, 26],\n",
       "  'values': [0.18, 0.2, 0.25, 0.32, 0.37, 0.44, 0.41, 0.55, 0.61, 0.75]},\n",
       " 'WISE_W1-WISE_W2': {'spt': [17, 18, 19, 20, 21, 22, 24, 23, 25, 26],\n",
       "  'values': [0.2, 0.22, 0.24, 0.27, 0.26, 0.27, 0.31, 0.28, 0.3, 0.34]},\n",
       " 'WISE_W2-WISE_W3': {'spt': [17, 18, 19, 20, 23],\n",
       "  'values': [0.29, 0.34, 0.42, 0.44, 0.78]}}"
      ]
     },
     "execution_count": 20,
     "metadata": {},
     "output_type": "execute_result"
    }
   ],
   "source": [
    "schmidt_rel"
   ]
  },
  {
   "cell_type": "code",
   "execution_count": 21,
   "metadata": {},
   "outputs": [
    {
     "data": {
      "text/plain": [
       "Index(['SpectralType', 'r-i', 'i-z', 'z-J', 'i-J', 'MJ'], dtype='object')"
      ]
     },
     "execution_count": 21,
     "metadata": {},
     "output_type": "execute_result"
    }
   ],
   "source": [
    "df.columns"
   ]
  },
  {
   "cell_type": "code",
   "execution_count": 22,
   "metadata": {},
   "outputs": [],
   "source": [
    "spgrid= np.arange(10, 39)\n"
   ]
  },
  {
   "cell_type": "code",
   "execution_count": 23,
   "metadata": {},
   "outputs": [
    {
     "name": "stderr",
     "output_type": "stream",
     "text": [
      "findfont: Font family ['serif'] not found. Falling back to DejaVu Sans.\n"
     ]
    },
    {
     "data": {
      "text/plain": [
       "[(0.0, 3.0)]"
      ]
     },
     "execution_count": 23,
     "metadata": {},
     "output_type": "execute_result"
    },
    {
     "data": {
      "image/png": "[encoded data removed]",
      "text/plain": [
       "<Figure size 720x432 with 4 Axes>"
      ]
     },
     "metadata": {
      "needs_background": "light"
     },
     "output_type": "display_data"
    }
   ],
   "source": [
    "fig, ((ax, ax1), (ax2, ax3))=plt.subplots(ncols=2,  nrows=2, \\\n",
    "                                          figsize=(10, 6), sharey=True)\n",
    "col='i-z'\n",
    "ax.scatter(chis_df['psfmag_i']-chis_df['psfmag_z'], \n",
    "            chis_df['subclass'].apply(splat.typeToNum),\\\n",
    "           c='k', alpha=0.1, s=100, label='CT SDSS')\n",
    "\n",
    "ax1.scatter(chis_df['psfmag_r']-chis_df['psfmag_i'], \n",
    "            chis_df['subclass'].apply(splat.typeToNum),\\\n",
    "           c='k',alpha=0.1, s=100, label='C SDSS')\n",
    "\n",
    "for col, a in zip(['i-z', 'r-i', 'i-J', 'z-J'], [ax, ax1, ax2, ax3]):\n",
    "\n",
    "    a.plot(np.vstack(df[col].values)[:,0],\\\n",
    "            df.SpectralType.apply(splat.typeToNum).values, \n",
    "          label='hawley02')\n",
    "\n",
    "    a.errorbar(np.vstack(df[col].values)[:,0],\\\n",
    "            df.SpectralType.apply(splat.typeToNum).values, \\\n",
    "                xerr=np.vstack(df[col].values)[:,1], fmt='o')\n",
    "   \n",
    "\n",
    "    a.set(xlabel='('+col+')*', ylabel='Spectral Type (M0=10)')\n",
    "ax2.plot(spe.typeToColor(spgrid, 'SDSS_I-2MASS_J', \\\n",
    "                            reference='schmidt2015')[0], \\\n",
    "         spgrid, \\\n",
    "         label='Schmidt15', c='r')\n",
    "ax3.plot(spe.typeToColor(spgrid, 'SDSS_Z-2MASS_J', \\\n",
    "                            reference='schmidt2015')[0], \\\n",
    "         spgrid, \\\n",
    "         label='Schmidt15', c='r')\n",
    "ax2.legend(loc='upper right')\n",
    "plt.tight_layout()\n",
    "ax.invert_yaxis()\n",
    "ax1.set(xlim=[0, 3])"
   ]
  },
  {
   "cell_type": "code",
   "execution_count": 24,
   "metadata": {},
   "outputs": [],
   "source": [
    "SCHMIDT_COLOR_MI_RELATIONS={'i-z': [(7.13, 0.23), (4.88, 0.15), [1.0, 2.9]],\\\n",
    "                        'i-J': [(5.17, 0.27), (2.61, 0.08), [2.5, 5,8]], \\\n",
    "                        'i-k': [(5.41, 0.30), (1.95, 0.07), [3.4, 7.5]]}\n",
    "\n",
    "def absolute_mag_color_schmidt(x, color_key):\n",
    "    #x is a float\n",
    "    coeffs= SCHMIDT_COLOR_RELATIONS[color_key]\n",
    "    #linear regression \n",
    "    a0= np.random.normal(coeffs[0][0], coeffs[0][-1], 1000)\n",
    "    a1=np.random.normal(coeffs[1][0], coeffs[1][-1], 1000)\n",
    "    y= a0+a1*x\n",
    "    #trim                  \n",
    "    y=y[np.logical_and(x >coeffs[-1][0], x <coeffs[-1][-1])]\n",
    "    return np.nanmean(y), np.nanstd(y)\n",
    "\n",
    "def absolute_mag_spt_schmidt(spt, flt):\n",
    "    return \n"
   ]
  },
  {
   "cell_type": "code",
   "execution_count": 25,
   "metadata": {},
   "outputs": [],
   "source": [
    "pol={'colors': {'hawley2002' : {}}}"
   ]
  },
  {
   "cell_type": "code",
   "execution_count": 26,
   "metadata": {},
   "outputs": [],
   "source": [
    "for k in ['r-i', 'i-z', 'z-J', 'i-J']:\n",
    "    dic={k:{'pol': interp1d(df.SpectralType.apply(splat.typeToNum).values, \\\n",
    "                               np.vstack(df[k].values)[:,0], \\\n",
    "                            bounds_error=False,\n",
    "                           fill_value=np.nan) ,\\\n",
    "            'method': 'interpolation',\\\n",
    "            'vals':  np.vstack(df[k].values)[:,0] ,\\\n",
    "            'spt': df.SpectralType.apply(splat.typeToNum).values, \\\n",
    "            'unc':   np.vstack(df[k].values)[:,1]}}\n",
    "    pol['colors']['hawley2002'].update(dic)"
   ]
  },
  {
   "cell_type": "code",
   "execution_count": 27,
   "metadata": {},
   "outputs": [],
   "source": [
    "ABS_MAG_FILE='/users/caganze/research/popsims/data/polynomial_relations.pkl'"
   ]
  },
  {
   "cell_type": "code",
   "execution_count": 28,
   "metadata": {},
   "outputs": [],
   "source": [
    "abs_mag_data=pd.read_pickle(ABS_MAG_FILE)"
   ]
  },
  {
   "cell_type": "code",
   "execution_count": 29,
   "metadata": {},
   "outputs": [],
   "source": [
    "abs_mag_data.update(pol)"
   ]
  },
  {
   "cell_type": "code",
   "execution_count": 34,
   "metadata": {},
   "outputs": [
    {
     "data": {
      "text/plain": [
       "{'WFIRST_WFIJ': (poly1d([-1.17846846e-06,  2.03675645e-04, -1.41916784e-02,  5.11571631e-01,\n",
       "         -1.00931495e+01,  1.03974118e+02, -4.27734425e+02]),\n",
       "  0.4002623636462089),\n",
       " 'WFIRST_WFIY': (poly1d([-9.99077723e-07,  1.77554605e-04, -1.26758839e-02,  4.66966198e-01,\n",
       "         -9.39365321e+00,  9.84026038e+01, -4.10496689e+02]),\n",
       "  0.4003676102560627),\n",
       " 'WFIRST_WFIZ': (poly1d([-1.33596080e-06,  2.34737193e-04, -1.66183074e-02,  6.07640605e-01,\n",
       "         -1.21218881e+01,  1.25506376e+02, -5.18787029e+02]),\n",
       "  0.4052036750417236),\n",
       " 'WFIRST_WFIH': (poly1d([-1.42368157e-06,  2.43824138e-04, -1.69136114e-02,  6.09312051e-01,\n",
       "         -1.20436327e+01,  1.24307799e+02, -5.13986641e+02]),\n",
       "  0.40028829145343264),\n",
       " 'WFIRST_WFIF': (poly1d([-1.47647684e-06,  2.46378198e-04, -1.67272739e-02,  5.91700330e-01,\n",
       "         -1.15152016e+01,  1.17350239e+02, -4.79614491e+02]),\n",
       "  0.4004525141313059),\n",
       " 'WFIRST_WFIR': (poly1d([-6.33751218e-06,  1.01951256e-03, -6.67149192e-02,  2.27030096e+00,\n",
       "         -4.23377183e+01,  4.10308377e+02, -1.60123329e+03]),\n",
       "  1.2132006679832648),\n",
       " 'EUCLID_J': (poly1d([-1.28573097e-06,  2.21357568e-04, -1.53714532e-02,  5.52292955e-01,\n",
       "         -1.08598423e+01,  1.11453087e+02, -4.58273278e+02]),\n",
       "  0.400266338244935),\n",
       " 'EUCLID_H': (poly1d([-1.49358037e-06,  2.54689319e-04, -1.75949558e-02,  6.31309893e-01,\n",
       "         -1.24295766e+01,  1.27823426e+02, -5.28402258e+02]),\n",
       "  0.40034263044610857),\n",
       " 'EUCLID_Y': (poly1d([-9.58352748e-07,  1.70413103e-04, -1.21688906e-02,  4.48329187e-01,\n",
       "         -9.02022035e+00,  9.45503709e+01, -3.95100758e+02]),\n",
       "  0.4003053833028395),\n",
       " 'LSST_Y': (poly1d([-1.05234363e-06,  1.88211788e-04, -1.35203566e-02,  5.00948831e-01,\n",
       "         -1.01255739e+01,  1.06371275e+02, -4.45033593e+02]),\n",
       "  0.40071420131873275),\n",
       " 'LSST_Z': (poly1d([-1.75453514e-06,  3.03637407e-04, -2.12392287e-02,  7.68984452e-01,\n",
       "         -1.52108097e+01,  1.56211608e+02, -6.42496580e+02]),\n",
       "  0.4059493654729093),\n",
       " 'LSST_R': (poly1d([-5.02313825e-06,  8.24678028e-04, -5.51912726e-02,  1.92603494e+00,\n",
       "         -3.69622849e+01,  3.70382294e+02, -1.50413026e+03]),\n",
       "  1.3350040801716772),\n",
       " 'NIRCAM_F115W': (poly1d([-1.03394623e-06,  1.81055595e-04, -1.27607372e-02,  4.64837503e-01,\n",
       "         -9.26128393e+00,  9.62893355e+01, -3.99033550e+02]),\n",
       "  0.40020001931355803),\n",
       " 'NIRCAM_F140M': (poly1d([-3.00737100e-06,  4.96233145e-04, -3.33779601e-02,  1.17122609e+00,\n",
       "         -2.26167826e+01,  2.28198494e+02, -9.30468898e+02]),\n",
       "  0.4005680812785495),\n",
       " 'NIRCAM_F150W': (poly1d([-1.45261404e-06,  2.48338658e-04, -1.72027942e-02,  6.19109598e-01,\n",
       "         -1.22288962e+01,  1.26144724e+02, -5.21479022e+02]),\n",
       "  0.4003122983215323),\n",
       " 'NIRCAM_F200W': (poly1d([-1.17818809e-06,  1.80757792e-04, -1.13780149e-02,  3.76291879e-01,\n",
       "         -6.90959543e+00,  6.72690503e+01, -2.61736397e+02]),\n",
       "  0.4004409795733951),\n",
       " 'WFC3_F110W': (poly1d([-1.06599454e-06,  1.86489554e-04, -1.31321477e-02,  4.77876781e-01,\n",
       "         -9.50857679e+00,  9.86797418e+01, -4.08332990e+02]),\n",
       "  0.4002977634545415),\n",
       " 'WFC3_F140W': (poly1d([-1.30167640e-06,  2.23839106e-04, -1.55263562e-02,  5.57262728e-01,\n",
       "         -1.09463772e+01,  1.12233175e+02, -4.60063354e+02]),\n",
       "  0.4002790094867364),\n",
       " 'WFC3_F160W': (poly1d([-1.45702454e-06,  2.48997957e-04, -1.72413589e-02,  6.20215757e-01,\n",
       "         -1.22447004e+01,  1.26248116e+02, -5.21653947e+02]),\n",
       "  0.400285503342729),\n",
       " '2MASS_K': (poly1d([-7.50081860e-08,  1.08976472e-05, -5.43344779e-04,  1.11339938e-02,\n",
       "         -7.88182488e-02,  3.16973701e-01,  3.67769087e+00]),\n",
       "  0.05),\n",
       " 'WISE_W1': (poly1d([ 1.92362602e-07, -4.43501773e-05,  4.06518387e-03, -1.89438460e-01,\n",
       "          4.74798439e+00, -6.06614803e+01,  3.21370318e+02]),\n",
       "  0.63),\n",
       " 'subdwarfs': {'NIRCAM_F115W': (poly1d([ 8.59716989e-05, -1.14727689e-02,  6.27634834e-01, -1.80160810e+01,\n",
       "           2.86241171e+02, -2.38707802e+03,  8.17499248e+03]),\n",
       "   0.40019686877160904),\n",
       "  'NIRCAM_F140M': (poly1d([-2.48673490e-05,  3.41035240e-03, -1.92615905e-01,  5.73585562e+00,\n",
       "          -9.50161553e+01,  8.30744196e+02, -2.98669797e+03]),\n",
       "   0.40098082931423384),\n",
       "  'NIRCAM_F150W': (poly1d([-2.20566593e-05,  3.06288786e-03, -1.75176466e-01,  5.28113837e+00,\n",
       "          -8.85176405e+01,  7.82490016e+02, -2.84124676e+03]),\n",
       "   0.400538160588331),\n",
       "  'NIRCAM_F200W': (poly1d([-4.86069060e-06,  6.81725886e-04, -3.96132915e-02,  1.22121515e+00,\n",
       "          -2.10768159e+01,  1.93435529e+02, -7.27666810e+02]),\n",
       "   0.401357976905252),\n",
       "  'VISTA_Z': (poly1d([ 1.91721190e-04, -2.31965433e-02,  1.15763397e+00, -3.04940005e+01,\n",
       "           4.47051299e+02, -3.45699510e+03,  1.10200400e+04]),\n",
       "   0.401052454032932),\n",
       "  'VISTA_Y': (poly1d([ 1.23644413e-04, -1.47079347e-02,  7.21559121e-01, -1.86836937e+01,\n",
       "           2.69228760e+02, -2.04582124e+03,  6.40929710e+03]),\n",
       "   0.400448233828598),\n",
       "  'VISTA_J': (poly1d([ 1.76179079e-05, -2.12746778e-03,  1.05414092e-01, -2.73779945e+00,\n",
       "           3.92013883e+01, -2.91930113e+02,  8.87306911e+02]),\n",
       "   0.40033990261129443),\n",
       "  'VISTA_H': (poly1d([ 4.69847833e-05, -5.59696128e-03,  2.74673480e-01, -7.10234042e+00,\n",
       "           1.01940121e+02, -7.68614346e+02,  2.38285770e+03]),\n",
       "   0.4012324804967851),\n",
       "  'VISTA_KS': (poly1d([ 4.09807901e-05, -4.81069579e-03,  2.32311648e-01, -5.90074808e+00,\n",
       "           8.30194042e+01, -6.11836709e+02,  1.84917563e+03]),\n",
       "   0.4019750091348818),\n",
       "  'UKIDSS_Z': (poly1d([ 1.87071198e-04, -2.26306239e-02,  1.12921077e+00, -2.97400321e+01,\n",
       "           4.35911757e+02, -3.37008888e+03,  1.07403870e+04]),\n",
       "   0.4010400158373101),\n",
       "  'UKIDSS_Y': (poly1d([ 1.05472229e-04, -1.25663351e-02,  6.17401917e-01, -1.60072179e+01,\n",
       "           2.30895803e+02, -1.75563745e+03,  5.50209505e+03]),\n",
       "   0.40036104571812714),\n",
       "  'UKIDSS_J': (poly1d([ 1.44701295e-05, -1.75359987e-03,  8.70871053e-02, -2.26313017e+00,\n",
       "           3.23496290e+01, -2.39659566e+02,  7.22650438e+02]),\n",
       "   0.40032417302085144),\n",
       "  'UKIDSS_H': (poly1d([ 4.70261823e-05, -5.60515707e-03,  2.75242069e-01, -7.12151491e+00,\n",
       "           1.02282441e+02, -7.71731601e+02,  2.39426316e+03]),\n",
       "   0.4012167797457208),\n",
       "  'UKIDSS_K': (poly1d([ 4.00391739e-05, -4.68902670e-03,  2.25850562e-01, -5.72025784e+00,\n",
       "           8.02217994e+01, -5.89020652e+02,  1.77272895e+03]),\n",
       "   0.4022188400061321)},\n",
       " 'colors': {'hawley2002': {'r-i': {'pol': <scipy.interpolate.interpolate.interp1d at 0x7ffb69d0e450>,\n",
       "    'method': 'interpolation',\n",
       "    'vals': array([0.91, 0.99, 1.09, 1.29, 1.57, 1.98, 2.27, 2.67, 2.82, 2.89, 2.64,\n",
       "           2.56, 2.5 , 2.34, 2.38, 2.  , 2.79, 2.31, 2.19, 2.33, 2.43, 1.47,\n",
       "           1.8 , 1.16, 1.04, 1.96]),\n",
       "    'spt': array([10., 11., 12., 13., 14., 15., 16., 17., 18., 19., 20., 21., 22.,\n",
       "           23., 24., 25., 26., 27., 28., 29., 30., 31., 32., 33., 34., 36.]),\n",
       "    'unc': array([0.24, 0.28, 0.26, 0.32, 0.33, 0.25, 0.19, 0.22, 0.28, 0.44, 0.25,\n",
       "           0.27, 0.47, 0.39, 0.27, 0.4 , 0.69, 0.5 , 0.91, 0.5 , 0.5 , 0.5 ,\n",
       "           0.5 , 0.33, 0.52, 0.96])},\n",
       "   'i-z': {'pol': <scipy.interpolate.interpolate.interp1d at 0x7ffb69d12d60>,\n",
       "    'method': 'interpolation',\n",
       "    'vals': array([0.49, 0.5 , 0.62, 0.73, 0.87, 1.09, 1.27, 1.52, 1.62, 1.79, 1.85,\n",
       "           1.92, 1.85, 2.  , 2.26, 2.47, 2.4 , 2.98, 3.15, 3.18, 2.88, 3.39,\n",
       "           4.25, 3.48, 3.82, 4.  ]),\n",
       "    'spt': array([10., 11., 12., 13., 14., 15., 16., 17., 18., 19., 20., 21., 22.,\n",
       "           23., 24., 25., 26., 27., 28., 29., 30., 31., 32., 33., 34., 36.]),\n",
       "    'unc': array([0.06, 0.29, 0.17, 0.24, 0.32, 0.13, 0.14, 0.11, 0.11, 0.2 , 0.11,\n",
       "           0.08, 0.09, 0.24, 0.13, 0.12, 0.19, 0.5 , 0.32, 0.5 , 0.5 , 0.5 ,\n",
       "           0.5 , 0.56, 2.02, 0.33])},\n",
       "   'z-J': {'pol': <scipy.interpolate.interpolate.interp1d at 0x7ffb69d0f2c0>,\n",
       "    'method': 'interpolation',\n",
       "    'vals': array([1.42, 1.25, 1.36, 1.38, 1.52, 1.65, 1.74, 1.95, 2.04, 2.23, 2.36,\n",
       "           2.52, 2.76, 2.71, 2.8 , 2.74, 2.86, 2.93, 2.93, 2.86, 2.88, 3.2 ,\n",
       "           3.13, 3.27, 3.53, 3.49]),\n",
       "    'spt': array([10., 11., 12., 13., 14., 15., 16., 17., 18., 19., 20., 21., 22.,\n",
       "           23., 24., 25., 26., 27., 28., 29., 30., 31., 32., 33., 34., 36.]),\n",
       "    'unc': array([0.5 , 0.08, 0.18, 0.12, 0.13, 0.09, 0.08, 0.16, 0.12, 0.14, 0.14,\n",
       "           0.08, 0.36, 0.19, 0.08, 0.23, 0.15, 0.5 , 0.02, 0.5 , 0.5 , 0.5 ,\n",
       "           0.5 , 0.31, 0.06, 0.06])},\n",
       "   'i-J': {'pol': <scipy.interpolate.interpolate.interp1d at 0x7ffb69d0f770>,\n",
       "    'method': 'interpolation',\n",
       "    'vals': array([1.93, 1.78, 1.94, 2.08, 2.39, 2.72, 2.99, 3.47, 3.72, 4.09, 4.23,\n",
       "           4.45, 4.64, 4.84, 5.06, 5.21, 5.27, 5.91, 6.11, 6.04, 5.76, 6.59,\n",
       "           7.38, 6.75, 7.35, 7.49]),\n",
       "    'spt': array([10., 11., 12., 13., 14., 15., 16., 17., 18., 19., 20., 21., 22.,\n",
       "           23., 24., 25., 26., 27., 28., 29., 30., 31., 32., 33., 34., 36.]),\n",
       "    'unc': array([0.5 , 0.1 , 0.2 , 0.13, 0.17, 0.13, 0.19, 0.24, 0.19, 0.28, 0.19,\n",
       "           0.08, 0.45, 0.5 , 0.18, 0.32, 0.2 , 0.5 , 0.47, 0.5 , 0.5 , 0.5 ,\n",
       "           0.5 , 0.87, 2.09, 0.33])}}},\n",
       " 'VISTA_Z': (poly1d([ 2.64391285e-07, -2.95035635e-05,  1.18804632e-03, -1.84968842e-02,\n",
       "         -1.72837259e-02,  3.62794527e+00, -1.96324280e+01]),\n",
       "  0.40410113236457407,\n",
       "  (10.0, 41.0)),\n",
       " 'VISTA_Y': (poly1d([ 4.57398122e-07, -6.18261963e-05,  3.36432245e-03, -9.32689961e-02,\n",
       "          1.35507169e+00, -8.97131074e+00,  2.56641198e+01]),\n",
       "  0.40037267284824324,\n",
       "  (10.0, 41.0)),\n",
       " 'VISTA_J': (poly1d([ 2.24582735e-07, -2.85317117e-05,  1.47405492e-03, -3.91500483e-02,\n",
       "          5.35277735e-01, -2.69664217e+00,  7.03177369e+00]),\n",
       "  0.40015186037563855,\n",
       "  (10.0, 41.0)),\n",
       " 'VISTA_H': (poly1d([ 2.02382373e-07, -2.56795883e-05,  1.31108866e-03, -3.34946443e-02,\n",
       "          4.13762636e-01, -1.32461956e+00,  9.12549588e-01]),\n",
       "  0.40018768099505364,\n",
       "  (10.0, 41.0)),\n",
       " 'VISTA_KS': (poly1d([ 6.95211103e-07, -9.33205821e-05,  5.07275122e-03, -1.42015041e-01,\n",
       "          2.12472577e+00, -1.52349234e+01,  4.64178201e+01]),\n",
       "  0.4002177105061356,\n",
       "  (10.0, 38.0)),\n",
       " 'UKIDSS_Z': (poly1d([ 2.83603525e-07, -3.24806582e-05,  1.37358843e-03, -2.44162704e-02,\n",
       "          8.41285203e-02,  2.75077801e+00, -1.66391121e+01]),\n",
       "  0.40333048132221067,\n",
       "  (10.0, 41.0)),\n",
       " 'UKIDSS_Y': (poly1d([ 4.07564903e-07, -5.44592193e-05,  2.92773974e-03, -8.00181198e-02,\n",
       "          1.13819417e+00, -7.15461263e+00,  1.96138302e+01]),\n",
       "  0.4002996118983189,\n",
       "  (10.0, 41.0)),\n",
       " 'UKIDSS_J': (poly1d([ 2.24086945e-07, -2.85159582e-05,  1.47666068e-03, -3.93328507e-02,\n",
       "          5.39868829e-01, -2.74657634e+00,  7.22850374e+00]),\n",
       "  0.4001515873311574,\n",
       "  (10.0, 41.0)),\n",
       " 'UKIDSS_H': (poly1d([ 2.02913041e-07, -2.57642073e-05,  1.31624401e-03, -3.36427273e-02,\n",
       "          4.15813047e-01, -1.33767377e+00,  9.33397762e-01]),\n",
       "  0.40017546987323915,\n",
       "  (10.0, 41.0)),\n",
       " 'UKIDSS_K': (poly1d([ 7.35979775e-07, -9.87553985e-05,  5.36250875e-03, -1.49929063e-01,\n",
       "          2.24118854e+00, -1.61019469e+01,  4.89708248e+01]),\n",
       "  0.4002070821072377,\n",
       "  (10.0, 38.0))}"
      ]
     },
     "execution_count": 34,
     "metadata": {},
     "output_type": "execute_result"
    }
   ],
   "source": [
    "abs_mag_data"
   ]
  },
  {
   "cell_type": "code",
   "execution_count": 36,
   "metadata": {},
   "outputs": [],
   "source": [
    "#import pickle\n",
    "#output = open(ABS_MAG_FILE, 'wb')\n",
    "#pickle.dump(abs_mag_data, output)\n",
    "#output.close()"
   ]
  },
  {
   "cell_type": "code",
   "execution_count": null,
   "metadata": {},
   "outputs": [],
   "source": []
  }
 ],
 "metadata": {
  "kernelspec": {
   "display_name": "Python 3 (ipykernel)",
   "language": "python",
   "name": "python3"
  },
  "language_info": {
   "codemirror_mode": {
    "name": "ipython",
    "version": 3
   },
   "file_extension": ".py",
   "mimetype": "text/x-python",
   "name": "python",
   "nbconvert_exporter": "python",
   "pygments_lexer": "ipython3",
   "version": "3.9.7"
  }
 },
 "nbformat": 4,
 "nbformat_minor": 4
}
