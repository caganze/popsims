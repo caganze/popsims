{
 "cells": [
  {
   "cell_type": "code",
   "execution_count": 1,
   "metadata": {},
   "outputs": [
    {
     "name": "stdout",
     "output_type": "stream",
     "text": [
      "Adding 145 sources from /Users/caganze/research/splat//resources/Spectra/Public/LRIS-RED/ to spectral database\n",
      "Adding 2404 sources from /Users/caganze/research/splat//resources/Spectra/Public/SPEX-PRISM/ to spectral database\n",
      "Adding 89 sources from /Users/caganze/research/splat//resources/Spectra/Public/MAGE/ to spectral database\n"
     ]
    }
   ],
   "source": [
    "import splat\n",
    "import pandas as pd\n",
    "import matplotlib.pyplot as plt\n",
    "from astropy.io import fits, ascii\n",
    "import numpy as np\n",
    "import glob\n",
    "%matplotlib inline"
   ]
  },
  {
   "cell_type": "code",
   "execution_count": 2,
   "metadata": {},
   "outputs": [],
   "source": [
    "filepath=h='/Users/caganze/research/popsims/data/primeval_dwarfs/'"
   ]
  },
  {
   "cell_type": "code",
   "execution_count": 3,
   "metadata": {},
   "outputs": [],
   "source": [
    "def read_fits(fl):\n",
    "    try:\n",
    "        spt=fl.split('_')[3]\n",
    "        name=fl.split('_')[2]\n",
    "        \n",
    "        if fl.endswith('.fits'):\n",
    "            hdu=fits.open(fl)[0]\n",
    "            flux=hdu.data\n",
    "            wave=(hdu.header['CRVAL1']+hdu.header['CDELT1']*np.arange(0, hdu.header['NAXIS1']))/1e4\n",
    "            \n",
    "        if fl.endswith('.txt'):\n",
    "            hdu=ascii.read(fl).to_pandas()\n",
    "            wave=hdu.col1\n",
    "            flux=hdu.col2\n",
    "            \n",
    "        return pd.Series({'wave': wave,\n",
    "                             'flux': flux, \n",
    "                             'name': name,\n",
    "                             'spt': spt}) \n",
    "    except :\n",
    "        print (fl)\n",
    "        return pd.Series({})"
   ]
  },
  {
   "cell_type": "code",
   "execution_count": 4,
   "metadata": {},
   "outputs": [],
   "source": [
    "fils=glob.glob(filepath+'/*')"
   ]
  },
  {
   "cell_type": "code",
   "execution_count": 5,
   "metadata": {},
   "outputs": [
    {
     "name": "stdout",
     "output_type": "stream",
     "text": [
      "/Users/caganze/research/popsims/data/primeval_dwarfs/SDSS_J134749.74+333601.7_sdL0_SDSS_Primeval-I.txt\n",
      "/Users/caganze/research/popsims/data/primeval_dwarfs/ULAS_J130710.22+151103.4_sdL8_Xshooter_NIR_Primeval-IV.fits\n",
      "/Users/caganze/research/popsims/data/primeval_dwarfs/ULAS_J135058.85+081506.8_usdL3_Xshooter_NIR_Primeval-III.fits\n",
      "/Users/caganze/research/popsims/data/primeval_dwarfs/README.txt\n",
      "/Users/caganze/research/popsims/data/primeval_dwarfs/ULAS_J135058.85+081506.8_usdL3_Xshooter_VIS_Primeval-III.fits\n",
      "/Users/caganze/research/popsims/data/primeval_dwarfs/ULAS_J020858.62+020657.0_esdL3_Xshooter_VIS_Primeval-III.fits\n"
     ]
    }
   ],
   "source": [
    "all_sers=[]\n",
    "for x in fils: all_sers.append(read_fits(x))"
   ]
  },
  {
   "cell_type": "code",
   "execution_count": 6,
   "metadata": {},
   "outputs": [],
   "source": [
    "df=pd.DataFrame(all_sers)"
   ]
  },
  {
   "cell_type": "code",
   "execution_count": 7,
   "metadata": {},
   "outputs": [
    {
     "data": {
      "text/plain": [
       "[None]"
      ]
     },
     "execution_count": 7,
     "metadata": {},
     "output_type": "execute_result"
    },
    {
     "data": {
      "image/png": "[encoded data removed]",
      "text/plain": [
       "<Figure size 432x288 with 1 Axes>"
      ]
     },
     "metadata": {
      "needs_background": "light"
     },
     "output_type": "display_data"
    }
   ],
   "source": [
    "fig, ax=plt.subplots()\n",
    "for _, row in df.iterrows():\n",
    "    plt.plot(row.wave, row.flux, alpha=0.1)\n",
    "ax.set(yscale='log')"
   ]
  },
  {
   "cell_type": "code",
   "execution_count": 9,
   "metadata": {},
   "outputs": [],
   "source": [
    "df.to_pickle('/users/caganze/research/popsims/data/zhang_subdwarfs.pkl')"
   ]
  },
  {
   "cell_type": "code",
   "execution_count": null,
   "metadata": {},
   "outputs": [],
   "source": []
  },
  {
   "cell_type": "code",
   "execution_count": null,
   "metadata": {},
   "outputs": [],
   "source": []
  },
  {
   "cell_type": "code",
   "execution_count": null,
   "metadata": {},
   "outputs": [],
   "source": []
  },
  {
   "cell_type": "code",
   "execution_count": null,
   "metadata": {},
   "outputs": [],
   "source": []
  }
 ],
 "metadata": {
  "kernelspec": {
   "display_name": "Python 3",
   "language": "python",
   "name": "python3"
  },
  "language_info": {
   "codemirror_mode": {
    "name": "ipython",
    "version": 3
   },
   "file_extension": ".py",
   "mimetype": "text/x-python",
   "name": "python",
   "nbconvert_exporter": "python",
   "pygments_lexer": "ipython3",
   "version": "3.8.5"
  }
 },
 "nbformat": 4,
 "nbformat_minor": 4
}
