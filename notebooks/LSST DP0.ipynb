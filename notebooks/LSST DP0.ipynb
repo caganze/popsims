{
 "cells": [
  {
   "cell_type": "code",
   "execution_count": 1,
   "metadata": {},
   "outputs": [
    {
     "name": "stdout",
     "output_type": "stream",
     "text": [
      "Adding 89 sources from /Users/caganze/research/splat//resources/Spectra/Public/MAGE/ to spectral database\n",
      "Adding 2404 sources from /Users/caganze/research/splat//resources/Spectra/Public/SPEX-PRISM/ to spectral database\n",
      "Adding 145 sources from /Users/caganze/research/splat//resources/Spectra/Public/LRIS-RED/ to spectral database\n"
     ]
    }
   ],
   "source": [
    "import numpy as np\n",
    "import pandas as pd\n",
    "import splat\n",
    "import popsims\n",
    "from astropy.coordinates import SkyCoord, Galactic\n",
    "import matplotlib.pyplot as plt\n",
    "import seaborn as sns\n",
    "import scipy\n",
    "#sns.set_style(\"darkgrid\", {\"axes.facecolor\": \".95\"})\n",
    "\n",
    "#plt.style.use('fivethirtyeight')\n",
    "#plt.style.use('dark_background')\n",
    "\n",
    "from  matplotlib.colors import Normalize\n",
    "import astropy.units as u\n",
    "import popsims\n",
    "import matplotlib\n",
    "from tqdm import tqdm\n",
    "from tqdm import tqdm\n",
    "import matplotlib as mpl \n",
    "#mpl.rcParams['axes.labelsize'] = 20\n",
    "#mpl.rcParams['xtick.labelsize'] =20\n",
    "#mpl.rcParams['ytick.labelsize'] = 20\n",
    "#mpl.rcParams['legend.fontsize'] = 20\n",
    "#mpl.rcParams['figure.titlesize'] = 20\n",
    "\n",
    "from astropy.coordinates import Angle\n",
    "import astropy.table as astrotable\n",
    "\n",
    "splat.initializeStandards(all=True)\n",
    "from scipy.interpolate import griddata, interpn\n",
    "import splat.empirical as spe\n",
    "%matplotlib inline"
   ]
  },
  {
   "cell_type": "code",
   "execution_count": null,
   "metadata": {},
   "outputs": [],
   "source": []
  },
  {
   "cell_type": "code",
   "execution_count": 2,
   "metadata": {},
   "outputs": [],
   "source": [
    "from popsims.widefields import  WideField, create_mixed_population,\\\n",
    "transform_tocylindrical\n",
    "from astropy.coordinates import  SkyCoord\n",
    "import astropy.units as u"
   ]
  },
  {
   "cell_type": "code",
   "execution_count": 3,
   "metadata": {},
   "outputs": [],
   "source": [
    "coord = SkyCoord(ra=62.0*u.degree, dec=-37.0*u.degree, frame='icrs')\n",
    "radius = 1* u.deg"
   ]
  },
  {
   "cell_type": "code",
   "execution_count": 4,
   "metadata": {},
   "outputs": [],
   "source": [
    "grid=np.arange(15, 32)"
   ]
  },
  {
   "cell_type": "code",
   "execution_count": null,
   "metadata": {},
   "outputs": [],
   "source": []
  },
  {
   "cell_type": "code",
   "execution_count": 5,
   "metadata": {},
   "outputs": [],
   "source": [
    "mag_keys=[ 'LSST_R', 'LSST_I', 'LSST_Z']\n",
    "max_distances={}\n",
    "for g in grid:\n",
    "    pol=popsims.POLYNOMIALS['absmags']['dwarfs']['LSST_Z']['fit']\n",
    "    max_distances[g]=popsims.get_distance(pol(g), 25.)"
   ]
  },
  {
   "cell_type": "code",
   "execution_count": 6,
   "metadata": {},
   "outputs": [],
   "source": [
    "narro_field=popsims.Pointing(coord=coord)\n",
    "halo_field=popsims.Pointing(coord=coord, density='spheroid')"
   ]
  },
  {
   "cell_type": "code",
   "execution_count": 7,
   "metadata": {},
   "outputs": [],
   "source": [
    "narro_field.mag_limits=dict(zip([k for k in mag_keys],\\\n",
    "         [(0,  24) for k in  mag_keys]))\n",
    "thin_dist_list =narro_field.draw_distances(0.1, max_distances[15],350,  nsample=1e5)\n",
    "thick_dist_list =narro_field.draw_distances(0.1, max_distances[15],900,  nsample=1e5)\n",
    "halo_dist_list =halo_field.draw_distances(0.1, max_distances[15],900,  nsample=1e5)"
   ]
  },
  {
   "cell_type": "code",
   "execution_count": 8,
   "metadata": {},
   "outputs": [],
   "source": [
    "def create_pop(bfraction=None,\\\n",
    "                     model=None,  nsample=None,\n",
    "                     dmax=None, l=None, b=None, \\\n",
    "               absmag_keys=['WFIRST_WFIJ'], \n",
    "              population='thin_disk', dmax_dict=None):\n",
    "   \n",
    "    if population =='thin_disk':\n",
    "        df=popsims.make_systems(model=model, bfraction=bfraction,\\\n",
    "                            mass_age_range=[0.01, 0.15, 0., 8.0], \\\n",
    "                                nsample=nsample,\n",
    "                                recompute=True)\n",
    "        df=df[df.spt.between(grid[0], grid[-1])]\n",
    "        #df=df.sample(n=len(ds))\n",
    "\n",
    "        #assign distances\n",
    "        df['d']= np.random.choice(thin_dist_list, len(df))\n",
    "        df['l']=l\n",
    "        df['b']=b\n",
    "        r, z=transform_tocylindrical(df.l.values, df.b.values, df.d.values)\n",
    "        df['r']=r\n",
    "        df['z']=z\n",
    "        #us, vs, ws=get_uvw(df.age, kind=population)\n",
    "    \n",
    "        #df['U']=us\n",
    "        #df['V']=vs\n",
    "        #df['W']=ws\n",
    "        dff=popsims.pop_mags_from_type(df.spt.values, d=df.d.values, \\\n",
    "                                       keys=absmag_keys, object_type='dwarfs').join(df)\n",
    "    if population =='thick_disk':\n",
    "        df=popsims.make_systems(model=model, bfraction=bfraction,\\\n",
    "                                 nsample=nsample,\n",
    "                            mass_age_range=[0.01, 0.15, 8., 13.0], recompute=True)\n",
    "        df=df[df.spt.between(grid[0], grid[-1])]\n",
    "        #df=df.sample(n=len(ds))\n",
    "        #assign distances\n",
    "          #assign distances\n",
    "        df['d']= np.random.choice(thick_dist_list, len(df))\n",
    "        df['l']=l\n",
    "        df['b']=b\n",
    "        r, z=transform_tocylindrical(df.l.values, df.b.values, df.d.values)\n",
    "        df['r']=r\n",
    "        df['z']=z\n",
    "        #us, vs, ws=get_uvw(df.age, kind=population)\n",
    "    \n",
    "        #df['U']=us\n",
    "        #df['V']=vs\n",
    "        #df['W']=ws\n",
    "        dff=popsims.pop_mags_from_type(df.spt.values, d=df.d.values, \\\n",
    "                                       keys=absmag_keys, object_type='subdwarfs').join(df)\n",
    "    if population =='halo':\n",
    "        df=popsims.make_systems(model=model, bfraction=bfraction,\\\n",
    "                                 nsample=nsample,\n",
    "                            mass_age_range=[0.01, 0.15, 10., 13.0], recompute=True)\n",
    "        df=df[df.spt.between(grid[0], grid[-1])]\n",
    "        #df=df.sample(n=len(ds))\n",
    "        \n",
    "        #assign distances\n",
    "        df['d']= np.random.choice(halo_dist_list, len(df))\n",
    "        df['l']=l\n",
    "        df['b']=b\n",
    "        r, z=transform_tocylindrical(df.l.values, df.b.values, df.d.values)\n",
    "        df['r']=r\n",
    "        df['z']=z\n",
    "        #us, vs, ws=get_uvw(df.age, z= df.z, kind='halo')\n",
    "        #df['U']=us\n",
    "        #df['V']=vs\n",
    "        #df['W']=ws\n",
    "      \n",
    "        dff=popsims.pop_mags_from_type(df.spt.values, d=df.d.values, \\\n",
    "                                       keys=absmag_keys, object_type='subdwarfs').join(df)\n",
    "    return dff"
   ]
  },
  {
   "cell_type": "code",
   "execution_count": 9,
   "metadata": {},
   "outputs": [],
   "source": [
    "tqdm.pandas()\n",
    "df_thin=df=create_pop(bfraction=0.2,\\\n",
    "                         model='burrows1997',\\\n",
    "                             l=coord.galactic.l, b=coord.galactic.b,\\\n",
    "                           absmag_keys=mag_keys, \\\n",
    "                      nsample=1e5, dmax_dict=max_distances)"
   ]
  },
  {
   "cell_type": "code",
   "execution_count": 10,
   "metadata": {},
   "outputs": [],
   "source": [
    "tqdm.pandas()\n",
    "df_thick=df=create_pop(bfraction=0.2,\\\n",
    "                         model='burrows1997',\\\n",
    "                             l=coord.galactic.l, b=coord.galactic.b,\n",
    "                           absmag_keys=mag_keys, \\\n",
    "                      nsample=1e5, dmax_dict=max_distances,\n",
    "                         population='thick_disk')"
   ]
  },
  {
   "cell_type": "code",
   "execution_count": 11,
   "metadata": {},
   "outputs": [],
   "source": [
    "tqdm.pandas()\n",
    "df_halo=df=create_pop(bfraction=0.2,\\\n",
    "                         model='burrows1997',\\\n",
    "                              l=coord.galactic.l, b=coord.galactic.b,\n",
    "                           absmag_keys=mag_keys, \\\n",
    "                      nsample=1e5, dmax_dict=max_distances,\n",
    "                         population='halo')\n"
   ]
  },
  {
   "cell_type": "code",
   "execution_count": 12,
   "metadata": {},
   "outputs": [],
   "source": [
    "#df_halo"
   ]
  },
  {
   "cell_type": "code",
   "execution_count": null,
   "metadata": {},
   "outputs": [],
   "source": []
  },
  {
   "cell_type": "code",
   "execution_count": 13,
   "metadata": {},
   "outputs": [
    {
     "ename": "NameError",
     "evalue": "name 'lsst_dp0' is not defined",
     "output_type": "error",
     "traceback": [
      "\u001b[0;31m---------------------------------------------------------------------------\u001b[0m",
      "\u001b[0;31mNameError\u001b[0m                                 Traceback (most recent call last)",
      "\u001b[0;32m<ipython-input-13-47ffabef0875>\u001b[0m in \u001b[0;36m<module>\u001b[0;34m\u001b[0m\n\u001b[0;32m----> 1\u001b[0;31m \u001b[0mlsst_dp0\u001b[0m\u001b[0;34m.\u001b[0m\u001b[0mcolumns\u001b[0m\u001b[0;34m\u001b[0m\u001b[0;34m\u001b[0m\u001b[0m\n\u001b[0m",
      "\u001b[0;31mNameError\u001b[0m: name 'lsst_dp0' is not defined"
     ]
    }
   ],
   "source": [
    "lsst_dp0.columns"
   ]
  },
  {
   "cell_type": "code",
   "execution_count": null,
   "metadata": {},
   "outputs": [],
   "source": [
    "#MAKE Y CUT AT 24\n",
    "lsst_dp0=lsst_dp0[lsst_dp0.mag_z<25]\n",
    "df_halo_f=df_halo[np.logical_and(df_halo.LSST_Z<25, df_halo.spt.between(10, 28))]\n",
    "df_thin_f=df_thin[np.logical_and(df_thin.LSST_Z<25, df_thin.spt.between(17, 27))]"
   ]
  },
  {
   "cell_type": "code",
   "execution_count": null,
   "metadata": {},
   "outputs": [],
   "source": [
    "len(lsst_dp0), len(df_halo_f), len(df_thin_f)"
   ]
  },
  {
   "cell_type": "code",
   "execution_count": null,
   "metadata": {},
   "outputs": [],
   "source": [
    "h=plt.hist(df_halo.abs_LSST_R-df_halo.abs_LSST_I)"
   ]
  },
  {
   "cell_type": "code",
   "execution_count": null,
   "metadata": {},
   "outputs": [],
   "source": [
    "fig, ax=plt.subplots(figsize=(8, 6))\n",
    "ax.scatter((lsst_dp0.mag_r-lsst_dp0.mag_i)[lsst_dp0.truth_type==1], \\\n",
    "           (lsst_dp0.mag_r-lsst_dp0.mag_z)[lsst_dp0.truth_type==1], \\\n",
    "           s=1, c='k', alpha=.1, label='DP0 Galaxy')\n",
    "ax.scatter((lsst_dp0.mag_r-lsst_dp0.mag_i)[lsst_dp0.truth_type==2], \\\n",
    "           (lsst_dp0.mag_r-lsst_dp0.mag_z)[lsst_dp0.truth_type==2], \\\n",
    "           s=1, c='r', alpha=1., label='DP0 Star')\n",
    "#ax.scatter(df_thick.LSST_I-df_thick.LSST_Z, df_thick.LSST_Y- df_thick.LSST_I)\n",
    "ax.scatter(df_thin_f.LSST_R-df_thin_f.LSST_I, df_thin_f.LSST_I- df_thin_f.LSST_Z, s=5, \n",
    "           alpha=0.5, label='dwarfs')\n",
    "ax.scatter(df_halo_f.LSST_R-df_halo_f.LSST_I, df_halo_f.LSST_I- df_halo_f.LSST_Z, s=10, \\\n",
    "           alpha=0.5, c='b',  label='halo subdwarfs')\n",
    "ax.set(xlim=[-5, 5], ylim=[-1, 5], xlabel='r-i', ylabel='i-z')\n",
    "ax.minorticks_on()\n",
    "plt.legend(loc='upper right', fontsize=14, markerscale=2)\n",
    "plt.savefig(popsims.FIGURES+'/lsst_dpo_ri_iz_mag25.jpeg', rasterized=True)"
   ]
  },
  {
   "cell_type": "code",
   "execution_count": null,
   "metadata": {},
   "outputs": [],
   "source": [
    "zhang_subds=pd.read_pickle(popsims.DATA_FOLDER+'/combined_sd_templates.pkl')\n",
    "optical_stds=pd.read_pickle(popsims.DATA_FOLDER+'/combined_optical_templates.pkl')\n",
    "from astropy.io import ascii\n",
    "import glob"
   ]
  },
  {
   "cell_type": "code",
   "execution_count": null,
   "metadata": {},
   "outputs": [],
   "source": [
    "np.unique(optical_stds.dropna().sptype.values)"
   ]
  },
  {
   "cell_type": "code",
   "execution_count": null,
   "metadata": {},
   "outputs": [],
   "source": [
    "\n",
    "def read_filter(filtr):\n",
    "    file = glob.glob('/users/caganze/research/splat/resources/filters/*{}*.txt'.format(filtr))[0]\n",
    "    return ascii.read(file).to_pandas()\n",
    "    "
   ]
  },
  {
   "cell_type": "code",
   "execution_count": null,
   "metadata": {},
   "outputs": [],
   "source": [
    "np.unique(zhang_subds.sptype)"
   ]
  },
  {
   "cell_type": "markdown",
   "metadata": {},
   "source": [
    "(1) select all the sources z < 20 (so they are also picked up at i band - what is i limit?);\n",
    "(2) use i-z to compute spectral type and M_z;\n",
    "(3) estimate distance from z & M_z; (4)"
   ]
  },
  {
   "cell_type": "code",
   "execution_count": null,
   "metadata": {},
   "outputs": [],
   "source": [
    "from shapey import Box"
   ]
  },
  {
   "cell_type": "code",
   "execution_count": null,
   "metadata": {},
   "outputs": [],
   "source": [
    "b=Box()\n",
    "b.vertices=[(-6.0, 0.0), (-5.0, 4.0), (0.0, 4.0), (0.0, 0.0), (-6.0, 0.0)]"
   ]
  },
  {
   "cell_type": "code",
   "execution_count": null,
   "metadata": {},
   "outputs": [],
   "source": []
  },
  {
   "cell_type": "code",
   "execution_count": null,
   "metadata": {},
   "outputs": [],
   "source": [
    "selected=lsst_dp0[ucd_bool]"
   ]
  },
  {
   "cell_type": "code",
   "execution_count": null,
   "metadata": {},
   "outputs": [],
   "source": [
    "fig, ax=plt.subplots(figsize=(8, 6))\n",
    "\n",
    "ax.scatter((selected.mag_r-selected.mag_i),\\\n",
    "           (selected.mag_r-selected.mag_z), \\\n",
    "           s=10, c='k', alpha=1., label='DP0 Selected Sample')\n",
    "\n",
    "ax.scatter(-df_thin_f.LSST_R+df_thin_f.LSST_I, df_thin_f.LSST_I- df_thin_f.LSST_Z, s=5, \n",
    "           alpha=0.5, label='dwarfs')\n",
    "ax.scatter(-df_halo_f.LSST_R+df_halo_f.LSST_I, df_halo_f.LSST_I- df_halo_f.LSST_Z, s=10, \\\n",
    "           alpha=0.5, c='b',  label='halo subdwarfs')\n",
    "ax.set(xlim=[-6, 5], ylim=[-1, 5], xlabel='r-i', ylabel='i-z')\n",
    "ax.minorticks_on()\n",
    "plt.legend(loc='upper right', fontsize=14, markerscale=2)\n",
    "plt.savefig(popsims.FIGURES+'/lsst_dpo_ri_iz_selection.jpeg', rasterized=True)"
   ]
  },
  {
   "cell_type": "code",
   "execution_count": null,
   "metadata": {},
   "outputs": [],
   "source": []
  },
  {
   "cell_type": "code",
   "execution_count": null,
   "metadata": {},
   "outputs": [],
   "source": []
  },
  {
   "cell_type": "code",
   "execution_count": null,
   "metadata": {},
   "outputs": [],
   "source": []
  },
  {
   "cell_type": "code",
   "execution_count": null,
   "metadata": {},
   "outputs": [],
   "source": []
  },
  {
   "cell_type": "code",
   "execution_count": null,
   "metadata": {},
   "outputs": [],
   "source": []
  },
  {
   "cell_type": "code",
   "execution_count": null,
   "metadata": {},
   "outputs": [],
   "source": []
  },
  {
   "cell_type": "code",
   "execution_count": null,
   "metadata": {
    "scrolled": false
   },
   "outputs": [],
   "source": []
  },
  {
   "cell_type": "code",
   "execution_count": null,
   "metadata": {},
   "outputs": [],
   "source": []
  },
  {
   "cell_type": "code",
   "execution_count": null,
   "metadata": {},
   "outputs": [],
   "source": []
  },
  {
   "cell_type": "code",
   "execution_count": null,
   "metadata": {},
   "outputs": [],
   "source": []
  },
  {
   "cell_type": "code",
   "execution_count": null,
   "metadata": {},
   "outputs": [],
   "source": [
    "plt.plot(np.linspace(10, 5, 1000), pol(np.linspace(0, 5, 1000)))"
   ]
  },
  {
   "cell_type": "code",
   "execution_count": null,
   "metadata": {},
   "outputs": [],
   "source": [
    "selected."
   ]
  },
  {
   "cell_type": "code",
   "execution_count": null,
   "metadata": {},
   "outputs": [],
   "source": []
  }
 ],
 "metadata": {
  "kernelspec": {
   "display_name": "Python (mcmenv)",
   "language": "python",
   "name": "myenv"
  },
  "language_info": {
   "codemirror_mode": {
    "name": "ipython",
    "version": 3
   },
   "file_extension": ".py",
   "mimetype": "text/x-python",
   "name": "python",
   "nbconvert_exporter": "python",
   "pygments_lexer": "ipython3",
   "version": "3.9.2"
  }
 },
 "nbformat": 4,
 "nbformat_minor": 4
}
