{
 "cells": [
  {
   "cell_type": "code",
   "execution_count": 12,
   "metadata": {},
   "outputs": [],
   "source": [
    "import popsims\n",
    "import numpy as np\n",
    "import pandas as pd\n",
    "import splat\n",
    "import popsims\n",
    "from astropy.coordinates import SkyCoord, Galactic\n",
    "import matplotlib.pyplot as plt\n",
    "import seaborn as sns\n",
    "import scipy\n",
    "#sns.set_style(\"darkgrid\", {\"axes.facecolor\": \".95\"})\n",
    "\n",
    "#plt.style.use('fivethirtyeight')\n",
    "#plt.style.use('dark_background')\n",
    "\n",
    "from  matplotlib.colors import Normalize\n",
    "import astropy.units as u\n",
    "import popsims\n",
    "import matplotlib\n",
    "from tqdm import tqdm\n",
    "from tqdm import tqdm\n",
    "import matplotlib as mpl \n",
    "from popsims.abs_mags import get_abs_mag\n",
    "mpl.rcParams['figure.titlesize'] = 20\n",
    "\n",
    "splat.initializeStandards(all=True)\n",
    "\n",
    "%matplotlib inline"
   ]
  },
  {
   "cell_type": "code",
   "execution_count": 13,
   "metadata": {},
   "outputs": [],
   "source": [
    "def group_by_spt(spts, values, grid= np.arange(15, 41)):\n",
    "    res=np.ones_like(grid)*np.nan\n",
    "    std=np.ones_like(grid)*np.nan\n",
    "    mres=np.ones_like(grid)*np.nan\n",
    "    for idx, g in enumerate(grid):\n",
    "        if idx < len(grid)-1:\n",
    "            bools=np.logical_and(spts>=grid[idx], spts<grid[idx+1])\n",
    "        else:\n",
    "            bools=spts>=grid[-1]\n",
    "        np.place(res, grid==[grid[idx]], np.nanmedian(values[bools]) )\n",
    "        np.place(mres, grid==[grid[idx]], np.nanmean(values[bools]) )\n",
    "        np.place(std, grid==[grid[idx]], np.nanstd(values[bools]))\n",
    "    return {'grid': grid, 'median': res, 'std': std, 'mean': mres}"
   ]
  },
  {
   "cell_type": "code",
   "execution_count": 14,
   "metadata": {},
   "outputs": [],
   "source": [
    "def teff_from_spt(spt):\n",
    "    rel=splat.SPT_TEFF_RELATIONS['pecaut']\n",
    "    spt_sorted_idx=np.argsort(rel['values'])\n",
    "\n",
    "    teff=np.interp(spt, np.array(rel['spt'])[spt_sorted_idx],  np.array(rel['values'])[spt_sorted_idx])\n",
    "    return np.random.normal(teff, 108)\n"
   ]
  },
  {
   "cell_type": "code",
   "execution_count": 15,
   "metadata": {},
   "outputs": [],
   "source": [
    "x=np.ones(int(1e6))*20"
   ]
  },
  {
   "cell_type": "code",
   "execution_count": 16,
   "metadata": {},
   "outputs": [
    {
     "name": "stdout",
     "output_type": "stream",
     "text": [
      " "
     ]
    }
   ],
   "source": [
    "%%prun \n",
    "np.random.normal(x, 0.5)"
   ]
  },
  {
   "cell_type": "code",
   "execution_count": 17,
   "metadata": {},
   "outputs": [
    {
     "name": "stdout",
     "output_type": "stream",
     "text": [
      " "
     ]
    }
   ],
   "source": [
    "%%prun \n",
    "np.random.normal(x, x)"
   ]
  },
  {
   "cell_type": "code",
   "execution_count": 18,
   "metadata": {},
   "outputs": [],
   "source": [
    "import wisps.simulations as wispsim"
   ]
  },
  {
   "cell_type": "code",
   "execution_count": 19,
   "metadata": {},
   "outputs": [],
   "source": [
    "import wisps.simulations.effective_numbers as eff"
   ]
  },
  {
   "cell_type": "code",
   "execution_count": 21,
   "metadata": {},
   "outputs": [],
   "source": [
    "#eff.get_all_values_from_model('burrows2001', [100, 150])"
   ]
  },
  {
   "cell_type": "code",
   "execution_count": 22,
   "metadata": {
    "scrolled": true
   },
   "outputs": [
    {
     "name": "stderr",
     "output_type": "stream",
     "text": [
      "100%|██████████| 3/3 [00:02<00:00,  1.11it/s]\n"
     ]
    },
    {
     "data": {
      "text/plain": [
       "<matplotlib.legend.Legend at 0x7fb7465af220>"
      ]
     },
     "execution_count": 22,
     "metadata": {},
     "output_type": "execute_result"
    },
    {
     "name": "stderr",
     "output_type": "stream",
     "text": [
      "WARNING:matplotlib.font_manager:findfont: Font family ['serif'] not found. Falling back to DejaVu Sans.\n"
     ]
    },
    {
     "data": {
      "image/png": "[encoded data removed]",
      "text/plain": [
       "<Figure size 720x432 with 1 Axes>"
      ]
     },
     "metadata": {
      "needs_background": "light"
     },
     "output_type": "display_data"
    }
   ],
   "source": [
    "fig, ax=plt.subplots(figsize=(10, 6))\n",
    "for b_fraction in tqdm([0.01, 0.2, 0.5]):\n",
    "    vals=popsims.make_systems(bfraction=b_fraction)\n",
    "    h=plt.hist(vals['spt'], density=True,  range=[17, 40], \\\n",
    "           histtype='step', bins=23, lw=3,  log=True, label=r'B {}'.format(b_fraction))\n",
    "ax.legend()\n"
   ]
  },
  {
   "cell_type": "code",
   "execution_count": 23,
   "metadata": {},
   "outputs": [],
   "source": [
    "#hjk"
   ]
  },
  {
   "cell_type": "code",
   "execution_count": 24,
   "metadata": {},
   "outputs": [],
   "source": [
    "vals=popsims.make_systems(bfraction=0.2)"
   ]
  },
  {
   "cell_type": "code",
   "execution_count": 25,
   "metadata": {},
   "outputs": [],
   "source": [
    "#mass functuin and mass ratio distributin"
   ]
  },
  {
   "cell_type": "code",
   "execution_count": 26,
   "metadata": {},
   "outputs": [],
   "source": [
    "#"
   ]
  },
  {
   "cell_type": "code",
   "execution_count": 27,
   "metadata": {},
   "outputs": [
    {
     "data": {
      "text/plain": [
       "[Text(0.5, 0, 'Mass Ratio')]"
      ]
     },
     "execution_count": 27,
     "metadata": {},
     "output_type": "execute_result"
    },
    {
     "data": {
      "image/png": "[encoded data removed]",
      "text/plain": [
       "<Figure size 432x288 with 1 Axes>"
      ]
     },
     "metadata": {
      "needs_background": "light"
     },
     "output_type": "display_data"
    }
   ],
   "source": [
    "fig, ax=plt.subplots()\n",
    "h=plt.hist(vals.sec_mass/vals.pri_mass,  histtype='step', lw=5,  log=True)\n",
    "ax.set(xlabel='Mass Ratio')"
   ]
  },
  {
   "cell_type": "code",
   "execution_count": 28,
   "metadata": {},
   "outputs": [],
   "source": [
    "#fig, "
   ]
  },
  {
   "cell_type": "code",
   "execution_count": 29,
   "metadata": {},
   "outputs": [
    {
     "data": {
      "text/plain": [
       "[Text(0.5, 0, 'SpT ')]"
      ]
     },
     "execution_count": 29,
     "metadata": {},
     "output_type": "execute_result"
    },
    {
     "data": {
      "image/png": "[encoded data removed]",
      "text/plain": [
       "<Figure size 432x288 with 1 Axes>"
      ]
     },
     "metadata": {
      "needs_background": "light"
     },
     "output_type": "display_data"
    }
   ],
   "source": [
    "fig, ax=plt.subplots()\n",
    "h=plt.hist(vals['spt'][vals.is_binary], density=True,  range=[17, 40], \\\n",
    "           histtype='step', bins=23, lw=5,  label='binaries')\n",
    "h=plt.hist(vals['spt'][~vals.is_binary], bins=23, density=True, range=[17, 40], histtype='step', lw=5,\\\n",
    "          label='singles')\n",
    "ax.legend()\n",
    "ax.set(xlabel='SpT ')"
   ]
  },
  {
   "cell_type": "code",
   "execution_count": 30,
   "metadata": {},
   "outputs": [
    {
     "data": {
      "text/plain": [
       "[Text(0.5, 0, 'Teff'), (400.0, 3000.0)]"
      ]
     },
     "execution_count": 30,
     "metadata": {},
     "output_type": "execute_result"
    },
    {
     "data": {
      "image/png": "[encoded data removed]",
      "text/plain": [
       "<Figure size 432x288 with 1 Axes>"
      ]
     },
     "metadata": {
      "needs_background": "light"
     },
     "output_type": "display_data"
    }
   ],
   "source": [
    "fig, ax=plt.subplots()\n",
    "h=plt.hist(vals['temperature'][vals.is_binary], density=True,  \\\n",
    "           histtype='step', bins='auto', lw=5, range=[200, 3000], label='singles')\n",
    "h=plt.hist(vals['temperature'][~vals.is_binary],bins='auto', range=[200, 3000] , density=True, histtype='step', lw=5,\\\n",
    "          label='binaries')\n",
    "ax.legend()\n",
    "ax.set(xlabel='Teff', xlim=[400, 3000])"
   ]
  },
  {
   "cell_type": "code",
   "execution_count": 31,
   "metadata": {},
   "outputs": [],
   "source": [
    "spgrid=np.append([np.nan, np.nan], np.arange(15, 41))"
   ]
  },
  {
   "cell_type": "code",
   "execution_count": 32,
   "metadata": {},
   "outputs": [
    {
     "data": {
      "text/plain": [
       "[<matplotlib.lines.Line2D at 0x7fb73594aa60>]"
      ]
     },
     "execution_count": 32,
     "metadata": {},
     "output_type": "execute_result"
    },
    {
     "data": {
      "image/png": "[encoded data removed]",
      "text/plain": [
       "<Figure size 432x288 with 1 Axes>"
      ]
     },
     "metadata": {
      "needs_background": "light"
     },
     "output_type": "display_data"
    }
   ],
   "source": [
    "plt.plot(spgrid, popsims.abs_mags.make_mamajek_fit(spgrid)[0][0])"
   ]
  },
  {
   "cell_type": "code",
   "execution_count": 34,
   "metadata": {},
   "outputs": [
    {
     "data": {
      "text/plain": [
       "[Text(0, 0.5, 'Teff'), Text(0.5, 0, 'SpT')]"
      ]
     },
     "execution_count": 34,
     "metadata": {},
     "output_type": "execute_result"
    },
    {
     "data": {
      "image/png": "[encoded data removed]",
      "text/plain": [
       "<Figure size 432x288 with 1 Axes>"
      ]
     },
     "metadata": {
      "needs_background": "light"
     },
     "output_type": "display_data"
    }
   ],
   "source": [
    "fig, ax=plt.subplots()\n",
    "sings=group_by_spt(vals.spt[~vals.is_binary],vals.temperature[~vals.is_binary])\n",
    "bins=group_by_spt(vals.spt[vals.is_binary], vals.temperature[vals.is_binary])\n",
    "\n",
    "ax.errorbar(sings['grid'], sings['median'], label='singles')\n",
    "ax.errorbar(bins['grid'], bins['median'],  label='binaries')\n",
    "ax.legend()\n",
    "ax.set(ylabel='Teff', xlabel='SpT')"
   ]
  },
  {
   "cell_type": "code",
   "execution_count": 48,
   "metadata": {},
   "outputs": [],
   "source": [
    "def teff_from_spt(spt):\n",
    "    rel=splat.SPT_TEFF_RELATIONS['pecaut']\n",
    "    #spt_sorted_idx=np.argsort(rel['values'])\n",
    "\n",
    "    teff=np.interp(spt,    np.array(rel['spt']), np.array(rel['values']))\n",
    "    return np.random.normal(teff, 108)"
   ]
  },
  {
   "cell_type": "code",
   "execution_count": 50,
   "metadata": {},
   "outputs": [
    {
     "data": {
      "text/plain": [
       "2384.7794939219457"
      ]
     },
     "execution_count": 50,
     "metadata": {},
     "output_type": "execute_result"
    }
   ],
   "source": [
    " teff_from_spt(20)"
   ]
  },
  {
   "cell_type": "code",
   "execution_count": 52,
   "metadata": {},
   "outputs": [
    {
     "data": {
      "image/png": "[encoded data removed]",
      "text/plain": [
       "<Figure size 432x288 with 1 Axes>"
      ]
     },
     "metadata": {
      "needs_background": "light"
     },
     "output_type": "display_data"
    }
   ],
   "source": [
    "h=plt.hist(teff_from_spt(vals.spt))"
   ]
  },
  {
   "cell_type": "code",
   "execution_count": 53,
   "metadata": {},
   "outputs": [
    {
     "data": {
      "image/png": "[encoded data removed]",
      "text/plain": [
       "<Figure size 432x288 with 1 Axes>"
      ]
     },
     "metadata": {
      "needs_background": "light"
     },
     "output_type": "display_data"
    }
   ],
   "source": [
    "h=plt.hist(popsims.teff_to_spt(teff_from_spt(vals.spt)))"
   ]
  },
  {
   "cell_type": "code",
   "execution_count": 35,
   "metadata": {},
   "outputs": [],
   "source": [
    "binaries=vals[vals.is_binary]"
   ]
  },
  {
   "cell_type": "code",
   "execution_count": 37,
   "metadata": {},
   "outputs": [
    {
     "data": {
      "text/plain": [
       "0         5519.279864\n",
       "1         5427.717644\n",
       "2         5301.574523\n",
       "3         5370.649411\n",
       "4         5291.111370\n",
       "             ...     \n",
       "249995            NaN\n",
       "249996    5264.385855\n",
       "249997            NaN\n",
       "249998    5172.490873\n",
       "249999    5423.611547\n",
       "Name: temperature, Length: 250000, dtype: float64"
      ]
     },
     "execution_count": 37,
     "metadata": {},
     "output_type": "execute_result"
    }
   ],
   "source": [
    "binaries.temperature"
   ]
  },
  {
   "cell_type": "code",
   "execution_count": null,
   "metadata": {},
   "outputs": [],
   "source": [
    "fig, ax=plt.subplots()\n",
    "sings=group_by_spt(vals.abs_2MASS_H[~vals.is_binary],vals.temperature[~vals.is_binary])\n",
    "bins=group_by_spt(vals.abs_2MASS_H[vals.is_binary], vals.temperature[vals.is_binary])\n",
    "\n",
    "ax.errorbar(sings['grid'], sings['median'], label='singles (Evol Models) ')\n",
    "ax.errorbar(bins['grid'], bins['median'],  label='binaries')\n",
    "ax.plot(np.arange(15,25), popsims.get_teff_from_mag_ignore_unc(np.arange(15, 25)), label='Relation')\n",
    "ax.legend()\n",
    "ax.set(ylabel='Teff', xlabel='H mag')"
   ]
  },
  {
   "cell_type": "code",
   "execution_count": null,
   "metadata": {},
   "outputs": [],
   "source": [
    "#binaries.prim_spt"
   ]
  },
  {
   "cell_type": "code",
   "execution_count": null,
   "metadata": {},
   "outputs": [],
   "source": [
    "js=-2.5*np.log10(10**(-0.4*popsims.get_abs_mag(binaries['prim_spt'],'2MASS J')[0])+\\\n",
    "        10**(-0.4*popsims.get_abs_mag(binaries['sec_spt'],'2MASS J')[0]))"
   ]
  },
  {
   "cell_type": "code",
   "execution_count": null,
   "metadata": {},
   "outputs": [],
   "source": [
    "plt.hist(np.nan_to_num(js), range=[0, 15], log=True)"
   ]
  },
  {
   "cell_type": "code",
   "execution_count": null,
   "metadata": {},
   "outputs": [],
   "source": [
    "js_primns, junc_prims=popsims.get_abs_mag(vals['prim_spt'], '2MASS J')\n",
    "js_prims_to_use=np.random.normal(js_primns, junc_prims)\n",
    "\n",
    "hs_primns, hunc_prims=popsims.get_abs_mag(vals['prim_spt'], '2MASS H')\n",
    "hs_prims_to_use=np.random.normal(hs_primns, junc_prims)\n",
    "\n",
    "js_secs, junc_secs=popsims.get_abs_mag(vals['sec_spt'], '2MASS J')\n",
    "js_secs_to_use=np.random.normal(js_secs, junc_secs)\n"
   ]
  },
  {
   "cell_type": "code",
   "execution_count": null,
   "metadata": {},
   "outputs": [],
   "source": [
    "h=plt.hist(vals['prim_spt'])"
   ]
  },
  {
   "cell_type": "code",
   "execution_count": null,
   "metadata": {},
   "outputs": [],
   "source": [
    "fig, ax=plt.subplots()\n",
    "plt.scatter(popsims.dropnans(vals['prim_spt'].values), \\\n",
    "         popsims.dropnans(popsims.abs_mags.BEST['2MASS J'][1](popsims.dropnans(vals['prim_spt'].values))),\\\n",
    "           s=1)\n",
    "#plt.scatter( vals['prim_spt'].values,  js_prims_to_use, s=1)"
   ]
  },
  {
   "cell_type": "code",
   "execution_count": null,
   "metadata": {},
   "outputs": [],
   "source": [
    "#popsims.abs_mags."
   ]
  },
  {
   "cell_type": "code",
   "execution_count": null,
   "metadata": {},
   "outputs": [],
   "source": [
    " len(popsims.dropnans(hs_prims_to_use)), len(popsims.dropnans(vals['prim_spt'].values))"
   ]
  },
  {
   "cell_type": "code",
   "execution_count": null,
   "metadata": {},
   "outputs": [],
   "source": [
    "fig, ax=plt.subplots()\n",
    "ax.scatter(binaries.prim_spt, binaries.sec_spt, c=binaries['abs_2MASS_J'], s=1, \n",
    "           vmin=9, vmax=25, cmap='cubehelix')"
   ]
  },
  {
   "cell_type": "code",
   "execution_count": null,
   "metadata": {
    "scrolled": true
   },
   "outputs": [],
   "source": [
    "fig, ax=plt.subplots()\n",
    "sings=group_by_spt(vals.spt[~vals.is_binary],vals.luminosity[~vals.is_binary])\n",
    "bins=group_by_spt(vals.spt[vals.is_binary], vals.luminosity[vals.is_binary])\n",
    "\n",
    "ax.errorbar(sings['grid'], sings['median'], yerr=sings['std'], label='singles')\n",
    "ax.errorbar(bins['grid'], bins['median'], yerr=bins['std'], label='binaries')\n",
    "\n",
    "ax.set(ylabel='Log Luminosity', xlabel='SpT')\n",
    "ax.legend()\n",
    "ax.minorticks_on()"
   ]
  },
  {
   "cell_type": "code",
   "execution_count": null,
   "metadata": {},
   "outputs": [],
   "source": [
    "np.nanmedian(-2.5*np.log10((10**sings['median']) /(10**bins['median'])))"
   ]
  },
  {
   "cell_type": "code",
   "execution_count": null,
   "metadata": {},
   "outputs": [],
   "source": [
    "get_abs_mag(vals.spt, '2MASS H')[0]"
   ]
  },
  {
   "cell_type": "code",
   "execution_count": null,
   "metadata": {},
   "outputs": [],
   "source": [
    "fig, ax=plt.subplots()\n",
    "hx=plt.hist(vals.abs_2MASS_H.values, log=True, histtype='step', lw=5)\n",
    "hxy=plt.hist(vals.abs_2MASS_J.values, log=True, histtype='step', lw=5)"
   ]
  },
  {
   "cell_type": "code",
   "execution_count": null,
   "metadata": {},
   "outputs": [],
   "source": [
    "popsims"
   ]
  },
  {
   "cell_type": "code",
   "execution_count": null,
   "metadata": {},
   "outputs": [],
   "source": [
    "fig, ax=plt.subplots()\n",
    "\n",
    "sings=group_by_spt(vals.spt[~vals.is_binary],vals.abs_2MASS_J[~vals.is_binary])\n",
    "bins=group_by_spt(vals.spt[vals.is_binary], vals.abs_2MASS_J[vals.is_binary])\n",
    "\n",
    "ax.errorbar(sings['grid'], sings['median'], label='singles')\n",
    "ax.errorbar(bins['grid'], bins['median'], label='binaries')\n",
    "#ax.plot(bins['grid'], get_abs_mag(bins['grid'],'2MASS J')[0], label='pecaut')\n",
    "\n",
    "ax.set(ylabel='Abs J', xlabel='SpT')\n",
    "ax.legend()\n",
    "ax.minorticks_on()\n",
    "\n"
   ]
  },
  {
   "cell_type": "code",
   "execution_count": null,
   "metadata": {},
   "outputs": [],
   "source": [
    "spts=np.arange(15, 41)"
   ]
  },
  {
   "cell_type": "code",
   "execution_count": null,
   "metadata": {},
   "outputs": [],
   "source": [
    "np.place(spts, spts>=36, np.ones_like(spts[spts>=36]))"
   ]
  },
  {
   "cell_type": "code",
   "execution_count": null,
   "metadata": {},
   "outputs": [],
   "source": [
    " popsims.abs_mags.absolute_mag_kirkpatrick(spts[spts>=36], '2MASS H')[0]"
   ]
  },
  {
   "cell_type": "code",
   "execution_count": null,
   "metadata": {},
   "outputs": [],
   "source": [
    "fig, ax=plt.subplots()\n",
    "\n",
    "sings=group_by_spt(vals.spt[~vals.is_binary],vals.abs_2MASS_H[~vals.is_binary])\n",
    "bins=group_by_spt(vals.spt[vals.is_binary], vals.abs_2MASS_H[vals.is_binary])\n",
    "\n",
    "ax.errorbar(sings['grid'], sings['median'], label='singles')\n",
    "ax.errorbar(bins['grid'], bins['median'], label='binaries')\n",
    "#ax.plot(bins['grid'], get_abs_mag(bins['grid'],'2MASS H'), label='pecaut')\n",
    "\n",
    "ax.set(ylabel='Abs H', xlabel='SpT')\n",
    "ax.legend()\n",
    "ax.minorticks_on()\n"
   ]
  },
  {
   "cell_type": "code",
   "execution_count": null,
   "metadata": {},
   "outputs": [],
   "source": [
    "plt.hist(vals.abs_2MASS_H[~vals.is_binary])"
   ]
  },
  {
   "cell_type": "code",
   "execution_count": null,
   "metadata": {},
   "outputs": [],
   "source": [
    "np.nanmedian(sings['median']-(bins['median']))"
   ]
  },
  {
   "cell_type": "code",
   "execution_count": null,
   "metadata": {},
   "outputs": [],
   "source": [
    "popsims.get_mag_from_luminosity(3, 2, log=True)-popsims.get_mag_from_luminosity(2*3, 2, log=True)"
   ]
  },
  {
   "cell_type": "code",
   "execution_count": null,
   "metadata": {},
   "outputs": [],
   "source": []
  },
  {
   "cell_type": "code",
   "execution_count": null,
   "metadata": {},
   "outputs": [],
   "source": [
    "4.74+0.65"
   ]
  },
  {
   "cell_type": "code",
   "execution_count": null,
   "metadata": {},
   "outputs": [],
   "source": [
    "#hbjk"
   ]
  },
  {
   "cell_type": "code",
   "execution_count": null,
   "metadata": {},
   "outputs": [],
   "source": [
    "fig, ax=plt.subplots()\n",
    "h=plt.scatter(vals.sec_mass/vals.pri_mass, \\\n",
    "              -2.5*np.log10(10**vals.luminosity/vals.prim_luminosity), s=1, \\\n",
    "              c=np.log10(vals.age),\n",
    "              alpha=0.01, cmap='cividis')\n",
    "ax.set(xlabel='Mass ratio', ylabel=' Log Luminosity (system/primary)')"
   ]
  },
  {
   "cell_type": "code",
   "execution_count": null,
   "metadata": {},
   "outputs": [],
   "source": [
    "@np.vectorize      \n",
    "def splat_teff_from_spt(spt):\n",
    "    rel=splat.SPT_TEFF_RELATIONS['pecaut']\n",
    "    #spt_sorted_idx=np.argsort(rel['values'])\n",
    "\n",
    "    teff=np.interp(spt, np.array(rel['spt']),  np.array(rel['values']))\n",
    "    return np.random.normal(teff, 108)"
   ]
  },
  {
   "cell_type": "code",
   "execution_count": null,
   "metadata": {},
   "outputs": [],
   "source": [
    "spgrid=np.random.uniform(10, 41, 10000)\n",
    "plt.scatter(spgrid, splat_teff_from_spt(spgrid), s=1.)\n"
   ]
  },
  {
   "cell_type": "code",
   "execution_count": null,
   "metadata": {},
   "outputs": [],
   "source": [
    "ghjk"
   ]
  },
  {
   "cell_type": "code",
   "execution_count": null,
   "metadata": {},
   "outputs": [],
   "source": [
    "#plt.scatter(vals['spt'],\\\n",
    "#         popsims.fillipazzo_bolometric_correction(vals['spt'].values, \\\n",
    " #                                                 filt='2MASS_J', mask=vals['spt']>39),\n",
    " #        s=1, alpha=0.01)\n"
   ]
  },
  {
   "cell_type": "code",
   "execution_count": null,
   "metadata": {},
   "outputs": [],
   "source": [
    "#-2.5*np.log10(10**vals.luminosity/vals.prim_luminosity)"
   ]
  },
  {
   "cell_type": "code",
   "execution_count": null,
   "metadata": {},
   "outputs": [],
   "source": [
    "def get_distances(spts):\n",
    "    return pd.Series({'distanc': np.random.uniform(0, 10, len(spts)),\n",
    "                     'lol': np.random.uniform(0, 10, len(spts))})"
   ]
  },
  {
   "cell_type": "code",
   "execution_count": null,
   "metadata": {},
   "outputs": [],
   "source": [
    "h=350\n",
    "model='baraffe2003'"
   ]
  },
  {
   "cell_type": "code",
   "execution_count": null,
   "metadata": {},
   "outputs": [],
   "source": [
    "str(model)+str(h)+str(h)+'F110_corrected'"
   ]
  },
  {
   "cell_type": "code",
   "execution_count": null,
   "metadata": {},
   "outputs": [],
   "source": [
    "data_bins=pd.read_hdf(popsims.DATA_FOLDER+'/final_simulated_sample_cut_binaries.h5',\\\n",
    "                      key=str(model)+str(h)+str('spt_abs_mag'))\n",
    "data=pd.read_hdf(popsims.DATA_FOLDER+'/final_simulated_sample_cut.h5', key=str(model)+str('h')+str(h)+'F110_corrected')"
   ]
  },
  {
   "cell_type": "code",
   "execution_count": null,
   "metadata": {},
   "outputs": [],
   "source": []
  },
  {
   "cell_type": "code",
   "execution_count": null,
   "metadata": {},
   "outputs": [],
   "source": [
    "fig, (ax, ax1)=plt.subplots(figsize=(12, 6), ncols=2, sharey=True)\n",
    "\n",
    "\n",
    "ax.scatter(data_bins['spt'][~data_bins.is_cut.values], \n",
    "           np.log10(data_bins['snrj'])[~data_bins.is_cut.values],\n",
    "           c=data_bins['slprob'][~data_bins.is_cut.values], \n",
    "           alpha=0.1, s=1, cmap='cividis')\n",
    "\n",
    "ax1.scatter(data['spt'], np.log10(data['snr']), c=data['sl'], \n",
    "           alpha=0.1, s=1, cmap='cividis')"
   ]
  },
  {
   "cell_type": "code",
   "execution_count": null,
   "metadata": {},
   "outputs": [],
   "source": [
    "#count the number of stars\n",
    "len(vals[vals.is_binary])/len(vals[~vals.is_binary])"
   ]
  },
  {
   "cell_type": "code",
   "execution_count": null,
   "metadata": {},
   "outputs": [],
   "source": [
    "fig, ax=plt.subplots()\n",
    "h=plt.hist(data['spt'].values, bins=23, histtype='step', lw=3, density=True, label='Old')\n",
    "h=plt.hist(data_bins['spt'][~data_bins.is_cut.values].values, bins=23,\\\n",
    "           histtype='step', lw=3, label='New', density=True)\n",
    "plt.legend()\n",
    "ax.set(xlabel='Spectral Type')"
   ]
  },
  {
   "cell_type": "code",
   "execution_count": null,
   "metadata": {},
   "outputs": [],
   "source": [
    "#compare number counts\n",
    "nobins=pd.read_pickle(popsims.DATA_FOLDER+'/expected_numbers_wisps_no_binaries.pkl')\n",
    "plusbins=pd.read_pickle(popsims.DATA_FOLDER+'/expected_numbers_wisps_plus_binaries.pkl')"
   ]
  },
  {
   "cell_type": "code",
   "execution_count": null,
   "metadata": {},
   "outputs": [],
   "source": [
    "spgrid=[17, 18, 19, 20, 21, 22, 23, 24, 25, 26, 27, 28, 29, 30, 31, 32, 33,\n",
    "        34, 35, 36, 37, 38, 39, 40, 41]"
   ]
  },
  {
   "cell_type": "code",
   "execution_count": null,
   "metadata": {},
   "outputs": [],
   "source": []
  },
  {
   "cell_type": "code",
   "execution_count": null,
   "metadata": {},
   "outputs": [],
   "source": [
    "fig, ax=plt.subplots()\n",
    "ax.step(spgrid, np.array(nobins['densities'][model][5])[:,0]*nobins['volumes'][5], \\\n",
    "        label='Old')\n",
    "ax.step(spgrid, np.array(plusbins['densities'][model][5])[:,0]*plusbins['volumes'][5], \\\n",
    "        label='New')\n",
    "#ax.errorbar(spgrid, plusbins['nobs'], yerr= plusbins['nobs']**0.5, c='k', fmt='o')\n",
    "ax.legend()\n",
    "ax.set(yscale='log', xlabel='SpT',ylabel='Counts')"
   ]
  },
  {
   "cell_type": "code",
   "execution_count": null,
   "metadata": {},
   "outputs": [],
   "source": [
    "fig, ax=plt.subplots(figsize=(12, 6), ncols= 3, sharey=True)\n",
    "\n",
    "for a, mag_key in zip(ax, ['F110', 'F140', 'F160']):\n",
    "    h=a.hist(data['app{}'.format(mag_key.lower())].values, bins='auto', histtype='step', lw=3, density=True, label='Old')\n",
    "    h=a.hist(data_bins['app{}'.format(mag_key)][~data_bins.is_cut.values].values, bins='auto',\\\n",
    "               histtype='step', lw=3, label='New', density=True)\n",
    "    a.legend()\n",
    "    a.set(xlabel=mag_key)"
   ]
  },
  {
   "cell_type": "code",
   "execution_count": null,
   "metadata": {},
   "outputs": [],
   "source": [
    "fig, ax=plt.subplots(figsize=(12, 6), ncols= 3, sharey=True)\n",
    "\n",
    "for a, mag_key in zip(ax, ['F110', 'F140', 'F160']):\n",
    "    h=a.hist(data_bins['app{}'.format(mag_key)][(~data_bins.is_cut.values) & (~data_bins.is_binary)].values, \\\n",
    "             bins='auto',histtype='step', lw=3, label='Single', density=True)\n",
    "    h=a.hist(data_bins['app{}'.format(mag_key)][(~data_bins.is_cut.values) & (data_bins.is_binary)].values, \\\n",
    "             bins='auto',histtype='step', lw=3, label='Binary', density=True)\n",
    "    a.legend()\n",
    "    a.set(xlabel=mag_key)"
   ]
  },
  {
   "cell_type": "code",
   "execution_count": null,
   "metadata": {},
   "outputs": [],
   "source": [
    "data_bins.dist[(~data_bins.is_cut.values) & (~data_bins.is_binary)].values"
   ]
  },
  {
   "cell_type": "code",
   "execution_count": null,
   "metadata": {},
   "outputs": [],
   "source": [
    "fig, ax=plt.subplots()\n",
    "\n",
    "h=ax.hist(np.log10(data_bins.dist[(~data_bins.is_cut.values) & (~data_bins.is_binary)].values), \\\n",
    "         bins='auto',  range=np.log10([10, 3000]), histtype='step', lw=3, label='Single', density=True)\n",
    "h=ax.hist(np.log10(data_bins.dist[(~data_bins.is_cut.values) & (data_bins.is_binary)].values), \\\n",
    "         bins='auto', range=np.log10([10, 3000]), histtype='step', lw=3, label='Binary', density=True)\n",
    "ax.legend()\n",
    "ax.set(xlabel='Log Distance')\n",
    "plt.savefig('/users/caganze/desktop/binaries_distances.pdf')"
   ]
  },
  {
   "cell_type": "code",
   "execution_count": null,
   "metadata": {},
   "outputs": [],
   "source": [
    "import splat.empirical as spe"
   ]
  },
  {
   "cell_type": "code",
   "execution_count": null,
   "metadata": {},
   "outputs": [],
   "source": [
    "spe.typeToTeff(np.arange(15, 40))[0].value"
   ]
  },
  {
   "cell_type": "code",
   "execution_count": null,
   "metadata": {},
   "outputs": [],
   "source": [
    "    "
   ]
  },
  {
   "cell_type": "code",
   "execution_count": null,
   "metadata": {},
   "outputs": [],
   "source": [
    "ax.hist2d?"
   ]
  },
  {
   "cell_type": "code",
   "execution_count": null,
   "metadata": {},
   "outputs": [],
   "source": [
    "fig, ax=plt.subplots(figsize=(10, 6),  sharex=True, sharey=True)\n",
    "\n",
    "h=ax.hist2d(np.log10(data_bins.dist[(~data_bins.is_cut.values) ].values).flatten(), \\\n",
    "             data_bins.spt[(~data_bins.is_cut.values) ].values,\\\n",
    "         bins=23, density=True, cmap='Blues')\n",
    "#h=ax1.hist2d(np.log10(data_bins.dist[(~data_bins.is_cut.values) & (data_bins.is_binary)].values.flatten()), \\\n",
    "#             data_bins.spt[(~data_bins.is_cut.values) & (data_bins.is_binary)].values,\\\n",
    "#         bins=23, density=True, cmap='Blues')\n",
    "\n",
    "h=ax.scatter(np.log10(data_bins.dist[(~data_bins.is_cut.values) & (~data_bins.is_binary)].values).flatten(), \\\n",
    "             data_bins.spt[(~data_bins.is_cut.values) & (~data_bins.is_binary)].values, s=15, c='k', alpha=0.1)\n",
    "\n",
    "h=ax.scatter(np.log10(data_bins.dist[(~data_bins.is_cut.values) & (data_bins.is_binary)].values.flatten()), \\\n",
    "             data_bins.spt[(~data_bins.is_cut.values) & (data_bins.is_binary)].values,\\\n",
    "          s=15, c='r', alpha=0.1)\n",
    "ax.legend()\n",
    "ax.set(xlabel='Log Distance', ylabel='Spectral Type')"
   ]
  },
  {
   "cell_type": "code",
   "execution_count": null,
   "metadata": {},
   "outputs": [],
   "source": []
  },
  {
   "cell_type": "code",
   "execution_count": null,
   "metadata": {},
   "outputs": [],
   "source": [
    "cut_flag=data_bins.is_cut.values\n",
    "bin_flag=data_bins.is_binary.values"
   ]
  },
  {
   "cell_type": "code",
   "execution_count": null,
   "metadata": {},
   "outputs": [],
   "source": []
  },
  {
   "cell_type": "code",
   "execution_count": null,
   "metadata": {},
   "outputs": [],
   "source": [
    "fig, ax=plt.subplots()\n",
    "\n",
    "\n",
    "ne_sing=group_by_spt(data_bins['spt'][np.logical_and(~cut_flag, ~bin_flag)], \\\n",
    "                 data_bins['abs_2MASS_H'][np.logical_and(~cut_flag, ~bin_flag)])\n",
    "\n",
    "ne_bins=group_by_spt(data_bins['spt'][np.logical_and(~cut_flag, bin_flag)], \\\n",
    "                 data_bins['abs_2MASS_H'][np.logical_and(~cut_flag, bin_flag)])\n",
    "\n",
    "#ax.errorbar(prev['grid'], prev['median'],  ms=1, label='Prev')\n",
    "#ax.errorbar(ne['grid'], ne['median'],  ms=1, label='New')\n",
    "h=ax.errorbar(ne_sing['grid'], ne_sing['median'],  \\\n",
    "              yerr= ne_sing['std'], ms=1, label='Singles')\n",
    "h=ax.errorbar(ne_bins['grid'], ne_bins['median'],  \\\n",
    "              yerr= ne_sing['std'], ms=1, label='Binaries')\n",
    "\n",
    "#ax.plot(ne_sing['grid'], ne_sing['median']-ne_bins['median'])\n",
    "ax.legend()\n",
    "ax.minorticks_on()\n",
    "\n",
    "ax.legend()\n",
    "ax.set(xlabel='Spectral Type', ylabel='Abs H mag')"
   ]
  },
  {
   "cell_type": "code",
   "execution_count": null,
   "metadata": {},
   "outputs": [],
   "source": [
    "j, h=popsims.abs_mags.make_mamajek_fit(data_bins['spt'])"
   ]
  },
  {
   "cell_type": "code",
   "execution_count": null,
   "metadata": {},
   "outputs": [],
   "source": [
    "np.random.normal(j[0], 0.4)"
   ]
  },
  {
   "cell_type": "code",
   "execution_count": null,
   "metadata": {},
   "outputs": [],
   "source": [
    "fig, ax=plt.subplots()\n",
    "\n",
    "\n",
    "ne_sing=group_by_spt(data_bins['spt'][np.logical_and(~cut_flag, ~bin_flag)], \\\n",
    "                 data_bins['abs_2MASS_J'][np.logical_and(~cut_flag, ~bin_flag)])\n",
    "\n",
    "ne_bins=group_by_spt(data_bins['spt'][np.logical_and(~cut_flag, bin_flag)], \\\n",
    "                 data_bins['abs_2MASS_J'][np.logical_and(~cut_flag, bin_flag)])\n",
    "\n",
    "#ax.errorbar(prev['grid'], prev['median'],  ms=1, label='Prev')\n",
    "#ax.errorbar(ne['grid'], ne['median'],  ms=1, label='New')\n",
    "h=ax.errorbar(ne_sing['grid'], ne_sing['median'],  \\\n",
    "              yerr= ne_sing['std'], ms=1, label='Singles')\n",
    "h=ax.errorbar(ne_bins['grid'], ne_bins['median'],  \\\n",
    "              yerr= ne_sing['std'], ms=1, label='Binaries')\n",
    "\n",
    "#ax.plot(ne_sing['grid'], ne_sing['median']-ne_bins['median'])\n",
    "ax.legend()\n",
    "ax.minorticks_on()\n",
    "\n",
    "ax.legend()\n",
    "ax.set(xlabel='Spectral Type', ylabel='Abs J mag')"
   ]
  },
  {
   "cell_type": "code",
   "execution_count": null,
   "metadata": {},
   "outputs": [],
   "source": [
    "#2.5*np.log10(2)*"
   ]
  },
  {
   "cell_type": "code",
   "execution_count": null,
   "metadata": {},
   "outputs": [],
   "source": [
    "data_bins['spt_diff']=data_bins['sec_spt']-data_bins['prim_spt']"
   ]
  },
  {
   "cell_type": "code",
   "execution_count": null,
   "metadata": {},
   "outputs": [],
   "source": [
    "fig, ax=plt.subplots()\n",
    "prev=group_by_spt(data_bins['prim_spt'],data_bins['spt_diff'])\n",
    "ax.scatter(data_bins['prim_spt'],data_bins['spt_diff'], s=1, alpha=0.1)\n",
    "ax.errorbar(prev['grid'], prev['median'], yerr= prev['std'], ms=1, c='r')\n",
    "\n",
    "ax.axhline(0, linestyle='--', c='k')\n",
    "ax.set(ylabel='Primary-Secondary Types', xlabel='Primary Type')"
   ]
  },
  {
   "cell_type": "code",
   "execution_count": null,
   "metadata": {},
   "outputs": [],
   "source": [
    "fig, ax=plt.subplots(figsize=(12, 6), ncols= 3, sharey=True)\n",
    "\n",
    "for a, mag_key in zip(ax, ['F110', 'F140', 'F160']):\n",
    "    bools=np.logical_and((~data_bins.is_cut.values), (data_bins.is_binary))\n",
    "    \n",
    "    diff=data_bins['prim_abs{}'.format(mag_key)]-data_bins['sec_abs{}'.format(mag_key)]\n",
    "    \n",
    "    prev=group_by_spt(data_bins['spt'].values[bools], diff[bools])\n",
    "    a.scatter(data_bins['spt'].values[bools], diff[bools], s=1)\n",
    "    a.axhline(0, linestyle='--', c='k')\n",
    "    h=a.errorbar(prev['grid'], prev['median'], yerr= prev['std'], ms=1,  c='r')\n",
    "    a.set(xlabel='Primary Spectral Type', ylabel='Abs {} difference'.format(mag_key))"
   ]
  },
  {
   "cell_type": "code",
   "execution_count": null,
   "metadata": {},
   "outputs": [],
   "source": []
  },
  {
   "cell_type": "code",
   "execution_count": null,
   "metadata": {},
   "outputs": [],
   "source": [
    "fig, ax=plt.subplots(figsize=(12, 6), ncols= 3, sharey=True)\n",
    "\n",
    "for a, mag_key in zip(ax, ['F110', 'F140', 'F160']):\n",
    "    #prev=group_by_spt(data['spt'].values, data[mag_key.lower()].values)\n",
    "    ne=group_by_spt(data_bins['spt'][~(data_bins.is_cut.values) & (data_bins.is_binary)].values, \\\n",
    "                 data_bins['abs{}'.format(mag_key)][~(data_bins.is_cut.values) & (data_bins.is_binary)].values)\n",
    "    prev=group_by_spt(data_bins['spt'][~(data_bins.is_cut.values) & (~data_bins.is_binary)].values, \\\n",
    "                 data_bins['abs{}'.format(mag_key)][~(data_bins.is_cut.values) & (~data_bins.is_binary)].values)\n",
    "    h=a.errorbar(prev['grid'], prev['median'], yerr= prev['std'], ms=1, label='Singles')\n",
    "    h=a.errorbar(ne['grid'], ne['median'],  yerr= ne['std'], ms=1, label='Binaries')\n",
    "    a.legend()\n",
    "    a.set(xlabel='Spectral Type', ylabel='Abs{}'.format(mag_key))"
   ]
  },
  {
   "cell_type": "code",
   "execution_count": null,
   "metadata": {
    "scrolled": true
   },
   "outputs": [],
   "source": [
    "fig, ax=plt.subplots(figsize=(12, 6), ncols= 3, sharey=True)\n",
    "\n",
    "for a, mag_key in zip(ax, ['F110', 'F140', 'F160']):\n",
    "    prev=group_by_spt(data['spt'].values, data[mag_key.lower()].values)\n",
    "    ne=group_by_spt(data_bins['spt'][~data_bins.is_cut.values].values, \\\n",
    "                 data_bins['abs{}'.format(mag_key)][~data_bins.is_cut.values].values)\n",
    "    h=a.errorbar(prev['grid'], prev['median'], yerr= prev['std'], ms=1, label='Prev')\n",
    "    h=a.errorbar(ne['grid'], ne['median'],  yerr= ne['std'], ms=1, label='Ne')\n",
    "    a.legend()\n",
    "    a.set(xlabel='Spectral Type', ylabel='Abs{}'.format(mag_key))"
   ]
  }
 ],
 "metadata": {
  "kernelspec": {
   "display_name": "Python 3 (ipykernel)",
   "language": "python",
   "name": "python3"
  },
  "language_info": {
   "codemirror_mode": {
    "name": "ipython",
    "version": 3
   },
   "file_extension": ".py",
   "mimetype": "text/x-python",
   "name": "python",
   "nbconvert_exporter": "python",
   "pygments_lexer": "ipython3",
   "version": "3.9.7"
  }
 },
 "nbformat": 4,
 "nbformat_minor": 4
}
