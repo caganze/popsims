{
 "cells": [
  {
   "cell_type": "code",
   "execution_count": 1,
   "metadata": {},
   "outputs": [
    {
     "name": "stdout",
     "output_type": "stream",
     "text": [
      "Adding 89 sources from /Users/caganze/research/splat//resources/Spectra/Public/MAGE/ to spectral database\n",
      "Adding 2404 sources from /Users/caganze/research/splat//resources/Spectra/Public/SPEX-PRISM/ to spectral database\n",
      "Adding 145 sources from /Users/caganze/research/splat//resources/Spectra/Public/LRIS-RED/ to spectral database\n"
     ]
    }
   ],
   "source": [
    "import popsims\n",
    "import numpy as np\n",
    "import pandas as pd\n",
    "import splat\n",
    "import popsims\n",
    "from astropy.coordinates import SkyCoord, Galactic\n",
    "import matplotlib.pyplot as plt\n",
    "import seaborn as sns\n",
    "import scipy\n",
    "#sns.set_style(\"darkgrid\", {\"axes.facecolor\": \".95\"})\n",
    "\n",
    "#plt.style.use('fivethirtyeight')\n",
    "#plt.style.use('dark_background')\n",
    "\n",
    "from  matplotlib.colors import Normalize\n",
    "import astropy.units as u\n",
    "import popsims\n",
    "import matplotlib\n",
    "from tqdm import tqdm\n",
    "from tqdm import tqdm\n",
    "import matplotlib as mpl \n",
    "from popsims.abs_mags import get_abs_mag\n",
    "mpl.rcParams['figure.titlesize'] = 20\n",
    "\n",
    "splat.initializeStandards(all=True)\n",
    "\n",
    "%matplotlib inline"
   ]
  },
  {
   "cell_type": "code",
   "execution_count": 2,
   "metadata": {},
   "outputs": [],
   "source": [
    "def group_by_spt(spts, values, grid= np.arange(15, 41)):\n",
    "    res=np.ones_like(grid)*np.nan\n",
    "    std=np.ones_like(grid)*np.nan\n",
    "    mres=np.ones_like(grid)*np.nan\n",
    "    for idx, g in enumerate(grid):\n",
    "        if idx < len(grid)-1:\n",
    "            bools=np.logical_and(spts>=grid[idx], spts<grid[idx+1])\n",
    "        else:\n",
    "            bools=spts>=grid[-1]\n",
    "        np.place(res, grid==[grid[idx]], np.nanmedian(values[bools]) )\n",
    "        np.place(mres, grid==[grid[idx]], np.nanmean(values[bools]) )\n",
    "        np.place(std, grid==[grid[idx]], np.nanstd(values[bools]))\n",
    "    return {'grid': grid, 'median': res, 'std': std, 'mean': mres}"
   ]
  },
  {
   "cell_type": "code",
   "execution_count": 3,
   "metadata": {},
   "outputs": [],
   "source": [
    "def teff_from_spt(spt):\n",
    "    rel=splat.SPT_TEFF_RELATIONS['pecaut']\n",
    "    spt_sorted_idx=np.argsort(rel['values'])\n",
    "\n",
    "    teff=np.interp(spt, np.array(rel['spt'])[spt_sorted_idx],  np.array(rel['values'])[spt_sorted_idx])\n",
    "    return np.random.normal(teff, 108)\n"
   ]
  },
  {
   "cell_type": "code",
   "execution_count": 4,
   "metadata": {},
   "outputs": [],
   "source": [
    "x=np.ones(int(1e6))*20"
   ]
  },
  {
   "cell_type": "code",
   "execution_count": 5,
   "metadata": {},
   "outputs": [
    {
     "name": "stdout",
     "output_type": "stream",
     "text": [
      " "
     ]
    }
   ],
   "source": [
    "%%prun \n",
    "np.random.normal(x, 0.5)"
   ]
  },
  {
   "cell_type": "code",
   "execution_count": 6,
   "metadata": {},
   "outputs": [
    {
     "name": "stdout",
     "output_type": "stream",
     "text": [
      " "
     ]
    }
   ],
   "source": [
    "%%prun \n",
    "np.random.normal(x, x)"
   ]
  },
  {
   "cell_type": "code",
   "execution_count": 7,
   "metadata": {},
   "outputs": [],
   "source": [
    "import wisps.simulations as wispsim"
   ]
  },
  {
   "cell_type": "code",
   "execution_count": 8,
   "metadata": {},
   "outputs": [],
   "source": [
    "import wisps.simulations.effective_numbers as eff"
   ]
  },
  {
   "cell_type": "code",
   "execution_count": 9,
   "metadata": {},
   "outputs": [
    {
     "name": "stderr",
     "output_type": "stream",
     "text": [
      " 50%|█████     | 1/2 [20:30<20:30, 1230.53s/it]\n"
     ]
    },
    {
     "ename": "OSError",
     "evalue": "[Errno 6] Device not configured",
     "output_type": "error",
     "traceback": [
      "\u001b[0;31m---------------------------------------------------------------------------\u001b[0m",
      "\u001b[0;31mOSError\u001b[0m                                   Traceback (most recent call last)",
      "\u001b[0;32m<ipython-input-9-6ffb8d7b6a55>\u001b[0m in \u001b[0;36m<module>\u001b[0;34m\u001b[0m\n\u001b[0;32m----> 1\u001b[0;31m \u001b[0meff\u001b[0m\u001b[0;34m.\u001b[0m\u001b[0mget_all_values_from_model\u001b[0m\u001b[0;34m(\u001b[0m\u001b[0;34m'burrows2001'\u001b[0m\u001b[0;34m,\u001b[0m \u001b[0;34m[\u001b[0m\u001b[0;36m100\u001b[0m\u001b[0;34m,\u001b[0m \u001b[0;36m150\u001b[0m\u001b[0;34m]\u001b[0m\u001b[0;34m)\u001b[0m\u001b[0;34m\u001b[0m\u001b[0;34m\u001b[0m\u001b[0m\n\u001b[0m",
      "\u001b[0;32m~/research/wisps/wisps/simulations/effective_numbers.py\u001b[0m in \u001b[0;36mget_all_values_from_model\u001b[0;34m(model, hs)\u001b[0m\n\u001b[1;32m    425\u001b[0m     \u001b[0;31m#obtain spectral types from modelss\u001b[0m\u001b[0;34m\u001b[0m\u001b[0;34m\u001b[0m\u001b[0;34m\u001b[0m\u001b[0m\n\u001b[1;32m    426\u001b[0m     \u001b[0;32mfor\u001b[0m \u001b[0mh\u001b[0m \u001b[0;32min\u001b[0m \u001b[0mtqdm\u001b[0m\u001b[0;34m(\u001b[0m\u001b[0mhs\u001b[0m\u001b[0;34m)\u001b[0m\u001b[0;34m:\u001b[0m\u001b[0;34m\u001b[0m\u001b[0;34m\u001b[0m\u001b[0m\n\u001b[0;32m--> 427\u001b[0;31m         \u001b[0mcompute_effective_numbers\u001b[0m\u001b[0;34m(\u001b[0m\u001b[0mmodel\u001b[0m\u001b[0;34m,\u001b[0m \u001b[0mh\u001b[0m\u001b[0;34m)\u001b[0m\u001b[0;34m\u001b[0m\u001b[0;34m\u001b[0m\u001b[0m\n\u001b[0m\u001b[1;32m    428\u001b[0m \u001b[0;34m\u001b[0m\u001b[0m\n\u001b[1;32m    429\u001b[0m     \u001b[0;31m#syst=make_systems(model_name=model, bfraction=0.2)\u001b[0m\u001b[0;34m\u001b[0m\u001b[0;34m\u001b[0m\u001b[0;34m\u001b[0m\u001b[0m\n",
      "\u001b[0;32m~/research/wisps/wisps/simulations/effective_numbers.py\u001b[0m in \u001b[0;36mcompute_effective_numbers\u001b[0;34m(model, h)\u001b[0m\n\u001b[1;32m    186\u001b[0m \u001b[0;34m\u001b[0m\u001b[0m\n\u001b[1;32m    187\u001b[0m     \u001b[0;31m#assign distances and poiunts\u001b[0m\u001b[0;34m\u001b[0m\u001b[0;34m\u001b[0m\u001b[0;34m\u001b[0m\u001b[0m\n\u001b[0;32m--> 188\u001b[0;31m     \u001b[0mget_distances_and_pointings\u001b[0m\u001b[0;34m(\u001b[0m\u001b[0mdf0\u001b[0m\u001b[0;34m,\u001b[0m \u001b[0mh\u001b[0m\u001b[0;34m)\u001b[0m\u001b[0;34m\u001b[0m\u001b[0;34m\u001b[0m\u001b[0m\n\u001b[0m\u001b[1;32m    189\u001b[0m \u001b[0;34m\u001b[0m\u001b[0m\n\u001b[1;32m    190\u001b[0m \u001b[0;34m\u001b[0m\u001b[0m\n",
      "\u001b[0;32m~/research/wisps/wisps/simulations/effective_numbers.py\u001b[0m in \u001b[0;36mget_distances_and_pointings\u001b[0;34m(df, h)\u001b[0m\n\u001b[1;32m     82\u001b[0m \u001b[0;32mdef\u001b[0m \u001b[0mget_distances_and_pointings\u001b[0m\u001b[0;34m(\u001b[0m\u001b[0mdf\u001b[0m\u001b[0;34m,\u001b[0m \u001b[0mh\u001b[0m\u001b[0;34m)\u001b[0m\u001b[0;34m:\u001b[0m\u001b[0;34m\u001b[0m\u001b[0;34m\u001b[0m\u001b[0m\n\u001b[1;32m     83\u001b[0m \u001b[0;34m\u001b[0m\u001b[0m\n\u001b[0;32m---> 84\u001b[0;31m     \u001b[0mDISTANCE_SAMPLES\u001b[0m\u001b[0;34m=\u001b[0m\u001b[0mpd\u001b[0m\u001b[0;34m.\u001b[0m\u001b[0mread_pickle\u001b[0m\u001b[0;34m(\u001b[0m\u001b[0mwisps\u001b[0m\u001b[0;34m.\u001b[0m\u001b[0mOUTPUT_FILES\u001b[0m\u001b[0;34m+\u001b[0m\u001b[0;34m'/distance_samples{}.gz'\u001b[0m\u001b[0;34m.\u001b[0m\u001b[0mformat\u001b[0m\u001b[0;34m(\u001b[0m\u001b[0mh\u001b[0m\u001b[0;34m)\u001b[0m\u001b[0;34m)\u001b[0m\u001b[0;34m\u001b[0m\u001b[0;34m\u001b[0m\u001b[0m\n\u001b[0m\u001b[1;32m     85\u001b[0m     \u001b[0mvolumes\u001b[0m\u001b[0;34m=\u001b[0m\u001b[0mnp\u001b[0m\u001b[0;34m.\u001b[0m\u001b[0mvstack\u001b[0m\u001b[0;34m(\u001b[0m\u001b[0;34m[\u001b[0m\u001b[0mnp\u001b[0m\u001b[0;34m.\u001b[0m\u001b[0mnansum\u001b[0m\u001b[0;34m(\u001b[0m\u001b[0mlist\u001b[0m\u001b[0;34m(\u001b[0m\u001b[0mx\u001b[0m\u001b[0;34m.\u001b[0m\u001b[0mvolumes\u001b[0m\u001b[0;34m[\u001b[0m\u001b[0mh\u001b[0m\u001b[0;34m]\u001b[0m\u001b[0;34m.\u001b[0m\u001b[0mvalues\u001b[0m\u001b[0;34m(\u001b[0m\u001b[0;34m)\u001b[0m\u001b[0;34m)\u001b[0m\u001b[0;34m)\u001b[0m \u001b[0;32mfor\u001b[0m \u001b[0mx\u001b[0m \u001b[0;32min\u001b[0m \u001b[0mPOINTINGS\u001b[0m\u001b[0;34m]\u001b[0m\u001b[0;34m)\u001b[0m\u001b[0;34m.\u001b[0m\u001b[0mflatten\u001b[0m\u001b[0;34m(\u001b[0m\u001b[0;34m)\u001b[0m\u001b[0;34m\u001b[0m\u001b[0;34m\u001b[0m\u001b[0m\n\u001b[1;32m     86\u001b[0m     \u001b[0mvolumes_cdf\u001b[0m\u001b[0;34m=\u001b[0m\u001b[0mnp\u001b[0m\u001b[0;34m.\u001b[0m\u001b[0mcumsum\u001b[0m\u001b[0;34m(\u001b[0m\u001b[0mvolumes\u001b[0m\u001b[0;34m)\u001b[0m\u001b[0;34m/\u001b[0m\u001b[0mnp\u001b[0m\u001b[0;34m.\u001b[0m\u001b[0mnansum\u001b[0m\u001b[0;34m(\u001b[0m\u001b[0mvolumes\u001b[0m\u001b[0;34m)\u001b[0m\u001b[0;34m\u001b[0m\u001b[0;34m\u001b[0m\u001b[0m\n",
      "\u001b[0;32m/opt/anaconda3/lib/python3.8/site-packages/pandas/io/pickle.py\u001b[0m in \u001b[0;36mread_pickle\u001b[0;34m(filepath_or_buffer, compression, storage_options)\u001b[0m\n\u001b[1;32m    201\u001b[0m                     \u001b[0;31m# We want to silence any warnings about, e.g. moved modules.\u001b[0m\u001b[0;34m\u001b[0m\u001b[0;34m\u001b[0m\u001b[0;34m\u001b[0m\u001b[0m\n\u001b[1;32m    202\u001b[0m                     \u001b[0mwarnings\u001b[0m\u001b[0;34m.\u001b[0m\u001b[0msimplefilter\u001b[0m\u001b[0;34m(\u001b[0m\u001b[0;34m\"ignore\"\u001b[0m\u001b[0;34m,\u001b[0m \u001b[0mWarning\u001b[0m\u001b[0;34m)\u001b[0m\u001b[0;34m\u001b[0m\u001b[0;34m\u001b[0m\u001b[0m\n\u001b[0;32m--> 203\u001b[0;31m                     \u001b[0;32mreturn\u001b[0m \u001b[0mpickle\u001b[0m\u001b[0;34m.\u001b[0m\u001b[0mload\u001b[0m\u001b[0;34m(\u001b[0m\u001b[0mhandles\u001b[0m\u001b[0;34m.\u001b[0m\u001b[0mhandle\u001b[0m\u001b[0;34m)\u001b[0m  \u001b[0;31m# type: ignore[arg-type]\u001b[0m\u001b[0;34m\u001b[0m\u001b[0;34m\u001b[0m\u001b[0m\n\u001b[0m\u001b[1;32m    204\u001b[0m             \u001b[0;32mexcept\u001b[0m \u001b[0mexcs_to_catch\u001b[0m\u001b[0;34m:\u001b[0m\u001b[0;34m\u001b[0m\u001b[0;34m\u001b[0m\u001b[0m\n\u001b[1;32m    205\u001b[0m                 \u001b[0;31m# e.g.\u001b[0m\u001b[0;34m\u001b[0m\u001b[0;34m\u001b[0m\u001b[0;34m\u001b[0m\u001b[0m\n",
      "\u001b[0;32m/opt/anaconda3/lib/python3.8/gzip.py\u001b[0m in \u001b[0;36mread\u001b[0;34m(self, size)\u001b[0m\n\u001b[1;32m    290\u001b[0m             \u001b[0;32mimport\u001b[0m \u001b[0merrno\u001b[0m\u001b[0;34m\u001b[0m\u001b[0;34m\u001b[0m\u001b[0m\n\u001b[1;32m    291\u001b[0m             \u001b[0;32mraise\u001b[0m \u001b[0mOSError\u001b[0m\u001b[0;34m(\u001b[0m\u001b[0merrno\u001b[0m\u001b[0;34m.\u001b[0m\u001b[0mEBADF\u001b[0m\u001b[0;34m,\u001b[0m \u001b[0;34m\"read() on write-only GzipFile object\"\u001b[0m\u001b[0;34m)\u001b[0m\u001b[0;34m\u001b[0m\u001b[0;34m\u001b[0m\u001b[0m\n\u001b[0;32m--> 292\u001b[0;31m         \u001b[0;32mreturn\u001b[0m \u001b[0mself\u001b[0m\u001b[0;34m.\u001b[0m\u001b[0m_buffer\u001b[0m\u001b[0;34m.\u001b[0m\u001b[0mread\u001b[0m\u001b[0;34m(\u001b[0m\u001b[0msize\u001b[0m\u001b[0;34m)\u001b[0m\u001b[0;34m\u001b[0m\u001b[0;34m\u001b[0m\u001b[0m\n\u001b[0m\u001b[1;32m    293\u001b[0m \u001b[0;34m\u001b[0m\u001b[0m\n\u001b[1;32m    294\u001b[0m     \u001b[0;32mdef\u001b[0m \u001b[0mread1\u001b[0m\u001b[0;34m(\u001b[0m\u001b[0mself\u001b[0m\u001b[0;34m,\u001b[0m \u001b[0msize\u001b[0m\u001b[0;34m=\u001b[0m\u001b[0;34m-\u001b[0m\u001b[0;36m1\u001b[0m\u001b[0;34m)\u001b[0m\u001b[0;34m:\u001b[0m\u001b[0;34m\u001b[0m\u001b[0;34m\u001b[0m\u001b[0m\n",
      "\u001b[0;32m/opt/anaconda3/lib/python3.8/_compression.py\u001b[0m in \u001b[0;36mreadinto\u001b[0;34m(self, b)\u001b[0m\n\u001b[1;32m     66\u001b[0m     \u001b[0;32mdef\u001b[0m \u001b[0mreadinto\u001b[0m\u001b[0;34m(\u001b[0m\u001b[0mself\u001b[0m\u001b[0;34m,\u001b[0m \u001b[0mb\u001b[0m\u001b[0;34m)\u001b[0m\u001b[0;34m:\u001b[0m\u001b[0;34m\u001b[0m\u001b[0;34m\u001b[0m\u001b[0m\n\u001b[1;32m     67\u001b[0m         \u001b[0;32mwith\u001b[0m \u001b[0mmemoryview\u001b[0m\u001b[0;34m(\u001b[0m\u001b[0mb\u001b[0m\u001b[0;34m)\u001b[0m \u001b[0;32mas\u001b[0m \u001b[0mview\u001b[0m\u001b[0;34m,\u001b[0m \u001b[0mview\u001b[0m\u001b[0;34m.\u001b[0m\u001b[0mcast\u001b[0m\u001b[0;34m(\u001b[0m\u001b[0;34m\"B\"\u001b[0m\u001b[0;34m)\u001b[0m \u001b[0;32mas\u001b[0m \u001b[0mbyte_view\u001b[0m\u001b[0;34m:\u001b[0m\u001b[0;34m\u001b[0m\u001b[0;34m\u001b[0m\u001b[0m\n\u001b[0;32m---> 68\u001b[0;31m             \u001b[0mdata\u001b[0m \u001b[0;34m=\u001b[0m \u001b[0mself\u001b[0m\u001b[0;34m.\u001b[0m\u001b[0mread\u001b[0m\u001b[0;34m(\u001b[0m\u001b[0mlen\u001b[0m\u001b[0;34m(\u001b[0m\u001b[0mbyte_view\u001b[0m\u001b[0;34m)\u001b[0m\u001b[0;34m)\u001b[0m\u001b[0;34m\u001b[0m\u001b[0;34m\u001b[0m\u001b[0m\n\u001b[0m\u001b[1;32m     69\u001b[0m             \u001b[0mbyte_view\u001b[0m\u001b[0;34m[\u001b[0m\u001b[0;34m:\u001b[0m\u001b[0mlen\u001b[0m\u001b[0;34m(\u001b[0m\u001b[0mdata\u001b[0m\u001b[0;34m)\u001b[0m\u001b[0;34m]\u001b[0m \u001b[0;34m=\u001b[0m \u001b[0mdata\u001b[0m\u001b[0;34m\u001b[0m\u001b[0;34m\u001b[0m\u001b[0m\n\u001b[1;32m     70\u001b[0m         \u001b[0;32mreturn\u001b[0m \u001b[0mlen\u001b[0m\u001b[0;34m(\u001b[0m\u001b[0mdata\u001b[0m\u001b[0;34m)\u001b[0m\u001b[0;34m\u001b[0m\u001b[0;34m\u001b[0m\u001b[0m\n",
      "\u001b[0;32m/opt/anaconda3/lib/python3.8/gzip.py\u001b[0m in \u001b[0;36mread\u001b[0;34m(self, size)\u001b[0m\n\u001b[1;32m    483\u001b[0m \u001b[0;34m\u001b[0m\u001b[0m\n\u001b[1;32m    484\u001b[0m             \u001b[0;31m# Read a chunk of data from the file\u001b[0m\u001b[0;34m\u001b[0m\u001b[0;34m\u001b[0m\u001b[0;34m\u001b[0m\u001b[0m\n\u001b[0;32m--> 485\u001b[0;31m             \u001b[0mbuf\u001b[0m \u001b[0;34m=\u001b[0m \u001b[0mself\u001b[0m\u001b[0;34m.\u001b[0m\u001b[0m_fp\u001b[0m\u001b[0;34m.\u001b[0m\u001b[0mread\u001b[0m\u001b[0;34m(\u001b[0m\u001b[0mio\u001b[0m\u001b[0;34m.\u001b[0m\u001b[0mDEFAULT_BUFFER_SIZE\u001b[0m\u001b[0;34m)\u001b[0m\u001b[0;34m\u001b[0m\u001b[0;34m\u001b[0m\u001b[0m\n\u001b[0m\u001b[1;32m    486\u001b[0m \u001b[0;34m\u001b[0m\u001b[0m\n\u001b[1;32m    487\u001b[0m             \u001b[0muncompress\u001b[0m \u001b[0;34m=\u001b[0m \u001b[0mself\u001b[0m\u001b[0;34m.\u001b[0m\u001b[0m_decompressor\u001b[0m\u001b[0;34m.\u001b[0m\u001b[0mdecompress\u001b[0m\u001b[0;34m(\u001b[0m\u001b[0mbuf\u001b[0m\u001b[0;34m,\u001b[0m \u001b[0msize\u001b[0m\u001b[0;34m)\u001b[0m\u001b[0;34m\u001b[0m\u001b[0;34m\u001b[0m\u001b[0m\n",
      "\u001b[0;32m/opt/anaconda3/lib/python3.8/gzip.py\u001b[0m in \u001b[0;36mread\u001b[0;34m(self, size)\u001b[0m\n\u001b[1;32m     85\u001b[0m     \u001b[0;32mdef\u001b[0m \u001b[0mread\u001b[0m\u001b[0;34m(\u001b[0m\u001b[0mself\u001b[0m\u001b[0;34m,\u001b[0m \u001b[0msize\u001b[0m\u001b[0;34m)\u001b[0m\u001b[0;34m:\u001b[0m\u001b[0;34m\u001b[0m\u001b[0;34m\u001b[0m\u001b[0m\n\u001b[1;32m     86\u001b[0m         \u001b[0;32mif\u001b[0m \u001b[0mself\u001b[0m\u001b[0;34m.\u001b[0m\u001b[0m_read\u001b[0m \u001b[0;32mis\u001b[0m \u001b[0;32mNone\u001b[0m\u001b[0;34m:\u001b[0m\u001b[0;34m\u001b[0m\u001b[0;34m\u001b[0m\u001b[0m\n\u001b[0;32m---> 87\u001b[0;31m             \u001b[0;32mreturn\u001b[0m \u001b[0mself\u001b[0m\u001b[0;34m.\u001b[0m\u001b[0mfile\u001b[0m\u001b[0;34m.\u001b[0m\u001b[0mread\u001b[0m\u001b[0;34m(\u001b[0m\u001b[0msize\u001b[0m\u001b[0;34m)\u001b[0m\u001b[0;34m\u001b[0m\u001b[0;34m\u001b[0m\u001b[0m\n\u001b[0m\u001b[1;32m     88\u001b[0m         \u001b[0;32mif\u001b[0m \u001b[0mself\u001b[0m\u001b[0;34m.\u001b[0m\u001b[0m_read\u001b[0m \u001b[0;34m+\u001b[0m \u001b[0msize\u001b[0m \u001b[0;34m<=\u001b[0m \u001b[0mself\u001b[0m\u001b[0;34m.\u001b[0m\u001b[0m_length\u001b[0m\u001b[0;34m:\u001b[0m\u001b[0;34m\u001b[0m\u001b[0;34m\u001b[0m\u001b[0m\n\u001b[1;32m     89\u001b[0m             \u001b[0mread\u001b[0m \u001b[0;34m=\u001b[0m \u001b[0mself\u001b[0m\u001b[0;34m.\u001b[0m\u001b[0m_read\u001b[0m\u001b[0;34m\u001b[0m\u001b[0;34m\u001b[0m\u001b[0m\n",
      "\u001b[0;31mOSError\u001b[0m: [Errno 6] Device not configured"
     ]
    }
   ],
   "source": [
    "eff.get_all_values_from_model('burrows2001', [100, 150])"
   ]
  },
  {
   "cell_type": "code",
   "execution_count": null,
   "metadata": {},
   "outputs": [],
   "source": [
    "%%prun \n",
    " vals=popsims.make_systems(bfraction=0.2, nsample=1e643)\n",
    "    "
   ]
  },
  {
   "cell_type": "code",
   "execution_count": null,
   "metadata": {},
   "outputs": [],
   "source": [
    "ghjkl"
   ]
  },
  {
   "cell_type": "code",
   "execution_count": null,
   "metadata": {
    "scrolled": true
   },
   "outputs": [],
   "source": [
    "fig, ax=plt.subplots(figsize=(10, 6))\n",
    "for b_fraction in tqdm([0.01, 0.2, 0.5]):\n",
    "    vals=popsims.make_systems(bfraction=b_fraction)\n",
    "    h=plt.hist(vals['spt'], density=True,  range=[17, 40], \\\n",
    "           histtype='step', bins=23, lw=3,  log=True, label=r'B {}'.format(b_fraction))\n",
    "ax.legend()\n"
   ]
  },
  {
   "cell_type": "code",
   "execution_count": null,
   "metadata": {},
   "outputs": [],
   "source": [
    "#hjk"
   ]
  },
  {
   "cell_type": "code",
   "execution_count": null,
   "metadata": {},
   "outputs": [],
   "source": [
    "vals=popsims.make_systems(bfraction=0.2)"
   ]
  },
  {
   "cell_type": "code",
   "execution_count": null,
   "metadata": {},
   "outputs": [],
   "source": [
    "#mass functuin and mass ratio distributin"
   ]
  },
  {
   "cell_type": "code",
   "execution_count": null,
   "metadata": {},
   "outputs": [],
   "source": [
    "#"
   ]
  },
  {
   "cell_type": "code",
   "execution_count": null,
   "metadata": {},
   "outputs": [],
   "source": [
    "fig, ax=plt.subplots()\n",
    "h=plt.hist(vals.sec_mass/vals.pri_mass,  histtype='step', lw=5,  log=True)\n",
    "ax.set(xlabel='Mass Ratio')"
   ]
  },
  {
   "cell_type": "code",
   "execution_count": null,
   "metadata": {},
   "outputs": [],
   "source": [
    "#fig, "
   ]
  },
  {
   "cell_type": "code",
   "execution_count": null,
   "metadata": {},
   "outputs": [],
   "source": [
    "fig, ax=plt.subplots()\n",
    "h=plt.hist(vals['spt'][vals.is_binary], density=True,  range=[17, 40], \\\n",
    "           histtype='step', bins=23, lw=5,  label='binaries')\n",
    "h=plt.hist(vals['spt'][~vals.is_binary], bins=23, density=True, range=[17, 40], histtype='step', lw=5,\\\n",
    "          label='singles')\n",
    "ax.legend()\n",
    "ax.set(xlabel='SpT ')"
   ]
  },
  {
   "cell_type": "code",
   "execution_count": null,
   "metadata": {},
   "outputs": [],
   "source": [
    "fig, ax=plt.subplots()\n",
    "h=plt.hist(vals['temperature'][vals.is_binary], density=True,  \\\n",
    "           histtype='step', bins='auto', lw=5, range=[200, 3000], label='singles')\n",
    "h=plt.hist(vals['temperature'][~vals.is_binary],bins='auto', range=[200, 3000] , density=True, histtype='step', lw=5,\\\n",
    "          label='binaries')\n",
    "ax.legend()\n",
    "ax.set(xlabel='Teff', xlim=[400, 3000])"
   ]
  },
  {
   "cell_type": "code",
   "execution_count": null,
   "metadata": {},
   "outputs": [],
   "source": [
    "spgrid=np.append([np.nan, np.nan], np.arange(15, 41))"
   ]
  },
  {
   "cell_type": "code",
   "execution_count": null,
   "metadata": {},
   "outputs": [],
   "source": [
    "plt.plot(spgrid, popsims.abs_mags.make_mamajek_fit(spgrid)[0][0])"
   ]
  },
  {
   "cell_type": "code",
   "execution_count": null,
   "metadata": {},
   "outputs": [],
   "source": [
    "fig, ax=plt.subplots()\n",
    "h=plt.hist(vals['abs_2MASS_H'][vals.is_binary], density=True,  range=[5, 30],\\\n",
    "           histtype='step', lw=5, label='binaries' )\n",
    "h=plt.hist(vals['abs_2MASS_H'][~vals.is_binary], density=True, range=[5, 30], \\\n",
    "           histtype='step', lw=5, label='singles' )\n",
    "ax.legend()\n",
    "ax.set(xlabel='J mag ')"
   ]
  },
  {
   "cell_type": "code",
   "execution_count": null,
   "metadata": {},
   "outputs": [],
   "source": [
    "fig, ax=plt.subplots()\n",
    "sings=group_by_spt(vals.spt[~vals.is_binary],vals.temperature[~vals.is_binary])\n",
    "bins=group_by_spt(vals.spt[vals.is_binary], vals.temperature[vals.is_binary])\n",
    "\n",
    "ax.errorbar(sings['grid'], sings['median'], label='singles')\n",
    "ax.errorbar(bins['grid'], bins['median'],  label='binaries')\n",
    "ax.legend()\n",
    "ax.set(ylabel='Teff', xlabel='SpT')"
   ]
  },
  {
   "cell_type": "code",
   "execution_count": null,
   "metadata": {},
   "outputs": [],
   "source": [
    "binaries=vals[vals.is_binary]"
   ]
  },
  {
   "cell_type": "code",
   "execution_count": null,
   "metadata": {},
   "outputs": [],
   "source": []
  },
  {
   "cell_type": "code",
   "execution_count": null,
   "metadata": {},
   "outputs": [],
   "source": [
    "fig, ax=plt.subplots()\n",
    "sings=group_by_spt(vals.abs_2MASS_H[~vals.is_binary],vals.temperature[~vals.is_binary])\n",
    "bins=group_by_spt(vals.abs_2MASS_H[vals.is_binary], vals.temperature[vals.is_binary])\n",
    "\n",
    "ax.errorbar(sings['grid'], sings['median'], label='singles (Evol Models) ')\n",
    "ax.errorbar(bins['grid'], bins['median'],  label='binaries')\n",
    "ax.plot(np.arange(15,25), popsims.get_teff_from_mag_ignore_unc(np.arange(15, 25)), label='Relation')\n",
    "ax.legend()\n",
    "ax.set(ylabel='Teff', xlabel='H mag')"
   ]
  },
  {
   "cell_type": "code",
   "execution_count": null,
   "metadata": {},
   "outputs": [],
   "source": [
    "#binaries.prim_spt"
   ]
  },
  {
   "cell_type": "code",
   "execution_count": null,
   "metadata": {},
   "outputs": [],
   "source": [
    "js=-2.5*np.log10(10**(-0.4*popsims.get_abs_mag(binaries['prim_spt'],'2MASS J')[0])+\\\n",
    "        10**(-0.4*popsims.get_abs_mag(binaries['sec_spt'],'2MASS J')[0]))"
   ]
  },
  {
   "cell_type": "code",
   "execution_count": null,
   "metadata": {},
   "outputs": [],
   "source": [
    "plt.hist(np.nan_to_num(js), range=[0, 15], log=True)"
   ]
  },
  {
   "cell_type": "code",
   "execution_count": null,
   "metadata": {},
   "outputs": [],
   "source": [
    "js_primns, junc_prims=popsims.get_abs_mag(vals['prim_spt'], '2MASS J')\n",
    "js_prims_to_use=np.random.normal(js_primns, junc_prims)\n",
    "\n",
    "hs_primns, hunc_prims=popsims.get_abs_mag(vals['prim_spt'], '2MASS H')\n",
    "hs_prims_to_use=np.random.normal(hs_primns, junc_prims)\n",
    "\n",
    "js_secs, junc_secs=popsims.get_abs_mag(vals['sec_spt'], '2MASS J')\n",
    "js_secs_to_use=np.random.normal(js_secs, junc_secs)\n"
   ]
  },
  {
   "cell_type": "code",
   "execution_count": null,
   "metadata": {},
   "outputs": [],
   "source": [
    "h=plt.hist(vals['prim_spt'])"
   ]
  },
  {
   "cell_type": "code",
   "execution_count": null,
   "metadata": {},
   "outputs": [],
   "source": [
    "fig, ax=plt.subplots()\n",
    "plt.scatter(popsims.dropnans(vals['prim_spt'].values), \\\n",
    "         popsims.dropnans(popsims.abs_mags.BEST['2MASS J'][1](popsims.dropnans(vals['prim_spt'].values))),\\\n",
    "           s=1)\n",
    "#plt.scatter( vals['prim_spt'].values,  js_prims_to_use, s=1)"
   ]
  },
  {
   "cell_type": "code",
   "execution_count": null,
   "metadata": {},
   "outputs": [],
   "source": [
    "#popsims.abs_mags."
   ]
  },
  {
   "cell_type": "code",
   "execution_count": null,
   "metadata": {},
   "outputs": [],
   "source": [
    " len(popsims.dropnans(hs_prims_to_use)), len(popsims.dropnans(vals['prim_spt'].values))"
   ]
  },
  {
   "cell_type": "code",
   "execution_count": null,
   "metadata": {},
   "outputs": [],
   "source": [
    "fig, ax=plt.subplots()\n",
    "ax.scatter(binaries.prim_spt, binaries.sec_spt, c=binaries['abs_2MASS_J'], s=1, \n",
    "           vmin=9, vmax=25, cmap='cubehelix')"
   ]
  },
  {
   "cell_type": "code",
   "execution_count": null,
   "metadata": {
    "scrolled": true
   },
   "outputs": [],
   "source": [
    "fig, ax=plt.subplots()\n",
    "sings=group_by_spt(vals.spt[~vals.is_binary],vals.luminosity[~vals.is_binary])\n",
    "bins=group_by_spt(vals.spt[vals.is_binary], vals.luminosity[vals.is_binary])\n",
    "\n",
    "ax.errorbar(sings['grid'], sings['median'], yerr=sings['std'], label='singles')\n",
    "ax.errorbar(bins['grid'], bins['median'], yerr=bins['std'], label='binaries')\n",
    "\n",
    "ax.set(ylabel='Log Luminosity', xlabel='SpT')\n",
    "ax.legend()\n",
    "ax.minorticks_on()"
   ]
  },
  {
   "cell_type": "code",
   "execution_count": null,
   "metadata": {},
   "outputs": [],
   "source": [
    "np.nanmedian(-2.5*np.log10((10**sings['median']) /(10**bins['median'])))"
   ]
  },
  {
   "cell_type": "code",
   "execution_count": null,
   "metadata": {},
   "outputs": [],
   "source": [
    "get_abs_mag(vals.spt, '2MASS H')[0]"
   ]
  },
  {
   "cell_type": "code",
   "execution_count": null,
   "metadata": {},
   "outputs": [],
   "source": [
    "fig, ax=plt.subplots()\n",
    "hx=plt.hist(vals.abs_2MASS_H.values, log=True, histtype='step', lw=5)\n",
    "hxy=plt.hist(vals.abs_2MASS_J.values, log=True, histtype='step', lw=5)"
   ]
  },
  {
   "cell_type": "code",
   "execution_count": null,
   "metadata": {},
   "outputs": [],
   "source": [
    "popsims"
   ]
  },
  {
   "cell_type": "code",
   "execution_count": null,
   "metadata": {},
   "outputs": [],
   "source": [
    "fig, ax=plt.subplots()\n",
    "\n",
    "sings=group_by_spt(vals.spt[~vals.is_binary],vals.abs_2MASS_J[~vals.is_binary])\n",
    "bins=group_by_spt(vals.spt[vals.is_binary], vals.abs_2MASS_J[vals.is_binary])\n",
    "\n",
    "ax.errorbar(sings['grid'], sings['median'], label='singles')\n",
    "ax.errorbar(bins['grid'], bins['median'], label='binaries')\n",
    "#ax.plot(bins['grid'], get_abs_mag(bins['grid'],'2MASS J')[0], label='pecaut')\n",
    "\n",
    "ax.set(ylabel='Abs J', xlabel='SpT')\n",
    "ax.legend()\n",
    "ax.minorticks_on()\n",
    "\n"
   ]
  },
  {
   "cell_type": "code",
   "execution_count": null,
   "metadata": {},
   "outputs": [],
   "source": [
    "spts=np.arange(15, 41)"
   ]
  },
  {
   "cell_type": "code",
   "execution_count": null,
   "metadata": {},
   "outputs": [],
   "source": [
    "np.place(spts, spts>=36, np.ones_like(spts[spts>=36]))"
   ]
  },
  {
   "cell_type": "code",
   "execution_count": null,
   "metadata": {},
   "outputs": [],
   "source": [
    " popsims.abs_mags.absolute_mag_kirkpatrick(spts[spts>=36], '2MASS H')[0]"
   ]
  },
  {
   "cell_type": "code",
   "execution_count": null,
   "metadata": {},
   "outputs": [],
   "source": [
    "fig, ax=plt.subplots()\n",
    "\n",
    "sings=group_by_spt(vals.spt[~vals.is_binary],vals.abs_2MASS_H[~vals.is_binary])\n",
    "bins=group_by_spt(vals.spt[vals.is_binary], vals.abs_2MASS_H[vals.is_binary])\n",
    "\n",
    "ax.errorbar(sings['grid'], sings['median'], label='singles')\n",
    "ax.errorbar(bins['grid'], bins['median'], label='binaries')\n",
    "#ax.plot(bins['grid'], get_abs_mag(bins['grid'],'2MASS H'), label='pecaut')\n",
    "\n",
    "ax.set(ylabel='Abs H', xlabel='SpT')\n",
    "ax.legend()\n",
    "ax.minorticks_on()\n"
   ]
  },
  {
   "cell_type": "code",
   "execution_count": null,
   "metadata": {},
   "outputs": [],
   "source": [
    "plt.hist(vals.abs_2MASS_H[~vals.is_binary])"
   ]
  },
  {
   "cell_type": "code",
   "execution_count": null,
   "metadata": {},
   "outputs": [],
   "source": [
    "np.nanmedian(sings['median']-(bins['median']))"
   ]
  },
  {
   "cell_type": "code",
   "execution_count": null,
   "metadata": {},
   "outputs": [],
   "source": [
    "popsims.get_mag_from_luminosity(3, 2, log=True)-popsims.get_mag_from_luminosity(2*3, 2, log=True)"
   ]
  },
  {
   "cell_type": "code",
   "execution_count": null,
   "metadata": {},
   "outputs": [],
   "source": []
  },
  {
   "cell_type": "code",
   "execution_count": null,
   "metadata": {},
   "outputs": [],
   "source": [
    "4.74+0.65"
   ]
  },
  {
   "cell_type": "code",
   "execution_count": null,
   "metadata": {},
   "outputs": [],
   "source": [
    "#hbjk"
   ]
  },
  {
   "cell_type": "code",
   "execution_count": null,
   "metadata": {},
   "outputs": [],
   "source": [
    "fig, ax=plt.subplots()\n",
    "h=plt.scatter(vals.sec_mass/vals.pri_mass, \\\n",
    "              -2.5*np.log10(10**vals.luminosity/vals.prim_luminosity), s=1, \\\n",
    "              c=np.log10(vals.age),\n",
    "              alpha=0.01, cmap='cividis')\n",
    "ax.set(xlabel='Mass ratio', ylabel=' Log Luminosity (system/primary)')"
   ]
  },
  {
   "cell_type": "code",
   "execution_count": null,
   "metadata": {},
   "outputs": [],
   "source": [
    "@np.vectorize      \n",
    "def splat_teff_from_spt(spt):\n",
    "    rel=splat.SPT_TEFF_RELATIONS['pecaut']\n",
    "    #spt_sorted_idx=np.argsort(rel['values'])\n",
    "\n",
    "    teff=np.interp(spt, np.array(rel['spt']),  np.array(rel['values']))\n",
    "    return np.random.normal(teff, 108)"
   ]
  },
  {
   "cell_type": "code",
   "execution_count": null,
   "metadata": {},
   "outputs": [],
   "source": [
    "spgrid=np.random.uniform(10, 41, 10000)\n",
    "plt.scatter(spgrid, splat_teff_from_spt(spgrid), s=1.)\n"
   ]
  },
  {
   "cell_type": "code",
   "execution_count": null,
   "metadata": {},
   "outputs": [],
   "source": [
    "ghjk"
   ]
  },
  {
   "cell_type": "code",
   "execution_count": null,
   "metadata": {},
   "outputs": [],
   "source": [
    "#plt.scatter(vals['spt'],\\\n",
    "#         popsims.fillipazzo_bolometric_correction(vals['spt'].values, \\\n",
    " #                                                 filt='2MASS_J', mask=vals['spt']>39),\n",
    " #        s=1, alpha=0.01)\n"
   ]
  },
  {
   "cell_type": "code",
   "execution_count": null,
   "metadata": {},
   "outputs": [],
   "source": [
    "#-2.5*np.log10(10**vals.luminosity/vals.prim_luminosity)"
   ]
  },
  {
   "cell_type": "code",
   "execution_count": null,
   "metadata": {},
   "outputs": [],
   "source": [
    "def get_distances(spts):\n",
    "    return pd.Series({'distanc': np.random.uniform(0, 10, len(spts)),\n",
    "                     'lol': np.random.uniform(0, 10, len(spts))})"
   ]
  },
  {
   "cell_type": "code",
   "execution_count": null,
   "metadata": {},
   "outputs": [],
   "source": [
    "h=350\n",
    "model='baraffe2003'"
   ]
  },
  {
   "cell_type": "code",
   "execution_count": null,
   "metadata": {},
   "outputs": [],
   "source": [
    "str(model)+str(h)+str(h)+'F110_corrected'"
   ]
  },
  {
   "cell_type": "code",
   "execution_count": null,
   "metadata": {},
   "outputs": [],
   "source": [
    "data_bins=pd.read_hdf(popsims.DATA_FOLDER+'/final_simulated_sample_cut_binaries.h5',\\\n",
    "                      key=str(model)+str(h)+str('spt_abs_mag'))\n",
    "data=pd.read_hdf(popsims.DATA_FOLDER+'/final_simulated_sample_cut.h5', key=str(model)+str('h')+str(h)+'F110_corrected')"
   ]
  },
  {
   "cell_type": "code",
   "execution_count": null,
   "metadata": {},
   "outputs": [],
   "source": []
  },
  {
   "cell_type": "code",
   "execution_count": null,
   "metadata": {},
   "outputs": [],
   "source": [
    "fig, (ax, ax1)=plt.subplots(figsize=(12, 6), ncols=2, sharey=True)\n",
    "\n",
    "\n",
    "ax.scatter(data_bins['spt'][~data_bins.is_cut.values], \n",
    "           np.log10(data_bins['snrj'])[~data_bins.is_cut.values],\n",
    "           c=data_bins['slprob'][~data_bins.is_cut.values], \n",
    "           alpha=0.1, s=1, cmap='cividis')\n",
    "\n",
    "ax1.scatter(data['spt'], np.log10(data['snr']), c=data['sl'], \n",
    "           alpha=0.1, s=1, cmap='cividis')"
   ]
  },
  {
   "cell_type": "code",
   "execution_count": null,
   "metadata": {},
   "outputs": [],
   "source": [
    "#count the number of stars\n",
    "len(vals[vals.is_binary])/len(vals[~vals.is_binary])"
   ]
  },
  {
   "cell_type": "code",
   "execution_count": null,
   "metadata": {},
   "outputs": [],
   "source": [
    "fig, ax=plt.subplots()\n",
    "h=plt.hist(data['spt'].values, bins=23, histtype='step', lw=3, density=True, label='Old')\n",
    "h=plt.hist(data_bins['spt'][~data_bins.is_cut.values].values, bins=23,\\\n",
    "           histtype='step', lw=3, label='New', density=True)\n",
    "plt.legend()\n",
    "ax.set(xlabel='Spectral Type')"
   ]
  },
  {
   "cell_type": "code",
   "execution_count": null,
   "metadata": {},
   "outputs": [],
   "source": [
    "#compare number counts\n",
    "nobins=pd.read_pickle(popsims.DATA_FOLDER+'/expected_numbers_wisps_no_binaries.pkl')\n",
    "plusbins=pd.read_pickle(popsims.DATA_FOLDER+'/expected_numbers_wisps_plus_binaries.pkl')"
   ]
  },
  {
   "cell_type": "code",
   "execution_count": null,
   "metadata": {},
   "outputs": [],
   "source": [
    "spgrid=[17, 18, 19, 20, 21, 22, 23, 24, 25, 26, 27, 28, 29, 30, 31, 32, 33,\n",
    "        34, 35, 36, 37, 38, 39, 40, 41]"
   ]
  },
  {
   "cell_type": "code",
   "execution_count": null,
   "metadata": {},
   "outputs": [],
   "source": []
  },
  {
   "cell_type": "code",
   "execution_count": null,
   "metadata": {},
   "outputs": [],
   "source": [
    "fig, ax=plt.subplots()\n",
    "ax.step(spgrid, np.array(nobins['densities'][model][5])[:,0]*nobins['volumes'][5], \\\n",
    "        label='Old')\n",
    "ax.step(spgrid, np.array(plusbins['densities'][model][5])[:,0]*plusbins['volumes'][5], \\\n",
    "        label='New')\n",
    "#ax.errorbar(spgrid, plusbins['nobs'], yerr= plusbins['nobs']**0.5, c='k', fmt='o')\n",
    "ax.legend()\n",
    "ax.set(yscale='log', xlabel='SpT',ylabel='Counts')"
   ]
  },
  {
   "cell_type": "code",
   "execution_count": null,
   "metadata": {},
   "outputs": [],
   "source": [
    "fig, ax=plt.subplots(figsize=(12, 6), ncols= 3, sharey=True)\n",
    "\n",
    "for a, mag_key in zip(ax, ['F110', 'F140', 'F160']):\n",
    "    h=a.hist(data['app{}'.format(mag_key.lower())].values, bins='auto', histtype='step', lw=3, density=True, label='Old')\n",
    "    h=a.hist(data_bins['app{}'.format(mag_key)][~data_bins.is_cut.values].values, bins='auto',\\\n",
    "               histtype='step', lw=3, label='New', density=True)\n",
    "    a.legend()\n",
    "    a.set(xlabel=mag_key)"
   ]
  },
  {
   "cell_type": "code",
   "execution_count": null,
   "metadata": {},
   "outputs": [],
   "source": [
    "fig, ax=plt.subplots(figsize=(12, 6), ncols= 3, sharey=True)\n",
    "\n",
    "for a, mag_key in zip(ax, ['F110', 'F140', 'F160']):\n",
    "    h=a.hist(data_bins['app{}'.format(mag_key)][(~data_bins.is_cut.values) & (~data_bins.is_binary)].values, \\\n",
    "             bins='auto',histtype='step', lw=3, label='Single', density=True)\n",
    "    h=a.hist(data_bins['app{}'.format(mag_key)][(~data_bins.is_cut.values) & (data_bins.is_binary)].values, \\\n",
    "             bins='auto',histtype='step', lw=3, label='Binary', density=True)\n",
    "    a.legend()\n",
    "    a.set(xlabel=mag_key)"
   ]
  },
  {
   "cell_type": "code",
   "execution_count": null,
   "metadata": {},
   "outputs": [],
   "source": [
    "data_bins.dist[(~data_bins.is_cut.values) & (~data_bins.is_binary)].values"
   ]
  },
  {
   "cell_type": "code",
   "execution_count": null,
   "metadata": {},
   "outputs": [],
   "source": [
    "fig, ax=plt.subplots()\n",
    "\n",
    "h=ax.hist(np.log10(data_bins.dist[(~data_bins.is_cut.values) & (~data_bins.is_binary)].values), \\\n",
    "         bins='auto',  range=np.log10([10, 3000]), histtype='step', lw=3, label='Single', density=True)\n",
    "h=ax.hist(np.log10(data_bins.dist[(~data_bins.is_cut.values) & (data_bins.is_binary)].values), \\\n",
    "         bins='auto', range=np.log10([10, 3000]), histtype='step', lw=3, label='Binary', density=True)\n",
    "ax.legend()\n",
    "ax.set(xlabel='Log Distance')\n",
    "plt.savefig('/users/caganze/desktop/binaries_distances.pdf')"
   ]
  },
  {
   "cell_type": "code",
   "execution_count": null,
   "metadata": {},
   "outputs": [],
   "source": [
    "import splat.empirical as spe"
   ]
  },
  {
   "cell_type": "code",
   "execution_count": null,
   "metadata": {},
   "outputs": [],
   "source": [
    "spe.typeToTeff(np.arange(15, 40))[0].value"
   ]
  },
  {
   "cell_type": "code",
   "execution_count": null,
   "metadata": {},
   "outputs": [],
   "source": [
    "    "
   ]
  },
  {
   "cell_type": "code",
   "execution_count": null,
   "metadata": {},
   "outputs": [],
   "source": [
    "ax.hist2d?"
   ]
  },
  {
   "cell_type": "code",
   "execution_count": null,
   "metadata": {},
   "outputs": [],
   "source": [
    "fig, ax=plt.subplots(figsize=(10, 6),  sharex=True, sharey=True)\n",
    "\n",
    "h=ax.hist2d(np.log10(data_bins.dist[(~data_bins.is_cut.values) ].values).flatten(), \\\n",
    "             data_bins.spt[(~data_bins.is_cut.values) ].values,\\\n",
    "         bins=23, density=True, cmap='Blues')\n",
    "#h=ax1.hist2d(np.log10(data_bins.dist[(~data_bins.is_cut.values) & (data_bins.is_binary)].values.flatten()), \\\n",
    "#             data_bins.spt[(~data_bins.is_cut.values) & (data_bins.is_binary)].values,\\\n",
    "#         bins=23, density=True, cmap='Blues')\n",
    "\n",
    "h=ax.scatter(np.log10(data_bins.dist[(~data_bins.is_cut.values) & (~data_bins.is_binary)].values).flatten(), \\\n",
    "             data_bins.spt[(~data_bins.is_cut.values) & (~data_bins.is_binary)].values, s=15, c='k', alpha=0.1)\n",
    "\n",
    "h=ax.scatter(np.log10(data_bins.dist[(~data_bins.is_cut.values) & (data_bins.is_binary)].values.flatten()), \\\n",
    "             data_bins.spt[(~data_bins.is_cut.values) & (data_bins.is_binary)].values,\\\n",
    "          s=15, c='r', alpha=0.1)\n",
    "ax.legend()\n",
    "ax.set(xlabel='Log Distance', ylabel='Spectral Type')"
   ]
  },
  {
   "cell_type": "code",
   "execution_count": null,
   "metadata": {},
   "outputs": [],
   "source": []
  },
  {
   "cell_type": "code",
   "execution_count": null,
   "metadata": {},
   "outputs": [],
   "source": [
    "cut_flag=data_bins.is_cut.values\n",
    "bin_flag=data_bins.is_binary.values"
   ]
  },
  {
   "cell_type": "code",
   "execution_count": null,
   "metadata": {},
   "outputs": [],
   "source": []
  },
  {
   "cell_type": "code",
   "execution_count": null,
   "metadata": {},
   "outputs": [],
   "source": [
    "fig, ax=plt.subplots()\n",
    "\n",
    "\n",
    "ne_sing=group_by_spt(data_bins['spt'][np.logical_and(~cut_flag, ~bin_flag)], \\\n",
    "                 data_bins['abs_2MASS_H'][np.logical_and(~cut_flag, ~bin_flag)])\n",
    "\n",
    "ne_bins=group_by_spt(data_bins['spt'][np.logical_and(~cut_flag, bin_flag)], \\\n",
    "                 data_bins['abs_2MASS_H'][np.logical_and(~cut_flag, bin_flag)])\n",
    "\n",
    "#ax.errorbar(prev['grid'], prev['median'],  ms=1, label='Prev')\n",
    "#ax.errorbar(ne['grid'], ne['median'],  ms=1, label='New')\n",
    "h=ax.errorbar(ne_sing['grid'], ne_sing['median'],  \\\n",
    "              yerr= ne_sing['std'], ms=1, label='Singles')\n",
    "h=ax.errorbar(ne_bins['grid'], ne_bins['median'],  \\\n",
    "              yerr= ne_sing['std'], ms=1, label='Binaries')\n",
    "\n",
    "#ax.plot(ne_sing['grid'], ne_sing['median']-ne_bins['median'])\n",
    "ax.legend()\n",
    "ax.minorticks_on()\n",
    "\n",
    "ax.legend()\n",
    "ax.set(xlabel='Spectral Type', ylabel='Abs H mag')"
   ]
  },
  {
   "cell_type": "code",
   "execution_count": null,
   "metadata": {},
   "outputs": [],
   "source": [
    "j, h=popsims.abs_mags.make_mamajek_fit(data_bins['spt'])"
   ]
  },
  {
   "cell_type": "code",
   "execution_count": null,
   "metadata": {},
   "outputs": [],
   "source": [
    "np.random.normal(j[0], 0.4)"
   ]
  },
  {
   "cell_type": "code",
   "execution_count": null,
   "metadata": {},
   "outputs": [],
   "source": [
    "fig, ax=plt.subplots()\n",
    "\n",
    "\n",
    "ne_sing=group_by_spt(data_bins['spt'][np.logical_and(~cut_flag, ~bin_flag)], \\\n",
    "                 data_bins['abs_2MASS_J'][np.logical_and(~cut_flag, ~bin_flag)])\n",
    "\n",
    "ne_bins=group_by_spt(data_bins['spt'][np.logical_and(~cut_flag, bin_flag)], \\\n",
    "                 data_bins['abs_2MASS_J'][np.logical_and(~cut_flag, bin_flag)])\n",
    "\n",
    "#ax.errorbar(prev['grid'], prev['median'],  ms=1, label='Prev')\n",
    "#ax.errorbar(ne['grid'], ne['median'],  ms=1, label='New')\n",
    "h=ax.errorbar(ne_sing['grid'], ne_sing['median'],  \\\n",
    "              yerr= ne_sing['std'], ms=1, label='Singles')\n",
    "h=ax.errorbar(ne_bins['grid'], ne_bins['median'],  \\\n",
    "              yerr= ne_sing['std'], ms=1, label='Binaries')\n",
    "\n",
    "#ax.plot(ne_sing['grid'], ne_sing['median']-ne_bins['median'])\n",
    "ax.legend()\n",
    "ax.minorticks_on()\n",
    "\n",
    "ax.legend()\n",
    "ax.set(xlabel='Spectral Type', ylabel='Abs J mag')"
   ]
  },
  {
   "cell_type": "code",
   "execution_count": null,
   "metadata": {},
   "outputs": [],
   "source": [
    "#2.5*np.log10(2)*"
   ]
  },
  {
   "cell_type": "code",
   "execution_count": null,
   "metadata": {},
   "outputs": [],
   "source": [
    "data_bins['spt_diff']=data_bins['sec_spt']-data_bins['prim_spt']"
   ]
  },
  {
   "cell_type": "code",
   "execution_count": null,
   "metadata": {},
   "outputs": [],
   "source": [
    "fig, ax=plt.subplots()\n",
    "prev=group_by_spt(data_bins['prim_spt'],data_bins['spt_diff'])\n",
    "ax.scatter(data_bins['prim_spt'],data_bins['spt_diff'], s=1, alpha=0.1)\n",
    "ax.errorbar(prev['grid'], prev['median'], yerr= prev['std'], ms=1, c='r')\n",
    "\n",
    "ax.axhline(0, linestyle='--', c='k')\n",
    "ax.set(ylabel='Primary-Secondary Types', xlabel='Primary Type')"
   ]
  },
  {
   "cell_type": "code",
   "execution_count": null,
   "metadata": {},
   "outputs": [],
   "source": [
    "fig, ax=plt.subplots(figsize=(12, 6), ncols= 3, sharey=True)\n",
    "\n",
    "for a, mag_key in zip(ax, ['F110', 'F140', 'F160']):\n",
    "    bools=np.logical_and((~data_bins.is_cut.values), (data_bins.is_binary))\n",
    "    \n",
    "    diff=data_bins['prim_abs{}'.format(mag_key)]-data_bins['sec_abs{}'.format(mag_key)]\n",
    "    \n",
    "    prev=group_by_spt(data_bins['spt'].values[bools], diff[bools])\n",
    "    a.scatter(data_bins['spt'].values[bools], diff[bools], s=1)\n",
    "    a.axhline(0, linestyle='--', c='k')\n",
    "    h=a.errorbar(prev['grid'], prev['median'], yerr= prev['std'], ms=1,  c='r')\n",
    "    a.set(xlabel='Primary Spectral Type', ylabel='Abs {} difference'.format(mag_key))"
   ]
  },
  {
   "cell_type": "code",
   "execution_count": null,
   "metadata": {},
   "outputs": [],
   "source": []
  },
  {
   "cell_type": "code",
   "execution_count": null,
   "metadata": {},
   "outputs": [],
   "source": [
    "fig, ax=plt.subplots(figsize=(12, 6), ncols= 3, sharey=True)\n",
    "\n",
    "for a, mag_key in zip(ax, ['F110', 'F140', 'F160']):\n",
    "    #prev=group_by_spt(data['spt'].values, data[mag_key.lower()].values)\n",
    "    ne=group_by_spt(data_bins['spt'][~(data_bins.is_cut.values) & (data_bins.is_binary)].values, \\\n",
    "                 data_bins['abs{}'.format(mag_key)][~(data_bins.is_cut.values) & (data_bins.is_binary)].values)\n",
    "    prev=group_by_spt(data_bins['spt'][~(data_bins.is_cut.values) & (~data_bins.is_binary)].values, \\\n",
    "                 data_bins['abs{}'.format(mag_key)][~(data_bins.is_cut.values) & (~data_bins.is_binary)].values)\n",
    "    h=a.errorbar(prev['grid'], prev['median'], yerr= prev['std'], ms=1, label='Singles')\n",
    "    h=a.errorbar(ne['grid'], ne['median'],  yerr= ne['std'], ms=1, label='Binaries')\n",
    "    a.legend()\n",
    "    a.set(xlabel='Spectral Type', ylabel='Abs{}'.format(mag_key))"
   ]
  },
  {
   "cell_type": "code",
   "execution_count": null,
   "metadata": {
    "scrolled": true
   },
   "outputs": [],
   "source": [
    "fig, ax=plt.subplots(figsize=(12, 6), ncols= 3, sharey=True)\n",
    "\n",
    "for a, mag_key in zip(ax, ['F110', 'F140', 'F160']):\n",
    "    prev=group_by_spt(data['spt'].values, data[mag_key.lower()].values)\n",
    "    ne=group_by_spt(data_bins['spt'][~data_bins.is_cut.values].values, \\\n",
    "                 data_bins['abs{}'.format(mag_key)][~data_bins.is_cut.values].values)\n",
    "    h=a.errorbar(prev['grid'], prev['median'], yerr= prev['std'], ms=1, label='Prev')\n",
    "    h=a.errorbar(ne['grid'], ne['median'],  yerr= ne['std'], ms=1, label='Ne')\n",
    "    a.legend()\n",
    "    a.set(xlabel='Spectral Type', ylabel='Abs{}'.format(mag_key))"
   ]
  }
 ],
 "metadata": {
  "kernelspec": {
   "display_name": "Python 3",
   "language": "python",
   "name": "python3"
  },
  "language_info": {
   "codemirror_mode": {
    "name": "ipython",
    "version": 3
   },
   "file_extension": ".py",
   "mimetype": "text/x-python",
   "name": "python",
   "nbconvert_exporter": "python",
   "pygments_lexer": "ipython3",
   "version": "3.8.5"
  }
 },
 "nbformat": 4,
 "nbformat_minor": 4
}
