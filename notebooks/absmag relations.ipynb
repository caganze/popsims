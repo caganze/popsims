{
 "cells": [
  {
   "cell_type": "code",
   "execution_count": 1,
   "metadata": {},
   "outputs": [
    {
     "name": "stdout",
     "output_type": "stream",
     "text": [
      "Adding 89 sources from /Users/caganze/research/splat//resources/Spectra/Public/MAGE/ to spectral database\n",
      "Adding 145 sources from /Users/caganze/research/splat//resources/Spectra/Public/LRIS-RED/ to spectral database\n",
      "Adding 2404 sources from /Users/caganze/research/splat//resources/Spectra/Public/SPEX-PRISM/ to spectral database\n"
     ]
    }
   ],
   "source": [
    "#imports\n",
    "import numpy as np\n",
    "import splat\n",
    "import pandas as pd\n",
    "import glob\n",
    "from astropy.io import ascii\n",
    "import matplotlib.pyplot as plt\n",
    "from tqdm import tqdm\n",
    "splat.initializeStandards()\n",
    "import seaborn as sns\n",
    "splat.initializeStandards(all=True)\n",
    "sns.set_style(\"darkgrid\", {\"axes.facecolor\": \".9\"})\n",
    "%matplotlib inline\n"
   ]
  },
  {
   "cell_type": "code",
   "execution_count": 2,
   "metadata": {},
   "outputs": [],
   "source": [
    " KVALS={'2MASS_KS': {\\\n",
    "            'spt': [0.,0.5,1.,1.5,2.,2.5,3.,3.5,4.,4.5,5.,5.5,6.,6.5,7.,8.,9.,10,10.5,11,11.5,12,12.5,13,13.5,14,14.5,15,15.5,16,16.5,17,17.5,18,18.5,19,19.5,20.,21.,22.,23.,24.,25.,26.,27.,28.,29.,30.,31.,32.,33.,34.,34.5,35.,35.5,36.,37.,37.5,38.,39.,39.5,40.5,41.,41.5,42.],\\\n",
    "            'values': [3.81, 3.82, 3.87, 3.9, 4.04, 4.07, 4.16, 4.21, 4.25, 4.26, 4.48, 4.57, 4.66, 4.78, 4.82, 4.98, 5.11, 5.22, 5.36, 5.67, 5.85, 6.06, 6.27, 6.54, 7.19, 7.55, 7.93, 8.36, 9.01, 9.32, 9.47, 9.76, 9.97, 10.11, 10.22, 10.3, 10.45, 10.55, 10.8, 10.9, 11.3, 11.4, 11.82, 12.27, 12.62, 12.7, 12.74, 12.9, 12.87, 13.19, 13.69, 14.51, 14.66, 14.9, 15.18, 15.54, 16.36, 16.85, 17.43, 18.48, 19.32, 21.5, 23, 23.5, 24],\\\n",
    "            'rms': np.zeros(65)+0.05}}"
   ]
  },
  {
   "cell_type": "code",
   "execution_count": 3,
   "metadata": {},
   "outputs": [],
   "source": [
    "def get_colors(sp, flt, filt_2mass):\n",
    "    #measuring filtermags in for two filters and comparing that to target filters\n",
    "    mag, mag_unc = splat.filterMag(sp, flt)\n",
    "    #calculate the mag of the standard in J and H\n",
    "    mag_2mass, mag_unc2mass = splat.filterMag(sp, filt_2mass)\n",
    "    #calculate the offset \n",
    "    return mag_2mass-mag, (mag_unc**2+ mag_unc2mass**2)**0.5"
   ]
  },
  {
   "cell_type": "code",
   "execution_count": 4,
   "metadata": {},
   "outputs": [],
   "source": [
    "#load spectra, ignore binaries, objects with high uncertainty in mag and objects without parallaxes\n",
    "splat_db=splat.searchLibrary(vlm=True, giant=False, young=False, binary=False)\n",
    "splat_db['SHORTNAME']=splat_db.DESIGNATION.apply(lambda x: splat.designationToShortName)\n",
    "sml=splat_db[~ ((splat_db.H_2MASS_E > 0.3) | (splat_db.J_2MASS_E > 0.3)  |\n",
    "                (splat_db.SPEX_TYPE.apply(splat.typeToNum) <15))]\n",
    "\n",
    "sds=sml[(sml.METALLICITY_CLASS=='sd') | (sml.METALLICITY_CLASS=='esd')  ]\n",
    "sml=sml[~((sml.METALLICITY_CLASS=='sd') | (sml.METALLICITY_CLASS=='esd') \\\n",
    "          | (sml.MEDIAN_SNR <20))]"
   ]
  },
  {
   "cell_type": "code",
   "execution_count": 5,
   "metadata": {},
   "outputs": [],
   "source": [
    "#get y dwarfs\n",
    "def get_shortname(n):\n",
    "    return splat.designationToShortName(n).replace('J', 'WISE')\n",
    "schn='/Users/caganze/research/wisps/data/schneider/*.txt'\n",
    "schntb=pd.read_csv('/Users/caganze/research/wisps/data/schneider2015.txt', \n",
    "                   delimiter=' ').drop(columns='Unnamed: 14')\n",
    "schntb['shortname']=schntb.Name.apply(get_shortname)\n",
    "spectra_schn=[]\n",
    "for f in glob.glob(schn):\n",
    "    d=ascii.read(f).to_pandas()\n",
    "    shortname=(f.split('/')[-1]).split('.txt')[0]\n",
    "    s=splat.Spectrum(wave=d.col1, \n",
    "                     flux=d.col2,\n",
    "                     noise=d.col3, \n",
    "                     name=shortname)\n",
    "    #measure snr \n",
    "    mask= np.logical_and(d.col1>1.0, d.col1<2.4)\n",
    "    snr= (np.nanmedian(d.col2[mask]/d.col3[mask]))\n",
    "    spectra_schn.append([s, snr])"
   ]
  },
  {
   "cell_type": "code",
   "execution_count": 6,
   "metadata": {},
   "outputs": [],
   "source": [
    "mdwarfs=sml[ (sml.SPEX_TYPE.apply(splat.typeToNum) <20)]\n",
    "ldwarfs=sml[ (sml.SPEX_TYPE.apply(splat.typeToNum).between(20, 30))]\n",
    "tdwarfs=sml[ (sml.SPEX_TYPE.apply(splat.typeToNum).between(30, 40))]"
   ]
  },
  {
   "cell_type": "code",
   "execution_count": 7,
   "metadata": {},
   "outputs": [],
   "source": [
    "#tighter_constraints on m dwarfs \n",
    "mdwarfs=mdwarfs[(~mdwarfs.PARALLAX.isna()) & (mdwarfs.MEDIAN_SNR >100)]\n",
    "ldwarfs=ldwarfs[ (ldwarfs.MEDIAN_SNR >70)]"
   ]
  },
  {
   "cell_type": "code",
   "execution_count": 8,
   "metadata": {},
   "outputs": [],
   "source": [
    "def choose_ten(df):\n",
    "    if len(df) >10:\n",
    "        return df.sort_values('MEDIAN_SNR', ascending=False)[:10]\n",
    "    else:\n",
    "        return df"
   ]
  },
  {
   "cell_type": "code",
   "execution_count": 9,
   "metadata": {},
   "outputs": [],
   "source": [
    "#tdwarfs.MEDIAN_SNR"
   ]
  },
  {
   "cell_type": "code",
   "execution_count": 10,
   "metadata": {},
   "outputs": [],
   "source": [
    "ls=ldwarfs.groupby('SPEX_TYPE').apply(choose_ten).reset_index(drop=True)#.groupby('SPEX_TYPE').count()"
   ]
  },
  {
   "cell_type": "code",
   "execution_count": 11,
   "metadata": {},
   "outputs": [],
   "source": [
    "smlf=pd.concat([mdwarfs, ls, tdwarfs]).reset_index(drop=True)"
   ]
  },
  {
   "cell_type": "code",
   "execution_count": 12,
   "metadata": {},
   "outputs": [],
   "source": [
    "def get_file(x):\n",
    "    try:\n",
    "        return splat.getSpectrum(filename=x)[0]\n",
    "    except:\n",
    "        return "
   ]
  },
  {
   "cell_type": "code",
   "execution_count": 13,
   "metadata": {
    "scrolled": true
   },
   "outputs": [],
   "source": [
    "%%capture\n",
    "templs=smlf.DATA_FILE.apply(lambda x: get_file(x))\n",
    "sds_spectra=sds.DATA_FILE.apply(lambda x:  get_file(x))\n",
    "\n",
    "\n",
    "#all_spectra=pd.read_pickle('/users/caganze/research/popsims/data/splat_spectra.pkl')\n",
    "#sd_spectra=pd.read_pickle('/users/caganze/research/popsims/data/sd_spectra.pkl')"
   ]
  },
  {
   "cell_type": "code",
   "execution_count": 14,
   "metadata": {},
   "outputs": [],
   "source": [
    "schntb['spectra']=[x[0] for x in  spectra_schn]\n",
    "\n",
    "schntb['snr']=[x[1] for x in  spectra_schn]\n",
    "\n",
    "schntb=schntb[schntb.snr>=2.].reset_index(drop=True)\n",
    "\n",
    "all_spectra=np.concatenate([templs,schntb.spectra.values ])"
   ]
  },
  {
   "cell_type": "code",
   "execution_count": 15,
   "metadata": {},
   "outputs": [
    {
     "data": {
      "text/plain": [
       "326"
      ]
     },
     "execution_count": 15,
     "metadata": {},
     "output_type": "execute_result"
    }
   ],
   "source": [
    "len(templs)"
   ]
  },
  {
   "cell_type": "code",
   "execution_count": 16,
   "metadata": {},
   "outputs": [],
   "source": [
    "import pickle\n",
    "output = open('/users/caganze/research/popsims/data/splat_spectra.pkl', 'wb')\n",
    "pickle.dump(all_spectra, output)\n",
    "output.close()\n",
    "\n",
    "import pickle\n",
    "output = open('/users/caganze/research/popsims/data/sd_spectra.pkl', 'wb')\n",
    "pickle.dump(sds_spectra, output)\n",
    "output.close()\n"
   ]
  },
  {
   "cell_type": "code",
   "execution_count": 17,
   "metadata": {},
   "outputs": [],
   "source": [
    "def make_spt_number(spt):\n",
    "    ##make a spt a number\n",
    "    if isinstance(spt, str):\n",
    "        return splat.typeToNum(spt)\n",
    "    else:\n",
    "        return spt"
   ]
  },
  {
   "cell_type": "code",
   "execution_count": 18,
   "metadata": {},
   "outputs": [],
   "source": [
    "spts=np.concatenate([smlf.SPEX_TYPE.apply(make_spt_number).values,\n",
    "                     schntb.Spec.apply(make_spt_number).values,\n",
    "                    ])"
   ]
  },
  {
   "cell_type": "code",
   "execution_count": 19,
   "metadata": {},
   "outputs": [],
   "source": [
    "assert len(spts) == len(all_spectra)"
   ]
  },
  {
   "cell_type": "code",
   "execution_count": 20,
   "metadata": {},
   "outputs": [],
   "source": [
    "sds_spts=sds.SPEX_TYPE.apply(make_spt_number).values"
   ]
  },
  {
   "cell_type": "code",
   "execution_count": 76,
   "metadata": {},
   "outputs": [],
   "source": [
    "#this has already been simulated \n",
    "#fl_pairs= [['WFIRST_WFIJ', '2MASS J'],\n",
    "#               ['WFIRST_WFIY', '2MASS J'],\n",
    "#               ['WFIRST_WFIZ', '2MASS J'],\n",
    "#               ['WFIRST_WFIH', '2MASS H'],\n",
    "#               ['WFIRST_WFIF', '2MASS H'],\n",
    "#               ['WFIRST_WFIR', 'PANSTARRS_R'],\n",
    "#               ['EUCLID_J', '2MASS J'],\n",
    "#               ['EUCLID_H', '2MASS H'],\n",
    "#               ['EUCLID_Y','2MASS J'],\n",
    "#               ['LSST_Y', '2MASS J'],\n",
    "#               ['LSST_Z', '2MASS J'],\n",
    "#               ['LSST_R', 'PANSTARRS_R'],\n",
    "#           ['NIRCAM_F115W','2MASS J'],\n",
    "#           ['NIRCAM_F140M', '2MASS H'],\n",
    "#           ['NIRCAM_F150W', '2MASS H'],\n",
    "#           ['NIRCAM_F200W', '2MASS H'],\n",
    "#           ['WFC3_F110W', '2MASS J'],\n",
    "#           ['WFC3_F140W', '2MASS J'],\n",
    "#           ['WFC3_F160W', '2MASS H']]\n",
    "#only add subdwarfs\n",
    "#fl_pairs=[['NIRCAM_F115W','2MASS J'],\n",
    "#          ['NIRCAM_F140M', '2MASS H'],\n",
    "#           ['NIRCAM_F150W', '2MASS H'],\n",
    "#           ['NIRCAM_F200W', '2MASS H']]"
   ]
  },
  {
   "cell_type": "code",
   "execution_count": 22,
   "metadata": {},
   "outputs": [],
   "source": [
    "#remove nones\n",
    "nones= np.array(all_spectra)==None\n",
    "all_spectra=all_spectra[~nones]\n",
    "spts=spts[~nones]\n",
    "assert len(spts) == len(all_spectra)"
   ]
  },
  {
   "cell_type": "code",
   "execution_count": 23,
   "metadata": {},
   "outputs": [],
   "source": [
    "def wfirst_colors(sp):\n",
    "    sp.normalize()\n",
    "    res={}\n",
    "    for p in fl_pairs:\n",
    "        res.update({p[0]+'and'+p[1]: \\\n",
    "                    get_colors(sp, p[0], p[1])})\n",
    "    return res"
   ]
  },
  {
   "cell_type": "code",
   "execution_count": 49,
   "metadata": {},
   "outputs": [],
   "source": [
    "zhang_subds=pd.read_pickle('/users/caganze/research/popsims/data/zhang_subdwarfs.pkl')"
   ]
  },
  {
   "cell_type": "code",
   "execution_count": 72,
   "metadata": {},
   "outputs": [],
   "source": [
    "zhang_subds=zhang_subds.dropna()"
   ]
  },
  {
   "cell_type": "code",
   "execution_count": 73,
   "metadata": {},
   "outputs": [],
   "source": [
    "import astropy.units as u\n",
    "def make_zhang_spectra(row):\n",
    "    return splat.Spectrum(wave=row.wave*u.micron, flux=row.flux, name=row['name'])"
   ]
  },
  {
   "cell_type": "code",
   "execution_count": 74,
   "metadata": {},
   "outputs": [],
   "source": [
    "zhang_spectra=zhang_subds.apply(make_zhang_spectra, axis=1)\n",
    "#zhang_subds.iloc[0]"
   ]
  },
  {
   "cell_type": "code",
   "execution_count": 86,
   "metadata": {},
   "outputs": [],
   "source": [
    "#zhang_spectra.values"
   ]
  },
  {
   "cell_type": "code",
   "execution_count": 89,
   "metadata": {},
   "outputs": [
    {
     "name": "stderr",
     "output_type": "stream",
     "text": [
      "100%|██████████| 90/90 [00:11<00:00,  7.53it/s]\n"
     ]
    }
   ],
   "source": [
    "zhang_df=pd.DataFrame.from_records([wfirst_colors(x) for x in tqdm(zhang_spectra.values)])"
   ]
  },
  {
   "cell_type": "code",
   "execution_count": 96,
   "metadata": {},
   "outputs": [],
   "source": [
    "zhang_df['spt']=zhang_subds.spt.apply(make_spt_number)"
   ]
  },
  {
   "cell_type": "code",
   "execution_count": 100,
   "metadata": {},
   "outputs": [],
   "source": [
    "#df\n",
    "#df=pd.DataFrame.from_records([wfirst_colors(x) for x in tqdm(all_spectra)])\n",
    "#df['spt']=spts"
   ]
  },
  {
   "cell_type": "code",
   "execution_count": 99,
   "metadata": {
    "scrolled": true
   },
   "outputs": [
    {
     "name": "stderr",
     "output_type": "stream",
     "text": [
      "100%|██████████| 38/38 [00:32<00:00,  1.17it/s]\n"
     ]
    }
   ],
   "source": [
    "sd_df=pd.DataFrame.from_records([wfirst_colors(x) for x in tqdm(sds_spectra)])\n",
    "sd_df['spt']=sds_spts"
   ]
  },
  {
   "cell_type": "code",
   "execution_count": 106,
   "metadata": {},
   "outputs": [
    {
     "data": {
      "text/plain": [
       "(38, 90)"
      ]
     },
     "execution_count": 106,
     "metadata": {},
     "output_type": "execute_result"
    }
   ],
   "source": [
    "len(sd_df), len(zhang_df)"
   ]
  },
  {
   "cell_type": "code",
   "execution_count": 107,
   "metadata": {},
   "outputs": [],
   "source": [
    "#add zhang to subdwargs\n",
    "sd_df_total=sd_df.append(zhang_df)"
   ]
  },
  {
   "cell_type": "code",
   "execution_count": 108,
   "metadata": {},
   "outputs": [],
   "source": [
    "def k_clip_fit(x, y, sigma_y, sigma = 5, n=6):\n",
    "    \n",
    "    '''Fit a polynomial to y vs. x, and k-sigma clip until convergence\n",
    "    hard-coded, returns mask array\n",
    "    '''\n",
    "    \n",
    "    not_clipped = np.ones_like(y).astype(bool)\n",
    "    n_remove = 1\n",
    "    \n",
    "    #use median sigma\n",
    "    #median_sigma= np.nanmedian(sigma_y)\n",
    "    \n",
    "    while n_remove > 0:\n",
    "\n",
    "        best_fit = np.poly1d(np.polyfit(x[not_clipped], y[not_clipped], n))\n",
    "        \n",
    "        norm_res = (np.abs(y - best_fit(x)))/(sigma_y)\n",
    "        remove = np.logical_and(norm_res >= sigma, not_clipped == 1)\n",
    "        n_remove = sum(remove)\n",
    "        not_clipped[remove] = 0   \n",
    "        \n",
    "    return  not_clipped\n",
    "\n",
    "def fit_with_nsigma_clipping(x, y, y_unc, n, sigma=3.):\n",
    "    not_clipped = k_clip_fit(x, y, y_unc, sigma = sigma)\n",
    "    return not_clipped, np.poly1d(np.polyfit(x[not_clipped], y[not_clipped], n))"
   ]
  },
  {
   "cell_type": "code",
   "execution_count": 102,
   "metadata": {},
   "outputs": [],
   "source": [
    "#la base \n"
   ]
  },
  {
   "cell_type": "code",
   "execution_count": 113,
   "metadata": {},
   "outputs": [
    {
     "data": {
      "image/png": "[encoded data removed]",
      "text/plain": [
       "<Figure size 864x432 with 4 Axes>"
      ]
     },
     "metadata": {
      "needs_background": "light"
     },
     "output_type": "display_data"
    }
   ],
   "source": [
    "fig, ax=plt.subplots(2, 2, figsize=(12, 6))\n",
    "for c, a in zip(sd_df_total.columns, np.concatenate(ax)):\n",
    "    if c=='spt':\n",
    "        pass\n",
    "    else:\n",
    "        #fit=None\n",
    "        vals=np.vstack(df[c].apply(lambda x: np.array(x)).values)\n",
    "        sd_vals=np.vstack(sd_df_total[c].apply(lambda x: np.array(x)).values)\n",
    "        \n",
    "    \n",
    "        \n",
    "       \n",
    "      \n",
    "        a.errorbar(spts, vals[:,0], fmt='+', \n",
    "                   yerr=vals[:,1], color='r')\n",
    "        \n",
    "        a.errorbar(sd_df_total.spt, sd_vals[:,0], fmt='+', \n",
    "                   yerr=sd_vals[:,1], color='b')\n",
    "       \n",
    "        \n",
    "        #a.plot(np.arange(15, 43), fit(np.arange(15, 43)), c='k')\n",
    "        a.set_ylabel(c.upper().replace('AND', '-'))\n",
    "        a.set_xlabel('Spectral Type')\n",
    "        plt.tight_layout()\n"
   ]
  },
  {
   "cell_type": "code",
   "execution_count": 30,
   "metadata": {},
   "outputs": [],
   "source": [
    "#absolute magnitude relation\n",
    "import splat.empirical as spe\n",
    "\n",
    "kirkpa2019pol={'2MASS H':{'pol':np.poly1d(np.flip([36.9714, -8.66856, 1.05122 ,-0.0344809])), \n",
    "                    'scatter':.67, 'range':[36, 44]}}\n",
    "kirkpa2020pol={'2MASS H':{'pol':np.poly1d(np.flip([-6.918e01, 1.1863e+01,-5.4084e-1, 8.466e-03 ])), \n",
    "                    'scatter':.51, 'range':[36, 44]}}\n",
    "best_dict={'2MASS J': {\\\n",
    "            'spt': [16,17,18,19,20,21,22,23,24,25,26,27,28,29,30,31,32,33,34,35,36,37,38,39], \\\n",
    "            'values': [10.36,10.77,11.15,11.46,11.76,12.03,12.32,12.77,13.51,13.69,14.18,14.94,14.90,14.46,14.56,15.25,14.54,14.26,13.89,14.94,15.53,16.78,17.18,17.75],\\\n",
    "            'rms': [0.30,0.30,0.42,0.34,0.18,0.15,0.21,0.24,0.28,0.25,0.60,0.20,0.13,0.71,0.5,0.12,0.06,0.16,0.36,0.12,0.27,0.76,0.51,0.5]},\n",
    "        '2MASS H': {\\\n",
    "            'spt': [16,17,18,19,20,21,22,23,24,25,26,27,28,29,30,31,32,33,34,35,36,37,38,39], \\\n",
    "            'values': [9.76,10.14,10.47,10.74,11.00,11.23,11.41,11.82,12.45,12.63,13.19,13.82,13.77,13.39,13.62,14.39,13.73,13.67,13.57,14.76,15.48,16.70,17.09,17.51],\\\n",
    "            'rms': [0.30,0.31,0.43,0.35,0.23,0.21,0.25,0.29,0.3,0.30,0.62,0.31,0.20,0.73,0.5,0.18,0.15,0.24,0.40,0.24,0.37,0.78,0.5,0.5]},\n",
    "       \n",
    "        'PANSTARRS_R': {\\\n",
    "            'spt': [16,17,18,19,20,21,22,23,24,25,26,28], \\\n",
    "            'values': [15.37,16.76,17.74,18.14,18.37,18.74,19.02,19.61,20.60,20.74,21.21,22.88],\\\n",
    "            'rms': [0.43,0.50,0.51,0.37,0.31,0.28,0.29,0.39,0.56,0.37,0.78,0.5]},\n",
    "        'PANSTARRS_I': {\\\n",
    "            'spt': [16,17,18,19,20,21,22,23,24,25,26,27,28,29,30,31,32,35], \\\n",
    "            'values': [13.25,14.18,15.00,15.62,16.00,16.41,16.73,17.40,18.35,18.71,19.27,20.09,20.38,20.09,20.22,21.10,21.97,22.69],\\\n",
    "            'rms': [0.34,0.39,0.48,0.39,0.26,0.25,0.26,0.34,0.38,0.33,0.65,0.36,0.79,0.5,1.14,0.5,0.5,0.5]},\n",
    "        'PANSTARRS_Z': {\\\n",
    "            'spt': [16,17,18,19,20,21,22,23,24,25,26,27,28,29,30,31,32,33,34,35,36,37,38,39], \\\n",
    "            'values': [12.27,12.98,13.61,14.17,14.52,14.93,15.30,15.88,16.68,16.94,17.35,18.18,18.10,17.69,17.98,18.84,18.26,18.08,18.02,19.20,19.82,21.17,21.52,21.82],\\\n",
    "            'rms': [0.32,0.34,0.45,0.37,0.25,0.23,0.24,0.21,0.33,0.29,0.62,0.26,0.22,0.73,0.5,0.21,0.23,0.25,0.39,0.22,0.32,0.78,0.52,0.5]},\n",
    "        'PANSTARRS_Y': {\\\n",
    "            'spt': [16,17,18,19,20,21,22,23,24,25,26,27,28,29,30,31,32,33,34,35,36,37,38,39], \\\n",
    "            'values': [11.76,12.31,12.81,13.23,13.58,13.97,14.33,14.89,15.66,15.87,16.27,17.13,17.04,16.57,16.77,17.45,16.75,16.50,16.32,17.43,18.06,19.34,19.75,20.37],\\\n",
    "            'rms': [0.30,0.31,0.43,0.36,0.23,0.21,0.24,0.29,0.32,0.28,0.61,0.25,0.21,0.72,0.5,0.16,0.13,0.22,0.38,0.18,0.32,0.81,0.59,0.5]}}\n",
    "\n",
    "BEST={}\n",
    "for k in best_dict.keys():\n",
    "    BEST[k]=fit_with_nsigma_clipping(np.array(best_dict[k]['spt']), \n",
    "                                      np.array(best_dict[k]['values']), \n",
    "                                      np.array(best_dict[k]['rms'])\n",
    "                                     , 6, sigma=5.)\n",
    "from astropy.io import ascii\n",
    "def make_mamajek_fit(spt):\n",
    "    mamjk=ascii.read('/users/caganze/research/wisps/data/mamajek_relations.txt').to_pandas().replace('None', np.nan)\n",
    "    js=mamjk.M_J.apply(float).values\n",
    "    jminush=mamjk['J-H'].apply(float).values\n",
    "    hs=js-jminush\n",
    "    \n",
    "    spts=mamjk.SpT.apply(splat.typeToNum).apply(float).values\n",
    "    \n",
    "    hsortedindex=np.argsort(hs)\n",
    "    jsortedindex=np.argsort(js)\n",
    "    \n",
    "    hval=np.interp(spt,  spts[hsortedindex], hs[hsortedindex])\n",
    "    jval=np.interp(spt,  spts[jsortedindex], js[jsortedindex])\n",
    "    \n",
    "    return ((jval, 0.4), (hval, 0.4))\n",
    "\n",
    "def absolute_mag_kirkpatrick(spt, filt):\n",
    "    if filt != '2MASS H':\n",
    "        return np.nan\n",
    "    else:\n",
    "        pol=kirkpa2019pol[filt]['pol']\n",
    "        unc=kirkpa2019pol[filt]['scatter']\n",
    "        return pol(spt-30), unc\n",
    "    \n",
    "\n",
    "def get_abs_mag(spt, flter):\n",
    "    m, munc=(np.nan, np.nan)\n",
    "    if flter=='2MASS J':\n",
    "        corr=splat.photometry.vegaToAB('2MASS J')\n",
    "        #m, munc= spe.typeToMag(spt, '2MASS J')\n",
    "        ((m, munc), (h, hunc))=make_mamajek_fit(spt)\n",
    "        m= m+corr\n",
    "        \n",
    "    if flter=='2MASS H':\n",
    "        corr=splat.photometry.vegaToAB('2MASS H')\n",
    "        if spt <36:\n",
    "            \n",
    "            #m=BEST['2MASS H'][1](spt)\n",
    "            #munc= np.nanmedian(best_dict[k]['rms'])\n",
    "            #m, munc=spe.typeToMag(spt, '2MASS H')\n",
    "            ((j, junc), (m, munc))=make_mamajek_fit(spt)\n",
    "            m= m+corr\n",
    "        else:\n",
    "            m, munc=absolute_mag_kirkpatrick(spt, '2MASS H')\n",
    "            m= m+corr\n",
    "           \n",
    "            \n",
    "    if flter=='PANSTARRS_R':\n",
    "        corr=splat.photometry.vegaToAB('PANSTARRS_R')\n",
    "        m=(BEST[k][1])(spt)+corr\n",
    "        munc=np.nanmedian(best_dict[k]['rms'])\n",
    "    return m, munc"
   ]
  },
  {
   "cell_type": "code",
   "execution_count": 31,
   "metadata": {},
   "outputs": [],
   "source": [
    "#import popsims\n",
    "#popsims.get_distance(get_abs_mag(25, '2MASS J')[0], 28.)"
   ]
  },
  {
   "cell_type": "code",
   "execution_count": 32,
   "metadata": {},
   "outputs": [],
   "source": [
    "sp_grid=np.arange(15, 42)"
   ]
  },
  {
   "cell_type": "code",
   "execution_count": 33,
   "metadata": {},
   "outputs": [
    {
     "data": {
      "text/plain": [
       "[<matplotlib.lines.Line2D at 0x7fdabb6bf0a0>]"
      ]
     },
     "execution_count": 33,
     "metadata": {},
     "output_type": "execute_result"
    },
    {
     "data": {
      "image/png": "[encoded data removed]",
      "text/plain": [
       "<Figure size 432x288 with 2 Axes>"
      ]
     },
     "metadata": {
      "needs_background": "light"
     },
     "output_type": "display_data"
    }
   ],
   "source": [
    "#la base\n",
    "fig, ax=plt.subplots(ncols=2)\n",
    "ax[0].plot(sp_grid, get_abs_mag(sp_grid, '2MASS J')[0])\n",
    "ax[1].plot(sp_grid, np.array([get_abs_mag(x, '2MASS H')[0] for x in sp_grid]))\n",
    "#there shouldn't be a bump in abs_mags"
   ]
  },
  {
   "cell_type": "code",
   "execution_count": 34,
   "metadata": {},
   "outputs": [
    {
     "data": {
      "text/plain": [
       "1.3716878378948147"
      ]
     },
     "execution_count": 34,
     "metadata": {},
     "output_type": "execute_result"
    }
   ],
   "source": [
    "splat.photometry.vegaToAB('2MASS H')"
   ]
  },
  {
   "cell_type": "code",
   "execution_count": 35,
   "metadata": {},
   "outputs": [],
   "source": [
    "def get_abs_mags(row):\n",
    "    res={}\n",
    "    \n",
    "    for p in fl_pairs:\n",
    "        cl=p[0]+'and'+p[1]\n",
    "        v, ve=get_abs_mag(row.spt, p[1])\n",
    "        absm= row[cl][0]+v\n",
    "        res.update({p[0]: [absm,  (row[cl][1]**2+ve**2)**0.5]})\n",
    "    return pd.Series(res)\n",
    "        \n",
    "    "
   ]
  },
  {
   "cell_type": "code",
   "execution_count": 116,
   "metadata": {},
   "outputs": [],
   "source": [
    "abs_df=df.apply(get_abs_mags, axis=1)\n",
    "sd_abs_df=sd_df_total.apply(get_abs_mags, axis=1)"
   ]
  },
  {
   "cell_type": "code",
   "execution_count": 118,
   "metadata": {},
   "outputs": [],
   "source": [
    "#sd_abs_df"
   ]
  },
  {
   "cell_type": "code",
   "execution_count": 119,
   "metadata": {},
   "outputs": [
    {
     "data": {
      "text/plain": [
       "Index(['NIRCAM_F115W', 'NIRCAM_F140M', 'NIRCAM_F150W', 'NIRCAM_F200W'], dtype='object')"
      ]
     },
     "execution_count": 119,
     "metadata": {},
     "output_type": "execute_result"
    }
   ],
   "source": [
    "#remove y-dwarfs for jswt filters because they look horrid\n",
    "abs_df.keys()"
   ]
  },
  {
   "cell_type": "code",
   "execution_count": 120,
   "metadata": {},
   "outputs": [],
   "source": [
    "#FITS={}\n",
    "FITS=pd.read_pickle('/users/caganze/research/popsims/data/polynomial_relations.pkl')"
   ]
  },
  {
   "cell_type": "code",
   "execution_count": 134,
   "metadata": {},
   "outputs": [],
   "source": [
    "FITS['subdwarfs']={}"
   ]
  },
  {
   "cell_type": "code",
   "execution_count": 135,
   "metadata": {},
   "outputs": [
    {
     "data": {
      "text/plain": [
       "{}"
      ]
     },
     "execution_count": 135,
     "metadata": {},
     "output_type": "execute_result"
    }
   ],
   "source": [
    "FITS['subdwarfs']"
   ]
  },
  {
   "cell_type": "code",
   "execution_count": 147,
   "metadata": {},
   "outputs": [
    {
     "data": {
      "image/png": "[encoded data removed]",
      "text/plain": [
       "<Figure size 864x864 with 4 Axes>"
      ]
     },
     "metadata": {
      "needs_background": "light"
     },
     "output_type": "display_data"
    }
   ],
   "source": [
    "#\n",
    "\n",
    "fig, ax=plt.subplots(2, 2, figsize=(12, 12), sharey=True)\n",
    "\n",
    "for c, a in zip(abs_df.columns, np.concatenate(ax)):\n",
    "    if c=='spt':\n",
    "        pass\n",
    "    else:\n",
    "        vals=np.vstack(abs_df[c].values)\n",
    "        sd_vals=np.vstack(sd_abs_df[c].values)\n",
    "        spts=df.spt.values\n",
    "        sd_spts=sd_df_total.spt.values\n",
    "        \n",
    "        #masks\n",
    "        mask= np.logical_or.reduce([np.isnan(spts), \n",
    "                                    np.isnan(vals[:,0]),\n",
    "                                    np.isnan(vals[:,1])])\n",
    "\n",
    "        m, fit= fit_with_nsigma_clipping(spts[~mask], \n",
    "                                      vals[:,0][~mask], \n",
    "                                      vals[:,1][~mask], 6, sigma=3.)\n",
    "        #same for subdwarfs\n",
    "        \n",
    "        sd_mask= np.logical_or.reduce([np.isnan(sd_spts), \n",
    "                                    np.isnan(sd_vals[:,0]),\n",
    "                                    np.isnan(sd_vals[:,1])])\n",
    "\n",
    "        sd_m, sd_fit= fit_with_nsigma_clipping(sd_spts[~sd_mask], \n",
    "                                      sd_vals[:,0][~sd_mask], \n",
    "                                      sd_vals[:,1][~sd_mask], 6, sigma=3.)\n",
    "        #same for subdwarfs\n",
    "        \n",
    "        a.errorbar(spts, vals[:,0], fmt='+', \n",
    "                   yerr=vals[:,1], color='r')\n",
    "        \n",
    "        a.errorbar(sd_spts, sd_vals[:,0], fmt='+', \n",
    "                   yerr=sd_vals[:,1], color='b')\n",
    "          \n",
    "        #a.errorbar(spts[~mask][~m], vals[:,0][~mask][~m], fmt='+', \n",
    "        #           yerr=vals[:,1][~mask][~m], color='b')\n",
    "        FITS['subdwarfs'].update({c: (sd_fit, np.nanmedian(sd_vals[:,1]))})\n",
    "        a.plot(np.arange(15, 42), fit(np.arange(15, 42)), c='k')\n",
    "        a.plot(np.arange(15, 32), sd_fit(np.arange(15, 32)), c='b')\n",
    "        a.set_ylabel(c)\n",
    "        a.set_xlabel('Spectral Type')\n",
    "        plt.tight_layout()\n",
    "        #a.set_xlim([15, 41])\n",
    "        #a.set_ylim([8, 25])\n"
   ]
  },
  {
   "cell_type": "code",
   "execution_count": null,
   "metadata": {},
   "outputs": [],
   "source": []
  },
  {
   "cell_type": "code",
   "execution_count": null,
   "metadata": {},
   "outputs": [],
   "source": []
  },
  {
   "cell_type": "code",
   "execution_count": 137,
   "metadata": {},
   "outputs": [],
   "source": [
    "#updating WISE\n",
    "#wise_dict=splat.SPT_ABSMAG_RELATIONS['best2018']['filters']['WISE_W1']\n",
    "#_, fit_2massk=fit_with_nsigma_clipping(np.array(KVALS['2MASS_KS']['spt']), \n",
    "#                                      np.array( KVALS['2MASS_KS']['values']), \n",
    "#                                      np.array( KVALS['2MASS_KS']['rms'])\n",
    "#                                     , 6, sigma=5.)\n",
    "#add wise relations\n",
    "\n",
    "#_, fit_wise1=fit_with_nsigma_clipping(np.array(wise_dict['spt']), \n",
    "#                                      np.array( wise_dict['values']), \n",
    "#                                      np.array( wise_dict['rms'])\n",
    "#                                     , 6, sigma=5.)\n",
    "#            'spt': [0.,0.5,1.,1.5,2.,2.5,3.,3.5,4.,4.5,5.,5.5,6.,6.5,7.,8.,9.,10,10.5,11,11.5,12,12.5,13,13.5,14,14.5,15,15.5,16,16.5,17,17.5,18,18.5,19,19.5,20.,21.,22.,23.,24.,25.,26.,27.,28.,29.,30.,31.,32.,33.,34.,34.5,35.,35.5,36.,37.,37.5,38.,39.,39.5,40.5,41.,41.5,42.],\\\n",
    "#            'values': [3.81, 3.82, 3.87, 3.9, 4.04, 4.07, 4.16, 4.21, 4.25, 4.26, 4.48, 4.57, 4.66, 4.78, 4.82, 4.98, 5.11, 5.22, 5.36, 5.67, 5.85, 6.06, 6.27, 6.54, 7.19, 7.55, 7.93, 8.36, 9.01, 9.32, 9.47, 9.76, 9.97, 10.11, 10.22, 10.3, 10.45, 10.55, 10.8, 10.9, 11.3, 11.4, 11.82, 12.27, 12.62, 12.7, 12.74, 12.9, 12.87, 13.19, 13.69, 14.51, 14.66, 14.9, 15.18, 15.54, 16.36, 16.85, 17.43, 18.48, 19.32, 21.5, 23, 23.5, 24],\\\n",
    "#            'rms': np.zeros(65)+0.05}})"
   ]
  },
  {
   "cell_type": "code",
   "execution_count": 138,
   "metadata": {},
   "outputs": [],
   "source": [
    "def get_kirkpatrick_wise(spt):\n",
    "    corr=splat.photometry.vegaToAB('WISE_W1')\n",
    "    #use kirkpatrick relation if no dupuy\n",
    "   \n",
    "    if spt > 36:\n",
    "        mdict=splat.SPT_ABSMAG_RELATIONS['kirkpatrick2019']['filters']['WISE_W1']\n",
    "        pol=np.poly1d(mdict['coeff'])\n",
    "        rms=mdict['fitunc']\n",
    "        return np.random.normal(pol(spt-30)+corr, rms)\n",
    "    else:\n",
    "        return np.random.normal(fit_wise1(spt)+corr, np.nanmedian(wise_dict['rms']))\n",
    "        "
   ]
  },
  {
   "cell_type": "code",
   "execution_count": 139,
   "metadata": {},
   "outputs": [
    {
     "data": {
      "text/plain": [
       "0.6341135544995076"
      ]
     },
     "execution_count": 139,
     "metadata": {},
     "output_type": "execute_result"
    }
   ],
   "source": [
    "(0.39**2+0.5**2)**0.5"
   ]
  },
  {
   "cell_type": "code",
   "execution_count": 140,
   "metadata": {},
   "outputs": [],
   "source": [
    "#get_kirkpatrick_wise(30-10)"
   ]
  },
  {
   "cell_type": "code",
   "execution_count": null,
   "metadata": {},
   "outputs": [],
   "source": [
    "spts_grids=np.linspace(17, 44, 1000)\n",
    "w1s=np.array([get_kirkpatrick_wise(x) for x in spts_grids])"
   ]
  },
  {
   "cell_type": "code",
   "execution_count": null,
   "metadata": {},
   "outputs": [],
   "source": []
  },
  {
   "cell_type": "code",
   "execution_count": null,
   "metadata": {},
   "outputs": [],
   "source": [
    "_, fit_wise=fit_with_nsigma_clipping(np.array(spts_grids), \n",
    "                                      np.array(w1s), \n",
    "                                      np.ones(len(w1s))*0.63\n",
    "                                     , 6, sigma=5.)\n",
    "plt.plot(spts_grids, w1s)\n",
    "plt.plot(spts_grids,fit_wise(spts_grids) )\n"
   ]
  },
  {
   "cell_type": "code",
   "execution_count": 141,
   "metadata": {},
   "outputs": [
    {
     "data": {
      "text/plain": [
       "dict_keys(['WFIRST_WFIJ', 'WFIRST_WFIY', 'WFIRST_WFIZ', 'WFIRST_WFIH', 'WFIRST_WFIF', 'WFIRST_WFIR', 'EUCLID_J', 'EUCLID_H', 'EUCLID_Y', 'LSST_Y', 'LSST_Z', 'LSST_R', 'NIRCAM_F115W', 'NIRCAM_F140M', 'NIRCAM_F150W', 'NIRCAM_F200W', 'WFC3_F110W', 'WFC3_F140W', 'WFC3_F160W', '2MASS_K', 'WISE_W1', 'subdwarfs'])"
      ]
     },
     "execution_count": 141,
     "metadata": {},
     "output_type": "execute_result"
    }
   ],
   "source": [
    "FITS.keys()"
   ]
  },
  {
   "cell_type": "code",
   "execution_count": 142,
   "metadata": {},
   "outputs": [],
   "source": [
    "#vals=np.vstack(abs_df['WFC3_F160W'].values)\n",
    "#spts=df.spt.values\n",
    "#plt.plot(spts, vals[:,0], 'o')"
   ]
  },
  {
   "cell_type": "code",
   "execution_count": null,
   "metadata": {},
   "outputs": [],
   "source": [
    "#FITS['2MASS_K']=(fit_2massk, np.nanmedian(np.array( KVALS['2MASS_KS']['rms'])))\n",
    "#FITS['WISE_W1']=(fit_wise, 0.63)"
   ]
  },
  {
   "cell_type": "code",
   "execution_count": 143,
   "metadata": {},
   "outputs": [],
   "source": [
    "import pickle\n",
    "output = open('/users/caganze/research/popsims/data/polynomial_relations.pkl', 'wb')\n",
    "pickle.dump(FITS, output)\n",
    "output.close()"
   ]
  },
  {
   "cell_type": "code",
   "execution_count": null,
   "metadata": {},
   "outputs": [],
   "source": []
  },
  {
   "cell_type": "code",
   "execution_count": null,
   "metadata": {},
   "outputs": [],
   "source": [
    "#FITS"
   ]
  },
  {
   "cell_type": "code",
   "execution_count": null,
   "metadata": {},
   "outputs": [],
   "source": []
  }
 ],
 "metadata": {
  "kernelspec": {
   "display_name": "Python 3",
   "language": "python",
   "name": "python3"
  },
  "language_info": {
   "codemirror_mode": {
    "name": "ipython",
    "version": 3
   },
   "file_extension": ".py",
   "mimetype": "text/x-python",
   "name": "python",
   "nbconvert_exporter": "python",
   "pygments_lexer": "ipython3",
   "version": "3.8.5"
  }
 },
 "nbformat": 4,
 "nbformat_minor": 4
}
