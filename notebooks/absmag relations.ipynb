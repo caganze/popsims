{
 "cells": [
  {
   "cell_type": "code",
   "execution_count": 1,
   "metadata": {},
   "outputs": [
    {
     "name": "stdout",
     "output_type": "stream",
     "text": [
      "\n",
      "\n",
      "Welcome to the Spex Prism Library Analysis Toolkit (SPLAT)!\n",
      "If you make use of any features of this toolkit for your research, please remember to cite the SPLAT paper:\n",
      "\n",
      "Burgasser et al. (2017, Astro. Soc. India Conf. Series 14, p. 7); Bibcode: 2017ASInC..14....7B\n",
      "\n",
      "If you make use of any spectra or models in this toolkit, please remember to cite the original source.\n",
      "Please report any errors are feature requests to our github page, https://github.com/aburgasser/splat/\n",
      "\n",
      "\n"
     ]
    }
   ],
   "source": [
    "#imports\n",
    "import numpy as np\n",
    "import splat\n",
    "import pandas as pd\n",
    "import glob\n",
    "from astropy.io import ascii\n",
    "import matplotlib.pyplot as plt\n",
    "from tqdm import tqdm\n",
    "splat.initializeStandards()\n",
    "import seaborn as sns\n",
    "import popsims\n",
    "splat.initializeStandards(all=True)\n",
    "sns.set_style(\"darkgrid\", {\"axes.facecolor\": \".9\"})\n",
    "%matplotlib inline\n"
   ]
  },
  {
   "cell_type": "code",
   "execution_count": 2,
   "metadata": {},
   "outputs": [],
   "source": [
    "ABS_MAG_FILE=popsims.DATA_FOLDER+'/absmag_relations.pkl'"
   ]
  },
  {
   "cell_type": "code",
   "execution_count": 3,
   "metadata": {},
   "outputs": [],
   "source": [
    "#df=  popsims.make_systems(nsample=int(1e7))"
   ]
  },
  {
   "cell_type": "code",
   "execution_count": 4,
   "metadata": {},
   "outputs": [],
   "source": [
    "#_= plt.hist(df.age.values)"
   ]
  },
  {
   "cell_type": "code",
   "execution_count": 5,
   "metadata": {},
   "outputs": [],
   "source": [
    "#gfhj"
   ]
  },
  {
   "cell_type": "code",
   "execution_count": 6,
   "metadata": {},
   "outputs": [],
   "source": [
    " KVALS={'2MASS_KS': {\\\n",
    "            'spt': [0.,0.5,1.,1.5,2.,2.5,3.,3.5,4.,4.5,5.,5.5,6.,6.5,7.,8.,9.,10,10.5,11,11.5,12,12.5,13,13.5,14,14.5,15,15.5,16,16.5,17,17.5,18,18.5,19,19.5,20.,21.,22.,23.,24.,25.,26.,27.,28.,29.,30.,31.,32.,33.,34.,34.5,35.,35.5,36.,37.,37.5,38.,39.,39.5,40.5,41.,41.5,42.],\\\n",
    "            'values': [3.81, 3.82, 3.87, 3.9, 4.04, 4.07, 4.16, 4.21, 4.25, 4.26, 4.48, 4.57, 4.66, 4.78, 4.82, 4.98, 5.11, 5.22, 5.36, 5.67, 5.85, 6.06, 6.27, 6.54, 7.19, 7.55, 7.93, 8.36, 9.01, 9.32, 9.47, 9.76, 9.97, 10.11, 10.22, 10.3, 10.45, 10.55, 10.8, 10.9, 11.3, 11.4, 11.82, 12.27, 12.62, 12.7, 12.74, 12.9, 12.87, 13.19, 13.69, 14.51, 14.66, 14.9, 15.18, 15.54, 16.36, 16.85, 17.43, 18.48, 19.32, 21.5, 23, 23.5, 24],\\\n",
    "            'rms': np.zeros(65)+0.05}}"
   ]
  },
  {
   "cell_type": "code",
   "execution_count": 7,
   "metadata": {},
   "outputs": [],
   "source": [
    "sptgrid=np.arange(10, 41, 100)"
   ]
  },
  {
   "cell_type": "code",
   "execution_count": 8,
   "metadata": {},
   "outputs": [],
   "source": [
    "from popsims.filtermags import filterMag"
   ]
  },
  {
   "cell_type": "code",
   "execution_count": 9,
   "metadata": {},
   "outputs": [],
   "source": [
    "def get_colors(sp, flt, filt_2mass):\n",
    "    #measuring filtermags in for two filters and comparing that to target filters\n",
    "    mag, mag_unc = filterMag(sp.wave, sp.flux, sp.noise, sp.flux.unit, flt)\n",
    "    #calculate the mag of the standard in J and H\n",
    "    mag_2mass, mag_unc2mass = filterMag(sp.wave, sp.flux, sp.noise, sp.flux.unit, filt_2mass)\n",
    "    #calculate the offset \n",
    "    return mag_2mass-mag, (mag_unc**2+ mag_unc2mass**2)**0.5\n",
    "\n",
    "def get_colors_splat(sp, flt, filt_2mass):\n",
    "    #measuring filtermags in for two filters and comparing that to target filters\n",
    "    mag, mag_unc = splat.filterMag(sp, flt)\n",
    "    #calculate the mag of the standard in J and H\n",
    "    mag_2mass, mag_unc2mass = splat.filterMag(sp, filt_2mass)\n",
    "    #calculate the offset \n",
    "    return mag_2mass-mag, (mag_unc**2+ mag_unc2mass**2)**0.5"
   ]
  },
  {
   "cell_type": "code",
   "execution_count": 10,
   "metadata": {},
   "outputs": [
    {
     "name": "stdout",
     "output_type": "stream",
     "text": [
      "\n",
      "Retrieving 1 lucky file\n",
      "\n"
     ]
    }
   ],
   "source": [
    "sp=splat.getSpectrum(lucky=True)[0]"
   ]
  },
  {
   "cell_type": "code",
   "execution_count": 11,
   "metadata": {},
   "outputs": [
    {
     "data": {
      "text/plain": [
       "(0.5752518437995757, 0.01512984187149551)"
      ]
     },
     "execution_count": 11,
     "metadata": {},
     "output_type": "execute_result"
    }
   ],
   "source": [
    "get_colors(sp, 'VISTA_KS', '2MASS J')"
   ]
  },
  {
   "cell_type": "code",
   "execution_count": 12,
   "metadata": {},
   "outputs": [],
   "source": [
    "#ghjbk"
   ]
  },
  {
   "cell_type": "code",
   "execution_count": 13,
   "metadata": {},
   "outputs": [],
   "source": [
    "#load spectra, ignore binaries, objects with high uncertainty in mag and objects without parallaxes\n",
    "splat_db=splat.searchLibrary(vlm=True, giant=False, young=False, binary=False)\n",
    "splat_db['SHORTNAME']=splat_db.DESIGNATION.apply(lambda x: splat.designationToShortName)\n",
    "sml=splat_db[~ ((splat_db.H_2MASS_E > 0.5) | (splat_db.J_2MASS_E > 0.5)) ]\n",
    "\n",
    "#sds=sml[(sml.METALLICITY_CLASS=='sd') | (sml.METALLICITY_CLASS=='esd')  ]\n",
    "sml=sml[~((sml.METALLICITY_CLASS=='sd') | (sml.METALLICITY_CLASS=='esd') \\\n",
    "          | (sml.MEDIAN_SNR <20))]"
   ]
  },
  {
   "cell_type": "code",
   "execution_count": 14,
   "metadata": {},
   "outputs": [],
   "source": [
    "#verified list of sds\n"
   ]
  },
  {
   "cell_type": "code",
   "execution_count": 15,
   "metadata": {},
   "outputs": [],
   "source": [
    "#get y dwarfs\n",
    "def get_shortname(n):\n",
    "        return splat.designationToShortName(n).replace('J', 'WISE')\n",
    "\n",
    "schn='/Volumes/Lacie/schneider/*.txt'\n",
    "schntb=pd.read_csv('/Volumes/Lacie/wispsdata/data/schneider2015.txt', \n",
    "                   delimiter=' ').drop(columns='Unnamed: 14')\n",
    "schntb['shortname']=schntb.Name.apply(get_shortname)\n",
    "spectra_schn=[]\n",
    "for f in glob.glob(schn):\n",
    "    d=ascii.read(f).to_pandas()\n",
    "    shortname=(f.split('/')[-1]).split('.txt')[0]\n",
    "    s=splat.Spectrum(wave=d.col1, \n",
    "                     flux=d.col2,\n",
    "                     noise=d.col3, \n",
    "                     name=shortname)\n",
    "    #measure snr \n",
    "    mask= np.logical_and(d.col1>1.0, d.col1<2.4)\n",
    "    snr= (np.nanmedian(d.col2[mask]/d.col3[mask]))\n",
    "    spectra_schn.append([s, snr])"
   ]
  },
  {
   "cell_type": "code",
   "execution_count": 16,
   "metadata": {},
   "outputs": [],
   "source": [
    "mdwarfs=sml[ (sml.SPEX_TYPE.apply(splat.typeToNum) <20)]\n",
    "ldwarfs=sml[ (sml.SPEX_TYPE.apply(splat.typeToNum).between(20, 30))]\n",
    "tdwarfs=sml[ (sml.SPEX_TYPE.apply(splat.typeToNum).between(30, 40))]"
   ]
  },
  {
   "cell_type": "code",
   "execution_count": 17,
   "metadata": {},
   "outputs": [],
   "source": [
    "#tighter_constraints on m dwarfs \n",
    "mdwarfs=mdwarfs[(~mdwarfs.PARALLAX.isna()) & (mdwarfs.MEDIAN_SNR >100)]\n",
    "ldwarfs=ldwarfs[ (ldwarfs.MEDIAN_SNR >70)]"
   ]
  },
  {
   "cell_type": "code",
   "execution_count": 18,
   "metadata": {},
   "outputs": [],
   "source": [
    "def choose_ten(df):\n",
    "    if len(df) >10:\n",
    "        return df.sort_values('MEDIAN_SNR', ascending=False)[:10]\n",
    "    else:\n",
    "        return df"
   ]
  },
  {
   "cell_type": "code",
   "execution_count": 19,
   "metadata": {},
   "outputs": [],
   "source": [
    "#tdwarfs.MEDIAN_SNR"
   ]
  },
  {
   "cell_type": "code",
   "execution_count": 20,
   "metadata": {},
   "outputs": [],
   "source": [
    "ls=ldwarfs.groupby('SPEX_TYPE').apply(choose_ten).reset_index(drop=True)#.groupby('SPEX_TYPE').count()"
   ]
  },
  {
   "cell_type": "code",
   "execution_count": 21,
   "metadata": {},
   "outputs": [],
   "source": [
    "smlf=pd.concat([mdwarfs, ls, tdwarfs]).reset_index(drop=True)"
   ]
  },
  {
   "cell_type": "code",
   "execution_count": 22,
   "metadata": {},
   "outputs": [],
   "source": [
    "def get_file(x):\n",
    "    try:\n",
    "        return splat.getSpectrum(filename=x)[0]\n",
    "    except:\n",
    "        return "
   ]
  },
  {
   "cell_type": "code",
   "execution_count": 23,
   "metadata": {
    "scrolled": true
   },
   "outputs": [],
   "source": [
    "%%capture\n",
    "templs=smlf.DATA_FILE.apply(lambda x: get_file(x))\n",
    "#sds_spectra=sds.DATA_FILE.apply(lambda x:  get_file(x))\n",
    "\n",
    "\n",
    "#all_spectra=pd.read_pickle('/users/caganze/research/popsims/data/splat_spectra.pkl')\n",
    "#sd_spectra=pd.read_pickle('/users/caganze/research/popsims/data/sd_spectra.pkl')"
   ]
  },
  {
   "cell_type": "code",
   "execution_count": 24,
   "metadata": {},
   "outputs": [],
   "source": [
    "#schntb['spectra']=[x[0] for x in  spectra_schn]\n",
    "\n",
    "#schntb['snr']=[x[1] for x in  spectra_schn]\n",
    "\n",
    "#schntb=schntb[schntb.snr>=2.].reset_index(drop=True)\n",
    "\n",
    "#all_spectra=np.concatenate([templs,schntb.spectra.values ])\n",
    "all_spectra=templs"
   ]
  },
  {
   "cell_type": "code",
   "execution_count": 25,
   "metadata": {},
   "outputs": [],
   "source": [
    "#import pickle\n",
    "#output = open('/users/caganze/research/popsims/data/splat_spectra.pkl', 'wb')\n",
    "#pickle.dump(all_spectra, output)\n",
    "#output.close()\n",
    "\n",
    "#import pickle\n",
    "#output = open('/users/caganze/research/popsims/data/sd_spectra.pkl', 'wb')\n",
    "#pickle.dump(sds_spectra, output)\n",
    "#output.close()\n"
   ]
  },
  {
   "cell_type": "code",
   "execution_count": 26,
   "metadata": {},
   "outputs": [],
   "source": [
    "def make_spt_number(spt):\n",
    "    ##make a spt a number\n",
    "    if isinstance(spt, str):\n",
    "        return splat.typeToNum(spt)\n",
    "    else:\n",
    "        return spt"
   ]
  },
  {
   "cell_type": "code",
   "execution_count": 27,
   "metadata": {},
   "outputs": [],
   "source": [
    "#spts=np.concatenate([smlf.SPEX_TYPE.apply(make_spt_number).values,\n",
    "#                     schntb.Spec.apply(make_spt_number).values,\n",
    "#                    ])\n",
    "spts=smlf.SPEX_TYPE.apply(make_spt_number).values"
   ]
  },
  {
   "cell_type": "code",
   "execution_count": 28,
   "metadata": {},
   "outputs": [],
   "source": [
    "assert len(spts) == len(all_spectra)"
   ]
  },
  {
   "cell_type": "code",
   "execution_count": 29,
   "metadata": {},
   "outputs": [],
   "source": [
    "#ascii.write?"
   ]
  },
  {
   "cell_type": "code",
   "execution_count": 30,
   "metadata": {},
   "outputs": [],
   "source": [
    "for f in glob.glob('/users/caganze/research/splat/resources/filters/*.dat'):\n",
    "    d=ascii.read(f,names=['LAM', 'TRANSMISSION'])\n",
    "    d['LAM']=d['LAM']/10_000\n",
    "    #print (d)\n",
    "    ascii.write(d, f.replace('.dat', '.txt'), comment='#')\n",
    "    plt.plot(d['LAM'], d['TRANSMISSION'])\n",
    "    del d\n",
    "    "
   ]
  },
  {
   "cell_type": "code",
   "execution_count": null,
   "metadata": {},
   "outputs": [],
   "source": [
    "\n"
   ]
  },
  {
   "cell_type": "code",
   "execution_count": 31,
   "metadata": {},
   "outputs": [],
   "source": [
    "#sds_spts=sds.SPEX_TYPE.apply(make_spt_number).values"
   ]
  },
  {
   "cell_type": "code",
   "execution_count": 32,
   "metadata": {},
   "outputs": [],
   "source": [
    "dwarf_pairs={ #'NIRISS_F115W': {'ref': '2MASS J', 'method':'ab'},\n",
    "            #'NIRISS_F150W': {'ref': '2MASS H', 'method': 'ab'},\n",
    "            #'NIRISS_F200W': {'ref': '2MASS H', 'method': 'ab'},\n",
    "            'VISTA_Z':{'ref': 'PANSTARRS_Z', 'method': 'vega'},\n",
    "            'VISTA_Y':{'ref': 'PANSTARRS_Y', 'method': 'vega'},\n",
    "            'VISTA_J':{'ref': '2MASS J', 'method': 'vega'},\n",
    "            'VISTA_H':{'ref': '2MASS H', 'method': 'vega'},\n",
    "            'VISTA_KS':{'ref': '2MASS H', 'method': 'vega'},\n",
    "            'UKIDSS_Z':{'ref': 'PANSTARRS_Z', 'method': 'vega'},\n",
    "            'UKIDSS_J':{'ref': '2MASS J', 'method': 'vega'},\n",
    "            'UKIDSS_H':{'ref': '2MASS H', 'method': 'vega'},\n",
    "            'UKIDSS_K':{'ref': '2MASS H', 'method': 'vega'}}\n",
    "\n",
    "\n",
    "sd_pairs= {\n",
    "            'VISTA_Z':{'ref': 'SDSS_Z', 'method': 'vega'},\n",
    "            'VISTA_Y':{'ref': 'SDSS_Z', 'method': 'vega'},\n",
    "            'VISTA_J':{'ref': '2MASS J', 'method': 'vega'},\n",
    "            'VISTA_H':{'ref': '2MASS H', 'method': 'vega'},\n",
    "            'VISTA_KS':{'ref': '2MASS K', 'method': 'vega'},\n",
    "            'UKIDSS_Z':{'ref': 'SDSS_Z', 'method': 'vega'},\n",
    "            'UKIDSS_J':{'ref': '2MASS J', 'method': 'vega'},\n",
    "            'UKIDSS_H':{'ref': '2MASS H', 'method': 'vega'},\n",
    "            'UKIDSS_K':{'ref': '2MASS K', 'method': 'vega'}}\n"
   ]
  },
  {
   "cell_type": "code",
   "execution_count": 33,
   "metadata": {},
   "outputs": [],
   "source": [
    "#sd_absolute_mag(spt, 20)"
   ]
  },
  {
   "cell_type": "code",
   "execution_count": 34,
   "metadata": {},
   "outputs": [
    {
     "data": {
      "text/plain": [
       "<function splat.utilities.typeToNum(inp, subclass='dwarf', error='', uncertainty=0.0, luminosity_class='', metallicity_class='', age_class='', color_class='', peculiar=False, verbose=False, **kwargs)>"
      ]
     },
     "execution_count": 34,
     "metadata": {},
     "output_type": "execute_result"
    }
   ],
   "source": [
    "splat.typeToNum"
   ]
  },
  {
   "cell_type": "code",
   "execution_count": 35,
   "metadata": {},
   "outputs": [],
   "source": [
    "#remove nones\n",
    "nones= np.array(all_spectra)==None\n",
    "all_spectra=all_spectra[~nones]\n",
    "spts=spts[~nones]\n",
    "assert len(spts) == len(all_spectra)"
   ]
  },
  {
   "cell_type": "code",
   "execution_count": 49,
   "metadata": {},
   "outputs": [],
   "source": [
    "def compute_colors(sp, sd=False):\n",
    "    fl_pairs=None\n",
    "    if sd: fl_pairs=sd_pairs\n",
    "    if not sd: fl_pairs=dwarf_pairs\n",
    "    #sp.normalize()\n",
    "    res={}\n",
    "    for p in fl_pairs.keys():\n",
    "        res.update({p+'and'+fl_pairs[p]['ref']: \\\n",
    "                    get_colors(sp, p, fl_pairs[p]['ref'])})\n",
    "    return res"
   ]
  },
  {
   "cell_type": "code",
   "execution_count": 37,
   "metadata": {},
   "outputs": [],
   "source": [
    "zhang_subds=pd.read_pickle( '/volumes/LaCie/popsimsdata/combined_sd_templates.pkl')\n",
    "zhang_subds['spt']=zhang_subds.sptype.apply(make_spt_number)"
   ]
  },
  {
   "cell_type": "code",
   "execution_count": 38,
   "metadata": {},
   "outputs": [],
   "source": [
    "optical_stds=pd.read_pickle('/volumes/LaCie/popsimsdata/combined_optical_templates.pkl')\n",
    "optical_stds['spt']=optical_stds.sptype.apply(make_spt_number)"
   ]
  },
  {
   "cell_type": "code",
   "execution_count": 39,
   "metadata": {},
   "outputs": [],
   "source": [
    "#darf_pairs"
   ]
  },
  {
   "cell_type": "code",
   "execution_count": 40,
   "metadata": {},
   "outputs": [],
   "source": [
    "#optical_stds"
   ]
  },
  {
   "cell_type": "code",
   "execution_count": 41,
   "metadata": {},
   "outputs": [],
   "source": [
    "#only pick those ith sds or esd or usd in their sptype\n",
    "zhang_subds=zhang_subds[np.logical_or.reduce([zhang_subds.sptype.str.startswith('esd'),\\\n",
    "                                             zhang_subds.sptype.str.startswith('sd'),\\\n",
    "                                              zhang_subds.sptype.str.startswith('usd')])]\n",
    "#add \n",
    "optical_sd_bool=np.logical_or.reduce([optical_stds.sptype.str.startswith('esd'),\\\n",
    "                                    optical_stds.sptype.str.startswith('sd'),\\\n",
    "                                    optical_stds.sptype.str.startswith('usd')]).astype(bool)\n"
   ]
  },
  {
   "cell_type": "code",
   "execution_count": 42,
   "metadata": {},
   "outputs": [],
   "source": [
    "zhang_subds=zhang_subds.append(optical_stds[optical_sd_bool])"
   ]
  },
  {
   "cell_type": "code",
   "execution_count": 43,
   "metadata": {},
   "outputs": [],
   "source": [
    "#assert len(zhang_subds)==131"
   ]
  },
  {
   "cell_type": "code",
   "execution_count": 44,
   "metadata": {},
   "outputs": [],
   "source": [
    "#zhang_subds.spt.values"
   ]
  },
  {
   "cell_type": "code",
   "execution_count": 45,
   "metadata": {
    "scrolled": true
   },
   "outputs": [],
   "source": [
    "#sd_df"
   ]
  },
  {
   "cell_type": "code",
   "execution_count": 46,
   "metadata": {},
   "outputs": [],
   "source": [
    "optical_templates=optical_stds[~optical_sd_bool].spectra.values\n",
    "optical_spts=optical_stds[~optical_sd_bool].spt.values"
   ]
  },
  {
   "cell_type": "code",
   "execution_count": 47,
   "metadata": {},
   "outputs": [],
   "source": [
    "optical_templates=optical_templates[optical_spts>=10]\n",
    "optical_spts=optical_spts[optical_spts>=10]\n",
    "\n",
    "assert len(np.concatenate([optical_templates, all_spectra]))==\\\n",
    "len(np.concatenate([optical_spts, spts]))"
   ]
  },
  {
   "cell_type": "code",
   "execution_count": 50,
   "metadata": {},
   "outputs": [
    {
     "name": "stderr",
     "output_type": "stream",
     "text": [
      "\n",
      "  0%|                                                   | 0/133 [00:00<?, ?it/s]\u001b[A\n",
      "  1%|▎                                          | 1/133 [00:00<00:26,  5.05it/s]\u001b[A\n",
      "  3%|█▎                                         | 4/133 [00:00<00:11, 11.63it/s]\u001b[A\n",
      "  5%|█▉                                         | 6/133 [00:00<00:19,  6.65it/s]\u001b[A\n",
      "  5%|██▎                                        | 7/133 [00:00<00:18,  6.81it/s]\u001b[A\n",
      "  6%|██▌                                        | 8/133 [00:01<00:18,  6.93it/s]\u001b[A\n",
      "  7%|██▉                                        | 9/133 [00:01<00:17,  6.99it/s]\u001b[A\n",
      "  8%|███▏                                      | 10/133 [00:01<00:17,  7.09it/s]\u001b[A\n",
      "  8%|███▍                                      | 11/133 [00:01<00:17,  7.13it/s]\u001b[A\n",
      "  9%|███▊                                      | 12/133 [00:01<00:17,  7.10it/s]\u001b[A\n",
      " 10%|████                                      | 13/133 [00:01<00:16,  7.18it/s]\u001b[A\n",
      " 11%|████▍                                     | 14/133 [00:01<00:16,  7.18it/s]\u001b[A\n",
      " 12%|█████                                     | 16/133 [00:02<00:13,  8.80it/s]\u001b[A\n",
      " 13%|█████▎                                    | 17/133 [00:02<00:13,  8.35it/s]\u001b[A\n",
      " 14%|█████▋                                    | 18/133 [00:02<00:14,  8.10it/s]\u001b[A\n",
      " 14%|██████                                    | 19/133 [00:02<00:14,  7.85it/s]\u001b[A\n",
      " 17%|██████▉                                   | 22/133 [00:02<00:10, 10.99it/s]\u001b[A\n",
      " 18%|███████▌                                  | 24/133 [00:02<00:11,  9.43it/s]\u001b[A\n",
      " 19%|███████▉                                  | 25/133 [00:03<00:12,  8.91it/s]\u001b[A\n",
      " 21%|████████▊                                 | 28/133 [00:03<00:09, 11.13it/s]\u001b[A\n",
      " 23%|█████████▍                                | 30/133 [00:03<00:10,  9.80it/s]\u001b[A\n",
      " 23%|█████████▊                                | 31/133 [00:03<00:11,  9.23it/s]\u001b[A\n",
      " 24%|██████████                                | 32/133 [00:03<00:11,  8.75it/s]\u001b[A\n",
      " 25%|██████████▍                               | 33/133 [00:03<00:11,  8.40it/s]\u001b[A\n",
      " 26%|███████████                               | 35/133 [00:04<00:10,  9.68it/s]\u001b[A\n",
      " 27%|███████████▎                              | 36/133 [00:04<00:10,  9.03it/s]\u001b[A\n",
      " 28%|███████████▋                              | 37/133 [00:04<00:12,  7.60it/s]\u001b[A\n",
      " 29%|████████████                              | 38/133 [00:04<00:20,  4.53it/s]\u001b[A\n",
      " 29%|████████████▎                             | 39/133 [00:05<00:18,  5.02it/s]\u001b[A\n",
      " 31%|████████████▉                             | 41/133 [00:05<00:13,  6.76it/s]\u001b[A\n",
      " 32%|█████████████▌                            | 43/133 [00:05<00:12,  7.45it/s]\u001b[A\n",
      " 33%|█████████████▉                            | 44/133 [00:05<00:12,  7.35it/s]\u001b[A\n",
      " 35%|██████████████▌                           | 46/133 [00:05<00:10,  8.67it/s]\u001b[A\n",
      " 35%|██████████████▊                           | 47/133 [00:05<00:10,  8.34it/s]\u001b[A\n",
      " 37%|███████████████▍                          | 49/133 [00:06<00:08,  9.47it/s]\u001b[A\n",
      " 38%|███████████████▊                          | 50/133 [00:06<00:09,  8.91it/s]\u001b[A\n",
      " 38%|████████████████                          | 51/133 [00:06<00:09,  8.98it/s]\u001b[A\n",
      " 40%|████████████████▋                         | 53/133 [00:06<00:07, 10.07it/s]\u001b[A\n",
      " 41%|█████████████████▎                        | 55/133 [00:06<00:07, 10.72it/s]\u001b[A\n",
      " 43%|██████████████████                        | 57/133 [00:06<00:08,  9.27it/s]\u001b[A\n",
      " 44%|██████████████████▋                       | 59/133 [00:07<00:07, 10.11it/s]\u001b[A\n",
      " 46%|███████████████████▎                      | 61/133 [00:07<00:06, 10.77it/s]\u001b[A\n",
      " 47%|███████████████████▉                      | 63/133 [00:07<00:07,  9.53it/s]\u001b[A\n",
      " 50%|████████████████████▊                     | 66/133 [00:07<00:06, 10.65it/s]\u001b[A\n",
      " 51%|█████████████████████▍                    | 68/133 [00:07<00:05, 11.07it/s]\u001b[A\n",
      " 53%|██████████████████████                    | 70/133 [00:08<00:09,  6.82it/s]\u001b[A\n",
      " 53%|██████████████████████▍                   | 71/133 [00:09<00:13,  4.69it/s]\u001b[A\n",
      " 54%|██████████████████████▋                   | 72/133 [00:09<00:16,  3.61it/s]\u001b[A\n",
      " 55%|███████████████████████                   | 73/133 [00:10<00:19,  3.03it/s]\u001b[A\n",
      " 56%|███████████████████████▎                  | 74/133 [00:10<00:22,  2.57it/s]\u001b[A\n",
      " 56%|███████████████████████▋                  | 75/133 [00:11<00:24,  2.34it/s]\u001b[A\n",
      " 57%|████████████████████████                  | 76/133 [00:11<00:26,  2.19it/s]\u001b[A\n",
      " 58%|████████████████████████▎                 | 77/133 [00:12<00:26,  2.10it/s]\u001b[A\n",
      " 59%|████████████████████████▋                 | 78/133 [00:12<00:27,  2.02it/s]\u001b[A\n",
      " 59%|████████████████████████▉                 | 79/133 [00:13<00:27,  1.98it/s]\u001b[A\n",
      " 60%|█████████████████████████▎                | 80/133 [00:13<00:27,  1.95it/s]\u001b[A\n",
      " 61%|█████████████████████████▌                | 81/133 [00:14<00:27,  1.92it/s]\u001b[A\n",
      " 62%|█████████████████████████▉                | 82/133 [00:14<00:25,  2.03it/s]\u001b[A\n",
      " 63%|██████████████████████████▌               | 84/133 [00:15<00:18,  2.70it/s]\u001b[A\n",
      " 67%|████████████████████████████              | 89/133 [00:15<00:08,  4.91it/s]\u001b[A\n",
      " 68%|████████████████████████████▍             | 90/133 [00:16<00:10,  4.24it/s]\u001b[A\n",
      " 68%|████████████████████████████▋             | 91/133 [00:16<00:11,  3.72it/s]\u001b[A\n",
      " 72%|██████████████████████████████▎           | 96/133 [00:16<00:04,  7.68it/s]\u001b[A\n",
      " 74%|██████████████████████████████▉           | 98/133 [00:17<00:05,  6.77it/s]\u001b[A\n",
      " 77%|███████████████████████████████▊         | 103/133 [00:17<00:02, 11.29it/s]\u001b[A\n",
      " 81%|█████████████████████████████████▎       | 108/133 [00:17<00:02, 10.97it/s]\u001b[A\n",
      " 84%|██████████████████████████████████▌      | 112/133 [00:18<00:02, 10.19it/s]\u001b[A\n",
      " 86%|███████████████████████████████████▏     | 114/133 [00:18<00:02,  8.44it/s]\u001b[A\n",
      " 87%|███████████████████████████████████▊     | 116/133 [00:19<00:02,  7.33it/s]\u001b[A\n",
      " 89%|████████████████████████████████████▍    | 118/133 [00:19<00:02,  6.57it/s]\u001b[A\n",
      " 90%|████████████████████████████████████▉    | 120/133 [00:19<00:02,  6.00it/s]\u001b[A\n",
      " 95%|██████████████████████████████████████▊  | 126/133 [00:19<00:00, 10.95it/s]\u001b[A\n",
      " 97%|███████████████████████████████████████▊ | 129/133 [00:20<00:00,  9.56it/s]\u001b[A\n",
      "100%|█████████████████████████████████████████| 133/133 [00:20<00:00,  6.38it/s]\u001b[A\n"
     ]
    }
   ],
   "source": [
    "sd_df=pd.DataFrame.from_records([compute_colors(x, sd=True) for x in tqdm(zhang_subds.spectra.values)])\n",
    "sd_df['spt']=zhang_subds.spt.values"
   ]
  },
  {
   "cell_type": "code",
   "execution_count": 51,
   "metadata": {},
   "outputs": [
    {
     "data": {
      "text/plain": [
       "261"
      ]
     },
     "execution_count": 51,
     "metadata": {},
     "output_type": "execute_result"
    }
   ],
   "source": [
    "len(all_spectra)"
   ]
  },
  {
   "cell_type": "code",
   "execution_count": 52,
   "metadata": {},
   "outputs": [
    {
     "name": "stderr",
     "output_type": "stream",
     "text": [
      "\n",
      "  0%|                                                   | 0/303 [00:00<?, ?it/s]\u001b[A\n",
      "  0%|▏                                          | 1/303 [00:00<02:50,  1.77it/s]\u001b[A\n",
      "  1%|▎                                          | 2/303 [00:01<02:47,  1.80it/s]\u001b[A\n",
      "  1%|▍                                          | 3/303 [00:01<02:46,  1.81it/s]\u001b[A\n",
      "  1%|▌                                          | 4/303 [00:02<02:45,  1.81it/s]\u001b[A\n",
      "  2%|▋                                          | 5/303 [00:02<02:42,  1.83it/s]\u001b[A\n",
      "  2%|▊                                          | 6/303 [00:03<02:41,  1.84it/s]\u001b[A\n",
      "  2%|▉                                          | 7/303 [00:03<02:38,  1.86it/s]\u001b[A\n",
      "  3%|█▏                                         | 8/303 [00:04<02:39,  1.85it/s]\u001b[A\n",
      "  3%|█▎                                         | 9/303 [00:04<02:39,  1.84it/s]\u001b[A\n",
      "  3%|█▍                                        | 10/303 [00:05<02:39,  1.83it/s]\u001b[A\n",
      "  4%|█▌                                        | 11/303 [00:05<02:38,  1.84it/s]\u001b[A\n",
      "  4%|█▋                                        | 12/303 [00:06<02:36,  1.86it/s]\u001b[A\n",
      "  4%|█▊                                        | 13/303 [00:07<02:37,  1.85it/s]\u001b[A\n",
      "  5%|█▉                                        | 14/303 [00:07<02:38,  1.82it/s]\u001b[A\n",
      "  5%|██                                        | 15/303 [00:08<02:35,  1.85it/s]\u001b[A\n",
      "  5%|██▏                                       | 16/303 [00:08<02:32,  1.89it/s]\u001b[A\n",
      "  6%|██▎                                       | 17/303 [00:09<02:29,  1.91it/s]\u001b[A\n",
      "  6%|██▍                                       | 18/303 [00:09<02:28,  1.92it/s]\u001b[A\n",
      "  6%|██▋                                       | 19/303 [00:10<02:26,  1.94it/s]\u001b[A\n",
      "  7%|██▊                                       | 20/303 [00:10<02:26,  1.93it/s]\u001b[A\n",
      "  7%|██▉                                       | 21/303 [00:11<02:26,  1.93it/s]\u001b[A\n",
      "  7%|███                                       | 22/303 [00:11<02:24,  1.94it/s]\u001b[A\n",
      "  8%|███▏                                      | 23/303 [00:12<02:23,  1.95it/s]\u001b[A\n",
      "  8%|███▎                                      | 24/303 [00:12<02:22,  1.96it/s]\u001b[A\n",
      "  8%|███▍                                      | 25/303 [00:13<02:21,  1.97it/s]\u001b[A\n",
      "  9%|███▌                                      | 26/303 [00:13<02:20,  1.97it/s]\u001b[A\n",
      "  9%|███▋                                      | 27/303 [00:14<02:19,  1.97it/s]\u001b[A\n",
      "  9%|███▉                                      | 28/303 [00:14<02:23,  1.92it/s]\u001b[A\n",
      " 10%|████                                      | 29/303 [00:15<02:24,  1.90it/s]\u001b[A\n",
      " 10%|████▏                                     | 30/303 [00:15<02:23,  1.90it/s]\u001b[A\n",
      " 10%|████▎                                     | 31/303 [00:16<02:21,  1.92it/s]\u001b[A\n",
      " 11%|████▍                                     | 32/303 [00:16<02:24,  1.88it/s]\u001b[A\n",
      " 11%|████▌                                     | 33/303 [00:17<02:28,  1.82it/s]\u001b[A\n",
      " 11%|████▋                                     | 34/303 [00:18<02:26,  1.83it/s]\u001b[A\n",
      " 12%|████▊                                     | 35/303 [00:18<02:28,  1.81it/s]\u001b[A\n",
      " 12%|████▉                                     | 36/303 [00:19<02:26,  1.82it/s]\u001b[A\n",
      " 12%|█████▏                                    | 37/303 [00:19<02:24,  1.84it/s]\u001b[A\n",
      " 13%|█████▎                                    | 38/303 [00:20<02:22,  1.86it/s]\u001b[A\n",
      " 13%|█████▍                                    | 39/303 [00:20<02:20,  1.88it/s]\u001b[A\n",
      " 13%|█████▌                                    | 40/303 [00:21<02:19,  1.89it/s]\u001b[A\n",
      " 14%|█████▋                                    | 41/303 [00:21<02:18,  1.89it/s]\u001b[A\n",
      " 14%|█████▊                                    | 42/303 [00:22<02:17,  1.89it/s]\u001b[A\n",
      " 14%|█████▉                                    | 43/303 [00:22<02:16,  1.90it/s]\u001b[A\n",
      " 15%|██████                                    | 44/303 [00:23<02:16,  1.90it/s]\u001b[A\n",
      " 15%|██████▏                                   | 45/303 [00:23<02:15,  1.90it/s]\u001b[A\n",
      " 15%|██████▍                                   | 46/303 [00:24<02:15,  1.90it/s]\u001b[A\n",
      " 16%|██████▌                                   | 47/303 [00:24<02:13,  1.91it/s]\u001b[A\n",
      " 16%|██████▋                                   | 48/303 [00:25<02:13,  1.91it/s]\u001b[A\n",
      " 16%|██████▊                                   | 49/303 [00:26<02:13,  1.91it/s]\u001b[A\n",
      " 17%|██████▉                                   | 50/303 [00:26<02:12,  1.92it/s]\u001b[A\n",
      " 17%|███████                                   | 51/303 [00:27<02:11,  1.92it/s]\u001b[A\n",
      " 17%|███████▏                                  | 52/303 [00:27<02:11,  1.91it/s]\u001b[A\n",
      " 17%|███████▎                                  | 53/303 [00:28<02:10,  1.91it/s]\u001b[A\n",
      " 18%|███████▍                                  | 54/303 [00:28<02:10,  1.91it/s]\u001b[A\n",
      " 18%|███████▌                                  | 55/303 [00:29<02:09,  1.91it/s]\u001b[A\n",
      " 18%|███████▊                                  | 56/303 [00:29<02:09,  1.91it/s]\u001b[A\n",
      " 19%|███████▉                                  | 57/303 [00:30<02:08,  1.91it/s]\u001b[A\n",
      " 19%|████████                                  | 58/303 [00:30<02:08,  1.90it/s]\u001b[A\n",
      " 19%|████████▏                                 | 59/303 [00:31<02:09,  1.89it/s]\u001b[A\n",
      " 20%|████████▎                                 | 60/303 [00:31<02:09,  1.87it/s]\u001b[A\n",
      " 20%|████████▍                                 | 61/303 [00:32<02:10,  1.86it/s]\u001b[A\n",
      " 20%|████████▌                                 | 62/303 [00:32<02:10,  1.85it/s]\u001b[A\n",
      " 21%|████████▋                                 | 63/303 [00:33<02:11,  1.82it/s]\u001b[A\n",
      " 21%|████████▊                                 | 64/303 [00:33<02:09,  1.85it/s]\u001b[A\n",
      " 21%|█████████                                 | 65/303 [00:34<02:07,  1.87it/s]\u001b[A\n",
      " 22%|█████████▏                                | 66/303 [00:35<02:05,  1.89it/s]\u001b[A\n",
      " 22%|█████████▎                                | 67/303 [00:35<02:05,  1.87it/s]\u001b[A\n",
      " 22%|█████████▍                                | 68/303 [00:36<02:03,  1.90it/s]\u001b[A\n",
      " 23%|█████████▌                                | 69/303 [00:36<02:04,  1.89it/s]\u001b[A\n",
      " 23%|█████████▋                                | 70/303 [00:37<02:02,  1.90it/s]\u001b[A\n",
      " 23%|█████████▊                                | 71/303 [00:37<02:01,  1.91it/s]\u001b[A\n",
      " 24%|█████████▉                                | 72/303 [00:38<02:00,  1.92it/s]\u001b[A\n",
      " 24%|██████████                                | 73/303 [00:38<01:59,  1.92it/s]\u001b[A\n",
      " 24%|██████████▎                               | 74/303 [00:39<01:58,  1.93it/s]\u001b[A\n",
      " 25%|██████████▍                               | 75/303 [00:39<01:57,  1.94it/s]\u001b[A\n",
      " 25%|██████████▌                               | 76/303 [00:40<01:56,  1.94it/s]\u001b[A\n",
      " 25%|██████████▋                               | 77/303 [00:40<01:55,  1.95it/s]\u001b[A\n",
      " 26%|██████████▊                               | 78/303 [00:41<01:54,  1.96it/s]\u001b[A\n",
      " 26%|██████████▉                               | 79/303 [00:41<01:54,  1.96it/s]\u001b[A\n",
      " 26%|███████████                               | 80/303 [00:42<01:53,  1.96it/s]\u001b[A\n",
      " 27%|███████████▏                              | 81/303 [00:42<01:52,  1.97it/s]\u001b[A\n",
      " 27%|███████████▎                              | 82/303 [00:43<01:52,  1.97it/s]\u001b[A\n",
      " 27%|███████████▌                              | 83/303 [00:43<01:51,  1.97it/s]\u001b[A\n",
      " 28%|███████████▋                              | 84/303 [00:44<01:51,  1.97it/s]\u001b[A\n",
      " 28%|███████████▊                              | 85/303 [00:44<01:50,  1.97it/s]\u001b[A\n",
      " 28%|███████████▉                              | 86/303 [00:45<01:50,  1.96it/s]\u001b[A\n",
      " 29%|████████████                              | 87/303 [00:45<01:51,  1.94it/s]\u001b[A\n",
      " 29%|████████████▏                             | 88/303 [00:46<01:53,  1.90it/s]\u001b[A\n",
      " 29%|████████████▎                             | 89/303 [00:46<01:53,  1.88it/s]\u001b[A\n",
      " 30%|████████████▍                             | 90/303 [00:47<01:55,  1.85it/s]\u001b[A\n",
      " 30%|████████████▌                             | 91/303 [00:48<01:54,  1.85it/s]\u001b[A\n",
      " 30%|████████████▊                             | 92/303 [00:48<01:53,  1.85it/s]\u001b[A\n",
      " 31%|████████████▉                             | 93/303 [00:49<01:53,  1.85it/s]\u001b[A\n",
      " 31%|█████████████                             | 94/303 [00:49<01:52,  1.85it/s]\u001b[A\n",
      " 31%|█████████████▏                            | 95/303 [00:50<01:51,  1.86it/s]\u001b[A\n",
      " 32%|█████████████▎                            | 96/303 [00:50<01:51,  1.86it/s]\u001b[A\n"
     ]
    },
    {
     "name": "stderr",
     "output_type": "stream",
     "text": [
      " 32%|█████████████▍                            | 97/303 [00:51<01:50,  1.87it/s]\u001b[A\n",
      " 32%|█████████████▌                            | 98/303 [00:51<01:51,  1.85it/s]\u001b[A\n",
      " 33%|█████████████▋                            | 99/303 [00:52<01:50,  1.84it/s]\u001b[A\n",
      " 33%|█████████████▌                           | 100/303 [00:52<01:50,  1.84it/s]\u001b[A\n",
      " 33%|█████████████▋                           | 101/303 [00:53<01:47,  1.87it/s]\u001b[A\n",
      " 34%|█████████████▊                           | 102/303 [00:53<01:46,  1.89it/s]\u001b[A\n",
      " 34%|█████████████▉                           | 103/303 [00:54<01:44,  1.91it/s]\u001b[A\n",
      " 34%|██████████████                           | 104/303 [00:54<01:43,  1.92it/s]\u001b[A\n",
      " 35%|██████████████▏                          | 105/303 [00:55<01:46,  1.85it/s]\u001b[A\n",
      " 35%|██████████████▎                          | 106/303 [00:56<01:45,  1.87it/s]\u001b[A\n",
      " 35%|██████████████▍                          | 107/303 [00:56<01:43,  1.90it/s]\u001b[A\n",
      " 36%|██████████████▌                          | 108/303 [00:57<01:42,  1.91it/s]\u001b[A\n",
      " 36%|██████████████▋                          | 109/303 [00:57<01:40,  1.92it/s]\u001b[A\n",
      " 36%|██████████████▉                          | 110/303 [00:58<01:39,  1.93it/s]\u001b[A\n",
      " 37%|███████████████                          | 111/303 [00:58<01:38,  1.94it/s]\u001b[A\n",
      " 37%|███████████████▏                         | 112/303 [00:59<01:37,  1.95it/s]\u001b[A\n",
      " 37%|███████████████▎                         | 113/303 [00:59<01:37,  1.95it/s]\u001b[A\n",
      " 38%|███████████████▍                         | 114/303 [01:00<01:37,  1.94it/s]\u001b[A\n",
      " 38%|███████████████▌                         | 115/303 [01:00<01:36,  1.94it/s]\u001b[A\n",
      " 38%|███████████████▋                         | 116/303 [01:01<01:36,  1.94it/s]\u001b[A\n",
      " 39%|███████████████▊                         | 117/303 [01:01<01:35,  1.95it/s]\u001b[A\n",
      " 39%|███████████████▉                         | 118/303 [01:02<01:34,  1.95it/s]\u001b[A\n",
      " 39%|████████████████                         | 119/303 [01:02<01:34,  1.95it/s]\u001b[A\n",
      " 40%|████████████████▏                        | 120/303 [01:03<01:33,  1.96it/s]\u001b[A\n",
      " 40%|████████████████▎                        | 121/303 [01:03<01:32,  1.96it/s]\u001b[A\n",
      " 40%|████████████████▌                        | 122/303 [01:04<01:32,  1.96it/s]\u001b[A\n",
      " 41%|████████████████▋                        | 123/303 [01:04<01:32,  1.96it/s]\u001b[A\n",
      " 41%|████████████████▊                        | 124/303 [01:05<01:31,  1.95it/s]\u001b[A\n",
      " 41%|████████████████▉                        | 125/303 [01:05<01:31,  1.95it/s]\u001b[A\n",
      " 42%|█████████████████                        | 126/303 [01:06<01:30,  1.96it/s]\u001b[A\n",
      " 42%|█████████████████▏                       | 127/303 [01:06<01:29,  1.96it/s]\u001b[A\n",
      " 42%|█████████████████▎                       | 128/303 [01:07<01:30,  1.93it/s]\u001b[A\n",
      " 43%|█████████████████▍                       | 129/303 [01:07<01:31,  1.90it/s]\u001b[A\n",
      " 43%|█████████████████▌                       | 130/303 [01:08<01:33,  1.85it/s]\u001b[A\n",
      " 43%|█████████████████▋                       | 131/303 [01:08<01:31,  1.88it/s]\u001b[A\n",
      " 44%|█████████████████▊                       | 132/303 [01:09<01:29,  1.90it/s]\u001b[A\n",
      " 44%|█████████████████▉                       | 133/303 [01:09<01:28,  1.92it/s]\u001b[A\n",
      " 44%|██████████████████▏                      | 134/303 [01:10<01:27,  1.93it/s]\u001b[A\n",
      " 45%|██████████████████▎                      | 135/303 [01:11<01:26,  1.94it/s]\u001b[A\n",
      " 45%|██████████████████▍                      | 136/303 [01:11<01:25,  1.94it/s]\u001b[A\n",
      " 45%|██████████████████▌                      | 137/303 [01:12<01:25,  1.95it/s]\u001b[A\n",
      " 46%|██████████████████▋                      | 138/303 [01:12<01:24,  1.95it/s]\u001b[A\n",
      " 46%|██████████████████▊                      | 139/303 [01:13<01:23,  1.95it/s]\u001b[A\n",
      " 46%|██████████████████▉                      | 140/303 [01:13<01:23,  1.95it/s]\u001b[A\n",
      " 47%|███████████████████                      | 141/303 [01:14<01:22,  1.95it/s]\u001b[A\n",
      " 47%|███████████████████▏                     | 142/303 [01:14<01:22,  1.95it/s]\u001b[A\n",
      " 47%|███████████████████▎                     | 143/303 [01:15<01:21,  1.96it/s]\u001b[A\n",
      " 48%|███████████████████▍                     | 144/303 [01:15<01:21,  1.96it/s]\u001b[A\n",
      " 48%|███████████████████▌                     | 145/303 [01:16<01:19,  1.99it/s]\u001b[A\n",
      " 48%|███████████████████▊                     | 146/303 [01:16<01:20,  1.95it/s]\u001b[A\n",
      " 49%|███████████████████▉                     | 147/303 [01:17<01:22,  1.90it/s]\u001b[A\n",
      " 49%|████████████████████                     | 148/303 [01:17<01:20,  1.92it/s]\u001b[A\n",
      " 49%|████████████████████▏                    | 149/303 [01:18<01:19,  1.94it/s]\u001b[A\n",
      " 50%|████████████████████▎                    | 150/303 [01:18<01:19,  1.92it/s]\u001b[A\n",
      " 50%|████████████████████▍                    | 151/303 [01:19<01:19,  1.91it/s]\u001b[A\n",
      " 50%|████████████████████▌                    | 152/303 [01:19<01:18,  1.92it/s]\u001b[A\n",
      " 50%|████████████████████▋                    | 153/303 [01:20<01:17,  1.93it/s]\u001b[A\n",
      " 51%|████████████████████▊                    | 154/303 [01:20<01:18,  1.91it/s]\u001b[A\n",
      " 51%|████████████████████▉                    | 155/303 [01:21<01:18,  1.89it/s]\u001b[A\n",
      " 51%|█████████████████████                    | 156/303 [01:21<01:17,  1.89it/s]\u001b[A\n",
      " 52%|█████████████████████▏                   | 157/303 [01:22<01:16,  1.90it/s]\u001b[A\n",
      " 52%|█████████████████████▍                   | 158/303 [01:22<01:16,  1.91it/s]\u001b[A\n",
      " 52%|█████████████████████▌                   | 159/303 [01:23<01:15,  1.90it/s]\u001b[A\n",
      " 53%|█████████████████████▋                   | 160/303 [01:23<01:14,  1.91it/s]\u001b[A\n",
      " 53%|█████████████████████▊                   | 161/303 [01:24<01:13,  1.93it/s]\u001b[A\n",
      " 53%|█████████████████████▉                   | 162/303 [01:25<01:12,  1.93it/s]\u001b[A\n",
      " 54%|██████████████████████                   | 163/303 [01:25<01:14,  1.89it/s]\u001b[A\n",
      " 54%|██████████████████████▏                  | 164/303 [01:26<01:15,  1.85it/s]\u001b[A\n",
      " 54%|██████████████████████▎                  | 165/303 [01:26<01:15,  1.84it/s]\u001b[A\n",
      " 55%|██████████████████████▍                  | 166/303 [01:27<01:14,  1.83it/s]\u001b[A\n",
      " 55%|██████████████████████▌                  | 167/303 [01:27<01:14,  1.82it/s]\u001b[A\n",
      " 55%|██████████████████████▋                  | 168/303 [01:28<01:13,  1.85it/s]\u001b[A\n",
      " 56%|██████████████████████▊                  | 169/303 [01:28<01:12,  1.86it/s]\u001b[A\n",
      " 56%|███████████████████████                  | 170/303 [01:29<01:12,  1.84it/s]\u001b[A\n",
      " 56%|███████████████████████▏                 | 171/303 [01:29<01:12,  1.83it/s]\u001b[A\n",
      " 57%|███████████████████████▎                 | 172/303 [01:30<01:11,  1.83it/s]\u001b[A\n",
      " 57%|███████████████████████▍                 | 173/303 [01:31<01:11,  1.83it/s]\u001b[A\n",
      " 57%|███████████████████████▌                 | 174/303 [01:31<01:10,  1.84it/s]\u001b[A\n",
      " 58%|███████████████████████▋                 | 175/303 [01:32<01:09,  1.83it/s]\u001b[A\n",
      " 58%|███████████████████████▊                 | 176/303 [01:32<01:09,  1.83it/s]\u001b[A\n",
      " 58%|███████████████████████▉                 | 177/303 [01:33<01:10,  1.78it/s]\u001b[A\n",
      " 59%|████████████████████████                 | 178/303 [01:33<01:09,  1.81it/s]\u001b[A\n",
      " 59%|████████████████████████▏                | 179/303 [01:34<01:08,  1.82it/s]\u001b[A\n",
      " 59%|████████████████████████▎                | 180/303 [01:34<01:06,  1.85it/s]\u001b[A\n",
      " 60%|████████████████████████▍                | 181/303 [01:35<01:05,  1.85it/s]\u001b[A\n",
      " 60%|████████████████████████▋                | 182/303 [01:35<01:05,  1.85it/s]\u001b[A\n",
      " 60%|████████████████████████▊                | 183/303 [01:36<01:05,  1.84it/s]\u001b[A\n",
      " 61%|████████████████████████▉                | 184/303 [01:37<01:04,  1.83it/s]\u001b[A\n",
      " 61%|█████████████████████████                | 185/303 [01:37<01:03,  1.86it/s]\u001b[A\n",
      " 61%|█████████████████████████▏               | 186/303 [01:38<01:02,  1.88it/s]\u001b[A\n",
      " 62%|█████████████████████████▎               | 187/303 [01:38<01:01,  1.89it/s]\u001b[A\n",
      " 62%|█████████████████████████▍               | 188/303 [01:39<01:00,  1.91it/s]\u001b[A\n",
      " 62%|█████████████████████████▌               | 189/303 [01:39<00:59,  1.91it/s]\u001b[A\n",
      " 63%|█████████████████████████▋               | 190/303 [01:40<00:59,  1.90it/s]\u001b[A\n",
      " 63%|█████████████████████████▊               | 191/303 [01:40<00:58,  1.92it/s]\u001b[A\n",
      " 63%|█████████████████████████▉               | 192/303 [01:41<00:57,  1.93it/s]\u001b[A\n",
      " 64%|██████████████████████████               | 193/303 [01:41<00:56,  1.93it/s]\u001b[A\n"
     ]
    },
    {
     "name": "stderr",
     "output_type": "stream",
     "text": [
      " 64%|██████████████████████████▎              | 194/303 [01:42<00:56,  1.94it/s]\u001b[A\n",
      " 64%|██████████████████████████▍              | 195/303 [01:42<00:55,  1.94it/s]\u001b[A\n",
      " 65%|██████████████████████████▌              | 196/303 [01:43<00:55,  1.92it/s]\u001b[A\n",
      " 65%|██████████████████████████▋              | 197/303 [01:43<00:53,  1.97it/s]\u001b[A\n",
      " 65%|██████████████████████████▊              | 198/303 [01:44<00:53,  1.96it/s]\u001b[A\n",
      " 66%|██████████████████████████▉              | 199/303 [01:44<00:53,  1.95it/s]\u001b[A\n",
      " 66%|███████████████████████████              | 200/303 [01:45<00:52,  1.95it/s]\u001b[A\n",
      " 66%|███████████████████████████▏             | 201/303 [01:45<00:52,  1.95it/s]\u001b[A\n",
      " 67%|███████████████████████████▎             | 202/303 [01:46<00:51,  1.95it/s]\u001b[A\n",
      " 67%|███████████████████████████▍             | 203/303 [01:46<00:51,  1.95it/s]\u001b[A\n",
      " 67%|███████████████████████████▌             | 204/303 [01:47<00:50,  1.95it/s]\u001b[A\n",
      " 68%|███████████████████████████▋             | 205/303 [01:47<00:50,  1.95it/s]\u001b[A\n",
      " 68%|███████████████████████████▊             | 206/303 [01:48<00:49,  1.96it/s]\u001b[A\n",
      " 68%|████████████████████████████             | 207/303 [01:48<00:49,  1.94it/s]\u001b[A\n",
      " 69%|████████████████████████████▏            | 208/303 [01:49<00:49,  1.90it/s]\u001b[A\n",
      " 69%|████████████████████████████▎            | 209/303 [01:49<00:49,  1.89it/s]\u001b[A\n",
      " 69%|████████████████████████████▍            | 210/303 [01:50<00:49,  1.89it/s]\u001b[A\n",
      " 70%|████████████████████████████▌            | 211/303 [01:51<00:48,  1.89it/s]\u001b[A\n",
      " 70%|████████████████████████████▋            | 212/303 [01:51<00:48,  1.89it/s]\u001b[A\n",
      " 70%|████████████████████████████▊            | 213/303 [01:52<00:48,  1.87it/s]\u001b[A\n",
      " 71%|████████████████████████████▉            | 214/303 [01:52<00:47,  1.86it/s]\u001b[A\n",
      " 71%|█████████████████████████████            | 215/303 [01:53<00:47,  1.85it/s]\u001b[A\n",
      " 71%|█████████████████████████████▏           | 216/303 [01:53<00:47,  1.83it/s]\u001b[A\n",
      " 72%|█████████████████████████████▎           | 217/303 [01:54<00:47,  1.83it/s]\u001b[A\n",
      " 72%|█████████████████████████████▍           | 218/303 [01:54<00:46,  1.83it/s]\u001b[A\n",
      " 72%|█████████████████████████████▋           | 219/303 [01:55<00:45,  1.83it/s]\u001b[A\n",
      " 73%|█████████████████████████████▊           | 220/303 [01:55<00:45,  1.84it/s]\u001b[A\n",
      " 73%|█████████████████████████████▉           | 221/303 [01:56<00:43,  1.87it/s]\u001b[A\n",
      " 73%|██████████████████████████████           | 222/303 [01:57<00:43,  1.88it/s]\u001b[A\n",
      " 74%|██████████████████████████████▏          | 223/303 [01:57<00:42,  1.89it/s]\u001b[A\n",
      " 74%|██████████████████████████████▎          | 224/303 [01:58<00:41,  1.90it/s]\u001b[A\n",
      " 74%|██████████████████████████████▍          | 225/303 [01:58<00:41,  1.89it/s]\u001b[A\n",
      " 75%|██████████████████████████████▌          | 226/303 [01:59<00:40,  1.91it/s]\u001b[A\n",
      " 75%|██████████████████████████████▋          | 227/303 [01:59<00:39,  1.92it/s]\u001b[A\n",
      " 75%|██████████████████████████████▊          | 228/303 [02:00<00:38,  1.92it/s]\u001b[A\n",
      " 76%|██████████████████████████████▉          | 229/303 [02:00<00:38,  1.93it/s]\u001b[A\n",
      " 76%|███████████████████████████████          | 230/303 [02:01<00:37,  1.94it/s]\u001b[A\n",
      " 76%|███████████████████████████████▎         | 231/303 [02:01<00:36,  1.95it/s]\u001b[A\n",
      " 77%|███████████████████████████████▍         | 232/303 [02:02<00:36,  1.94it/s]\u001b[A\n",
      " 77%|███████████████████████████████▌         | 233/303 [02:02<00:35,  1.95it/s]\u001b[A\n",
      " 77%|███████████████████████████████▋         | 234/303 [02:03<00:35,  1.95it/s]\u001b[A\n",
      " 78%|███████████████████████████████▊         | 235/303 [02:03<00:34,  1.95it/s]\u001b[A\n",
      " 78%|███████████████████████████████▉         | 236/303 [02:04<00:34,  1.95it/s]\u001b[A\n",
      " 78%|████████████████████████████████         | 237/303 [02:04<00:33,  1.95it/s]\u001b[A\n",
      " 79%|████████████████████████████████▏        | 238/303 [02:05<00:33,  1.95it/s]\u001b[A\n",
      " 79%|████████████████████████████████▎        | 239/303 [02:05<00:32,  1.96it/s]\u001b[A\n",
      " 79%|████████████████████████████████▍        | 240/303 [02:06<00:32,  1.96it/s]\u001b[A\n",
      " 80%|████████████████████████████████▌        | 241/303 [02:06<00:31,  1.96it/s]\u001b[A\n",
      " 80%|████████████████████████████████▋        | 242/303 [02:07<00:31,  1.96it/s]\u001b[A\n",
      " 80%|████████████████████████████████▉        | 243/303 [02:07<00:30,  1.96it/s]\u001b[A\n",
      " 81%|█████████████████████████████████        | 244/303 [02:08<00:30,  1.96it/s]\u001b[A\n",
      " 81%|█████████████████████████████████▏       | 245/303 [02:08<00:29,  1.96it/s]\u001b[A\n",
      " 81%|█████████████████████████████████▎       | 246/303 [02:09<00:29,  1.96it/s]\u001b[A\n",
      " 82%|█████████████████████████████████▍       | 247/303 [02:09<00:28,  1.95it/s]\u001b[A\n",
      " 82%|█████████████████████████████████▌       | 248/303 [02:10<00:29,  1.89it/s]\u001b[A\n",
      " 82%|█████████████████████████████████▋       | 249/303 [02:10<00:28,  1.90it/s]\u001b[A\n",
      " 83%|█████████████████████████████████▊       | 250/303 [02:11<00:27,  1.92it/s]\u001b[A\n",
      " 83%|█████████████████████████████████▉       | 251/303 [02:11<00:26,  1.93it/s]\u001b[A\n",
      " 83%|██████████████████████████████████       | 252/303 [02:12<00:26,  1.94it/s]\u001b[A\n",
      " 83%|██████████████████████████████████▏      | 253/303 [02:12<00:25,  1.94it/s]\u001b[A\n",
      " 84%|██████████████████████████████████▎      | 254/303 [02:13<00:25,  1.94it/s]\u001b[A\n",
      " 84%|██████████████████████████████████▌      | 255/303 [02:14<00:24,  1.94it/s]\u001b[A\n",
      " 84%|██████████████████████████████████▋      | 256/303 [02:14<00:24,  1.89it/s]\u001b[A\n",
      " 85%|██████████████████████████████████▊      | 257/303 [02:15<00:24,  1.90it/s]\u001b[A\n",
      " 85%|██████████████████████████████████▉      | 258/303 [02:15<00:23,  1.88it/s]\u001b[A\n",
      " 85%|███████████████████████████████████      | 259/303 [02:16<00:23,  1.86it/s]\u001b[A\n",
      " 86%|███████████████████████████████████▏     | 260/303 [02:16<00:23,  1.85it/s]\u001b[A\n",
      " 86%|███████████████████████████████████▎     | 261/303 [02:17<00:22,  1.84it/s]\u001b[A\n",
      " 88%|███████████████████████████████████▉     | 266/303 [02:17<00:06,  5.32it/s]\u001b[A\n",
      " 89%|████████████████████████████████████▋    | 271/303 [02:17<00:04,  6.90it/s]\u001b[A\n",
      " 91%|█████████████████████████████████████▎   | 276/303 [02:17<00:02, 10.64it/s]\u001b[A\n",
      " 93%|██████████████████████████████████████   | 281/303 [02:18<00:01, 14.92it/s]\u001b[A\n",
      " 94%|██████████████████████████████████████▋  | 286/303 [02:18<00:00, 19.48it/s]\u001b[A\n",
      " 96%|███████████████████████████████████████▏ | 290/303 [02:18<00:00, 14.26it/s]\u001b[A\n",
      " 97%|███████████████████████████████████████▉ | 295/303 [02:18<00:00, 18.55it/s]\u001b[A\n",
      "100%|█████████████████████████████████████████| 303/303 [02:18<00:00,  2.18it/s]\u001b[A\n"
     ]
    }
   ],
   "source": [
    "df=pd.DataFrame.from_records([compute_colors(x, sd=False) for x in tqdm(np.concatenate([all_spectra, optical_templates]))])\n",
    "df['spt']=np.concatenate([spts,  optical_spts])"
   ]
  },
  {
   "cell_type": "code",
   "execution_count": 53,
   "metadata": {},
   "outputs": [
    {
     "data": {
      "text/html": [
       "<div>\n",
       "<style scoped>\n",
       "    .dataframe tbody tr th:only-of-type {\n",
       "        vertical-align: middle;\n",
       "    }\n",
       "\n",
       "    .dataframe tbody tr th {\n",
       "        vertical-align: top;\n",
       "    }\n",
       "\n",
       "    .dataframe thead th {\n",
       "        text-align: right;\n",
       "    }\n",
       "</style>\n",
       "<table border=\"1\" class=\"dataframe\">\n",
       "  <thead>\n",
       "    <tr style=\"text-align: right;\">\n",
       "      <th></th>\n",
       "      <th>VISTA_ZandPANSTARRS_Z</th>\n",
       "      <th>VISTA_YandPANSTARRS_Y</th>\n",
       "      <th>VISTA_Jand2MASS J</th>\n",
       "      <th>VISTA_Hand2MASS H</th>\n",
       "      <th>VISTA_KSand2MASS H</th>\n",
       "      <th>UKIDSS_ZandPANSTARRS_Z</th>\n",
       "      <th>UKIDSS_Jand2MASS J</th>\n",
       "      <th>UKIDSS_Hand2MASS H</th>\n",
       "      <th>UKIDSS_Kand2MASS H</th>\n",
       "      <th>spt</th>\n",
       "    </tr>\n",
       "  </thead>\n",
       "  <tbody>\n",
       "    <tr>\n",
       "      <th>0</th>\n",
       "      <td>(0.5696960504739934, 0.010699168072997665)</td>\n",
       "      <td>(0.8023156096179029, 0.006073946104729873)</td>\n",
       "      <td>(0.04650997984814431, 0.0033317702543505675)</td>\n",
       "      <td>(-0.03308989040901267, 0.003481116608839368)</td>\n",
       "      <td>(0.34112482742130723, 0.004268439659451414)</td>\n",
       "      <td>(0.6145935317977624, 0.01065038453870254)</td>\n",
       "      <td>(0.05224132591834518, 0.003437820914185351)</td>\n",
       "      <td>(-0.04749111363173952, 0.0036327503335508425)</td>\n",
       "      <td>(0.4006581683577206, 0.004789258108223993)</td>\n",
       "      <td>18.0</td>\n",
       "    </tr>\n",
       "    <tr>\n",
       "      <th>1</th>\n",
       "      <td>(0.5409836151771508, 0.01928262087342012)</td>\n",
       "      <td>(0.7160323924435694, 0.009411120356971399)</td>\n",
       "      <td>(0.03626774975765912, 0.00401987494327943)</td>\n",
       "      <td>(-0.020984486634864297, 0.003439879115998071)</td>\n",
       "      <td>(0.23549738986644897, 0.004077143976690822)</td>\n",
       "      <td>(0.5665391906408495, 0.018694700029186596)</td>\n",
       "      <td>(0.037252205005032124, 0.00419881143901866)</td>\n",
       "      <td>(-0.03147766490102022, 0.003395466829816894)</td>\n",
       "      <td>(0.2791544629660656, 0.0037920375788153744)</td>\n",
       "      <td>15.0</td>\n",
       "    </tr>\n",
       "    <tr>\n",
       "      <th>2</th>\n",
       "      <td>(0.591558489467122, 0.05653511761016379)</td>\n",
       "      <td>(0.8282149447611467, 0.01852464994891063)</td>\n",
       "      <td>(0.04959918976112121, 0.00851450915017779)</td>\n",
       "      <td>(-0.033889824318361406, 0.010178816636713111)</td>\n",
       "      <td>(0.4083775902411588, 0.011436455569701406)</td>\n",
       "      <td>(0.6446435961708481, 0.05795768043558282)</td>\n",
       "      <td>(0.05537922992494515, 0.008511495432656915)</td>\n",
       "      <td>(-0.04932207243706799, 0.011124753746764549)</td>\n",
       "      <td>(0.467482256980869, 0.012919268900831988)</td>\n",
       "      <td>19.0</td>\n",
       "    </tr>\n",
       "    <tr>\n",
       "      <th>3</th>\n",
       "      <td>(0.5288781610532851, 0.011570003103939339)</td>\n",
       "      <td>(0.6537078772665517, 0.00986139400050936)</td>\n",
       "      <td>(0.03177590026387733, 0.006066954978264866)</td>\n",
       "      <td>(-0.01853449625739856, 0.001797550431962437)</td>\n",
       "      <td>(0.18465520497437637, 0.004829093414446291)</td>\n",
       "      <td>(0.5457357977909965, 0.011672795547106537)</td>\n",
       "      <td>(0.031206745759016385, 0.005808349745803836)</td>\n",
       "      <td>(-0.028225556861764645, 0.0019206103055702832)</td>\n",
       "      <td>(0.19783429176922596, 0.005329586329899653)</td>\n",
       "      <td>12.0</td>\n",
       "    </tr>\n",
       "    <tr>\n",
       "      <th>4</th>\n",
       "      <td>(0.5699331712644735, 0.013756410979096136)</td>\n",
       "      <td>(0.8097713141646032, 0.007923395663461551)</td>\n",
       "      <td>(0.044603101108673826, 0.004464392292223209)</td>\n",
       "      <td>(-0.03302261993111699, 0.004886011109902078)</td>\n",
       "      <td>(0.35992615331019806, 0.0067633809135196656)</td>\n",
       "      <td>(0.615437085958682, 0.01580361600559423)</td>\n",
       "      <td>(0.0491896652267485, 0.004619487670885592)</td>\n",
       "      <td>(-0.04766837369399468, 0.004614139235793182)</td>\n",
       "      <td>(0.42330085818271357, 0.007060454740883355)</td>\n",
       "      <td>18.0</td>\n",
       "    </tr>\n",
       "  </tbody>\n",
       "</table>\n",
       "</div>"
      ],
      "text/plain": [
       "                        VISTA_ZandPANSTARRS_Z  \\\n",
       "0  (0.5696960504739934, 0.010699168072997665)   \n",
       "1   (0.5409836151771508, 0.01928262087342012)   \n",
       "2    (0.591558489467122, 0.05653511761016379)   \n",
       "3  (0.5288781610532851, 0.011570003103939339)   \n",
       "4  (0.5699331712644735, 0.013756410979096136)   \n",
       "\n",
       "                        VISTA_YandPANSTARRS_Y  \\\n",
       "0  (0.8023156096179029, 0.006073946104729873)   \n",
       "1  (0.7160323924435694, 0.009411120356971399)   \n",
       "2   (0.8282149447611467, 0.01852464994891063)   \n",
       "3   (0.6537078772665517, 0.00986139400050936)   \n",
       "4  (0.8097713141646032, 0.007923395663461551)   \n",
       "\n",
       "                              VISTA_Jand2MASS J  \\\n",
       "0  (0.04650997984814431, 0.0033317702543505675)   \n",
       "1    (0.03626774975765912, 0.00401987494327943)   \n",
       "2    (0.04959918976112121, 0.00851450915017779)   \n",
       "3   (0.03177590026387733, 0.006066954978264866)   \n",
       "4  (0.044603101108673826, 0.004464392292223209)   \n",
       "\n",
       "                               VISTA_Hand2MASS H  \\\n",
       "0   (-0.03308989040901267, 0.003481116608839368)   \n",
       "1  (-0.020984486634864297, 0.003439879115998071)   \n",
       "2  (-0.033889824318361406, 0.010178816636713111)   \n",
       "3   (-0.01853449625739856, 0.001797550431962437)   \n",
       "4   (-0.03302261993111699, 0.004886011109902078)   \n",
       "\n",
       "                             VISTA_KSand2MASS H  \\\n",
       "0   (0.34112482742130723, 0.004268439659451414)   \n",
       "1   (0.23549738986644897, 0.004077143976690822)   \n",
       "2    (0.4083775902411588, 0.011436455569701406)   \n",
       "3   (0.18465520497437637, 0.004829093414446291)   \n",
       "4  (0.35992615331019806, 0.0067633809135196656)   \n",
       "\n",
       "                       UKIDSS_ZandPANSTARRS_Z  \\\n",
       "0   (0.6145935317977624, 0.01065038453870254)   \n",
       "1  (0.5665391906408495, 0.018694700029186596)   \n",
       "2   (0.6446435961708481, 0.05795768043558282)   \n",
       "3  (0.5457357977909965, 0.011672795547106537)   \n",
       "4    (0.615437085958682, 0.01580361600559423)   \n",
       "\n",
       "                             UKIDSS_Jand2MASS J  \\\n",
       "0   (0.05224132591834518, 0.003437820914185351)   \n",
       "1   (0.037252205005032124, 0.00419881143901866)   \n",
       "2   (0.05537922992494515, 0.008511495432656915)   \n",
       "3  (0.031206745759016385, 0.005808349745803836)   \n",
       "4    (0.0491896652267485, 0.004619487670885592)   \n",
       "\n",
       "                               UKIDSS_Hand2MASS H  \\\n",
       "0   (-0.04749111363173952, 0.0036327503335508425)   \n",
       "1    (-0.03147766490102022, 0.003395466829816894)   \n",
       "2    (-0.04932207243706799, 0.011124753746764549)   \n",
       "3  (-0.028225556861764645, 0.0019206103055702832)   \n",
       "4    (-0.04766837369399468, 0.004614139235793182)   \n",
       "\n",
       "                            UKIDSS_Kand2MASS H   spt  \n",
       "0   (0.4006581683577206, 0.004789258108223993)  18.0  \n",
       "1  (0.2791544629660656, 0.0037920375788153744)  15.0  \n",
       "2    (0.467482256980869, 0.012919268900831988)  19.0  \n",
       "3  (0.19783429176922596, 0.005329586329899653)  12.0  \n",
       "4  (0.42330085818271357, 0.007060454740883355)  18.0  "
      ]
     },
     "execution_count": 53,
     "metadata": {},
     "output_type": "execute_result"
    }
   ],
   "source": [
    "df.head(5)"
   ]
  },
  {
   "cell_type": "code",
   "execution_count": 54,
   "metadata": {},
   "outputs": [],
   "source": [
    "#ghj"
   ]
  },
  {
   "cell_type": "code",
   "execution_count": 55,
   "metadata": {},
   "outputs": [],
   "source": [
    "def k_clip_fit(x, y, sigma_y, sigma = 5, n=6):\n",
    "    \n",
    "    '''Fit a polynomial to y vs. x, and k-sigma clip until convergence\n",
    "    hard-coded, returns mask array\n",
    "    '''\n",
    "    \n",
    "    not_clipped = np.ones_like(y).astype(bool)\n",
    "    n_remove = 1\n",
    "    \n",
    "    while n_remove > 0:\n",
    "\n",
    "        best_fit = np.poly1d(np.polyfit(x[not_clipped], y[not_clipped], n))\n",
    "        \n",
    "        norm_res = (np.abs(y - best_fit(x)))/(sigma_y)\n",
    "        remove = np.logical_and(norm_res >= sigma, not_clipped == 1)\n",
    "        n_remove = sum(remove)\n",
    "        not_clipped[remove] = 0   \n",
    "        \n",
    "    return  not_clipped\n",
    "\n",
    "def fit_with_nsigma_clipping(x, y, y_unc, n, sigma=3.):\n",
    "    not_clipped = k_clip_fit(x, y, y_unc, sigma = sigma)\n",
    "    return not_clipped, np.poly1d(np.polyfit(x[not_clipped], y[not_clipped], n))"
   ]
  },
  {
   "cell_type": "code",
   "execution_count": 56,
   "metadata": {},
   "outputs": [],
   "source": [
    "rocio_coeffs={'SDSS_R':[-0.03, 1.3 , 7.2 , 0.62],\\\n",
    "              'SDSS_I':[-0.009, 0.9, 6.8, 0.55],\\\n",
    "              'SDSS_Z':[-0.005, 0.74, 6.7 ,  0.5]}"
   ]
  },
  {
   "cell_type": "code",
   "execution_count": 57,
   "metadata": {},
   "outputs": [],
   "source": [
    "rocio_relations={}"
   ]
  },
  {
   "cell_type": "code",
   "execution_count": 58,
   "metadata": {},
   "outputs": [
    {
     "data": {
      "text/plain": [
       "[-0.03, 1.3, 7.2]"
      ]
     },
     "execution_count": 58,
     "metadata": {},
     "output_type": "execute_result"
    }
   ],
   "source": [
    "rocio_coeffs['SDSS_R'][:-1]"
   ]
  },
  {
   "cell_type": "code",
   "execution_count": 59,
   "metadata": {},
   "outputs": [],
   "source": [
    "for k in rocio_coeffs.keys():\n",
    "    s={k: {'x': 'spt', 'y': k, 'fit':np.poly1d(rocio_coeffs[k][:-1]), \\\n",
    "                'scatter': rocio_coeffs[k][-1], \\\n",
    "                'method': 'polynomial',\\\n",
    "                'range': [10, 24] ,\n",
    "          'x0': 10}}\n",
    "    rocio_relations.update(s)\n",
    "    pass"
   ]
  },
  {
   "cell_type": "code",
   "execution_count": 60,
   "metadata": {},
   "outputs": [
    {
     "data": {
      "text/plain": [
       "array([13.92, 14.83, 15.68, 16.47, 17.2 , 17.87, 18.48, 19.03])"
      ]
     },
     "execution_count": 60,
     "metadata": {},
     "output_type": "execute_result"
    }
   ],
   "source": [
    "rocio_relations['SDSS_R']['fit'](np.arange(16, 24)-10)"
   ]
  },
  {
   "cell_type": "code",
   "execution_count": 61,
   "metadata": {},
   "outputs": [],
   "source": [
    "#"
   ]
  },
  {
   "cell_type": "code",
   "execution_count": 62,
   "metadata": {},
   "outputs": [],
   "source": [
    "#absolute magnitude relation\n",
    "import splat.empirical as spe\n",
    "\n",
    "kirkpa2019pol={'2MASS H':{'pol':np.poly1d(np.flip([36.9714, -8.66856, 1.05122 ,-0.0344809])), \n",
    "                    'scatter':.67, 'range':[36, 44]}}\n",
    "kirkpa2020pol={'2MASS H':{'pol':np.poly1d(np.flip([-6.918e01, 1.1863e+01,-5.4084e-1, 8.466e-03 ])), \n",
    "                    'scatter':.51, 'range':[36, 44]}}\n",
    "best_dict={'2MASS J': {\\\n",
    "            'spt': [16,17,18,19,20,21,22,23,24,25,26,27,28,29,30,31,32,33,34,35,36,37,38,39], \\\n",
    "            'values': [10.36,10.77,11.15,11.46,11.76,12.03,12.32,12.77,13.51,13.69,14.18,14.94,14.90,14.46,14.56,15.25,14.54,14.26,13.89,14.94,15.53,16.78,17.18,17.75],\\\n",
    "            'rms': [0.30,0.30,0.42,0.34,0.18,0.15,0.21,0.24,0.28,0.25,0.60,0.20,0.13,0.71,0.5,0.12,0.06,0.16,0.36,0.12,0.27,0.76,0.51,0.5]},\n",
    "        '2MASS H': {\\\n",
    "            'spt': [16,17,18,19,20,21,22,23,24,25,26,27,28,29,30,31,32,33,34,35,36,37,38,39], \\\n",
    "            'values': [9.76,10.14,10.47,10.74,11.00,11.23,11.41,11.82,12.45,12.63,13.19,13.82,13.77,13.39,13.62,14.39,13.73,13.67,13.57,14.76,15.48,16.70,17.09,17.51],\\\n",
    "            'rms': [0.30,0.31,0.43,0.35,0.23,0.21,0.25,0.29,0.3,0.30,0.62,0.31,0.20,0.73,0.5,0.18,0.15,0.24,0.40,0.24,0.37,0.78,0.5,0.5]},\n",
    "       \n",
    "        'PANSTARRS_R': {\\\n",
    "            'spt': [16,17,18,19,20,21,22,23,24,25,26,28], \\\n",
    "            'values': [15.37,16.76,17.74,18.14,18.37,18.74,19.02,19.61,20.60,20.74,21.21,22.88],\\\n",
    "            'rms': [0.43,0.50,0.51,0.37,0.31,0.28,0.29,0.39,0.56,0.37,0.78,0.5]},\n",
    "        'PANSTARRS_I': {\\\n",
    "            'spt': [16,17,18,19,20,21,22,23,24,25,26,27,28,29,30,31,32,35], \\\n",
    "            'values': [13.25,14.18,15.00,15.62,16.00,16.41,16.73,17.40,18.35,18.71,19.27,20.09,20.38,20.09,20.22,21.10,21.97,22.69],\\\n",
    "            'rms': [0.34,0.39,0.48,0.39,0.26,0.25,0.26,0.34,0.38,0.33,0.65,0.36,0.79,0.5,1.14,0.5,0.5,0.5]},\n",
    "        'PANSTARRS_Z': {\\\n",
    "            'spt': [16,17,18,19,20,21,22,23,24,25,26,27,28,29,30,31,32,33,34,35,36,37,38,39], \\\n",
    "            'values': [12.27,12.98,13.61,14.17,14.52,14.93,15.30,15.88,16.68,16.94,17.35,18.18,18.10,17.69,17.98,18.84,18.26,18.08,18.02,19.20,19.82,21.17,21.52,21.82],\\\n",
    "            'rms': [0.32,0.34,0.45,0.37,0.25,0.23,0.24,0.21,0.33,0.29,0.62,0.26,0.22,0.73,0.5,0.21,0.23,0.25,0.39,0.22,0.32,0.78,0.52,0.5]},\n",
    "        'PANSTARRS_Y': {\\\n",
    "            'spt': [16,17,18,19,20,21,22,23,24,25,26,27,28,29,30,31,32,33,34,35,36,37,38,39], \\\n",
    "            'values': [11.76,12.31,12.81,13.23,13.58,13.97,14.33,14.89,15.66,15.87,16.27,17.13,17.04,16.57,16.77,17.45,16.75,16.50,16.32,17.43,18.06,19.34,19.75,20.37],\\\n",
    "            'rms': [0.30,0.31,0.43,0.36,0.23,0.21,0.24,0.29,0.32,0.28,0.61,0.25,0.21,0.72,0.5,0.16,0.13,0.22,0.38,0.18,0.32,0.81,0.59,0.5]}}\n",
    "\n",
    "BEST={}\n",
    "BEST['rms']={}\n",
    "BEST['range']={}\n",
    "for k in best_dict.keys():\n",
    "    BEST[k]=fit_with_nsigma_clipping(np.array(best_dict[k]['spt']), \n",
    "                                      np.array(best_dict[k]['values']), \n",
    "                                      np.array(best_dict[k]['rms'])\n",
    "                                     , 6, sigma=5.)\n",
    "    BEST['rms'][k]=np.nanmedian(best_dict[k]['rms'])\n",
    "    BEST['range'][k]=[np.nanmin(best_dict[k]['spt']), np.nanmax(best_dict[k]['spt'])]\n",
    "    \n",
    "    \n",
    "from astropy.io import ascii\n",
    "def make_mamajek_fit(spt):\n",
    "    mamjk=ascii.read('/volumes/LaCie/wispsdata/data/mamajek_relations.txt').to_pandas().replace('None', np.nan)\n",
    "    js=mamjk.M_J.apply(float).values\n",
    "    jminush=mamjk['J-H'].apply(float).values\n",
    "    hs=js-jminush\n",
    "    \n",
    "    spts=mamjk.SpT.apply(splat.typeToNum).apply(float).values\n",
    "    \n",
    "    hsortedindex=np.argsort(hs)\n",
    "    jsortedindex=np.argsort(js)\n",
    "    \n",
    "    hval=np.interp(spt,  spts[hsortedindex], hs[hsortedindex])\n",
    "    jval=np.interp(spt,  spts[jsortedindex], js[jsortedindex])\n",
    "    \n",
    "    return ((jval, 0.4), (hval, 0.4))\n",
    "\n",
    "def absolute_mag_kirkpatrick(spt, filt):\n",
    "    if filt != '2MASS H':\n",
    "        return np.nan\n",
    "    else:\n",
    "        pol=kirkpa2019pol[filt]['pol']\n",
    "        unc=kirkpa2019pol[filt]['scatter']\n",
    "        return pol(spt-30), unc\n",
    "\n",
    "def get_subdwarf_abs_mag(spt, flter):\n",
    "    m, munc=np.nan, np.nan\n",
    "    #replace panstarrs by sdss\n",
    "    m, munc=spe.typeToMag(spt, flter, reference='zhang2013')\n",
    "        \n",
    "    return m, munc\n",
    "        \n",
    "def get_abs_mag(spt, flter, method='vega'):\n",
    "    #base absolute mag relations to use to convert from other absmag\n",
    "    m, munc=(np.nan, np.nan)\n",
    "    if ((flter.upper()=='2MASS J') or (flter.upper()=='2MASS_J')):\n",
    "        corr=splat.photometry.vegaToAB('2MASS J')\n",
    "        ((m, munc), (h, hunc))=make_mamajek_fit(spt)\n",
    "        if method == 'ab': m+corr\n",
    "        \n",
    "    if ((flter.upper()=='2MASS H') or (flter.upper()=='2MASS_H')):\n",
    "        corr=splat.photometry.vegaToAB('2MASS H')\n",
    "        if spt <36:\n",
    "            \n",
    "            #m=BEST['2MASS H'][1](spt)\n",
    "            #munc= np.nanmedian(best_dict[k]['rms'])\n",
    "            #m, munc=spe.typeToMag(spt, '2MASS H')\n",
    "            ((j, junc), (m, munc))=make_mamajek_fit(spt)\n",
    "            if method == 'ab': m+corr\n",
    "\n",
    "        else:\n",
    "            m, munc=absolute_mag_kirkpatrick(spt, '2MASS H')\n",
    "            if method == 'ab': m+corr\n",
    "        \n",
    "\n",
    "    if ((flter.upper()=='2MASS KS') or (flter.upper()=='2MASS_KS')):\n",
    "        corr=splat.photometry.vegaToAB('2MASS Ks')\n",
    "        #m, munc= spe.typeToMag(spt, '2MASS J')\n",
    "        m, munc=spe.typeToMag(spt, '2MASS Ks', ref='dupuy2012')\n",
    "        if method == 'ab': m+corr\n",
    "        \n",
    "    if flter.upper().startswith('PANSTARRS'):\n",
    "        if np.logical_or(spt> BEST['range'][flter][-1], spt< BEST['range'][flter][0]):\n",
    "            pass\n",
    "        else:\n",
    "            corr=splat.photometry.vegaToAB(flter.upper())\n",
    "            m=(BEST[k][1])(spt)#+corr\n",
    "            munc=np.nanmedian(best_dict[k]['rms'])\n",
    "            if method == 'ab': m+corr\n",
    "    return m, munc"
   ]
  },
  {
   "cell_type": "code",
   "execution_count": 63,
   "metadata": {},
   "outputs": [],
   "source": [
    "#import popsims\n",
    "#popsims.get_distance(get_abs_mag(25, '2MASS J')[0], 28.)"
   ]
  },
  {
   "cell_type": "code",
   "execution_count": 64,
   "metadata": {},
   "outputs": [],
   "source": [
    "sp_grid=np.arange(15, 42)"
   ]
  },
  {
   "cell_type": "code",
   "execution_count": 65,
   "metadata": {},
   "outputs": [
    {
     "data": {
      "text/plain": [
       "28"
      ]
     },
     "execution_count": 65,
     "metadata": {},
     "output_type": "execute_result"
    }
   ],
   "source": [
    "BEST['range']['PANSTARRS_R'][-1]"
   ]
  },
  {
   "cell_type": "code",
   "execution_count": 66,
   "metadata": {},
   "outputs": [
    {
     "name": "stdout",
     "output_type": "stream",
     "text": [
      "10 2MASS J nan\n",
      "10 2MASS H nan\n",
      "10 SDSS_Z nan\n",
      "11 2MASS J 6.302665243000001\n",
      "11 2MASS H 5.735573692\n",
      "11 SDSS_Z 8.069847600000001\n",
      "12 2MASS J 6.790454976\n",
      "12 2MASS H 6.206937344\n",
      "12 SDSS_Z 8.717282\n",
      "13 2MASS J 7.537189449\n",
      "13 2MASS H 6.961262555999999\n",
      "13 SDSS_Z 9.570632400000001\n",
      "14 2MASS J 8.386834432\n",
      "14 2MASS H 7.824678208\n",
      "14 SDSS_Z 10.4840688\n",
      "15 2MASS J 9.229734375000001\n",
      "15 2MASS H 8.675037499999998\n",
      "15 SDSS_Z 11.360389999999999\n",
      "16 2MASS J 9.996245568\n",
      "16 2MASS H 9.434884992\n",
      "16 SDSS_Z 12.1435116\n",
      "17 2MASS J 10.650369301\n",
      "17 2MASS H 10.064423644000003\n",
      "17 SDSS_Z 12.810953999999997\n",
      "18 2MASS J 11.183385024000001\n",
      "18 2MASS H 10.554481855999999\n",
      "18 SDSS_Z 13.366330399999997\n",
      "19 2MASS J 11.607483507\n",
      "19 2MASS H 10.919480508000005\n",
      "19 SDSS_Z 13.831834799999998\n",
      "20 2MASS J 11.9494\n",
      "20 2MASS H 11.190400000000004\n",
      "20 SDSS_Z 14.240729999999989\n",
      "21 2MASS J 12.244047392999995\n",
      "21 2MASS H 11.407747292000007\n",
      "21 SDSS_Z 14.629835599999994\n",
      "22 2MASS J 12.528149376\n",
      "22 2MASS H 11.614522944000004\n",
      "22 SDSS_Z 15.032015999999992\n",
      "23 2MASS J 12.833873598999984\n",
      "23 2MASS H 11.849188156000004\n",
      "23 SDSS_Z 15.468668399999991\n",
      "24 2MASS J 13.182464831999997\n",
      "24 2MASS H 12.138631808000014\n",
      "24 SDSS_Z 15.942210799999987\n",
      "25 2MASS J 13.57787812499999\n",
      "25 2MASS H 12.491137500000029\n",
      "25 SDSS_Z 16.428569999999972\n",
      "26 2MASS J 14.000411967999998\n",
      "26 2MASS H 12.88935059200001\n",
      "26 SDSS_Z 16.869669599999973\n",
      "27 2MASS J 14.40034145099999\n",
      "27 2MASS H 13.28324524400003\n",
      "27 SDSS_Z 17.165917999999976\n",
      "28 2MASS J 14.69155142399997\n",
      "28 2MASS H 13.583091456000037\n",
      "28 SDSS_Z 17.168696399999952\n",
      "29 2MASS J 14.745169657000002\n",
      "29 2MASS H 13.652422108000035\n",
      "29 SDSS_Z nan\n",
      "30 2MASS J nan\n",
      "30 2MASS H nan\n",
      "30 SDSS_Z nan\n",
      "31 2MASS J nan\n",
      "31 2MASS H nan\n",
      "31 SDSS_Z nan\n",
      "32 2MASS J nan\n",
      "32 2MASS H nan\n",
      "32 SDSS_Z nan\n",
      "33 2MASS J nan\n",
      "33 2MASS H nan\n",
      "33 SDSS_Z nan\n",
      "34 2MASS J nan\n",
      "34 2MASS H nan\n",
      "34 SDSS_Z nan\n",
      "35 2MASS J nan\n",
      "35 2MASS H nan\n",
      "35 SDSS_Z nan\n",
      "36 2MASS J nan\n",
      "36 2MASS H nan\n",
      "36 SDSS_Z nan\n",
      "37 2MASS J nan\n",
      "37 2MASS H nan\n",
      "37 SDSS_Z nan\n",
      "38 2MASS J nan\n",
      "38 2MASS H nan\n",
      "38 SDSS_Z nan\n",
      "39 2MASS J nan\n",
      "39 2MASS H nan\n",
      "39 SDSS_Z nan\n"
     ]
    }
   ],
   "source": [
    "for spt in range(10, 40):\n",
    "    for f in ['2MASS J', '2MASS H', 'SDSS_Z']:\n",
    "        print(spt, f, get_subdwarf_abs_mag(spt, f)[0])"
   ]
  },
  {
   "cell_type": "code",
   "execution_count": 67,
   "metadata": {},
   "outputs": [],
   "source": [
    "def get_abs_mags(row):\n",
    "    res={}\n",
    "    for p in dwarf_pairs.keys():\n",
    "        cl=p+'and'+dwarf_pairs[p]['ref']\n",
    "        v, ve=get_abs_mag(row.spt, dwarf_pairs[p]['ref'], method= dwarf_pairs[p]['method'])\n",
    "        absm= row[cl][0]+v\n",
    "        res.update({p: [absm,  (row[cl][1]**2+ve**2)**0.5]})\n",
    "    return pd.Series(res)\n",
    "\n",
    "def get_abs_mags_sd(row):\n",
    "    res={}\n",
    "    for p in sd_pairs.keys():\n",
    "        cl=p+'and'+sd_pairs[p]['ref']\n",
    "        v, ve=get_subdwarf_abs_mag(row.spt, sd_pairs[p]['ref'])\n",
    "        absm= row[cl][0]+v\n",
    "        res.update({p: [absm,  (row[cl][1]**2+ve**2)**0.5]})\n",
    "    return pd.Series(res)\n",
    "#def get_abs_mags_lsst_fromcolor(row):\n",
    "#    res={}\n",
    "#    for p in fl_pairs:\n",
    "\n",
    "#        cl=p[0]+'and'+p[1]\n",
    "#        v, ve=absolute_sdss(row.spt)[p[1]]\n",
    "#        absm= row[cl][0]+v\n",
    "#        res.update({p[0]: [absm,  (row[cl][1]**2+ve**2)**0.5]})\n",
    "  #  return pd.Series(res)\n",
    "\n",
    "#def get_abs_mags_lsst_fromcolor_sds(row):\n",
    "#    res={}\n",
    "#    for p in fl_pairs:\n",
    "\n",
    " #       cl=p[0]+'and'+p[1]\n",
    " #       v, ve=sd_absolute_mag(row.spt)[p[1]]\n",
    " #       absm= row[cl][0]+v\n",
    " #       res.update({p[0]: [absm,  (row[cl][1]**2+ve**2)**0.5]})\n",
    " #   return pd.Series(res)\n",
    "        \n",
    "    "
   ]
  },
  {
   "cell_type": "code",
   "execution_count": 68,
   "metadata": {},
   "outputs": [
    {
     "data": {
      "text/plain": [
       "(11.9494, 0.52)"
      ]
     },
     "execution_count": 68,
     "metadata": {},
     "output_type": "execute_result"
    }
   ],
   "source": [
    "get_subdwarf_abs_mag(20, '2MASS_J')"
   ]
  },
  {
   "cell_type": "code",
   "execution_count": 69,
   "metadata": {},
   "outputs": [],
   "source": [
    "#df"
   ]
  },
  {
   "cell_type": "code",
   "execution_count": 70,
   "metadata": {},
   "outputs": [
    {
     "name": "stderr",
     "output_type": "stream",
     "text": [
      "\n",
      "  0%|                                                   | 0/303 [00:00<?, ?it/s]\u001b[A\n",
      "  1%|▎                                          | 2/303 [00:00<00:36,  8.20it/s]\u001b[A\n",
      "  1%|▍                                          | 3/303 [00:00<00:42,  7.06it/s]\u001b[A\n",
      "  1%|▌                                          | 4/303 [00:00<00:50,  5.89it/s]\u001b[A\n",
      "  2%|▋                                          | 5/303 [00:00<00:48,  6.18it/s]\u001b[A\n",
      "  2%|▊                                          | 6/303 [00:00<00:53,  5.60it/s]\u001b[A\n",
      "  2%|▉                                          | 7/303 [00:01<00:56,  5.23it/s]\u001b[A\n",
      "  3%|█▏                                         | 8/303 [00:01<00:58,  5.03it/s]\u001b[A\n",
      "  3%|█▎                                         | 9/303 [00:01<00:59,  4.97it/s]\u001b[A\n",
      "  3%|█▍                                        | 10/303 [00:01<00:58,  4.99it/s]\u001b[A\n",
      "  4%|█▌                                        | 11/303 [00:02<00:59,  4.88it/s]\u001b[A\n",
      "  4%|█▋                                        | 12/303 [00:02<01:00,  4.84it/s]\u001b[A\n",
      "  4%|█▊                                        | 13/303 [00:02<00:55,  5.25it/s]\u001b[A\n",
      "  5%|█▉                                        | 14/303 [00:02<00:57,  5.07it/s]\u001b[A\n",
      "  5%|██                                        | 15/303 [00:02<00:53,  5.39it/s]\u001b[A\n",
      "  5%|██▏                                       | 16/303 [00:02<00:50,  5.66it/s]\u001b[A\n",
      "  6%|██▎                                       | 17/303 [00:03<00:53,  5.37it/s]\u001b[A\n",
      "  6%|██▍                                       | 18/303 [00:03<00:55,  5.12it/s]\u001b[A\n",
      "  6%|██▋                                       | 19/303 [00:03<00:56,  5.06it/s]\u001b[A\n",
      "  7%|██▊                                       | 20/303 [00:03<00:56,  5.01it/s]\u001b[A\n",
      "  7%|██▉                                       | 21/303 [00:03<00:57,  4.90it/s]\u001b[A\n",
      "  7%|███                                       | 22/303 [00:04<00:58,  4.82it/s]\u001b[A\n",
      "  8%|███▏                                      | 23/303 [00:04<00:53,  5.21it/s]\u001b[A\n",
      "  8%|███▎                                      | 24/303 [00:04<00:50,  5.47it/s]\u001b[A\n",
      "  8%|███▍                                      | 25/303 [00:04<00:48,  5.69it/s]\u001b[A\n",
      "  9%|███▌                                      | 26/303 [00:04<00:51,  5.34it/s]\u001b[A\n",
      "  9%|███▋                                      | 27/303 [00:05<00:53,  5.13it/s]\u001b[A\n",
      "  9%|███▉                                      | 28/303 [00:05<00:55,  4.99it/s]\u001b[A\n",
      " 10%|████                                      | 29/303 [00:05<00:55,  4.90it/s]\u001b[A\n",
      " 10%|████▏                                     | 30/303 [00:05<00:56,  4.84it/s]\u001b[A\n",
      " 10%|████▎                                     | 31/303 [00:05<00:56,  4.78it/s]\u001b[A\n",
      " 11%|████▍                                     | 32/303 [00:06<00:57,  4.74it/s]\u001b[A\n",
      " 11%|████▌                                     | 33/303 [00:06<00:57,  4.74it/s]\u001b[A\n",
      " 11%|████▋                                     | 34/303 [00:06<00:57,  4.71it/s]\u001b[A\n",
      " 12%|████▊                                     | 35/303 [00:06<00:56,  4.71it/s]\u001b[A\n",
      " 12%|████▉                                     | 36/303 [00:07<00:56,  4.71it/s]\u001b[A\n",
      " 12%|█████▏                                    | 37/303 [00:07<00:56,  4.69it/s]\u001b[A\n",
      " 13%|█████▎                                    | 38/303 [00:07<00:55,  4.76it/s]\u001b[A\n",
      " 13%|█████▍                                    | 39/303 [00:07<00:56,  4.70it/s]\u001b[A\n",
      " 13%|█████▌                                    | 40/303 [00:07<00:56,  4.68it/s]\u001b[A\n",
      " 14%|█████▋                                    | 41/303 [00:08<00:56,  4.68it/s]\u001b[A\n",
      " 14%|█████▊                                    | 42/303 [00:08<00:55,  4.67it/s]\u001b[A\n",
      " 14%|█████▉                                    | 43/303 [00:08<00:55,  4.71it/s]\u001b[A\n",
      " 15%|██████                                    | 44/303 [00:08<00:55,  4.69it/s]\u001b[A\n",
      " 15%|██████▏                                   | 45/303 [00:08<00:55,  4.67it/s]\u001b[A\n",
      " 15%|██████▍                                   | 46/303 [00:09<00:54,  4.75it/s]\u001b[A\n",
      " 16%|██████▌                                   | 47/303 [00:09<00:54,  4.71it/s]\u001b[A\n",
      " 16%|██████▋                                   | 48/303 [00:09<00:54,  4.72it/s]\u001b[A\n",
      " 16%|██████▊                                   | 49/303 [00:09<00:53,  4.73it/s]\u001b[A\n",
      " 17%|██████▉                                   | 50/303 [00:09<00:53,  4.73it/s]\u001b[A\n",
      " 17%|███████                                   | 51/303 [00:10<00:53,  4.72it/s]\u001b[A\n",
      " 17%|███████▏                                  | 52/303 [00:10<00:53,  4.70it/s]\u001b[A\n",
      " 17%|███████▎                                  | 53/303 [00:10<00:53,  4.68it/s]\u001b[A\n",
      " 18%|███████▍                                  | 54/303 [00:10<00:53,  4.65it/s]\u001b[A\n",
      " 18%|███████▌                                  | 55/303 [00:11<00:53,  4.62it/s]\u001b[A\n",
      " 18%|███████▊                                  | 56/303 [00:11<00:53,  4.61it/s]\u001b[A\n",
      " 19%|███████▉                                  | 57/303 [00:11<00:53,  4.57it/s]\u001b[A\n",
      " 19%|████████                                  | 58/303 [00:11<00:52,  4.62it/s]\u001b[A\n",
      " 19%|████████▏                                 | 59/303 [00:11<00:53,  4.52it/s]\u001b[A\n",
      " 20%|████████▎                                 | 60/303 [00:12<00:53,  4.57it/s]\u001b[A\n",
      " 20%|████████▍                                 | 61/303 [00:12<00:51,  4.67it/s]\u001b[A\n",
      " 20%|████████▌                                 | 62/303 [00:12<00:51,  4.72it/s]\u001b[A\n",
      " 21%|████████▋                                 | 63/303 [00:12<00:50,  4.76it/s]\u001b[A\n",
      " 21%|████████▊                                 | 64/303 [00:12<00:49,  4.84it/s]\u001b[A\n",
      " 21%|█████████                                 | 65/303 [00:13<00:48,  4.90it/s]\u001b[A\n",
      " 22%|█████████▏                                | 66/303 [00:13<00:48,  4.89it/s]\u001b[A\n",
      " 22%|█████████▎                                | 67/303 [00:13<00:47,  4.93it/s]\u001b[A\n",
      " 22%|█████████▍                                | 68/303 [00:13<00:47,  4.95it/s]\u001b[A\n",
      " 23%|█████████▌                                | 69/303 [00:13<00:47,  4.96it/s]\u001b[A\n",
      " 23%|█████████▋                                | 70/303 [00:14<00:46,  4.96it/s]\u001b[A\n",
      " 23%|█████████▊                                | 71/303 [00:14<00:46,  4.98it/s]\u001b[A\n",
      " 24%|█████████▉                                | 72/303 [00:14<00:46,  4.96it/s]\u001b[A\n",
      " 24%|██████████                                | 73/303 [00:14<00:46,  4.99it/s]\u001b[A\n",
      " 24%|██████████▎                               | 74/303 [00:15<00:47,  4.87it/s]\u001b[A\n",
      " 25%|██████████▍                               | 75/303 [00:15<00:48,  4.74it/s]\u001b[A\n",
      " 25%|██████████▌                               | 76/303 [00:15<00:48,  4.68it/s]\u001b[A\n",
      " 25%|██████████▋                               | 77/303 [00:15<00:48,  4.64it/s]\u001b[A\n",
      " 26%|██████████▊                               | 78/303 [00:15<00:48,  4.63it/s]\u001b[A\n",
      " 26%|██████████▉                               | 79/303 [00:16<00:48,  4.66it/s]\u001b[A\n",
      " 26%|███████████                               | 80/303 [00:16<00:47,  4.65it/s]\u001b[A\n",
      " 27%|███████████▏                              | 81/303 [00:16<00:47,  4.67it/s]\u001b[A\n",
      " 27%|███████████▎                              | 82/303 [00:16<00:47,  4.69it/s]\u001b[A\n",
      " 27%|███████████▌                              | 83/303 [00:16<00:47,  4.67it/s]\u001b[A\n",
      " 28%|███████████▋                              | 84/303 [00:17<00:52,  4.13it/s]\u001b[A\n",
      " 28%|███████████▊                              | 85/303 [00:17<00:51,  4.24it/s]\u001b[A\n",
      " 28%|███████████▉                              | 86/303 [00:17<00:49,  4.35it/s]\u001b[A\n",
      " 29%|████████████                              | 87/303 [00:17<00:49,  4.36it/s]\u001b[A\n",
      " 29%|████████████▏                             | 88/303 [00:18<00:48,  4.42it/s]\u001b[A\n",
      " 29%|████████████▎                             | 89/303 [00:18<00:48,  4.44it/s]\u001b[A\n",
      " 30%|████████████▍                             | 90/303 [00:18<00:47,  4.45it/s]\u001b[A\n",
      " 30%|████████████▌                             | 91/303 [00:18<00:47,  4.49it/s]\u001b[A\n",
      " 30%|████████████▊                             | 92/303 [00:19<00:46,  4.51it/s]\u001b[A\n",
      " 31%|████████████▉                             | 93/303 [00:19<00:47,  4.40it/s]\u001b[A\n",
      " 31%|█████████████                             | 94/303 [00:19<00:47,  4.44it/s]\u001b[A\n",
      " 31%|█████████████▏                            | 95/303 [00:19<00:46,  4.50it/s]\u001b[A\n",
      " 32%|█████████████▎                            | 96/303 [00:19<00:45,  4.55it/s]\u001b[A\n",
      " 32%|█████████████▍                            | 97/303 [00:20<00:45,  4.54it/s]\u001b[A\n"
     ]
    },
    {
     "name": "stderr",
     "output_type": "stream",
     "text": [
      " 32%|█████████████▌                            | 98/303 [00:20<00:44,  4.56it/s]\u001b[A\n",
      " 33%|█████████████▋                            | 99/303 [00:20<00:44,  4.58it/s]\u001b[A\n",
      " 33%|█████████████▌                           | 100/303 [00:20<00:44,  4.55it/s]\u001b[A\n",
      " 33%|█████████████▋                           | 101/303 [00:21<00:44,  4.54it/s]\u001b[A\n",
      " 34%|█████████████▊                           | 102/303 [00:21<00:45,  4.46it/s]\u001b[A\n",
      " 34%|█████████████▉                           | 103/303 [00:21<00:44,  4.53it/s]\u001b[A\n",
      " 34%|██████████████                           | 104/303 [00:21<00:43,  4.59it/s]\u001b[A\n",
      " 35%|██████████████▏                          | 105/303 [00:21<00:42,  4.66it/s]\u001b[A\n",
      " 35%|██████████████▎                          | 106/303 [00:22<00:42,  4.67it/s]\u001b[A\n",
      " 35%|██████████████▍                          | 107/303 [00:22<00:42,  4.65it/s]\u001b[A\n",
      " 36%|██████████████▌                          | 108/303 [00:22<00:41,  4.69it/s]\u001b[A\n",
      " 36%|██████████████▋                          | 109/303 [00:22<00:40,  4.75it/s]\u001b[A\n",
      " 36%|██████████████▉                          | 110/303 [00:22<00:40,  4.79it/s]\u001b[A\n",
      " 37%|███████████████                          | 111/303 [00:23<00:39,  4.81it/s]\u001b[A\n",
      " 37%|███████████████▏                         | 112/303 [00:23<00:39,  4.82it/s]\u001b[A\n",
      " 37%|███████████████▎                         | 113/303 [00:23<00:40,  4.75it/s]\u001b[A\n",
      " 38%|███████████████▍                         | 114/303 [00:23<00:40,  4.69it/s]\u001b[A\n",
      " 38%|███████████████▌                         | 115/303 [00:23<00:39,  4.73it/s]\u001b[A\n",
      " 38%|███████████████▋                         | 116/303 [00:24<00:39,  4.75it/s]\u001b[A\n",
      " 39%|███████████████▊                         | 117/303 [00:24<00:38,  4.78it/s]\u001b[A\n",
      " 39%|███████████████▉                         | 118/303 [00:24<00:38,  4.85it/s]\u001b[A\n",
      " 39%|████████████████                         | 119/303 [00:24<00:38,  4.78it/s]\u001b[A\n",
      " 40%|████████████████▏                        | 120/303 [00:25<00:37,  4.84it/s]\u001b[A\n",
      " 40%|████████████████▎                        | 121/303 [00:25<00:37,  4.89it/s]\u001b[A\n",
      " 40%|████████████████▌                        | 122/303 [00:25<00:37,  4.84it/s]\u001b[A\n",
      " 41%|████████████████▋                        | 123/303 [00:25<00:36,  4.89it/s]\u001b[A\n",
      " 41%|████████████████▊                        | 124/303 [00:25<00:36,  4.92it/s]\u001b[A\n",
      " 41%|████████████████▉                        | 125/303 [00:26<00:35,  4.98it/s]\u001b[A\n",
      " 42%|█████████████████                        | 126/303 [00:26<00:35,  5.00it/s]\u001b[A\n",
      " 42%|█████████████████▏                       | 127/303 [00:26<00:35,  5.00it/s]\u001b[A\n",
      " 42%|█████████████████▎                       | 128/303 [00:26<00:34,  5.01it/s]\u001b[A\n",
      " 43%|█████████████████▍                       | 129/303 [00:26<00:34,  5.02it/s]\u001b[A\n",
      " 43%|█████████████████▌                       | 130/303 [00:27<00:34,  5.06it/s]\u001b[A\n",
      " 43%|█████████████████▋                       | 131/303 [00:27<00:34,  5.05it/s]\u001b[A\n",
      " 44%|█████████████████▊                       | 132/303 [00:27<00:33,  5.04it/s]\u001b[A\n",
      " 44%|█████████████████▉                       | 133/303 [00:27<00:33,  5.04it/s]\u001b[A\n",
      " 44%|██████████████████▏                      | 134/303 [00:27<00:33,  5.04it/s]\u001b[A\n",
      " 45%|██████████████████▎                      | 135/303 [00:28<00:33,  5.02it/s]\u001b[A\n",
      " 45%|██████████████████▍                      | 136/303 [00:28<00:33,  5.02it/s]\u001b[A\n",
      " 45%|██████████████████▌                      | 137/303 [00:28<00:32,  5.05it/s]\u001b[A\n",
      " 46%|██████████████████▋                      | 138/303 [00:28<00:32,  5.04it/s]\u001b[A\n",
      " 46%|██████████████████▊                      | 139/303 [00:28<00:32,  5.04it/s]\u001b[A\n",
      " 46%|██████████████████▉                      | 140/303 [00:29<00:32,  5.04it/s]\u001b[A\n",
      " 47%|███████████████████                      | 141/303 [00:29<00:32,  5.04it/s]\u001b[A\n",
      " 47%|███████████████████▏                     | 142/303 [00:29<00:32,  5.02it/s]\u001b[A\n",
      " 47%|███████████████████▎                     | 143/303 [00:29<00:31,  5.01it/s]\u001b[A\n",
      " 48%|███████████████████▍                     | 144/303 [00:29<00:31,  4.98it/s]\u001b[A\n",
      " 48%|███████████████████▌                     | 145/303 [00:30<00:31,  4.97it/s]\u001b[A\n",
      " 48%|███████████████████▊                     | 146/303 [00:30<00:31,  4.98it/s]\u001b[A\n",
      " 49%|███████████████████▉                     | 147/303 [00:30<00:29,  5.22it/s]\u001b[A\n",
      " 49%|████████████████████                     | 148/303 [00:30<00:30,  5.14it/s]\u001b[A\n",
      " 49%|████████████████████▏                    | 149/303 [00:30<00:30,  5.11it/s]\u001b[A\n",
      " 50%|████████████████████▎                    | 150/303 [00:30<00:30,  5.04it/s]\u001b[A\n",
      " 50%|████████████████████▍                    | 151/303 [00:31<00:30,  5.01it/s]\u001b[A\n",
      " 50%|████████████████████▌                    | 152/303 [00:31<00:30,  5.02it/s]\u001b[A\n",
      " 50%|████████████████████▋                    | 153/303 [00:31<00:30,  4.98it/s]\u001b[A\n",
      " 51%|████████████████████▊                    | 154/303 [00:31<00:29,  5.09it/s]\u001b[A\n",
      " 51%|████████████████████▉                    | 155/303 [00:31<00:30,  4.92it/s]\u001b[A\n",
      " 51%|█████████████████████                    | 156/303 [00:32<00:30,  4.82it/s]\u001b[A\n",
      " 52%|█████████████████████▏                   | 157/303 [00:32<00:30,  4.74it/s]\u001b[A\n",
      " 52%|█████████████████████▍                   | 158/303 [00:32<00:31,  4.67it/s]\u001b[A\n",
      " 52%|█████████████████████▌                   | 159/303 [00:32<00:30,  4.65it/s]\u001b[A\n",
      " 53%|█████████████████████▋                   | 160/303 [00:33<00:29,  4.83it/s]\u001b[A\n",
      " 53%|█████████████████████▊                   | 161/303 [00:33<00:29,  4.77it/s]\u001b[A\n",
      " 53%|█████████████████████▉                   | 162/303 [00:33<00:29,  4.85it/s]\u001b[A\n",
      " 54%|██████████████████████                   | 163/303 [00:33<00:27,  5.05it/s]\u001b[A\n",
      " 54%|██████████████████████▏                  | 164/303 [00:33<00:27,  4.99it/s]\u001b[A\n",
      " 54%|██████████████████████▎                  | 165/303 [00:34<00:27,  5.02it/s]\u001b[A\n",
      " 55%|██████████████████████▍                  | 166/303 [00:34<00:27,  5.02it/s]\u001b[A\n",
      " 55%|██████████████████████▌                  | 167/303 [00:34<00:26,  5.21it/s]\u001b[A\n",
      " 55%|██████████████████████▋                  | 168/303 [00:34<00:26,  5.14it/s]\u001b[A\n",
      " 56%|██████████████████████▊                  | 169/303 [00:34<00:26,  5.11it/s]\u001b[A\n",
      " 56%|███████████████████████                  | 170/303 [00:34<00:25,  5.29it/s]\u001b[A\n",
      " 56%|███████████████████████▏                 | 171/303 [00:35<00:24,  5.44it/s]\u001b[A\n",
      " 57%|███████████████████████▎                 | 172/303 [00:35<00:24,  5.25it/s]\u001b[A\n",
      " 57%|███████████████████████▍                 | 173/303 [00:35<00:26,  4.97it/s]\u001b[A\n",
      " 57%|███████████████████████▌                 | 174/303 [00:35<00:26,  4.84it/s]\u001b[A\n",
      " 58%|███████████████████████▋                 | 175/303 [00:36<00:26,  4.76it/s]\u001b[A\n",
      " 58%|███████████████████████▊                 | 176/303 [00:36<00:27,  4.69it/s]\u001b[A\n",
      " 58%|███████████████████████▉                 | 177/303 [00:36<00:26,  4.75it/s]\u001b[A\n",
      " 59%|████████████████████████                 | 178/303 [00:36<00:26,  4.76it/s]\u001b[A\n",
      " 59%|████████████████████████▏                | 179/303 [00:36<00:26,  4.73it/s]\u001b[A\n",
      " 59%|████████████████████████▎                | 180/303 [00:37<00:25,  4.78it/s]\u001b[A\n",
      " 60%|████████████████████████▍                | 181/303 [00:37<00:25,  4.76it/s]\u001b[A\n",
      " 60%|████████████████████████▋                | 182/303 [00:37<00:25,  4.78it/s]\u001b[A\n",
      " 60%|████████████████████████▊                | 183/303 [00:37<00:24,  4.82it/s]\u001b[A\n",
      " 61%|████████████████████████▉                | 184/303 [00:37<00:24,  4.86it/s]\u001b[A\n",
      " 61%|█████████████████████████                | 185/303 [00:38<00:24,  4.82it/s]\u001b[A\n",
      " 61%|█████████████████████████▏               | 186/303 [00:38<00:23,  4.96it/s]\u001b[A\n",
      " 62%|█████████████████████████▎               | 187/303 [00:38<00:23,  4.88it/s]\u001b[A\n",
      " 62%|█████████████████████████▍               | 188/303 [00:38<00:23,  4.82it/s]\u001b[A\n",
      " 62%|█████████████████████████▌               | 189/303 [00:38<00:23,  4.84it/s]\u001b[A\n",
      " 63%|█████████████████████████▋               | 190/303 [00:39<00:23,  4.80it/s]\u001b[A\n",
      " 63%|█████████████████████████▊               | 191/303 [00:39<00:23,  4.76it/s]\u001b[A\n",
      " 63%|█████████████████████████▉               | 192/303 [00:39<00:22,  4.97it/s]\u001b[A\n",
      " 64%|██████████████████████████               | 193/303 [00:39<00:22,  4.96it/s]\u001b[A\n",
      " 64%|██████████████████████████▎              | 194/303 [00:40<00:24,  4.52it/s]\u001b[A\n"
     ]
    },
    {
     "name": "stderr",
     "output_type": "stream",
     "text": [
      " 64%|██████████████████████████▍              | 195/303 [00:40<00:23,  4.56it/s]\u001b[A\n",
      " 65%|██████████████████████████▌              | 196/303 [00:40<00:22,  4.67it/s]\u001b[A\n",
      " 65%|██████████████████████████▋              | 197/303 [00:40<00:22,  4.76it/s]\u001b[A\n",
      " 65%|██████████████████████████▊              | 198/303 [00:40<00:21,  4.81it/s]\u001b[A\n",
      " 66%|██████████████████████████▉              | 199/303 [00:41<00:21,  4.84it/s]\u001b[A\n",
      " 66%|███████████████████████████              | 200/303 [00:41<00:20,  4.93it/s]\u001b[A\n",
      " 66%|███████████████████████████▏             | 201/303 [00:41<00:20,  4.88it/s]\u001b[A\n",
      " 67%|███████████████████████████▎             | 202/303 [00:41<00:19,  5.07it/s]\u001b[A\n",
      " 67%|███████████████████████████▍             | 203/303 [00:41<00:20,  4.97it/s]\u001b[A\n",
      " 67%|███████████████████████████▌             | 204/303 [00:42<00:20,  4.85it/s]\u001b[A\n",
      " 68%|███████████████████████████▋             | 205/303 [00:42<00:20,  4.77it/s]\u001b[A\n",
      " 68%|███████████████████████████▊             | 206/303 [00:42<00:20,  4.81it/s]\u001b[A\n",
      " 68%|████████████████████████████             | 207/303 [00:42<00:19,  4.84it/s]\u001b[A\n",
      " 69%|████████████████████████████▏            | 208/303 [00:42<00:19,  4.77it/s]\u001b[A\n",
      " 69%|████████████████████████████▎            | 209/303 [00:43<00:19,  4.72it/s]\u001b[A\n",
      " 69%|████████████████████████████▍            | 210/303 [00:43<00:19,  4.66it/s]\u001b[A\n",
      " 70%|████████████████████████████▌            | 211/303 [00:43<00:19,  4.81it/s]\u001b[A\n",
      " 70%|████████████████████████████▋            | 212/303 [00:43<00:19,  4.72it/s]\u001b[A\n",
      " 70%|████████████████████████████▊            | 213/303 [00:43<00:18,  4.74it/s]\u001b[A\n",
      " 71%|████████████████████████████▉            | 214/303 [00:44<00:18,  4.77it/s]\u001b[A\n",
      " 71%|█████████████████████████████            | 215/303 [00:44<00:18,  4.80it/s]\u001b[A\n",
      " 71%|█████████████████████████████▏           | 216/303 [00:44<00:18,  4.76it/s]\u001b[A\n",
      " 72%|█████████████████████████████▎           | 217/303 [00:44<00:18,  4.69it/s]\u001b[A\n",
      " 72%|█████████████████████████████▍           | 218/303 [00:45<00:18,  4.66it/s]\u001b[A\n",
      " 72%|█████████████████████████████▋           | 219/303 [00:45<00:18,  4.63it/s]\u001b[A\n",
      " 73%|█████████████████████████████▊           | 220/303 [00:45<00:18,  4.61it/s]\u001b[A\n",
      " 73%|█████████████████████████████▉           | 221/303 [00:45<00:17,  4.56it/s]\u001b[A\n",
      " 73%|██████████████████████████████           | 222/303 [00:45<00:17,  4.62it/s]\u001b[A\n",
      " 74%|██████████████████████████████▏          | 223/303 [00:46<00:16,  4.78it/s]\u001b[A\n",
      " 74%|██████████████████████████████▎          | 224/303 [00:46<00:16,  4.72it/s]\u001b[A\n",
      " 74%|██████████████████████████████▍          | 225/303 [00:46<00:16,  4.64it/s]\u001b[A\n",
      " 75%|██████████████████████████████▌          | 226/303 [00:46<00:16,  4.59it/s]\u001b[A\n",
      " 75%|██████████████████████████████▋          | 227/303 [00:46<00:16,  4.58it/s]\u001b[A\n",
      " 75%|██████████████████████████████▊          | 228/303 [00:47<00:16,  4.60it/s]\u001b[A\n",
      " 76%|██████████████████████████████▉          | 229/303 [00:47<00:16,  4.58it/s]\u001b[A\n",
      " 76%|███████████████████████████████          | 230/303 [00:47<00:15,  4.65it/s]\u001b[A\n",
      " 76%|███████████████████████████████▎         | 231/303 [00:47<00:15,  4.66it/s]\u001b[A\n",
      " 77%|███████████████████████████████▍         | 232/303 [00:48<00:14,  4.84it/s]\u001b[A\n",
      " 77%|███████████████████████████████▌         | 233/303 [00:48<00:14,  4.82it/s]\u001b[A\n",
      " 77%|███████████████████████████████▋         | 234/303 [00:48<00:14,  4.76it/s]\u001b[A\n",
      " 78%|███████████████████████████████▊         | 235/303 [00:48<00:14,  4.76it/s]\u001b[A\n",
      " 78%|███████████████████████████████▉         | 236/303 [00:48<00:14,  4.76it/s]\u001b[A\n",
      " 78%|████████████████████████████████         | 237/303 [00:49<00:13,  4.77it/s]\u001b[A\n",
      " 79%|████████████████████████████████▏        | 238/303 [00:49<00:13,  4.93it/s]\u001b[A\n",
      " 79%|████████████████████████████████▎        | 239/303 [00:49<00:12,  5.13it/s]\u001b[A\n",
      " 79%|████████████████████████████████▍        | 240/303 [00:49<00:12,  5.00it/s]\u001b[A\n",
      " 80%|████████████████████████████████▌        | 241/303 [00:49<00:12,  4.86it/s]\u001b[A\n",
      " 80%|████████████████████████████████▋        | 242/303 [00:50<00:12,  4.78it/s]\u001b[A\n",
      " 80%|████████████████████████████████▉        | 243/303 [00:50<00:12,  4.75it/s]\u001b[A\n",
      " 81%|█████████████████████████████████        | 244/303 [00:50<00:12,  4.83it/s]\u001b[A\n",
      " 81%|█████████████████████████████████▏       | 245/303 [00:50<00:12,  4.73it/s]\u001b[A\n",
      " 81%|█████████████████████████████████▎       | 246/303 [00:50<00:12,  4.65it/s]\u001b[A\n",
      " 82%|█████████████████████████████████▍       | 247/303 [00:51<00:12,  4.59it/s]\u001b[A\n",
      " 82%|█████████████████████████████████▌       | 248/303 [00:51<00:12,  4.58it/s]\u001b[A\n",
      " 82%|█████████████████████████████████▋       | 249/303 [00:51<00:11,  4.59it/s]\u001b[A\n",
      " 83%|█████████████████████████████████▊       | 250/303 [00:51<00:11,  4.60it/s]\u001b[A\n",
      " 83%|█████████████████████████████████▉       | 251/303 [00:52<00:11,  4.62it/s]\u001b[A\n",
      " 83%|██████████████████████████████████       | 252/303 [00:52<00:11,  4.63it/s]\u001b[A\n",
      " 83%|██████████████████████████████████▏      | 253/303 [00:52<00:10,  4.64it/s]\u001b[A\n",
      " 84%|██████████████████████████████████▎      | 254/303 [00:52<00:10,  4.65it/s]\u001b[A\n",
      " 84%|██████████████████████████████████▌      | 255/303 [00:52<00:10,  4.65it/s]\u001b[A\n",
      " 84%|██████████████████████████████████▋      | 256/303 [00:53<00:10,  4.65it/s]\u001b[A\n",
      " 85%|██████████████████████████████████▊      | 257/303 [00:53<00:09,  4.65it/s]\u001b[A\n",
      " 85%|██████████████████████████████████▉      | 258/303 [00:53<00:09,  4.64it/s]\u001b[A\n",
      " 85%|███████████████████████████████████      | 259/303 [00:53<00:09,  4.65it/s]\u001b[A\n",
      " 86%|███████████████████████████████████▏     | 260/303 [00:53<00:09,  4.65it/s]\u001b[A\n",
      " 86%|███████████████████████████████████▎     | 261/303 [00:54<00:09,  4.63it/s]\u001b[A\n",
      " 86%|███████████████████████████████████▍     | 262/303 [00:54<00:08,  4.64it/s]\u001b[A\n",
      " 87%|███████████████████████████████████▌     | 263/303 [00:54<00:08,  4.62it/s]\u001b[A\n",
      " 87%|███████████████████████████████████▋     | 264/303 [00:54<00:07,  5.02it/s]\u001b[A\n",
      " 87%|███████████████████████████████████▊     | 265/303 [00:54<00:07,  5.07it/s]\u001b[A\n",
      " 88%|███████████████████████████████████▉     | 266/303 [00:55<00:07,  4.90it/s]\u001b[A\n",
      " 88%|████████████████████████████████████▏    | 267/303 [00:55<00:06,  5.25it/s]\u001b[A\n",
      " 88%|████████████████████████████████████▎    | 268/303 [00:55<00:07,  4.99it/s]\u001b[A\n",
      " 89%|████████████████████████████████████▍    | 269/303 [00:55<00:06,  4.91it/s]\u001b[A\n",
      " 89%|████████████████████████████████████▌    | 270/303 [00:56<00:06,  4.77it/s]\u001b[A\n",
      " 89%|████████████████████████████████████▋    | 271/303 [00:56<00:06,  4.73it/s]\u001b[A\n",
      " 90%|████████████████████████████████████▊    | 272/303 [00:56<00:06,  4.70it/s]\u001b[A\n",
      " 90%|████████████████████████████████████▉    | 273/303 [00:56<00:06,  4.87it/s]\u001b[A\n",
      " 90%|█████████████████████████████████████    | 274/303 [00:56<00:06,  4.79it/s]\u001b[A\n",
      " 91%|█████████████████████████████████████▏   | 275/303 [00:57<00:05,  4.79it/s]\u001b[A\n",
      " 91%|█████████████████████████████████████▎   | 276/303 [00:57<00:05,  4.74it/s]\u001b[A\n",
      " 91%|█████████████████████████████████████▍   | 277/303 [00:57<00:05,  4.71it/s]\u001b[A\n",
      " 92%|█████████████████████████████████████▌   | 278/303 [00:57<00:05,  4.71it/s]\u001b[A\n",
      " 92%|█████████████████████████████████████▊   | 279/303 [00:57<00:04,  5.12it/s]\u001b[A\n",
      " 92%|█████████████████████████████████████▉   | 280/303 [00:58<00:04,  5.46it/s]\u001b[A\n",
      " 93%|██████████████████████████████████████   | 281/303 [00:58<00:04,  5.43it/s]\u001b[A\n",
      " 93%|██████████████████████████████████████▏  | 282/303 [00:58<00:04,  5.19it/s]\u001b[A\n",
      " 93%|██████████████████████████████████████▎  | 283/303 [00:58<00:03,  5.52it/s]\u001b[A\n",
      " 94%|██████████████████████████████████████▍  | 284/303 [00:58<00:03,  5.24it/s]\u001b[A\n",
      " 94%|██████████████████████████████████████▌  | 285/303 [00:58<00:03,  5.06it/s]\u001b[A\n",
      " 94%|██████████████████████████████████████▋  | 286/303 [00:59<00:03,  4.92it/s]\u001b[A\n",
      " 95%|██████████████████████████████████████▊  | 287/303 [00:59<00:03,  5.30it/s]\u001b[A\n",
      " 95%|██████████████████████████████████████▉  | 288/303 [00:59<00:02,  5.17it/s]\u001b[A\n",
      " 95%|███████████████████████████████████████  | 289/303 [00:59<00:02,  5.00it/s]\u001b[A\n",
      " 96%|███████████████████████████████████████▏ | 290/303 [00:59<00:02,  4.91it/s]\u001b[A\n",
      " 96%|███████████████████████████████████████▍ | 291/303 [01:00<00:02,  5.31it/s]\u001b[A\n"
     ]
    },
    {
     "name": "stderr",
     "output_type": "stream",
     "text": [
      " 96%|███████████████████████████████████████▌ | 292/303 [01:00<00:01,  5.58it/s]\u001b[A\n",
      " 97%|███████████████████████████████████████▋ | 293/303 [01:00<00:01,  5.29it/s]\u001b[A\n",
      " 97%|███████████████████████████████████████▊ | 294/303 [01:00<00:01,  5.63it/s]\u001b[A\n",
      " 97%|███████████████████████████████████████▉ | 295/303 [01:00<00:01,  5.34it/s]\u001b[A\n",
      " 98%|████████████████████████████████████████ | 296/303 [01:01<00:01,  5.17it/s]\u001b[A\n",
      " 98%|████████████████████████████████████████▏| 297/303 [01:01<00:01,  5.07it/s]\u001b[A\n",
      " 98%|████████████████████████████████████████▎| 298/303 [01:01<00:01,  4.98it/s]\u001b[A\n",
      " 99%|████████████████████████████████████████▍| 299/303 [01:01<00:00,  4.95it/s]\u001b[A\n",
      " 99%|████████████████████████████████████████▌| 300/303 [01:01<00:00,  4.88it/s]\u001b[A\n",
      " 99%|████████████████████████████████████████▋| 301/303 [01:02<00:00,  5.29it/s]\u001b[A\n",
      "100%|████████████████████████████████████████▊| 302/303 [01:02<00:00,  5.13it/s]\u001b[A\n",
      "100%|█████████████████████████████████████████| 303/303 [01:02<00:00,  4.84it/s]\u001b[A\n"
     ]
    }
   ],
   "source": [
    "tqdm.pandas()\n",
    "abs_df=df.progress_apply(get_abs_mags, axis=1)"
   ]
  },
  {
   "cell_type": "code",
   "execution_count": 71,
   "metadata": {},
   "outputs": [
    {
     "data": {
      "text/plain": [
       "{'VISTA_Z': {'ref': 'SDSS_Z', 'method': 'vega'},\n",
       " 'VISTA_Y': {'ref': 'SDSS_Z', 'method': 'vega'},\n",
       " 'VISTA_J': {'ref': '2MASS J', 'method': 'vega'},\n",
       " 'VISTA_H': {'ref': '2MASS H', 'method': 'vega'},\n",
       " 'VISTA_KS': {'ref': '2MASS K', 'method': 'vega'},\n",
       " 'UKIDSS_Z': {'ref': 'SDSS_Z', 'method': 'vega'},\n",
       " 'UKIDSS_J': {'ref': '2MASS J', 'method': 'vega'},\n",
       " 'UKIDSS_H': {'ref': '2MASS H', 'method': 'vega'},\n",
       " 'UKIDSS_K': {'ref': '2MASS K', 'method': 'vega'}}"
      ]
     },
     "execution_count": 71,
     "metadata": {},
     "output_type": "execute_result"
    }
   ],
   "source": [
    "sd_pairs"
   ]
  },
  {
   "cell_type": "code",
   "execution_count": 72,
   "metadata": {},
   "outputs": [
    {
     "name": "stderr",
     "output_type": "stream",
     "text": [
      "\n",
      "  0%|                                                   | 0/133 [00:00<?, ?it/s]\u001b[A\n",
      " 29%|███████████▋                             | 38/133 [00:00<00:00, 374.70it/s]\u001b[A\n",
      " 57%|███████████████████████▍                 | 76/133 [00:00<00:00, 373.91it/s]\u001b[A\n",
      "100%|████████████████████████████████████████| 133/133 [00:00<00:00, 304.83it/s]\u001b[A\n"
     ]
    }
   ],
   "source": [
    "sd_abs_df=sd_df.progress_apply(get_abs_mags_sd, axis=1)"
   ]
  },
  {
   "cell_type": "code",
   "execution_count": 73,
   "metadata": {},
   "outputs": [],
   "source": [
    "#sd_abs_df"
   ]
  },
  {
   "cell_type": "code",
   "execution_count": 74,
   "metadata": {},
   "outputs": [],
   "source": [
    "FITS={'absmags':{'dwarfs':{}, 'subdwarfs':{}},\\\n",
    "      'colors':{'dwarfs':{}, 'subdwarfs':{}},\n",
    "      'references':{}}"
   ]
  },
  {
   "cell_type": "code",
   "execution_count": 75,
   "metadata": {},
   "outputs": [],
   "source": [
    "#"
   ]
  },
  {
   "cell_type": "code",
   "execution_count": null,
   "metadata": {},
   "outputs": [],
   "source": []
  },
  {
   "cell_type": "code",
   "execution_count": 76,
   "metadata": {},
   "outputs": [],
   "source": [
    "#for k in BEST['rms'].keys():\n",
    "#    s={k: {'x': 'spt','y': k, 'fit':BEST[k][-1], 'scatter': BEST['rms'][k], \\\n",
    "#           'method': 'polynomial','range':  BEST['range'][k], 'x0':0}}\n",
    "#   FITS['absmags']['dwarfs'].update(s)\n"
   ]
  },
  {
   "cell_type": "code",
   "execution_count": 77,
   "metadata": {},
   "outputs": [],
   "source": [
    "#len(darf_pairs), len(abs_df.columns)"
   ]
  },
  {
   "cell_type": "code",
   "execution_count": 78,
   "metadata": {},
   "outputs": [],
   "source": [
    "#FITS"
   ]
  },
  {
   "cell_type": "code",
   "execution_count": 79,
   "metadata": {},
   "outputs": [],
   "source": [
    "FITS['references']={'kiman2019': rocio_relations }"
   ]
  },
  {
   "cell_type": "code",
   "execution_count": 80,
   "metadata": {},
   "outputs": [
    {
     "data": {
      "image/png": "[encoded data removed]",
      "text/plain": [
       "<Figure size 432x288 with 1 Axes>"
      ]
     },
     "metadata": {
      "needs_background": "light"
     },
     "output_type": "display_data"
    },
    {
     "data": {
      "image/png": "[encoded data removed]",
      "text/plain": [
       "<Figure size 432x288 with 1 Axes>"
      ]
     },
     "metadata": {
      "needs_background": "light"
     },
     "output_type": "display_data"
    },
    {
     "data": {
      "image/png": "[encoded data removed]",
      "text/plain": [
       "<Figure size 432x288 with 1 Axes>"
      ]
     },
     "metadata": {
      "needs_background": "light"
     },
     "output_type": "display_data"
    },
    {
     "data": {
      "image/png": "[encoded data removed]",
      "text/plain": [
       "<Figure size 432x288 with 1 Axes>"
      ]
     },
     "metadata": {
      "needs_background": "light"
     },
     "output_type": "display_data"
    },
    {
     "data": {
      "image/png": "[encoded data removed]",
      "text/plain": [
       "<Figure size 432x288 with 1 Axes>"
      ]
     },
     "metadata": {
      "needs_background": "light"
     },
     "output_type": "display_data"
    },
    {
     "data": {
      "image/png": "[encoded data removed]",
      "text/plain": [
       "<Figure size 432x288 with 1 Axes>"
      ]
     },
     "metadata": {
      "needs_background": "light"
     },
     "output_type": "display_data"
    },
    {
     "data": {
      "image/png": "[encoded data removed]",
      "text/plain": [
       "<Figure size 432x288 with 1 Axes>"
      ]
     },
     "metadata": {
      "needs_background": "light"
     },
     "output_type": "display_data"
    },
    {
     "data": {
      "image/png": "[encoded data removed]",
      "text/plain": [
       "<Figure size 432x288 with 1 Axes>"
      ]
     },
     "metadata": {
      "needs_background": "light"
     },
     "output_type": "display_data"
    },
    {
     "data": {
      "image/png": "[encoded data removed]",
      "text/plain": [
       "<Figure size 432x288 with 1 Axes>"
      ]
     },
     "metadata": {
      "needs_background": "light"
     },
     "output_type": "display_data"
    }
   ],
   "source": [
    "for c in abs_df.columns:\n",
    "    try:\n",
    "        if c=='spt':\n",
    "            pass\n",
    "        else:\n",
    "            fig, a=plt.subplots()\n",
    "            vals=np.vstack(abs_df[c].values)\n",
    "            #vals=np.vstack(sd_abs_df[c].values)\n",
    "            spts=df.spt.values\n",
    "            #spts=sd_df.spt.values\n",
    "\n",
    "            #masks\n",
    "            mask= np.logical_or.reduce([np.isnan(spts), \n",
    "                                        np.isnan(vals[:,0]),\n",
    "                                        np.isnan(vals[:,1])])\n",
    "\n",
    "            m, fit= fit_with_nsigma_clipping(spts[~mask], \n",
    "                                          vals[:,0][~mask], \n",
    "                                          vals[:,1][~mask], 6, sigma=3.)\n",
    "            FITS['absmags']['dwarfs'].update({c: {'x': 'spt',\n",
    "                                                  'y': c,\n",
    "                                                  'fit':fit, \\\n",
    "                                                  'scatter': np.nanmedian(vals[:,1]), \\\n",
    "                                                  'method': 'polynomial',\\\n",
    "                                                  'range':  (np.nanmin(spts[~mask]),\\\n",
    "                                                             np.nanmax(spts[~mask])), \\\n",
    "                                                 'x0':0}})\n",
    "\n",
    "\n",
    "            spgrid=np.arange(np.nanmin(spts[~mask]), np.nanmax(spts[~mask]))\n",
    "            a.plot(spgrid, fit(spgrid), c='k', label='dwarf')\n",
    "\n",
    "\n",
    "\n",
    "            a.errorbar(spts, vals[:,0], fmt='+', \n",
    "                       yerr=vals[:,1], color='r')\n",
    "\n",
    "\n",
    "\n",
    "            a.set_ylabel(c)\n",
    "            a.set_xlabel('Spectral Type')\n",
    "            a.legend()\n",
    "            plt.tight_layout()\n",
    "            a.set_xlim([np.nanmin(spgrid), np.nanmax(spgrid)])\n",
    "            #a.set_ylim([fit(np.nanmin(spgrid)), fit(np.nanmax(spgrid))])\n",
    "            plt.savefig('../figures/abs_mag_relations{}.pdf'.format(c))\n",
    "    except:\n",
    "        print ('all empty {}'.format(c))\n",
    "        pass \n"
   ]
  },
  {
   "cell_type": "code",
   "execution_count": 81,
   "metadata": {},
   "outputs": [
    {
     "data": {
      "image/png": "[encoded data removed]",
      "text/plain": [
       "<Figure size 432x288 with 1 Axes>"
      ]
     },
     "metadata": {
      "needs_background": "light"
     },
     "output_type": "display_data"
    },
    {
     "data": {
      "image/png": "[encoded data removed]",
      "text/plain": [
       "<Figure size 432x288 with 1 Axes>"
      ]
     },
     "metadata": {
      "needs_background": "light"
     },
     "output_type": "display_data"
    },
    {
     "data": {
      "image/png": "[encoded data removed]",
      "text/plain": [
       "<Figure size 432x288 with 1 Axes>"
      ]
     },
     "metadata": {
      "needs_background": "light"
     },
     "output_type": "display_data"
    },
    {
     "data": {
      "image/png": "[encoded data removed]",
      "text/plain": [
       "<Figure size 432x288 with 1 Axes>"
      ]
     },
     "metadata": {
      "needs_background": "light"
     },
     "output_type": "display_data"
    },
    {
     "data": {
      "image/png": "[encoded data removed]",
      "text/plain": [
       "<Figure size 432x288 with 1 Axes>"
      ]
     },
     "metadata": {
      "needs_background": "light"
     },
     "output_type": "display_data"
    },
    {
     "data": {
      "image/png": "[encoded data removed]",
      "text/plain": [
       "<Figure size 432x288 with 1 Axes>"
      ]
     },
     "metadata": {
      "needs_background": "light"
     },
     "output_type": "display_data"
    },
    {
     "data": {
      "image/png": "[encoded data removed]",
      "text/plain": [
       "<Figure size 432x288 with 1 Axes>"
      ]
     },
     "metadata": {
      "needs_background": "light"
     },
     "output_type": "display_data"
    },
    {
     "data": {
      "image/png": "[encoded data removed]",
      "text/plain": [
       "<Figure size 432x288 with 1 Axes>"
      ]
     },
     "metadata": {
      "needs_background": "light"
     },
     "output_type": "display_data"
    },
    {
     "data": {
      "image/png": "[encoded data removed]",
      "text/plain": [
       "<Figure size 432x288 with 1 Axes>"
      ]
     },
     "metadata": {
      "needs_background": "light"
     },
     "output_type": "display_data"
    }
   ],
   "source": [
    "for c in sd_abs_df.columns:\n",
    "    try:\n",
    "        if c=='spt':\n",
    "            pass\n",
    "        else:\n",
    "            fig, a=plt.subplots()\n",
    "            vals=np.vstack(sd_abs_df[c].values)\n",
    "            spts=sd_df.spt.values\n",
    "\n",
    "            #masks\n",
    "            mask= np.logical_or.reduce([np.isnan(spts), \n",
    "                                        np.isnan(vals[:,0]),\n",
    "                                        np.isnan(vals[:,1])])\n",
    "\n",
    "            m, fit= fit_with_nsigma_clipping(spts[~mask], \n",
    "                                          vals[:,0][~mask], \n",
    "                                          vals[:,1][~mask], 6, sigma=3.)\n",
    "            FITS['absmags']['subdwarfs'].update({c: {'x': 'spt',\n",
    "                                                  'y': c,\n",
    "                                                  'fit':fit, \\\n",
    "                                                  'scatter': np.nanmedian(vals[:,1]), \\\n",
    "                                                  'method': 'polynomial',\\\n",
    "                                                  'range':  (np.nanmin(spts[~mask]),\\\n",
    "                                                             np.nanmax(spts[~mask])), \\\n",
    "                                                 'x0':0}})\n",
    "\n",
    "\n",
    "            spgrid=np.arange(np.nanmin(spts[~mask]), np.nanmax(spts[~mask]))\n",
    "            a.plot(spgrid, fit(spgrid), c='k', label='dwarf')\n",
    "\n",
    "\n",
    "\n",
    "            a.errorbar(spts, vals[:,0], fmt='+', \n",
    "                       yerr=vals[:,1], color='r')\n",
    "\n",
    "\n",
    "\n",
    "            a.set_ylabel(c)\n",
    "            a.set_xlabel('Spectral Type')\n",
    "            a.legend()\n",
    "            plt.tight_layout()\n",
    "            a.set_xlim([np.nanmin(spgrid), np.nanmax(spgrid)])\n",
    "            #a.set_ylim([fit(np.nanmin(spgrid)), fit(np.nanmax(spgrid))])\n",
    "            plt.savefig('../figures/abs_mag_relations{}_sd.pdf'.format(c))\n",
    "    except:\n",
    "        print ('all empty {}'.format(c))\n",
    "        pass \n"
   ]
  },
  {
   "cell_type": "code",
   "execution_count": null,
   "metadata": {},
   "outputs": [],
   "source": []
  },
  {
   "cell_type": "code",
   "execution_count": 82,
   "metadata": {},
   "outputs": [],
   "source": [
    "#abs_df.keys()"
   ]
  },
  {
   "cell_type": "code",
   "execution_count": 83,
   "metadata": {},
   "outputs": [],
   "source": [
    "#def fit_nsigma():\n",
    "#    return "
   ]
  },
  {
   "cell_type": "code",
   "execution_count": 84,
   "metadata": {},
   "outputs": [],
   "source": [
    "#POLYNOMIALS=FITS"
   ]
  },
  {
   "cell_type": "code",
   "execution_count": 85,
   "metadata": {},
   "outputs": [],
   "source": [
    "#ir=np.vstack(abs_df.LSST_I)[:,0]-np.vstack(abs_df.LSST_R)[:,0]"
   ]
  },
  {
   "cell_type": "code",
   "execution_count": 86,
   "metadata": {},
   "outputs": [],
   "source": [
    "#h=plt.hist(ir)"
   ]
  },
  {
   "cell_type": "code",
   "execution_count": null,
   "metadata": {},
   "outputs": [],
   "source": []
  },
  {
   "cell_type": "code",
   "execution_count": null,
   "metadata": {},
   "outputs": [],
   "source": []
  },
  {
   "cell_type": "code",
   "execution_count": 87,
   "metadata": {},
   "outputs": [],
   "source": [
    "#e(spts_m, d=np.ones_like(spts_m)*1000, keys=['LSST_Z', 'LSST_R'], object_type='dwarfs')"
   ]
  },
  {
   "cell_type": "code",
   "execution_count": 88,
   "metadata": {},
   "outputs": [],
   "source": [
    "#updating WISE\n",
    "#wise_dict=splat.SPT_ABSMAG_RELATIONS['best2018']['filters']['WISE_W1']\n",
    "#_, fit_2massk=fit_with_nsigma_clipping(np.array(KVALS['2MASS_KS']['spt']), \n",
    "#                                      np.array( KVALS['2MASS_KS']['values']), \n",
    "#                                      np.array( KVALS['2MASS_KS']['rms'])\n",
    "#                                     , 6, sigma=5.)\n",
    "#add wise relations\n",
    "\n",
    "#_, fit_wise1=fit_with_nsigma_clipping(np.array(wise_dict['spt']), \n",
    "#                                      np.array( wise_dict['values']), \n",
    "#                                      np.array( wise_dict['rms'])\n",
    "#                                     , 6, sigma=5.)\n",
    "#            'spt': [0.,0.5,1.,1.5,2.,2.5,3.,3.5,4.,4.5,5.,5.5,6.,6.5,7.,8.,9.,10,10.5,11,11.5,12,12.5,13,13.5,14,14.5,15,15.5,16,16.5,17,17.5,18,18.5,19,19.5,20.,21.,22.,23.,24.,25.,26.,27.,28.,29.,30.,31.,32.,33.,34.,34.5,35.,35.5,36.,37.,37.5,38.,39.,39.5,40.5,41.,41.5,42.],\\\n",
    "#            'values': [3.81, 3.82, 3.87, 3.9, 4.04, 4.07, 4.16, 4.21, 4.25, 4.26, 4.48, 4.57, 4.66, 4.78, 4.82, 4.98, 5.11, 5.22, 5.36, 5.67, 5.85, 6.06, 6.27, 6.54, 7.19, 7.55, 7.93, 8.36, 9.01, 9.32, 9.47, 9.76, 9.97, 10.11, 10.22, 10.3, 10.45, 10.55, 10.8, 10.9, 11.3, 11.4, 11.82, 12.27, 12.62, 12.7, 12.74, 12.9, 12.87, 13.19, 13.69, 14.51, 14.66, 14.9, 15.18, 15.54, 16.36, 16.85, 17.43, 18.48, 19.32, 21.5, 23, 23.5, 24],\\\n",
    "#            'rms': np.zeros(65)+0.05}})"
   ]
  },
  {
   "cell_type": "code",
   "execution_count": 89,
   "metadata": {},
   "outputs": [],
   "source": [
    "#df.spt.values.min()"
   ]
  },
  {
   "cell_type": "code",
   "execution_count": 90,
   "metadata": {},
   "outputs": [],
   "source": [
    "#get_kirkpatrick_wise(30-10)"
   ]
  },
  {
   "cell_type": "code",
   "execution_count": 91,
   "metadata": {},
   "outputs": [],
   "source": [
    "#spts_grids=np.linspace(17, 44, 1000)\n",
    "#w1s=np.array([get_kirkpatrick_wise(x) for x in spts_grids])"
   ]
  },
  {
   "cell_type": "code",
   "execution_count": null,
   "metadata": {},
   "outputs": [],
   "source": []
  },
  {
   "cell_type": "code",
   "execution_count": 92,
   "metadata": {},
   "outputs": [],
   "source": [
    "#_, fit_wise=fit_with_nsigma_clipping(np.array(spts_grids), \n",
    "#                                      np.array(w1s), \n",
    "#                                      np.ones(len(w1s))*0.63\n",
    "#                                     , 6, sigma=5.)\n",
    "#plt.plot(spts_grids, w1s)\n",
    "#plt.plot(spts_grids,fit_wise(spts_grids) )\n"
   ]
  },
  {
   "cell_type": "code",
   "execution_count": null,
   "metadata": {},
   "outputs": [],
   "source": []
  },
  {
   "cell_type": "code",
   "execution_count": 93,
   "metadata": {},
   "outputs": [],
   "source": [
    "#vals=np.vstack(abs_df['WFC3_F160W'].values)\n",
    "#spts=df.spt.values\n",
    "#plt.plot(spts, vals[:,0], 'o')"
   ]
  },
  {
   "cell_type": "code",
   "execution_count": 94,
   "metadata": {},
   "outputs": [],
   "source": [
    "#FITS['2MASS_K']=(fit_2massk, np.nanmedian(np.array( KVALS['2MASS_KS']['rms'])))\n",
    "#FITS['WISE_W1']=(fit_wise, 0.63)"
   ]
  },
  {
   "cell_type": "code",
   "execution_count": 95,
   "metadata": {},
   "outputs": [],
   "source": [
    "#FITS['absmags']['subdwarfs']={}"
   ]
  },
  {
   "cell_type": "code",
   "execution_count": 96,
   "metadata": {},
   "outputs": [],
   "source": [
    "import pickle\n",
    "output = open(ABS_MAG_FILE, 'wb')\n",
    "pickle.dump(FITS, output)\n",
    "output.close()"
   ]
  },
  {
   "cell_type": "code",
   "execution_count": 97,
   "metadata": {},
   "outputs": [],
   "source": [
    "#FITS"
   ]
  },
  {
   "cell_type": "code",
   "execution_count": 98,
   "metadata": {},
   "outputs": [],
   "source": [
    "#FITS['references']['kiman2019']"
   ]
  },
  {
   "cell_type": "code",
   "execution_count": null,
   "metadata": {},
   "outputs": [],
   "source": []
  },
  {
   "cell_type": "code",
   "execution_count": null,
   "metadata": {},
   "outputs": [],
   "source": []
  },
  {
   "cell_type": "code",
   "execution_count": null,
   "metadata": {},
   "outputs": [],
   "source": []
  }
 ],
 "metadata": {
  "kernelspec": {
   "display_name": "Python 3 (ipykernel)",
   "language": "python",
   "name": "python3"
  },
  "language_info": {
   "codemirror_mode": {
    "name": "ipython",
    "version": 3
   },
   "file_extension": ".py",
   "mimetype": "text/x-python",
   "name": "python",
   "nbconvert_exporter": "python",
   "pygments_lexer": "ipython3",
   "version": "3.9.7"
  }
 },
 "nbformat": 4,
 "nbformat_minor": 4
}
