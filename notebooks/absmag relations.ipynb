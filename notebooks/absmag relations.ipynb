{
 "cells": [
  {
   "cell_type": "code",
   "execution_count": 1,
   "metadata": {},
   "outputs": [
    {
     "name": "stdout",
     "output_type": "stream",
     "text": [
      "\n",
      "\n",
      "Welcome to the Spex Prism Library Analysis Toolkit (SPLAT)!\n",
      "If you make use of any features of this toolkit for your research, please remember to cite the SPLAT paper:\n",
      "\n",
      "Burgasser et al. (2017, Astro. Soc. India Conf. Series 14, p. 7); Bibcode: 2017ASInC..14....7B\n",
      "\n",
      "If you make use of any spectra or models in this toolkit, please remember to cite the original source.\n",
      "Please report any errors are feature requests to our github page, https://github.com/aburgasser/splat/\n",
      "\n",
      "\n"
     ]
    }
   ],
   "source": [
    "#imports\n",
    "import numpy as np\n",
    "import splat\n",
    "import pandas as pd\n",
    "import glob\n",
    "from astropy.io import ascii\n",
    "import matplotlib.pyplot as plt\n",
    "from tqdm import tqdm\n",
    "splat.initializeStandards()\n",
    "import seaborn as sns\n",
    "import popsims\n",
    "splat.initializeStandards(all=True)\n",
    "sns.set_style(\"darkgrid\", {\"axes.facecolor\": \".9\"})\n",
    "%matplotlib inline\n"
   ]
  },
  {
   "cell_type": "code",
   "execution_count": 2,
   "metadata": {},
   "outputs": [],
   "source": [
    "ABS_MAG_FILE=popsims.DATA_FOLDER+'/absmag_relations.pkl'"
   ]
  },
  {
   "cell_type": "code",
   "execution_count": 3,
   "metadata": {},
   "outputs": [],
   "source": [
    "#df=  popsims.make_systems(nsample=int(1e7))"
   ]
  },
  {
   "cell_type": "code",
   "execution_count": 4,
   "metadata": {},
   "outputs": [],
   "source": [
    "#_= plt.hist(df.age.values)"
   ]
  },
  {
   "cell_type": "code",
   "execution_count": 5,
   "metadata": {},
   "outputs": [],
   "source": [
    "#gfhj"
   ]
  },
  {
   "cell_type": "code",
   "execution_count": 6,
   "metadata": {},
   "outputs": [],
   "source": [
    " KVALS={'2MASS_KS': {\\\n",
    "            'spt': [0.,0.5,1.,1.5,2.,2.5,3.,3.5,4.,4.5,5.,5.5,6.,6.5,7.,8.,9.,10,10.5,11,11.5,12,12.5,13,13.5,14,14.5,15,15.5,16,16.5,17,17.5,18,18.5,19,19.5,20.,21.,22.,23.,24.,25.,26.,27.,28.,29.,30.,31.,32.,33.,34.,34.5,35.,35.5,36.,37.,37.5,38.,39.,39.5,40.5,41.,41.5,42.],\\\n",
    "            'values': [3.81, 3.82, 3.87, 3.9, 4.04, 4.07, 4.16, 4.21, 4.25, 4.26, 4.48, 4.57, 4.66, 4.78, 4.82, 4.98, 5.11, 5.22, 5.36, 5.67, 5.85, 6.06, 6.27, 6.54, 7.19, 7.55, 7.93, 8.36, 9.01, 9.32, 9.47, 9.76, 9.97, 10.11, 10.22, 10.3, 10.45, 10.55, 10.8, 10.9, 11.3, 11.4, 11.82, 12.27, 12.62, 12.7, 12.74, 12.9, 12.87, 13.19, 13.69, 14.51, 14.66, 14.9, 15.18, 15.54, 16.36, 16.85, 17.43, 18.48, 19.32, 21.5, 23, 23.5, 24],\\\n",
    "            'rms': np.zeros(65)+0.05}}"
   ]
  },
  {
   "cell_type": "code",
   "execution_count": 7,
   "metadata": {},
   "outputs": [],
   "source": [
    "sptgrid=np.arange(10, 41, 100)"
   ]
  },
  {
   "cell_type": "code",
   "execution_count": 8,
   "metadata": {},
   "outputs": [],
   "source": [
    "from popsims.filtermags import filterMag"
   ]
  },
  {
   "cell_type": "code",
   "execution_count": 13,
   "metadata": {},
   "outputs": [],
   "source": [
    "def get_colors(sp, flt, filt_2mass):\n",
    "    #measuring filtermags in for two filters and comparing that to target filters\n",
    "    mag, mag_unc = filterMag(sp.wave, sp.flux, sp.noise, sp.flux.unit, flt)\n",
    "    #calculate the mag of the standard in J and H\n",
    "    mag_2mass, mag_unc2mass = filterMag(sp.wave, sp.flux, sp.noise, sp.flux.unit, filt_2mass)\n",
    "    #calculate the offset \n",
    "    return mag_2mass-mag, (mag_unc**2+ mag_unc2mass**2)**0.5\n",
    "\n",
    "def get_colors_splat(sp, flt, filt_2mass):\n",
    "    #measuring filtermags in for two filters and comparing that to target filters\n",
    "    mag, mag_unc = splat.filterMag(sp, flt)\n",
    "    #calculate the mag of the standard in J and H\n",
    "    mag_2mass, mag_unc2mass = splat.filterMag(sp, filt_2mass)\n",
    "    #calculate the offset \n",
    "    return mag_2mass-mag, (mag_unc**2+ mag_unc2mass**2)**0.5"
   ]
  },
  {
   "cell_type": "code",
   "execution_count": 10,
   "metadata": {},
   "outputs": [
    {
     "name": "stdout",
     "output_type": "stream",
     "text": [
      "\n",
      "Retrieving 1 lucky file\n",
      "\n"
     ]
    }
   ],
   "source": [
    "sp=splat.getSpectrum(lucky=True)[0]"
   ]
  },
  {
   "cell_type": "code",
   "execution_count": 16,
   "metadata": {},
   "outputs": [
    {
     "data": {
      "text/plain": [
       "(-0.6622348031209135, 0.03182125656859103)"
      ]
     },
     "execution_count": 16,
     "metadata": {},
     "output_type": "execute_result"
    }
   ],
   "source": [
    "get_colors(sp, 'WFC3_F110W', '2MASS J')"
   ]
  },
  {
   "cell_type": "code",
   "execution_count": 17,
   "metadata": {},
   "outputs": [],
   "source": [
    "#ghjbk"
   ]
  },
  {
   "cell_type": "code",
   "execution_count": 18,
   "metadata": {},
   "outputs": [],
   "source": [
    "#load spectra, ignore binaries, objects with high uncertainty in mag and objects without parallaxes\n",
    "splat_db=splat.searchLibrary(vlm=True, giant=False, young=False, binary=False)\n",
    "splat_db['SHORTNAME']=splat_db.DESIGNATION.apply(lambda x: splat.designationToShortName)\n",
    "sml=splat_db[~ ((splat_db.H_2MASS_E > 0.5) | (splat_db.J_2MASS_E > 0.5)) ]\n",
    "\n",
    "#sds=sml[(sml.METALLICITY_CLASS=='sd') | (sml.METALLICITY_CLASS=='esd')  ]\n",
    "sml=sml[~((sml.METALLICITY_CLASS=='sd') | (sml.METALLICITY_CLASS=='esd') \\\n",
    "          | (sml.MEDIAN_SNR <20))]"
   ]
  },
  {
   "cell_type": "code",
   "execution_count": null,
   "metadata": {},
   "outputs": [],
   "source": [
    "#verified list of sds\n"
   ]
  },
  {
   "cell_type": "code",
   "execution_count": 19,
   "metadata": {},
   "outputs": [],
   "source": [
    "#get y dwarfs\n",
    "def get_shortname(n):\n",
    "        return splat.designationToShortName(n).replace('J', 'WISE')\n",
    "\n",
    "schn='/Volumes/Lacie/schneider/*.txt'\n",
    "schntb=pd.read_csv('/Volumes/Lacie/wispsdata/data/schneider2015.txt', \n",
    "                   delimiter=' ').drop(columns='Unnamed: 14')\n",
    "schntb['shortname']=schntb.Name.apply(get_shortname)\n",
    "spectra_schn=[]\n",
    "for f in glob.glob(schn):\n",
    "    d=ascii.read(f).to_pandas()\n",
    "    shortname=(f.split('/')[-1]).split('.txt')[0]\n",
    "    s=splat.Spectrum(wave=d.col1, \n",
    "                     flux=d.col2,\n",
    "                     noise=d.col3, \n",
    "                     name=shortname)\n",
    "    #measure snr \n",
    "    mask= np.logical_and(d.col1>1.0, d.col1<2.4)\n",
    "    snr= (np.nanmedian(d.col2[mask]/d.col3[mask]))\n",
    "    spectra_schn.append([s, snr])"
   ]
  },
  {
   "cell_type": "code",
   "execution_count": 20,
   "metadata": {},
   "outputs": [],
   "source": [
    "mdwarfs=sml[ (sml.SPEX_TYPE.apply(splat.typeToNum) <20)]\n",
    "ldwarfs=sml[ (sml.SPEX_TYPE.apply(splat.typeToNum).between(20, 30))]\n",
    "tdwarfs=sml[ (sml.SPEX_TYPE.apply(splat.typeToNum).between(30, 40))]"
   ]
  },
  {
   "cell_type": "code",
   "execution_count": 21,
   "metadata": {},
   "outputs": [],
   "source": [
    "#tighter_constraints on m dwarfs \n",
    "mdwarfs=mdwarfs[(~mdwarfs.PARALLAX.isna()) & (mdwarfs.MEDIAN_SNR >100)]\n",
    "ldwarfs=ldwarfs[ (ldwarfs.MEDIAN_SNR >70)]"
   ]
  },
  {
   "cell_type": "code",
   "execution_count": 22,
   "metadata": {},
   "outputs": [],
   "source": [
    "def choose_ten(df):\n",
    "    if len(df) >10:\n",
    "        return df.sort_values('MEDIAN_SNR', ascending=False)[:10]\n",
    "    else:\n",
    "        return df"
   ]
  },
  {
   "cell_type": "code",
   "execution_count": null,
   "metadata": {},
   "outputs": [],
   "source": [
    "#tdwarfs.MEDIAN_SNR"
   ]
  },
  {
   "cell_type": "code",
   "execution_count": 23,
   "metadata": {},
   "outputs": [],
   "source": [
    "ls=ldwarfs.groupby('SPEX_TYPE').apply(choose_ten).reset_index(drop=True)#.groupby('SPEX_TYPE').count()"
   ]
  },
  {
   "cell_type": "code",
   "execution_count": 24,
   "metadata": {},
   "outputs": [],
   "source": [
    "smlf=pd.concat([mdwarfs, ls, tdwarfs]).reset_index(drop=True)"
   ]
  },
  {
   "cell_type": "code",
   "execution_count": 25,
   "metadata": {},
   "outputs": [],
   "source": [
    "def get_file(x):\n",
    "    try:\n",
    "        return splat.getSpectrum(filename=x)[0]\n",
    "    except:\n",
    "        return "
   ]
  },
  {
   "cell_type": "code",
   "execution_count": 26,
   "metadata": {
    "scrolled": true
   },
   "outputs": [],
   "source": [
    "%%capture\n",
    "templs=smlf.DATA_FILE.apply(lambda x: get_file(x))\n",
    "#sds_spectra=sds.DATA_FILE.apply(lambda x:  get_file(x))\n",
    "\n",
    "\n",
    "#all_spectra=pd.read_pickle('/users/caganze/research/popsims/data/splat_spectra.pkl')\n",
    "#sd_spectra=pd.read_pickle('/users/caganze/research/popsims/data/sd_spectra.pkl')"
   ]
  },
  {
   "cell_type": "code",
   "execution_count": 27,
   "metadata": {},
   "outputs": [],
   "source": [
    "#schntb['spectra']=[x[0] for x in  spectra_schn]\n",
    "\n",
    "#schntb['snr']=[x[1] for x in  spectra_schn]\n",
    "\n",
    "#schntb=schntb[schntb.snr>=2.].reset_index(drop=True)\n",
    "\n",
    "#all_spectra=np.concatenate([templs,schntb.spectra.values ])\n",
    "all_spectra=templs"
   ]
  },
  {
   "cell_type": "code",
   "execution_count": null,
   "metadata": {},
   "outputs": [],
   "source": [
    "#import pickle\n",
    "#output = open('/users/caganze/research/popsims/data/splat_spectra.pkl', 'wb')\n",
    "#pickle.dump(all_spectra, output)\n",
    "#output.close()\n",
    "\n",
    "#import pickle\n",
    "#output = open('/users/caganze/research/popsims/data/sd_spectra.pkl', 'wb')\n",
    "#pickle.dump(sds_spectra, output)\n",
    "#output.close()\n"
   ]
  },
  {
   "cell_type": "code",
   "execution_count": 28,
   "metadata": {},
   "outputs": [],
   "source": [
    "def make_spt_number(spt):\n",
    "    ##make a spt a number\n",
    "    if isinstance(spt, str):\n",
    "        return splat.typeToNum(spt)\n",
    "    else:\n",
    "        return spt"
   ]
  },
  {
   "cell_type": "code",
   "execution_count": 29,
   "metadata": {},
   "outputs": [],
   "source": [
    "#spts=np.concatenate([smlf.SPEX_TYPE.apply(make_spt_number).values,\n",
    "#                     schntb.Spec.apply(make_spt_number).values,\n",
    "#                    ])\n",
    "spts=smlf.SPEX_TYPE.apply(make_spt_number).values"
   ]
  },
  {
   "cell_type": "code",
   "execution_count": 30,
   "metadata": {},
   "outputs": [],
   "source": [
    "assert len(spts) == len(all_spectra)"
   ]
  },
  {
   "cell_type": "code",
   "execution_count": null,
   "metadata": {},
   "outputs": [],
   "source": [
    "#ascii.write?"
   ]
  },
  {
   "cell_type": "code",
   "execution_count": 31,
   "metadata": {},
   "outputs": [],
   "source": [
    "#for f in glob.glob('/users/caganze/research/splat/resources/filters/*.dat'):\n",
    "#    d=ascii.read(f,names=['LAM', 'TRANSMISSION'])\n",
    "#    d['LAM']=d['LAM']/10_000\n",
    "    #print (d)\n",
    "#    ascii.write(d, f.replace('.dat', '.txt'), comment='#')\n",
    "#    plt.plot(d['LAM'], d['TRANSMISSION'])\n",
    "#    del d\n",
    "    "
   ]
  },
  {
   "cell_type": "code",
   "execution_count": null,
   "metadata": {},
   "outputs": [],
   "source": [
    "\n"
   ]
  },
  {
   "cell_type": "code",
   "execution_count": 32,
   "metadata": {},
   "outputs": [],
   "source": [
    "#sds_spts=sds.SPEX_TYPE.apply(make_spt_number).values"
   ]
  },
  {
   "cell_type": "code",
   "execution_count": 33,
   "metadata": {},
   "outputs": [],
   "source": [
    "#this has already been simulated \n",
    "darf_pairs={#[{'WFIRST_WFIJ':  '2MASS J'],\n",
    "           #['WFIRST_WFIY', 'PANSTARRS_Y'],\n",
    "           #['WFIRST_WFIZ', 'PANSTARRS_Z'],\n",
    "           #['WFIRST_WFIH', '2MASS H'],\n",
    "           #['WFIRST_WFIF', '2MASS H'],\n",
    "           #['WFIRST_WFIR', 'PANSTARRS_Z'],\n",
    "           #['EUCLID_J', '2MASS J'],\n",
    "           #['EUCLID_H', '2MASS H'],\n",
    "           #['EUCLID_Y','PANSTARRS_Y'],\n",
    "        'NIRISS_F115W': {'ref': '2MASS J', 'method':'ab'},\n",
    "        #'NIRISS_F140M': {'ref': '2MASS H', 'method': 'ab'},\n",
    "        'NIRISS_F150W': {'ref': '2MASS H', 'method': 'ab'},\n",
    "        'NIRISS_F200W': {'ref': '2MASS H', 'method': 'ab'}}\n",
    "             #['NIRCAM_F140M', '2MASS H', 'ab'],\n",
    "             #['NIRCAM_F150W', '2MASS H', 'ab'],\n",
    "             #['NIRCAM_F200W', '2MASS H', 'ab'],\n",
    "        \n",
    "        \n",
    "           #['WFC3_F110W', '2MASS J', 'ab'],\n",
    "           #['WFC3_F140W', '2MASS J', 'ab'],\n",
    "           #['WFC3_F160W', '2MASS H', 'ab'],\n",
    "           #['VISTA_Z', 'PANSTARRS_Z'],\n",
    "           #['VISTA_Y', 'PANSTARRS_Y'],\n",
    "           #['VISTA_J', '2MASS J'],\n",
    "           #['VISTA_H', '2MASS H'],\n",
    "           #['VISTA_KS', '2MASS_H'],\n",
    "           #['UKIDSS_Z', 'PANSTARRS_Z'],\n",
    "           #['UKIDSS_Y', 'PANSTARRS_Y'],\n",
    "           #['UKIDSS_J', '2MASS J'],\n",
    "           #['UKIDSS_H', '2MASS H'],\n",
    "           #['UKIDSS_K','2MASS_H'],\n",
    "           #['LSST_G', 'PANSTARRS_I'],\n",
    "           #['LSST_R', 'PANSTARRS_Z'],\n",
    "           #['LSST_I',  'PANSTARRS_Z'],\n",
    "           #['LSST_Z',  'PANSTARRS_Z'],\n",
    "           #['LSST_Y',  'PANSTARRS_Y'],\n",
    "           #['SDSS_R',  'PANSTARRS_Z'],\n",
    "           #['SDSS_I',  'PANSTARRS_Z'],\n",
    "           #['SDSS_Z',  'PANSTARRS_Z']]\n",
    "\n",
    "\n",
    "sd_pairs= [['PANSTARRS_Z', 'SDSS_Z'],\n",
    "           ['PANSTARRS_I', 'SDSS_I'],\n",
    "           ['PANSTARRS_Y', 'SDSS_Z'],\n",
    "           ['PANSTARRS_R', 'SDSS_R'],\n",
    "           #['VISTA_R', 'SDSS_R'],\n",
    "           ['VISTA_Z', 'SDSS_Z'],\n",
    "           ['VISTA_Y', 'SDSS_Z'],\n",
    "           ['VISTA_J', '2MASS J'],\n",
    "           ['UKIDSS_Z', 'SDSS_Z'],\n",
    "           ['UKIDSS_Y', 'SDSS_Z'],\n",
    "           ['UKIDSS_J', '2MASS J'],\n",
    "           ['UKIDSS_H', '2MASS H'],\n",
    "           ['UKIDSS_K', '2MASS KS']]\n"
   ]
  },
  {
   "cell_type": "code",
   "execution_count": null,
   "metadata": {},
   "outputs": [],
   "source": [
    "#sd_absolute_mag(spt, 20)"
   ]
  },
  {
   "cell_type": "code",
   "execution_count": 34,
   "metadata": {},
   "outputs": [
    {
     "data": {
      "text/plain": [
       "<function splat.utilities.typeToNum(inp, subclass='dwarf', error='', uncertainty=0.0, luminosity_class='', metallicity_class='', age_class='', color_class='', peculiar=False, verbose=False, **kwargs)>"
      ]
     },
     "execution_count": 34,
     "metadata": {},
     "output_type": "execute_result"
    }
   ],
   "source": [
    "splat.typeToNum"
   ]
  },
  {
   "cell_type": "code",
   "execution_count": 35,
   "metadata": {},
   "outputs": [],
   "source": [
    "#remove nones\n",
    "nones= np.array(all_spectra)==None\n",
    "all_spectra=all_spectra[~nones]\n",
    "spts=spts[~nones]\n",
    "assert len(spts) == len(all_spectra)"
   ]
  },
  {
   "cell_type": "code",
   "execution_count": 46,
   "metadata": {},
   "outputs": [],
   "source": [
    "def compute_colors(sp, sd=False):\n",
    "    fl_pairs=None\n",
    "    if sd: fl_pairs=sd_pairs\n",
    "    if not sd: fl_pairs=darf_pairs\n",
    "    sp.normalize()\n",
    "    res={}\n",
    "    for p in fl_pairs.keys():\n",
    "        res.update({p+'and'+fl_pairs[p]['ref']: \\\n",
    "                    get_colors(sp, p, fl_pairs[p]['ref'])})\n",
    "    return res"
   ]
  },
  {
   "cell_type": "code",
   "execution_count": 54,
   "metadata": {},
   "outputs": [],
   "source": [
    "zhang_subds=pd.read_pickle( '/volumes/LaCie/popsimsdata/combined_sd_templates.pkl')\n",
    "zhang_subds['spt']=zhang_subds.sptype.apply(make_spt_number)"
   ]
  },
  {
   "cell_type": "code",
   "execution_count": 53,
   "metadata": {},
   "outputs": [],
   "source": [
    "optical_stds=pd.read_pickle('/volumes/LaCie/popsimsdata/combined_optical_templates.pkl')\n",
    "optical_stds['spt']=optical_stds.sptype.apply(make_spt_number)"
   ]
  },
  {
   "cell_type": "code",
   "execution_count": 55,
   "metadata": {},
   "outputs": [
    {
     "data": {
      "text/plain": [
       "{'NIRISS_F115W': {'ref': '2MASS J', 'method': 'ab'},\n",
       " 'NIRISS_F150W': {'ref': '2MASS H', 'method': 'ab'},\n",
       " 'NIRISS_F200W': {'ref': '2MASS H', 'method': 'ab'}}"
      ]
     },
     "execution_count": 55,
     "metadata": {},
     "output_type": "execute_result"
    }
   ],
   "source": [
    "darf_pairs"
   ]
  },
  {
   "cell_type": "code",
   "execution_count": 56,
   "metadata": {},
   "outputs": [],
   "source": [
    "#optical_stds"
   ]
  },
  {
   "cell_type": "code",
   "execution_count": 57,
   "metadata": {},
   "outputs": [],
   "source": [
    "#only pick those ith sds or esd or usd in their sptype\n",
    "zhang_subds=zhang_subds[np.logical_or.reduce([zhang_subds.sptype.str.startswith('esd'),\\\n",
    "                                             zhang_subds.sptype.str.startswith('sd'),\\\n",
    "                                              zhang_subds.sptype.str.startswith('usd')])]\n",
    "#add \n",
    "optical_sd_bool=np.logical_or.reduce([optical_stds.sptype.str.startswith('esd'),\\\n",
    "                                    optical_stds.sptype.str.startswith('sd'),\\\n",
    "                                    optical_stds.sptype.str.startswith('usd')]).astype(bool)\n"
   ]
  },
  {
   "cell_type": "code",
   "execution_count": 58,
   "metadata": {},
   "outputs": [],
   "source": [
    "zhang_subds=zhang_subds.append(optical_stds[optical_sd_bool])"
   ]
  },
  {
   "cell_type": "code",
   "execution_count": 60,
   "metadata": {},
   "outputs": [],
   "source": [
    "#assert len(zhang_subds)==131"
   ]
  },
  {
   "cell_type": "code",
   "execution_count": 61,
   "metadata": {},
   "outputs": [],
   "source": [
    "#zhang_subds.spt.values"
   ]
  },
  {
   "cell_type": "code",
   "execution_count": 62,
   "metadata": {
    "scrolled": true
   },
   "outputs": [],
   "source": [
    "#sd_df"
   ]
  },
  {
   "cell_type": "code",
   "execution_count": 63,
   "metadata": {},
   "outputs": [],
   "source": [
    "optical_templates=optical_stds[~optical_sd_bool].spectra.values\n",
    "optical_spts=optical_stds[~optical_sd_bool].spt.values"
   ]
  },
  {
   "cell_type": "code",
   "execution_count": 64,
   "metadata": {},
   "outputs": [],
   "source": [
    "optical_templates=optical_templates[optical_spts>=10]\n",
    "optical_spts=optical_spts[optical_spts>=10]\n",
    "\n",
    "assert len(np.concatenate([optical_templates, all_spectra]))==\\\n",
    "len(np.concatenate([optical_spts, spts]))"
   ]
  },
  {
   "cell_type": "code",
   "execution_count": 65,
   "metadata": {
    "scrolled": true
   },
   "outputs": [],
   "source": [
    "#sd_df=pd.DataFrame.from_records([compute_colors(x, sd=True) for x in tqdm(zhang_subds.spectra.values)])\n",
    "#sd_df['spt']=zhang_subds.spt.values"
   ]
  },
  {
   "cell_type": "code",
   "execution_count": null,
   "metadata": {},
   "outputs": [],
   "source": [
    "\n"
   ]
  },
  {
   "cell_type": "code",
   "execution_count": 66,
   "metadata": {},
   "outputs": [
    {
     "data": {
      "text/plain": [
       "261"
      ]
     },
     "execution_count": 66,
     "metadata": {},
     "output_type": "execute_result"
    }
   ],
   "source": [
    "len(all_spectra)"
   ]
  },
  {
   "cell_type": "code",
   "execution_count": null,
   "metadata": {
    "scrolled": false
   },
   "outputs": [
    {
     "name": "stderr",
     "output_type": "stream",
     "text": [
      "  0%|▏                                          | 1/303 [00:00<00:49,  6.09it/s]"
     ]
    },
    {
     "name": "stdout",
     "output_type": "stream",
     "text": [
      "\n",
      "SPLAT does not contain the filter NIRISS_F115W\n",
      "\n",
      "SPLAT does not contain the filter NIRISS_F150W\n",
      "\n",
      "SPLAT does not contain the filter NIRISS_F200W\n",
      "\n",
      "SPLAT does not contain the filter NIRISS_F115W\n",
      "\n",
      "SPLAT does not contain the filter NIRISS_F150W\n"
     ]
    },
    {
     "name": "stderr",
     "output_type": "stream",
     "text": [
      "\r",
      "  1%|▍                                          | 3/303 [00:00<00:33,  8.83it/s]"
     ]
    },
    {
     "name": "stdout",
     "output_type": "stream",
     "text": [
      "\n",
      "SPLAT does not contain the filter NIRISS_F200W\n",
      "\n",
      "SPLAT does not contain the filter NIRISS_F115W\n",
      "\n",
      "SPLAT does not contain the filter NIRISS_F150W\n",
      "\n",
      "SPLAT does not contain the filter NIRISS_F200W\n",
      "\n",
      "SPLAT does not contain the filter NIRISS_F115W\n",
      "\n",
      "SPLAT does not contain the filter NIRISS_F150W\n",
      "\n",
      "SPLAT does not contain the filter NIRISS_F200W\n"
     ]
    },
    {
     "name": "stderr",
     "output_type": "stream",
     "text": [
      "\r",
      "  2%|▋                                          | 5/303 [00:00<00:31,  9.55it/s]"
     ]
    },
    {
     "name": "stdout",
     "output_type": "stream",
     "text": [
      "\n",
      "SPLAT does not contain the filter NIRISS_F115W\n",
      "\n",
      "SPLAT does not contain the filter NIRISS_F150W\n",
      "\n",
      "SPLAT does not contain the filter NIRISS_F200W\n",
      "\n",
      "SPLAT does not contain the filter NIRISS_F115W\n",
      "\n",
      "SPLAT does not contain the filter NIRISS_F150W\n",
      "\n",
      "SPLAT does not contain the filter NIRISS_F200W\n",
      "\n",
      "SPLAT does not contain the filter NIRISS_F115W\n"
     ]
    },
    {
     "name": "stderr",
     "output_type": "stream",
     "text": [
      "\r",
      "  2%|▉                                          | 7/303 [00:00<00:29, 10.01it/s]"
     ]
    },
    {
     "name": "stdout",
     "output_type": "stream",
     "text": [
      "\n",
      "SPLAT does not contain the filter NIRISS_F150W\n",
      "\n",
      "SPLAT does not contain the filter NIRISS_F200W\n",
      "\n",
      "SPLAT does not contain the filter NIRISS_F115W\n",
      "\n",
      "SPLAT does not contain the filter NIRISS_F150W\n",
      "\n",
      "SPLAT does not contain the filter NIRISS_F200W\n",
      "\n",
      "SPLAT does not contain the filter NIRISS_F115W\n",
      "\n",
      "SPLAT does not contain the filter NIRISS_F150W\n"
     ]
    },
    {
     "name": "stderr",
     "output_type": "stream",
     "text": [
      "\r",
      "  3%|█▎                                         | 9/303 [00:00<00:28, 10.34it/s]"
     ]
    },
    {
     "name": "stdout",
     "output_type": "stream",
     "text": [
      "\n",
      "SPLAT does not contain the filter NIRISS_F200W\n",
      "\n",
      "SPLAT does not contain the filter NIRISS_F115W\n",
      "\n",
      "SPLAT does not contain the filter NIRISS_F150W\n",
      "\n",
      "SPLAT does not contain the filter NIRISS_F200W\n",
      "\n",
      "SPLAT does not contain the filter NIRISS_F115W\n",
      "\n",
      "SPLAT does not contain the filter NIRISS_F150W\n",
      "\n",
      "SPLAT does not contain the filter NIRISS_F200W\n"
     ]
    },
    {
     "name": "stderr",
     "output_type": "stream",
     "text": [
      "  4%|█▊                                        | 13/303 [00:01<00:27, 10.57it/s]"
     ]
    },
    {
     "name": "stdout",
     "output_type": "stream",
     "text": [
      "\n",
      "SPLAT does not contain the filter NIRISS_F115W\n",
      "\n",
      "SPLAT does not contain the filter NIRISS_F150W\n",
      "\n",
      "SPLAT does not contain the filter NIRISS_F200W\n",
      "\n",
      "SPLAT does not contain the filter NIRISS_F115W\n",
      "\n",
      "SPLAT does not contain the filter NIRISS_F150W\n",
      "\n",
      "SPLAT does not contain the filter NIRISS_F200W\n",
      "\n",
      "SPLAT does not contain the filter NIRISS_F115W\n"
     ]
    },
    {
     "name": "stderr",
     "output_type": "stream",
     "text": [
      "\r",
      "  5%|██                                        | 15/303 [00:01<00:27, 10.46it/s]"
     ]
    },
    {
     "name": "stdout",
     "output_type": "stream",
     "text": [
      "\n",
      "SPLAT does not contain the filter NIRISS_F150W\n",
      "\n",
      "SPLAT does not contain the filter NIRISS_F200W\n",
      "\n",
      "SPLAT does not contain the filter NIRISS_F115W\n",
      "\n",
      "SPLAT does not contain the filter NIRISS_F150W\n",
      "\n",
      "SPLAT does not contain the filter NIRISS_F200W\n",
      "\n",
      "SPLAT does not contain the filter NIRISS_F115W\n",
      "\n",
      "SPLAT does not contain the filter NIRISS_F150W\n"
     ]
    },
    {
     "name": "stderr",
     "output_type": "stream",
     "text": [
      "\r",
      "  6%|██▎                                       | 17/303 [00:01<00:27, 10.40it/s]"
     ]
    },
    {
     "name": "stdout",
     "output_type": "stream",
     "text": [
      "\n",
      "SPLAT does not contain the filter NIRISS_F200W\n",
      "\n",
      "SPLAT does not contain the filter NIRISS_F115W\n",
      "\n",
      "SPLAT does not contain the filter NIRISS_F150W\n",
      "\n",
      "SPLAT does not contain the filter NIRISS_F200W\n",
      "\n",
      "SPLAT does not contain the filter NIRISS_F115W\n",
      "\n",
      "SPLAT does not contain the filter NIRISS_F150W\n",
      "\n",
      "SPLAT does not contain the filter NIRISS_F200W\n"
     ]
    },
    {
     "name": "stderr",
     "output_type": "stream",
     "text": [
      "\r",
      "  6%|██▋                                       | 19/303 [00:01<00:27, 10.25it/s]"
     ]
    },
    {
     "name": "stdout",
     "output_type": "stream",
     "text": [
      "\n",
      "SPLAT does not contain the filter NIRISS_F115W\n",
      "\n",
      "SPLAT does not contain the filter NIRISS_F150W\n",
      "\n",
      "SPLAT does not contain the filter NIRISS_F200W\n",
      "\n",
      "SPLAT does not contain the filter NIRISS_F115W\n",
      "\n",
      "SPLAT does not contain the filter NIRISS_F150W\n",
      "\n",
      "SPLAT does not contain the filter NIRISS_F200W\n",
      "\n",
      "SPLAT does not contain the filter NIRISS_F115W\n"
     ]
    },
    {
     "name": "stderr",
     "output_type": "stream",
     "text": [
      "\r",
      "  7%|██▉                                       | 21/303 [00:02<00:27, 10.27it/s]"
     ]
    },
    {
     "name": "stdout",
     "output_type": "stream",
     "text": [
      "\n",
      "SPLAT does not contain the filter NIRISS_F150W\n",
      "\n",
      "SPLAT does not contain the filter NIRISS_F200W\n",
      "\n",
      "SPLAT does not contain the filter NIRISS_F115W\n",
      "\n",
      "SPLAT does not contain the filter NIRISS_F150W\n",
      "\n",
      "SPLAT does not contain the filter NIRISS_F200W\n",
      "\n",
      "SPLAT does not contain the filter NIRISS_F115W\n",
      "\n",
      "SPLAT does not contain the filter NIRISS_F150W\n"
     ]
    },
    {
     "name": "stderr",
     "output_type": "stream",
     "text": [
      "\r",
      "  8%|███▏                                      | 23/303 [00:02<00:27, 10.26it/s]"
     ]
    },
    {
     "name": "stdout",
     "output_type": "stream",
     "text": [
      "\n",
      "SPLAT does not contain the filter NIRISS_F200W\n",
      "\n",
      "SPLAT does not contain the filter NIRISS_F115W\n",
      "\n",
      "SPLAT does not contain the filter NIRISS_F150W\n",
      "\n",
      "SPLAT does not contain the filter NIRISS_F200W\n",
      "\n",
      "SPLAT does not contain the filter NIRISS_F115W\n",
      "\n",
      "SPLAT does not contain the filter NIRISS_F150W\n",
      "\n",
      "SPLAT does not contain the filter NIRISS_F200W\n"
     ]
    },
    {
     "name": "stderr",
     "output_type": "stream",
     "text": [
      "  9%|███▋                                      | 27/303 [00:02<00:26, 10.27it/s]"
     ]
    },
    {
     "name": "stdout",
     "output_type": "stream",
     "text": [
      "\n",
      "SPLAT does not contain the filter NIRISS_F115W\n",
      "\n",
      "SPLAT does not contain the filter NIRISS_F150W\n",
      "\n",
      "SPLAT does not contain the filter NIRISS_F200W\n",
      "\n",
      "SPLAT does not contain the filter NIRISS_F115W\n",
      "\n",
      "SPLAT does not contain the filter NIRISS_F150W\n",
      "\n",
      "SPLAT does not contain the filter NIRISS_F200W\n",
      "\n",
      "SPLAT does not contain the filter NIRISS_F115W\n"
     ]
    },
    {
     "name": "stderr",
     "output_type": "stream",
     "text": [
      "\r",
      " 10%|████                                      | 29/303 [00:02<00:26, 10.28it/s]"
     ]
    },
    {
     "name": "stdout",
     "output_type": "stream",
     "text": [
      "\n",
      "SPLAT does not contain the filter NIRISS_F150W\n",
      "\n",
      "SPLAT does not contain the filter NIRISS_F200W\n",
      "\n",
      "SPLAT does not contain the filter NIRISS_F115W\n",
      "\n",
      "SPLAT does not contain the filter NIRISS_F150W\n",
      "\n",
      "SPLAT does not contain the filter NIRISS_F200W\n",
      "\n",
      "SPLAT does not contain the filter NIRISS_F115W\n",
      "\n",
      "SPLAT does not contain the filter NIRISS_F150W\n"
     ]
    },
    {
     "name": "stderr",
     "output_type": "stream",
     "text": [
      "\r",
      " 10%|████▎                                     | 31/303 [00:03<00:26, 10.27it/s]"
     ]
    },
    {
     "name": "stdout",
     "output_type": "stream",
     "text": [
      "\n",
      "SPLAT does not contain the filter NIRISS_F200W\n",
      "\n",
      "SPLAT does not contain the filter NIRISS_F115W\n",
      "\n",
      "SPLAT does not contain the filter NIRISS_F150W\n",
      "\n",
      "SPLAT does not contain the filter NIRISS_F200W\n",
      "\n",
      "SPLAT does not contain the filter NIRISS_F115W\n",
      "\n",
      "SPLAT does not contain the filter NIRISS_F150W\n",
      "\n",
      "SPLAT does not contain the filter NIRISS_F200W\n"
     ]
    },
    {
     "name": "stderr",
     "output_type": "stream",
     "text": [
      "\r",
      " 11%|████▌                                     | 33/303 [00:03<00:26, 10.27it/s]"
     ]
    },
    {
     "name": "stdout",
     "output_type": "stream",
     "text": [
      "\n",
      "SPLAT does not contain the filter NIRISS_F115W\n",
      "\n",
      "SPLAT does not contain the filter NIRISS_F150W\n",
      "\n",
      "SPLAT does not contain the filter NIRISS_F200W\n",
      "\n",
      "SPLAT does not contain the filter NIRISS_F115W\n",
      "\n",
      "SPLAT does not contain the filter NIRISS_F150W\n",
      "\n",
      "SPLAT does not contain the filter NIRISS_F200W\n",
      "\n",
      "SPLAT does not contain the filter NIRISS_F115W\n"
     ]
    },
    {
     "name": "stderr",
     "output_type": "stream",
     "text": [
      "\r",
      " 12%|████▊                                     | 35/303 [00:03<00:26, 10.27it/s]"
     ]
    },
    {
     "name": "stdout",
     "output_type": "stream",
     "text": [
      "\n",
      "SPLAT does not contain the filter NIRISS_F150W\n",
      "\n",
      "SPLAT does not contain the filter NIRISS_F200W\n",
      "\n",
      "SPLAT does not contain the filter NIRISS_F115W\n",
      "\n",
      "SPLAT does not contain the filter NIRISS_F150W\n",
      "\n",
      "SPLAT does not contain the filter NIRISS_F200W\n",
      "\n",
      "SPLAT does not contain the filter NIRISS_F115W\n",
      "\n",
      "SPLAT does not contain the filter NIRISS_F150W\n"
     ]
    },
    {
     "name": "stderr",
     "output_type": "stream",
     "text": [
      "\r",
      " 12%|█████▏                                    | 37/303 [00:03<00:25, 10.27it/s]"
     ]
    },
    {
     "name": "stdout",
     "output_type": "stream",
     "text": [
      "\n",
      "SPLAT does not contain the filter NIRISS_F200W\n",
      "\n",
      "SPLAT does not contain the filter NIRISS_F115W\n",
      "\n",
      "SPLAT does not contain the filter NIRISS_F150W\n",
      "\n",
      "SPLAT does not contain the filter NIRISS_F200W\n",
      "\n",
      "SPLAT does not contain the filter NIRISS_F115W\n",
      "\n",
      "SPLAT does not contain the filter NIRISS_F150W\n",
      "\n",
      "SPLAT does not contain the filter NIRISS_F200W\n"
     ]
    },
    {
     "name": "stderr",
     "output_type": "stream",
     "text": [
      " 14%|█████▋                                    | 41/303 [00:04<00:25, 10.28it/s]"
     ]
    },
    {
     "name": "stdout",
     "output_type": "stream",
     "text": [
      "\n",
      "SPLAT does not contain the filter NIRISS_F115W\n",
      "\n",
      "SPLAT does not contain the filter NIRISS_F150W\n",
      "\n",
      "SPLAT does not contain the filter NIRISS_F200W\n",
      "\n",
      "SPLAT does not contain the filter NIRISS_F115W\n",
      "\n",
      "SPLAT does not contain the filter NIRISS_F150W\n",
      "\n",
      "SPLAT does not contain the filter NIRISS_F200W\n",
      "\n",
      "SPLAT does not contain the filter NIRISS_F115W\n"
     ]
    },
    {
     "name": "stderr",
     "output_type": "stream",
     "text": [
      "\r",
      " 14%|█████▉                                    | 43/303 [00:04<00:25, 10.38it/s]"
     ]
    },
    {
     "name": "stdout",
     "output_type": "stream",
     "text": [
      "\n",
      "SPLAT does not contain the filter NIRISS_F150W\n",
      "\n",
      "SPLAT does not contain the filter NIRISS_F200W\n",
      "\n",
      "SPLAT does not contain the filter NIRISS_F115W\n",
      "\n",
      "SPLAT does not contain the filter NIRISS_F150W\n",
      "\n",
      "SPLAT does not contain the filter NIRISS_F200W\n",
      "\n",
      "SPLAT does not contain the filter NIRISS_F115W\n",
      "\n",
      "SPLAT does not contain the filter NIRISS_F150W\n"
     ]
    },
    {
     "name": "stderr",
     "output_type": "stream",
     "text": [
      "\r",
      " 15%|██████▏                                   | 45/303 [00:04<00:24, 10.35it/s]"
     ]
    },
    {
     "name": "stdout",
     "output_type": "stream",
     "text": [
      "\n",
      "SPLAT does not contain the filter NIRISS_F200W\n",
      "\n",
      "SPLAT does not contain the filter NIRISS_F115W\n",
      "\n",
      "SPLAT does not contain the filter NIRISS_F150W\n",
      "\n",
      "SPLAT does not contain the filter NIRISS_F200W\n",
      "\n",
      "SPLAT does not contain the filter NIRISS_F115W\n",
      "\n",
      "SPLAT does not contain the filter NIRISS_F150W\n",
      "\n",
      "SPLAT does not contain the filter NIRISS_F200W\n"
     ]
    },
    {
     "name": "stderr",
     "output_type": "stream",
     "text": [
      "\r",
      " 16%|██████▌                                   | 47/303 [00:04<00:24, 10.34it/s]"
     ]
    },
    {
     "name": "stdout",
     "output_type": "stream",
     "text": [
      "\n",
      "SPLAT does not contain the filter NIRISS_F115W\n",
      "\n",
      "SPLAT does not contain the filter NIRISS_F150W\n",
      "\n",
      "SPLAT does not contain the filter NIRISS_F200W\n",
      "\n",
      "SPLAT does not contain the filter NIRISS_F115W\n",
      "\n",
      "SPLAT does not contain the filter NIRISS_F150W\n",
      "\n",
      "SPLAT does not contain the filter NIRISS_F200W\n",
      "\n",
      "SPLAT does not contain the filter NIRISS_F115W\n"
     ]
    },
    {
     "name": "stderr",
     "output_type": "stream",
     "text": [
      "\r",
      " 16%|██████▊                                   | 49/303 [00:04<00:24, 10.30it/s]"
     ]
    },
    {
     "name": "stdout",
     "output_type": "stream",
     "text": [
      "\n",
      "SPLAT does not contain the filter NIRISS_F150W\n",
      "\n",
      "SPLAT does not contain the filter NIRISS_F200W\n",
      "\n",
      "SPLAT does not contain the filter NIRISS_F115W\n",
      "\n",
      "SPLAT does not contain the filter NIRISS_F150W\n",
      "\n",
      "SPLAT does not contain the filter NIRISS_F200W\n",
      "\n",
      "SPLAT does not contain the filter NIRISS_F115W\n",
      "\n",
      "SPLAT does not contain the filter NIRISS_F150W\n"
     ]
    },
    {
     "name": "stderr",
     "output_type": "stream",
     "text": [
      "\r",
      " 17%|███████                                   | 51/303 [00:04<00:24, 10.38it/s]"
     ]
    },
    {
     "name": "stdout",
     "output_type": "stream",
     "text": [
      "\n",
      "SPLAT does not contain the filter NIRISS_F200W\n",
      "\n",
      "SPLAT does not contain the filter NIRISS_F115W\n",
      "\n",
      "SPLAT does not contain the filter NIRISS_F150W\n",
      "\n",
      "SPLAT does not contain the filter NIRISS_F200W\n",
      "\n",
      "SPLAT does not contain the filter NIRISS_F115W\n",
      "\n",
      "SPLAT does not contain the filter NIRISS_F150W\n",
      "\n",
      "SPLAT does not contain the filter NIRISS_F200W\n"
     ]
    },
    {
     "name": "stderr",
     "output_type": "stream",
     "text": [
      " 18%|███████▌                                  | 55/303 [00:05<00:23, 10.56it/s]"
     ]
    },
    {
     "name": "stdout",
     "output_type": "stream",
     "text": [
      "\n",
      "SPLAT does not contain the filter NIRISS_F115W\n",
      "\n",
      "SPLAT does not contain the filter NIRISS_F150W\n",
      "\n",
      "SPLAT does not contain the filter NIRISS_F200W\n",
      "\n",
      "SPLAT does not contain the filter NIRISS_F115W\n",
      "\n",
      "SPLAT does not contain the filter NIRISS_F150W\n",
      "\n",
      "SPLAT does not contain the filter NIRISS_F200W\n",
      "\n",
      "SPLAT does not contain the filter NIRISS_F115W\n"
     ]
    },
    {
     "name": "stderr",
     "output_type": "stream",
     "text": [
      "\r",
      " 19%|███████▉                                  | 57/303 [00:05<00:23, 10.61it/s]"
     ]
    },
    {
     "name": "stdout",
     "output_type": "stream",
     "text": [
      "\n",
      "SPLAT does not contain the filter NIRISS_F150W\n",
      "\n",
      "SPLAT does not contain the filter NIRISS_F200W\n",
      "\n",
      "SPLAT does not contain the filter NIRISS_F115W\n",
      "\n",
      "SPLAT does not contain the filter NIRISS_F150W\n",
      "\n",
      "SPLAT does not contain the filter NIRISS_F200W\n",
      "\n",
      "SPLAT does not contain the filter NIRISS_F115W\n",
      "\n",
      "SPLAT does not contain the filter NIRISS_F150W\n"
     ]
    },
    {
     "name": "stderr",
     "output_type": "stream",
     "text": [
      "\r",
      " 19%|████████▏                                 | 59/303 [00:05<00:23, 10.51it/s]"
     ]
    },
    {
     "name": "stdout",
     "output_type": "stream",
     "text": [
      "\n",
      "SPLAT does not contain the filter NIRISS_F200W\n",
      "\n",
      "SPLAT does not contain the filter NIRISS_F115W\n",
      "\n",
      "SPLAT does not contain the filter NIRISS_F150W\n",
      "\n",
      "SPLAT does not contain the filter NIRISS_F200W\n",
      "\n",
      "SPLAT does not contain the filter NIRISS_F115W\n",
      "\n",
      "SPLAT does not contain the filter NIRISS_F150W\n",
      "\n",
      "SPLAT does not contain the filter NIRISS_F200W\n"
     ]
    },
    {
     "name": "stderr",
     "output_type": "stream",
     "text": [
      "\r",
      " 20%|████████▍                                 | 61/303 [00:05<00:23, 10.43it/s]"
     ]
    },
    {
     "name": "stdout",
     "output_type": "stream",
     "text": [
      "\n",
      "SPLAT does not contain the filter NIRISS_F115W\n",
      "\n",
      "SPLAT does not contain the filter NIRISS_F150W\n",
      "\n",
      "SPLAT does not contain the filter NIRISS_F200W\n",
      "\n",
      "SPLAT does not contain the filter NIRISS_F115W\n",
      "\n",
      "SPLAT does not contain the filter NIRISS_F150W\n",
      "\n",
      "SPLAT does not contain the filter NIRISS_F200W\n",
      "\n",
      "SPLAT does not contain the filter NIRISS_F115W\n"
     ]
    },
    {
     "name": "stderr",
     "output_type": "stream",
     "text": [
      "\r",
      " 21%|████████▋                                 | 63/303 [00:06<00:23, 10.41it/s]"
     ]
    },
    {
     "name": "stdout",
     "output_type": "stream",
     "text": [
      "\n",
      "SPLAT does not contain the filter NIRISS_F150W\n",
      "\n",
      "SPLAT does not contain the filter NIRISS_F200W\n",
      "\n",
      "SPLAT does not contain the filter NIRISS_F115W\n",
      "\n",
      "SPLAT does not contain the filter NIRISS_F150W\n",
      "\n",
      "SPLAT does not contain the filter NIRISS_F200W\n",
      "\n",
      "SPLAT does not contain the filter NIRISS_F115W\n",
      "\n",
      "SPLAT does not contain the filter NIRISS_F150W\n"
     ]
    },
    {
     "name": "stderr",
     "output_type": "stream",
     "text": [
      "\r",
      " 21%|█████████                                 | 65/303 [00:06<00:22, 10.36it/s]"
     ]
    },
    {
     "name": "stdout",
     "output_type": "stream",
     "text": [
      "\n",
      "SPLAT does not contain the filter NIRISS_F200W\n",
      "\n",
      "SPLAT does not contain the filter NIRISS_F115W\n",
      "\n",
      "SPLAT does not contain the filter NIRISS_F150W\n",
      "\n",
      "SPLAT does not contain the filter NIRISS_F200W\n",
      "\n",
      "SPLAT does not contain the filter NIRISS_F115W\n",
      "\n",
      "SPLAT does not contain the filter NIRISS_F150W\n",
      "\n",
      "SPLAT does not contain the filter NIRISS_F200W\n"
     ]
    },
    {
     "name": "stderr",
     "output_type": "stream",
     "text": [
      " 23%|█████████▌                                | 69/303 [00:06<00:22, 10.35it/s]"
     ]
    },
    {
     "name": "stdout",
     "output_type": "stream",
     "text": [
      "\n",
      "SPLAT does not contain the filter NIRISS_F115W\n",
      "\n",
      "SPLAT does not contain the filter NIRISS_F150W\n",
      "\n",
      "SPLAT does not contain the filter NIRISS_F200W\n",
      "\n",
      "SPLAT does not contain the filter NIRISS_F115W\n",
      "\n",
      "SPLAT does not contain the filter NIRISS_F150W\n",
      "\n",
      "SPLAT does not contain the filter NIRISS_F200W\n",
      "\n",
      "SPLAT does not contain the filter NIRISS_F115W\n"
     ]
    },
    {
     "name": "stderr",
     "output_type": "stream",
     "text": [
      "\r",
      " 23%|█████████▊                                | 71/303 [00:06<00:22, 10.32it/s]"
     ]
    },
    {
     "name": "stdout",
     "output_type": "stream",
     "text": [
      "\n",
      "SPLAT does not contain the filter NIRISS_F150W\n",
      "\n",
      "SPLAT does not contain the filter NIRISS_F200W\n",
      "\n",
      "SPLAT does not contain the filter NIRISS_F115W\n",
      "\n",
      "SPLAT does not contain the filter NIRISS_F150W\n",
      "\n",
      "SPLAT does not contain the filter NIRISS_F200W\n",
      "\n",
      "SPLAT does not contain the filter NIRISS_F115W\n",
      "\n",
      "SPLAT does not contain the filter NIRISS_F150W\n"
     ]
    },
    {
     "name": "stderr",
     "output_type": "stream",
     "text": [
      "\r",
      " 24%|██████████                                | 73/303 [00:07<00:22, 10.33it/s]"
     ]
    },
    {
     "name": "stdout",
     "output_type": "stream",
     "text": [
      "\n",
      "SPLAT does not contain the filter NIRISS_F200W\n",
      "\n",
      "SPLAT does not contain the filter NIRISS_F115W\n",
      "\n",
      "SPLAT does not contain the filter NIRISS_F150W\n",
      "\n",
      "SPLAT does not contain the filter NIRISS_F200W\n",
      "\n",
      "SPLAT does not contain the filter NIRISS_F115W\n",
      "\n",
      "SPLAT does not contain the filter NIRISS_F150W\n",
      "\n",
      "SPLAT does not contain the filter NIRISS_F200W\n"
     ]
    },
    {
     "name": "stderr",
     "output_type": "stream",
     "text": [
      "\r",
      " 25%|██████████▍                               | 75/303 [00:07<00:22, 10.31it/s]"
     ]
    },
    {
     "name": "stdout",
     "output_type": "stream",
     "text": [
      "\n",
      "SPLAT does not contain the filter NIRISS_F115W\n",
      "\n",
      "SPLAT does not contain the filter NIRISS_F150W\n",
      "\n",
      "SPLAT does not contain the filter NIRISS_F200W\n",
      "\n",
      "SPLAT does not contain the filter NIRISS_F115W\n",
      "\n",
      "SPLAT does not contain the filter NIRISS_F150W\n",
      "\n",
      "SPLAT does not contain the filter NIRISS_F200W\n",
      "\n",
      "SPLAT does not contain the filter NIRISS_F115W\n"
     ]
    },
    {
     "name": "stderr",
     "output_type": "stream",
     "text": [
      "\r",
      " 25%|██████████▋                               | 77/303 [00:07<00:21, 10.30it/s]"
     ]
    },
    {
     "name": "stdout",
     "output_type": "stream",
     "text": [
      "\n",
      "SPLAT does not contain the filter NIRISS_F150W\n",
      "\n",
      "SPLAT does not contain the filter NIRISS_F200W\n",
      "\n",
      "SPLAT does not contain the filter NIRISS_F115W\n",
      "\n",
      "SPLAT does not contain the filter NIRISS_F150W\n",
      "\n",
      "SPLAT does not contain the filter NIRISS_F200W\n",
      "\n",
      "SPLAT does not contain the filter NIRISS_F115W\n",
      "\n",
      "SPLAT does not contain the filter NIRISS_F150W\n"
     ]
    },
    {
     "name": "stderr",
     "output_type": "stream",
     "text": [
      "\r",
      " 26%|██████████▉                               | 79/303 [00:07<00:21, 10.28it/s]"
     ]
    },
    {
     "name": "stdout",
     "output_type": "stream",
     "text": [
      "\n",
      "SPLAT does not contain the filter NIRISS_F200W\n",
      "\n",
      "SPLAT does not contain the filter NIRISS_F115W\n",
      "\n",
      "SPLAT does not contain the filter NIRISS_F150W\n",
      "\n",
      "SPLAT does not contain the filter NIRISS_F200W\n",
      "\n",
      "SPLAT does not contain the filter NIRISS_F115W\n",
      "\n",
      "SPLAT does not contain the filter NIRISS_F150W\n",
      "\n",
      "SPLAT does not contain the filter NIRISS_F200W\n"
     ]
    },
    {
     "name": "stderr",
     "output_type": "stream",
     "text": [
      " 27%|███████████▌                              | 83/303 [00:08<00:21, 10.24it/s]"
     ]
    },
    {
     "name": "stdout",
     "output_type": "stream",
     "text": [
      "\n",
      "SPLAT does not contain the filter NIRISS_F115W\n",
      "\n",
      "SPLAT does not contain the filter NIRISS_F150W\n",
      "\n",
      "SPLAT does not contain the filter NIRISS_F200W\n",
      "\n",
      "SPLAT does not contain the filter NIRISS_F115W\n",
      "\n",
      "SPLAT does not contain the filter NIRISS_F150W\n",
      "\n",
      "SPLAT does not contain the filter NIRISS_F200W\n",
      "\n",
      "SPLAT does not contain the filter NIRISS_F115W\n"
     ]
    },
    {
     "name": "stderr",
     "output_type": "stream",
     "text": [
      "\r",
      " 28%|███████████▊                              | 85/303 [00:08<00:21, 10.25it/s]"
     ]
    },
    {
     "name": "stdout",
     "output_type": "stream",
     "text": [
      "\n",
      "SPLAT does not contain the filter NIRISS_F150W\n",
      "\n",
      "SPLAT does not contain the filter NIRISS_F200W\n",
      "\n",
      "SPLAT does not contain the filter NIRISS_F115W\n",
      "\n",
      "SPLAT does not contain the filter NIRISS_F150W\n",
      "\n",
      "SPLAT does not contain the filter NIRISS_F200W\n",
      "\n",
      "SPLAT does not contain the filter NIRISS_F115W\n",
      "\n",
      "SPLAT does not contain the filter NIRISS_F150W\n"
     ]
    },
    {
     "name": "stderr",
     "output_type": "stream",
     "text": [
      "\r",
      " 29%|████████████                              | 87/303 [00:08<00:21, 10.24it/s]"
     ]
    },
    {
     "name": "stdout",
     "output_type": "stream",
     "text": [
      "\n",
      "SPLAT does not contain the filter NIRISS_F200W\n",
      "\n",
      "SPLAT does not contain the filter NIRISS_F115W\n",
      "\n",
      "SPLAT does not contain the filter NIRISS_F150W\n",
      "\n",
      "SPLAT does not contain the filter NIRISS_F200W\n",
      "\n",
      "SPLAT does not contain the filter NIRISS_F115W\n",
      "\n",
      "SPLAT does not contain the filter NIRISS_F150W\n",
      "\n",
      "SPLAT does not contain the filter NIRISS_F200W\n"
     ]
    },
    {
     "name": "stderr",
     "output_type": "stream",
     "text": [
      "\r",
      " 29%|████████████▎                             | 89/303 [00:08<00:20, 10.29it/s]"
     ]
    },
    {
     "name": "stdout",
     "output_type": "stream",
     "text": [
      "\n",
      "SPLAT does not contain the filter NIRISS_F115W\n",
      "\n",
      "SPLAT does not contain the filter NIRISS_F150W\n",
      "\n",
      "SPLAT does not contain the filter NIRISS_F200W\n",
      "\n",
      "SPLAT does not contain the filter NIRISS_F115W\n",
      "\n",
      "SPLAT does not contain the filter NIRISS_F150W\n",
      "\n",
      "SPLAT does not contain the filter NIRISS_F200W\n",
      "\n",
      "SPLAT does not contain the filter NIRISS_F115W\n"
     ]
    },
    {
     "name": "stderr",
     "output_type": "stream",
     "text": [
      "\r",
      " 30%|████████████▌                             | 91/303 [00:08<00:20, 10.31it/s]"
     ]
    },
    {
     "name": "stdout",
     "output_type": "stream",
     "text": [
      "\n",
      "SPLAT does not contain the filter NIRISS_F150W\n",
      "\n",
      "SPLAT does not contain the filter NIRISS_F200W\n",
      "\n",
      "SPLAT does not contain the filter NIRISS_F115W\n",
      "\n",
      "SPLAT does not contain the filter NIRISS_F150W\n",
      "\n",
      "SPLAT does not contain the filter NIRISS_F200W\n",
      "\n",
      "SPLAT does not contain the filter NIRISS_F115W\n",
      "\n",
      "SPLAT does not contain the filter NIRISS_F150W\n"
     ]
    },
    {
     "name": "stderr",
     "output_type": "stream",
     "text": [
      "\r",
      " 31%|████████████▉                             | 93/303 [00:09<00:20, 10.30it/s]"
     ]
    },
    {
     "name": "stdout",
     "output_type": "stream",
     "text": [
      "\n",
      "SPLAT does not contain the filter NIRISS_F200W\n",
      "\n",
      "SPLAT does not contain the filter NIRISS_F115W\n",
      "\n",
      "SPLAT does not contain the filter NIRISS_F150W\n",
      "\n",
      "SPLAT does not contain the filter NIRISS_F200W\n",
      "\n",
      "SPLAT does not contain the filter NIRISS_F115W\n",
      "\n",
      "SPLAT does not contain the filter NIRISS_F150W\n",
      "\n",
      "SPLAT does not contain the filter NIRISS_F200W\n"
     ]
    },
    {
     "name": "stderr",
     "output_type": "stream",
     "text": [
      " 32%|█████████████▍                            | 97/303 [00:09<00:19, 10.31it/s]"
     ]
    },
    {
     "name": "stdout",
     "output_type": "stream",
     "text": [
      "\n",
      "SPLAT does not contain the filter NIRISS_F115W\n",
      "\n",
      "SPLAT does not contain the filter NIRISS_F150W\n",
      "\n",
      "SPLAT does not contain the filter NIRISS_F200W\n",
      "\n",
      "SPLAT does not contain the filter NIRISS_F115W\n",
      "\n",
      "SPLAT does not contain the filter NIRISS_F150W\n",
      "\n",
      "SPLAT does not contain the filter NIRISS_F200W\n",
      "\n",
      "SPLAT does not contain the filter NIRISS_F115W\n"
     ]
    },
    {
     "name": "stderr",
     "output_type": "stream",
     "text": [
      "\r",
      " 33%|█████████████▋                            | 99/303 [00:09<00:19, 10.31it/s]"
     ]
    },
    {
     "name": "stdout",
     "output_type": "stream",
     "text": [
      "\n",
      "SPLAT does not contain the filter NIRISS_F150W\n",
      "\n",
      "SPLAT does not contain the filter NIRISS_F200W\n",
      "\n",
      "SPLAT does not contain the filter NIRISS_F115W\n",
      "\n",
      "SPLAT does not contain the filter NIRISS_F150W\n",
      "\n",
      "SPLAT does not contain the filter NIRISS_F200W\n",
      "\n",
      "SPLAT does not contain the filter NIRISS_F115W\n",
      "\n",
      "SPLAT does not contain the filter NIRISS_F150W\n"
     ]
    },
    {
     "name": "stderr",
     "output_type": "stream",
     "text": [
      "\r",
      " 33%|█████████████▋                           | 101/303 [00:09<00:19, 10.29it/s]"
     ]
    },
    {
     "name": "stdout",
     "output_type": "stream",
     "text": [
      "\n",
      "SPLAT does not contain the filter NIRISS_F200W\n",
      "\n",
      "SPLAT does not contain the filter NIRISS_F115W\n",
      "\n",
      "SPLAT does not contain the filter NIRISS_F150W\n",
      "\n",
      "SPLAT does not contain the filter NIRISS_F200W\n",
      "\n",
      "SPLAT does not contain the filter NIRISS_F115W\n",
      "\n",
      "SPLAT does not contain the filter NIRISS_F150W\n",
      "\n",
      "SPLAT does not contain the filter NIRISS_F200W\n"
     ]
    },
    {
     "name": "stderr",
     "output_type": "stream",
     "text": [
      "\r",
      " 34%|█████████████▉                           | 103/303 [00:10<00:19, 10.29it/s]"
     ]
    },
    {
     "name": "stdout",
     "output_type": "stream",
     "text": [
      "\n",
      "SPLAT does not contain the filter NIRISS_F115W\n",
      "\n",
      "SPLAT does not contain the filter NIRISS_F150W\n",
      "\n",
      "SPLAT does not contain the filter NIRISS_F200W\n",
      "\n",
      "SPLAT does not contain the filter NIRISS_F115W\n",
      "\n",
      "SPLAT does not contain the filter NIRISS_F150W\n",
      "\n",
      "SPLAT does not contain the filter NIRISS_F200W\n",
      "\n",
      "SPLAT does not contain the filter NIRISS_F115W\n"
     ]
    },
    {
     "name": "stderr",
     "output_type": "stream",
     "text": [
      "\r",
      " 35%|██████████████▏                          | 105/303 [00:10<00:19, 10.28it/s]"
     ]
    },
    {
     "name": "stdout",
     "output_type": "stream",
     "text": [
      "\n",
      "SPLAT does not contain the filter NIRISS_F150W\n",
      "\n",
      "SPLAT does not contain the filter NIRISS_F200W\n",
      "\n",
      "SPLAT does not contain the filter NIRISS_F115W\n",
      "\n",
      "SPLAT does not contain the filter NIRISS_F150W\n",
      "\n",
      "SPLAT does not contain the filter NIRISS_F200W\n",
      "\n",
      "SPLAT does not contain the filter NIRISS_F115W\n",
      "\n",
      "SPLAT does not contain the filter NIRISS_F150W\n"
     ]
    },
    {
     "name": "stderr",
     "output_type": "stream",
     "text": [
      "\r",
      " 35%|██████████████▍                          | 107/303 [00:10<00:19, 10.28it/s]"
     ]
    },
    {
     "name": "stdout",
     "output_type": "stream",
     "text": [
      "\n",
      "SPLAT does not contain the filter NIRISS_F200W\n",
      "\n",
      "SPLAT does not contain the filter NIRISS_F115W\n",
      "\n",
      "SPLAT does not contain the filter NIRISS_F150W\n",
      "\n",
      "SPLAT does not contain the filter NIRISS_F200W\n",
      "\n",
      "SPLAT does not contain the filter NIRISS_F115W\n",
      "\n",
      "SPLAT does not contain the filter NIRISS_F150W\n",
      "\n",
      "SPLAT does not contain the filter NIRISS_F200W\n"
     ]
    },
    {
     "name": "stderr",
     "output_type": "stream",
     "text": [
      " 37%|███████████████                          | 111/303 [00:10<00:18, 10.29it/s]"
     ]
    },
    {
     "name": "stdout",
     "output_type": "stream",
     "text": [
      "\n",
      "SPLAT does not contain the filter NIRISS_F115W\n",
      "\n",
      "SPLAT does not contain the filter NIRISS_F150W\n",
      "\n",
      "SPLAT does not contain the filter NIRISS_F200W\n",
      "\n",
      "SPLAT does not contain the filter NIRISS_F115W\n",
      "\n",
      "SPLAT does not contain the filter NIRISS_F150W\n",
      "\n",
      "SPLAT does not contain the filter NIRISS_F200W\n",
      "\n",
      "SPLAT does not contain the filter NIRISS_F115W\n"
     ]
    },
    {
     "name": "stderr",
     "output_type": "stream",
     "text": [
      "\r",
      " 37%|███████████████▎                         | 113/303 [00:10<00:18, 10.29it/s]"
     ]
    },
    {
     "name": "stdout",
     "output_type": "stream",
     "text": [
      "\n",
      "SPLAT does not contain the filter NIRISS_F150W\n",
      "\n",
      "SPLAT does not contain the filter NIRISS_F200W\n",
      "\n",
      "SPLAT does not contain the filter NIRISS_F115W\n",
      "\n",
      "SPLAT does not contain the filter NIRISS_F150W\n",
      "\n",
      "SPLAT does not contain the filter NIRISS_F200W\n",
      "\n",
      "SPLAT does not contain the filter NIRISS_F115W\n",
      "\n",
      "SPLAT does not contain the filter NIRISS_F150W\n"
     ]
    },
    {
     "name": "stderr",
     "output_type": "stream",
     "text": [
      "\r",
      " 38%|███████████████▌                         | 115/303 [00:11<00:18, 10.33it/s]"
     ]
    },
    {
     "name": "stdout",
     "output_type": "stream",
     "text": [
      "\n",
      "SPLAT does not contain the filter NIRISS_F200W\n",
      "\n",
      "SPLAT does not contain the filter NIRISS_F115W\n",
      "\n",
      "SPLAT does not contain the filter NIRISS_F150W\n",
      "\n",
      "SPLAT does not contain the filter NIRISS_F200W\n",
      "\n",
      "SPLAT does not contain the filter NIRISS_F115W\n",
      "\n",
      "SPLAT does not contain the filter NIRISS_F150W\n",
      "\n",
      "SPLAT does not contain the filter NIRISS_F200W\n"
     ]
    },
    {
     "name": "stderr",
     "output_type": "stream",
     "text": [
      "\r",
      " 39%|███████████████▊                         | 117/303 [00:11<00:18, 10.29it/s]"
     ]
    },
    {
     "name": "stdout",
     "output_type": "stream",
     "text": [
      "\n",
      "SPLAT does not contain the filter NIRISS_F115W\n",
      "\n",
      "SPLAT does not contain the filter NIRISS_F150W\n",
      "\n",
      "SPLAT does not contain the filter NIRISS_F200W\n",
      "\n",
      "SPLAT does not contain the filter NIRISS_F115W\n",
      "\n",
      "SPLAT does not contain the filter NIRISS_F150W\n",
      "\n",
      "SPLAT does not contain the filter NIRISS_F200W\n",
      "\n",
      "SPLAT does not contain the filter NIRISS_F115W\n"
     ]
    },
    {
     "name": "stderr",
     "output_type": "stream",
     "text": [
      "\r",
      " 39%|████████████████                         | 119/303 [00:11<00:17, 10.25it/s]"
     ]
    },
    {
     "name": "stdout",
     "output_type": "stream",
     "text": [
      "\n",
      "SPLAT does not contain the filter NIRISS_F150W\n",
      "\n",
      "SPLAT does not contain the filter NIRISS_F200W\n",
      "\n",
      "SPLAT does not contain the filter NIRISS_F115W\n",
      "\n",
      "SPLAT does not contain the filter NIRISS_F150W\n",
      "\n",
      "SPLAT does not contain the filter NIRISS_F200W\n",
      "\n",
      "SPLAT does not contain the filter NIRISS_F115W\n",
      "\n",
      "SPLAT does not contain the filter NIRISS_F150W\n"
     ]
    },
    {
     "name": "stderr",
     "output_type": "stream",
     "text": [
      "\r",
      " 40%|████████████████▎                        | 121/303 [00:11<00:17, 10.24it/s]"
     ]
    },
    {
     "name": "stdout",
     "output_type": "stream",
     "text": [
      "\n",
      "SPLAT does not contain the filter NIRISS_F200W\n",
      "\n",
      "SPLAT does not contain the filter NIRISS_F115W\n",
      "\n",
      "SPLAT does not contain the filter NIRISS_F150W\n",
      "\n",
      "SPLAT does not contain the filter NIRISS_F200W\n",
      "\n",
      "SPLAT does not contain the filter NIRISS_F115W\n",
      "\n",
      "SPLAT does not contain the filter NIRISS_F150W\n",
      "\n",
      "SPLAT does not contain the filter NIRISS_F200W\n"
     ]
    },
    {
     "name": "stderr",
     "output_type": "stream",
     "text": [
      " 41%|████████████████▉                        | 125/303 [00:12<00:17, 10.28it/s]"
     ]
    },
    {
     "name": "stdout",
     "output_type": "stream",
     "text": [
      "\n",
      "SPLAT does not contain the filter NIRISS_F115W\n",
      "\n",
      "SPLAT does not contain the filter NIRISS_F150W\n",
      "\n",
      "SPLAT does not contain the filter NIRISS_F200W\n",
      "\n",
      "SPLAT does not contain the filter NIRISS_F115W\n",
      "\n",
      "SPLAT does not contain the filter NIRISS_F150W\n",
      "\n",
      "SPLAT does not contain the filter NIRISS_F200W\n",
      "\n",
      "SPLAT does not contain the filter NIRISS_F115W\n"
     ]
    },
    {
     "name": "stderr",
     "output_type": "stream",
     "text": [
      "\r",
      " 42%|█████████████████▏                       | 127/303 [00:12<00:17, 10.28it/s]"
     ]
    },
    {
     "name": "stdout",
     "output_type": "stream",
     "text": [
      "\n",
      "SPLAT does not contain the filter NIRISS_F150W\n",
      "\n",
      "SPLAT does not contain the filter NIRISS_F200W\n",
      "\n",
      "SPLAT does not contain the filter NIRISS_F115W\n",
      "\n",
      "SPLAT does not contain the filter NIRISS_F150W\n",
      "\n",
      "SPLAT does not contain the filter NIRISS_F200W\n",
      "\n",
      "SPLAT does not contain the filter NIRISS_F115W\n",
      "\n",
      "SPLAT does not contain the filter NIRISS_F150W\n"
     ]
    },
    {
     "name": "stderr",
     "output_type": "stream",
     "text": [
      "\r",
      " 43%|█████████████████▍                       | 129/303 [00:12<00:17, 10.22it/s]"
     ]
    },
    {
     "name": "stdout",
     "output_type": "stream",
     "text": [
      "\n",
      "SPLAT does not contain the filter NIRISS_F200W\n",
      "\n",
      "SPLAT does not contain the filter NIRISS_F115W\n",
      "\n",
      "SPLAT does not contain the filter NIRISS_F150W\n",
      "\n",
      "SPLAT does not contain the filter NIRISS_F200W\n",
      "\n",
      "SPLAT does not contain the filter NIRISS_F115W\n",
      "\n",
      "SPLAT does not contain the filter NIRISS_F150W\n",
      "\n",
      "SPLAT does not contain the filter NIRISS_F200W\n"
     ]
    },
    {
     "name": "stderr",
     "output_type": "stream",
     "text": [
      "\r",
      " 43%|█████████████████▋                       | 131/303 [00:12<00:16, 10.23it/s]"
     ]
    },
    {
     "name": "stdout",
     "output_type": "stream",
     "text": [
      "\n",
      "SPLAT does not contain the filter NIRISS_F115W\n",
      "\n",
      "SPLAT does not contain the filter NIRISS_F150W\n",
      "\n",
      "SPLAT does not contain the filter NIRISS_F200W\n",
      "\n",
      "SPLAT does not contain the filter NIRISS_F115W\n",
      "\n",
      "SPLAT does not contain the filter NIRISS_F150W\n",
      "\n",
      "SPLAT does not contain the filter NIRISS_F200W\n",
      "\n",
      "SPLAT does not contain the filter NIRISS_F115W\n"
     ]
    },
    {
     "name": "stderr",
     "output_type": "stream",
     "text": [
      "\r",
      " 44%|█████████████████▉                       | 133/303 [00:12<00:16, 10.28it/s]"
     ]
    },
    {
     "name": "stdout",
     "output_type": "stream",
     "text": [
      "\n",
      "SPLAT does not contain the filter NIRISS_F150W\n",
      "\n",
      "SPLAT does not contain the filter NIRISS_F200W\n",
      "\n",
      "SPLAT does not contain the filter NIRISS_F115W\n",
      "\n",
      "SPLAT does not contain the filter NIRISS_F150W\n",
      "\n",
      "SPLAT does not contain the filter NIRISS_F200W\n",
      "\n",
      "SPLAT does not contain the filter NIRISS_F115W\n",
      "\n",
      "SPLAT does not contain the filter NIRISS_F150W\n"
     ]
    },
    {
     "name": "stderr",
     "output_type": "stream",
     "text": [
      "\r",
      " 45%|██████████████████▎                      | 135/303 [00:13<00:16, 10.28it/s]"
     ]
    },
    {
     "name": "stdout",
     "output_type": "stream",
     "text": [
      "\n",
      "SPLAT does not contain the filter NIRISS_F200W\n",
      "\n",
      "SPLAT does not contain the filter NIRISS_F115W\n",
      "\n",
      "SPLAT does not contain the filter NIRISS_F150W\n",
      "\n",
      "SPLAT does not contain the filter NIRISS_F200W\n",
      "\n",
      "SPLAT does not contain the filter NIRISS_F115W\n",
      "\n",
      "SPLAT does not contain the filter NIRISS_F150W\n",
      "\n",
      "SPLAT does not contain the filter NIRISS_F200W\n"
     ]
    },
    {
     "name": "stderr",
     "output_type": "stream",
     "text": [
      " 46%|██████████████████▊                      | 139/303 [00:13<00:15, 10.26it/s]"
     ]
    },
    {
     "name": "stdout",
     "output_type": "stream",
     "text": [
      "\n",
      "SPLAT does not contain the filter NIRISS_F115W\n",
      "\n",
      "SPLAT does not contain the filter NIRISS_F150W\n",
      "\n",
      "SPLAT does not contain the filter NIRISS_F200W\n",
      "\n",
      "SPLAT does not contain the filter NIRISS_F115W\n",
      "\n",
      "SPLAT does not contain the filter NIRISS_F150W\n",
      "\n",
      "SPLAT does not contain the filter NIRISS_F200W\n",
      "\n",
      "SPLAT does not contain the filter NIRISS_F115W\n"
     ]
    },
    {
     "name": "stderr",
     "output_type": "stream",
     "text": [
      "\r",
      " 47%|███████████████████                      | 141/303 [00:13<00:15, 10.35it/s]"
     ]
    },
    {
     "name": "stdout",
     "output_type": "stream",
     "text": [
      "\n",
      "SPLAT does not contain the filter NIRISS_F150W\n",
      "\n",
      "SPLAT does not contain the filter NIRISS_F200W\n",
      "\n",
      "SPLAT does not contain the filter NIRISS_F115W\n",
      "\n",
      "SPLAT does not contain the filter NIRISS_F150W\n",
      "\n",
      "SPLAT does not contain the filter NIRISS_F200W\n",
      "\n",
      "SPLAT does not contain the filter NIRISS_F115W\n",
      "\n",
      "SPLAT does not contain the filter NIRISS_F150W\n"
     ]
    },
    {
     "name": "stderr",
     "output_type": "stream",
     "text": [
      "\r",
      " 47%|███████████████████▎                     | 143/303 [00:13<00:15, 10.43it/s]"
     ]
    },
    {
     "name": "stdout",
     "output_type": "stream",
     "text": [
      "\n",
      "SPLAT does not contain the filter NIRISS_F200W\n",
      "\n",
      "SPLAT does not contain the filter NIRISS_F115W\n",
      "\n",
      "SPLAT does not contain the filter NIRISS_F150W\n",
      "\n",
      "SPLAT does not contain the filter NIRISS_F200W\n",
      "\n",
      "SPLAT does not contain the filter NIRISS_F115W\n"
     ]
    },
    {
     "name": "stderr",
     "output_type": "stream",
     "text": [
      "\r",
      " 48%|███████████████████▌                     | 145/303 [00:14<00:16,  9.41it/s]"
     ]
    },
    {
     "name": "stdout",
     "output_type": "stream",
     "text": [
      "\n",
      "SPLAT does not contain the filter NIRISS_F150W\n",
      "\n",
      "SPLAT does not contain the filter NIRISS_F200W\n",
      "\n",
      "SPLAT does not contain the filter NIRISS_F115W\n",
      "\n",
      "SPLAT does not contain the filter NIRISS_F150W\n",
      "\n",
      "SPLAT does not contain the filter NIRISS_F200W\n",
      "\n",
      "SPLAT does not contain the filter NIRISS_F115W\n",
      "\n",
      "SPLAT does not contain the filter NIRISS_F150W\n"
     ]
    },
    {
     "name": "stderr",
     "output_type": "stream",
     "text": [
      "\r",
      " 49%|███████████████████▉                     | 147/303 [00:14<00:15,  9.78it/s]"
     ]
    },
    {
     "name": "stdout",
     "output_type": "stream",
     "text": [
      "\n",
      "SPLAT does not contain the filter NIRISS_F200W\n",
      "\n",
      "SPLAT does not contain the filter NIRISS_F115W\n",
      "\n",
      "SPLAT does not contain the filter NIRISS_F150W\n",
      "\n",
      "SPLAT does not contain the filter NIRISS_F200W\n",
      "\n",
      "SPLAT does not contain the filter NIRISS_F115W\n",
      "\n",
      "SPLAT does not contain the filter NIRISS_F150W\n",
      "\n",
      "SPLAT does not contain the filter NIRISS_F200W\n"
     ]
    },
    {
     "name": "stderr",
     "output_type": "stream",
     "text": [
      "\r",
      " 49%|████████████████████▏                    | 149/303 [00:14<00:15, 10.09it/s]"
     ]
    },
    {
     "name": "stdout",
     "output_type": "stream",
     "text": [
      "\n",
      "SPLAT does not contain the filter NIRISS_F115W\n",
      "\n",
      "SPLAT does not contain the filter NIRISS_F150W\n",
      "\n",
      "SPLAT does not contain the filter NIRISS_F200W\n",
      "\n",
      "SPLAT does not contain the filter NIRISS_F115W\n",
      "\n",
      "SPLAT does not contain the filter NIRISS_F150W\n",
      "\n",
      "SPLAT does not contain the filter NIRISS_F200W\n",
      "\n",
      "SPLAT does not contain the filter NIRISS_F115W\n"
     ]
    },
    {
     "name": "stderr",
     "output_type": "stream",
     "text": [
      "\r",
      " 50%|████████████████████▍                    | 151/303 [00:14<00:14, 10.33it/s]"
     ]
    },
    {
     "name": "stdout",
     "output_type": "stream",
     "text": [
      "\n",
      "SPLAT does not contain the filter NIRISS_F150W\n",
      "\n",
      "SPLAT does not contain the filter NIRISS_F200W\n",
      "\n",
      "SPLAT does not contain the filter NIRISS_F115W\n",
      "\n",
      "SPLAT does not contain the filter NIRISS_F150W\n",
      "\n",
      "SPLAT does not contain the filter NIRISS_F200W\n",
      "\n",
      "SPLAT does not contain the filter NIRISS_F115W\n",
      "\n",
      "SPLAT does not contain the filter NIRISS_F150W\n"
     ]
    },
    {
     "name": "stderr",
     "output_type": "stream",
     "text": [
      "\r",
      " 50%|████████████████████▋                    | 153/303 [00:14<00:14, 10.49it/s]"
     ]
    },
    {
     "name": "stdout",
     "output_type": "stream",
     "text": [
      "\n",
      "SPLAT does not contain the filter NIRISS_F200W\n",
      "\n",
      "SPLAT does not contain the filter NIRISS_F115W\n",
      "\n",
      "SPLAT does not contain the filter NIRISS_F150W\n",
      "\n",
      "SPLAT does not contain the filter NIRISS_F200W\n",
      "\n",
      "SPLAT does not contain the filter NIRISS_F115W\n",
      "\n",
      "SPLAT does not contain the filter NIRISS_F150W\n",
      "\n",
      "SPLAT does not contain the filter NIRISS_F200W\n"
     ]
    },
    {
     "name": "stderr",
     "output_type": "stream",
     "text": [
      " 52%|█████████████████████▏                   | 157/303 [00:15<00:13, 10.70it/s]"
     ]
    },
    {
     "name": "stdout",
     "output_type": "stream",
     "text": [
      "\n",
      "SPLAT does not contain the filter NIRISS_F115W\n",
      "\n",
      "SPLAT does not contain the filter NIRISS_F150W\n",
      "\n",
      "SPLAT does not contain the filter NIRISS_F200W\n",
      "\n",
      "SPLAT does not contain the filter NIRISS_F115W\n",
      "\n",
      "SPLAT does not contain the filter NIRISS_F150W\n",
      "\n",
      "SPLAT does not contain the filter NIRISS_F200W\n",
      "\n",
      "SPLAT does not contain the filter NIRISS_F115W\n"
     ]
    },
    {
     "name": "stderr",
     "output_type": "stream",
     "text": [
      "\r",
      " 52%|█████████████████████▌                   | 159/303 [00:15<00:13, 10.82it/s]"
     ]
    },
    {
     "name": "stdout",
     "output_type": "stream",
     "text": [
      "\n",
      "SPLAT does not contain the filter NIRISS_F150W\n",
      "\n",
      "SPLAT does not contain the filter NIRISS_F200W\n",
      "\n",
      "SPLAT does not contain the filter NIRISS_F115W\n",
      "\n",
      "SPLAT does not contain the filter NIRISS_F150W\n",
      "\n",
      "SPLAT does not contain the filter NIRISS_F200W\n",
      "\n",
      "SPLAT does not contain the filter NIRISS_F115W\n",
      "\n",
      "SPLAT does not contain the filter NIRISS_F150W\n"
     ]
    },
    {
     "name": "stderr",
     "output_type": "stream",
     "text": [
      "\r",
      " 53%|█████████████████████▊                   | 161/303 [00:15<00:13, 10.83it/s]"
     ]
    },
    {
     "name": "stdout",
     "output_type": "stream",
     "text": [
      "\n",
      "SPLAT does not contain the filter NIRISS_F200W\n",
      "\n",
      "SPLAT does not contain the filter NIRISS_F115W\n",
      "\n",
      "SPLAT does not contain the filter NIRISS_F150W\n",
      "\n",
      "SPLAT does not contain the filter NIRISS_F200W\n",
      "\n",
      "SPLAT does not contain the filter NIRISS_F115W\n",
      "\n",
      "SPLAT does not contain the filter NIRISS_F150W\n",
      "\n",
      "SPLAT does not contain the filter NIRISS_F200W\n"
     ]
    },
    {
     "name": "stderr",
     "output_type": "stream",
     "text": [
      "\r",
      " 54%|██████████████████████                   | 163/303 [00:15<00:12, 10.82it/s]"
     ]
    },
    {
     "name": "stdout",
     "output_type": "stream",
     "text": [
      "\n",
      "SPLAT does not contain the filter NIRISS_F115W\n",
      "\n",
      "SPLAT does not contain the filter NIRISS_F150W\n",
      "\n",
      "SPLAT does not contain the filter NIRISS_F200W\n",
      "\n",
      "SPLAT does not contain the filter NIRISS_F115W\n",
      "\n",
      "SPLAT does not contain the filter NIRISS_F150W\n",
      "\n",
      "SPLAT does not contain the filter NIRISS_F200W\n",
      "\n",
      "SPLAT does not contain the filter NIRISS_F115W\n"
     ]
    },
    {
     "name": "stderr",
     "output_type": "stream",
     "text": [
      "\r",
      " 54%|██████████████████████▎                  | 165/303 [00:15<00:12, 10.78it/s]"
     ]
    },
    {
     "name": "stdout",
     "output_type": "stream",
     "text": [
      "\n",
      "SPLAT does not contain the filter NIRISS_F150W\n",
      "\n",
      "SPLAT does not contain the filter NIRISS_F200W\n",
      "\n",
      "SPLAT does not contain the filter NIRISS_F115W\n",
      "\n",
      "SPLAT does not contain the filter NIRISS_F150W\n",
      "\n",
      "SPLAT does not contain the filter NIRISS_F200W\n",
      "\n",
      "SPLAT does not contain the filter NIRISS_F115W\n",
      "\n",
      "SPLAT does not contain the filter NIRISS_F150W\n"
     ]
    },
    {
     "name": "stderr",
     "output_type": "stream",
     "text": [
      "\r",
      " 55%|██████████████████████▌                  | 167/303 [00:16<00:12, 10.81it/s]"
     ]
    },
    {
     "name": "stdout",
     "output_type": "stream",
     "text": [
      "\n",
      "SPLAT does not contain the filter NIRISS_F200W\n",
      "\n",
      "SPLAT does not contain the filter NIRISS_F115W\n",
      "\n",
      "SPLAT does not contain the filter NIRISS_F150W\n",
      "\n",
      "SPLAT does not contain the filter NIRISS_F200W\n",
      "\n",
      "SPLAT does not contain the filter NIRISS_F115W\n",
      "\n",
      "SPLAT does not contain the filter NIRISS_F150W\n",
      "\n",
      "SPLAT does not contain the filter NIRISS_F200W\n"
     ]
    },
    {
     "name": "stderr",
     "output_type": "stream",
     "text": [
      " 56%|███████████████████████▏                 | 171/303 [00:16<00:12, 10.90it/s]"
     ]
    },
    {
     "name": "stdout",
     "output_type": "stream",
     "text": [
      "\n",
      "SPLAT does not contain the filter NIRISS_F115W\n",
      "\n",
      "SPLAT does not contain the filter NIRISS_F150W\n",
      "\n",
      "SPLAT does not contain the filter NIRISS_F200W\n",
      "\n",
      "SPLAT does not contain the filter NIRISS_F115W\n",
      "\n",
      "SPLAT does not contain the filter NIRISS_F150W\n",
      "\n",
      "SPLAT does not contain the filter NIRISS_F200W\n",
      "\n",
      "SPLAT does not contain the filter NIRISS_F115W\n"
     ]
    },
    {
     "name": "stderr",
     "output_type": "stream",
     "text": [
      "\r",
      " 57%|███████████████████████▍                 | 173/303 [00:16<00:11, 10.98it/s]"
     ]
    },
    {
     "name": "stdout",
     "output_type": "stream",
     "text": [
      "\n",
      "SPLAT does not contain the filter NIRISS_F150W\n",
      "\n",
      "SPLAT does not contain the filter NIRISS_F200W\n",
      "\n",
      "SPLAT does not contain the filter NIRISS_F115W\n",
      "\n",
      "SPLAT does not contain the filter NIRISS_F150W\n",
      "\n",
      "SPLAT does not contain the filter NIRISS_F200W\n",
      "\n",
      "SPLAT does not contain the filter NIRISS_F115W\n",
      "\n",
      "SPLAT does not contain the filter NIRISS_F150W\n"
     ]
    },
    {
     "name": "stderr",
     "output_type": "stream",
     "text": [
      "\r",
      " 58%|███████████████████████▋                 | 175/303 [00:16<00:11, 10.96it/s]"
     ]
    },
    {
     "name": "stdout",
     "output_type": "stream",
     "text": [
      "\n",
      "SPLAT does not contain the filter NIRISS_F200W\n",
      "\n",
      "SPLAT does not contain the filter NIRISS_F115W\n",
      "\n",
      "SPLAT does not contain the filter NIRISS_F150W\n",
      "\n",
      "SPLAT does not contain the filter NIRISS_F200W\n",
      "\n",
      "SPLAT does not contain the filter NIRISS_F115W\n",
      "\n",
      "SPLAT does not contain the filter NIRISS_F150W\n",
      "\n",
      "SPLAT does not contain the filter NIRISS_F200W\n"
     ]
    },
    {
     "name": "stderr",
     "output_type": "stream",
     "text": [
      "\r",
      " 58%|███████████████████████▉                 | 177/303 [00:17<00:11, 10.81it/s]"
     ]
    },
    {
     "name": "stdout",
     "output_type": "stream",
     "text": [
      "\n",
      "SPLAT does not contain the filter NIRISS_F115W\n",
      "\n",
      "SPLAT does not contain the filter NIRISS_F150W\n",
      "\n",
      "SPLAT does not contain the filter NIRISS_F200W\n",
      "\n",
      "SPLAT does not contain the filter NIRISS_F115W\n",
      "\n",
      "SPLAT does not contain the filter NIRISS_F150W\n",
      "\n",
      "SPLAT does not contain the filter NIRISS_F200W\n",
      "\n",
      "SPLAT does not contain the filter NIRISS_F115W\n"
     ]
    },
    {
     "name": "stderr",
     "output_type": "stream",
     "text": [
      "\r",
      " 59%|████████████████████████▏                | 179/303 [00:17<00:11, 10.72it/s]"
     ]
    },
    {
     "name": "stdout",
     "output_type": "stream",
     "text": [
      "\n",
      "SPLAT does not contain the filter NIRISS_F150W\n",
      "\n",
      "SPLAT does not contain the filter NIRISS_F200W\n",
      "\n",
      "SPLAT does not contain the filter NIRISS_F115W\n",
      "\n",
      "SPLAT does not contain the filter NIRISS_F150W\n",
      "\n",
      "SPLAT does not contain the filter NIRISS_F200W\n",
      "\n",
      "SPLAT does not contain the filter NIRISS_F115W\n",
      "\n",
      "SPLAT does not contain the filter NIRISS_F150W\n"
     ]
    },
    {
     "name": "stderr",
     "output_type": "stream",
     "text": [
      "\r",
      " 60%|████████████████████████▍                | 181/303 [00:17<00:11, 10.60it/s]"
     ]
    },
    {
     "name": "stdout",
     "output_type": "stream",
     "text": [
      "\n",
      "SPLAT does not contain the filter NIRISS_F200W\n",
      "\n",
      "SPLAT does not contain the filter NIRISS_F115W\n",
      "\n",
      "SPLAT does not contain the filter NIRISS_F150W\n",
      "\n",
      "SPLAT does not contain the filter NIRISS_F200W\n",
      "\n",
      "SPLAT does not contain the filter NIRISS_F115W\n",
      "\n",
      "SPLAT does not contain the filter NIRISS_F150W\n",
      "\n",
      "SPLAT does not contain the filter NIRISS_F200W\n"
     ]
    },
    {
     "name": "stderr",
     "output_type": "stream",
     "text": [
      " 61%|█████████████████████████                | 185/303 [00:17<00:11, 10.51it/s]"
     ]
    },
    {
     "name": "stdout",
     "output_type": "stream",
     "text": [
      "\n",
      "SPLAT does not contain the filter NIRISS_F115W\n",
      "\n",
      "SPLAT does not contain the filter NIRISS_F150W\n",
      "\n",
      "SPLAT does not contain the filter NIRISS_F200W\n",
      "\n",
      "SPLAT does not contain the filter NIRISS_F115W\n",
      "\n",
      "SPLAT does not contain the filter NIRISS_F150W\n",
      "\n",
      "SPLAT does not contain the filter NIRISS_F200W\n",
      "\n",
      "SPLAT does not contain the filter NIRISS_F115W\n"
     ]
    },
    {
     "name": "stderr",
     "output_type": "stream",
     "text": [
      "\r",
      " 62%|█████████████████████████▎               | 187/303 [00:18<00:11, 10.54it/s]"
     ]
    },
    {
     "name": "stdout",
     "output_type": "stream",
     "text": [
      "\n",
      "SPLAT does not contain the filter NIRISS_F150W\n",
      "\n",
      "SPLAT does not contain the filter NIRISS_F200W\n",
      "\n",
      "SPLAT does not contain the filter NIRISS_F115W\n",
      "\n",
      "SPLAT does not contain the filter NIRISS_F150W\n",
      "\n",
      "SPLAT does not contain the filter NIRISS_F200W\n",
      "\n",
      "SPLAT does not contain the filter NIRISS_F115W\n",
      "\n",
      "SPLAT does not contain the filter NIRISS_F150W\n"
     ]
    },
    {
     "name": "stderr",
     "output_type": "stream",
     "text": [
      "\r",
      " 62%|█████████████████████████▌               | 189/303 [00:18<00:10, 10.57it/s]"
     ]
    },
    {
     "name": "stdout",
     "output_type": "stream",
     "text": [
      "\n",
      "SPLAT does not contain the filter NIRISS_F200W\n",
      "\n",
      "SPLAT does not contain the filter NIRISS_F115W\n",
      "\n",
      "SPLAT does not contain the filter NIRISS_F150W\n",
      "\n",
      "SPLAT does not contain the filter NIRISS_F200W\n",
      "\n",
      "SPLAT does not contain the filter NIRISS_F115W\n",
      "\n",
      "SPLAT does not contain the filter NIRISS_F150W\n",
      "\n",
      "SPLAT does not contain the filter NIRISS_F200W\n"
     ]
    },
    {
     "name": "stderr",
     "output_type": "stream",
     "text": [
      "\r",
      " 63%|█████████████████████████▊               | 191/303 [00:18<00:10, 10.59it/s]"
     ]
    },
    {
     "name": "stdout",
     "output_type": "stream",
     "text": [
      "\n",
      "SPLAT does not contain the filter NIRISS_F115W\n",
      "\n",
      "SPLAT does not contain the filter NIRISS_F150W\n",
      "\n",
      "SPLAT does not contain the filter NIRISS_F200W\n",
      "\n",
      "SPLAT does not contain the filter NIRISS_F115W\n",
      "\n",
      "SPLAT does not contain the filter NIRISS_F150W\n",
      "\n",
      "SPLAT does not contain the filter NIRISS_F200W\n",
      "\n",
      "SPLAT does not contain the filter NIRISS_F115W\n"
     ]
    },
    {
     "name": "stderr",
     "output_type": "stream",
     "text": [
      "\r",
      " 64%|██████████████████████████               | 193/303 [00:18<00:10, 10.56it/s]"
     ]
    },
    {
     "name": "stdout",
     "output_type": "stream",
     "text": [
      "\n",
      "SPLAT does not contain the filter NIRISS_F150W\n",
      "\n",
      "SPLAT does not contain the filter NIRISS_F200W\n",
      "\n",
      "SPLAT does not contain the filter NIRISS_F115W\n",
      "\n",
      "SPLAT does not contain the filter NIRISS_F150W\n",
      "\n",
      "SPLAT does not contain the filter NIRISS_F200W\n",
      "\n",
      "SPLAT does not contain the filter NIRISS_F115W\n",
      "\n",
      "SPLAT does not contain the filter NIRISS_F150W\n"
     ]
    },
    {
     "name": "stderr",
     "output_type": "stream",
     "text": [
      "\r",
      " 64%|██████████████████████████▍              | 195/303 [00:18<00:10, 10.50it/s]"
     ]
    },
    {
     "name": "stdout",
     "output_type": "stream",
     "text": [
      "\n",
      "SPLAT does not contain the filter NIRISS_F200W\n",
      "\n",
      "SPLAT does not contain the filter NIRISS_F115W\n",
      "\n",
      "SPLAT does not contain the filter NIRISS_F150W\n",
      "\n",
      "SPLAT does not contain the filter NIRISS_F200W\n",
      "\n",
      "SPLAT does not contain the filter NIRISS_F115W\n",
      "\n",
      "SPLAT does not contain the filter NIRISS_F150W\n",
      "\n",
      "SPLAT does not contain the filter NIRISS_F200W\n"
     ]
    },
    {
     "name": "stderr",
     "output_type": "stream",
     "text": [
      " 66%|██████████████████████████▉              | 199/303 [00:19<00:09, 10.56it/s]"
     ]
    },
    {
     "name": "stdout",
     "output_type": "stream",
     "text": [
      "\n",
      "SPLAT does not contain the filter NIRISS_F115W\n",
      "\n",
      "SPLAT does not contain the filter NIRISS_F150W\n",
      "\n",
      "SPLAT does not contain the filter NIRISS_F200W\n",
      "\n",
      "SPLAT does not contain the filter NIRISS_F115W\n",
      "\n",
      "SPLAT does not contain the filter NIRISS_F150W\n",
      "\n",
      "SPLAT does not contain the filter NIRISS_F200W\n",
      "\n",
      "SPLAT does not contain the filter NIRISS_F115W\n"
     ]
    },
    {
     "name": "stderr",
     "output_type": "stream",
     "text": [
      "\r",
      " 66%|███████████████████████████▏             | 201/303 [00:19<00:09, 10.53it/s]"
     ]
    },
    {
     "name": "stdout",
     "output_type": "stream",
     "text": [
      "\n",
      "SPLAT does not contain the filter NIRISS_F150W\n",
      "\n",
      "SPLAT does not contain the filter NIRISS_F200W\n",
      "\n",
      "SPLAT does not contain the filter NIRISS_F115W\n",
      "\n",
      "SPLAT does not contain the filter NIRISS_F150W\n",
      "\n",
      "SPLAT does not contain the filter NIRISS_F200W\n",
      "\n",
      "SPLAT does not contain the filter NIRISS_F115W\n",
      "\n",
      "SPLAT does not contain the filter NIRISS_F150W\n"
     ]
    },
    {
     "name": "stderr",
     "output_type": "stream",
     "text": [
      "\r",
      " 67%|███████████████████████████▍             | 203/303 [00:19<00:09, 10.48it/s]"
     ]
    },
    {
     "name": "stdout",
     "output_type": "stream",
     "text": [
      "\n",
      "SPLAT does not contain the filter NIRISS_F200W\n",
      "\n",
      "SPLAT does not contain the filter NIRISS_F115W\n",
      "\n",
      "SPLAT does not contain the filter NIRISS_F150W\n",
      "\n",
      "SPLAT does not contain the filter NIRISS_F200W\n",
      "\n",
      "SPLAT does not contain the filter NIRISS_F115W\n",
      "\n",
      "SPLAT does not contain the filter NIRISS_F150W\n",
      "\n",
      "SPLAT does not contain the filter NIRISS_F200W\n"
     ]
    },
    {
     "name": "stderr",
     "output_type": "stream",
     "text": [
      "\r",
      " 68%|███████████████████████████▋             | 205/303 [00:19<00:09, 10.43it/s]"
     ]
    },
    {
     "name": "stdout",
     "output_type": "stream",
     "text": [
      "\n",
      "SPLAT does not contain the filter NIRISS_F115W\n",
      "\n",
      "SPLAT does not contain the filter NIRISS_F150W\n",
      "\n",
      "SPLAT does not contain the filter NIRISS_F200W\n",
      "\n",
      "SPLAT does not contain the filter NIRISS_F115W\n",
      "\n",
      "SPLAT does not contain the filter NIRISS_F150W\n",
      "\n",
      "SPLAT does not contain the filter NIRISS_F200W\n",
      "\n",
      "SPLAT does not contain the filter NIRISS_F115W\n"
     ]
    },
    {
     "name": "stderr",
     "output_type": "stream",
     "text": [
      "\r",
      " 68%|████████████████████████████             | 207/303 [00:19<00:09, 10.43it/s]"
     ]
    },
    {
     "name": "stdout",
     "output_type": "stream",
     "text": [
      "\n",
      "SPLAT does not contain the filter NIRISS_F150W\n",
      "\n",
      "SPLAT does not contain the filter NIRISS_F200W\n",
      "\n",
      "SPLAT does not contain the filter NIRISS_F115W\n",
      "\n",
      "SPLAT does not contain the filter NIRISS_F150W\n",
      "\n",
      "SPLAT does not contain the filter NIRISS_F200W\n",
      "\n",
      "SPLAT does not contain the filter NIRISS_F115W\n",
      "\n",
      "SPLAT does not contain the filter NIRISS_F150W\n"
     ]
    },
    {
     "name": "stderr",
     "output_type": "stream",
     "text": [
      "\r",
      " 69%|████████████████████████████▎            | 209/303 [00:20<00:09, 10.43it/s]"
     ]
    },
    {
     "name": "stdout",
     "output_type": "stream",
     "text": [
      "\n",
      "SPLAT does not contain the filter NIRISS_F200W\n",
      "\n",
      "SPLAT does not contain the filter NIRISS_F115W\n",
      "\n",
      "SPLAT does not contain the filter NIRISS_F150W\n",
      "\n",
      "SPLAT does not contain the filter NIRISS_F200W\n",
      "\n",
      "SPLAT does not contain the filter NIRISS_F115W\n",
      "\n",
      "SPLAT does not contain the filter NIRISS_F150W\n",
      "\n",
      "SPLAT does not contain the filter NIRISS_F200W\n"
     ]
    },
    {
     "name": "stderr",
     "output_type": "stream",
     "text": [
      " 70%|████████████████████████████▊            | 213/303 [00:20<00:08, 10.48it/s]"
     ]
    },
    {
     "name": "stdout",
     "output_type": "stream",
     "text": [
      "\n",
      "SPLAT does not contain the filter NIRISS_F115W\n",
      "\n",
      "SPLAT does not contain the filter NIRISS_F150W\n",
      "\n",
      "SPLAT does not contain the filter NIRISS_F200W\n",
      "\n",
      "SPLAT does not contain the filter NIRISS_F115W\n",
      "\n",
      "SPLAT does not contain the filter NIRISS_F150W\n",
      "\n",
      "SPLAT does not contain the filter NIRISS_F200W\n",
      "\n",
      "SPLAT does not contain the filter NIRISS_F115W\n"
     ]
    },
    {
     "name": "stderr",
     "output_type": "stream",
     "text": [
      "\r",
      " 71%|█████████████████████████████            | 215/303 [00:20<00:08, 10.49it/s]"
     ]
    },
    {
     "name": "stdout",
     "output_type": "stream",
     "text": [
      "\n",
      "SPLAT does not contain the filter NIRISS_F150W\n",
      "\n",
      "SPLAT does not contain the filter NIRISS_F200W\n",
      "\n",
      "SPLAT does not contain the filter NIRISS_F115W\n",
      "\n",
      "SPLAT does not contain the filter NIRISS_F150W\n",
      "\n",
      "SPLAT does not contain the filter NIRISS_F200W\n",
      "\n",
      "SPLAT does not contain the filter NIRISS_F115W\n",
      "\n",
      "SPLAT does not contain the filter NIRISS_F150W\n"
     ]
    },
    {
     "name": "stderr",
     "output_type": "stream",
     "text": [
      "\r",
      " 72%|█████████████████████████████▎           | 217/303 [00:20<00:08, 10.54it/s]"
     ]
    },
    {
     "name": "stdout",
     "output_type": "stream",
     "text": [
      "\n",
      "SPLAT does not contain the filter NIRISS_F200W\n",
      "\n",
      "SPLAT does not contain the filter NIRISS_F115W\n",
      "\n",
      "SPLAT does not contain the filter NIRISS_F150W\n",
      "\n",
      "SPLAT does not contain the filter NIRISS_F200W\n",
      "\n",
      "SPLAT does not contain the filter NIRISS_F115W\n",
      "\n",
      "SPLAT does not contain the filter NIRISS_F150W\n",
      "\n",
      "SPLAT does not contain the filter NIRISS_F200W\n"
     ]
    },
    {
     "name": "stderr",
     "output_type": "stream",
     "text": [
      "\r",
      " 72%|█████████████████████████████▋           | 219/303 [00:21<00:08, 10.41it/s]"
     ]
    },
    {
     "name": "stdout",
     "output_type": "stream",
     "text": [
      "\n",
      "SPLAT does not contain the filter NIRISS_F115W\n",
      "\n",
      "SPLAT does not contain the filter NIRISS_F150W\n",
      "\n",
      "SPLAT does not contain the filter NIRISS_F200W\n",
      "\n",
      "SPLAT does not contain the filter NIRISS_F115W\n",
      "\n",
      "SPLAT does not contain the filter NIRISS_F150W\n",
      "\n",
      "SPLAT does not contain the filter NIRISS_F200W\n",
      "\n",
      "SPLAT does not contain the filter NIRISS_F115W\n"
     ]
    },
    {
     "name": "stderr",
     "output_type": "stream",
     "text": [
      "\r",
      " 73%|█████████████████████████████▉           | 221/303 [00:21<00:07, 10.42it/s]"
     ]
    },
    {
     "name": "stdout",
     "output_type": "stream",
     "text": [
      "\n",
      "SPLAT does not contain the filter NIRISS_F150W\n",
      "\n",
      "SPLAT does not contain the filter NIRISS_F200W\n",
      "\n",
      "SPLAT does not contain the filter NIRISS_F115W\n",
      "\n",
      "SPLAT does not contain the filter NIRISS_F150W\n",
      "\n",
      "SPLAT does not contain the filter NIRISS_F200W\n",
      "\n",
      "SPLAT does not contain the filter NIRISS_F115W\n",
      "\n",
      "SPLAT does not contain the filter NIRISS_F150W\n"
     ]
    },
    {
     "name": "stderr",
     "output_type": "stream",
     "text": [
      "\r",
      " 74%|██████████████████████████████▏          | 223/303 [00:21<00:07, 10.46it/s]"
     ]
    },
    {
     "name": "stdout",
     "output_type": "stream",
     "text": [
      "\n",
      "SPLAT does not contain the filter NIRISS_F200W\n",
      "\n",
      "SPLAT does not contain the filter NIRISS_F115W\n",
      "\n",
      "SPLAT does not contain the filter NIRISS_F150W\n",
      "\n",
      "SPLAT does not contain the filter NIRISS_F200W\n",
      "\n",
      "SPLAT does not contain the filter NIRISS_F115W\n",
      "\n",
      "SPLAT does not contain the filter NIRISS_F150W\n",
      "\n",
      "SPLAT does not contain the filter NIRISS_F200W\n"
     ]
    },
    {
     "name": "stderr",
     "output_type": "stream",
     "text": [
      " 75%|██████████████████████████████▋          | 227/303 [00:21<00:07, 10.58it/s]"
     ]
    },
    {
     "name": "stdout",
     "output_type": "stream",
     "text": [
      "\n",
      "SPLAT does not contain the filter NIRISS_F115W\n",
      "\n",
      "SPLAT does not contain the filter NIRISS_F150W\n",
      "\n",
      "SPLAT does not contain the filter NIRISS_F200W\n",
      "\n",
      "SPLAT does not contain the filter NIRISS_F115W\n",
      "\n",
      "SPLAT does not contain the filter NIRISS_F150W\n",
      "\n",
      "SPLAT does not contain the filter NIRISS_F200W\n",
      "\n",
      "SPLAT does not contain the filter NIRISS_F115W\n"
     ]
    },
    {
     "name": "stderr",
     "output_type": "stream",
     "text": [
      "\r",
      " 76%|██████████████████████████████▉          | 229/303 [00:22<00:06, 10.66it/s]"
     ]
    },
    {
     "name": "stdout",
     "output_type": "stream",
     "text": [
      "\n",
      "SPLAT does not contain the filter NIRISS_F150W\n",
      "\n",
      "SPLAT does not contain the filter NIRISS_F200W\n",
      "\n",
      "SPLAT does not contain the filter NIRISS_F115W\n",
      "\n",
      "SPLAT does not contain the filter NIRISS_F150W\n",
      "\n",
      "SPLAT does not contain the filter NIRISS_F200W\n",
      "\n",
      "SPLAT does not contain the filter NIRISS_F115W\n",
      "\n",
      "SPLAT does not contain the filter NIRISS_F150W\n"
     ]
    },
    {
     "name": "stderr",
     "output_type": "stream",
     "text": [
      "\r",
      " 76%|███████████████████████████████▎         | 231/303 [00:22<00:06, 10.79it/s]"
     ]
    },
    {
     "name": "stdout",
     "output_type": "stream",
     "text": [
      "\n",
      "SPLAT does not contain the filter NIRISS_F200W\n",
      "\n",
      "SPLAT does not contain the filter NIRISS_F115W\n",
      "\n",
      "SPLAT does not contain the filter NIRISS_F150W\n",
      "\n",
      "SPLAT does not contain the filter NIRISS_F200W\n",
      "\n",
      "SPLAT does not contain the filter NIRISS_F115W\n",
      "\n",
      "SPLAT does not contain the filter NIRISS_F150W\n",
      "\n",
      "SPLAT does not contain the filter NIRISS_F200W\n"
     ]
    },
    {
     "name": "stderr",
     "output_type": "stream",
     "text": [
      "\r",
      " 77%|███████████████████████████████▌         | 233/303 [00:22<00:06, 10.67it/s]"
     ]
    },
    {
     "name": "stdout",
     "output_type": "stream",
     "text": [
      "\n",
      "SPLAT does not contain the filter NIRISS_F115W\n",
      "\n",
      "SPLAT does not contain the filter NIRISS_F150W\n",
      "\n",
      "SPLAT does not contain the filter NIRISS_F200W\n",
      "\n",
      "SPLAT does not contain the filter NIRISS_F115W\n",
      "\n",
      "SPLAT does not contain the filter NIRISS_F150W\n",
      "\n",
      "SPLAT does not contain the filter NIRISS_F200W\n",
      "\n",
      "SPLAT does not contain the filter NIRISS_F115W\n"
     ]
    },
    {
     "name": "stderr",
     "output_type": "stream",
     "text": [
      "\r",
      " 78%|███████████████████████████████▊         | 235/303 [00:22<00:06, 10.67it/s]"
     ]
    },
    {
     "name": "stdout",
     "output_type": "stream",
     "text": [
      "\n",
      "SPLAT does not contain the filter NIRISS_F150W\n",
      "\n",
      "SPLAT does not contain the filter NIRISS_F200W\n",
      "\n",
      "SPLAT does not contain the filter NIRISS_F115W\n",
      "\n",
      "SPLAT does not contain the filter NIRISS_F150W\n",
      "\n",
      "SPLAT does not contain the filter NIRISS_F200W\n",
      "\n",
      "SPLAT does not contain the filter NIRISS_F115W\n",
      "\n",
      "SPLAT does not contain the filter NIRISS_F150W\n"
     ]
    },
    {
     "name": "stderr",
     "output_type": "stream",
     "text": [
      "\r",
      " 78%|████████████████████████████████         | 237/303 [00:22<00:06, 10.58it/s]"
     ]
    }
   ],
   "source": [
    "df=pd.DataFrame.from_records([compute_colors(x, sd=False) for x in tqdm(np.concatenate([all_spectra, optical_templates]))])\n",
    "df['spt']=np.concatenate([spts,  optical_spts])"
   ]
  },
  {
   "cell_type": "code",
   "execution_count": null,
   "metadata": {},
   "outputs": [],
   "source": [
    "#sd_df"
   ]
  },
  {
   "cell_type": "code",
   "execution_count": null,
   "metadata": {},
   "outputs": [],
   "source": [
    "#ghj"
   ]
  },
  {
   "cell_type": "code",
   "execution_count": null,
   "metadata": {},
   "outputs": [],
   "source": [
    "def k_clip_fit(x, y, sigma_y, sigma = 5, n=6):\n",
    "    \n",
    "    '''Fit a polynomial to y vs. x, and k-sigma clip until convergence\n",
    "    hard-coded, returns mask array\n",
    "    '''\n",
    "    \n",
    "    not_clipped = np.ones_like(y).astype(bool)\n",
    "    n_remove = 1\n",
    "    \n",
    "    #use median sigma\n",
    "    #median_sigma= np.nanmedian(sigma_y)\n",
    "    \n",
    "    while n_remove > 0:\n",
    "\n",
    "        best_fit = np.poly1d(np.polyfit(x[not_clipped], y[not_clipped], n))\n",
    "        \n",
    "        norm_res = (np.abs(y - best_fit(x)))/(sigma_y)\n",
    "        remove = np.logical_and(norm_res >= sigma, not_clipped == 1)\n",
    "        n_remove = sum(remove)\n",
    "        not_clipped[remove] = 0   \n",
    "        \n",
    "    return  not_clipped\n",
    "\n",
    "def fit_with_nsigma_clipping(x, y, y_unc, n, sigma=3.):\n",
    "    not_clipped = k_clip_fit(x, y, y_unc, sigma = sigma)\n",
    "    return not_clipped, np.poly1d(np.polyfit(x[not_clipped], y[not_clipped], n))"
   ]
  },
  {
   "cell_type": "code",
   "execution_count": null,
   "metadata": {},
   "outputs": [],
   "source": [
    "rocio_coeffs={'SDSS_R':[-0.03, 1.3 , 7.2 , 0.62],\\\n",
    "              'SDSS_I':[-0.009, 0.9, 6.8, 0.55],\\\n",
    "              'SDSS_Z':[-0.005, 0.74, 6.7 ,  0.5]}"
   ]
  },
  {
   "cell_type": "code",
   "execution_count": null,
   "metadata": {},
   "outputs": [],
   "source": [
    "rocio_relations={}"
   ]
  },
  {
   "cell_type": "code",
   "execution_count": null,
   "metadata": {},
   "outputs": [],
   "source": [
    "rocio_coeffs['SDSS_R'][:-1]"
   ]
  },
  {
   "cell_type": "code",
   "execution_count": null,
   "metadata": {},
   "outputs": [],
   "source": [
    "for k in rocio_coeffs.keys():\n",
    "    s={k: {'x': 'spt', 'y': k, 'fit':np.poly1d(rocio_coeffs[k][:-1]), \\\n",
    "                'scatter': rocio_coeffs[k][-1], \\\n",
    "                'method': 'polynomial',\\\n",
    "                'range': [10, 24] ,\n",
    "          'x0': 10}}\n",
    "    rocio_relations.update(s)\n",
    "    pass"
   ]
  },
  {
   "cell_type": "code",
   "execution_count": null,
   "metadata": {},
   "outputs": [],
   "source": [
    "rocio_relations['SDSS_R']['fit'](np.arange(16, 24)-10)"
   ]
  },
  {
   "cell_type": "code",
   "execution_count": null,
   "metadata": {},
   "outputs": [],
   "source": [
    "#"
   ]
  },
  {
   "cell_type": "code",
   "execution_count": null,
   "metadata": {},
   "outputs": [],
   "source": [
    "#absolute magnitude relation\n",
    "import splat.empirical as spe\n",
    "\n",
    "kirkpa2019pol={'2MASS H':{'pol':np.poly1d(np.flip([36.9714, -8.66856, 1.05122 ,-0.0344809])), \n",
    "                    'scatter':.67, 'range':[36, 44]}}\n",
    "kirkpa2020pol={'2MASS H':{'pol':np.poly1d(np.flip([-6.918e01, 1.1863e+01,-5.4084e-1, 8.466e-03 ])), \n",
    "                    'scatter':.51, 'range':[36, 44]}}\n",
    "best_dict={'2MASS J': {\\\n",
    "            'spt': [16,17,18,19,20,21,22,23,24,25,26,27,28,29,30,31,32,33,34,35,36,37,38,39], \\\n",
    "            'values': [10.36,10.77,11.15,11.46,11.76,12.03,12.32,12.77,13.51,13.69,14.18,14.94,14.90,14.46,14.56,15.25,14.54,14.26,13.89,14.94,15.53,16.78,17.18,17.75],\\\n",
    "            'rms': [0.30,0.30,0.42,0.34,0.18,0.15,0.21,0.24,0.28,0.25,0.60,0.20,0.13,0.71,0.5,0.12,0.06,0.16,0.36,0.12,0.27,0.76,0.51,0.5]},\n",
    "        '2MASS H': {\\\n",
    "            'spt': [16,17,18,19,20,21,22,23,24,25,26,27,28,29,30,31,32,33,34,35,36,37,38,39], \\\n",
    "            'values': [9.76,10.14,10.47,10.74,11.00,11.23,11.41,11.82,12.45,12.63,13.19,13.82,13.77,13.39,13.62,14.39,13.73,13.67,13.57,14.76,15.48,16.70,17.09,17.51],\\\n",
    "            'rms': [0.30,0.31,0.43,0.35,0.23,0.21,0.25,0.29,0.3,0.30,0.62,0.31,0.20,0.73,0.5,0.18,0.15,0.24,0.40,0.24,0.37,0.78,0.5,0.5]},\n",
    "       \n",
    "        'PANSTARRS_R': {\\\n",
    "            'spt': [16,17,18,19,20,21,22,23,24,25,26,28], \\\n",
    "            'values': [15.37,16.76,17.74,18.14,18.37,18.74,19.02,19.61,20.60,20.74,21.21,22.88],\\\n",
    "            'rms': [0.43,0.50,0.51,0.37,0.31,0.28,0.29,0.39,0.56,0.37,0.78,0.5]},\n",
    "        'PANSTARRS_I': {\\\n",
    "            'spt': [16,17,18,19,20,21,22,23,24,25,26,27,28,29,30,31,32,35], \\\n",
    "            'values': [13.25,14.18,15.00,15.62,16.00,16.41,16.73,17.40,18.35,18.71,19.27,20.09,20.38,20.09,20.22,21.10,21.97,22.69],\\\n",
    "            'rms': [0.34,0.39,0.48,0.39,0.26,0.25,0.26,0.34,0.38,0.33,0.65,0.36,0.79,0.5,1.14,0.5,0.5,0.5]},\n",
    "        'PANSTARRS_Z': {\\\n",
    "            'spt': [16,17,18,19,20,21,22,23,24,25,26,27,28,29,30,31,32,33,34,35,36,37,38,39], \\\n",
    "            'values': [12.27,12.98,13.61,14.17,14.52,14.93,15.30,15.88,16.68,16.94,17.35,18.18,18.10,17.69,17.98,18.84,18.26,18.08,18.02,19.20,19.82,21.17,21.52,21.82],\\\n",
    "            'rms': [0.32,0.34,0.45,0.37,0.25,0.23,0.24,0.21,0.33,0.29,0.62,0.26,0.22,0.73,0.5,0.21,0.23,0.25,0.39,0.22,0.32,0.78,0.52,0.5]},\n",
    "        'PANSTARRS_Y': {\\\n",
    "            'spt': [16,17,18,19,20,21,22,23,24,25,26,27,28,29,30,31,32,33,34,35,36,37,38,39], \\\n",
    "            'values': [11.76,12.31,12.81,13.23,13.58,13.97,14.33,14.89,15.66,15.87,16.27,17.13,17.04,16.57,16.77,17.45,16.75,16.50,16.32,17.43,18.06,19.34,19.75,20.37],\\\n",
    "            'rms': [0.30,0.31,0.43,0.36,0.23,0.21,0.24,0.29,0.32,0.28,0.61,0.25,0.21,0.72,0.5,0.16,0.13,0.22,0.38,0.18,0.32,0.81,0.59,0.5]}}\n",
    "\n",
    "BEST={}\n",
    "BEST['rms']={}\n",
    "BEST['range']={}\n",
    "for k in best_dict.keys():\n",
    "    BEST[k]=fit_with_nsigma_clipping(np.array(best_dict[k]['spt']), \n",
    "                                      np.array(best_dict[k]['values']), \n",
    "                                      np.array(best_dict[k]['rms'])\n",
    "                                     , 6, sigma=5.)\n",
    "    BEST['rms'][k]=np.nanmedian(best_dict[k]['rms'])\n",
    "    BEST['range'][k]=[np.nanmin(best_dict[k]['spt']), np.nanmax(best_dict[k]['spt'])]\n",
    "    \n",
    "    \n",
    "from astropy.io import ascii\n",
    "def make_mamajek_fit(spt):\n",
    "    mamjk=ascii.read('/users/caganze/research/wisps/data/mamajek_relations.txt').to_pandas().replace('None', np.nan)\n",
    "    js=mamjk.M_J.apply(float).values\n",
    "    jminush=mamjk['J-H'].apply(float).values\n",
    "    hs=js-jminush\n",
    "    \n",
    "    spts=mamjk.SpT.apply(splat.typeToNum).apply(float).values\n",
    "    \n",
    "    hsortedindex=np.argsort(hs)\n",
    "    jsortedindex=np.argsort(js)\n",
    "    \n",
    "    hval=np.interp(spt,  spts[hsortedindex], hs[hsortedindex])\n",
    "    jval=np.interp(spt,  spts[jsortedindex], js[jsortedindex])\n",
    "    \n",
    "    return ((jval, 0.4), (hval, 0.4))\n",
    "\n",
    "def absolute_mag_kirkpatrick(spt, filt):\n",
    "    if filt != '2MASS H':\n",
    "        return np.nan\n",
    "    else:\n",
    "        pol=kirkpa2019pol[filt]['pol']\n",
    "        unc=kirkpa2019pol[filt]['scatter']\n",
    "        return pol(spt-30), unc\n",
    "\n",
    "def get_subdwarf_abs_mag(spt, flter):\n",
    "    m, munc=np.nan, np.nan\n",
    "    #replace panstarrs by sdss\n",
    "    m, munc=spe.typeToMag(spt, flter, reference='zhang2013')\n",
    "        \n",
    "    return m, munc\n",
    "        \n",
    "def get_abs_mag(spt, flter, method='vega'):\n",
    "    #base absolute mag relations to use to convert from other absmag\n",
    "    m, munc=(np.nan, np.nan)\n",
    "    \n",
    "    if ((flter.upper()=='2MASS J') or (flter.upper()=='2MASS_J')):\n",
    "        corr=splat.photometry.vegaToAB('2MASS J')\n",
    "        ((m, munc), (h, hunc))=make_mamajek_fit(spt)\n",
    "        if method == 'ab': m+corr\n",
    "        \n",
    "    if ((flter.upper()=='2MASS H') or (flter.upper()=='2MASS_H')):\n",
    "        corr=splat.photometry.vegaToAB('2MASS H')\n",
    "        if spt <36:\n",
    "            \n",
    "            #m=BEST['2MASS H'][1](spt)\n",
    "            #munc= np.nanmedian(best_dict[k]['rms'])\n",
    "            #m, munc=spe.typeToMag(spt, '2MASS H')\n",
    "            ((j, junc), (m, munc))=make_mamajek_fit(spt)\n",
    "            if method == 'ab': m+corr\n",
    "\n",
    "        else:\n",
    "            m, munc=absolute_mag_kirkpatrick(spt, '2MASS H')\n",
    "            if method == 'ab': m+corr\n",
    "        \n",
    "\n",
    "    if ((flter.upper()=='2MASS KS') or (flter.upper()=='2MASS_KS')):\n",
    "        corr=splat.photometry.vegaToAB('2MASS Ks')\n",
    "        #m, munc= spe.typeToMag(spt, '2MASS J')\n",
    "        m, munc=spe.typeToMag(spt, '2MASS Ks', ref='dupuy2012')\n",
    "        if method == 'ab': m+corr\n",
    "        \n",
    "    if flter.upper().startswith('PANSTARRS'):\n",
    "        if np.logical_or(spt> BEST['range'][flter][-1], spt< BEST['range'][flter][0]):\n",
    "            pass\n",
    "        else:\n",
    "            corr=splat.photometry.vegaToAB(flter.upper())\n",
    "            m=(BEST[k][1])(spt)#+corr\n",
    "            munc=np.nanmedian(best_dict[k]['rms'])\n",
    "            if method == 'ab': m+corr\n",
    "    return m, munc"
   ]
  },
  {
   "cell_type": "code",
   "execution_count": null,
   "metadata": {},
   "outputs": [],
   "source": [
    "#import popsims\n",
    "#popsims.get_distance(get_abs_mag(25, '2MASS J')[0], 28.)"
   ]
  },
  {
   "cell_type": "code",
   "execution_count": null,
   "metadata": {},
   "outputs": [],
   "source": [
    "sp_grid=np.arange(15, 42)"
   ]
  },
  {
   "cell_type": "code",
   "execution_count": null,
   "metadata": {},
   "outputs": [],
   "source": [
    "BEST['range']['PANSTARRS_R'][-1]"
   ]
  },
  {
   "cell_type": "code",
   "execution_count": null,
   "metadata": {},
   "outputs": [],
   "source": [
    "#get_abs_mag(25, 'PANSTARRS_Z'), get_subdwarf_abs_mag(25, 'SDSS_Z')"
   ]
  },
  {
   "cell_type": "code",
   "execution_count": null,
   "metadata": {},
   "outputs": [],
   "source": [
    "def get_abs_mags(row):\n",
    "    res={}\n",
    "    fl_pairs=darf_pairs\n",
    "    for p in fl_pairs.keys():\n",
    "\n",
    "        cl=p+'and'+fl_pairs[p]['ref']\n",
    "        v, ve=get_abs_mag(row.spt, fl_pairs[p]['ref'], method= fl_pairs[p]['method'])\n",
    "        absm= row[cl][0]+v\n",
    "        res.update({p: [absm,  (row[cl][1]**2+ve**2)**0.5]})\n",
    "    return pd.Series(res)\n",
    "\n",
    "def get_abs_mags_sd(row):\n",
    "    res={}\n",
    "    fl_pairs=sd_pairs\n",
    "    for p in fl_pairs:\n",
    "\n",
    "        cl=p[0]+'and'+p[1]\n",
    "        v, ve=get_subdwarf_abs_mag(row.spt, p[1])\n",
    "        absm= row[cl][0]+v\n",
    "        res.update({p[0]: [absm,  (row[cl][1]**2+ve**2)**0.5]})\n",
    "    return pd.Series(res)\n",
    "\n",
    "#def get_abs_mags_lsst_fromcolor(row):\n",
    "#    res={}\n",
    "#    for p in fl_pairs:\n",
    "\n",
    "#        cl=p[0]+'and'+p[1]\n",
    "#        v, ve=absolute_sdss(row.spt)[p[1]]\n",
    "#        absm= row[cl][0]+v\n",
    "#        res.update({p[0]: [absm,  (row[cl][1]**2+ve**2)**0.5]})\n",
    "  #  return pd.Series(res)\n",
    "\n",
    "#def get_abs_mags_lsst_fromcolor_sds(row):\n",
    "#    res={}\n",
    "#    for p in fl_pairs:\n",
    "\n",
    " #       cl=p[0]+'and'+p[1]\n",
    " #       v, ve=sd_absolute_mag(row.spt)[p[1]]\n",
    " #       absm= row[cl][0]+v\n",
    " #       res.update({p[0]: [absm,  (row[cl][1]**2+ve**2)**0.5]})\n",
    " #   return pd.Series(res)\n",
    "        \n",
    "    "
   ]
  },
  {
   "cell_type": "code",
   "execution_count": null,
   "metadata": {},
   "outputs": [],
   "source": [
    "get_subdwarf_abs_mag(20, '2MASS_J')"
   ]
  },
  {
   "cell_type": "code",
   "execution_count": null,
   "metadata": {},
   "outputs": [],
   "source": [
    "#df"
   ]
  },
  {
   "cell_type": "code",
   "execution_count": null,
   "metadata": {},
   "outputs": [],
   "source": [
    "tqdm.pandas()\n",
    "abs_df=df.progress_apply(get_abs_mags, axis=1)\n",
    "#abs_df=df.progress_apply(get_abs_mags_lsst_fromcolor, axis=1)\n",
    "#sd_abs_df=sd_df_total.progress_apply(get_abs_mags_lsst_fromcolor_sds, axis=1)\n"
   ]
  },
  {
   "cell_type": "code",
   "execution_count": null,
   "metadata": {},
   "outputs": [],
   "source": [
    "#sd_abs_df=sd_df.progress_apply(get_abs_mags_sd, axis=1)\n",
    "#abs_df"
   ]
  },
  {
   "cell_type": "code",
   "execution_count": null,
   "metadata": {},
   "outputs": [],
   "source": [
    "#sd_abs_df"
   ]
  },
  {
   "cell_type": "code",
   "execution_count": null,
   "metadata": {},
   "outputs": [],
   "source": [
    "FITS=pd.read_pickle('/users/caganze/research/popsims/data/polynomial_relations.pkl')"
   ]
  },
  {
   "cell_type": "code",
   "execution_count": null,
   "metadata": {},
   "outputs": [],
   "source": [
    "#FITS['absmags']['dwarfs']={}\n",
    "#FITS['absmags']['subdwarfs']={}\n",
    "#FITS['colors']['dwarfs']={}\n",
    "#FITS['colors']['subdwarfs']={}"
   ]
  },
  {
   "cell_type": "code",
   "execution_count": null,
   "metadata": {},
   "outputs": [],
   "source": []
  },
  {
   "cell_type": "code",
   "execution_count": null,
   "metadata": {},
   "outputs": [],
   "source": [
    "#for k in BEST['rms'].keys():\n",
    "#    s={k: {'x': 'spt','y': k, 'fit':BEST[k][-1], 'scatter': BEST['rms'][k], \\\n",
    "#           'method': 'polynomial','range':  BEST['range'][k], 'x0':0}}\n",
    "#   FITS['absmags']['dwarfs'].update(s)\n"
   ]
  },
  {
   "cell_type": "code",
   "execution_count": null,
   "metadata": {},
   "outputs": [],
   "source": [
    "#len(darf_pairs), len(abs_df.columns)"
   ]
  },
  {
   "cell_type": "code",
   "execution_count": null,
   "metadata": {},
   "outputs": [],
   "source": [
    "#FITS"
   ]
  },
  {
   "cell_type": "code",
   "execution_count": null,
   "metadata": {},
   "outputs": [],
   "source": [
    "#FITS['references']={'kiman2019': rocio_relations }\n",
    "#adda zhang realtions\n",
    "#FITS['references']"
   ]
  },
  {
   "cell_type": "code",
   "execution_count": null,
   "metadata": {},
   "outputs": [],
   "source": [
    "for c in abs_df.columns:\n",
    "    if c=='spt':\n",
    "        pass\n",
    "    else:\n",
    "        fig, a=plt.subplots()\n",
    "        vals=np.vstack(abs_df[c].values)\n",
    "        #vals=np.vstack(sd_abs_df[c].values)\n",
    "        spts=df.spt.values\n",
    "        #spts=sd_df.spt.values\n",
    "        \n",
    "        #masks\n",
    "        mask= np.logical_or.reduce([np.isnan(spts), \n",
    "                                    np.isnan(vals[:,0]),\n",
    "                                    np.isnan(vals[:,1])])\n",
    "\n",
    "        m, fit= fit_with_nsigma_clipping(spts[~mask], \n",
    "                                      vals[:,0][~mask], \n",
    "                                      vals[:,1][~mask], 6, sigma=3.)\n",
    "        FITS['absmags']['dwarfs'].update({c: {'x': 'spt',\n",
    "                                              'y': c,\n",
    "                                              'fit':fit, \\\n",
    "                                              'scatter': np.nanmedian(vals[:,1]), \\\n",
    "                                              'method': 'polynomial',\\\n",
    "                                              'range':  (np.nanmin(spts[~mask]),\\\n",
    "                                                         np.nanmax(spts[~mask])), \\\n",
    "                                             'x0':0}})\n",
    "        \n",
    "        \n",
    "        spgrid=np.arange(np.nanmin(spts[~mask]), np.nanmax(spts[~mask]))\n",
    "        a.plot(spgrid, fit(spgrid), c='k', label='dwarf')\n",
    "        \n",
    "        \n",
    "        \n",
    "        a.errorbar(spts, vals[:,0], fmt='+', \n",
    "                   yerr=vals[:,1], color='r')\n",
    "       \n",
    "       \n",
    "       \n",
    "        a.set_ylabel(c)\n",
    "        a.set_xlabel('Spectral Type')\n",
    "        a.legend()\n",
    "        plt.tight_layout()\n",
    "        a.set_xlim([np.nanmin(spgrid), np.nanmax(spgrid)])\n",
    "        #a.set_ylim([fit(np.nanmin(spgrid)), fit(np.nanmax(spgrid))])\n",
    "        plt.savefig(popsims.FIGURES+'/abs_mag_relations{}.pdf'.format(c))\n"
   ]
  },
  {
   "cell_type": "code",
   "execution_count": null,
   "metadata": {},
   "outputs": [],
   "source": [
    "#FITS"
   ]
  },
  {
   "cell_type": "code",
   "execution_count": null,
   "metadata": {},
   "outputs": [],
   "source": []
  },
  {
   "cell_type": "code",
   "execution_count": null,
   "metadata": {},
   "outputs": [],
   "source": [
    "#abs_df.keys()"
   ]
  },
  {
   "cell_type": "code",
   "execution_count": null,
   "metadata": {},
   "outputs": [],
   "source": [
    "#def fit_nsigma():\n",
    "#    return "
   ]
  },
  {
   "cell_type": "code",
   "execution_count": null,
   "metadata": {},
   "outputs": [],
   "source": [
    "#POLYNOMIALS=FITS"
   ]
  },
  {
   "cell_type": "code",
   "execution_count": null,
   "metadata": {},
   "outputs": [],
   "source": [
    "#ir=np.vstack(abs_df.LSST_I)[:,0]-np.vstack(abs_df.LSST_R)[:,0]"
   ]
  },
  {
   "cell_type": "code",
   "execution_count": null,
   "metadata": {},
   "outputs": [],
   "source": [
    "#h=plt.hist(ir)"
   ]
  },
  {
   "cell_type": "code",
   "execution_count": null,
   "metadata": {},
   "outputs": [],
   "source": []
  },
  {
   "cell_type": "code",
   "execution_count": null,
   "metadata": {},
   "outputs": [],
   "source": []
  },
  {
   "cell_type": "code",
   "execution_count": null,
   "metadata": {},
   "outputs": [],
   "source": [
    "#e(spts_m, d=np.ones_like(spts_m)*1000, keys=['LSST_Z', 'LSST_R'], object_type='dwarfs')"
   ]
  },
  {
   "cell_type": "code",
   "execution_count": null,
   "metadata": {},
   "outputs": [],
   "source": [
    "#updating WISE\n",
    "#wise_dict=splat.SPT_ABSMAG_RELATIONS['best2018']['filters']['WISE_W1']\n",
    "#_, fit_2massk=fit_with_nsigma_clipping(np.array(KVALS['2MASS_KS']['spt']), \n",
    "#                                      np.array( KVALS['2MASS_KS']['values']), \n",
    "#                                      np.array( KVALS['2MASS_KS']['rms'])\n",
    "#                                     , 6, sigma=5.)\n",
    "#add wise relations\n",
    "\n",
    "#_, fit_wise1=fit_with_nsigma_clipping(np.array(wise_dict['spt']), \n",
    "#                                      np.array( wise_dict['values']), \n",
    "#                                      np.array( wise_dict['rms'])\n",
    "#                                     , 6, sigma=5.)\n",
    "#            'spt': [0.,0.5,1.,1.5,2.,2.5,3.,3.5,4.,4.5,5.,5.5,6.,6.5,7.,8.,9.,10,10.5,11,11.5,12,12.5,13,13.5,14,14.5,15,15.5,16,16.5,17,17.5,18,18.5,19,19.5,20.,21.,22.,23.,24.,25.,26.,27.,28.,29.,30.,31.,32.,33.,34.,34.5,35.,35.5,36.,37.,37.5,38.,39.,39.5,40.5,41.,41.5,42.],\\\n",
    "#            'values': [3.81, 3.82, 3.87, 3.9, 4.04, 4.07, 4.16, 4.21, 4.25, 4.26, 4.48, 4.57, 4.66, 4.78, 4.82, 4.98, 5.11, 5.22, 5.36, 5.67, 5.85, 6.06, 6.27, 6.54, 7.19, 7.55, 7.93, 8.36, 9.01, 9.32, 9.47, 9.76, 9.97, 10.11, 10.22, 10.3, 10.45, 10.55, 10.8, 10.9, 11.3, 11.4, 11.82, 12.27, 12.62, 12.7, 12.74, 12.9, 12.87, 13.19, 13.69, 14.51, 14.66, 14.9, 15.18, 15.54, 16.36, 16.85, 17.43, 18.48, 19.32, 21.5, 23, 23.5, 24],\\\n",
    "#            'rms': np.zeros(65)+0.05}})"
   ]
  },
  {
   "cell_type": "code",
   "execution_count": null,
   "metadata": {},
   "outputs": [],
   "source": [
    "#df.spt.values.min()"
   ]
  },
  {
   "cell_type": "code",
   "execution_count": null,
   "metadata": {},
   "outputs": [],
   "source": [
    "#get_kirkpatrick_wise(30-10)"
   ]
  },
  {
   "cell_type": "code",
   "execution_count": null,
   "metadata": {},
   "outputs": [],
   "source": [
    "#spts_grids=np.linspace(17, 44, 1000)\n",
    "#w1s=np.array([get_kirkpatrick_wise(x) for x in spts_grids])"
   ]
  },
  {
   "cell_type": "code",
   "execution_count": null,
   "metadata": {},
   "outputs": [],
   "source": []
  },
  {
   "cell_type": "code",
   "execution_count": null,
   "metadata": {},
   "outputs": [],
   "source": [
    "#_, fit_wise=fit_with_nsigma_clipping(np.array(spts_grids), \n",
    "#                                      np.array(w1s), \n",
    "#                                      np.ones(len(w1s))*0.63\n",
    "#                                     , 6, sigma=5.)\n",
    "#plt.plot(spts_grids, w1s)\n",
    "#plt.plot(spts_grids,fit_wise(spts_grids) )\n"
   ]
  },
  {
   "cell_type": "code",
   "execution_count": null,
   "metadata": {},
   "outputs": [],
   "source": []
  },
  {
   "cell_type": "code",
   "execution_count": null,
   "metadata": {},
   "outputs": [],
   "source": [
    "#vals=np.vstack(abs_df['WFC3_F160W'].values)\n",
    "#spts=df.spt.values\n",
    "#plt.plot(spts, vals[:,0], 'o')"
   ]
  },
  {
   "cell_type": "code",
   "execution_count": null,
   "metadata": {},
   "outputs": [],
   "source": [
    "#FITS['2MASS_K']=(fit_2massk, np.nanmedian(np.array( KVALS['2MASS_KS']['rms'])))\n",
    "#FITS['WISE_W1']=(fit_wise, 0.63)"
   ]
  },
  {
   "cell_type": "code",
   "execution_count": null,
   "metadata": {},
   "outputs": [],
   "source": [
    "#FITS['absmags']['subdwarfs']={}"
   ]
  },
  {
   "cell_type": "code",
   "execution_count": null,
   "metadata": {},
   "outputs": [],
   "source": [
    "import pickle\n",
    "output = open(ABS_MAG_FILE, 'wb')\n",
    "pickle.dump(FITS, output)\n",
    "output.close()"
   ]
  },
  {
   "cell_type": "code",
   "execution_count": null,
   "metadata": {},
   "outputs": [],
   "source": [
    "#FITS"
   ]
  },
  {
   "cell_type": "code",
   "execution_count": null,
   "metadata": {},
   "outputs": [],
   "source": [
    "#FITS['references']['kiman2019']"
   ]
  },
  {
   "cell_type": "code",
   "execution_count": null,
   "metadata": {},
   "outputs": [],
   "source": []
  },
  {
   "cell_type": "code",
   "execution_count": null,
   "metadata": {},
   "outputs": [],
   "source": []
  }
 ],
 "metadata": {
  "kernelspec": {
   "display_name": "Python 3 (ipykernel)",
   "language": "python",
   "name": "python3"
  },
  "language_info": {
   "codemirror_mode": {
    "name": "ipython",
    "version": 3
   },
   "file_extension": ".py",
   "mimetype": "text/x-python",
   "name": "python",
   "nbconvert_exporter": "python",
   "pygments_lexer": "ipython3",
   "version": "3.9.7"
  }
 },
 "nbformat": 4,
 "nbformat_minor": 4
}
