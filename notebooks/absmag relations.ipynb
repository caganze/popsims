{
 "cells": [
  {
   "cell_type": "code",
   "execution_count": 1,
   "metadata": {},
   "outputs": [
    {
     "name": "stdout",
     "output_type": "stream",
     "text": [
      "Adding 89 sources from /Users/caganze/research/splat//resources/Spectra/Public/MAGE/ to spectral database\n",
      "Adding 145 sources from /Users/caganze/research/splat//resources/Spectra/Public/LRIS-RED/ to spectral database\n",
      "Adding 2404 sources from /Users/caganze/research/splat//resources/Spectra/Public/SPEX-PRISM/ to spectral database\n",
      "\n",
      "Warning: spectrum object has a flux vector of zero length - maybe empty?\n",
      "\n",
      "Warning: normalize is attempting to divide by nan; ignoring\n",
      "\n",
      "Warning: spectrum object has a flux vector of zero length - maybe empty?\n",
      "\n",
      "Warning: normalize is attempting to divide by nan; ignoring\n",
      "\n",
      "Warning: spectrum object has a flux vector of zero length - maybe empty?\n",
      "\n",
      "Warning: normalize is attempting to divide by nan; ignoring\n"
     ]
    }
   ],
   "source": [
    "#imports\n",
    "import numpy as np\n",
    "import splat\n",
    "import pandas as pd\n",
    "import glob\n",
    "from astropy.io import ascii\n",
    "import matplotlib.pyplot as plt\n",
    "from tqdm import tqdm\n",
    "splat.initializeStandards()\n",
    "import seaborn as sns\n",
    "splat.initializeStandards(all=True)\n",
    "sns.set_style(\"darkgrid\", {\"axes.facecolor\": \".9\"})\n",
    "%matplotlib inline\n"
   ]
  },
  {
   "cell_type": "code",
   "execution_count": 2,
   "metadata": {},
   "outputs": [],
   "source": [
    "def get_colors(sp, flt, filt_2mass):\n",
    "    #measuring filtermags in for two filters and comparing that to target filters\n",
    "    mag, mag_unc = splat.filterMag(sp, flt)\n",
    "    #calculate the mag of the standard in J and H\n",
    "    mag_2mass, mag_unc2mass = splat.filterMag(sp, filt_2mass)\n",
    "    #calculate the offset \n",
    "    return mag_2mass-mag, (mag_unc**2+ mag_unc2mass**2)**0.5"
   ]
  },
  {
   "cell_type": "code",
   "execution_count": 3,
   "metadata": {},
   "outputs": [],
   "source": [
    "#load spectra, ignore binaries, objects with high uncertainty in mag and objects without parallaxes\n",
    "splat_db=splat.searchLibrary(vlm=True, giant=False, young=False, binary=False)\n",
    "splat_db['SHORTNAME']=splat_db.DESIGNATION.apply(lambda x: splat.designationToShortName)\n",
    "sml=splat_db[~ ((splat_db.H_2MASS_E > 0.3) | (splat_db.J_2MASS_E > 0.3)  |\n",
    "                (splat_db.SPEX_TYPE.apply(splat.typeToNum) <15))]\n",
    "\n",
    "sds=sml[(sml.METALLICITY_CLASS=='sd') | (sml.METALLICITY_CLASS=='esd')  ]\n",
    "sml=sml[~((sml.METALLICITY_CLASS=='sd') | (sml.METALLICITY_CLASS=='esd') \\\n",
    "          | (sml.MEDIAN_SNR <20))]"
   ]
  },
  {
   "cell_type": "code",
   "execution_count": 4,
   "metadata": {},
   "outputs": [],
   "source": [
    "#get y dwarfs\n",
    "def get_shortname(n):\n",
    "    return splat.designationToShortName(n).replace('J', 'WISE')\n",
    "schn='/Users/caganze/research/wisps/data/schneider/*.txt'\n",
    "schntb=pd.read_csv('/Users/caganze/research/wisps/data/schneider2015.txt', \n",
    "                   delimiter=' ').drop(columns='Unnamed: 14')\n",
    "schntb['shortname']=schntb.Name.apply(get_shortname)\n",
    "spectra_schn=[]\n",
    "for f in glob.glob(schn):\n",
    "    d=ascii.read(f).to_pandas()\n",
    "    shortname=(f.split('/')[-1]).split('.txt')[0]\n",
    "    s=splat.Spectrum(wave=d.col1, \n",
    "                     flux=d.col2,\n",
    "                     noise=d.col3, \n",
    "                     name=shortname)\n",
    "    #measure snr \n",
    "    mask= np.logical_and(d.col1>1.0, d.col1<2.4)\n",
    "    snr= (np.nanmedian(d.col2[mask]/d.col3[mask]))\n",
    "    spectra_schn.append([s, snr])"
   ]
  },
  {
   "cell_type": "code",
   "execution_count": 5,
   "metadata": {},
   "outputs": [],
   "source": [
    "mdwarfs=sml[ (sml.SPEX_TYPE.apply(splat.typeToNum) <20)]\n",
    "ldwarfs=sml[ (sml.SPEX_TYPE.apply(splat.typeToNum).between(20, 30))]\n",
    "tdwarfs=sml[ (sml.SPEX_TYPE.apply(splat.typeToNum).between(30, 40))]"
   ]
  },
  {
   "cell_type": "code",
   "execution_count": 6,
   "metadata": {},
   "outputs": [],
   "source": [
    "#tighter_constraints on m dwarfs \n",
    "mdwarfs=mdwarfs[(~mdwarfs.PARALLAX.isna()) & (mdwarfs.MEDIAN_SNR >100)]\n",
    "ldwarfs=ldwarfs[ (ldwarfs.MEDIAN_SNR >70)]"
   ]
  },
  {
   "cell_type": "code",
   "execution_count": 7,
   "metadata": {},
   "outputs": [],
   "source": [
    "def choose_ten(df):\n",
    "    if len(df) >10:\n",
    "        return df.sort_values('MEDIAN_SNR', ascending=False)[:10]\n",
    "    else:\n",
    "        return df"
   ]
  },
  {
   "cell_type": "code",
   "execution_count": 42,
   "metadata": {},
   "outputs": [
    {
     "data": {
      "text/plain": [
       "207     227.000000\n",
       "1912    214.000000\n",
       "2007    159.000000\n",
       "1717    155.000000\n",
       "1854    135.000000\n",
       "962     118.000000\n",
       "679     113.000000\n",
       "725     100.000000\n",
       "2075     97.931709\n",
       "808      96.000000\n",
       "Name: MEDIAN_SNR, dtype: float64"
      ]
     },
     "execution_count": 42,
     "metadata": {},
     "output_type": "execute_result"
    }
   ],
   "source": [
    "#tdwarfs.MEDIAN_SNR"
   ]
  },
  {
   "cell_type": "code",
   "execution_count": 9,
   "metadata": {},
   "outputs": [],
   "source": [
    "ls=ldwarfs.groupby('SPEX_TYPE').apply(choose_ten).reset_index(drop=True)#.groupby('SPEX_TYPE').count()"
   ]
  },
  {
   "cell_type": "code",
   "execution_count": 10,
   "metadata": {},
   "outputs": [],
   "source": [
    "smlf=pd.concat([mdwarfs, ls, tdwarfs]).reset_index(drop=True)"
   ]
  },
  {
   "cell_type": "code",
   "execution_count": 11,
   "metadata": {},
   "outputs": [],
   "source": [
    "#smlf"
   ]
  },
  {
   "cell_type": "code",
   "execution_count": 12,
   "metadata": {
    "scrolled": true
   },
   "outputs": [],
   "source": [
    "%%capture\n",
    "templs=smlf.DATA_FILE.apply(lambda x: splat.getSpectrum(filename=x)[0])\n",
    "sds_spectra=sds.DATA_FILE.apply(lambda x: splat.getSpectrum(filename=x)[0])"
   ]
  },
  {
   "cell_type": "code",
   "execution_count": 13,
   "metadata": {},
   "outputs": [],
   "source": [
    "schntb['spectra']=[x[0] for x in  spectra_schn]\n",
    "\n",
    "schntb['snr']=[x[1] for x in  spectra_schn]\n",
    "\n",
    "schntb=schntb[schntb.snr>=2.].reset_index(drop=True)\n",
    "\n",
    "all_spectra=np.concatenate([templs,schntb.spectra.values ])"
   ]
  },
  {
   "cell_type": "code",
   "execution_count": 17,
   "metadata": {},
   "outputs": [],
   "source": [
    "#import pickle\n",
    "#output = open('/users/caganze/research/popsims/data/splat_spectra.pkl', 'wb')\n",
    "#pickle.dump(all_spectra, output)\n",
    "#output.close()\n",
    "\n",
    "#import pickle\n",
    "#output = open('/users/caganze/research/popsims/data/sd_spectra.pkl', 'wb')\n",
    "#pickle.dump(sds_spectra, output)\n",
    "#output.close()"
   ]
  },
  {
   "cell_type": "code",
   "execution_count": 18,
   "metadata": {},
   "outputs": [],
   "source": [
    "def make_spt_number(spt):\n",
    "    ##make a spt a number\n",
    "    if isinstance(spt, str):\n",
    "        return splat.typeToNum(spt)\n",
    "    else:\n",
    "        return spt"
   ]
  },
  {
   "cell_type": "code",
   "execution_count": 19,
   "metadata": {},
   "outputs": [],
   "source": [
    "spts=np.concatenate([smlf.SPEX_TYPE.apply(make_spt_number).values,\n",
    "                     schntb.Spec.apply(make_spt_number).values,\n",
    "                    ])"
   ]
  },
  {
   "cell_type": "code",
   "execution_count": 20,
   "metadata": {},
   "outputs": [],
   "source": [
    "assert len(spts) == len(all_spectra)"
   ]
  },
  {
   "cell_type": "code",
   "execution_count": 21,
   "metadata": {},
   "outputs": [],
   "source": [
    "sds_spts=sds.SPEX_TYPE.apply(make_spt_number).values"
   ]
  },
  {
   "cell_type": "code",
   "execution_count": 22,
   "metadata": {},
   "outputs": [],
   "source": [
    "fl_pairs= [['WFIRST_WFIJ', '2MASS J'],\n",
    "               ['WFIRST_WFIY', '2MASS J'],\n",
    "               ['WFIRST_WFIZ', '2MASS J'],\n",
    "               ['WFIRST_WFIH', '2MASS H'],\n",
    "               ['WFIRST_WFIF', '2MASS H'],\n",
    "               ['EUCLID_J', '2MASS J'],\n",
    "               ['EUCLID_H', '2MASS H'],\n",
    "               ['EUCLID_Y','2MASS J'],\n",
    "               ['WFC3_F110W', '2MASS J']]"
   ]
  },
  {
   "cell_type": "code",
   "execution_count": 23,
   "metadata": {},
   "outputs": [],
   "source": [
    "def wfirst_colors(sp):\n",
    "    sp.normalize()\n",
    "    res={}\n",
    "    for p in fl_pairs:\n",
    "        res.update({p[0]+'and'+p[1]: \\\n",
    "                    get_colors(sp, p[0], p[1])})\n",
    "    return res"
   ]
  },
  {
   "cell_type": "code",
   "execution_count": 24,
   "metadata": {},
   "outputs": [
    {
     "name": "stderr",
     "output_type": "stream",
     "text": [
      "100%|██████████| 336/336 [07:52<00:00,  1.41s/it]\n"
     ]
    }
   ],
   "source": [
    "df=pd.DataFrame.from_records([wfirst_colors(x) for x in tqdm(all_spectra)])"
   ]
  },
  {
   "cell_type": "code",
   "execution_count": 25,
   "metadata": {
    "scrolled": true
   },
   "outputs": [
    {
     "name": "stderr",
     "output_type": "stream",
     "text": [
      "100%|██████████| 38/38 [00:57<00:00,  1.51s/it]\n"
     ]
    }
   ],
   "source": [
    "sd_df=pd.DataFrame.from_records([wfirst_colors(x) for x in tqdm(sds_spectra)])\n",
    "sd_df['spt']=sds_spts"
   ]
  },
  {
   "cell_type": "code",
   "execution_count": 26,
   "metadata": {},
   "outputs": [],
   "source": [
    "df['spt']=spts"
   ]
  },
  {
   "cell_type": "code",
   "execution_count": 27,
   "metadata": {},
   "outputs": [],
   "source": [
    "\n",
    "def k_clip_fit(x, y, sigma_y, sigma = 5, n=6):\n",
    "    \n",
    "    '''Fit a polynomial to y vs. x, and k-sigma clip until convergence\n",
    "    hard-coded, returns mask array\n",
    "    '''\n",
    "    \n",
    "    not_clipped = np.ones_like(y).astype(bool)\n",
    "    n_remove = 1\n",
    "    \n",
    "    #use median sigma\n",
    "    #median_sigma= np.nanmedian(sigma_y)\n",
    "    \n",
    "    while n_remove > 0:\n",
    "\n",
    "        best_fit = np.poly1d(np.polyfit(x[not_clipped], y[not_clipped], n))\n",
    "        \n",
    "        norm_res = (np.abs(y - best_fit(x)))/(sigma_y)\n",
    "        remove = np.logical_and(norm_res >= sigma, not_clipped == 1)\n",
    "        n_remove = sum(remove)\n",
    "        not_clipped[remove] = 0   \n",
    "        \n",
    "    return  not_clipped\n",
    "\n",
    "def fit_with_nsigma_clipping(x, y, y_unc, n, sigma=3.):\n",
    "    not_clipped = k_clip_fit(x, y, y_unc, sigma = sigma)\n",
    "    return not_clipped, np.poly1d(np.polyfit(x[not_clipped], y[not_clipped], n))"
   ]
  },
  {
   "cell_type": "code",
   "execution_count": 28,
   "metadata": {},
   "outputs": [],
   "source": [
    "#"
   ]
  },
  {
   "cell_type": "code",
   "execution_count": 29,
   "metadata": {},
   "outputs": [
    {
     "data": {
      "image/png": "[encoded data removed]",
      "text/plain": [
       "<Figure size 864x432 with 6 Axes>"
      ]
     },
     "metadata": {
      "needs_background": "light"
     },
     "output_type": "display_data"
    }
   ],
   "source": [
    "fig, ax=plt.subplots(2, 3, figsize=(12, 6))\n",
    "for c, a in zip(df.columns, np.concatenate(ax)):\n",
    "    if c=='spt':\n",
    "        pass\n",
    "    else:\n",
    "        #fit=None\n",
    "        vals=np.vstack(df[c].apply(lambda x: np.array(x)).values)\n",
    "        sd_vals=np.vstack(sd_df[c].apply(lambda x: np.array(x)).values)\n",
    "        #mask= np.logical_or.reduce([np.isnan(spts), \n",
    "        #                            np.isnan(vals[:,0]),\n",
    "        #                            np.isnan(vals[:,1]),\n",
    "        #                           abs(vals[:,1]/vals[:,0]) > 100.])\n",
    "        \n",
    "        #m, fit= fit_with_nsigma_clipping(spts[~mask], \n",
    "        #                              vals[:,0][~mask], \n",
    "        #                              vals[:,1][~mask], 6, sigma=5.)\n",
    "        \n",
    "       \n",
    "      \n",
    "        a.errorbar(spts, vals[:,0], fmt='+', \n",
    "                   yerr=vals[:,1], color='r')\n",
    "        \n",
    "        a.errorbar(sds_spts, sd_vals[:,0], fmt='+', \n",
    "                   yerr=sd_vals[:,1], color='b')\n",
    "       \n",
    "        \n",
    "        #a.plot(np.arange(15, 43), fit(np.arange(15, 43)), c='k')\n",
    "        a.set_ylabel(c.upper().replace('AND', '-'))\n",
    "        a.set_xlabel('Spectral Type')\n",
    "        plt.tight_layout()\n"
   ]
  },
  {
   "cell_type": "code",
   "execution_count": 30,
   "metadata": {},
   "outputs": [],
   "source": [
    "#absolute magnitude relation\n",
    "import splat.empirical as spe\n",
    "\n",
    "kirkpa2019pol={'2MASS H':{'pol':np.poly1d(np.flip([36.9714, -8.66856, 1.05122 ,-0.0344809])), \n",
    "                    'scatter':.67, 'range':[36, 44]}}\n",
    "kirkpa2020pol={'2MASS H':{'pol':np.poly1d(np.flip([-6.918e01, 1.1863e+01,-5.4084e-1, 8.466e-03 ])), \n",
    "                    'scatter':.51, 'range':[36, 44]}}\n",
    "best_dict={'2MASS J': {\\\n",
    "            'spt': [16,17,18,19,20,21,22,23,24,25,26,27,28,29,30,31,32,33,34,35,36,37,38,39], \\\n",
    "            'values': [10.36,10.77,11.15,11.46,11.76,12.03,12.32,12.77,13.51,13.69,14.18,14.94,14.90,14.46,14.56,15.25,14.54,14.26,13.89,14.94,15.53,16.78,17.18,17.75],\\\n",
    "            'rms': [0.30,0.30,0.42,0.34,0.18,0.15,0.21,0.24,0.28,0.25,0.60,0.20,0.13,0.71,0.5,0.12,0.06,0.16,0.36,0.12,0.27,0.76,0.51,0.5]},\n",
    "        '2MASS H': {\\\n",
    "            'spt': [16,17,18,19,20,21,22,23,24,25,26,27,28,29,30,31,32,33,34,35,36,37,38,39], \\\n",
    "            'values': [9.76,10.14,10.47,10.74,11.00,11.23,11.41,11.82,12.45,12.63,13.19,13.82,13.77,13.39,13.62,14.39,13.73,13.67,13.57,14.76,15.48,16.70,17.09,17.51],\\\n",
    "            'rms': [0.30,0.31,0.43,0.35,0.23,0.21,0.25,0.29,0.3,0.30,0.62,0.31,0.20,0.73,0.5,0.18,0.15,0.24,0.40,0.24,0.37,0.78,0.5,0.5]}}\n",
    "\n",
    "BEST={}\n",
    "for k in best_dict.keys():\n",
    "    BEST[k]=fit_with_nsigma_clipping(np.array(best_dict[k]['spt']), \n",
    "                                      np.array(best_dict[k]['values']), \n",
    "                                      np.array(best_dict[k]['rms'])\n",
    "                                     , 6, sigma=5.)\n",
    "from astropy.io import ascii\n",
    "def make_mamajek_fit(spt):\n",
    "    mamjk=ascii.read('/users/caganze/research/wisps/data/mamajek_relations.txt').to_pandas().replace('None', np.nan)\n",
    "    js=mamjk.M_J.apply(float).values\n",
    "    jminush=mamjk['J-H'].apply(float).values\n",
    "    hs=js-jminush\n",
    "    \n",
    "    spts=mamjk.SpT.apply(splat.typeToNum).apply(float).values\n",
    "    \n",
    "    hsortedindex=np.argsort(hs)\n",
    "    jsortedindex=np.argsort(js)\n",
    "    \n",
    "    hval=np.interp(spt,  spts[hsortedindex], hs[hsortedindex])\n",
    "    jval=np.interp(spt,  spts[jsortedindex], js[jsortedindex])\n",
    "    \n",
    "    return ((jval, 0.4), (hval, 0.4))\n",
    "\n",
    "def absolute_mag_kirkpatrick(spt, filt):\n",
    "    if filt != '2MASS H':\n",
    "        return np.nan\n",
    "    else:\n",
    "        pol=kirkpa2019pol[filt]['pol']\n",
    "        unc=kirkpa2019pol[filt]['scatter']\n",
    "        return pol(spt-30), unc\n",
    "    \n",
    "\n",
    "def get_abs_mag(spt, flter):\n",
    "    m, munc=(np.nan, np.nan)\n",
    "    if flter=='2MASS J':\n",
    "        #m, munc= spe.typeToMag(spt, '2MASS J')\n",
    "        ((m, munc), (h, hunc))=make_mamajek_fit(spt)\n",
    "        \n",
    "    if flter=='2MASS H':\n",
    "        if spt <36:\n",
    "            #m=BEST['2MASS H'][1](spt)\n",
    "            #munc= np.nanmedian(best_dict[k]['rms'])\n",
    "            #m, munc=spe.typeToMag(spt, '2MASS H')\n",
    "            ((j, junc), (m, munc))=make_mamajek_fit(spt)\n",
    "        else:\n",
    "            m, munc=absolute_mag_kirkpatrick(spt, '2MASS H')\n",
    "            \n",
    "    return m, munc"
   ]
  },
  {
   "cell_type": "code",
   "execution_count": 31,
   "metadata": {},
   "outputs": [],
   "source": [
    "#plt.plot(absolute_mag_kirkpatrick(np.arange(35, 45), '2MASS H')[0])"
   ]
  },
  {
   "cell_type": "code",
   "execution_count": 32,
   "metadata": {},
   "outputs": [],
   "source": [
    "#GHJK"
   ]
  },
  {
   "cell_type": "code",
   "execution_count": 33,
   "metadata": {},
   "outputs": [],
   "source": [
    "def get_abs_mags(row):\n",
    "    res={}\n",
    "    \n",
    "    for p in fl_pairs:\n",
    "        cl=p[0]+'and'+p[1]\n",
    "        v, ve=get_abs_mag(row.spt, p[1])\n",
    "        absm= row[cl][0]+v\n",
    "        res.update({p[0]: [absm,  (row[cl][1]**2+ve**2)**0.5]})\n",
    "    return pd.Series(res)\n",
    "        \n",
    "    "
   ]
  },
  {
   "cell_type": "code",
   "execution_count": 34,
   "metadata": {},
   "outputs": [],
   "source": [
    "abs_df=df.apply(get_abs_mags, axis=1)\n",
    "sd_abs_df=sd_df.apply(get_abs_mags, axis=1)"
   ]
  },
  {
   "cell_type": "code",
   "execution_count": 35,
   "metadata": {},
   "outputs": [],
   "source": [
    "FITS={}"
   ]
  },
  {
   "cell_type": "code",
   "execution_count": 36,
   "metadata": {},
   "outputs": [],
   "source": [
    "#gh"
   ]
  },
  {
   "cell_type": "code",
   "execution_count": 37,
   "metadata": {},
   "outputs": [
    {
     "data": {
      "image/png": "[encoded data removed]",
      "text/plain": [
       "<Figure size 864x432 with 6 Axes>"
      ]
     },
     "metadata": {
      "needs_background": "light"
     },
     "output_type": "display_data"
    }
   ],
   "source": [
    "fig, ax=plt.subplots(2, 3, figsize=(12, 6), sharey=True)\n",
    "\n",
    "for c, a in zip(abs_df.columns, np.concatenate(ax)):\n",
    "    if c=='spt':\n",
    "        pass\n",
    "    else:\n",
    "        vals=np.vstack(abs_df[c].values)\n",
    "        spts=df.spt.values\n",
    "        #print (vals[:,1])\n",
    "        mask= np.logical_or.reduce([np.isnan(spts), \n",
    "                                    np.isnan(vals[:,0]),\n",
    "                                    np.isnan(vals[:,1])])\n",
    "\n",
    "        m, fit= fit_with_nsigma_clipping(spts[~mask], \n",
    "                                      vals[:,0][~mask], \n",
    "                                      vals[:,1][~mask], 6, sigma=3.)\n",
    "        \n",
    "        \n",
    "        a.errorbar(spts, vals[:,0], fmt='+', \n",
    "                   yerr=vals[:,1], color='r')\n",
    "          \n",
    "        a.errorbar(spts[~mask][~m], vals[:,0][~mask][~m], fmt='+', \n",
    "                   yerr=vals[:,1][~mask][~m], color='b')\n",
    "        FITS.update({c: (fit, np.nanmedian(vals[:,1]))})\n",
    "        a.plot(np.arange(15, 42), fit(np.arange(15, 42)), c='k')\n",
    "        a.set_ylabel(c)\n",
    "        a.set_xlabel('Spectral Type')\n",
    "        plt.tight_layout()\n",
    "        #a.set_xlim([15, 41])\n",
    "        #a.set_ylim([8, 25])\n"
   ]
  },
  {
   "cell_type": "code",
   "execution_count": 38,
   "metadata": {},
   "outputs": [],
   "source": [
    "import pickle\n",
    "output = open('/users/caganze/research/popsims/data/polynomial_relations.pkl', 'wb')\n",
    "pickle.dump(FITS, output)\n",
    "output.close()"
   ]
  },
  {
   "cell_type": "code",
   "execution_count": null,
   "metadata": {},
   "outputs": [],
   "source": []
  }
 ],
 "metadata": {
  "kernelspec": {
   "display_name": "Python 3",
   "language": "python",
   "name": "python3"
  },
  "language_info": {
   "codemirror_mode": {
    "name": "ipython",
    "version": 3
   },
   "file_extension": ".py",
   "mimetype": "text/x-python",
   "name": "python",
   "nbconvert_exporter": "python",
   "pygments_lexer": "ipython3",
   "version": "3.8.5"
  }
 },
 "nbformat": 4,
 "nbformat_minor": 4
}
