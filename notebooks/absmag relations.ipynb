{
 "cells": [
  {
   "cell_type": "code",
   "execution_count": 1,
   "metadata": {},
   "outputs": [
    {
     "name": "stdout",
     "output_type": "stream",
     "text": [
      "Adding 145 sources from /Users/caganze/research/splat//resources/Spectra/Public/LRIS-RED/ to spectral database\n",
      "Adding 2404 sources from /Users/caganze/research/splat//resources/Spectra/Public/SPEX-PRISM/ to spectral database\n",
      "Adding 89 sources from /Users/caganze/research/splat//resources/Spectra/Public/MAGE/ to spectral database\n"
     ]
    }
   ],
   "source": [
    "#imports\n",
    "import numpy as np\n",
    "import splat\n",
    "import pandas as pd\n",
    "import glob\n",
    "from astropy.io import ascii\n",
    "import matplotlib.pyplot as plt\n",
    "from tqdm import tqdm\n",
    "splat.initializeStandards()\n",
    "import seaborn as sns\n",
    "import popsims\n",
    "splat.initializeStandards(all=True)\n",
    "sns.set_style(\"darkgrid\", {\"axes.facecolor\": \".9\"})\n",
    "%matplotlib inline\n",
    "\n"
   ]
  },
  {
   "cell_type": "code",
   "execution_count": 2,
   "metadata": {},
   "outputs": [],
   "source": [
    "ABS_MAG_FILE='/users/caganze/research/popsims/data/polynomial_relations.pkl'"
   ]
  },
  {
   "cell_type": "code",
   "execution_count": 3,
   "metadata": {},
   "outputs": [],
   "source": [
    " KVALS={'2MASS_KS': {\\\n",
    "            'spt': [0.,0.5,1.,1.5,2.,2.5,3.,3.5,4.,4.5,5.,5.5,6.,6.5,7.,8.,9.,10,10.5,11,11.5,12,12.5,13,13.5,14,14.5,15,15.5,16,16.5,17,17.5,18,18.5,19,19.5,20.,21.,22.,23.,24.,25.,26.,27.,28.,29.,30.,31.,32.,33.,34.,34.5,35.,35.5,36.,37.,37.5,38.,39.,39.5,40.5,41.,41.5,42.],\\\n",
    "            'values': [3.81, 3.82, 3.87, 3.9, 4.04, 4.07, 4.16, 4.21, 4.25, 4.26, 4.48, 4.57, 4.66, 4.78, 4.82, 4.98, 5.11, 5.22, 5.36, 5.67, 5.85, 6.06, 6.27, 6.54, 7.19, 7.55, 7.93, 8.36, 9.01, 9.32, 9.47, 9.76, 9.97, 10.11, 10.22, 10.3, 10.45, 10.55, 10.8, 10.9, 11.3, 11.4, 11.82, 12.27, 12.62, 12.7, 12.74, 12.9, 12.87, 13.19, 13.69, 14.51, 14.66, 14.9, 15.18, 15.54, 16.36, 16.85, 17.43, 18.48, 19.32, 21.5, 23, 23.5, 24],\\\n",
    "            'rms': np.zeros(65)+0.05}}"
   ]
  },
  {
   "cell_type": "code",
   "execution_count": 4,
   "metadata": {},
   "outputs": [],
   "source": [
    "sptgrid=np.arange(10, 41, 100)"
   ]
  },
  {
   "cell_type": "code",
   "execution_count": 5,
   "metadata": {},
   "outputs": [],
   "source": [
    "def get_colors(sp, flt, filt_2mass):\n",
    "    #measuring filtermags in for two filters and comparing that to target filters\n",
    "    mag, mag_unc = splat.filterMag(sp, flt)\n",
    "    #calculate the mag of the standard in J and H\n",
    "    mag_2mass, mag_unc2mass = splat.filterMag(sp, filt_2mass)\n",
    "    #calculate the offset \n",
    "    return mag_2mass-mag, (mag_unc**2+ mag_unc2mass**2)**0.5"
   ]
  },
  {
   "cell_type": "code",
   "execution_count": 6,
   "metadata": {},
   "outputs": [],
   "source": [
    "#load spectra, ignore binaries, objects with high uncertainty in mag and objects without parallaxes\n",
    "splat_db=splat.searchLibrary(vlm=True, giant=False, young=False, binary=False)\n",
    "splat_db['SHORTNAME']=splat_db.DESIGNATION.apply(lambda x: splat.designationToShortName)\n",
    "sml=splat_db[~ ((splat_db.H_2MASS_E > 0.5) | (splat_db.J_2MASS_E > 0.5)) ]\n",
    "\n",
    "#sds=sml[(sml.METALLICITY_CLASS=='sd') | (sml.METALLICITY_CLASS=='esd')  ]\n",
    "sml=sml[~((sml.METALLICITY_CLASS=='sd') | (sml.METALLICITY_CLASS=='esd') \\\n",
    "          | (sml.MEDIAN_SNR <20))]"
   ]
  },
  {
   "cell_type": "code",
   "execution_count": 7,
   "metadata": {},
   "outputs": [],
   "source": [
    "#verified list of sds\n"
   ]
  },
  {
   "cell_type": "code",
   "execution_count": 8,
   "metadata": {},
   "outputs": [],
   "source": [
    "#get y dwarfs\n",
    "def get_shortname(n):\n",
    "    return splat.designationToShortName(n).replace('J', 'WISE')\n",
    "schn='/Users/caganze/research/wisps/data/schneider/*.txt'\n",
    "schntb=pd.read_csv('/Users/caganze/research/wisps/data/schneider2015.txt', \n",
    "                   delimiter=' ').drop(columns='Unnamed: 14')\n",
    "schntb['shortname']=schntb.Name.apply(get_shortname)\n",
    "spectra_schn=[]\n",
    "for f in glob.glob(schn):\n",
    "    d=ascii.read(f).to_pandas()\n",
    "    shortname=(f.split('/')[-1]).split('.txt')[0]\n",
    "    s=splat.Spectrum(wave=d.col1, \n",
    "                     flux=d.col2,\n",
    "                     noise=d.col3, \n",
    "                     name=shortname)\n",
    "    #measure snr \n",
    "    mask= np.logical_and(d.col1>1.0, d.col1<2.4)\n",
    "    snr= (np.nanmedian(d.col2[mask]/d.col3[mask]))\n",
    "    spectra_schn.append([s, snr])"
   ]
  },
  {
   "cell_type": "code",
   "execution_count": 9,
   "metadata": {},
   "outputs": [],
   "source": [
    "mdwarfs=sml[ (sml.SPEX_TYPE.apply(splat.typeToNum) <20)]\n",
    "ldwarfs=sml[ (sml.SPEX_TYPE.apply(splat.typeToNum).between(20, 30))]\n",
    "tdwarfs=sml[ (sml.SPEX_TYPE.apply(splat.typeToNum).between(30, 40))]"
   ]
  },
  {
   "cell_type": "code",
   "execution_count": 10,
   "metadata": {},
   "outputs": [],
   "source": [
    "#tighter_constraints on m dwarfs \n",
    "mdwarfs=mdwarfs[(~mdwarfs.PARALLAX.isna()) & (mdwarfs.MEDIAN_SNR >100)]\n",
    "ldwarfs=ldwarfs[ (ldwarfs.MEDIAN_SNR >70)]"
   ]
  },
  {
   "cell_type": "code",
   "execution_count": 11,
   "metadata": {},
   "outputs": [],
   "source": [
    "def choose_ten(df):\n",
    "    if len(df) >10:\n",
    "        return df.sort_values('MEDIAN_SNR', ascending=False)[:10]\n",
    "    else:\n",
    "        return df"
   ]
  },
  {
   "cell_type": "code",
   "execution_count": 12,
   "metadata": {},
   "outputs": [],
   "source": [
    "#tdwarfs.MEDIAN_SNR"
   ]
  },
  {
   "cell_type": "code",
   "execution_count": 13,
   "metadata": {},
   "outputs": [],
   "source": [
    "ls=ldwarfs.groupby('SPEX_TYPE').apply(choose_ten).reset_index(drop=True)#.groupby('SPEX_TYPE').count()"
   ]
  },
  {
   "cell_type": "code",
   "execution_count": 14,
   "metadata": {},
   "outputs": [],
   "source": [
    "smlf=pd.concat([mdwarfs, ls, tdwarfs]).reset_index(drop=True)"
   ]
  },
  {
   "cell_type": "code",
   "execution_count": 15,
   "metadata": {},
   "outputs": [],
   "source": [
    "def get_file(x):\n",
    "    try:\n",
    "        return splat.getSpectrum(filename=x)[0]\n",
    "    except:\n",
    "        return "
   ]
  },
  {
   "cell_type": "code",
   "execution_count": 16,
   "metadata": {
    "scrolled": true
   },
   "outputs": [],
   "source": [
    "%%capture\n",
    "templs=smlf.DATA_FILE.apply(lambda x: get_file(x))\n",
    "#sds_spectra=sds.DATA_FILE.apply(lambda x:  get_file(x))\n",
    "\n",
    "\n",
    "#all_spectra=pd.read_pickle('/users/caganze/research/popsims/data/splat_spectra.pkl')\n",
    "#sd_spectra=pd.read_pickle('/users/caganze/research/popsims/data/sd_spectra.pkl')"
   ]
  },
  {
   "cell_type": "code",
   "execution_count": 17,
   "metadata": {},
   "outputs": [],
   "source": [
    "schntb['spectra']=[x[0] for x in  spectra_schn]\n",
    "\n",
    "schntb['snr']=[x[1] for x in  spectra_schn]\n",
    "\n",
    "schntb=schntb[schntb.snr>=2.].reset_index(drop=True)\n",
    "\n",
    "all_spectra=np.concatenate([templs,schntb.spectra.values ])"
   ]
  },
  {
   "cell_type": "code",
   "execution_count": 18,
   "metadata": {},
   "outputs": [
    {
     "data": {
      "text/plain": [
       "348"
      ]
     },
     "execution_count": 18,
     "metadata": {},
     "output_type": "execute_result"
    }
   ],
   "source": [
    "len(all_spectra)"
   ]
  },
  {
   "cell_type": "code",
   "execution_count": 19,
   "metadata": {},
   "outputs": [],
   "source": [
    "#import pickle\n",
    "#output = open('/users/caganze/research/popsims/data/splat_spectra.pkl', 'wb')\n",
    "#pickle.dump(all_spectra, output)\n",
    "#output.close()\n",
    "\n",
    "#import pickle\n",
    "#output = open('/users/caganze/research/popsims/data/sd_spectra.pkl', 'wb')\n",
    "#pickle.dump(sds_spectra, output)\n",
    "#output.close()\n"
   ]
  },
  {
   "cell_type": "code",
   "execution_count": 20,
   "metadata": {},
   "outputs": [],
   "source": [
    "def make_spt_number(spt):\n",
    "    ##make a spt a number\n",
    "    if isinstance(spt, str):\n",
    "        return splat.typeToNum(spt)\n",
    "    else:\n",
    "        return spt"
   ]
  },
  {
   "cell_type": "code",
   "execution_count": 21,
   "metadata": {},
   "outputs": [],
   "source": [
    "spts=np.concatenate([smlf.SPEX_TYPE.apply(make_spt_number).values,\n",
    "                     schntb.Spec.apply(make_spt_number).values,\n",
    "                    ])"
   ]
  },
  {
   "cell_type": "code",
   "execution_count": 22,
   "metadata": {},
   "outputs": [],
   "source": [
    "assert len(spts) == len(all_spectra)"
   ]
  },
  {
   "cell_type": "code",
   "execution_count": 23,
   "metadata": {},
   "outputs": [],
   "source": [
    "ascii.write?"
   ]
  },
  {
   "cell_type": "code",
   "execution_count": 24,
   "metadata": {},
   "outputs": [],
   "source": [
    "#for f in glob.glob('/users/caganze/research/splat/resources/filters/*.dat'):\n",
    "#    d=ascii.read(f,names=['LAM', 'TRANSMISSION'])\n",
    "#    d['LAM']=d['LAM']/10_000\n",
    "    #print (d)\n",
    "#    ascii.write(d, f.replace('.dat', '.txt'), comment='#')\n",
    "#    plt.plot(d['LAM'], d['TRANSMISSION'])\n",
    "#    del d\n",
    "    "
   ]
  },
  {
   "cell_type": "code",
   "execution_count": null,
   "metadata": {},
   "outputs": [],
   "source": [
    "\n"
   ]
  },
  {
   "cell_type": "code",
   "execution_count": 25,
   "metadata": {},
   "outputs": [],
   "source": [
    "#sds_spts=sds.SPEX_TYPE.apply(make_spt_number).values"
   ]
  },
  {
   "cell_type": "code",
   "execution_count": 26,
   "metadata": {},
   "outputs": [],
   "source": [
    "#this has already been simulated \n",
    "darf_pairs= [['WFIRST_WFIJ', '2MASS J'],\n",
    "           ['WFIRST_WFIY', 'PANSTARRS_Y'],\n",
    "           ['WFIRST_WFIZ', 'PANSTARRS_Z'],\n",
    "           ['WFIRST_WFIH', '2MASS H'],\n",
    "           ['WFIRST_WFIF', '2MASS H'],\n",
    "           ['WFIRST_WFIR', 'PANSTARRS_Z'],\n",
    "           ['EUCLID_J', '2MASS J'],\n",
    "           ['EUCLID_H', '2MASS H'],\n",
    "           ['EUCLID_Y','PANSTARRS_Y'],\n",
    "           ['NIRCAM_F115W','2MASS J'],\n",
    "           ['NIRCAM_F140M', '2MASS H'],\n",
    "           ['NIRCAM_F150W', '2MASS H'],\n",
    "           ['NIRCAM_F200W', '2MASS H'],\n",
    "           ['WFC3_F110W', '2MASS J'],\n",
    "           ['WFC3_F140W', '2MASS J'],\n",
    "           ['WFC3_F160W', '2MASS H'],\n",
    "           ['VISTA_Z', 'PANSTARRS_Z'],\n",
    "           ['VISTA_Y', 'PANSTARRS_Y'],\n",
    "           ['VISTA_J', '2MASS J'],\n",
    "           ['VISTA_H', '2MASS H'],\n",
    "           ['VISTA_KS', '2MASS_H'],\n",
    "           ['UKIDSS_Z', 'PANSTARRS_Z'],\n",
    "           ['UKIDSS_Y', 'PANSTARRS_Y'],\n",
    "           ['UKIDSS_J', '2MASS J'],\n",
    "           ['UKIDSS_H', '2MASS H'],\n",
    "           ['UKIDSS_K','2MASS_H'],\n",
    "           ['LSST_G', 'PANSTARRS_I'],\n",
    "           ['LSST_R', 'PANSTARRS_Z'],\n",
    "           ['LSST_I',  'PANSTARRS_Z'],\n",
    "           ['LSST_Z',  'PANSTARRS_Z'],\n",
    "           ['LSST_Y',  'PANSTARRS_Y'],\n",
    "           ['SDSS_R',  'PANSTARRS_Z'],\n",
    "           ['SDSS_I',  'PANSTARRS_Z'],\n",
    "           ['SDSS_Z',  'PANSTARRS_Z']]\n",
    "\n",
    "\n",
    "sd_pairs= [['PANSTARRS_Z', 'SDSS_Z'],\n",
    "           ['PANSTARRS_I', 'SDSS_I'],\n",
    "           ['PANSTARRS_Y', 'SDSS_Z'],\n",
    "           ['PANSTARRS_R', 'SDSS_R'],\n",
    "           #['VISTA_R', 'SDSS_R'],\n",
    "           ['VISTA_Z', 'SDSS_Z'],\n",
    "           ['VISTA_Y', 'SDSS_Z'],\n",
    "           ['VISTA_J', '2MASS J'],\n",
    "           ['UKIDSS_Z', 'SDSS_Z'],\n",
    "           ['UKIDSS_Y', 'SDSS_Z'],\n",
    "           ['UKIDSS_J', '2MASS J'],\n",
    "           ['UKIDSS_H', '2MASS H'],\n",
    "           ['UKIDSS_K', '2MASS KS']]\n"
   ]
  },
  {
   "cell_type": "code",
   "execution_count": 27,
   "metadata": {},
   "outputs": [],
   "source": [
    "#sd_absolute_mag(spt, 20)"
   ]
  },
  {
   "cell_type": "code",
   "execution_count": 28,
   "metadata": {},
   "outputs": [
    {
     "data": {
      "text/plain": [
       "<function splat.utilities.typeToNum(inp, subclass='dwarf', error='', uncertainty=0.0, luminosity_class='', metallicity_class='', age_class='', color_class='', peculiar=False, verbose=False, **kwargs)>"
      ]
     },
     "execution_count": 28,
     "metadata": {},
     "output_type": "execute_result"
    }
   ],
   "source": [
    "splat.typeToNum"
   ]
  },
  {
   "cell_type": "code",
   "execution_count": 29,
   "metadata": {},
   "outputs": [],
   "source": [
    "#remove nones\n",
    "nones= np.array(all_spectra)==None\n",
    "all_spectra=all_spectra[~nones]\n",
    "spts=spts[~nones]\n",
    "assert len(spts) == len(all_spectra)"
   ]
  },
  {
   "cell_type": "code",
   "execution_count": 30,
   "metadata": {},
   "outputs": [],
   "source": [
    "def compute_colors(sp, sd=False):\n",
    "    fl_pairs=None\n",
    "    if sd: fl_pairs=sd_pairs\n",
    "    if not sd: fl_pairs=darf_pairs\n",
    "    sp.normalize()\n",
    "    res={}\n",
    "    for p in fl_pairs:\n",
    "        res.update({p[0]+'and'+p[1]: \\\n",
    "                    get_colors(sp, p[0], p[1])})\n",
    "    return res"
   ]
  },
  {
   "cell_type": "code",
   "execution_count": 31,
   "metadata": {},
   "outputs": [],
   "source": [
    "zhang_subds=pd.read_pickle(popsims.DATA_FOLDER+'/combined_sd_templates.pkl')\n",
    "zhang_subds['spt']=zhang_subds.sptype.apply(make_spt_number)"
   ]
  },
  {
   "cell_type": "code",
   "execution_count": 32,
   "metadata": {},
   "outputs": [],
   "source": [
    "optical_stds=pd.read_pickle(popsims.DATA_FOLDER+'/combined_optical_templates.pkl')\n",
    "optical_stds['spt']=optical_stds.sptype.apply(make_spt_number)"
   ]
  },
  {
   "cell_type": "code",
   "execution_count": null,
   "metadata": {},
   "outputs": [],
   "source": []
  },
  {
   "cell_type": "code",
   "execution_count": 33,
   "metadata": {},
   "outputs": [],
   "source": [
    "#only pick those ith sds or esd or usd in their sptype\n",
    "zhang_subds=zhang_subds[np.logical_or.reduce([zhang_subds.sptype.str.startswith('esd'),\\\n",
    "                                             zhang_subds.sptype.str.startswith('sd'),\\\n",
    "                                              zhang_subds.sptype.str.startswith('usd')])]\n",
    "#add \n",
    "optical_sd_bool=np.logical_or.reduce([optical_stds.sptype.str.startswith('esd'),\\\n",
    "                                    optical_stds.sptype.str.startswith('sd'),\\\n",
    "                                    optical_stds.sptype.str.startswith('usd')]).astype(bool)\n"
   ]
  },
  {
   "cell_type": "code",
   "execution_count": 34,
   "metadata": {},
   "outputs": [],
   "source": [
    "zhang_subds=zhang_subds.append(optical_stds[optical_sd_bool])"
   ]
  },
  {
   "cell_type": "code",
   "execution_count": 35,
   "metadata": {},
   "outputs": [],
   "source": [
    "assert len(zhang_subds)==131"
   ]
  },
  {
   "cell_type": "code",
   "execution_count": 36,
   "metadata": {},
   "outputs": [],
   "source": [
    "#zhang_subds.spt.values"
   ]
  },
  {
   "cell_type": "code",
   "execution_count": 37,
   "metadata": {
    "scrolled": true
   },
   "outputs": [],
   "source": [
    "#sd_df"
   ]
  },
  {
   "cell_type": "code",
   "execution_count": 38,
   "metadata": {},
   "outputs": [],
   "source": [
    "optical_templates=optical_stds[~optical_sd_bool].spectra.values\n",
    "optical_spts=optical_stds[~optical_sd_bool].spt.values"
   ]
  },
  {
   "cell_type": "code",
   "execution_count": 39,
   "metadata": {},
   "outputs": [],
   "source": [
    "optical_templates=optical_templates[optical_spts>=10]\n",
    "optical_spts=optical_spts[optical_spts>=10]\n",
    "\n",
    "assert len(np.concatenate([optical_templates, all_spectra]))==\\\n",
    "len(np.concatenate([optical_spts, spts]))"
   ]
  },
  {
   "cell_type": "code",
   "execution_count": 40,
   "metadata": {
    "scrolled": true
   },
   "outputs": [
    {
     "name": "stderr",
     "output_type": "stream",
     "text": [
      "100%|██████████| 131/131 [01:15<00:00,  1.73it/s]\n"
     ]
    }
   ],
   "source": [
    "sd_df=pd.DataFrame.from_records([compute_colors(x, sd=True) for x in tqdm(zhang_subds.spectra.values)])\n",
    "sd_df['spt']=zhang_subds.spt.values"
   ]
  },
  {
   "cell_type": "code",
   "execution_count": 41,
   "metadata": {},
   "outputs": [
    {
     "data": {
      "text/html": [
       "<div>\n",
       "<style scoped>\n",
       "    .dataframe tbody tr th:only-of-type {\n",
       "        vertical-align: middle;\n",
       "    }\n",
       "\n",
       "    .dataframe tbody tr th {\n",
       "        vertical-align: top;\n",
       "    }\n",
       "\n",
       "    .dataframe thead th {\n",
       "        text-align: right;\n",
       "    }\n",
       "</style>\n",
       "<table border=\"1\" class=\"dataframe\">\n",
       "  <thead>\n",
       "    <tr style=\"text-align: right;\">\n",
       "      <th></th>\n",
       "      <th>PANSTARRS_ZandSDSS_Z</th>\n",
       "      <th>PANSTARRS_IandSDSS_I</th>\n",
       "      <th>PANSTARRS_YandSDSS_Z</th>\n",
       "      <th>PANSTARRS_RandSDSS_R</th>\n",
       "      <th>VISTA_ZandSDSS_Z</th>\n",
       "      <th>VISTA_YandSDSS_Z</th>\n",
       "      <th>VISTA_Jand2MASS J</th>\n",
       "      <th>UKIDSS_ZandSDSS_Z</th>\n",
       "      <th>UKIDSS_YandSDSS_Z</th>\n",
       "      <th>UKIDSS_Jand2MASS J</th>\n",
       "      <th>UKIDSS_Hand2MASS H</th>\n",
       "      <th>UKIDSS_Kand2MASS KS</th>\n",
       "      <th>spt</th>\n",
       "    </tr>\n",
       "  </thead>\n",
       "  <tbody>\n",
       "    <tr>\n",
       "      <th>0</th>\n",
       "      <td>(-0.3827655294560657, 0.0016026329508747467)</td>\n",
       "      <td>(0.8256700105706383, 0.005680104008523804)</td>\n",
       "      <td>(0.5568726757012072, 0.0016806031988674168)</td>\n",
       "      <td>(-0.09613659001295183, 0.004480562754053901)</td>\n",
       "      <td>(0.2194559517886443, 0.001679596598803685)</td>\n",
       "      <td>(0.34846413909184193, 0.001951510342226211)</td>\n",
       "      <td>(nan, nan)</td>\n",
       "      <td>(0.3132111674076299, 0.0014685314078891499)</td>\n",
       "      <td>(0.11229056388340197, 0.0020526584864829656)</td>\n",
       "      <td>(nan, nan)</td>\n",
       "      <td>(nan, nan)</td>\n",
       "      <td>(nan, nan)</td>\n",
       "      <td>24.0</td>\n",
       "    </tr>\n",
       "    <tr>\n",
       "      <th>1</th>\n",
       "      <td>(nan, nan)</td>\n",
       "      <td>(nan, nan)</td>\n",
       "      <td>(nan, nan)</td>\n",
       "      <td>(nan, nan)</td>\n",
       "      <td>(nan, nan)</td>\n",
       "      <td>(nan, nan)</td>\n",
       "      <td>(nan, nan)</td>\n",
       "      <td>(nan, nan)</td>\n",
       "      <td>(nan, nan)</td>\n",
       "      <td>(nan, nan)</td>\n",
       "      <td>(nan, nan)</td>\n",
       "      <td>(nan, nan)</td>\n",
       "      <td>20.5</td>\n",
       "    </tr>\n",
       "    <tr>\n",
       "      <th>2</th>\n",
       "      <td>(nan, nan)</td>\n",
       "      <td>(nan, nan)</td>\n",
       "      <td>(nan, nan)</td>\n",
       "      <td>(nan, nan)</td>\n",
       "      <td>(nan, nan)</td>\n",
       "      <td>(nan, nan)</td>\n",
       "      <td>(nan, nan)</td>\n",
       "      <td>(nan, nan)</td>\n",
       "      <td>(nan, nan)</td>\n",
       "      <td>(nan, nan)</td>\n",
       "      <td>(nan, nan)</td>\n",
       "      <td>(nan, nan)</td>\n",
       "      <td>25.0</td>\n",
       "    </tr>\n",
       "    <tr>\n",
       "      <th>3</th>\n",
       "      <td>(-0.043724144711950075, 0.0014294652866296083)</td>\n",
       "      <td>(0.05637096216268844, 0.001477903680314007)</td>\n",
       "      <td>(0.14307052540973864, 0.0015228696101621739)</td>\n",
       "      <td>(0.007094670231671429, 0.001584374271805863)</td>\n",
       "      <td>(0.4969021120952881, 0.0016153084253324587)</td>\n",
       "      <td>(-0.8088954556878303, 0.0015489496233146293)</td>\n",
       "      <td>(nan, nan)</td>\n",
       "      <td>(0.5172825372385645, 0.0015447911606909337)</td>\n",
       "      <td>(-1.4178311220085504, 0.0015184080621737381)</td>\n",
       "      <td>(nan, nan)</td>\n",
       "      <td>(nan, nan)</td>\n",
       "      <td>(nan, nan)</td>\n",
       "      <td>17.0</td>\n",
       "    </tr>\n",
       "    <tr>\n",
       "      <th>4</th>\n",
       "      <td>(nan, nan)</td>\n",
       "      <td>(nan, nan)</td>\n",
       "      <td>(nan, nan)</td>\n",
       "      <td>(nan, nan)</td>\n",
       "      <td>(nan, nan)</td>\n",
       "      <td>(nan, nan)</td>\n",
       "      <td>(nan, nan)</td>\n",
       "      <td>(nan, nan)</td>\n",
       "      <td>(nan, nan)</td>\n",
       "      <td>(nan, nan)</td>\n",
       "      <td>(nan, nan)</td>\n",
       "      <td>(nan, nan)</td>\n",
       "      <td>21.5</td>\n",
       "    </tr>\n",
       "    <tr>\n",
       "      <th>...</th>\n",
       "      <td>...</td>\n",
       "      <td>...</td>\n",
       "      <td>...</td>\n",
       "      <td>...</td>\n",
       "      <td>...</td>\n",
       "      <td>...</td>\n",
       "      <td>...</td>\n",
       "      <td>...</td>\n",
       "      <td>...</td>\n",
       "      <td>...</td>\n",
       "      <td>...</td>\n",
       "      <td>...</td>\n",
       "      <td>...</td>\n",
       "    </tr>\n",
       "    <tr>\n",
       "      <th>126</th>\n",
       "      <td>(-0.013977340079573963, 0.0)</td>\n",
       "      <td>(0.024203588477432092, 0.0)</td>\n",
       "      <td>(0.0009163873482620488, 0.0)</td>\n",
       "      <td>(-0.05579202485289514, 0.0)</td>\n",
       "      <td>(0.521668952991341, 0.0)</td>\n",
       "      <td>(-0.529803978988582, 0.0)</td>\n",
       "      <td>(nan, nan)</td>\n",
       "      <td>(0.5420543683653012, 0.0)</td>\n",
       "      <td>(-0.9008750351125165, 0.0)</td>\n",
       "      <td>(nan, nan)</td>\n",
       "      <td>(nan, nan)</td>\n",
       "      <td>(nan, nan)</td>\n",
       "      <td>16.0</td>\n",
       "    </tr>\n",
       "    <tr>\n",
       "      <th>127</th>\n",
       "      <td>(-0.005836903809935734, 0.0)</td>\n",
       "      <td>(0.045757394533282536, 0.0)</td>\n",
       "      <td>(-0.015452606847913941, 0.0)</td>\n",
       "      <td>(-0.019104567637850067, 0.0)</td>\n",
       "      <td>(0.5336708489961044, 0.0)</td>\n",
       "      <td>(-0.5584788950904613, 0.0)</td>\n",
       "      <td>(nan, nan)</td>\n",
       "      <td>(0.5549463599882802, 0.0)</td>\n",
       "      <td>(-0.9363887504825268, 0.0)</td>\n",
       "      <td>(nan, nan)</td>\n",
       "      <td>(nan, nan)</td>\n",
       "      <td>(nan, nan)</td>\n",
       "      <td>13.0</td>\n",
       "    </tr>\n",
       "    <tr>\n",
       "      <th>128</th>\n",
       "      <td>(-0.04806409728066363, 0.04409100577302269)</td>\n",
       "      <td>(0.017526077378713367, 0.06018712917039955)</td>\n",
       "      <td>(0.08232402611510281, 0.04424067867309026)</td>\n",
       "      <td>(-0.022438417513667375, 0.11319622378497997)</td>\n",
       "      <td>(0.484501547675535, 0.04272027545192684)</td>\n",
       "      <td>(-0.8529062994015622, 0.04677706536282511)</td>\n",
       "      <td>(nan, nan)</td>\n",
       "      <td>(0.49659161711131183, 0.0433703859611569)</td>\n",
       "      <td>(-1.3084077143640584, 0.046017219109379295)</td>\n",
       "      <td>(nan, nan)</td>\n",
       "      <td>(nan, nan)</td>\n",
       "      <td>(nan, nan)</td>\n",
       "      <td>13.0</td>\n",
       "    </tr>\n",
       "    <tr>\n",
       "      <th>129</th>\n",
       "      <td>(0.025484414226172092, 0.0)</td>\n",
       "      <td>(0.0186080335274994, 0.0)</td>\n",
       "      <td>(-0.1328333532076229, 0.0)</td>\n",
       "      <td>(-0.04386063258267825, 0.0)</td>\n",
       "      <td>(0.5530088823814001, 0.0)</td>\n",
       "      <td>(-0.5417081960054251, 0.0)</td>\n",
       "      <td>(nan, nan)</td>\n",
       "      <td>(0.5672700548729832, 0.0)</td>\n",
       "      <td>(-0.9036471691701546, 0.0)</td>\n",
       "      <td>(nan, nan)</td>\n",
       "      <td>(nan, nan)</td>\n",
       "      <td>(nan, nan)</td>\n",
       "      <td>10.0</td>\n",
       "    </tr>\n",
       "    <tr>\n",
       "      <th>130</th>\n",
       "      <td>(0.02542495103335085, 0.0)</td>\n",
       "      <td>(0.03380985762822242, 0.0)</td>\n",
       "      <td>(-0.09209813689519208, 0.0)</td>\n",
       "      <td>(-0.040556981451842944, 0.0)</td>\n",
       "      <td>(0.5622327092983745, 0.0)</td>\n",
       "      <td>(-0.4077407607928283, 0.0)</td>\n",
       "      <td>(nan, nan)</td>\n",
       "      <td>(0.5866328178344844, 0.0)</td>\n",
       "      <td>(-0.7426260736647414, 0.0)</td>\n",
       "      <td>(nan, nan)</td>\n",
       "      <td>(nan, nan)</td>\n",
       "      <td>(nan, nan)</td>\n",
       "      <td>13.0</td>\n",
       "    </tr>\n",
       "  </tbody>\n",
       "</table>\n",
       "<p>131 rows × 13 columns</p>\n",
       "</div>"
      ],
      "text/plain": [
       "                               PANSTARRS_ZandSDSS_Z  \\\n",
       "0      (-0.3827655294560657, 0.0016026329508747467)   \n",
       "1                                        (nan, nan)   \n",
       "2                                        (nan, nan)   \n",
       "3    (-0.043724144711950075, 0.0014294652866296083)   \n",
       "4                                        (nan, nan)   \n",
       "..                                              ...   \n",
       "126                    (-0.013977340079573963, 0.0)   \n",
       "127                    (-0.005836903809935734, 0.0)   \n",
       "128     (-0.04806409728066363, 0.04409100577302269)   \n",
       "129                     (0.025484414226172092, 0.0)   \n",
       "130                      (0.02542495103335085, 0.0)   \n",
       "\n",
       "                            PANSTARRS_IandSDSS_I  \\\n",
       "0     (0.8256700105706383, 0.005680104008523804)   \n",
       "1                                     (nan, nan)   \n",
       "2                                     (nan, nan)   \n",
       "3    (0.05637096216268844, 0.001477903680314007)   \n",
       "4                                     (nan, nan)   \n",
       "..                                           ...   \n",
       "126                  (0.024203588477432092, 0.0)   \n",
       "127                  (0.045757394533282536, 0.0)   \n",
       "128  (0.017526077378713367, 0.06018712917039955)   \n",
       "129                    (0.0186080335274994, 0.0)   \n",
       "130                   (0.03380985762822242, 0.0)   \n",
       "\n",
       "                             PANSTARRS_YandSDSS_Z  \\\n",
       "0     (0.5568726757012072, 0.0016806031988674168)   \n",
       "1                                      (nan, nan)   \n",
       "2                                      (nan, nan)   \n",
       "3    (0.14307052540973864, 0.0015228696101621739)   \n",
       "4                                      (nan, nan)   \n",
       "..                                            ...   \n",
       "126                  (0.0009163873482620488, 0.0)   \n",
       "127                  (-0.015452606847913941, 0.0)   \n",
       "128    (0.08232402611510281, 0.04424067867309026)   \n",
       "129                    (-0.1328333532076229, 0.0)   \n",
       "130                   (-0.09209813689519208, 0.0)   \n",
       "\n",
       "                             PANSTARRS_RandSDSS_R  \\\n",
       "0    (-0.09613659001295183, 0.004480562754053901)   \n",
       "1                                      (nan, nan)   \n",
       "2                                      (nan, nan)   \n",
       "3    (0.007094670231671429, 0.001584374271805863)   \n",
       "4                                      (nan, nan)   \n",
       "..                                            ...   \n",
       "126                   (-0.05579202485289514, 0.0)   \n",
       "127                  (-0.019104567637850067, 0.0)   \n",
       "128  (-0.022438417513667375, 0.11319622378497997)   \n",
       "129                   (-0.04386063258267825, 0.0)   \n",
       "130                  (-0.040556981451842944, 0.0)   \n",
       "\n",
       "                                VISTA_ZandSDSS_Z  \\\n",
       "0     (0.2194559517886443, 0.001679596598803685)   \n",
       "1                                     (nan, nan)   \n",
       "2                                     (nan, nan)   \n",
       "3    (0.4969021120952881, 0.0016153084253324587)   \n",
       "4                                     (nan, nan)   \n",
       "..                                           ...   \n",
       "126                     (0.521668952991341, 0.0)   \n",
       "127                    (0.5336708489961044, 0.0)   \n",
       "128     (0.484501547675535, 0.04272027545192684)   \n",
       "129                    (0.5530088823814001, 0.0)   \n",
       "130                    (0.5622327092983745, 0.0)   \n",
       "\n",
       "                                 VISTA_YandSDSS_Z VISTA_Jand2MASS J  \\\n",
       "0     (0.34846413909184193, 0.001951510342226211)        (nan, nan)   \n",
       "1                                      (nan, nan)        (nan, nan)   \n",
       "2                                      (nan, nan)        (nan, nan)   \n",
       "3    (-0.8088954556878303, 0.0015489496233146293)        (nan, nan)   \n",
       "4                                      (nan, nan)        (nan, nan)   \n",
       "..                                            ...               ...   \n",
       "126                     (-0.529803978988582, 0.0)        (nan, nan)   \n",
       "127                    (-0.5584788950904613, 0.0)        (nan, nan)   \n",
       "128    (-0.8529062994015622, 0.04677706536282511)        (nan, nan)   \n",
       "129                    (-0.5417081960054251, 0.0)        (nan, nan)   \n",
       "130                    (-0.4077407607928283, 0.0)        (nan, nan)   \n",
       "\n",
       "                               UKIDSS_ZandSDSS_Z  \\\n",
       "0    (0.3132111674076299, 0.0014685314078891499)   \n",
       "1                                     (nan, nan)   \n",
       "2                                     (nan, nan)   \n",
       "3    (0.5172825372385645, 0.0015447911606909337)   \n",
       "4                                     (nan, nan)   \n",
       "..                                           ...   \n",
       "126                    (0.5420543683653012, 0.0)   \n",
       "127                    (0.5549463599882802, 0.0)   \n",
       "128    (0.49659161711131183, 0.0433703859611569)   \n",
       "129                    (0.5672700548729832, 0.0)   \n",
       "130                    (0.5866328178344844, 0.0)   \n",
       "\n",
       "                                UKIDSS_YandSDSS_Z UKIDSS_Jand2MASS J  \\\n",
       "0    (0.11229056388340197, 0.0020526584864829656)         (nan, nan)   \n",
       "1                                      (nan, nan)         (nan, nan)   \n",
       "2                                      (nan, nan)         (nan, nan)   \n",
       "3    (-1.4178311220085504, 0.0015184080621737381)         (nan, nan)   \n",
       "4                                      (nan, nan)         (nan, nan)   \n",
       "..                                            ...                ...   \n",
       "126                    (-0.9008750351125165, 0.0)         (nan, nan)   \n",
       "127                    (-0.9363887504825268, 0.0)         (nan, nan)   \n",
       "128   (-1.3084077143640584, 0.046017219109379295)         (nan, nan)   \n",
       "129                    (-0.9036471691701546, 0.0)         (nan, nan)   \n",
       "130                    (-0.7426260736647414, 0.0)         (nan, nan)   \n",
       "\n",
       "    UKIDSS_Hand2MASS H UKIDSS_Kand2MASS KS   spt  \n",
       "0           (nan, nan)          (nan, nan)  24.0  \n",
       "1           (nan, nan)          (nan, nan)  20.5  \n",
       "2           (nan, nan)          (nan, nan)  25.0  \n",
       "3           (nan, nan)          (nan, nan)  17.0  \n",
       "4           (nan, nan)          (nan, nan)  21.5  \n",
       "..                 ...                 ...   ...  \n",
       "126         (nan, nan)          (nan, nan)  16.0  \n",
       "127         (nan, nan)          (nan, nan)  13.0  \n",
       "128         (nan, nan)          (nan, nan)  13.0  \n",
       "129         (nan, nan)          (nan, nan)  10.0  \n",
       "130         (nan, nan)          (nan, nan)  13.0  \n",
       "\n",
       "[131 rows x 13 columns]"
      ]
     },
     "execution_count": 41,
     "metadata": {},
     "output_type": "execute_result"
    }
   ],
   "source": [
    "sd_df"
   ]
  },
  {
   "cell_type": "code",
   "execution_count": 42,
   "metadata": {},
   "outputs": [],
   "source": [
    "#ghj"
   ]
  },
  {
   "cell_type": "code",
   "execution_count": 43,
   "metadata": {},
   "outputs": [],
   "source": [
    "def k_clip_fit(x, y, sigma_y, sigma = 5, n=6):\n",
    "    \n",
    "    '''Fit a polynomial to y vs. x, and k-sigma clip until convergence\n",
    "    hard-coded, returns mask array\n",
    "    '''\n",
    "    \n",
    "    not_clipped = np.ones_like(y).astype(bool)\n",
    "    n_remove = 1\n",
    "    \n",
    "    #use median sigma\n",
    "    #median_sigma= np.nanmedian(sigma_y)\n",
    "    \n",
    "    while n_remove > 0:\n",
    "\n",
    "        best_fit = np.poly1d(np.polyfit(x[not_clipped], y[not_clipped], n))\n",
    "        \n",
    "        norm_res = (np.abs(y - best_fit(x)))/(sigma_y)\n",
    "        remove = np.logical_and(norm_res >= sigma, not_clipped == 1)\n",
    "        n_remove = sum(remove)\n",
    "        not_clipped[remove] = 0   \n",
    "        \n",
    "    return  not_clipped\n",
    "\n",
    "def fit_with_nsigma_clipping(x, y, y_unc, n, sigma=3.):\n",
    "    not_clipped = k_clip_fit(x, y, y_unc, sigma = sigma)\n",
    "    return not_clipped, np.poly1d(np.polyfit(x[not_clipped], y[not_clipped], n))"
   ]
  },
  {
   "cell_type": "code",
   "execution_count": 44,
   "metadata": {},
   "outputs": [],
   "source": [
    "rocio_coeffs={'SDSS_R':[-0.03, 1.3 , 7.2 , 0.62],\\\n",
    "              'SDSS_I':[-0.009, 0.9, 6.8, 0.55],\\\n",
    "              'SDSS_Z':[-0.005, 0.74, 6.7 ,  0.5]}"
   ]
  },
  {
   "cell_type": "code",
   "execution_count": 45,
   "metadata": {},
   "outputs": [],
   "source": [
    "rocio_relations={}"
   ]
  },
  {
   "cell_type": "code",
   "execution_count": 46,
   "metadata": {},
   "outputs": [
    {
     "data": {
      "text/plain": [
       "[-0.03, 1.3, 7.2]"
      ]
     },
     "execution_count": 46,
     "metadata": {},
     "output_type": "execute_result"
    }
   ],
   "source": [
    "rocio_coeffs['SDSS_R'][:-1]"
   ]
  },
  {
   "cell_type": "code",
   "execution_count": 47,
   "metadata": {},
   "outputs": [],
   "source": [
    "for k in rocio_coeffs.keys():\n",
    "    s={k: {'x': 'spt', 'y': k, 'fit':np.poly1d(rocio_coeffs[k][:-1]), \\\n",
    "                'scatter': rocio_coeffs[k][-1], \\\n",
    "                'method': 'polynomial',\\\n",
    "                'range': [10, 24] ,\n",
    "          'x0': 10}}\n",
    "    rocio_relations.update(s)\n",
    "    pass"
   ]
  },
  {
   "cell_type": "code",
   "execution_count": 48,
   "metadata": {},
   "outputs": [
    {
     "data": {
      "text/plain": [
       "array([13.92, 14.83, 15.68, 16.47, 17.2 , 17.87, 18.48, 19.03])"
      ]
     },
     "execution_count": 48,
     "metadata": {},
     "output_type": "execute_result"
    }
   ],
   "source": [
    "rocio_relations['SDSS_R']['fit'](np.arange(16, 24)-10)"
   ]
  },
  {
   "cell_type": "code",
   "execution_count": 49,
   "metadata": {},
   "outputs": [],
   "source": [
    "#"
   ]
  },
  {
   "cell_type": "code",
   "execution_count": 50,
   "metadata": {},
   "outputs": [],
   "source": [
    "#absolute magnitude relation\n",
    "import splat.empirical as spe\n",
    "\n",
    "kirkpa2019pol={'2MASS H':{'pol':np.poly1d(np.flip([36.9714, -8.66856, 1.05122 ,-0.0344809])), \n",
    "                    'scatter':.67, 'range':[36, 44]}}\n",
    "kirkpa2020pol={'2MASS H':{'pol':np.poly1d(np.flip([-6.918e01, 1.1863e+01,-5.4084e-1, 8.466e-03 ])), \n",
    "                    'scatter':.51, 'range':[36, 44]}}\n",
    "best_dict={'2MASS J': {\\\n",
    "            'spt': [16,17,18,19,20,21,22,23,24,25,26,27,28,29,30,31,32,33,34,35,36,37,38,39], \\\n",
    "            'values': [10.36,10.77,11.15,11.46,11.76,12.03,12.32,12.77,13.51,13.69,14.18,14.94,14.90,14.46,14.56,15.25,14.54,14.26,13.89,14.94,15.53,16.78,17.18,17.75],\\\n",
    "            'rms': [0.30,0.30,0.42,0.34,0.18,0.15,0.21,0.24,0.28,0.25,0.60,0.20,0.13,0.71,0.5,0.12,0.06,0.16,0.36,0.12,0.27,0.76,0.51,0.5]},\n",
    "        '2MASS H': {\\\n",
    "            'spt': [16,17,18,19,20,21,22,23,24,25,26,27,28,29,30,31,32,33,34,35,36,37,38,39], \\\n",
    "            'values': [9.76,10.14,10.47,10.74,11.00,11.23,11.41,11.82,12.45,12.63,13.19,13.82,13.77,13.39,13.62,14.39,13.73,13.67,13.57,14.76,15.48,16.70,17.09,17.51],\\\n",
    "            'rms': [0.30,0.31,0.43,0.35,0.23,0.21,0.25,0.29,0.3,0.30,0.62,0.31,0.20,0.73,0.5,0.18,0.15,0.24,0.40,0.24,0.37,0.78,0.5,0.5]},\n",
    "       \n",
    "        'PANSTARRS_R': {\\\n",
    "            'spt': [16,17,18,19,20,21,22,23,24,25,26,28], \\\n",
    "            'values': [15.37,16.76,17.74,18.14,18.37,18.74,19.02,19.61,20.60,20.74,21.21,22.88],\\\n",
    "            'rms': [0.43,0.50,0.51,0.37,0.31,0.28,0.29,0.39,0.56,0.37,0.78,0.5]},\n",
    "        'PANSTARRS_I': {\\\n",
    "            'spt': [16,17,18,19,20,21,22,23,24,25,26,27,28,29,30,31,32,35], \\\n",
    "            'values': [13.25,14.18,15.00,15.62,16.00,16.41,16.73,17.40,18.35,18.71,19.27,20.09,20.38,20.09,20.22,21.10,21.97,22.69],\\\n",
    "            'rms': [0.34,0.39,0.48,0.39,0.26,0.25,0.26,0.34,0.38,0.33,0.65,0.36,0.79,0.5,1.14,0.5,0.5,0.5]},\n",
    "        'PANSTARRS_Z': {\\\n",
    "            'spt': [16,17,18,19,20,21,22,23,24,25,26,27,28,29,30,31,32,33,34,35,36,37,38,39], \\\n",
    "            'values': [12.27,12.98,13.61,14.17,14.52,14.93,15.30,15.88,16.68,16.94,17.35,18.18,18.10,17.69,17.98,18.84,18.26,18.08,18.02,19.20,19.82,21.17,21.52,21.82],\\\n",
    "            'rms': [0.32,0.34,0.45,0.37,0.25,0.23,0.24,0.21,0.33,0.29,0.62,0.26,0.22,0.73,0.5,0.21,0.23,0.25,0.39,0.22,0.32,0.78,0.52,0.5]},\n",
    "        'PANSTARRS_Y': {\\\n",
    "            'spt': [16,17,18,19,20,21,22,23,24,25,26,27,28,29,30,31,32,33,34,35,36,37,38,39], \\\n",
    "            'values': [11.76,12.31,12.81,13.23,13.58,13.97,14.33,14.89,15.66,15.87,16.27,17.13,17.04,16.57,16.77,17.45,16.75,16.50,16.32,17.43,18.06,19.34,19.75,20.37],\\\n",
    "            'rms': [0.30,0.31,0.43,0.36,0.23,0.21,0.24,0.29,0.32,0.28,0.61,0.25,0.21,0.72,0.5,0.16,0.13,0.22,0.38,0.18,0.32,0.81,0.59,0.5]}}\n",
    "\n",
    "BEST={}\n",
    "BEST['rms']={}\n",
    "BEST['range']={}\n",
    "for k in best_dict.keys():\n",
    "    BEST[k]=fit_with_nsigma_clipping(np.array(best_dict[k]['spt']), \n",
    "                                      np.array(best_dict[k]['values']), \n",
    "                                      np.array(best_dict[k]['rms'])\n",
    "                                     , 6, sigma=5.)\n",
    "    BEST['rms'][k]=np.nanmedian(best_dict[k]['rms'])\n",
    "    BEST['range'][k]=[np.nanmin(best_dict[k]['spt']), np.nanmax(best_dict[k]['spt'])]\n",
    "    \n",
    "    \n",
    "from astropy.io import ascii\n",
    "def make_mamajek_fit(spt):\n",
    "    mamjk=ascii.read('/users/caganze/research/wisps/data/mamajek_relations.txt').to_pandas().replace('None', np.nan)\n",
    "    js=mamjk.M_J.apply(float).values\n",
    "    jminush=mamjk['J-H'].apply(float).values\n",
    "    hs=js-jminush\n",
    "    \n",
    "    spts=mamjk.SpT.apply(splat.typeToNum).apply(float).values\n",
    "    \n",
    "    hsortedindex=np.argsort(hs)\n",
    "    jsortedindex=np.argsort(js)\n",
    "    \n",
    "    hval=np.interp(spt,  spts[hsortedindex], hs[hsortedindex])\n",
    "    jval=np.interp(spt,  spts[jsortedindex], js[jsortedindex])\n",
    "    \n",
    "    return ((jval, 0.4), (hval, 0.4))\n",
    "\n",
    "def absolute_mag_kirkpatrick(spt, filt):\n",
    "    if filt != '2MASS H':\n",
    "        return np.nan\n",
    "    else:\n",
    "        pol=kirkpa2019pol[filt]['pol']\n",
    "        unc=kirkpa2019pol[filt]['scatter']\n",
    "        return pol(spt-30), unc\n",
    "\n",
    "def get_subdwarf_abs_mag(spt, flter):\n",
    "    m, munc=np.nan, np.nan\n",
    "    #replace panstarrs by sdss\n",
    "    m, munc=spe.typeToMag(spt, flter, reference='zhang2013')\n",
    "        \n",
    "    return m, munc\n",
    "        \n",
    "def get_abs_mag(spt, flter):\n",
    "    #base absolute mag relations to use to convert from other absmag\n",
    "    m, munc=(np.nan, np.nan)\n",
    "    \n",
    "    if ((flter.upper()=='2MASS J') or (flter.upper()=='2MASS_J')):\n",
    "        corr=splat.photometry.vegaToAB('2MASS J')\n",
    "        ((m, munc), (h, hunc))=make_mamajek_fit(spt)\n",
    "    \n",
    "        #m= m+corr\n",
    "        \n",
    "    if ((flter.upper()=='2MASS H') or (flter.upper()=='2MASS_H')):\n",
    "        corr=splat.photometry.vegaToAB('2MASS H')\n",
    "        if spt <36:\n",
    "            \n",
    "            #m=BEST['2MASS H'][1](spt)\n",
    "            #munc= np.nanmedian(best_dict[k]['rms'])\n",
    "            #m, munc=spe.typeToMag(spt, '2MASS H')\n",
    "            ((j, junc), (m, munc))=make_mamajek_fit(spt)\n",
    "            #m= m+corr\n",
    "        else:\n",
    "            m, munc=absolute_mag_kirkpatrick(spt, '2MASS H')\n",
    "            #m= m+corr\n",
    "\n",
    "    if ((flter.upper()=='2MASS KS') or (flter.upper()=='2MASS_KS')):\n",
    "        corr=splat.photometry.vegaToAB('2MASS Ks')\n",
    "        #m, munc= spe.typeToMag(spt, '2MASS J')\n",
    "        m, munc=spe.typeToMag(spt, '2MASS Ks', ref='dupuy2012')\n",
    "        #m= m+corr\n",
    "\n",
    "    if flter.upper().startswith('PANSTARRS'):\n",
    "        if np.logical_or(spt> BEST['range'][flter][-1], spt< BEST['range'][flter][0]):\n",
    "            pass\n",
    "        else:\n",
    "            #corr=splat.photometry.vegaToAB(flter.upper())\n",
    "            m=(BEST[k][1])(spt)#+corr\n",
    "            munc=np.nanmedian(best_dict[k]['rms'])\n",
    "    return m, munc"
   ]
  },
  {
   "cell_type": "code",
   "execution_count": 51,
   "metadata": {},
   "outputs": [],
   "source": [
    "#import popsims\n",
    "#popsims.get_distance(get_abs_mag(25, '2MASS J')[0], 28.)"
   ]
  },
  {
   "cell_type": "code",
   "execution_count": 52,
   "metadata": {},
   "outputs": [],
   "source": [
    "sp_grid=np.arange(15, 42)"
   ]
  },
  {
   "cell_type": "code",
   "execution_count": 53,
   "metadata": {},
   "outputs": [
    {
     "data": {
      "text/plain": [
       "28"
      ]
     },
     "execution_count": 53,
     "metadata": {},
     "output_type": "execute_result"
    }
   ],
   "source": [
    "BEST['range']['PANSTARRS_R'][-1]"
   ]
  },
  {
   "cell_type": "code",
   "execution_count": 54,
   "metadata": {},
   "outputs": [
    {
     "data": {
      "text/plain": [
       "((16.081374655291484, 0.305), (16.428569999999972, 0.6))"
      ]
     },
     "execution_count": 54,
     "metadata": {},
     "output_type": "execute_result"
    }
   ],
   "source": [
    "get_abs_mag(25, 'PANSTARRS_Z'), get_subdwarf_abs_mag(25, 'SDSS_Z')"
   ]
  },
  {
   "cell_type": "code",
   "execution_count": 55,
   "metadata": {},
   "outputs": [],
   "source": [
    "def get_abs_mags(row):\n",
    "    res={}\n",
    "    fl_pairs=darf_pairs\n",
    "    for p in fl_pairs:\n",
    "\n",
    "        cl=p[0]+'and'+p[1]\n",
    "        v, ve=get_abs_mag(row.spt, p[1])\n",
    "        absm= row[cl][0]+v\n",
    "        res.update({p[0]: [absm,  (row[cl][1]**2+ve**2)**0.5]})\n",
    "    return pd.Series(res)\n",
    "\n",
    "def get_abs_mags_sd(row):\n",
    "    res={}\n",
    "    fl_pairs=sd_pairs\n",
    "    for p in fl_pairs:\n",
    "\n",
    "        cl=p[0]+'and'+p[1]\n",
    "        v, ve=get_subdwarf_abs_mag(row.spt, p[1])\n",
    "        absm= row[cl][0]+v\n",
    "        res.update({p[0]: [absm,  (row[cl][1]**2+ve**2)**0.5]})\n",
    "    return pd.Series(res)\n",
    "\n",
    "#def get_abs_mags_lsst_fromcolor(row):\n",
    "#    res={}\n",
    "#    for p in fl_pairs:\n",
    "\n",
    "#        cl=p[0]+'and'+p[1]\n",
    "#        v, ve=absolute_sdss(row.spt)[p[1]]\n",
    "#        absm= row[cl][0]+v\n",
    "#        res.update({p[0]: [absm,  (row[cl][1]**2+ve**2)**0.5]})\n",
    "  #  return pd.Series(res)\n",
    "\n",
    "#def get_abs_mags_lsst_fromcolor_sds(row):\n",
    "#    res={}\n",
    "#    for p in fl_pairs:\n",
    "\n",
    " #       cl=p[0]+'and'+p[1]\n",
    " #       v, ve=sd_absolute_mag(row.spt)[p[1]]\n",
    " #       absm= row[cl][0]+v\n",
    " #       res.update({p[0]: [absm,  (row[cl][1]**2+ve**2)**0.5]})\n",
    " #   return pd.Series(res)\n",
    "        \n",
    "    "
   ]
  },
  {
   "cell_type": "code",
   "execution_count": 56,
   "metadata": {},
   "outputs": [
    {
     "data": {
      "text/plain": [
       "(11.9494, 0.52)"
      ]
     },
     "execution_count": 56,
     "metadata": {},
     "output_type": "execute_result"
    }
   ],
   "source": [
    "get_subdwarf_abs_mag(20, '2MASS_J')"
   ]
  },
  {
   "cell_type": "code",
   "execution_count": 57,
   "metadata": {},
   "outputs": [],
   "source": [
    "tqdm.pandas()\n",
    "#abs_df=df.progress_apply(get_abs_mags, axis=1)\n",
    "#abs_df=df.progress_apply(get_abs_mags_lsst_fromcolor, axis=1)\n",
    "#sd_abs_df=sd_df_total.progress_apply(get_abs_mags_lsst_fromcolor_sds, axis=1)\n"
   ]
  },
  {
   "cell_type": "code",
   "execution_count": 58,
   "metadata": {},
   "outputs": [
    {
     "name": "stderr",
     "output_type": "stream",
     "text": [
      "100%|██████████| 131/131 [00:01<00:00, 73.12it/s]\n"
     ]
    }
   ],
   "source": [
    "sd_abs_df=sd_df.progress_apply(get_abs_mags_sd, axis=1)\n",
    "#abs_df"
   ]
  },
  {
   "cell_type": "code",
   "execution_count": 59,
   "metadata": {},
   "outputs": [],
   "source": [
    "#sd_abs_df"
   ]
  },
  {
   "cell_type": "code",
   "execution_count": 60,
   "metadata": {},
   "outputs": [],
   "source": [
    "FITS=pd.read_pickle('/users/caganze/research/popsims/data/polynomial_relations.pkl')"
   ]
  },
  {
   "cell_type": "code",
   "execution_count": 61,
   "metadata": {},
   "outputs": [],
   "source": [
    "#FITS['absmags']['dwarfs']={}\n",
    "#FITS['absmags']['subdwarfs']={}\n",
    "#FITS['colors']['dwarfs']={}\n",
    "#FITS['colors']['subdwarfs']={}"
   ]
  },
  {
   "cell_type": "code",
   "execution_count": null,
   "metadata": {},
   "outputs": [],
   "source": []
  },
  {
   "cell_type": "code",
   "execution_count": 62,
   "metadata": {},
   "outputs": [],
   "source": [
    "#for k in BEST['rms'].keys():\n",
    "#    s={k: {'x': 'spt','y': k, 'fit':BEST[k][-1], 'scatter': BEST['rms'][k], \\\n",
    "#           'method': 'polynomial','range':  BEST['range'][k], 'x0':0}}\n",
    "#   FITS['absmags']['dwarfs'].update(s)\n"
   ]
  },
  {
   "cell_type": "code",
   "execution_count": 63,
   "metadata": {},
   "outputs": [],
   "source": [
    "#len(darf_pairs), len(abs_df.columns)"
   ]
  },
  {
   "cell_type": "code",
   "execution_count": 64,
   "metadata": {},
   "outputs": [],
   "source": [
    "#FITS"
   ]
  },
  {
   "cell_type": "code",
   "execution_count": 65,
   "metadata": {},
   "outputs": [],
   "source": [
    "#FITS['references']={'kiman2019': rocio_relations }\n",
    "#adda zhang realtions\n",
    "#FITS['references']"
   ]
  },
  {
   "cell_type": "code",
   "execution_count": 92,
   "metadata": {},
   "outputs": [
    {
     "data": {
      "image/png": "[encoded data removed]",
      "text/plain": [
       "<Figure size 432x288 with 1 Axes>"
      ]
     },
     "metadata": {
      "needs_background": "light"
     },
     "output_type": "display_data"
    },
    {
     "data": {
      "image/png": "[encoded data removed]",
      "text/plain": [
       "<Figure size 432x288 with 1 Axes>"
      ]
     },
     "metadata": {
      "needs_background": "light"
     },
     "output_type": "display_data"
    },
    {
     "data": {
      "image/png": "[encoded data removed]",
      "text/plain": [
       "<Figure size 432x288 with 1 Axes>"
      ]
     },
     "metadata": {
      "needs_background": "light"
     },
     "output_type": "display_data"
    },
    {
     "data": {
      "image/png": "[encoded data removed]",
      "text/plain": [
       "<Figure size 432x288 with 1 Axes>"
      ]
     },
     "metadata": {
      "needs_background": "light"
     },
     "output_type": "display_data"
    },
    {
     "data": {
      "image/png": "[encoded data removed]",
      "text/plain": [
       "<Figure size 432x288 with 1 Axes>"
      ]
     },
     "metadata": {
      "needs_background": "light"
     },
     "output_type": "display_data"
    },
    {
     "data": {
      "image/png": "[encoded data removed]",
      "text/plain": [
       "<Figure size 432x288 with 1 Axes>"
      ]
     },
     "metadata": {
      "needs_background": "light"
     },
     "output_type": "display_data"
    },
    {
     "data": {
      "image/png": "[encoded data removed]",
      "text/plain": [
       "<Figure size 432x288 with 1 Axes>"
      ]
     },
     "metadata": {
      "needs_background": "light"
     },
     "output_type": "display_data"
    },
    {
     "data": {
      "image/png": "[encoded data removed]",
      "text/plain": [
       "<Figure size 432x288 with 1 Axes>"
      ]
     },
     "metadata": {
      "needs_background": "light"
     },
     "output_type": "display_data"
    },
    {
     "data": {
      "image/png": "[encoded data removed]",
      "text/plain": [
       "<Figure size 432x288 with 1 Axes>"
      ]
     },
     "metadata": {
      "needs_background": "light"
     },
     "output_type": "display_data"
    },
    {
     "data": {
      "image/png": "[encoded data removed]",
      "text/plain": [
       "<Figure size 432x288 with 1 Axes>"
      ]
     },
     "metadata": {
      "needs_background": "light"
     },
     "output_type": "display_data"
    },
    {
     "data": {
      "image/png": "[encoded data removed]",
      "text/plain": [
       "<Figure size 432x288 with 1 Axes>"
      ]
     },
     "metadata": {
      "needs_background": "light"
     },
     "output_type": "display_data"
    },
    {
     "data": {
      "image/png": "[encoded data removed]",
      "text/plain": [
       "<Figure size 432x288 with 1 Axes>"
      ]
     },
     "metadata": {
      "needs_background": "light"
     },
     "output_type": "display_data"
    }
   ],
   "source": [
    "for c in sd_abs_df.columns:\n",
    "    if c=='spt':\n",
    "        pass\n",
    "    else:\n",
    "        fig, a=plt.subplots()\n",
    "        #vals=np.vstack(abs_df[c].values)\n",
    "        vals=np.vstack(sd_abs_df[c].values)\n",
    "        #spts=df.spt.values\n",
    "        spts=sd_df.spt.values\n",
    "        \n",
    "        #masks\n",
    "        mask= np.logical_or.reduce([np.isnan(spts), \n",
    "                                    np.isnan(vals[:,0]),\n",
    "                                    np.isnan(vals[:,1])])\n",
    "\n",
    "        m, fit= fit_with_nsigma_clipping(spts[~mask], \n",
    "                                      vals[:,0][~mask], \n",
    "                                      vals[:,1][~mask], 6, sigma=3.)\n",
    "        FITS['absmags']['subdwarfs'].update({c: {'x': 'spt',\n",
    "                                              'y': c,\n",
    "                                              'fit':fit, \\\n",
    "                                              'scatter': np.nanmedian(vals[:,1]), \\\n",
    "                                              'method': 'polynomial',\\\n",
    "                                              'range':  (np.nanmin(spts[~mask]),\\\n",
    "                                                         np.nanmax(spts[~mask])), \\\n",
    "                                             'x0':0}})\n",
    "        \n",
    "        #same for subdwarfs\n",
    "        #sd_mask= np.logical_or.reduce([np.isnan(sd_spts), \n",
    "        #                            np.isnan(sd_vals[:,0]),\n",
    "        #                            np.isnan(sd_vals[:,1])])\n",
    "        \n",
    "        spgrid=np.arange(np.nanmin(spts[~mask]), np.nanmax(spts[~mask]))\n",
    "        a.plot(spgrid, fit(spgrid), c='k', label='subdwarf')\n",
    "        \n",
    "        #if len(sd_spts[~sd_mask])<1:\n",
    "        #    pass\n",
    "        #if len(sd_spts[~sd_mask])>=1:\n",
    "        #    sd_m, sd_fit= fit_with_nsigma_clipping(sd_spts[~sd_mask], \n",
    "        #                                           sd_vals[:,0][~sd_mask], \n",
    "        #                                  sd_vals[:,1][~sd_mask], 6, sigma=3.)\n",
    "        #    a.errorbar(sd_spts, sd_vals[:,0], fmt='+', \n",
    "        #           yerr=sd_vals[:,1], color='b')\n",
    "         #   FITS['absmags']['subdwarfs'].update({c: {'x': 'spt',\n",
    "         #                                     'y':c,\n",
    "         #                                     'fit':sd_fit, \\\n",
    "         #                                     'scatter': np.nanmedian(sd_vals[:,1]), \\\n",
    "         #                                     'method': 'polynomial',\\\n",
    "         #                                     'range':  (np.nanmin(spts[~mask]),\\\n",
    "         #                                                np.nanmax(spts[~mask]))}})\n",
    "            \n",
    "         #   a.plot(spgrid, sd_fit(spgrid), c='b', label='Sd')\n",
    "        #same for subdwarfs\n",
    "        \n",
    "        a.errorbar(spts, vals[:,0], fmt='+', \n",
    "                   yerr=vals[:,1], color='r')\n",
    "        \n",
    "       \n",
    "          \n",
    "        #a.errorbar(spts[~mask][~m], vals[:,0][~mask][~m], fmt='+', \n",
    "        #           yerr=vals[:,1][~mask][~m], color='b')\n",
    "    \n",
    "       \n",
    "       \n",
    "       \n",
    "        a.set_ylabel(c)\n",
    "        a.set_xlabel('Spectral Type')\n",
    "        a.legend()\n",
    "        plt.tight_layout()\n",
    "        a.set_xlim([np.nanmin(spgrid), np.nanmax(spgrid)])\n",
    "        a.set_ylim([fit(np.nanmin(spgrid)), fit(np.nanmax(spgrid))])\n",
    "        plt.savefig(popsims.FIGURES+'/abs_mag_relations{}_sd.pdf'.format(c))\n"
   ]
  },
  {
   "cell_type": "code",
   "execution_count": 67,
   "metadata": {},
   "outputs": [],
   "source": [
    "#FITS"
   ]
  },
  {
   "cell_type": "code",
   "execution_count": null,
   "metadata": {},
   "outputs": [],
   "source": []
  },
  {
   "cell_type": "code",
   "execution_count": 68,
   "metadata": {},
   "outputs": [],
   "source": [
    "#abs_df.keys()"
   ]
  },
  {
   "cell_type": "code",
   "execution_count": 69,
   "metadata": {},
   "outputs": [],
   "source": [
    "#def fit_nsigma():\n",
    "#    return "
   ]
  },
  {
   "cell_type": "code",
   "execution_count": 70,
   "metadata": {},
   "outputs": [],
   "source": [
    "#POLYNOMIALS=FITS"
   ]
  },
  {
   "cell_type": "code",
   "execution_count": 71,
   "metadata": {},
   "outputs": [],
   "source": [
    "#ir=np.vstack(abs_df.LSST_I)[:,0]-np.vstack(abs_df.LSST_R)[:,0]"
   ]
  },
  {
   "cell_type": "code",
   "execution_count": 72,
   "metadata": {},
   "outputs": [],
   "source": [
    "#h=plt.hist(ir)"
   ]
  },
  {
   "cell_type": "code",
   "execution_count": null,
   "metadata": {},
   "outputs": [],
   "source": []
  },
  {
   "cell_type": "code",
   "execution_count": null,
   "metadata": {},
   "outputs": [],
   "source": []
  },
  {
   "cell_type": "code",
   "execution_count": 73,
   "metadata": {},
   "outputs": [],
   "source": [
    "#e(spts_m, d=np.ones_like(spts_m)*1000, keys=['LSST_Z', 'LSST_R'], object_type='dwarfs')"
   ]
  },
  {
   "cell_type": "code",
   "execution_count": 74,
   "metadata": {},
   "outputs": [],
   "source": [
    "#updating WISE\n",
    "#wise_dict=splat.SPT_ABSMAG_RELATIONS['best2018']['filters']['WISE_W1']\n",
    "#_, fit_2massk=fit_with_nsigma_clipping(np.array(KVALS['2MASS_KS']['spt']), \n",
    "#                                      np.array( KVALS['2MASS_KS']['values']), \n",
    "#                                      np.array( KVALS['2MASS_KS']['rms'])\n",
    "#                                     , 6, sigma=5.)\n",
    "#add wise relations\n",
    "\n",
    "#_, fit_wise1=fit_with_nsigma_clipping(np.array(wise_dict['spt']), \n",
    "#                                      np.array( wise_dict['values']), \n",
    "#                                      np.array( wise_dict['rms'])\n",
    "#                                     , 6, sigma=5.)\n",
    "#            'spt': [0.,0.5,1.,1.5,2.,2.5,3.,3.5,4.,4.5,5.,5.5,6.,6.5,7.,8.,9.,10,10.5,11,11.5,12,12.5,13,13.5,14,14.5,15,15.5,16,16.5,17,17.5,18,18.5,19,19.5,20.,21.,22.,23.,24.,25.,26.,27.,28.,29.,30.,31.,32.,33.,34.,34.5,35.,35.5,36.,37.,37.5,38.,39.,39.5,40.5,41.,41.5,42.],\\\n",
    "#            'values': [3.81, 3.82, 3.87, 3.9, 4.04, 4.07, 4.16, 4.21, 4.25, 4.26, 4.48, 4.57, 4.66, 4.78, 4.82, 4.98, 5.11, 5.22, 5.36, 5.67, 5.85, 6.06, 6.27, 6.54, 7.19, 7.55, 7.93, 8.36, 9.01, 9.32, 9.47, 9.76, 9.97, 10.11, 10.22, 10.3, 10.45, 10.55, 10.8, 10.9, 11.3, 11.4, 11.82, 12.27, 12.62, 12.7, 12.74, 12.9, 12.87, 13.19, 13.69, 14.51, 14.66, 14.9, 15.18, 15.54, 16.36, 16.85, 17.43, 18.48, 19.32, 21.5, 23, 23.5, 24],\\\n",
    "#            'rms': np.zeros(65)+0.05}})"
   ]
  },
  {
   "cell_type": "code",
   "execution_count": 75,
   "metadata": {},
   "outputs": [],
   "source": [
    "#df.spt.values.min()"
   ]
  },
  {
   "cell_type": "code",
   "execution_count": 76,
   "metadata": {},
   "outputs": [],
   "source": [
    "#get_kirkpatrick_wise(30-10)"
   ]
  },
  {
   "cell_type": "code",
   "execution_count": 77,
   "metadata": {},
   "outputs": [],
   "source": [
    "#spts_grids=np.linspace(17, 44, 1000)\n",
    "#w1s=np.array([get_kirkpatrick_wise(x) for x in spts_grids])"
   ]
  },
  {
   "cell_type": "code",
   "execution_count": null,
   "metadata": {},
   "outputs": [],
   "source": []
  },
  {
   "cell_type": "code",
   "execution_count": 78,
   "metadata": {},
   "outputs": [],
   "source": [
    "#_, fit_wise=fit_with_nsigma_clipping(np.array(spts_grids), \n",
    "#                                      np.array(w1s), \n",
    "#                                      np.ones(len(w1s))*0.63\n",
    "#                                     , 6, sigma=5.)\n",
    "#plt.plot(spts_grids, w1s)\n",
    "#plt.plot(spts_grids,fit_wise(spts_grids) )\n"
   ]
  },
  {
   "cell_type": "code",
   "execution_count": 87,
   "metadata": {},
   "outputs": [],
   "source": []
  },
  {
   "cell_type": "code",
   "execution_count": 80,
   "metadata": {},
   "outputs": [],
   "source": [
    "#vals=np.vstack(abs_df['WFC3_F160W'].values)\n",
    "#spts=df.spt.values\n",
    "#plt.plot(spts, vals[:,0], 'o')"
   ]
  },
  {
   "cell_type": "code",
   "execution_count": 81,
   "metadata": {},
   "outputs": [],
   "source": [
    "#FITS['2MASS_K']=(fit_2massk, np.nanmedian(np.array( KVALS['2MASS_KS']['rms'])))\n",
    "#FITS['WISE_W1']=(fit_wise, 0.63)"
   ]
  },
  {
   "cell_type": "code",
   "execution_count": 91,
   "metadata": {},
   "outputs": [],
   "source": [
    "#FITS['absmags']['subdwarfs']={}"
   ]
  },
  {
   "cell_type": "code",
   "execution_count": 93,
   "metadata": {},
   "outputs": [],
   "source": [
    "#import pickle\n",
    "#output = open(ABS_MAG_FILE, 'wb')\n",
    "#pickle.dump(FITS, output)\n",
    "#output.close()"
   ]
  },
  {
   "cell_type": "code",
   "execution_count": 95,
   "metadata": {},
   "outputs": [],
   "source": [
    "#FITS"
   ]
  },
  {
   "cell_type": "code",
   "execution_count": 84,
   "metadata": {},
   "outputs": [],
   "source": [
    "#FITS['references']['kiman2019']"
   ]
  },
  {
   "cell_type": "code",
   "execution_count": null,
   "metadata": {},
   "outputs": [],
   "source": []
  }
 ],
 "metadata": {
  "kernelspec": {
   "display_name": "Python 3",
   "language": "python",
   "name": "python3"
  },
  "language_info": {
   "codemirror_mode": {
    "name": "ipython",
    "version": 3
   },
   "file_extension": ".py",
   "mimetype": "text/x-python",
   "name": "python",
   "nbconvert_exporter": "python",
   "pygments_lexer": "ipython3",
   "version": "3.8.5"
  }
 },
 "nbformat": 4,
 "nbformat_minor": 4
}
