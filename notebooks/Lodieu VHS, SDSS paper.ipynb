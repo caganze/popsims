{
 "cells": [
  {
   "cell_type": "code",
   "execution_count": 1,
   "metadata": {},
   "outputs": [
    {
     "name": "stdout",
     "output_type": "stream",
     "text": [
      "Adding 145 sources from /Users/caganze/research/splat//resources/Spectra/Public/LRIS-RED/ to spectral database\n",
      "Adding 89 sources from /Users/caganze/research/splat//resources/Spectra/Public/MAGE/ to spectral database\n",
      "Adding 2404 sources from /Users/caganze/research/splat//resources/Spectra/Public/SPEX-PRISM/ to spectral database\n"
     ]
    }
   ],
   "source": [
    "import numpy as np\n",
    "import pandas as pd\n",
    "import splat\n",
    "import popsims\n",
    "from astropy.coordinates import SkyCoord, Galactic\n",
    "import astropy.coordinates as astro_coord\n",
    "import matplotlib.pyplot as plt\n",
    "import seaborn as sns\n",
    "import scipy\n",
    "#sns.set_style(\"darkgrid\", {\"axes.facecolor\": \".95\"})\n",
    "\n",
    "#plt.style.use('fivethirtyeight')\n",
    "#plt.style.use('dark_background')\n",
    "#sns.set_style(\"dark\")\n",
    "\n",
    "from  matplotlib.colors import Normalize\n",
    "import astropy.units as u\n",
    "import popsims\n",
    "import matplotlib\n",
    "from tqdm import tqdm\n",
    "from tqdm import tqdm\n",
    "import matplotlib as mpl \n",
    "#mpl.rcParams['axes.labelsize'] = 20\n",
    "#mpl.rcParams['xtick.labelsize'] =20\n",
    "#mpl.rcParams['ytick.labelsize'] = 20\n",
    "#mpl.rcParams['legend.fontsize'] = 20\n",
    "#mpl.rcParams['figure.titlesize'] = 20\n",
    "import pymc3 as pm\n",
    "from astropy.coordinates import Angle\n",
    "import astropy.table as astrotable\n",
    "\n",
    "splat.initializeStandards(all=True)\n",
    "from scipy.interpolate import griddata, interpn\n",
    "import splat.empirical as spe\n",
    "%matplotlib inline\n"
   ]
  },
  {
   "cell_type": "code",
   "execution_count": 2,
   "metadata": {},
   "outputs": [],
   "source": []
  },
  {
   "cell_type": "code",
   "execution_count": 3,
   "metadata": {},
   "outputs": [],
   "source": [
    "PS1_DEPTHS={ 'R':23.2, 'I':23.1, 'Z':22.3, 'Y':21.4}\n",
    "SDSS_DEPTHS={'R':22.2, 'I':21.3, 'Z':20.5}\n",
    "VISTA_DEPTHS={'J':19.5, 'H':18.6, 'KS':17.9}\n",
    "color_cuts={#'SDSS_G-SDSS_R':(1.6, 'greater'),\n",
    "            #'SDSS_R-SDSS_I': (1.0, 'greater'),\n",
    "            #'SDSS_I-SDSS_Z': (0.5, 'greater'),\n",
    "            #'SDSS_R-SDSS_Z': (1.6, 'greater'),\n",
    "            'SDSS_I-VISTA_J':(1.7, 'greater'),\n",
    "            'SDSS_Z-VISTA_J':(1.1, 'greater'),\n",
    "            'VISTA_J-VISTA_KS':(0.75, 'less')} "
   ]
  },
  {
   "cell_type": "code",
   "execution_count": 4,
   "metadata": {},
   "outputs": [],
   "source": [
    "#df.columns"
   ]
  },
  {
   "cell_type": "code",
   "execution_count": 5,
   "metadata": {},
   "outputs": [],
   "source": [
    "#SDSS \n",
    "SDSS={'FOV': 2.5*u.degree*2.5*u.degree,\\\n",
    "      'l':((np.array([0, 360]))*u.degree.to(u.radian)),\\\n",
    "            'b': ((np.array([-90, 90]))*u.degree.to(u.radian))}\n",
    "\n",
    "SDSS_discrete={'FOV': 2.5*u.degree*2.5*u.degree,\\\n",
    "      'l':((np.array([0, 360]))*u.degree.to(u.radian)),\\\n",
    "            'b': ((np.array([-90, 90]))*u.degree.to(u.radian))}"
   ]
  },
  {
   "cell_type": "code",
   "execution_count": 6,
   "metadata": {},
   "outputs": [],
   "source": [
    "#DATA_FOLDER='/volumes/Lacie/popsimsdata//'"
   ]
  },
  {
   "cell_type": "code",
   "execution_count": 7,
   "metadata": {},
   "outputs": [],
   "source": [
    "#t1    = astrotable.Table.read(DATA_FOLDER+'Stripe_Defs6_ctheissen.fit') # open an FITS file\n",
    "#t2    = astrotable.Table.read(DATA_FOLDER+'FieldNums_ctheissen.fit') # open an FITS file\n",
    "#t3    = astrotable.join(t1, t2, keys='fieldid').to_pandas()"
   ]
  },
  {
   "cell_type": "code",
   "execution_count": 8,
   "metadata": {},
   "outputs": [],
   "source": [
    "import glob"
   ]
  },
  {
   "cell_type": "code",
   "execution_count": 9,
   "metadata": {},
   "outputs": [],
   "source": [
    "from astropy.io.votable import parse_single_table"
   ]
  },
  {
   "cell_type": "code",
   "execution_count": 10,
   "metadata": {},
   "outputs": [
    {
     "name": "stdout",
     "output_type": "stream",
     "text": [
      "Number of candidates 130\n",
      "Number of candidates 4\n",
      "Number of candidates 114\n",
      "Number of candidates 59\n",
      "Number of candidates 52\n",
      "Number of candidates 174\n",
      "Number of candidates 17\n",
      "Number of candidates 115\n",
      "Number of candidates 13\n",
      "Number of candidates 445\n",
      "Number of candidates 2\n",
      "Number of candidates 253\n"
     ]
    }
   ],
   "source": [
    "#forget about sdss use\n",
    "ffolder='/users/caganze/research/popsims/data/lodieu/*.xml'\n",
    "lodieu_dfs=[]\n",
    "for f in glob.glob(ffolder):\n",
    "    tbl = parse_single_table(f).to_table()\n",
    "    print('Number of candidates',len(tbl))\n",
    "    lodieu_dfs.append(tbl.to_pandas())\n",
    "dfl_conct=pd.concat(lodieu_dfs)"
   ]
  },
  {
   "cell_type": "code",
   "execution_count": 11,
   "metadata": {},
   "outputs": [
    {
     "data": {
      "text/plain": [
       "('Hj', 'Jmag_VHS')"
      ]
     },
     "execution_count": 11,
     "metadata": {},
     "output_type": "execute_result"
    }
   ],
   "source": [
    " 'Hj', 'Jmag_VHS',"
   ]
  },
  {
   "cell_type": "code",
   "execution_count": 12,
   "metadata": {},
   "outputs": [],
   "source": [
    "#"
   ]
  },
  {
   "cell_type": "code",
   "execution_count": 13,
   "metadata": {},
   "outputs": [],
   "source": [
    "#combine \n",
    "ras0=np.nanmedian([dfl_conct['RAJ2000_VHS'].values, dfl_conct['RAJ2000_LAS'].values], axis=0)\n",
    "decs0=np.nanmedian([dfl_conct['DEJ2000_VHS'].values, dfl_conct['DEJ2000_LAS'].values], axis=0)\n"
   ]
  },
  {
   "cell_type": "code",
   "execution_count": 14,
   "metadata": {},
   "outputs": [],
   "source": [
    "assert len(popsims.dropnans(ras0)) == len(dfl_conct)\n",
    "assert len(popsims.dropnans(decs0)) == len(dfl_conct)"
   ]
  },
  {
   "cell_type": "code",
   "execution_count": 15,
   "metadata": {},
   "outputs": [],
   "source": [
    "sdsscoord=SkyCoord(ra=ras0*u.degree, dec=decs0*u.degree)"
   ]
  },
  {
   "cell_type": "code",
   "execution_count": 16,
   "metadata": {},
   "outputs": [],
   "source": [
    "a=Angle(sdsscoord.ra.to(u.radian))\n",
    "b=Angle(sdsscoord.dec.to(u.radian))\n",
    "a.wrap_at('180d', inplace=True)\n",
    "b.wrap_at('180d', inplace=True)"
   ]
  },
  {
   "cell_type": "code",
   "execution_count": 17,
   "metadata": {},
   "outputs": [
    {
     "data": {
      "text/plain": [
       "<matplotlib.collections.PathCollection at 0x150b366d0>"
      ]
     },
     "execution_count": 17,
     "metadata": {},
     "output_type": "execute_result"
    },
    {
     "name": "stderr",
     "output_type": "stream",
     "text": [
      "findfont: Font family ['serif'] not found. Falling back to DejaVu Sans.\n"
     ]
    },
    {
     "data": {
      "image/png": "[encoded data removed]",
      "text/plain": [
       "<Figure size 432x288 with 1 Axes>"
      ]
     },
     "metadata": {
      "needs_background": "light"
     },
     "output_type": "display_data"
    }
   ],
   "source": [
    "fig, ax=plt.subplots()\n",
    "ax.scatter(ras0, decs0)"
   ]
  },
  {
   "cell_type": "code",
   "execution_count": 18,
   "metadata": {},
   "outputs": [],
   "source": [
    "def interpolated(ra, dec, interpolators):\n",
    "    #Ra dec must in degrees wrapped at 180 degree\n",
    "    interpoints=np.array([interpolators[0], interpolators[1] ]).T\n",
    "    return griddata(interpoints, interpolators[-1] , (ra, dec), \\\n",
    "                    method='cubic', fill_value=-1.)\n",
    "def interpolated_broken(ra, dec,interpolators):\n",
    "    interpoints=np.array([interpolators[0], interpolators[1] ])\n",
    "    return  interpn(list(zip(interpoints)), interpolators[-1] , (ra, dec),\\\n",
    "                     fill_value=-1.,  bounds_error=False) "
   ]
  },
  {
   "cell_type": "code",
   "execution_count": 19,
   "metadata": {},
   "outputs": [],
   "source": [
    "from popsims.widefields import  WideField, create_mixed_population,\\\n",
    "transform_tocylindrical"
   ]
  },
  {
   "cell_type": "code",
   "execution_count": 20,
   "metadata": {},
   "outputs": [],
   "source": [
    "#field= WideField(footprinttype='uniform')\n",
    "#field.footprint=SDSS\n",
    "#trace=field.sample_points(nsample=1e5, Hthin=350, dmin=1, dmax=1000)"
   ]
  },
  {
   "cell_type": "code",
   "execution_count": 21,
   "metadata": {},
   "outputs": [],
   "source": [
    "thin_dist_list=[]\n",
    "thick_dist_list=[]\n",
    "halo_dist_list=[]\n",
    "discr_ls=[]\n",
    "discr_bs=[]"
   ]
  },
  {
   "cell_type": "markdown",
   "metadata": {},
   "source": [
    "for i in tqdm(np.arange(1000)):\n",
    "    c=sdsscoord[np.random.choice(len(sdsscoord))]\n",
    "    narro_field=popsims.Pointing(coord=c)\n",
    "    halo_field=popsims.Pointing(coord=c, density='spheroid')\n",
    "\n",
    "    narro_field.mag_limits=dict(zip(['VISTA_{}'.format(k) for k in VISTA_DEPTHS.keys()],\\\n",
    "             [(0, VISTA_DEPTHS[k]) for k in VISTA_DEPTHS.keys()]))\n",
    "    thin_dist_list +=list(narro_field.draw_distances(0.1, 1000,350,  nsample=1e3))\n",
    "    thick_dist_list +=list(narro_field.draw_distances(0.1, 1000,900,  nsample=1e3))\n",
    "    halo_dist_list +=list(halo_field.draw_distances(0.1, 1000,900,  nsample=1e3))\n",
    "    discr_ls += [c.galactic.l.value]\n",
    "    discr_bs += [c.galactic.b.value]"
   ]
  },
  {
   "cell_type": "code",
   "execution_count": 22,
   "metadata": {},
   "outputs": [],
   "source": [
    "#np.save('/volumes/LaCie/popsimsdata/lodieupaper_distances.npy',\\\n",
    "#        {'thind':thin_dist_list ,\\\n",
    "#         'thickd':thick_dist_list ,\\\n",
    "#         'halod': halo_dist_list,\\\n",
    "#         'l': discr_ls ,\\\n",
    "#         'b': discr_bs}, allow_pickle=True)"
   ]
  },
  {
   "cell_type": "code",
   "execution_count": 23,
   "metadata": {},
   "outputs": [],
   "source": [
    "grid=np.arange(14, 40)"
   ]
  },
  {
   "cell_type": "code",
   "execution_count": 24,
   "metadata": {},
   "outputs": [],
   "source": [
    "dictionary=np.load('/volumes/LaCie/popsimsdata/lodieupaper_distances.npy', allow_pickle=True)\n",
    "dist_dictionary=dictionary.flatten()[0]\n",
    "thin_dist_list= dist_dictionary['thind']\n",
    "thick_dist_list= dist_dictionary['thickd']\n",
    "halo_dist_list= dist_dictionary['halod']\n",
    "discr_ls = dist_dictionary['l']\n",
    "discr_bs = dist_dictionary['b']"
   ]
  },
  {
   "cell_type": "code",
   "execution_count": null,
   "metadata": {},
   "outputs": [],
   "source": []
  },
  {
   "cell_type": "code",
   "execution_count": 25,
   "metadata": {},
   "outputs": [],
   "source": [
    "max_distances={}\n",
    "for g in grid:\n",
    "    pol=popsims.POLYNOMIALS['absmags']['dwarfs']['VISTA_J']['fit']\n",
    "    max_distances[g]=popsims.get_distance(pol(g), 19.5)"
   ]
  },
  {
   "cell_type": "code",
   "execution_count": 26,
   "metadata": {},
   "outputs": [],
   "source": [
    "def resample_distance(df, dmax_dict, population ):\n",
    "    df['d']=np.nan\n",
    "    if population=='thin_disk':\n",
    "        ds=np.array(thin_dist_list)\n",
    "    if population=='thick_disk':\n",
    "        ds=np.array(thick_dist_list)\n",
    "    if population=='halo':\n",
    "        ds=np.array(halo_dist_list)\n",
    "    ds=np.array(ds)\n",
    "    df['spt_r']=np.round(df.spt)\n",
    "    \n",
    "    dx= ds[ds< dmax_dict[float(df.spt_r.iloc[0])] ]\n",
    "    df['d']= np.random.choice(dx, len(df))\n",
    "    return df\n",
    "def sample_distance_properly(df, dmax_dict, population='thin_disk'):\n",
    "    df['spt_r']=np.round(df.spt)\n",
    "    groups=[]\n",
    "    for g in tqdm( df.groupby('spt_r')):\n",
    "        groups.append(resample_distance(g[1], dmax_dict, population))\n",
    "    return pd.concat(groups)\n",
    "def interpolate_sdss(ra, dec):\n",
    "    interpolators=[a.to(u.degree).value, b.to(u.degree).value, np.ones_like(a)]\n",
    "    return interpolated(ra, dec, interpolators )\n",
    "def apply_sdss_selection(df):\n",
    "    entiregalaxy=SkyCoord(l=df.l*u.radian,\\\n",
    "                     b=df.b*u.radian, frame='galactic')\n",
    "    \n",
    "    gridra=Angle(entiregalaxy.icrs.ra.to(u.radian))\n",
    "    gridra.wrap_at('180d', inplace=True)\n",
    "    griddec=Angle(entiregalaxy.icrs.dec.to(u.radian))\n",
    "    griddec.wrap_at('180d', inplace=True)\n",
    "\n",
    "    selectionfunction=interpolate_sdss(gridra.to(u.degree).value, \\\n",
    "                                                  griddec.to(u.degree).value)\n",
    "    df['SDSS_selection']= selectionfunction\n",
    "    df['ra']=gridra\n",
    "    df['dec']=griddec\n",
    "    return df\n",
    "\n",
    "def apply_color_cuts(df):\n",
    "    bools=[]\n",
    "    for k in color_cuts.keys():\n",
    "        xkey, ykey= k.split('-')\n",
    "        if color_cuts[k][-1]=='greater':\n",
    "            bools.append(df['abs_{}'.format(xkey)]-df['abs_{}'.format(ykey)] >= color_cuts[k][0])\n",
    "        if color_cuts[k][-1]=='less':\n",
    "            print (k)\n",
    "            bools.append(df['abs_{}'.format(xkey)]-df['abs_{}'.format(ykey)] <= color_cuts[k][0])\n",
    "    return np.logical_and.reduce(bools)\n",
    "    "
   ]
  },
  {
   "cell_type": "code",
   "execution_count": 27,
   "metadata": {},
   "outputs": [],
   "source": [
    "#df=popsims.make_systems(model='burrows1997', bfraction=0.2,\\\n",
    "#                            mass_age_range=[0.01, 0.15, 0., 8.0], \\\n",
    "#                                nsample=1e4,\n",
    "#                                recompute=False)\n"
   ]
  },
  {
   "cell_type": "code",
   "execution_count": null,
   "metadata": {},
   "outputs": [],
   "source": []
  },
  {
   "cell_type": "code",
   "execution_count": 28,
   "metadata": {},
   "outputs": [],
   "source": [
    "from astropy.coordinates.representation import CartesianRepresentation,SphericalRepresentation, CylindricalRepresentation"
   ]
  },
  {
   "cell_type": "code",
   "execution_count": null,
   "metadata": {},
   "outputs": [],
   "source": []
  },
  {
   "cell_type": "code",
   "execution_count": null,
   "metadata": {},
   "outputs": [],
   "source": []
  },
  {
   "cell_type": "code",
   "execution_count": null,
   "metadata": {},
   "outputs": [],
   "source": []
  },
  {
   "cell_type": "code",
   "execution_count": 29,
   "metadata": {},
   "outputs": [],
   "source": []
  },
  {
   "cell_type": "code",
   "execution_count": 30,
   "metadata": {},
   "outputs": [],
   "source": [
    "#pm_ra, pm_dec, vr"
   ]
  },
  {
   "cell_type": "code",
   "execution_count": 31,
   "metadata": {},
   "outputs": [],
   "source": []
  },
  {
   "cell_type": "code",
   "execution_count": 32,
   "metadata": {},
   "outputs": [
    {
     "data": {
      "text/plain": [
       "{'RV': <Quantity -263.2039367 km / s>,\n",
       " 'mu_alpha': <Quantity 10.02534144 mas / yr>,\n",
       " 'mu_delta': <Quantity -6.28922805 mas / yr>}"
      ]
     },
     "execution_count": 32,
     "metadata": {},
     "output_type": "execute_result"
    }
   ],
   "source": [
    "get_proper_motion_cylindrical(10,11, 10, 10, 1e-15, 10)"
   ]
  },
  {
   "cell_type": "code",
   "execution_count": null,
   "metadata": {},
   "outputs": [],
   "source": []
  },
  {
   "cell_type": "code",
   "execution_count": 33,
   "metadata": {},
   "outputs": [],
   "source": []
  },
  {
   "cell_type": "code",
   "execution_count": 34,
   "metadata": {},
   "outputs": [],
   "source": [
    "#df_thin.join?"
   ]
  },
  {
   "cell_type": "code",
   "execution_count": 35,
   "metadata": {},
   "outputs": [],
   "source": [
    "#SkyCoord(u=1*u.km/u.s, v=)"
   ]
  },
  {
   "cell_type": "code",
   "execution_count": 36,
   "metadata": {},
   "outputs": [],
   "source": [
    "#d0=np.random.choice(thin_dist_list, int(1e6))\n",
    "#d1=np.random.choice(thick_dist_list, int(1e6))\n",
    "#d2=np.random.choice(halo_dist_list, int(1e6))\n",
    "#l=np.random.choice, int(1e6))\n",
    "#b=np.random.choice(discr_bs, int(1e6))\n",
    "\n",
    "#r1, z1=transform_tocylindrical(l, b, d1)\n",
    "#r2, z2=transform_tocylindrical(l, b, d2)"
   ]
  },
  {
   "cell_type": "code",
   "execution_count": 37,
   "metadata": {},
   "outputs": [],
   "source": [
    "mag_keys0=['VISTA_Z', 'VISTA_Y', 'VISTA_J', 'VISTA_H', 'VISTA_KS', 'UKIDSS_Z', \\\n",
    "'UKIDSS_Y', 'UKIDSS_J', 'UKIDSS_H', 'UKIDSS_K', 'SDSS_R', 'SDSS_I', 'SDSS_Z', \\\n",
    "           'PANSTARRS_R', 'PANSTARRS_Z', 'PANSTARRS_I', 'PANSTARRS_Y']"
   ]
  },
  {
   "cell_type": "code",
   "execution_count": 38,
   "metadata": {},
   "outputs": [
    {
     "name": "stdout",
     "output_type": "stream",
     "text": [
      "0\n",
      "0\n",
      "0\n",
      "VISTA_H\n",
      "VISTA_KS\n",
      "0\n",
      "0\n",
      "0\n",
      "0\n",
      "0\n",
      "SDSS_R\n",
      "SDSS_I\n",
      "SDSS_Z\n",
      "0\n",
      "0\n",
      "0\n",
      "0\n"
     ]
    }
   ],
   "source": [
    "for k in mag_keys0:\n",
    "    try:\n",
    "        print (popsims.POLYNOMIALS['absmags']['subdwarfs'][k]['x0'])\n",
    "    except:\n",
    "        print (k)\n"
   ]
  },
  {
   "cell_type": "code",
   "execution_count": 39,
   "metadata": {},
   "outputs": [],
   "source": [
    "#hjkl"
   ]
  },
  {
   "cell_type": "code",
   "execution_count": 40,
   "metadata": {},
   "outputs": [
    {
     "name": "stdout",
     "output_type": "stream",
     "text": [
      "dwarfs\n"
     ]
    }
   ],
   "source": [
    "tqdm.pandas()\n",
    "df_thin=create_pop(bfraction=0.2,\\\n",
    "                         model='burrows1997',\\\n",
    "                             l=discr_ls, b=discr_bs,\\\n",
    "                           absmag_keys=mag_keys0, \\\n",
    "                      nsample=2e6, dmax_dict=max_distances,\\\n",
    "                  poptype='dwarfs')"
   ]
  },
  {
   "cell_type": "code",
   "execution_count": 41,
   "metadata": {},
   "outputs": [],
   "source": [
    "#"
   ]
  },
  {
   "cell_type": "code",
   "execution_count": 42,
   "metadata": {},
   "outputs": [],
   "source": [
    "#df_thin.l.isna().any(), len(df_thin)"
   ]
  },
  {
   "cell_type": "code",
   "execution_count": 43,
   "metadata": {},
   "outputs": [
    {
     "name": "stdout",
     "output_type": "stream",
     "text": [
      "dwarfs\n"
     ]
    }
   ],
   "source": [
    "df_thick=create_pop(bfraction=0.2,\\\n",
    "                          model='baraffe1998_metalpoor',\\\n",
    "                             l=discr_ls, b=discr_bs,\\\n",
    "                           absmag_keys=mag_keys0, \\\n",
    "                      nsample=2e6, dmax_dict=max_distances,\n",
    "                         population='thick_disk', poptype='dwarfs')"
   ]
  },
  {
   "cell_type": "code",
   "execution_count": 44,
   "metadata": {},
   "outputs": [
    {
     "name": "stdout",
     "output_type": "stream",
     "text": [
      "subdwarfs\n"
     ]
    }
   ],
   "source": [
    "df_halo=create_pop(bfraction=0.2,\\\n",
    "                         model='baraffe1998_metalpoor',\\\n",
    "                             l=discr_ls, b=discr_bs,\\\n",
    "                           absmag_keys=mag_keys0, \\\n",
    "                      nsample=2e6, dmax_dict=max_distances,\n",
    "                         population='halo', poptype='subdwarfs')\n"
   ]
  },
  {
   "cell_type": "code",
   "execution_count": 45,
   "metadata": {},
   "outputs": [],
   "source": []
  },
  {
   "cell_type": "code",
   "execution_count": 46,
   "metadata": {},
   "outputs": [
    {
     "name": "stderr",
     "output_type": "stream",
     "text": [
      "/opt/anaconda3/envs/mcmcenv/lib/python3.9/site-packages/ipykernel/ipkernel.py:283: DeprecationWarning: `should_run_async` will not call `transform_cell` automatically in the future. Please pass the result to `transformed_cell` argument and any exception that happen during thetransform in `preprocessing_exc_tuple` in IPython 7.17 and above.\n",
      "  and should_run_async(code)\n",
      "/Users/caganze/research/popsims/popsims/galaxy.py:153: UserWarning: Key not available for subdwarfs using dwarfs instead\n",
      "  warnings.warn(\"Key not available for {} using {} instead\".format(object_type, 'dwarfs'))\n"
     ]
    },
    {
     "data": {
      "text/html": [
       "<div>\n",
       "<style scoped>\n",
       "    .dataframe tbody tr th:only-of-type {\n",
       "        vertical-align: middle;\n",
       "    }\n",
       "\n",
       "    .dataframe tbody tr th {\n",
       "        vertical-align: top;\n",
       "    }\n",
       "\n",
       "    .dataframe thead th {\n",
       "        text-align: right;\n",
       "    }\n",
       "</style>\n",
       "<table border=\"1\" class=\"dataframe\">\n",
       "  <thead>\n",
       "    <tr style=\"text-align: right;\">\n",
       "      <th></th>\n",
       "      <th>VISTA_KS</th>\n",
       "      <th>abs_VISTA_KS</th>\n",
       "    </tr>\n",
       "  </thead>\n",
       "  <tbody>\n",
       "    <tr>\n",
       "      <th>0</th>\n",
       "      <td>24.017158</td>\n",
       "      <td>14.017158</td>\n",
       "    </tr>\n",
       "  </tbody>\n",
       "</table>\n",
       "</div>"
      ],
      "text/plain": [
       "    VISTA_KS  abs_VISTA_KS\n",
       "0  24.017158     14.017158"
      ]
     },
     "execution_count": 46,
     "metadata": {},
     "output_type": "execute_result"
    }
   ],
   "source": [
    "popsims.pop_mags_from_type(np.array([25]), d=np.array([1000]), keys=['VISTA_KS'],\\\n",
    "                           object_type='subdwarfs')"
   ]
  },
  {
   "cell_type": "code",
   "execution_count": 47,
   "metadata": {},
   "outputs": [
    {
     "name": "stderr",
     "output_type": "stream",
     "text": [
      "/opt/anaconda3/envs/mcmcenv/lib/python3.9/site-packages/ipykernel/ipkernel.py:283: DeprecationWarning: `should_run_async` will not call `transform_cell` automatically in the future. Please pass the result to `transformed_cell` argument and any exception that happen during thetransform in `preprocessing_exc_tuple` in IPython 7.17 and above.\n",
      "  and should_run_async(code)\n"
     ]
    }
   ],
   "source": [
    "df_halo=df_halo.dropna(subset=['l', 'b'])\n",
    "df_thick=df_thick.dropna(subset=['l', 'b'])\n",
    "df_thin=df_thin.dropna(subset=['l', 'b'])"
   ]
  },
  {
   "cell_type": "code",
   "execution_count": 48,
   "metadata": {},
   "outputs": [
    {
     "name": "stderr",
     "output_type": "stream",
     "text": [
      "/opt/anaconda3/envs/mcmcenv/lib/python3.9/site-packages/ipykernel/ipkernel.py:283: DeprecationWarning: `should_run_async` will not call `transform_cell` automatically in the future. Please pass the result to `transformed_cell` argument and any exception that happen during thetransform in `preprocessing_exc_tuple` in IPython 7.17 and above.\n",
      "  and should_run_async(code)\n"
     ]
    }
   ],
   "source": [
    "#df_halo.dropna?"
   ]
  },
  {
   "cell_type": "code",
   "execution_count": 49,
   "metadata": {},
   "outputs": [
    {
     "data": {
      "text/plain": [
       "[(-400.0, 400.0),\n",
       " (0.0, 400.0),\n",
       " Text(0.5, 0, 'V (km/s)'),\n",
       " Text(0, 0.5, ' $(U^2+ W^2)^{0.5}$(km/s)')]"
      ]
     },
     "execution_count": 49,
     "metadata": {},
     "output_type": "execute_result"
    },
    {
     "data": {
      "image/png": "[encoded data removed]",
      "text/plain": [
       "<Figure size 432x288 with 1 Axes>"
      ]
     },
     "metadata": {
      "needs_background": "light"
     },
     "output_type": "display_data"
    }
   ],
   "source": [
    "fig, ax=plt.subplots()\n",
    "#ax.scatter(df_halo.V.values, (df_halo.U.values**2+ df_halo.W.values**2  )**0.5, \\\n",
    "#           alpha=0.3, s=1,  marker='+')\n",
    "ax.scatter(df_thick.V.values, (df_thick.U.values**2+ df_thick.W.values**2  )**0.5, \\\n",
    "           s=1, alpha=0.5, marker='+')\n",
    "ax.scatter(df_thin.V.values, (df_thin.U.values**2+ df_thin.W.values**2  )**0.5,\\\n",
    "           alpha=0.5, s=1, marker='+')\n",
    "ax.minorticks_on()\n",
    "ax.set(xlim=[-400, 400], ylim=[0, 400],xlabel='V (km/s)', \\\n",
    "       ylabel=r' $(U^2+ W^2)^{0.5}$(km/s)')"
   ]
  },
  {
   "cell_type": "code",
   "execution_count": 50,
   "metadata": {},
   "outputs": [],
   "source": [
    "#jkn"
   ]
  },
  {
   "cell_type": "code",
   "execution_count": null,
   "metadata": {},
   "outputs": [],
   "source": []
  },
  {
   "cell_type": "code",
   "execution_count": 51,
   "metadata": {},
   "outputs": [],
   "source": [
    "#traceclose=field.sample_points(nsample=1e5, Hthin=350, dmin=1, dmax=100)"
   ]
  },
  {
   "cell_type": "code",
   "execution_count": 52,
   "metadata": {},
   "outputs": [],
   "source": [
    "df_thin['population']='thin_disk'\n",
    "df_thick['population']='thick_disk' \n",
    "df_halo['population']='halo'"
   ]
  },
  {
   "cell_type": "code",
   "execution_count": 53,
   "metadata": {},
   "outputs": [
    {
     "data": {
      "image/png": "[encoded data removed]",
      "text/plain": [
       "<Figure size 432x288 with 1 Axes>"
      ]
     },
     "metadata": {
      "needs_background": "light"
     },
     "output_type": "display_data"
    }
   ],
   "source": [
    "h=plt.hist(df_thin.age, histtype='step', lw=2, log=False)\n",
    "h=plt.hist(df_thick.age, histtype='step', lw=2, log=False)\n",
    "h=plt.hist(df_halo.age, histtype='step', lw=2, log=False)"
   ]
  },
  {
   "cell_type": "code",
   "execution_count": null,
   "metadata": {},
   "outputs": [],
   "source": []
  },
  {
   "cell_type": "code",
   "execution_count": 54,
   "metadata": {},
   "outputs": [
    {
     "name": "stderr",
     "output_type": "stream",
     "text": [
      "/opt/anaconda3/envs/mcmcenv/lib/python3.9/site-packages/ipykernel/ipkernel.py:283: DeprecationWarning: `should_run_async` will not call `transform_cell` automatically in the future. Please pass the result to `transformed_cell` argument and any exception that happen during thetransform in `preprocessing_exc_tuple` in IPython 7.17 and above.\n",
      "  and should_run_async(code)\n"
     ]
    }
   ],
   "source": [
    "#make a cut in spectral type\n",
    "df_thin=df_thin.loc[df_thin.spt.between(14, 27)].reset_index(drop=True)\n",
    "df_thick=df_thick.loc[df_thick.spt.between(14, 27)].reset_index(drop=True)\n",
    "df_halo=df_halo.loc[df_halo.spt.between(14, 27)].reset_index(drop=True)"
   ]
  },
  {
   "cell_type": "code",
   "execution_count": 55,
   "metadata": {},
   "outputs": [
    {
     "name": "stderr",
     "output_type": "stream",
     "text": [
      "/opt/anaconda3/envs/mcmcenv/lib/python3.9/site-packages/ipykernel/ipkernel.py:283: DeprecationWarning: `should_run_async` will not call `transform_cell` automatically in the future. Please pass the result to `transformed_cell` argument and any exception that happen during thetransform in `preprocessing_exc_tuple` in IPython 7.17 and above.\n",
      "  and should_run_async(code)\n"
     ]
    }
   ],
   "source": [
    "nsample=1e6\n",
    "df0=pd.concat([df_thin.sample(n=int(nsample*0.875), replace=True), \\\n",
    "              df_thick.sample(n=int(nsample*0.12), replace=True), \\\n",
    "              df_halo.sample(n=int(nsample*0.005), replace=True)]).reset_index(drop=True)"
   ]
  },
  {
   "cell_type": "code",
   "execution_count": 56,
   "metadata": {},
   "outputs": [],
   "source": [
    "#df0=df0.drop(['abs_SDSS_R', 'abs_SDSS_I', 'abs_SDSS_Z','SDSS_R', 'SDSS_I', 'SDSS_Z' ], axis=1)"
   ]
  },
  {
   "cell_type": "code",
   "execution_count": 57,
   "metadata": {},
   "outputs": [],
   "source": [
    "#add SDSS and 2MASS magnitudes for darfs and subdarfs"
   ]
  },
  {
   "cell_type": "code",
   "execution_count": 58,
   "metadata": {},
   "outputs": [],
   "source": [
    "#recompute SDSS relations using rocios's relations\n",
    "#df=popsims.pop_mags_from_type(df0.spt.values, d=df0.d.values, \\\n",
    "#            keys=['SDSS_R', 'SDSS_I', 'SDSS_Z'], reference='kiman2019').join(df0)"
   ]
  },
  {
   "cell_type": "code",
   "execution_count": 59,
   "metadata": {},
   "outputs": [],
   "source": [
    "df=df0.reset_index(drop=True)"
   ]
  },
  {
   "cell_type": "code",
   "execution_count": 60,
   "metadata": {},
   "outputs": [],
   "source": [
    "df['abs_2MASS_J']=spe.typeToMag(df.spt.values, '2MASS J')[0]\n",
    "df['abs_2MASS_H']=spe.typeToMag(df.spt.values, '2MASS H')[0]\n",
    "df['abs_2MASS_K']=spe.typeToMag(df.spt.values, '2MASS K')[0]\n",
    "df['2MASS_J']=df.abs_2MASS_J+5*np.log10(df.d/10.0)\n",
    "df['2MASS_H']=df.abs_2MASS_H+5*np.log10(df.d/10.0)\n",
    "df['2MASS_K']=df.abs_2MASS_K+5*np.log10(df.d/10.0)\n",
    "\n",
    "#Add\n",
    "sd_bool=(df.population != 'thin_disk').values\n",
    "for k in ['SDSS_Z', 'SDSS_R', 'SDSS_Z', '2MASS_J', '2MASS_H', '2MASS_KS']:\n",
    "    \n",
    "    df.loc[sd_bool, 'abs_{}'.format(k)]= (spe.typeToMag(df.spt.values[sd_bool], \\\n",
    "                                          k,  reference='zhang2013')[0])\n",
    "    df.loc[sd_bool, k]=df.loc[sd_bool, 'abs_{}'.format(k)]+5*np.log10(df.d.loc[sd_bool]/10.0)"
   ]
  },
  {
   "cell_type": "code",
   "execution_count": 61,
   "metadata": {},
   "outputs": [],
   "source": [
    "\n",
    "#bools=df.SDSS_selection==1.\n",
    "other_bools=[]\n",
    "#other_bools.append()\n",
    "for k in PS1_DEPTHS.keys():\n",
    "    other_bools.append((df['PANSTARRS_{}'.format(k)]<PS1_DEPTHS[k]).values)\n",
    "for k in SDSS_DEPTHS.keys():\n",
    "    other_bools.append((df['SDSS_{}'.format(k)]<SDSS_DEPTHS[k]).values)\n",
    "for k in VISTA_DEPTHS.keys():\n",
    "    other_bools.append((df['VISTA_{}'.format(k)]<VISTA_DEPTHS[k]).values)\n",
    "tot_bools=np.logical_and.reduce(other_bools)\n",
    "#tot_bools=np.logical_and(tot_bools,apply_color_cuts(df))\n"
   ]
  },
  {
   "cell_type": "code",
   "execution_count": 62,
   "metadata": {},
   "outputs": [
    {
     "name": "stderr",
     "output_type": "stream",
     "text": [
      "/opt/anaconda3/envs/mcmcenv/lib/python3.9/site-packages/ipykernel/ipkernel.py:283: DeprecationWarning: `should_run_async` will not call `transform_cell` automatically in the future. Please pass the result to `transformed_cell` argument and any exception that happen during thetransform in `preprocessing_exc_tuple` in IPython 7.17 and above.\n",
      "  and should_run_async(code)\n"
     ]
    },
    {
     "data": {
      "text/plain": [
       "11730"
      ]
     },
     "execution_count": 62,
     "metadata": {},
     "output_type": "execute_result"
    }
   ],
   "source": [
    "len(df.loc[tot_bools])"
   ]
  },
  {
   "cell_type": "code",
   "execution_count": 63,
   "metadata": {},
   "outputs": [],
   "source": [
    "#df"
   ]
  },
  {
   "cell_type": "code",
   "execution_count": 64,
   "metadata": {},
   "outputs": [],
   "source": [
    "#hjhk"
   ]
  },
  {
   "cell_type": "code",
   "execution_count": 65,
   "metadata": {},
   "outputs": [],
   "source": [
    "df['spt_r']=df.spt.apply(np.round)"
   ]
  },
  {
   "cell_type": "code",
   "execution_count": 66,
   "metadata": {},
   "outputs": [],
   "source": [
    "dfn=df.loc[tot_bools].reset_index(drop=True)"
   ]
  },
  {
   "cell_type": "code",
   "execution_count": 67,
   "metadata": {},
   "outputs": [
    {
     "data": {
      "text/plain": [
       "array([16., 17., 18., 19., 20., 21., 22., 23., 24., 25., 27.])"
      ]
     },
     "execution_count": 67,
     "metadata": {},
     "output_type": "execute_result"
    }
   ],
   "source": [
    "np.unique(dfn.spt_r)"
   ]
  },
  {
   "cell_type": "code",
   "execution_count": 68,
   "metadata": {},
   "outputs": [
    {
     "data": {
      "text/plain": [
       "11730"
      ]
     },
     "execution_count": 68,
     "metadata": {},
     "output_type": "execute_result"
    }
   ],
   "source": [
    "len(dfn)"
   ]
  },
  {
   "cell_type": "code",
   "execution_count": 69,
   "metadata": {},
   "outputs": [],
   "source": [
    "cmap = plt.get_cmap('cividis')\n",
    "colors = cmap(np.linspace(0, 1, len(dfn.groupby('spt_r'))))"
   ]
  },
  {
   "cell_type": "code",
   "execution_count": 70,
   "metadata": {},
   "outputs": [
    {
     "name": "stdout",
     "output_type": "stream",
     "text": [
      "16.0 500.8407989848212\n",
      "17.0 372.88213071828335\n",
      "18.0 270.0420718837773\n",
      "19.0 165.66059589499136\n",
      "20.0 144.26439512181574\n",
      "21.0 140.32890847858732\n",
      "22.0 94.40064789417603\n",
      "23.0 63.50425168595962\n",
      "24.0 41.939439556671864\n",
      "25.0 30.372635797033116\n",
      "27.0 22.40527869300018\n"
     ]
    },
    {
     "data": {
      "image/png": "[encoded data removed]",
      "text/plain": [
       "<Figure size 432x288 with 1 Axes>"
      ]
     },
     "metadata": {
      "needs_background": "light"
     },
     "output_type": "display_data"
    }
   ],
   "source": [
    "fig, ax=plt.subplots()\n",
    "for g, co in zip(dfn.groupby('spt_r'), colors):\n",
    "    print (g[0], np.nanmax(g[1].d.values))\n",
    "    h=plt.hist(g[1].d.values, bins='auto', \\\n",
    "               histtype='step', lw=2, log=True, \\\n",
    "    \n",
    "               label=g[1], color=co)\n",
    "    "
   ]
  },
  {
   "cell_type": "code",
   "execution_count": 71,
   "metadata": {},
   "outputs": [
    {
     "name": "stderr",
     "output_type": "stream",
     "text": [
      "/opt/anaconda3/envs/mcmcenv/lib/python3.9/site-packages/ipykernel/ipkernel.py:283: DeprecationWarning: `should_run_async` will not call `transform_cell` automatically in the future. Please pass the result to `transformed_cell` argument and any exception that happen during thetransform in `preprocessing_exc_tuple` in IPython 7.17 and above.\n",
      "  and should_run_async(code)\n"
     ]
    },
    {
     "data": {
      "text/plain": [
       "[Text(0, 0.5, 'Distance'), Text(0.5, 0, 'Spectral Type')]"
      ]
     },
     "execution_count": 71,
     "metadata": {},
     "output_type": "execute_result"
    },
    {
     "data": {
      "image/png": "[encoded data removed]",
      "text/plain": [
       "<Figure size 432x288 with 1 Axes>"
      ]
     },
     "metadata": {
      "needs_background": "light"
     },
     "output_type": "display_data"
    }
   ],
   "source": [
    "fig, ax=plt.subplots()\n",
    "h=plt.scatter(dfn.spt, np.log10(dfn.d), s=1, alpha=0.9)\n",
    "ax.set(ylabel='Distance', xlabel='Spectral Type')"
   ]
  },
  {
   "cell_type": "code",
   "execution_count": 72,
   "metadata": {},
   "outputs": [
    {
     "data": {
      "text/plain": [
       "[Text(0.5, 0, 'Distance')]"
      ]
     },
     "execution_count": 72,
     "metadata": {},
     "output_type": "execute_result"
    },
    {
     "data": {
      "image/png": "[encoded data removed]",
      "text/plain": [
       "<Figure size 432x288 with 1 Axes>"
      ]
     },
     "metadata": {
      "needs_background": "light"
     },
     "output_type": "display_data"
    }
   ],
   "source": [
    "fig, ax=plt.subplots()\n",
    "h=plt.hist(dfn.d, bins='auto', log=True)\n",
    "ax.set(xlabel='Distance')"
   ]
  },
  {
   "cell_type": "code",
   "execution_count": 73,
   "metadata": {},
   "outputs": [],
   "source": [
    "halo_bool=(dfn.population !='thin_disk').values"
   ]
  },
  {
   "cell_type": "code",
   "execution_count": 74,
   "metadata": {},
   "outputs": [
    {
     "data": {
      "text/plain": [
       "[Text(0.5, 0, 'y-z'), Text(0, 0.5, 'M$_z$')]"
      ]
     },
     "execution_count": 74,
     "metadata": {},
     "output_type": "execute_result"
    },
    {
     "data": {
      "image/png": "[encoded data removed]",
      "text/plain": [
       "<Figure size 432x288 with 1 Axes>"
      ]
     },
     "metadata": {
      "needs_background": "light"
     },
     "output_type": "display_data"
    }
   ],
   "source": [
    "fig, ax=plt.subplots()\n",
    "ax.scatter((dfn.VISTA_Y[~halo_bool]-dfn.VISTA_Z)[~halo_bool], \\\n",
    "           dfn.abs_VISTA_Z[~halo_bool],s=.1, c='k')\n",
    "ax.scatter((dfn.VISTA_Y[halo_bool]-dfn.VISTA_Z)[halo_bool], \\\n",
    "           dfn.abs_VISTA_Z[halo_bool],s=10, alpha=0.5)\n",
    "ax.minorticks_on()\n",
    "ax.invert_yaxis()\n",
    "ax.set(xlabel='y-z', ylabel=r'M$_z$')\n",
    "#ax.scatter(df.VISTA_Y-df.VISTA_Z, df.abs_VISTA_Z,s=1)"
   ]
  },
  {
   "cell_type": "code",
   "execution_count": 75,
   "metadata": {},
   "outputs": [],
   "source": [
    "#hgvjknl"
   ]
  },
  {
   "cell_type": "code",
   "execution_count": 76,
   "metadata": {},
   "outputs": [],
   "source": [
    "dfn_coord=SkyCoord(l=dfn.l*u.degree, b=dfn.b*u.degree, frame='galactic')"
   ]
  },
  {
   "cell_type": "code",
   "execution_count": 77,
   "metadata": {},
   "outputs": [],
   "source": [
    "dfn['ra']=dfn_coord.icrs.ra.to(u.degree)\n",
    "dfn['dec']=dfn_coord.icrs.dec.to(u.degree)"
   ]
  },
  {
   "cell_type": "code",
   "execution_count": 78,
   "metadata": {},
   "outputs": [
    {
     "name": "stderr",
     "output_type": "stream",
     "text": [
      "100%|██████████| 11730/11730 [01:08<00:00, 171.20it/s]\n"
     ]
    }
   ],
   "source": [
    "tqdm.pandas()\n",
    "motion_df=dfn[['ra', 'dec', 'd', 'U', 'V', \\\n",
    "       'W' ]].progress_apply(lambda x: get_proper_motion(*x), axis=1).reset_index(drop=True)"
   ]
  },
  {
   "cell_type": "code",
   "execution_count": 79,
   "metadata": {},
   "outputs": [
    {
     "name": "stderr",
     "output_type": "stream",
     "text": [
      "/opt/anaconda3/envs/mcmcenv/lib/python3.9/site-packages/ipykernel/ipkernel.py:283: DeprecationWarning: `should_run_async` will not call `transform_cell` automatically in the future. Please pass the result to `transformed_cell` argument and any exception that happen during thetransform in `preprocessing_exc_tuple` in IPython 7.17 and above.\n",
      "  and should_run_async(code)\n"
     ]
    }
   ],
   "source": [
    "halo_bool=dfn.population=='halo'"
   ]
  },
  {
   "cell_type": "code",
   "execution_count": 80,
   "metadata": {},
   "outputs": [
    {
     "name": "stderr",
     "output_type": "stream",
     "text": [
      "WARNING: AstropyDeprecationWarning: Transforming a frame instance to a frame class (as opposed to another frame instance) will not be supported in the future.  Either explicitly instantiate the target frame, or first convert the source frame instance to a `astropy.coordinates.SkyCoord` and use its `transform_to()` method. [astropy.coordinates.baseframe]\n"
     ]
    }
   ],
   "source": [
    "motion_halo=pd.DataFrame(get_proper_motion_cylindrical(dfn.ra.values, \\\n",
    "                             dfn.dec.values,\n",
    "                            (dfn.d.values)/1000,\n",
    "                             dfn.Vr.values,\n",
    "                            (dfn.Vphi.values)/(dfn.d.values+8300.*u.pc.to(u.km)),\n",
    "                            dfn.Vz.values))"
   ]
  },
  {
   "cell_type": "code",
   "execution_count": 81,
   "metadata": {},
   "outputs": [],
   "source": [
    "#len(dfj)==len(dfn)"
   ]
  },
  {
   "cell_type": "code",
   "execution_count": 82,
   "metadata": {},
   "outputs": [],
   "source": [
    "dfn=dfn.reset_index(drop=True)"
   ]
  },
  {
   "cell_type": "code",
   "execution_count": 83,
   "metadata": {},
   "outputs": [],
   "source": [
    "dfj=dfn.join(motion_df).reset_index(drop=True)"
   ]
  },
  {
   "cell_type": "code",
   "execution_count": 84,
   "metadata": {},
   "outputs": [],
   "source": [
    "#computer proper motions for halo star\n",
    "dfj.loc[halo_bool, 'RV'] = motion_halo[halo_bool]['RV'].values\n",
    "dfj.loc[halo_bool, 'mu_alpha'] = motion_halo[halo_bool]['mu_alpha'].values\n",
    "dfj.loc[halo_bool, 'mu_delta']= motion_halo[halo_bool]['mu_delta'].values"
   ]
  },
  {
   "cell_type": "code",
   "execution_count": 85,
   "metadata": {},
   "outputs": [
    {
     "data": {
      "image/png": "[encoded data removed]",
      "text/plain": [
       "<Figure size 432x288 with 1 Axes>"
      ]
     },
     "metadata": {
      "needs_background": "light"
     },
     "output_type": "display_data"
    }
   ],
   "source": [
    "fig, ax=plt.subplots()\n",
    "for k in PS1_DEPTHS.keys():\n",
    "    #h=plt.hist(df['PANSTARRS_{}'.format(k)], bins='auto', histtype='step',\\\n",
    "    #           lw=2, log=True, linestyle='--')\n",
    "    h=plt.hist(dfn['PANSTARRS_{}'.format(k)].values, bins='auto',\\\n",
    "               histtype='step', lw=2, log=True)"
   ]
  },
  {
   "cell_type": "code",
   "execution_count": 86,
   "metadata": {},
   "outputs": [
    {
     "name": "stderr",
     "output_type": "stream",
     "text": [
      "/opt/anaconda3/envs/mcmcenv/lib/python3.9/site-packages/ipykernel/ipkernel.py:283: DeprecationWarning: `should_run_async` will not call `transform_cell` automatically in the future. Please pass the result to `transformed_cell` argument and any exception that happen during thetransform in `preprocessing_exc_tuple` in IPython 7.17 and above.\n",
      "  and should_run_async(code)\n"
     ]
    },
    {
     "data": {
      "text/plain": [
       "Index(['VISTA_Z', 'abs_VISTA_Z', 'VISTA_Y', 'abs_VISTA_Y', 'VISTA_J',\n",
       "       'abs_VISTA_J', 'VISTA_H', 'abs_VISTA_H', 'VISTA_KS', 'abs_VISTA_KS',\n",
       "       'UKIDSS_Z', 'abs_UKIDSS_Z', 'UKIDSS_Y', 'abs_UKIDSS_Y', 'UKIDSS_J',\n",
       "       'abs_UKIDSS_J', 'UKIDSS_H', 'abs_UKIDSS_H', 'UKIDSS_K', 'abs_UKIDSS_K',\n",
       "       'SDSS_R', 'abs_SDSS_R', 'SDSS_I', 'abs_SDSS_I', 'SDSS_Z', 'abs_SDSS_Z',\n",
       "       'PANSTARRS_R', 'abs_PANSTARRS_R', 'PANSTARRS_Z', 'abs_PANSTARRS_Z',\n",
       "       'PANSTARRS_I', 'abs_PANSTARRS_I', 'PANSTARRS_Y', 'abs_PANSTARRS_Y',\n",
       "       'mass', 'age', 'temperature', 'luminosity', 'is_binary', 'spt',\n",
       "       'prim_spt', 'sec_spt', 'pri_mass', 'sec_mass', 'prim_luminosity',\n",
       "       'sec_luminosity', 'scale', 'scale_unc', 'scale_times_model', 'd', 'l',\n",
       "       'b', 'r', 'z', 'U', 'V', 'W', 'population', 'Vr', 'Vphi', 'Vz',\n",
       "       'abs_2MASS_J', 'abs_2MASS_H', 'abs_2MASS_K', '2MASS_J', '2MASS_H',\n",
       "       '2MASS_K', 'abs_2MASS_KS', '2MASS_KS', 'spt_r', 'ra', 'dec', 'RV',\n",
       "       'mu_alpha', 'mu_delta', 'Vtan'],\n",
       "      dtype='object')"
      ]
     },
     "execution_count": 86,
     "metadata": {},
     "output_type": "execute_result"
    }
   ],
   "source": [
    "dfj.columns"
   ]
  },
  {
   "cell_type": "code",
   "execution_count": 87,
   "metadata": {},
   "outputs": [],
   "source": [
    "for k in [ '2MASS_J', '2MASS_H', 'VISTA_J', 'VISTA_H']:\n",
    "    dfj['redH_{}'.format(k)]=dfj['abs_{}'.format(k)]+\\\n",
    "     5*np.log10((dfj.mu_alpha**2+ dfj.mu_delta**2)**0.5)+5"
   ]
  },
  {
   "cell_type": "code",
   "execution_count": 88,
   "metadata": {},
   "outputs": [
    {
     "data": {
      "text/plain": [
       "[Text(0.5, 0, 'Reduced Proper Motion')]"
      ]
     },
     "execution_count": 88,
     "metadata": {},
     "output_type": "execute_result"
    },
    {
     "name": "stderr",
     "output_type": "stream",
     "text": [
      "findfont: Font family ['serif'] not found. Falling back to DejaVu Sans.\n"
     ]
    },
    {
     "data": {
      "image/png": "[encoded data removed]",
      "text/plain": [
       "<Figure size 432x288 with 1 Axes>"
      ]
     },
     "metadata": {
      "needs_background": "light"
     },
     "output_type": "display_data"
    }
   ],
   "source": [
    "fig, ax=plt.subplots()\n",
    "for k in [ '2MASS_J', '2MASS_H', 'VISTA_J', 'VISTA_H']:\n",
    "    vals=dfj['redH_{}'.format(k)].values\n",
    "    h=plt.hist(popsims.dropnans(vals),\\\n",
    "               bins='auto', histtype='step', lw=2, \n",
    "               log=True, label=k)\n",
    "plt.legend(fontsize=14)\n",
    "ax.set(xlabel='Reduced Proper Motion')"
   ]
  },
  {
   "cell_type": "code",
   "execution_count": 89,
   "metadata": {},
   "outputs": [
    {
     "name": "stderr",
     "output_type": "stream",
     "text": [
      "/opt/anaconda3/envs/mcmcenv/lib/python3.9/site-packages/ipykernel/ipkernel.py:283: DeprecationWarning: `should_run_async` will not call `transform_cell` automatically in the future. Please pass the result to `transformed_cell` argument and any exception that happen during thetransform in `preprocessing_exc_tuple` in IPython 7.17 and above.\n",
      "  and should_run_async(code)\n"
     ]
    },
    {
     "data": {
      "text/plain": [
       "[None,\n",
       " None,\n",
       " Text(0.5, 0, 'Proper motion (mas/yr)'),\n",
       " Text(0, 0.5, 'Distance (pc)')]"
      ]
     },
     "execution_count": 89,
     "metadata": {},
     "output_type": "execute_result"
    },
    {
     "data": {
      "image/png": "[encoded data removed]",
      "text/plain": [
       "<Figure size 432x288 with 1 Axes>"
      ]
     },
     "metadata": {
      "needs_background": "light"
     },
     "output_type": "display_data"
    }
   ],
   "source": [
    "fig, ax=plt.subplots()\n",
    "\n",
    "h=ax.scatter((dfj.mu_alpha**2+ dfj.mu_delta**2)**0.5, dfj.d,  c=dfj.spt, s=1, alpha=0.5)\n",
    "ax.set(xscale='log', yscale='log', xlabel='Proper motion (mas/yr)', \\\n",
    "       ylabel='Distance (pc)', )"
   ]
  },
  {
   "cell_type": "code",
   "execution_count": 90,
   "metadata": {},
   "outputs": [
    {
     "data": {
      "text/html": [
       "<div>\n",
       "<style scoped>\n",
       "    .dataframe tbody tr th:only-of-type {\n",
       "        vertical-align: middle;\n",
       "    }\n",
       "\n",
       "    .dataframe tbody tr th {\n",
       "        vertical-align: top;\n",
       "    }\n",
       "\n",
       "    .dataframe thead th {\n",
       "        text-align: right;\n",
       "    }\n",
       "</style>\n",
       "<table border=\"1\" class=\"dataframe\">\n",
       "  <thead>\n",
       "    <tr style=\"text-align: right;\">\n",
       "      <th></th>\n",
       "      <th>redH_VISTA_J</th>\n",
       "      <th>mu_alpha</th>\n",
       "    </tr>\n",
       "  </thead>\n",
       "  <tbody>\n",
       "    <tr>\n",
       "      <th>11728</th>\n",
       "      <td>31.760447</td>\n",
       "      <td>509.693680</td>\n",
       "    </tr>\n",
       "    <tr>\n",
       "      <th>11729</th>\n",
       "      <td>32.469606</td>\n",
       "      <td>-573.217828</td>\n",
       "    </tr>\n",
       "  </tbody>\n",
       "</table>\n",
       "</div>"
      ],
      "text/plain": [
       "       redH_VISTA_J    mu_alpha\n",
       "11728     31.760447  509.693680\n",
       "11729     32.469606 -573.217828"
      ]
     },
     "execution_count": 90,
     "metadata": {},
     "output_type": "execute_result"
    }
   ],
   "source": [
    " dfj[['redH_{}'.format('VISTA_J'), 'mu_alpha']][halo_bool]"
   ]
  },
  {
   "cell_type": "code",
   "execution_count": 91,
   "metadata": {},
   "outputs": [
    {
     "name": "stderr",
     "output_type": "stream",
     "text": [
      "/opt/anaconda3/envs/mcmcenv/lib/python3.9/site-packages/ipykernel/ipkernel.py:283: DeprecationWarning: `should_run_async` will not call `transform_cell` automatically in the future. Please pass the result to `transformed_cell` argument and any exception that happen during thetransform in `preprocessing_exc_tuple` in IPython 7.17 and above.\n",
      "  and should_run_async(code)\n"
     ]
    }
   ],
   "source": [
    "#(dfj['VISTA_J']-dfj['VISTA_KS']).min()"
   ]
  },
  {
   "cell_type": "code",
   "execution_count": 92,
   "metadata": {},
   "outputs": [
    {
     "data": {
      "image/png": "[encoded data removed]",
      "text/plain": [
       "<Figure size 720x432 with 1 Axes>"
      ]
     },
     "metadata": {
      "needs_background": "light"
     },
     "output_type": "display_data"
    }
   ],
   "source": [
    "### color-color plots\n",
    "fig, ax=plt.subplots(figsize=(10, 6))\n",
    "\n",
    "#c=sns.scatterplot((dfj.PANSTARRS_G-dfj.PANSTARRS_R),\\\n",
    "#             (dfj.PANSTARRS_R-dfj.PANSTARRS_I),\n",
    "#          hue='population', \\\n",
    "#               ax=ax[0][0], data=dfj, style='population', )\n",
    "\n",
    "#ax[0].scatter((dfl_conct.SDSSi-dfl_conct.Jmag_VHS).values, \\\n",
    "#                (dfl_conct.Jmag_VHS-dfl_conct.Kmag_VHS), s=5, c='k')\n",
    "#ax[0].scatter((dfj.abs_SDSS_I-dfj['abs_VISTA_J']), \\\n",
    "#                 (dfj['VISTA_J']-dfj['VISTA_KS']), s=1)\n",
    "\n",
    "\n",
    "#ax[1].scatter((dfl_conct.SDSSz-dfl_conct.Jmag_VHS).values, \\\n",
    " #               (dfl_conct.Jmag_VHS-dfl_conct.Kmag_VHS), s=5, c='k')\n",
    "#ax[1].scatter((dfj.abs_SDSS_Z-dfj['abs_VISTA_J']), \\\n",
    "#                (dfj['abs_2MASS_J']-dfj['abs_VISTA_KS']), s=1)\n",
    "\n",
    "\n",
    "\n",
    "ax.scatter((dfj.abs_SDSS_I[dfj.population=='thin_disk']-\\\n",
    "                dfj['abs_VISTA_J'][dfj.population=='thin_disk']), \\\n",
    "           dfj['redH_{}'.format('VISTA_J')][dfj.population=='thin_disk'], s=1, \\\n",
    "           label='thin disk')\n",
    "\n",
    "ax.scatter((dfj.abs_SDSS_I[dfj.population=='thick_disk']-\\\n",
    "                dfj['abs_VISTA_J'][dfj.population=='thick_disk']), \\\n",
    "           dfj['redH_{}'.format('VISTA_J')][dfj.population=='thick_disk'], s=50, \\\n",
    "           label='thick disk', marker='+')\n",
    "\n",
    "ax.scatter((dfj.abs_SDSS_I[halo_bool]-dfj['abs_VISTA_J'][halo_bool]), \\\n",
    "           dfj['redH_{}'.format('VISTA_J')][halo_bool], s=50, label='halo stars',\\\n",
    "               c='r', marker='D')\n",
    "\n",
    "ax.scatter((dfl_conct.SDSSi-dfl_conct.Jmag_VHS).values, \\\n",
    "                dfl_conct.Hj, s=5, c='k', label='Crossmatches')\n",
    "\n",
    "\n",
    "\n",
    "\n",
    "#ax[0].set(xlabel='SDSS I-J',\\\n",
    "#      Ylabel='SDSS J-K', xlim=[1.5, 7.])\n",
    "\n",
    "#ax[1].set(xlabel='SDSS Z-J',\\\n",
    "#      Ylabel='J-K', xlim=[1., 7.])\n",
    "\n",
    "ax.set(xlabel='SDSS I-VHS J',\\\n",
    "      ylabel=r'H$_J$')\n",
    "#ax.legend(loc='upper left', fontsize=16)\n",
    "\n",
    "ax.invert_yaxis()\n",
    "plt.tight_layout\n",
    "ax.minorticks_on()\n",
    "plt.savefig(popsims.FIGURES+'/simulatedcolors_sdss_vhs.pdf')"
   ]
  },
  {
   "cell_type": "code",
   "execution_count": 93,
   "metadata": {},
   "outputs": [
    {
     "name": "stderr",
     "output_type": "stream",
     "text": [
      "/opt/anaconda3/envs/mcmcenv/lib/python3.9/site-packages/ipykernel/ipkernel.py:283: DeprecationWarning: `should_run_async` will not call `transform_cell` automatically in the future. Please pass the result to `transformed_cell` argument and any exception that happen during thetransform in `preprocessing_exc_tuple` in IPython 7.17 and above.\n",
      "  and should_run_async(code)\n"
     ]
    }
   ],
   "source": [
    "#dfj.population"
   ]
  },
  {
   "cell_type": "code",
   "execution_count": 94,
   "metadata": {},
   "outputs": [],
   "source": [
    "df['selection_function']=tot_bools"
   ]
  },
  {
   "cell_type": "code",
   "execution_count": 95,
   "metadata": {},
   "outputs": [],
   "source": [
    "def get_ncounts(binby='spt', grid=np.arange(15, 40),\n",
    "               sd=False):\n",
    "    scale=[df.scale.mean(), df.scale_unc.mean(),df.scale_times_model.mean()]\n",
    "    NSIM=dict(zip(grid, np.zeros((len(grid), 2))))\n",
    "    df['r_{}'.format(binby)]=df[binby].apply(np.round)\n",
    "\n",
    "    for g in tqdm(df.groupby('r_{}'.format(binby))):\n",
    "        sn= len(df[np.logical_and(df.temperature>=450, df.temperature<=2100)])\n",
    "        n0=scale[-1]/scale[0]\n",
    "        #print (n0)\n",
    "        scln=np.array([scale[0]*n0/sn,\\\n",
    "                       (scale[1]*scale[-1])/(sn*scale[0])])\n",
    "        \n",
    "        if sd:\n",
    "            b0=np.logical_and(df.temperature>=450, df.temperature<=2100)\n",
    "            b1=df.population=='halo'\n",
    "            nhalo=len(df[np.logical_and(b0, b1)])/sn\n",
    "            scln=scln*nhalo\n",
    "\n",
    "        \n",
    "        #assert scln[0] > scale[0]\n",
    "        NSIM[g[0]]=np.nansum(g[1].selection_function)*scln\n",
    "    df.drop('r_{}'.format(binby), axis=1)\n",
    "    return pd.DataFrame(NSIM).T.rename(columns={0: 'N', 1: 'Nunc'})"
   ]
  },
  {
   "cell_type": "code",
   "execution_count": 96,
   "metadata": {},
   "outputs": [
    {
     "data": {
      "text/plain": [
       "array([14, 15, 16, 17, 18, 19, 20, 21, 22, 23, 24, 25, 26, 27, 28, 29, 30,\n",
       "       31, 32, 33, 34, 35, 36, 37, 38, 39])"
      ]
     },
     "execution_count": 96,
     "metadata": {},
     "output_type": "execute_result"
    }
   ],
   "source": [
    "grid"
   ]
  },
  {
   "cell_type": "code",
   "execution_count": 97,
   "metadata": {},
   "outputs": [
    {
     "name": "stderr",
     "output_type": "stream",
     "text": [
      "100%|██████████| 14/14 [00:07<00:00,  1.88it/s]\n",
      "100%|██████████| 14/14 [00:02<00:00,  4.83it/s]\n"
     ]
    }
   ],
   "source": [
    "\n",
    "counts=get_ncounts(grid=grid)\n",
    "sdcounts=get_ncounts(grid=grid, sd=True)"
   ]
  },
  {
   "cell_type": "code",
   "execution_count": 98,
   "metadata": {},
   "outputs": [
    {
     "name": "stderr",
     "output_type": "stream",
     "text": [
      "/opt/anaconda3/envs/mcmcenv/lib/python3.9/site-packages/ipykernel/ipkernel.py:283: DeprecationWarning: `should_run_async` will not call `transform_cell` automatically in the future. Please pass the result to `transformed_cell` argument and any exception that happen during thetransform in `preprocessing_exc_tuple` in IPython 7.17 and above.\n",
      "  and should_run_async(code)\n"
     ]
    }
   ],
   "source": [
    "import scipy.integrate as integrate\n",
    "from popsims.widefields import galactic_density"
   ]
  },
  {
   "cell_type": "code",
   "execution_count": 99,
   "metadata": {},
   "outputs": [],
   "source": [
    "def compute_volume(spt, l, b, h=350):\n",
    "    dmin=0\n",
    "    dmax=max_distances[spt]\n",
    "    if np.isnan(dmax):\n",
    "        return np.nan\n",
    "    else:\n",
    "        ds=np.linspace(dmin, dmax, 1000)\n",
    "        rd=np.sqrt( (ds * np.cos( b ) )**2 + popsims.Rsun * (popsims.Rsun - 2 * ds * np.cos( b ) * np.cos( l ) ) )\n",
    "        zd=popsims.Zsun+ ds * np.sin( b - np.arctan( popsims.Zsun / popsims.Rsun) )\n",
    "        rh=galactic_density(rd, zd, h)\n",
    "        return {'thin': integrate.trapz(rh['thin']*(ds**2), x=ds), \\\n",
    "                'thick': integrate.trapz(rh['thick']*(ds**2), x=ds), \\\n",
    "                'halo': integrate.trapz(rh['halo']*(ds**2), x=ds)}\n",
    "                "
   ]
  },
  {
   "cell_type": "code",
   "execution_count": 100,
   "metadata": {},
   "outputs": [
    {
     "data": {
      "text/plain": [
       "array([14, 15, 16, 17, 18, 19, 20, 21, 22, 23, 24, 25, 26, 27, 28, 29, 30,\n",
       "       31, 32, 33, 34, 35, 36, 37, 38, 39])"
      ]
     },
     "execution_count": 100,
     "metadata": {},
     "output_type": "execute_result"
    }
   ],
   "source": [
    "grid"
   ]
  },
  {
   "cell_type": "code",
   "execution_count": 101,
   "metadata": {},
   "outputs": [
    {
     "name": "stderr",
     "output_type": "stream",
     "text": [
      "100%|██████████| 11730/11730 [00:20<00:00, 584.77it/s]\n",
      "100%|██████████| 11730/11730 [00:20<00:00, 571.58it/s]\n",
      "100%|██████████| 11730/11730 [00:12<00:00, 967.81it/s] \n",
      "100%|██████████| 11730/11730 [00:11<00:00, 1003.18it/s]\n",
      "100%|██████████| 11730/11730 [00:11<00:00, 1044.60it/s]\n",
      "100%|██████████| 11730/11730 [00:12<00:00, 966.27it/s] \n",
      "100%|██████████| 11730/11730 [00:24<00:00, 478.94it/s]\n",
      "100%|██████████| 11730/11730 [00:17<00:00, 688.23it/s]\n",
      "100%|██████████| 11730/11730 [00:16<00:00, 700.18it/s]\n",
      "100%|██████████| 11730/11730 [00:18<00:00, 625.14it/s]\n",
      "100%|██████████| 11730/11730 [00:16<00:00, 722.24it/s] \n",
      "100%|██████████| 11730/11730 [00:20<00:00, 561.14it/s]\n",
      "100%|██████████| 11730/11730 [00:18<00:00, 641.71it/s]\n",
      "100%|██████████| 11730/11730 [00:19<00:00, 606.64it/s]\n",
      "100%|██████████| 11730/11730 [00:14<00:00, 816.15it/s] \n",
      "100%|██████████| 11730/11730 [00:13<00:00, 861.92it/s] \n",
      "100%|██████████| 11730/11730 [00:19<00:00, 611.81it/s]\n",
      "100%|██████████| 11730/11730 [00:21<00:00, 544.17it/s]\n",
      "100%|██████████| 11730/11730 [00:18<00:00, 641.25it/s]\n",
      "100%|██████████| 11730/11730 [00:18<00:00, 624.48it/s]\n",
      "100%|██████████| 11730/11730 [00:15<00:00, 767.68it/s] \n",
      "100%|██████████| 11730/11730 [00:14<00:00, 832.38it/s]\n",
      "100%|██████████| 11730/11730 [00:13<00:00, 849.83it/s] \n",
      "100%|██████████| 11730/11730 [00:11<00:00, 1031.85it/s]\n",
      "100%|██████████| 11730/11730 [00:13<00:00, 845.89it/s]\n",
      "100%|██████████| 11730/11730 [00:14<00:00, 813.67it/s] \n"
     ]
    }
   ],
   "source": [
    "volumes={}\n",
    "for k in grid:\n",
    "    vs={'thin': 0.0, 'thick': 0.0, 'halo': 0.0}\n",
    "    for f in tqdm(dfn_coord):\n",
    "        l=f.l.radian\n",
    "        b=f.b.radian\n",
    "        v=compute_volume(k, l, b, h=350)\n",
    "        vs['thin'] +=v['thin']\n",
    "        vs['thick'] +=v['thick']\n",
    "        vs['halo'] +=v['halo']\n",
    "    volumes[k]=vs"
   ]
  },
  {
   "cell_type": "code",
   "execution_count": 102,
   "metadata": {},
   "outputs": [],
   "source": [
    "#save this, takes too much time to do\n",
    "volumes_df=pd.DataFrame(volumes).T"
   ]
  },
  {
   "cell_type": "code",
   "execution_count": 103,
   "metadata": {},
   "outputs": [],
   "source": [
    "area=5350*(u.degree**2).to(u.radian**2)/len(dfn_coord)"
   ]
  },
  {
   "cell_type": "code",
   "execution_count": 104,
   "metadata": {},
   "outputs": [],
   "source": [
    "#area"
   ]
  },
  {
   "cell_type": "code",
   "execution_count": 105,
   "metadata": {},
   "outputs": [],
   "source": [
    "#easiest ay is to compute volumes for every field and then\n",
    "#second easiest thing, simulate an entire sky and do 2d-interpolation over sdss area"
   ]
  },
  {
   "cell_type": "code",
   "execution_count": 106,
   "metadata": {},
   "outputs": [],
   "source": [
    "#counts['volume']=pd.Series(volumes).T/len(dfn_coord)\n",
    "#sdcounts['volume']=pd.Series(volumes).T/len(dfn_coord)"
   ]
  },
  {
   "cell_type": "code",
   "execution_count": 107,
   "metadata": {},
   "outputs": [],
   "source": [
    "#counts.N"
   ]
  },
  {
   "cell_type": "code",
   "execution_count": 108,
   "metadata": {},
   "outputs": [
    {
     "data": {
      "text/plain": [
       "[Text(0, 0.5, 'N/radian$^2$')]"
      ]
     },
     "execution_count": 108,
     "metadata": {},
     "output_type": "execute_result"
    },
    {
     "data": {
      "image/png": "[encoded data removed]",
      "text/plain": [
       "<Figure size 432x288 with 1 Axes>"
      ]
     },
     "metadata": {
      "needs_background": "light"
     },
     "output_type": "display_data"
    }
   ],
   "source": [
    "fig, ax=plt.subplots()\n",
    "volumes_df.thin.apply(np.log10).plot(label='thin', ax=ax)\n",
    "volumes_df.thick.apply(np.log10).plot(label='thick', ax=ax)\n",
    "volumes_df.halo.apply(np.log10).plot(label='halo', ax=ax)\n",
    "ax.legend()\n",
    "ax.set(ylabel=r'N/radian$^2$')\n",
    "\n"
   ]
  },
  {
   "cell_type": "code",
   "execution_count": 113,
   "metadata": {},
   "outputs": [
    {
     "data": {
      "image/png": "[encoded data removed]",
      "text/plain": [
       "<Figure size 576x360 with 1 Axes>"
      ]
     },
     "metadata": {
      "needs_background": "light"
     },
     "output_type": "display_data"
    }
   ],
   "source": [
    "fig, ax=plt.subplots(figsize=(8, 5))\n",
    "\n",
    "ax.step(counts.index, counts.N*volumes_df.thin*area, label='Thin Disk', where='mid')\n",
    "ax.step(sdcounts.index,sdcounts.N*volumes_df.thick*area,label='Thick Disk', where='mid')\n",
    "ax.step(sdcounts.index, sdcounts.N*volumes_df.halo*area,label='Halo', where='mid')\n",
    "ax.set( xlabel='Spectral Type',  ylabel=r' Number Counts', yscale='log', xlim=[14, 29] )\n",
    "ax.grid()\n",
    "#ax.axhline(100, linestyle='--', c='k')\n",
    "plt.legend()\n",
    "plt.tight_layout()\n",
    "ax.minorticks_on()\n",
    "ax.set_xticks([14, 17, 20,  23, 27])\n",
    "ax.set_xticklabels(['M4', 'M7', 'L0', 'L3', 'L7'])\n",
    "plt.savefig(popsims.FIGURES+'/simulatedncounts_sdss_vhs.pdf')"
   ]
  },
  {
   "cell_type": "code",
   "execution_count": 110,
   "metadata": {},
   "outputs": [
    {
     "name": "stderr",
     "output_type": "stream",
     "text": [
      "/opt/anaconda3/envs/mcmcenv/lib/python3.9/site-packages/ipykernel/ipkernel.py:283: DeprecationWarning: `should_run_async` will not call `transform_cell` automatically in the future. Please pass the result to `transformed_cell` argument and any exception that happen during thetransform in `preprocessing_exc_tuple` in IPython 7.17 and above.\n",
      "  and should_run_async(code)\n"
     ]
    },
    {
     "data": {
      "text/plain": [
       "False"
      ]
     },
     "execution_count": 110,
     "metadata": {},
     "output_type": "execute_result"
    }
   ],
   "source": [
    "np.isnan(discr_ls).any()"
   ]
  },
  {
   "cell_type": "code",
   "execution_count": 111,
   "metadata": {},
   "outputs": [],
   "source": [
    "#read in a metal-poor baraffe model\n",
    "#baraffe=pd.read_csv(popsims.EVOL_MODELS_FOLDER+'//baraffe1998.csv')\n",
    "#metpoor=(baraffe[baraffe.metallicity<0]).reset_index(drop=True)"
   ]
  },
  {
   "cell_type": "code",
   "execution_count": 112,
   "metadata": {},
   "outputs": [],
   "source": [
    "#metpoor.to_csv(popsims.EVOL_MODELS_FOLDER+'//baraffe1998_metalpoor.csv', index=False)"
   ]
  },
  {
   "cell_type": "code",
   "execution_count": null,
   "metadata": {},
   "outputs": [],
   "source": []
  },
  {
   "cell_type": "code",
   "execution_count": null,
   "metadata": {},
   "outputs": [],
   "source": []
  },
  {
   "cell_type": "code",
   "execution_count": null,
   "metadata": {},
   "outputs": [],
   "source": []
  }
 ],
 "metadata": {
  "kernelspec": {
   "display_name": "Python (mcmenv)",
   "language": "python",
   "name": "myenv"
  },
  "language_info": {
   "codemirror_mode": {
    "name": "ipython",
    "version": 3
   },
   "file_extension": ".py",
   "mimetype": "text/x-python",
   "name": "python",
   "nbconvert_exporter": "python",
   "pygments_lexer": "ipython3",
   "version": "3.9.2"
  }
 },
 "nbformat": 4,
 "nbformat_minor": 4
}
