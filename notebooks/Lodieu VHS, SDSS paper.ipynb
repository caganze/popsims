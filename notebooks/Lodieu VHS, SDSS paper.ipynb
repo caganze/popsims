{
 "cells": [
  {
   "cell_type": "code",
   "execution_count": 1,
   "metadata": {},
   "outputs": [
    {
     "name": "stdout",
     "output_type": "stream",
     "text": [
      "/users/caganze/research/splat\n",
      "\n",
      "\n",
      "Welcome to the Spex Prism Library Analysis Toolkit (SPLAT)!\n",
      "If you make use of any features of this toolkit for your research, please remember to cite the SPLAT paper:\n",
      "\n",
      "Burgasser et al. (2017, Astro. Soc. India Conf. Series 14, p. 7); Bibcode: 2017ASInC..14....7B\n",
      "\n",
      "If you make use of any spectra or models in this toolkit, please remember to cite the original source.\n",
      "Please report any errors are feature requests to our github page, https://github.com/aburgasser/splat/\n",
      "\n",
      "\n"
     ]
    }
   ],
   "source": [
    "import numpy as np\n",
    "import pandas as pd\n",
    "import splat\n",
    "import popsims\n",
    "from astropy.coordinates import SkyCoord, Galactic\n",
    "import astropy.coordinates as astro_coord\n",
    "import matplotlib.pyplot as plt\n",
    "import seaborn as sns\n",
    "import scipy\n",
    "#sns.set_style(\"darkgrid\", {\"axes.facecolor\": \".95\"})\n",
    "\n",
    "#plt.style.use('fivethirtyeight')\n",
    "#plt.style.use('dark_background')\n",
    "#sns.set_style(\"dark\")\n",
    "\n",
    "from  matplotlib.colors import Normalize\n",
    "import astropy.units as u\n",
    "import popsims\n",
    "import matplotlib\n",
    "from tqdm import tqdm\n",
    "from tqdm import tqdm\n",
    "import matplotlib as mpl \n",
    "#mpl.rcParams['axes.labelsize'] = 20\n",
    "#mpl.rcParams['xtick.labelsize'] =20\n",
    "#mpl.rcParams['ytick.labelsize'] = 20\n",
    "#mpl.rcParams['legend.fontsize'] = 20\n",
    "#mpl.rcParams['figure.titlesize'] = 20\n",
    "from astropy.coordinates import Angle\n",
    "import astropy.table as astrotable\n",
    "\n",
    "splat.initializeStandards(all=True)\n",
    "from scipy.interpolate import griddata, interpn\n",
    "import splat.empirical as spe\n",
    "%matplotlib inline\n"
   ]
  },
  {
   "cell_type": "code",
   "execution_count": 2,
   "metadata": {},
   "outputs": [],
   "source": [
    "#IGNORE G AND R BAND CUTS, NOT TOO MANY OBJECTS WITH THESE\n",
    "PS1_DEPTHS={ 'Y':21.4} #'R':23.2, 'I':23.1  'Z':22.3 something funny happening\n",
    "SDSS_DEPTHS={'Z':20.5} #R':22.2, 'I':21.3,\n",
    "VISTA_DEPTHS={'KS':17.9} #'J':19.5, 'H':18.6,\n",
    "\n",
    "COLOR_CUTS={#'SDSS_G-SDSS_R':(1.6, 'greater'),\n",
    "            'SDSS_R-SDSS_I': (1.0, 'greater'),\n",
    "            'SDSS_I-SDSS_Z': (0.5, 'greater'),\n",
    "            'SDSS_R-SDSS_Z': (1.6, 'greater'),\n",
    "            'SDSS_I-VISTA_J':(1.7, 'greater'),\n",
    "            'SDSS_Z-VISTA_J':(1.1, 'greater'),\n",
    "            'VISTA_J-VISTA_KS':(0.75, 'less')} \n",
    "\n",
    "OTHER_CUTS={#'SDSS_R': 22.2, \n",
    "           #'SDSS_I': 21.3,\n",
    "           # 'SDSS_Z':20.5,\n",
    "            #'PANSTARRS_R': 23.2,\n",
    "            #'PANSTARRS_I':23.1,\n",
    "            'PANSTARRS_Z':22.3,\n",
    "            'VISTA_J':19.3,\n",
    "            'VISTA_H':18.6}\n",
    "\n",
    "#REDUCED_MOTION_CUTS={'redH_VISTA_J': ()}\n",
    "#i don't automatically compute all color-color combinations, only co\n",
    "LINE_CUTS={'cut0':{'x': 'SDSS_I-VISTA_J', 'y': 'redH_VISTA_J', 'm': -0.9375, 'b': 19.59375,\\\n",
    "           'condition':'greater', 'xtype': 'color', 'ytype': 'computed'},\n",
    "          \n",
    "           'cut1': {'x': 'SDSS_Z-VISTA_J', 'y': 'redH_VISTA_J', 'm': -2.14848, 'b': 20.362963,\\\n",
    "           'condition':'greater', 'xtype': 'color', 'ytype': 'computed'},\n",
    "        \n",
    "        'cut2': {'x': 'SDSS_I-VISTA_J', 'y': 'VISTA_J-VISTA_KS', 'm':0.125, 'b': 0.4875,\\\n",
    "           'condition':'less', 'xtype': 'color', 'ytype': 'color'},\n",
    "        'cut3': {'x': 'SDSS_Z-VISTA_J', 'y': 'VISTA_J-VISTA_KS', 'm':0.2963, 'b': 0.374,\\\n",
    "           'condition':'less', 'xtype': 'color', 'ytype': 'color'}\n",
    "          }\n"
   ]
  },
  {
   "cell_type": "code",
   "execution_count": null,
   "metadata": {},
   "outputs": [],
   "source": []
  },
  {
   "cell_type": "code",
   "execution_count": 3,
   "metadata": {},
   "outputs": [],
   "source": [
    "#SDSS \n",
    "SDSS={'FOV': 2.5*u.degree*2.5*u.degree,\\\n",
    "      'l':((np.array([0, 360]))*u.degree.to(u.radian)),\\\n",
    "            'b': ((np.array([-90, 90]))*u.degree.to(u.radian))}\n",
    "\n",
    "SDSS_discrete={'FOV': 2.5*u.degree*2.5*u.degree,\\\n",
    "      'l':((np.array([0, 360]))*u.degree.to(u.radian)),\\\n",
    "            'b': ((np.array([-90, 90]))*u.degree.to(u.radian))}"
   ]
  },
  {
   "cell_type": "code",
   "execution_count": 4,
   "metadata": {},
   "outputs": [],
   "source": [
    "#DATA_FOLDER='/volumes/Lacie/popsimsdata//'"
   ]
  },
  {
   "cell_type": "code",
   "execution_count": 5,
   "metadata": {},
   "outputs": [],
   "source": [
    "#t1    = astrotable.Table.read(DATA_FOLDER+'Stripe_Defs6_ctheissen.fit') # open an FITS file\n",
    "#t2    = astrotable.Table.read(DATA_FOLDER+'FieldNums_ctheissen.fit') # open an FITS file\n",
    "#t3    = astrotable.join(t1, t2, keys='fieldid').to_pandas()"
   ]
  },
  {
   "cell_type": "code",
   "execution_count": 6,
   "metadata": {},
   "outputs": [],
   "source": [
    "import glob"
   ]
  },
  {
   "cell_type": "code",
   "execution_count": 7,
   "metadata": {},
   "outputs": [],
   "source": [
    "from astropy.io.votable import parse_single_table"
   ]
  },
  {
   "cell_type": "code",
   "execution_count": 8,
   "metadata": {},
   "outputs": [
    {
     "name": "stdout",
     "output_type": "stream",
     "text": [
      "Number of candidates 130\n",
      "Number of candidates 4\n",
      "Number of candidates 114\n",
      "Number of candidates 59\n",
      "Number of candidates 52\n",
      "Number of candidates 174\n",
      "Number of candidates 17\n",
      "Number of candidates 115\n",
      "Number of candidates 13\n",
      "Number of candidates 445\n",
      "Number of candidates 2\n",
      "Number of candidates 253\n"
     ]
    }
   ],
   "source": [
    "#forget about sdss use\n",
    "ffolder='/volumes/LaCie/lodieu/*.xml'\n",
    "lodieu_dfs=[]\n",
    "for f in glob.glob(ffolder):\n",
    "    tbl = parse_single_table(f).to_table()\n",
    "    print('Number of candidates',len(tbl))\n",
    "    lodieu_dfs.append(tbl.to_pandas())\n",
    "dfl_conct=pd.concat(lodieu_dfs)"
   ]
  },
  {
   "cell_type": "code",
   "execution_count": 9,
   "metadata": {},
   "outputs": [],
   "source": [
    "#combine \n",
    "ras0=np.nanmedian([dfl_conct['RAJ2000_VHS'].values, dfl_conct['RAJ2000_LAS'].values], axis=0)\n",
    "decs0=np.nanmedian([dfl_conct['DEJ2000_VHS'].values, dfl_conct['DEJ2000_LAS'].values], axis=0)"
   ]
  },
  {
   "cell_type": "code",
   "execution_count": 10,
   "metadata": {},
   "outputs": [],
   "source": [
    "assert len(popsims.dropnans(ras0)) == len(dfl_conct)\n",
    "assert len(popsims.dropnans(decs0)) == len(dfl_conct)"
   ]
  },
  {
   "cell_type": "code",
   "execution_count": 11,
   "metadata": {},
   "outputs": [],
   "source": [
    "footprint=SkyCoord(ra=ras0*u.degree, dec=decs0*u.degree)"
   ]
  },
  {
   "cell_type": "code",
   "execution_count": 12,
   "metadata": {},
   "outputs": [],
   "source": [
    "a=Angle(footprint.ra.to(u.radian))\n",
    "b=Angle(footprint.dec.to(u.radian))\n",
    "a.wrap_at('180d', inplace=True)\n",
    "b.wrap_at('180d', inplace=True)"
   ]
  },
  {
   "cell_type": "code",
   "execution_count": 13,
   "metadata": {},
   "outputs": [
    {
     "data": {
      "text/plain": [
       "<matplotlib.collections.PathCollection at 0x7f7d32342f10>"
      ]
     },
     "execution_count": 13,
     "metadata": {},
     "output_type": "execute_result"
    },
    {
     "name": "stderr",
     "output_type": "stream",
     "text": [
      "findfont: Font family ['serif'] not found. Falling back to DejaVu Sans.\n",
      "findfont: Generic family 'serif' not found because none of the following families were found: \n"
     ]
    },
    {
     "data": {
      "image/png": "[encoded data removed]",
      "text/plain": [
       "<Figure size 432x288 with 1 Axes>"
      ]
     },
     "metadata": {
      "needs_background": "light"
     },
     "output_type": "display_data"
    }
   ],
   "source": [
    "fig, ax=plt.subplots()\n",
    "ax.scatter(ras0, decs0)"
   ]
  },
  {
   "cell_type": "code",
   "execution_count": 14,
   "metadata": {},
   "outputs": [],
   "source": [
    "def interpolated(ra, dec, interpolators):\n",
    "    #Ra dec must in degrees wrapped at 180 degree\n",
    "    interpoints=np.array([interpolators[0], interpolators[1] ]).T\n",
    "    return griddata(interpoints, interpolators[-1] , (ra, dec), \\\n",
    "                    method='cubic', fill_value=-1.)\n",
    "def interpolated_broken(ra, dec,interpolators):\n",
    "    interpoints=np.array([interpolators[0], interpolators[1] ])\n",
    "    return  interpn(list(zip(interpoints)), interpolators[-1] , (ra, dec),\\\n",
    "                     fill_value=-1.,  bounds_error=False) "
   ]
  },
  {
   "cell_type": "code",
   "execution_count": 15,
   "metadata": {},
   "outputs": [],
   "source": [
    "#from popsims.widefields import  WideField, create_mixed_population,\\\n",
    "#transform_tocylindrical"
   ]
  },
  {
   "cell_type": "code",
   "execution_count": 16,
   "metadata": {},
   "outputs": [],
   "source": [
    "#field= WideField(footprinttype='uniform')\n",
    "#field.footprint=SDSS\n",
    "#trace=field.sample_points(nsample=1e5, Hthin=350, dmin=1, dmax=1000)"
   ]
  },
  {
   "cell_type": "code",
   "execution_count": 17,
   "metadata": {},
   "outputs": [],
   "source": [
    "thin_dist_list=[]\n",
    "thick_dist_list=[]\n",
    "halo_dist_list=[]\n",
    "discr_ls=[]\n",
    "discr_bs=[]"
   ]
  },
  {
   "cell_type": "markdown",
   "metadata": {},
   "source": [
    "for i in tqdm(np.arange(1000)):\n",
    "    c=sdsscoord[np.random.choice(len(sdsscoord))]\n",
    "    narro_field=popsims.Pointing(coord=c)\n",
    "    halo_field=popsims.Pointing(coord=c, density='spheroid')\n",
    "\n",
    "    narro_field.mag_limits=dict(zip(['VISTA_{}'.format(k) for k in VISTA_DEPTHS.keys()],\\\n",
    "             [(0, VISTA_DEPTHS[k]) for k in VISTA_DEPTHS.keys()]))\n",
    "    thin_dist_list +=list(narro_field.draw_distances(0.1, 1000,350,  nsample=1e3))\n",
    "    thick_dist_list +=list(narro_field.draw_distances(0.1, 1000,900,  nsample=1e3))\n",
    "    halo_dist_list +=list(halo_field.draw_distances(0.1, 1000,900,  nsample=1e3))\n",
    "    discr_ls += [c.galactic.l.value]\n",
    "    discr_bs += [c.galactic.b.value]"
   ]
  },
  {
   "cell_type": "code",
   "execution_count": 18,
   "metadata": {},
   "outputs": [],
   "source": [
    "#np.save('/volumes/LaCie/popsimsdata/lodieupaper_distances.npy',\\\n",
    "#        {'thind':thin_dist_list ,\\\n",
    "#         'thickd':thick_dist_list ,\\\n",
    "#         'halod': halo_dist_list,\\\n",
    "#         'l': discr_ls ,\\\n",
    "#         'b': discr_bs}, allow_pickle=True)"
   ]
  },
  {
   "cell_type": "code",
   "execution_count": 19,
   "metadata": {},
   "outputs": [],
   "source": [
    "grid=np.arange(14, 40)"
   ]
  },
  {
   "cell_type": "code",
   "execution_count": 20,
   "metadata": {},
   "outputs": [],
   "source": [
    "dictionary=np.load('/volumes/LaCie/popsimsdata/lodieupaper_distances.npy', allow_pickle=True)\n",
    "dist_dictionary=dictionary.flatten()[0]\n",
    "thin_dist_list= dist_dictionary['thind']\n",
    "thick_dist_list= dist_dictionary['thickd']\n",
    "halo_dist_list= dist_dictionary['halod']\n",
    "discr_ls = dist_dictionary['l']\n",
    "discr_bs = dist_dictionary['b']"
   ]
  },
  {
   "cell_type": "code",
   "execution_count": 21,
   "metadata": {},
   "outputs": [],
   "source": [
    "from popsims import galaxy"
   ]
  },
  {
   "cell_type": "code",
   "execution_count": 22,
   "metadata": {},
   "outputs": [],
   "source": [
    "max_distances={}\n",
    "for g in grid:\n",
    "    pol=galaxy.POLYNOMIALS['absmags']['dwarfs']['VISTA_J']['fit']\n",
    "    max_distances[g]=galaxy.get_distance(pol(g), 19.5)"
   ]
  },
  {
   "cell_type": "code",
   "execution_count": 23,
   "metadata": {},
   "outputs": [
    {
     "data": {
      "text/plain": [
       "{14: 1215.8906815661878,\n",
       " 15: 930.714372748773,\n",
       " 16: 731.0405403202573,\n",
       " 17: 585.028209731382,\n",
       " 18: 474.7558522929653,\n",
       " 19: 389.6280835759065,\n",
       " 20: 323.0464286242746,\n",
       " 21: 270.65917500516787,\n",
       " 22: 229.4203802111747,\n",
       " 23: 197.07930508783699,\n",
       " 24: 171.901003161582,\n",
       " 25: 152.50821876362048,\n",
       " 26: 137.78296532993255,\n",
       " 27: 126.79339899465874,\n",
       " 28: 118.72714053238609,\n",
       " 29: 112.82146904828599,\n",
       " 30: 108.28830155927707,\n",
       " 31: 104.24218790524117,\n",
       " 32: 99.65688430069622,\n",
       " 33: 93.40049055233249,\n",
       " 34: 84.41763782828791,\n",
       " 35: 72.10290378318535,\n",
       " 36: 56.789995896314075,\n",
       " 37: 40.065140131686796,\n",
       " 38: 24.47188107060626,\n",
       " 39: 12.44227132539806}"
      ]
     },
     "execution_count": 23,
     "metadata": {},
     "output_type": "execute_result"
    }
   ],
   "source": [
    "max_distances"
   ]
  },
  {
   "cell_type": "code",
   "execution_count": 24,
   "metadata": {},
   "outputs": [],
   "source": [
    "def resample_distance(df, dmax_dict, population ):\n",
    "    df['d']=np.nan\n",
    "    if population=='thin_disk':\n",
    "        ds=np.array(thin_dist_list)\n",
    "    if population=='thick_disk':\n",
    "        ds=np.array(thick_dist_list)\n",
    "    if population=='halo':\n",
    "        ds=np.array(halo_dist_list)\n",
    "    ds=np.array(ds)\n",
    "    df['spt_r']=np.round(df.spt)\n",
    "    \n",
    "    dx= ds[ds< dmax_dict[float(df.spt_r.iloc[0])] ]\n",
    "    df['d']= np.random.choice(dx, len(df))\n",
    "    return df\n",
    "def sample_distance_properly(df, dmax_dict, population='thin_disk'):\n",
    "    df['spt_r']=np.round(df.spt)\n",
    "    groups=[]\n",
    "    for g in tqdm( df.groupby('spt_r')):\n",
    "        groups.append(resample_distance(g[1], dmax_dict, population))\n",
    "    return pd.concat(groups)\n",
    "\n",
    "def interpolate_sdss(ra, dec):\n",
    "    interpolators=[a.to(u.degree).value, b.to(u.degree).value, np.ones_like(a)]\n",
    "    return interpolated(ra, dec, interpolators )\n",
    "\n",
    "def apply_sdss_selection(df):\n",
    "    entiregalaxy=SkyCoord(l=df.l*u.radian,\\\n",
    "                     b=df.b*u.radian, frame='galactic')\n",
    "    \n",
    "    gridra=Angle(entiregalaxy.icrs.ra.to(u.radian))\n",
    "    gridra.wrap_at('180d', inplace=True)\n",
    "    griddec=Angle(entiregalaxy.icrs.dec.to(u.radian))\n",
    "    griddec.wrap_at('180d', inplace=True)\n",
    "\n",
    "    selectionfunction=interpolate_sdss(gridra.to(u.degree).value, \\\n",
    "                                                  griddec.to(u.degree).value)\n",
    "    df['SDSS_selection']= selectionfunction\n",
    "    df['ra']=gridra\n",
    "    df['dec']=griddec\n",
    "    return df\n",
    "\n",
    "def apply_color_cuts(df):\n",
    "    bools=[]\n",
    "    for k in COLOR_CUTS.keys():\n",
    "        xkey, ykey= k.split('-')\n",
    "        print (xkey, ykey)\n",
    "        if COLOR_CUTS[k][-1]=='greater':\n",
    "            bools.append(df['{}'.format(xkey.upper())]-df['{}'.format(ykey.upper())] >= COLOR_CUTS[k][0])\n",
    "        if COLOR_CUTS[k][-1]=='less':\n",
    "            bools.append(df['{}'.format(xkey.upper())]-df['{}'.format(ykey.upper())] <= COLOR_CUTS[k][0])\n",
    "    return np.logical_and.reduce(bools)\n",
    "    \n",
    "\n",
    "def apply_line_cuts(df):\n",
    "    bools=[]\n",
    "    for k in LINE_CUTS.keys():\n",
    "        cut=LINE_CUTS[k]\n",
    "        xdata=None\n",
    "        ydata=None\n",
    "        \n",
    "        if cut['xtype']=='color':\n",
    "             xdata=df[cut['x'].split('-')[0]]-df[cut['x'].split('-')[1]]\n",
    "        if cut['xtype']=='computed':\n",
    "            xdata=df[cut['x']]\n",
    "            \n",
    "        if cut['ytype']=='color':\n",
    "             ydata=df[cut['y'].split('-')[0]]-df[cut['y'].split('-')[1]]\n",
    "                \n",
    "        if cut['ytype']=='computed':\n",
    "            ydata=df[cut['y']]\n",
    "        \n",
    "        slope= cut['m']\n",
    "        b= cut['b']\n",
    "        \n",
    "        if cut['condition'] =='greater':\n",
    "            bools.append(ydata >= slope*xdata+b)\n",
    "        if cut['condition'] =='less':\n",
    "            bools.append(ydata <= slope*xdata+b)\n",
    "            \n",
    "    return np.logical_and.reduce(bools)"
   ]
  },
  {
   "cell_type": "code",
   "execution_count": 25,
   "metadata": {},
   "outputs": [],
   "source": [
    "mag_keys0=['VISTA_Z', 'VISTA_Y', 'VISTA_J', 'VISTA_H', 'VISTA_KS', 'UKIDSS_Z', \\\n",
    " 'UKIDSS_J', 'UKIDSS_H', 'UKIDSS_K']"
   ]
  },
  {
   "cell_type": "code",
   "execution_count": 26,
   "metadata": {},
   "outputs": [],
   "source": [
    "def apply_all_magnitude_color_cuts(df):\n",
    "    other_bools=[]\n",
    "    for k in PS1_DEPTHS.keys():\n",
    "        other_bools.append((df['PANSTARRS_{}'.format(k)]<PS1_DEPTHS[k]).values)\n",
    "    for k in SDSS_DEPTHS.keys():\n",
    "        other_bools.append((df['SDSS_{}'.format(k)]<SDSS_DEPTHS[k]).values)\n",
    "    for k in VISTA_DEPTHS.keys():\n",
    "        other_bools.append((df['VISTA_{}'.format(k)]<VISTA_DEPTHS[k]).values)\n",
    "    for k in OTHER_CUTS.keys():\n",
    "        other_bools.append((df['{}'.format(k)]< OTHER_CUTS[k]).values)\n",
    "    \n",
    "    tot_bools=np.logical_and.reduce(other_bools)\n",
    "    \n",
    "    \n",
    "    return tot_bools"
   ]
  },
  {
   "cell_type": "code",
   "execution_count": 27,
   "metadata": {},
   "outputs": [],
   "source": [
    "def sample_distance_from_d3(dmax, nsample):\n",
    "    ##random choice from d^3\n",
    "    d=np.linspace(0.1, dmax, 1000)\n",
    "    cdf=(d**3)/np.nanmax(d**3)\n",
    "    return popsims.tools.random_draw(d, cdf, nsample=nsample)"
   ]
  },
  {
   "cell_type": "code",
   "execution_count": 28,
   "metadata": {},
   "outputs": [],
   "source": [
    "k=14\n",
    "nsample=10000\n",
    "halo_dist_list_arr=sample_distance_from_d3(2*max_distances[k], int(1e5))\n",
    "df_halo=galaxy.create_pop(bfraction=0.2,\\\n",
    "                         model='roman2020',\\\n",
    "                             l=discr_ls, b=discr_bs,\\\n",
    "                           absmag_keys=mag_keys0, \\\n",
    "                      nsample=2*nsample,\\\n",
    "        distances= halo_dist_list_arr[halo_dist_list_arr<2*max_distances[k]],\\\n",
    "                         population='halo', poptype='dwarfs')"
   ]
  },
  {
   "cell_type": "code",
   "execution_count": 29,
   "metadata": {},
   "outputs": [
    {
     "data": {
      "text/plain": [
       "<matplotlib.collections.PathCollection at 0x7f7d13e36610>"
      ]
     },
     "execution_count": 29,
     "metadata": {},
     "output_type": "execute_result"
    },
    {
     "data": {
      "image/png": "[encoded data removed]",
      "text/plain": [
       "<Figure size 432x288 with 1 Axes>"
      ]
     },
     "metadata": {
      "needs_background": "light"
     },
     "output_type": "display_data"
    }
   ],
   "source": [
    "fig, ax=plt.subplots()\n",
    "ax.scatter(df_halo.mass, df_halo.age,  c=df_halo.temperature, cmap='cividis', s=10)"
   ]
  },
  {
   "cell_type": "code",
   "execution_count": 30,
   "metadata": {},
   "outputs": [
    {
     "data": {
      "text/plain": [
       "Index(['VISTA_Z', 'abs_VISTA_Z', 'VISTA_Y', 'abs_VISTA_Y', 'VISTA_J',\n",
       "       'abs_VISTA_J', 'VISTA_H', 'abs_VISTA_H', 'VISTA_KS', 'abs_VISTA_KS',\n",
       "       'UKIDSS_Z', 'abs_UKIDSS_Z', 'UKIDSS_J', 'abs_UKIDSS_J', 'UKIDSS_H',\n",
       "       'abs_UKIDSS_H', 'UKIDSS_K', 'abs_UKIDSS_K', 'mass', 'age',\n",
       "       'temperature', 'luminosity', 'is_binary', 'spt', 'prim_spt', 'sec_spt',\n",
       "       'pri_mass', 'sec_mass', 'prim_luminosity', 'sec_luminosity', 'scale',\n",
       "       'scale_unc', 'scale_times_model', 'd', 'l', 'b', 'r', 'z', 'Vr', 'Vphi',\n",
       "       'Vz'],\n",
       "      dtype='object')"
      ]
     },
     "execution_count": 30,
     "metadata": {},
     "output_type": "execute_result"
    }
   ],
   "source": [
    "df_halo.columns"
   ]
  },
  {
   "cell_type": "code",
   "execution_count": 31,
   "metadata": {},
   "outputs": [],
   "source": [
    "#redra ibjects from halo thin or thick based on the max dista\n",
    "def resample_by_max_distance(nsample=1e4):\n",
    "    df_list=[]\n",
    "    for k in max_distances.keys():\n",
    "        if max_distances[k] >200:\n",
    "            #make distance array array\n",
    "            thin_dist_list_arr=np.array(thin_dist_list)\n",
    "            thick_dist_list_arr=np.array(thick_dist_list)\n",
    "            halo_dist_list_arr=np.array(halo_dist_list)\n",
    "        else:\n",
    "            thin_dist_list_arr=sample_distance_from_d3(2*max_distances[k], int(1e5))\n",
    "            thick_dist_list_arr=sample_distance_from_d3(2*max_distances[k], int(1e5))\n",
    "            halo_dist_list_arr=sample_distance_from_d3(2*max_distances[k], int(1e5))\n",
    "        \n",
    "        \n",
    "        #use metal-rich models but absolute mag relations for metal poor\n",
    "        df_thin=galaxy.create_pop(bfraction=0.2,\\\n",
    "                         model='burrows1997',\\\n",
    "                             l=discr_ls, b=discr_bs,\\\n",
    "                           absmag_keys=mag_keys0, \\\n",
    "                      nsample=2*nsample, \\\n",
    "            distances= thin_dist_list_arr[thin_dist_list_arr<2*max_distances[k]],\\\n",
    "                  poptype='dwarfs')\n",
    "        \n",
    "        df_thick=galaxy.create_pop(bfraction=0.2,\\\n",
    "                          model='burrows2001',\\\n",
    "                             l=discr_ls, b=discr_bs,\\\n",
    "                           absmag_keys=mag_keys0, \\\n",
    "                      nsample=2*nsample, \\\n",
    "        distances= thick_dist_list_arr[thick_dist_list_arr<2*max_distances[k]],\\\n",
    "                         population='thick_disk', poptype='dwarfs')\n",
    "        \n",
    "        df_halo=galaxy.create_pop(bfraction=0.2,\\\n",
    "                         model='roman2020',\\\n",
    "                             l=discr_ls, b=discr_bs,\\\n",
    "                           absmag_keys=mag_keys0, \\\n",
    "                      nsample=2*nsample,\\\n",
    "        distances= halo_dist_list_arr[halo_dist_list_arr<2*max_distances[k]],\\\n",
    "                         population='halo', poptype='dwarfs')\n",
    "        \n",
    "        df_thin['population']='thin_disk'\n",
    "        df_thick['population']='thick_disk' \n",
    "        df_halo['population']='halo'\n",
    "        \n",
    "        #make magnitudes and distance cuts righ aay\n",
    "        thin_bool=np.logical_and.reduce([df_thin.spt>=k, df_thin.spt<k+1, \\\n",
    "                                         df_thin.d <2*max_distances[k]])\n",
    "                                        #apply_all_magnitude_color_cuts(df_thin)])\n",
    "        \n",
    "        thick_bool=np.logical_and.reduce([df_thick.spt>=k, df_thick.spt<k+1, \\\n",
    "                                         df_thick.d <2*max_distances[k]])\n",
    "                                         # apply_all_magnitude_color_cuts(df_thick)])\n",
    "        \n",
    "        halo_bool=np.logical_and.reduce([df_halo.spt>=k, df_halo.spt<k+1, \\\n",
    "                                         df_halo.d <2*max_distances[k]])\n",
    "                                       #  apply_all_magnitude_color_cuts(df_halo)])\n",
    "        \n",
    "        print ('thin for spt {} {}'.format(k, len(df_thin.loc[thin_bool])))\n",
    "        print ('thick for spt {} {}'.format(k, len(df_thick.loc[thick_bool])))\n",
    "        print ('halo for spt {} {}'.format(k, len(df_halo.loc[halo_bool])))\n",
    "        df_thin_small_df=(df_thin.loc[thin_bool]).reset_index(drop=True)\n",
    "        df_thick_small_df=(df_thick.loc[thick_bool]).reset_index(drop=True)\n",
    "        df_halo_small_df=(df_halo.loc[halo_bool]).reset_index(drop=True)\n",
    "    \n",
    "        #if no thick disk candidates\n",
    "        if len(df_thin_small_df) >1:\n",
    "            df_list.append( df_thin_small_df.sample(n=int(nsample), replace=True))\n",
    "        \n",
    "        if len(df_thick_small_df) >1:\n",
    "            df_list.append( df_thick_small_df.sample(n=int(nsample), replace=True))\n",
    "        \n",
    "        if len(df_halo_small_df) >1:\n",
    "            df_list.append( df_halo_small_df.sample(n=int(nsample), replace=True))\n",
    "        \n",
    "            #\n",
    "        #df_list.append(pd.concat([\n",
    "        #     df_thick_small_df.sample(n=int(10*nsample), replace=True), \\\n",
    "        #      df_halo_small_df.sample(n=int(10*nsample), replace=True)]).reset_index(drop=True))\n",
    "        \n",
    "        del df_thin_small_df\n",
    "        del df_thick_small_df\n",
    "        del df_halo_small_df\n",
    "        \n",
    "    df0=pd.concat(df_list).reset_index(drop=True)\n",
    "    #us relations from Rocio for SDSSS\n",
    "    df=galaxy.pop_mags_from_type(df0.spt.values, d=df0.d.values, \\\n",
    "                keys=['SDSS_R', 'SDSS_I', 'SDSS_Z'], reference='kiman2019').join(df0, rsuffix='_rocio').reset_index(drop=True)\n",
    "    \n",
    "    #add best relations\n",
    "    df= galaxy.pop_mags_from_type(df.spt.values, d=df.d.values, \\\n",
    "                keys=['PANSTARRS_R', 'PANSTARRS_I', 'PANSTARRS_Z', \\\n",
    "                      'PANSTARRS_Y'], reference='best2012').join(df).reset_index(drop=True)\n",
    "    \n",
    "    #df=df.drop(['abs_SDSS_R', 'abs_SDSS_I', 'abs_SDSS_Z', 'SDSS_R', 'SDSS_I', 'SDSS_Z'], axis=1).rename(columns={'SDSS_R_rocio': 'SDSS_R',\\\n",
    "    #           'abs_SDSS_R_rocio': 'abs_SDSS_R',\\\n",
    "    #           'SDSS_I_rocio': 'SDSS_I',\\\n",
    "    #           'abs_SDSS_I_rocio': 'abs_SDSS_I',\\\n",
    "    #           'SDSS_Z_rocio': 'SDSS_Z',\\\n",
    "    #           'abs_SDSS_Z_rocio': 'abs_SDSS_Z'}).reset_index(drop=True)\n",
    "    \n",
    "    #use default stuff for 2MASS \n",
    "    df['abs_2MASS_J']=spe.typeToMag(df.spt.values, '2MASS J')[0]\n",
    "    df['abs_2MASS_H']=spe.typeToMag(df.spt.values, '2MASS H')[0]\n",
    "    df['abs_2MASS_K']=spe.typeToMag(df.spt.values, '2MASS K')[0]\n",
    "    df['2MASS_J']=df.abs_2MASS_J+5*np.log10(df.d/10.0)\n",
    "    df['2MASS_H']=df.abs_2MASS_H+5*np.log10(df.d/10.0)\n",
    "    df['2MASS_K']=df.abs_2MASS_K+5*np.log10(df.d/10.0)\n",
    "\n",
    "    #Add\n",
    "    sd_bool=(df.population != 'thin_disk').values\n",
    "    for k in ['SDSS_Z', 'SDSS_R', 'SDSS_Z', '2MASS_J', '2MASS_H', '2MASS_KS']:\n",
    "\n",
    "        df.loc[sd_bool, 'abs_{}'.format(k)]= (spe.typeToMag(df.spt.values[sd_bool], \\\n",
    "                                              k,  reference='zhang2013')[0])\n",
    "        df.loc[sd_bool, k]=df.loc[sd_bool, 'abs_{}'.format(k)]+5*np.log10(df.d.loc[sd_bool]/10.0)\n",
    "    \n",
    "    df['spt_r']=df.spt.apply(np.round)\n",
    "    color_bools=apply_color_cuts(df)\n",
    "    other_bools=[]\n",
    "    for k in OTHER_CUTS.keys():\n",
    "        other_bools.append((df[k]<OTHER_CUTS[k]).values)\n",
    "    tot_bools=np.logical_and.reduce(other_bools)\n",
    "    tot_bools=np.logical_and(color_bools, tot_bools)\n",
    "    dfn=(df.loc[tot_bools]).reset_index(drop=True)\n",
    "    return df\n",
    "\n"
   ]
  },
  {
   "cell_type": "code",
   "execution_count": 32,
   "metadata": {},
   "outputs": [
    {
     "name": "stdout",
     "output_type": "stream",
     "text": [
      "thin for spt 14 11095\n",
      "thick for spt 14 4363\n",
      "halo for spt 14 3358\n",
      "thin for spt 15 7948\n",
      "thick for spt 15 3022\n",
      "halo for spt 15 2534\n",
      "thin for spt 16 5211\n",
      "thick for spt 16 1624\n",
      "halo for spt 16 1950\n",
      "thin for spt 17 2233\n",
      "thick for spt 17 593\n",
      "halo for spt 17 896\n",
      "thin for spt 18 1150\n",
      "thick for spt 18 344\n",
      "halo for spt 18 517\n",
      "thin for spt 19 1164\n",
      "thick for spt 19 502\n",
      "halo for spt 19 519\n",
      "thin for spt 20 1134\n",
      "thick for spt 20 489\n",
      "halo for spt 20 331\n",
      "thin for spt 21 962\n",
      "thick for spt 21 344\n",
      "halo for spt 21 232\n",
      "thin for spt 22 898\n",
      "thick for spt 22 183\n",
      "halo for spt 22 241\n",
      "thin for spt 23 1009\n",
      "thick for spt 23 215\n",
      "halo for spt 23 215\n",
      "thin for spt 24 1299\n",
      "thick for spt 24 199\n",
      "halo for spt 24 220\n",
      "thin for spt 25 1227\n",
      "thick for spt 25 170\n",
      "halo for spt 25 257\n",
      "thin for spt 26 1197\n",
      "thick for spt 26 159\n",
      "halo for spt 26 203\n",
      "thin for spt 27 1059\n",
      "thick for spt 27 142\n",
      "halo for spt 27 180\n",
      "thin for spt 28 969\n",
      "thick for spt 28 137\n",
      "halo for spt 28 200\n",
      "thin for spt 29 1335\n",
      "thick for spt 29 171\n",
      "halo for spt 29 289\n",
      "thin for spt 30 1267\n",
      "thick for spt 30 184\n",
      "halo for spt 30 311\n",
      "thin for spt 31 1349\n",
      "thick for spt 31 182\n",
      "halo for spt 31 338\n",
      "thin for spt 32 1407\n",
      "thick for spt 32 203\n",
      "halo for spt 32 479\n",
      "thin for spt 33 1483\n",
      "thick for spt 33 239\n",
      "halo for spt 33 683\n",
      "thin for spt 34 1589\n",
      "thick for spt 34 237\n",
      "halo for spt 34 1087\n",
      "thin for spt 35 3111\n",
      "thick for spt 35 738\n",
      "halo for spt 35 2261\n",
      "thin for spt 36 6294\n",
      "thick for spt 36 2023\n",
      "halo for spt 36 506\n",
      "thin for spt 37 7214\n",
      "thick for spt 37 3414\n",
      "halo for spt 37 6\n",
      "thin for spt 38 7116\n",
      "thick for spt 38 3320\n",
      "halo for spt 38 0\n",
      "thin for spt 39 8095\n",
      "thick for spt 39 3896\n",
      "halo for spt 39 0\n",
      "SDSS_R SDSS_I\n",
      "SDSS_I SDSS_Z\n",
      "SDSS_R SDSS_Z\n",
      "SDSS_I VISTA_J\n",
      "SDSS_Z VISTA_J\n",
      "VISTA_J VISTA_KS\n"
     ]
    }
   ],
   "source": [
    "dfn=resample_by_max_distance(nsample=5e4)"
   ]
  },
  {
   "cell_type": "code",
   "execution_count": 33,
   "metadata": {},
   "outputs": [],
   "source": [
    "#len(dfn[apply_color_cuts(dfn)])"
   ]
  },
  {
   "cell_type": "code",
   "execution_count": 34,
   "metadata": {},
   "outputs": [
    {
     "data": {
      "text/plain": [
       "Index(['PANSTARRS_R', 'abs_PANSTARRS_R', 'PANSTARRS_I', 'abs_PANSTARRS_I',\n",
       "       'PANSTARRS_Z', 'abs_PANSTARRS_Z', 'PANSTARRS_Y', 'abs_PANSTARRS_Y',\n",
       "       'SDSS_R', 'abs_SDSS_R', 'SDSS_I', 'abs_SDSS_I', 'SDSS_Z', 'abs_SDSS_Z',\n",
       "       'VISTA_Z', 'abs_VISTA_Z', 'VISTA_Y', 'abs_VISTA_Y', 'VISTA_J',\n",
       "       'abs_VISTA_J', 'VISTA_H', 'abs_VISTA_H', 'VISTA_KS', 'abs_VISTA_KS',\n",
       "       'UKIDSS_Z', 'abs_UKIDSS_Z', 'UKIDSS_J', 'abs_UKIDSS_J', 'UKIDSS_H',\n",
       "       'abs_UKIDSS_H', 'UKIDSS_K', 'abs_UKIDSS_K', 'mass', 'age',\n",
       "       'temperature', 'luminosity', 'is_binary', 'spt', 'prim_spt', 'sec_spt',\n",
       "       'pri_mass', 'sec_mass', 'prim_luminosity', 'sec_luminosity', 'scale',\n",
       "       'scale_unc', 'scale_times_model', 'd', 'l', 'b', 'r', 'z', 'U', 'V',\n",
       "       'W', 'population', 'Vr', 'Vphi', 'Vz', 'abs_2MASS_J', 'abs_2MASS_H',\n",
       "       'abs_2MASS_K', '2MASS_J', '2MASS_H', '2MASS_K', 'abs_2MASS_KS',\n",
       "       '2MASS_KS', 'spt_r'],\n",
       "      dtype='object')"
      ]
     },
     "execution_count": 34,
     "metadata": {},
     "output_type": "execute_result"
    }
   ],
   "source": [
    "dfn.columns\n"
   ]
  },
  {
   "cell_type": "code",
   "execution_count": 35,
   "metadata": {},
   "outputs": [],
   "source": [
    "#dfn=dfn.sample(n=int(1e5), replace=True )\n",
    "#dfn=df.sample(n= int(1e4), replace=True )"
   ]
  },
  {
   "cell_type": "code",
   "execution_count": 36,
   "metadata": {},
   "outputs": [
    {
     "data": {
      "text/plain": [
       "[Text(0.5, 0, 'Distance')]"
      ]
     },
     "execution_count": 36,
     "metadata": {},
     "output_type": "execute_result"
    },
    {
     "data": {
      "image/png": "[encoded data removed]",
      "text/plain": [
       "<Figure size 432x288 with 1 Axes>"
      ]
     },
     "metadata": {
      "needs_background": "light"
     },
     "output_type": "display_data"
    }
   ],
   "source": [
    "fig, ax=plt.subplots()\n",
    "h=plt.hist(dfn.d, bins='auto', log=True)\n",
    "ax.set(xlabel='Distance')"
   ]
  },
  {
   "cell_type": "code",
   "execution_count": 37,
   "metadata": {},
   "outputs": [
    {
     "name": "stdout",
     "output_type": "stream",
     "text": [
      "14.0 95406\n",
      "15.0 83786\n",
      "16.0 235528\n",
      "17.0 98350\n",
      "18.0 182574\n",
      "19.0 135793\n",
      "20.0 144151\n",
      "21.0 161370\n",
      "22.0 139953\n",
      "23.0 147756\n",
      "24.0 148304\n",
      "25.0 153047\n",
      "26.0 146964\n",
      "27.0 160238\n",
      "28.0 133621\n",
      "29.0 147755\n",
      "30.0 168742\n",
      "31.0 128253\n",
      "32.0 160344\n",
      "33.0 148732\n",
      "34.0 146270\n",
      "35.0 140184\n",
      "36.0 177422\n",
      "37.0 147823\n",
      "38.0 118562\n",
      "39.0 94734\n",
      "40.0 54338\n"
     ]
    }
   ],
   "source": [
    "for g in dfn.groupby('spt_r'):\n",
    "    print (g[0], len(g[1]))"
   ]
  },
  {
   "cell_type": "code",
   "execution_count": 38,
   "metadata": {},
   "outputs": [],
   "source": [
    "halo_bool=(dfn.population !='thin_disk').values"
   ]
  },
  {
   "cell_type": "code",
   "execution_count": 39,
   "metadata": {},
   "outputs": [],
   "source": [
    "dfn_coord=SkyCoord(l=dfn.l.values*u.degree, b=dfn.b.values*u.degree, frame='galactic')"
   ]
  },
  {
   "cell_type": "code",
   "execution_count": 40,
   "metadata": {},
   "outputs": [],
   "source": [
    "dfn['ra']=None\n",
    "dfn['dec']=None\n",
    "dfn['ra']=dfn_coord.icrs.ra.to(u.degree).value\n",
    "dfn['dec']=dfn_coord.icrs.dec.to(u.degree).value"
   ]
  },
  {
   "cell_type": "code",
   "execution_count": 41,
   "metadata": {},
   "outputs": [
    {
     "name": "stderr",
     "output_type": "stream",
     "text": [
      "100%|██████████████████████████████| 3800000/3800000 [2:02:01<00:00, 519.00it/s]\n"
     ]
    }
   ],
   "source": [
    "tqdm.pandas()\n",
    "motion_df=dfn[['ra', 'dec', 'd', 'U', 'V', \\\n",
    "       'W' ]].progress_apply(lambda x: galaxy.get_proper_motion(*x), axis=1).reset_index(drop=True)"
   ]
  },
  {
   "cell_type": "code",
   "execution_count": 42,
   "metadata": {},
   "outputs": [
    {
     "data": {
      "text/plain": [
       "Index(['PANSTARRS_R', 'abs_PANSTARRS_R', 'PANSTARRS_I', 'abs_PANSTARRS_I',\n",
       "       'PANSTARRS_Z', 'abs_PANSTARRS_Z', 'PANSTARRS_Y', 'abs_PANSTARRS_Y',\n",
       "       'SDSS_R', 'abs_SDSS_R', 'SDSS_I', 'abs_SDSS_I', 'SDSS_Z', 'abs_SDSS_Z',\n",
       "       'VISTA_Z', 'abs_VISTA_Z', 'VISTA_Y', 'abs_VISTA_Y', 'VISTA_J',\n",
       "       'abs_VISTA_J', 'VISTA_H', 'abs_VISTA_H', 'VISTA_KS', 'abs_VISTA_KS',\n",
       "       'UKIDSS_Z', 'abs_UKIDSS_Z', 'UKIDSS_J', 'abs_UKIDSS_J', 'UKIDSS_H',\n",
       "       'abs_UKIDSS_H', 'UKIDSS_K', 'abs_UKIDSS_K', 'mass', 'age',\n",
       "       'temperature', 'luminosity', 'is_binary', 'spt', 'prim_spt', 'sec_spt',\n",
       "       'pri_mass', 'sec_mass', 'prim_luminosity', 'sec_luminosity', 'scale',\n",
       "       'scale_unc', 'scale_times_model', 'd', 'l', 'b', 'r', 'z', 'U', 'V',\n",
       "       'W', 'population', 'Vr', 'Vphi', 'Vz', 'abs_2MASS_J', 'abs_2MASS_H',\n",
       "       'abs_2MASS_K', '2MASS_J', '2MASS_H', '2MASS_K', 'abs_2MASS_KS',\n",
       "       '2MASS_KS', 'spt_r', 'ra', 'dec'],\n",
       "      dtype='object')"
      ]
     },
     "execution_count": 42,
     "metadata": {},
     "output_type": "execute_result"
    }
   ],
   "source": [
    "dfn.columns"
   ]
  },
  {
   "cell_type": "code",
   "execution_count": 43,
   "metadata": {},
   "outputs": [],
   "source": [
    "motion_halo=pd.DataFrame( galaxy.get_proper_motion_cylindrical(dfn.ra.values, \\\n",
    "                             dfn.dec.values,\n",
    "                            (dfn.d.values)/1000,\n",
    "                             dfn.Vr.values,\n",
    "                            (dfn.Vphi.values)/(dfn.d.values+8300.*u.pc.to(u.km)),\n",
    "                            dfn.Vz.values))"
   ]
  },
  {
   "cell_type": "code",
   "execution_count": 44,
   "metadata": {},
   "outputs": [],
   "source": [
    "#assert len(dfj)==len(dfn)"
   ]
  },
  {
   "cell_type": "code",
   "execution_count": 45,
   "metadata": {},
   "outputs": [],
   "source": [
    "dfn=dfn.reset_index(drop=True)"
   ]
  },
  {
   "cell_type": "code",
   "execution_count": 46,
   "metadata": {},
   "outputs": [],
   "source": [
    "dfj=dfn.join(motion_df).reset_index(drop=True)"
   ]
  },
  {
   "cell_type": "code",
   "execution_count": 47,
   "metadata": {},
   "outputs": [],
   "source": [
    "halo_bool=dfj.population=='halo'"
   ]
  },
  {
   "cell_type": "code",
   "execution_count": 48,
   "metadata": {},
   "outputs": [],
   "source": [
    "#computer proper motions for halo star\n",
    "dfj.loc[halo_bool, 'RV'] = motion_halo[halo_bool]['RV'].values\n",
    "dfj.loc[halo_bool, 'mu_alpha'] = motion_halo[halo_bool]['mu_alpha'].values\n",
    "dfj.loc[halo_bool, 'mu_delta']= motion_halo[halo_bool]['mu_delta'].values"
   ]
  },
  {
   "cell_type": "code",
   "execution_count": 49,
   "metadata": {},
   "outputs": [
    {
     "data": {
      "image/png": "[encoded data removed]",
      "text/plain": [
       "<Figure size 432x288 with 1 Axes>"
      ]
     },
     "metadata": {
      "needs_background": "light"
     },
     "output_type": "display_data"
    }
   ],
   "source": [
    "fig, ax=plt.subplots()\n",
    "for k in PS1_DEPTHS.keys():\n",
    "    h=plt.hist(dfj['PANSTARRS_{}'.format(k)], bins='auto', histtype='step',\\\n",
    "               lw=2, log=True, linestyle='--')\n",
    "    h=plt.hist(dfn['PANSTARRS_{}'.format(k)].values, bins='auto',\\\n",
    "               histtype='step', lw=2, log=True)"
   ]
  },
  {
   "cell_type": "code",
   "execution_count": 50,
   "metadata": {},
   "outputs": [
    {
     "data": {
      "text/plain": [
       "Index(['PANSTARRS_R', 'abs_PANSTARRS_R', 'PANSTARRS_I', 'abs_PANSTARRS_I',\n",
       "       'PANSTARRS_Z', 'abs_PANSTARRS_Z', 'PANSTARRS_Y', 'abs_PANSTARRS_Y',\n",
       "       'SDSS_R', 'abs_SDSS_R', 'SDSS_I', 'abs_SDSS_I', 'SDSS_Z', 'abs_SDSS_Z',\n",
       "       'VISTA_Z', 'abs_VISTA_Z', 'VISTA_Y', 'abs_VISTA_Y', 'VISTA_J',\n",
       "       'abs_VISTA_J', 'VISTA_H', 'abs_VISTA_H', 'VISTA_KS', 'abs_VISTA_KS',\n",
       "       'UKIDSS_Z', 'abs_UKIDSS_Z', 'UKIDSS_J', 'abs_UKIDSS_J', 'UKIDSS_H',\n",
       "       'abs_UKIDSS_H', 'UKIDSS_K', 'abs_UKIDSS_K', 'mass', 'age',\n",
       "       'temperature', 'luminosity', 'is_binary', 'spt', 'prim_spt', 'sec_spt',\n",
       "       'pri_mass', 'sec_mass', 'prim_luminosity', 'sec_luminosity', 'scale',\n",
       "       'scale_unc', 'scale_times_model', 'd', 'l', 'b', 'r', 'z', 'U', 'V',\n",
       "       'W', 'population', 'Vr', 'Vphi', 'Vz', 'abs_2MASS_J', 'abs_2MASS_H',\n",
       "       'abs_2MASS_K', '2MASS_J', '2MASS_H', '2MASS_K', 'abs_2MASS_KS',\n",
       "       '2MASS_KS', 'spt_r', 'ra', 'dec', 'RV', 'mu_alpha', 'mu_delta', 'Vtan'],\n",
       "      dtype='object')"
      ]
     },
     "execution_count": 50,
     "metadata": {},
     "output_type": "execute_result"
    }
   ],
   "source": [
    "dfj.columns"
   ]
  },
  {
   "cell_type": "code",
   "execution_count": 51,
   "metadata": {},
   "outputs": [],
   "source": [
    "for k in [ '2MASS_J', '2MASS_H', 'VISTA_J', 'VISTA_H']:\n",
    "    dfj['redH_{}'.format(k)]=dfj['abs_{}'.format(k)]+\\\n",
    "     5*np.log10((dfj.mu_alpha**2+ dfj.mu_delta**2)**0.5)+5"
   ]
  },
  {
   "cell_type": "code",
   "execution_count": 52,
   "metadata": {},
   "outputs": [
    {
     "data": {
      "text/plain": [
       "[Text(0.5, 0, 'Reduced Proper Motion')]"
      ]
     },
     "execution_count": 52,
     "metadata": {},
     "output_type": "execute_result"
    },
    {
     "name": "stderr",
     "output_type": "stream",
     "text": [
      "findfont: Font family ['serif'] not found. Falling back to DejaVu Sans.\n",
      "findfont: Generic family 'serif' not found because none of the following families were found: \n"
     ]
    },
    {
     "data": {
      "image/png": "[encoded data removed]",
      "text/plain": [
       "<Figure size 432x288 with 1 Axes>"
      ]
     },
     "metadata": {
      "needs_background": "light"
     },
     "output_type": "display_data"
    }
   ],
   "source": [
    "fig, ax=plt.subplots()\n",
    "for k in [ '2MASS_J', '2MASS_H', 'VISTA_J', 'VISTA_H']:\n",
    "    vals=dfj['redH_{}'.format(k)].values\n",
    "    h=plt.hist(popsims.dropnans(vals),\\\n",
    "               bins='auto', histtype='step', lw=2, \n",
    "               log=True, label=k, range=[0, 30])\n",
    "plt.legend(fontsize=14)\n",
    "ax.set(xlabel='Reduced Proper Motion')"
   ]
  },
  {
   "cell_type": "code",
   "execution_count": 53,
   "metadata": {},
   "outputs": [
    {
     "name": "stdout",
     "output_type": "stream",
     "text": [
      "SDSS_R SDSS_I\n",
      "SDSS_I SDSS_Z\n",
      "SDSS_R SDSS_Z\n",
      "SDSS_I VISTA_J\n",
      "SDSS_Z VISTA_J\n",
      "VISTA_J VISTA_KS\n"
     ]
    }
   ],
   "source": [
    "dfj=(dfj[apply_line_cuts(dfj) &  apply_color_cuts(dfj) & apply_all_magnitude_color_cuts(dfj) ]).reset_index(drop=True)"
   ]
  },
  {
   "cell_type": "code",
   "execution_count": 54,
   "metadata": {},
   "outputs": [
    {
     "data": {
      "text/plain": [
       "14944"
      ]
     },
     "execution_count": 54,
     "metadata": {},
     "output_type": "execute_result"
    }
   ],
   "source": [
    "len(dfj)"
   ]
  },
  {
   "cell_type": "code",
   "execution_count": 55,
   "metadata": {},
   "outputs": [
    {
     "data": {
      "text/plain": [
       "[None,\n",
       " None,\n",
       " Text(0.5, 0, 'Proper motion (mas/yr)'),\n",
       " Text(0, 0.5, 'Distance (pc)')]"
      ]
     },
     "execution_count": 55,
     "metadata": {},
     "output_type": "execute_result"
    },
    {
     "data": {
      "image/png": "[encoded data removed]",
      "text/plain": [
       "<Figure size 432x288 with 1 Axes>"
      ]
     },
     "metadata": {
      "needs_background": "light"
     },
     "output_type": "display_data"
    }
   ],
   "source": [
    "fig, ax=plt.subplots()\n",
    "\n",
    "bools0=dfj.population=='thin_disk'\n",
    "bools1=dfj.population=='thick_disk'\n",
    "bools2=dfj.population=='halo'\n",
    "\n",
    "\n",
    "h=ax.scatter(((dfj.mu_alpha**2+ dfj.mu_delta**2)**0.5)[bools0], dfj.d[bools0],  s=.1, alpha=0.5)\n",
    "h=ax.scatter(((dfj.mu_alpha**2+ dfj.mu_delta**2)**0.5)[bools1], dfj.d[bools1],  s=.1, alpha=0.1)\n",
    "h=ax.scatter(((dfj.mu_alpha**2+ dfj.mu_delta**2)**0.5)[bools2], dfj.d[bools2],  s=.1, alpha=1)\n",
    "\n",
    "ax.set(xscale='log', yscale='log', xlabel='Proper motion (mas/yr)', \\\n",
    "       ylabel='Distance (pc)', )"
   ]
  },
  {
   "cell_type": "code",
   "execution_count": 56,
   "metadata": {},
   "outputs": [
    {
     "data": {
      "text/plain": [
       "14944"
      ]
     },
     "execution_count": 56,
     "metadata": {},
     "output_type": "execute_result"
    }
   ],
   "source": [
    "len(dfj)"
   ]
  },
  {
   "cell_type": "code",
   "execution_count": 57,
   "metadata": {},
   "outputs": [
    {
     "name": "stderr",
     "output_type": "stream",
     "text": [
      "findfont: Font family ['serif'] not found. Falling back to DejaVu Sans.\n",
      "findfont: Generic family 'serif' not found because none of the following families were found: \n"
     ]
    },
    {
     "data": {
      "image/png": "[encoded data removed]",
      "text/plain": [
       "<Figure size 720x288 with 2 Axes>"
      ]
     },
     "metadata": {
      "needs_background": "light"
     },
     "output_type": "display_data"
    }
   ],
   "source": [
    "### color-color plots\n",
    "fig, ax=plt.subplots(figsize=(10, 4), ncols=2)\n",
    "\n",
    "\n",
    "ax[0].scatter((dfj.SDSS_I[dfj.population=='thick_disk']-\\\n",
    "                dfj['VISTA_J'][dfj.population=='thick_disk']), \\\n",
    "           dfj['redH_{}'.format('VISTA_J')][dfj.population=='thick_disk'], s=5, \\\n",
    "           label='thick disk', marker='*')\n",
    "\n",
    "ax[0].scatter((dfj.SDSS_I[dfj.population=='halo']-\\\n",
    "            dfj['VISTA_J'].loc[dfj.population=='halo']), \\\n",
    "           dfj['redH_{}'.format('VISTA_J')].loc[dfj.population=='halo'], \\\n",
    "           s=5, label='halo stars', color='r',\n",
    "              marker='D')\n",
    "\n",
    "ax[0].scatter((dfl_conct.SDSSi-dfl_conct.Jmag_VHS).values, \\\n",
    "                dfl_conct.Hj, s=5, c='k', label='Crossmatches')\n",
    "\n",
    "\n",
    "\n",
    "ax[1].scatter((dfj.SDSS_Z[dfj.population=='thick_disk']-\\\n",
    "                dfj.VISTA_J[dfj.population=='thick_disk']), \n",
    "          (dfj.VISTA_J[dfj.population=='thick_disk']-\\\n",
    "                dfj.VISTA_KS[dfj.population=='thick_disk']),\n",
    "           label='thick disk', s=5)\n",
    "\n",
    "ax[1].scatter((dfj.SDSS_Z[dfj.population=='halo']-\\\n",
    "                dfj.VISTA_J[dfj.population=='halo']), \n",
    "          (dfj.VISTA_J[dfj.population=='halo']-\\\n",
    "                dfj.VISTA_KS[dfj.population=='halo']),\n",
    "           s=5, label='halo stars', color='r',\n",
    "              marker='D')\n",
    "\n",
    "ax[1].scatter((dfl_conct.SDSSz-dfl_conct.Jmag_VHS).values, \\\n",
    "              (dfl_conct.Jmag_VHS-dfl_conct.Kmag_VHS).values, s=5, c='k', label='Crossmatches')\n",
    "\n",
    "\n",
    "\n",
    "#ax[-1].scatter((dfj.SDSS_I[dfj.population=='thick_disk']-\\\n",
    "#                dfj.SDSS_Z[dfj.population=='thick_disk']), \n",
    "#          (dfj['VISTA_J'][dfj.population=='thick_disk']-\\\n",
    "#                dfj['VISTA_KS'][dfj.population=='thick_disk']),\n",
    "#           label='thick disk', s=.5)\n",
    "#ax[-1].scatter((dfj.SDSS_I[dfj.population=='halo']-\\\n",
    "#                dfj.SDSS_Z[dfj.population=='halo']), \n",
    "#          (dfj['VISTA_J'][dfj.population=='halo']-\\\n",
    "#                dfj['VISTA_KS'][dfj.population=='halo']),\n",
    "#           s=.5, label='halo stars', color='r',\n",
    "#              marker='D')\n",
    "#ax[-1].scatter((dfl_conct.SDSSi-dfl_conct.SDSSz).values, \\\n",
    "#              (dfl_conct.Jmag_VHS-dfl_conct.Kmag_VHS).values, s=0.5, c='k', \\\n",
    "#               label='Crossmatches')\n",
    "\n",
    "ax[0].set(xlabel='i-J',ylabel=r'H$_J$', xlim=[1., 5], ylim=[24, 16])\n",
    "#ax[0].axvline(1.9, color='k', linestyle='--')\n",
    "ax[1].set(xlabel='z-J', ylabel='J-K', xlim=[1, 4], ylim=[0.0, 1.2])\n",
    "#ax[-1].set(xlabel='i-z', ylabel='J-K', xlim=[0, 3], ylim=[-1, 1.2])\n",
    "\n",
    "ax[0].legend(fontsize=12, loc='upper left')\n",
    "plt.tight_layout()\n",
    "plt.savefig('../figures/plot_simulatedcolors_sdss_vhs.pdf')"
   ]
  },
  {
   "cell_type": "code",
   "execution_count": 58,
   "metadata": {},
   "outputs": [],
   "source": [
    "#GV"
   ]
  },
  {
   "cell_type": "code",
   "execution_count": 59,
   "metadata": {},
   "outputs": [],
   "source": [
    "dfj['selection_function']=1."
   ]
  },
  {
   "cell_type": "code",
   "execution_count": 60,
   "metadata": {},
   "outputs": [
    {
     "data": {
      "text/plain": [
       "14944"
      ]
     },
     "execution_count": 60,
     "metadata": {},
     "output_type": "execute_result"
    }
   ],
   "source": [
    "len(dfj)"
   ]
  },
  {
   "cell_type": "code",
   "execution_count": 61,
   "metadata": {},
   "outputs": [],
   "source": [
    "def get_ncounts(binby='spt', grid=np.arange(15, 40),\n",
    "               population='thin_disk', df=None):\n",
    "    \n",
    "    df=(df[df.population==population]).reset_index(drop=True)\n",
    "    scale=[df.scale.mean(), df.scale_unc.mean(),df.scale_times_model.mean()]\n",
    "    NSIM=dict(zip(grid, np.zeros((len(grid), 2))))\n",
    "    \n",
    "    df['r_{}'.format(binby)]=df[binby].apply(np.round)\n",
    "    df=df[df['r_{}'.format(binby)].isin(grid)].reset_index(drop=True)\n",
    "\n",
    "    for g in tqdm(df.groupby('r_{}'.format(binby))):\n",
    "        \n",
    "        sn= len(df[np.logical_and(df.temperature>=450, df.temperature<=2100)])\n",
    "        n0=scale[-1]/scale[0]\n",
    "        #print (n0)\n",
    "        scln=np.array([scale[0]*n0/sn,\\\n",
    "                       (scale[1]*scale[-1])/(sn*scale[0])])\n",
    "        \n",
    "        #if sd:\n",
    "        #    b0=np.logical_and(df.temperature>=450, df.temperature<=2100)\n",
    "        #    b1=df.population=='halo'\n",
    "        #    nhalo=len(df[np.logical_and(b0, b1)])/sn\n",
    "        #    scln=scln*nhalo\n",
    "\n",
    "        \n",
    "        #assert scln[0] > scale[0]\n",
    "        NSIM[g[0]]=np.nansum(g[1].selection_function)*scln\n",
    "    df.drop('r_{}'.format(binby), axis=1)\n",
    "    return pd.DataFrame(NSIM).T.rename(columns={0: 'N', 1: 'Nunc'})"
   ]
  },
  {
   "cell_type": "code",
   "execution_count": 62,
   "metadata": {},
   "outputs": [
    {
     "data": {
      "text/plain": [
       "array([14, 15, 16, 17, 18, 19, 20, 21, 22, 23, 24, 25, 26, 27, 28, 29, 30,\n",
       "       31, 32, 33, 34, 35, 36, 37, 38, 39])"
      ]
     },
     "execution_count": 62,
     "metadata": {},
     "output_type": "execute_result"
    }
   ],
   "source": [
    "grid"
   ]
  },
  {
   "cell_type": "code",
   "execution_count": 63,
   "metadata": {},
   "outputs": [
    {
     "name": "stderr",
     "output_type": "stream",
     "text": [
      "100%|██████████████████████████████████████████| 14/14 [00:00<00:00, 922.45it/s]\n",
      "100%|█████████████████████████████████████████| 11/11 [00:00<00:00, 1549.79it/s]\n",
      "100%|█████████████████████████████████████████| 13/13 [00:00<00:00, 1190.26it/s]\n"
     ]
    }
   ],
   "source": [
    "\n",
    "thincounts=get_ncounts(grid=grid, population='thin_disk', df=dfj)\n",
    "thickcounts=get_ncounts(grid=grid,  population='thick_disk', df=dfj)\n",
    "halocounts=get_ncounts(grid=grid,  population='halo', df=dfj)"
   ]
  },
  {
   "cell_type": "code",
   "execution_count": 64,
   "metadata": {},
   "outputs": [],
   "source": [
    "#halocounts"
   ]
  },
  {
   "cell_type": "code",
   "execution_count": 65,
   "metadata": {},
   "outputs": [
    {
     "data": {
      "text/plain": [
       "8300.0"
      ]
     },
     "execution_count": 65,
     "metadata": {},
     "output_type": "execute_result"
    }
   ],
   "source": [
    "import scipy.integrate as integrate\n",
    "galaxy.Rsun"
   ]
  },
  {
   "cell_type": "code",
   "execution_count": 66,
   "metadata": {},
   "outputs": [],
   "source": [
    "def compute_volume(spt, l, b, h=350):\n",
    "    dmin=0\n",
    "    dmax=max_distances[spt]\n",
    "    if np.isnan(dmax):\n",
    "        return np.nan\n",
    "    else:\n",
    "        ds=np.linspace(dmin, dmax, 1000)\n",
    "        rd=np.sqrt( (ds * np.cos( b ) )**2 + galaxy.Rsun * (galaxy.Rsun - 2 * ds * np.cos( b ) * np.cos( l ) ) )\n",
    "        zd=galaxy.Zsun+ ds * np.sin( b - np.arctan( galaxy.Zsun / galaxy.Rsun) )\n",
    "        rh=galaxy.galactic_density(rd, zd, h)\n",
    "        return {'thin': integrate.trapz(rh['thin']*(ds**2), x=ds), \\\n",
    "                'thick': integrate.trapz(rh['thick']*(ds**2), x=ds), \\\n",
    "                'halo': integrate.trapz(rh['halo']*(ds**2), x=ds)}\n",
    "                "
   ]
  },
  {
   "cell_type": "code",
   "execution_count": 67,
   "metadata": {},
   "outputs": [
    {
     "name": "stderr",
     "output_type": "stream",
     "text": [
      "100%|██████████████████████████████████████| 1378/1378 [00:03<00:00, 400.97it/s]\n",
      "100%|██████████████████████████████████████| 1378/1378 [00:03<00:00, 409.18it/s]\n",
      "100%|██████████████████████████████████████| 1378/1378 [00:03<00:00, 409.77it/s]\n",
      "100%|██████████████████████████████████████| 1378/1378 [00:03<00:00, 384.54it/s]\n",
      "100%|██████████████████████████████████████| 1378/1378 [00:03<00:00, 388.06it/s]\n",
      "100%|██████████████████████████████████████| 1378/1378 [00:03<00:00, 396.98it/s]\n",
      "100%|██████████████████████████████████████| 1378/1378 [00:03<00:00, 394.92it/s]\n",
      "100%|██████████████████████████████████████| 1378/1378 [00:03<00:00, 389.43it/s]\n",
      "100%|██████████████████████████████████████| 1378/1378 [00:03<00:00, 376.67it/s]\n",
      "100%|██████████████████████████████████████| 1378/1378 [00:03<00:00, 389.12it/s]\n",
      "100%|██████████████████████████████████████| 1378/1378 [00:03<00:00, 396.78it/s]\n",
      "100%|██████████████████████████████████████| 1378/1378 [00:03<00:00, 400.84it/s]\n",
      "100%|██████████████████████████████████████| 1378/1378 [00:03<00:00, 397.04it/s]\n",
      "100%|██████████████████████████████████████| 1378/1378 [00:03<00:00, 399.56it/s]\n",
      "100%|██████████████████████████████████████| 1378/1378 [00:03<00:00, 394.17it/s]\n",
      "100%|██████████████████████████████████████| 1378/1378 [00:03<00:00, 387.98it/s]\n",
      "100%|██████████████████████████████████████| 1378/1378 [00:03<00:00, 390.97it/s]\n",
      "100%|██████████████████████████████████████| 1378/1378 [00:03<00:00, 392.04it/s]\n",
      "100%|██████████████████████████████████████| 1378/1378 [00:03<00:00, 376.32it/s]\n",
      "100%|██████████████████████████████████████| 1378/1378 [00:03<00:00, 385.50it/s]\n",
      "100%|██████████████████████████████████████| 1378/1378 [00:03<00:00, 390.22it/s]\n",
      "100%|██████████████████████████████████████| 1378/1378 [00:03<00:00, 394.60it/s]\n",
      "100%|██████████████████████████████████████| 1378/1378 [00:03<00:00, 391.56it/s]\n",
      "100%|██████████████████████████████████████| 1378/1378 [00:03<00:00, 390.06it/s]\n",
      "100%|██████████████████████████████████████| 1378/1378 [00:03<00:00, 383.07it/s]\n",
      "100%|██████████████████████████████████████| 1378/1378 [00:03<00:00, 385.27it/s]\n"
     ]
    }
   ],
   "source": [
    "volumes={}\n",
    "for k in grid:\n",
    "    vs={'thin': 0.0, 'thick': 0.0, 'halo': 0.0}\n",
    "    for f in tqdm(footprint):\n",
    "        l=f.galactic.l.radian\n",
    "        b=f.galactic.b.radian\n",
    "        v=compute_volume(k, l, b, h=350)\n",
    "        vs['thin'] +=v['thin']\n",
    "        vs['thick'] +=v['thick']\n",
    "        vs['halo'] +=v['halo']\n",
    "    volumes[k]=vs"
   ]
  },
  {
   "cell_type": "code",
   "execution_count": 68,
   "metadata": {},
   "outputs": [],
   "source": [
    "#save this, takes too much time to do\n",
    "volumes_df=pd.DataFrame(volumes).T/len(footprint)"
   ]
  },
  {
   "cell_type": "code",
   "execution_count": 69,
   "metadata": {},
   "outputs": [],
   "source": [
    "area=5350*(u.degree**2).to(u.radian**2)*(u.radian**2)\n",
    "area_to_degree=area.to(u.degree**2)"
   ]
  },
  {
   "cell_type": "code",
   "execution_count": 70,
   "metadata": {},
   "outputs": [
    {
     "data": {
      "text/latex": [
       "$5350 \\; \\mathrm{deg^{2}}$"
      ],
      "text/plain": [
       "<Quantity 5350. deg2>"
      ]
     },
     "execution_count": 70,
     "metadata": {},
     "output_type": "execute_result"
    }
   ],
   "source": [
    "area_to_degree"
   ]
  },
  {
   "cell_type": "code",
   "execution_count": 71,
   "metadata": {},
   "outputs": [],
   "source": [
    "#volumes"
   ]
  },
  {
   "cell_type": "code",
   "execution_count": 72,
   "metadata": {},
   "outputs": [],
   "source": [
    "#easiest ay is to compute volumes for every field and then\n",
    "#second easiest thing, simulate an entire sky and do 2d-interpolation over sdss area"
   ]
  },
  {
   "cell_type": "code",
   "execution_count": 73,
   "metadata": {},
   "outputs": [],
   "source": [
    "#counts['volume']=pd.Series(volumes).T/len(dfn_coord)\n",
    "#sdcounts['volume']=pd.Series(volumes).T/len(dfn_coord)"
   ]
  },
  {
   "cell_type": "code",
   "execution_count": 74,
   "metadata": {},
   "outputs": [
    {
     "data": {
      "text/plain": [
       "[Text(0, 0.5, 'N/radian$^2$')]"
      ]
     },
     "execution_count": 74,
     "metadata": {},
     "output_type": "execute_result"
    },
    {
     "data": {
      "image/png": "[encoded data removed]",
      "text/plain": [
       "<Figure size 432x288 with 1 Axes>"
      ]
     },
     "metadata": {
      "needs_background": "light"
     },
     "output_type": "display_data"
    }
   ],
   "source": [
    "fig, ax=plt.subplots()\n",
    "volumes_df.thin.apply(np.log10).plot(label='thin', ax=ax)\n",
    "volumes_df.thick.apply(np.log10).plot(label='thick', ax=ax)\n",
    "volumes_df.halo.apply(np.log10).plot(label='halo', ax=ax)\n",
    "ax.legend()\n",
    "ax.set(ylabel=r'N/radian$^2$')\n",
    "\n"
   ]
  },
  {
   "cell_type": "code",
   "execution_count": 75,
   "metadata": {},
   "outputs": [],
   "source": [
    "#list(dfl_conct.columns)"
   ]
  },
  {
   "cell_type": "code",
   "execution_count": 76,
   "metadata": {},
   "outputs": [],
   "source": [
    "#names used by lodieu\n",
    "allowed_colors={'SDSS_I-SDSS_Z': ['SDSSi', 'SDSSz'], \n",
    "                'MKO_J-MKO_H': ['Jmag', 'Kmag']}\n",
    "                #'MKO_H-MKO_K':['Hmag', 'Kmag']}\n"
   ]
  },
  {
   "cell_type": "code",
   "execution_count": 77,
   "metadata": {},
   "outputs": [
    {
     "name": "stdout",
     "output_type": "stream",
     "text": [
      "SDSS_I-SDSS_Z\n",
      "MKO_J-MKO_H\n"
     ]
    },
    {
     "data": {
      "image/png": "[encoded data removed]",
      "text/plain": [
       "<Figure size 432x288 with 1 Axes>"
      ]
     },
     "metadata": {
      "needs_background": "light"
     },
     "output_type": "display_data"
    },
    {
     "data": {
      "image/png": "[encoded data removed]",
      "text/plain": [
       "<Figure size 432x288 with 1 Axes>"
      ]
     },
     "metadata": {
      "needs_background": "light"
     },
     "output_type": "display_data"
    }
   ],
   "source": [
    "dfl_spts=[]\n",
    "for c in allowed_colors.keys():\n",
    "    print (c)\n",
    "    spgrid=np.arange(10, 40)\n",
    "    color_grid=spe.typeToColor(spgrid,c ,reference='skrzypek2015',uncertainty=0.,\\\n",
    "                    nsamples=100,verbose=False,forgiving=True)\n",
    "\n",
    "    fig, ax=plt.subplots()\n",
    "    ax.scatter(spgrid, color_grid[0])\n",
    "    f = scipy.interpolate.interp1d(color_grid[0],spgrid,bounds_error=False,fill_value=0.)\n",
    "    plt.plot(f(color_grid[0]), color_grid[0])\n",
    "    \n",
    "    dfl_spts.append(f(dfl_conct[allowed_colors[c][0]]-dfl_conct[allowed_colors[c][-1]]))\n",
    "    \n",
    "    \n",
    "    ax.set(xlabel='SpT', ylabel=c)"
   ]
  },
  {
   "cell_type": "code",
   "execution_count": 78,
   "metadata": {},
   "outputs": [
    {
     "data": {
      "text/plain": [
       "(26, 26)"
      ]
     },
     "execution_count": 78,
     "metadata": {},
     "output_type": "execute_result"
    },
    {
     "data": {
      "image/png": "[encoded data removed]",
      "text/plain": [
       "<Figure size 432x288 with 1 Axes>"
      ]
     },
     "metadata": {
      "needs_background": "light"
     },
     "output_type": "display_data"
    }
   ],
   "source": [
    "observed_spts=np.nanmedian(dfl_spts, axis=0)\n",
    "_= plt.hist(observed_spts, log=True)\n",
    "counts= np.histogram(observed_spts, bins=np.array([14, 15, 16, 17, 18, 19, 20, 21, 22, 23, 24, 25, 26, 27, 28, 29, 30,\n",
    "            31, 32, 33, 34, 35, 36, 37, 38, 39, 40])+0.1)\n",
    "len(counts[0]), len(thickcounts.index)"
   ]
  },
  {
   "cell_type": "code",
   "execution_count": 79,
   "metadata": {},
   "outputs": [],
   "source": [
    "import popsims.relations as rel\n",
    "from scipy.interpolate import interp1d"
   ]
  },
  {
   "cell_type": "code",
   "execution_count": 80,
   "metadata": {},
   "outputs": [],
   "source": [
    "def interpolated_local_lf(unit='teff'):\n",
    "    teff= rel.kirkpatrick2020LF['bin_center']\n",
    "    binedges=teff\n",
    "    if unit=='spt':\n",
    "       binedges= popsims.teff_to_spt(teff)\n",
    "    obs=np.array(rel.kirkpatrick2020LF['values'])*1e-3\n",
    "    unc=np.array(rel.kirkpatrick2020LF['unc'])\n",
    "\n",
    "    return interp1d( binedges, obs, assume_sorted = False, fill_value = np.nan, bounds_error=False)\n"
   ]
  },
  {
   "cell_type": "code",
   "execution_count": 81,
   "metadata": {},
   "outputs": [
    {
     "ename": "AttributeError",
     "evalue": "module 'popsims' has no attribute 'teff_to_spt'",
     "output_type": "error",
     "traceback": [
      "\u001b[0;31m---------------------------------------------------------------------------\u001b[0m",
      "\u001b[0;31mAttributeError\u001b[0m                            Traceback (most recent call last)",
      "\u001b[0;32m/var/folders/p5/jqfspzln0z965dsfd1pj_5900000gp/T/ipykernel_2696/65099885.py\u001b[0m in \u001b[0;36m<module>\u001b[0;34m\u001b[0m\n\u001b[0;32m----> 1\u001b[0;31m \u001b[0mlf_interpo\u001b[0m\u001b[0;34m=\u001b[0m\u001b[0minterpolated_local_lf\u001b[0m\u001b[0;34m(\u001b[0m\u001b[0munit\u001b[0m\u001b[0;34m=\u001b[0m\u001b[0;34m'spt'\u001b[0m\u001b[0;34m)\u001b[0m\u001b[0;34m\u001b[0m\u001b[0;34m\u001b[0m\u001b[0m\n\u001b[0m",
      "\u001b[0;32m/var/folders/p5/jqfspzln0z965dsfd1pj_5900000gp/T/ipykernel_2696/72635959.py\u001b[0m in \u001b[0;36minterpolated_local_lf\u001b[0;34m(unit)\u001b[0m\n\u001b[1;32m      3\u001b[0m     \u001b[0mbinedges\u001b[0m\u001b[0;34m=\u001b[0m\u001b[0mteff\u001b[0m\u001b[0;34m\u001b[0m\u001b[0;34m\u001b[0m\u001b[0m\n\u001b[1;32m      4\u001b[0m     \u001b[0;32mif\u001b[0m \u001b[0munit\u001b[0m\u001b[0;34m==\u001b[0m\u001b[0;34m'spt'\u001b[0m\u001b[0;34m:\u001b[0m\u001b[0;34m\u001b[0m\u001b[0;34m\u001b[0m\u001b[0m\n\u001b[0;32m----> 5\u001b[0;31m        \u001b[0mbinedges\u001b[0m\u001b[0;34m=\u001b[0m \u001b[0mpopsims\u001b[0m\u001b[0;34m.\u001b[0m\u001b[0mteff_to_spt\u001b[0m\u001b[0;34m(\u001b[0m\u001b[0mteff\u001b[0m\u001b[0;34m)\u001b[0m\u001b[0;34m\u001b[0m\u001b[0;34m\u001b[0m\u001b[0m\n\u001b[0m\u001b[1;32m      6\u001b[0m     \u001b[0mobs\u001b[0m\u001b[0;34m=\u001b[0m\u001b[0mnp\u001b[0m\u001b[0;34m.\u001b[0m\u001b[0marray\u001b[0m\u001b[0;34m(\u001b[0m\u001b[0mrel\u001b[0m\u001b[0;34m.\u001b[0m\u001b[0mkirkpatrick2020LF\u001b[0m\u001b[0;34m[\u001b[0m\u001b[0;34m'values'\u001b[0m\u001b[0;34m]\u001b[0m\u001b[0;34m)\u001b[0m\u001b[0;34m*\u001b[0m\u001b[0;36m1e-3\u001b[0m\u001b[0;34m\u001b[0m\u001b[0;34m\u001b[0m\u001b[0m\n\u001b[1;32m      7\u001b[0m     \u001b[0munc\u001b[0m\u001b[0;34m=\u001b[0m\u001b[0mnp\u001b[0m\u001b[0;34m.\u001b[0m\u001b[0marray\u001b[0m\u001b[0;34m(\u001b[0m\u001b[0mrel\u001b[0m\u001b[0;34m.\u001b[0m\u001b[0mkirkpatrick2020LF\u001b[0m\u001b[0;34m[\u001b[0m\u001b[0;34m'unc'\u001b[0m\u001b[0;34m]\u001b[0m\u001b[0;34m)\u001b[0m\u001b[0;34m\u001b[0m\u001b[0;34m\u001b[0m\u001b[0m\n",
      "\u001b[0;31mAttributeError\u001b[0m: module 'popsims' has no attribute 'teff_to_spt'"
     ]
    }
   ],
   "source": [
    "lf_interpo=interpolated_local_lf(unit='spt')"
   ]
  },
  {
   "cell_type": "code",
   "execution_count": null,
   "metadata": {},
   "outputs": [],
   "source": [
    "len(np.arange(14, 40))"
   ]
  },
  {
   "cell_type": "code",
   "execution_count": null,
   "metadata": {},
   "outputs": [],
   "source": [
    "len(counts[0]), len(counts[-1])"
   ]
  },
  {
   "cell_type": "code",
   "execution_count": null,
   "metadata": {
    "scrolled": true
   },
   "outputs": [],
   "source": [
    "fig, ax=plt.subplots(figsize=(10, 6))\n",
    "\n",
    "ax.scatter(np.arange(14, 40), counts[0]/area.to(u.degree**2).value, c='k', label='Data')\n",
    "\n",
    "ax.step(thincounts.index, (lf_interpo(thincounts.index)*volumes_df.thin.values*area.value/area).to(u.deg**-2), \\\n",
    "        where='mid', label='Interpolated Thin Disk ',  linestyle='dotted',  color='#AAAAAA',  linewidth=3)\n",
    "\n",
    "ax.step(thincounts.index, (thincounts.N.values*volumes_df.thin.values*area.value/area).to(u.deg**-2),\\\n",
    "        label='Simulated Thin Disk', where='mid', linestyle='-', color='#AAAAAA',  linewidth=3)\n",
    "\n",
    "\n",
    "ax.step(thickcounts.index, (0.12*lf_interpo(thickcounts.index)*volumes_df.thick.values*area.value/area).to(u.deg**-2), \\\n",
    "        where='mid', label='Interpolated Thick Disk ',  linestyle='dotted',  color='#FF851B',  linewidth=3)\n",
    "\n",
    "ax.step(thickcounts.index, (thickcounts.N.values*0.12*volumes_df.thick.values*area.value/area).to(u.deg**-2),\\\n",
    "        label='Simulated Thick Disk', where='mid', linestyle='-', color='#FF851B',  linewidth=3)\n",
    "\n",
    "\n",
    "ax.step(halocounts.index, (0.0025*lf_interpo(halocounts.index)*volumes_df.halo.values*area.value/area).to(u.deg**-2), \\\n",
    "        where='mid', label='Interpolated Halo ',  linestyle='dotted',  color='#0074D9',  linewidth=3)\n",
    "\n",
    "ax.step(halocounts.index, (halocounts.N.values*0.0025*volumes_df.halo.values*area.value/area).to(u.deg**-2),\\\n",
    "        label='Simulated Halo', where='mid', linestyle='-', color='#0074D9',  linewidth=3)\n",
    "\n",
    "ax.set_xticks([14, 17, 20,  25, 30, 35, 40])\n",
    "ax.set_xticklabels(['M4', 'M7', 'L0', 'L5', 'T0', 'T5', 'Y0'])\n",
    "ax.set( xlabel='Spectral Type',  ylabel=r'Surface Density (deg $^{-2}$)', yscale='log')\n",
    "#ax.grid()\n",
    "#ax.axhline(100, linestyle='--', c='k')\n",
    "ax.legend( loc=(0.7, 0.6), fontsize=12)\n",
    "plt.tight_layout()\n",
    "ax.minorticks_on()\n",
    "\n",
    "\n",
    "plt.savefig('../figures/plot_simulatedncounts_sdss_vhs.pdf')"
   ]
  },
  {
   "cell_type": "code",
   "execution_count": null,
   "metadata": {},
   "outputs": [],
   "source": [
    "(2000*u.deg**2).to(u.arcmin**2)"
   ]
  },
  {
   "cell_type": "code",
   "execution_count": null,
   "metadata": {},
   "outputs": [],
   "source": [
    " (halocounts.N.values*0.0025*volumes_df.halo.values*area.value/area).to(u.deg**-2)"
   ]
  },
  {
   "cell_type": "code",
   "execution_count": null,
   "metadata": {},
   "outputs": [],
   "source": [
    "(thickcounts.N.values*0.12*volumes_df.thick.values*area.value/area).to(u.deg**-2)"
   ]
  },
  {
   "cell_type": "code",
   "execution_count": null,
   "metadata": {},
   "outputs": [],
   "source": [
    "#read in a metal-poor baraffe model\n",
    "#baraffe=pd.read_csv(popsims.EVOL_MODELS_FOLDER+'//baraffe1998.csv')\n",
    "#metpoor=(baraffe[baraffe.metallicity<0]).reset_index(drop=True)"
   ]
  },
  {
   "cell_type": "code",
   "execution_count": null,
   "metadata": {},
   "outputs": [],
   "source": [
    "#metpoor.to_csv(popsims.EVOL_MODELS_FOLDER+'//baraffe1998_metalpoor.csv', index=False)"
   ]
  },
  {
   "cell_type": "code",
   "execution_count": null,
   "metadata": {},
   "outputs": [],
   "source": [
    "demo(maintain_offset=\"foo\")"
   ]
  },
  {
   "cell_type": "code",
   "execution_count": null,
   "metadata": {},
   "outputs": [],
   "source": [
    "demo(mo=\"foo\")"
   ]
  },
  {
   "cell_type": "code",
   "execution_count": null,
   "metadata": {},
   "outputs": [],
   "source": [
    "ages=np.random.uniform(0, 13, int(1e4))\n",
    "vels=galaxy.get_velocities(ages,  kind='thin_disk').reset_index(drop=True)\n",
    "velst=galaxy.get_velocities(ages,  kind='thick_disk').reset_index(drop=True)"
   ]
  },
  {
   "cell_type": "code",
   "execution_count": null,
   "metadata": {},
   "outputs": [],
   "source": [
    "fig, ax=plt.subplots()\n",
    "ax.scatter((velst.U**2+velst.V**2)**0.5, velst.W, s=0.1, label='thin disk')\n",
    "ax.scatter((vels.U**2+vels.V**2)**0.5, vels.W, s=0.1,  label='thick disk')"
   ]
  },
  {
   "cell_type": "code",
   "execution_count": 83,
   "metadata": {},
   "outputs": [
    {
     "name": "stdout",
     "output_type": "stream",
     "text": [
      "\n",
      "Retrieving 1 lucky file\n",
      "\n"
     ]
    }
   ],
   "source": [
    "sp0= splat.getSpectrum(lucky=True)[0]"
   ]
  },
  {
   "cell_type": "code",
   "execution_count": 86,
   "metadata": {},
   "outputs": [
    {
     "data": {
      "text/plain": [
       "27.0"
      ]
     },
     "execution_count": 86,
     "metadata": {},
     "output_type": "execute_result"
    }
   ],
   "source": []
  },
  {
   "cell_type": "code",
   "execution_count": null,
   "metadata": {},
   "outputs": [],
   "source": []
  }
 ],
 "metadata": {
  "kernelspec": {
   "display_name": "Python 3 (ipykernel)",
   "language": "python",
   "name": "python3"
  },
  "language_info": {
   "codemirror_mode": {
    "name": "ipython",
    "version": 3
   },
   "file_extension": ".py",
   "mimetype": "text/x-python",
   "name": "python",
   "nbconvert_exporter": "python",
   "pygments_lexer": "ipython3",
   "version": "3.9.7"
  }
 },
 "nbformat": 4,
 "nbformat_minor": 4
}
