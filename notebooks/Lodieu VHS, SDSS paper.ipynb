{
 "cells": [
  {
   "cell_type": "code",
   "execution_count": 1,
   "metadata": {},
   "outputs": [
    {
     "name": "stdout",
     "output_type": "stream",
     "text": [
      "\n",
      "\n",
      "Welcome to the Spex Prism Library Analysis Toolkit (SPLAT)!\n",
      "If you make use of any features of this toolkit for your research, please remember to cite the SPLAT paper:\n",
      "\n",
      "Burgasser et al. (2017, Astro. Soc. India Conf. Series 14, p. 7); Bibcode: 2017ASInC..14....7B\n",
      "\n",
      "If you make use of any spectra or models in this toolkit, please remember to cite the original source.\n",
      "Please report any errors are feature requests to our github page, https://github.com/aburgasser/splat/\n",
      "\n",
      "\n"
     ]
    }
   ],
   "source": [
    "import numpy as np\n",
    "import pandas as pd\n",
    "import splat\n",
    "import popsims\n",
    "from astropy.coordinates import SkyCoord, Galactic\n",
    "import astropy.coordinates as astro_coord\n",
    "import matplotlib.pyplot as plt\n",
    "import seaborn as sns\n",
    "import scipy\n",
    "#sns.set_style(\"darkgrid\", {\"axes.facecolor\": \".95\"})\n",
    "\n",
    "#plt.style.use('fivethirtyeight')\n",
    "#plt.style.use('dark_background')\n",
    "#sns.set_style(\"dark\")\n",
    "\n",
    "from  matplotlib.colors import Normalize\n",
    "import astropy.units as u\n",
    "import popsims\n",
    "import matplotlib\n",
    "from tqdm import tqdm\n",
    "from tqdm import tqdm\n",
    "import matplotlib as mpl \n",
    "#mpl.rcParams['axes.labelsize'] = 20\n",
    "#mpl.rcParams['xtick.labelsize'] =20\n",
    "#mpl.rcParams['ytick.labelsize'] = 20\n",
    "#mpl.rcParams['legend.fontsize'] = 20\n",
    "#mpl.rcParams['figure.titlesize'] = 20\n",
    "from astropy.coordinates import Angle\n",
    "import astropy.table as astrotable\n",
    "\n",
    "splat.initializeStandards(all=True)\n",
    "from scipy.interpolate import griddata, interpn\n",
    "import splat.empirical as spe\n",
    "%matplotlib inline\n"
   ]
  },
  {
   "cell_type": "code",
   "execution_count": 2,
   "metadata": {},
   "outputs": [],
   "source": [
    "PS1_DEPTHS={ 'Y':21.4} #'R':23.2, 'I':23.1  'Z':22.3 something funny happening\n",
    "SDSS_DEPTHS={'Z':20.5} #R':22.2, 'I':21.3,\n",
    "VISTA_DEPTHS={'KS':17.9} #'J':19.5, 'H':18.6,\n",
    "color_cuts={#'SDSS_G-SDSS_R':(1.6, 'greater'),\n",
    "            #'SDSS_R-SDSS_I': (1.0, 'greater'),\n",
    "            #'SDSS_I-SDSS_Z': (0.5, 'greater'),\n",
    "            #'SDSS_R-SDSS_Z': (1.6, 'greater'),\n",
    "            #'SDSS_I-VISTA_J':(1.7, 'greater'),\n",
    "            'SDSS_Z-VISTA_J':(1.1, 'greater'),\n",
    "            'VISTA_J-VISTA_KS':(0.75, 'less')} \n",
    "OTHER_CUTS={#'SDSS_R': 22.2, \n",
    "           #'SDSS_I': 21.3,\n",
    "            #'PANSTARRS_R': 23.2,\n",
    "            #'PANSTARRS_I':23.1,\n",
    "            #'PANSTARRS_Z':22.3,\n",
    "            'VISTA_J':19.3,\n",
    "            'VISTA_H':18.6}"
   ]
  },
  {
   "cell_type": "code",
   "execution_count": null,
   "metadata": {},
   "outputs": [],
   "source": []
  },
  {
   "cell_type": "code",
   "execution_count": 3,
   "metadata": {},
   "outputs": [],
   "source": [
    "#SDSS \n",
    "SDSS={'FOV': 2.5*u.degree*2.5*u.degree,\\\n",
    "      'l':((np.array([0, 360]))*u.degree.to(u.radian)),\\\n",
    "            'b': ((np.array([-90, 90]))*u.degree.to(u.radian))}\n",
    "\n",
    "SDSS_discrete={'FOV': 2.5*u.degree*2.5*u.degree,\\\n",
    "      'l':((np.array([0, 360]))*u.degree.to(u.radian)),\\\n",
    "            'b': ((np.array([-90, 90]))*u.degree.to(u.radian))}"
   ]
  },
  {
   "cell_type": "code",
   "execution_count": 4,
   "metadata": {},
   "outputs": [],
   "source": [
    "#DATA_FOLDER='/volumes/Lacie/popsimsdata//'"
   ]
  },
  {
   "cell_type": "code",
   "execution_count": 5,
   "metadata": {},
   "outputs": [],
   "source": [
    "#t1    = astrotable.Table.read(DATA_FOLDER+'Stripe_Defs6_ctheissen.fit') # open an FITS file\n",
    "#t2    = astrotable.Table.read(DATA_FOLDER+'FieldNums_ctheissen.fit') # open an FITS file\n",
    "#t3    = astrotable.join(t1, t2, keys='fieldid').to_pandas()"
   ]
  },
  {
   "cell_type": "code",
   "execution_count": 6,
   "metadata": {},
   "outputs": [],
   "source": [
    "import glob"
   ]
  },
  {
   "cell_type": "code",
   "execution_count": 7,
   "metadata": {},
   "outputs": [],
   "source": [
    "from astropy.io.votable import parse_single_table"
   ]
  },
  {
   "cell_type": "code",
   "execution_count": 8,
   "metadata": {},
   "outputs": [
    {
     "name": "stdout",
     "output_type": "stream",
     "text": [
      "Number of candidates 130\n",
      "Number of candidates 4\n",
      "Number of candidates 114\n",
      "Number of candidates 59\n",
      "Number of candidates 52\n",
      "Number of candidates 174\n",
      "Number of candidates 17\n",
      "Number of candidates 115\n",
      "Number of candidates 13\n",
      "Number of candidates 445\n",
      "Number of candidates 2\n",
      "Number of candidates 253\n"
     ]
    }
   ],
   "source": [
    "#forget about sdss use\n",
    "ffolder='/volumes/LaCie/lodieu/*.xml'\n",
    "lodieu_dfs=[]\n",
    "for f in glob.glob(ffolder):\n",
    "    tbl = parse_single_table(f).to_table()\n",
    "    print('Number of candidates',len(tbl))\n",
    "    lodieu_dfs.append(tbl.to_pandas())\n",
    "dfl_conct=pd.concat(lodieu_dfs)"
   ]
  },
  {
   "cell_type": "code",
   "execution_count": 9,
   "metadata": {},
   "outputs": [],
   "source": [
    "#combine \n",
    "ras0=np.nanmedian([dfl_conct['RAJ2000_VHS'].values, dfl_conct['RAJ2000_LAS'].values], axis=0)\n",
    "decs0=np.nanmedian([dfl_conct['DEJ2000_VHS'].values, dfl_conct['DEJ2000_LAS'].values], axis=0)"
   ]
  },
  {
   "cell_type": "code",
   "execution_count": 10,
   "metadata": {},
   "outputs": [],
   "source": [
    "assert len(popsims.dropnans(ras0)) == len(dfl_conct)\n",
    "assert len(popsims.dropnans(decs0)) == len(dfl_conct)"
   ]
  },
  {
   "cell_type": "code",
   "execution_count": 11,
   "metadata": {},
   "outputs": [],
   "source": [
    "footprint=SkyCoord(ra=ras0*u.degree, dec=decs0*u.degree)"
   ]
  },
  {
   "cell_type": "code",
   "execution_count": 12,
   "metadata": {},
   "outputs": [],
   "source": [
    "a=Angle(footprint.ra.to(u.radian))\n",
    "b=Angle(footprint.dec.to(u.radian))\n",
    "a.wrap_at('180d', inplace=True)\n",
    "b.wrap_at('180d', inplace=True)"
   ]
  },
  {
   "cell_type": "code",
   "execution_count": 13,
   "metadata": {},
   "outputs": [
    {
     "data": {
      "text/plain": [
       "<matplotlib.collections.PathCollection at 0x7fe21cbbadf0>"
      ]
     },
     "execution_count": 13,
     "metadata": {},
     "output_type": "execute_result"
    },
    {
     "name": "stderr",
     "output_type": "stream",
     "text": [
      "findfont: Font family ['serif'] not found. Falling back to DejaVu Sans.\n",
      "findfont: Generic family 'serif' not found because none of the following families were found: \n"
     ]
    },
    {
     "data": {
      "image/png": "[encoded data removed]",
      "text/plain": [
       "<Figure size 432x288 with 1 Axes>"
      ]
     },
     "metadata": {
      "needs_background": "light"
     },
     "output_type": "display_data"
    }
   ],
   "source": [
    "fig, ax=plt.subplots()\n",
    "ax.scatter(ras0, decs0)"
   ]
  },
  {
   "cell_type": "code",
   "execution_count": 14,
   "metadata": {},
   "outputs": [],
   "source": [
    "def interpolated(ra, dec, interpolators):\n",
    "    #Ra dec must in degrees wrapped at 180 degree\n",
    "    interpoints=np.array([interpolators[0], interpolators[1] ]).T\n",
    "    return griddata(interpoints, interpolators[-1] , (ra, dec), \\\n",
    "                    method='cubic', fill_value=-1.)\n",
    "def interpolated_broken(ra, dec,interpolators):\n",
    "    interpoints=np.array([interpolators[0], interpolators[1] ])\n",
    "    return  interpn(list(zip(interpoints)), interpolators[-1] , (ra, dec),\\\n",
    "                     fill_value=-1.,  bounds_error=False) "
   ]
  },
  {
   "cell_type": "code",
   "execution_count": 15,
   "metadata": {},
   "outputs": [],
   "source": [
    "#from popsims.widefields import  WideField, create_mixed_population,\\\n",
    "#transform_tocylindrical"
   ]
  },
  {
   "cell_type": "code",
   "execution_count": 16,
   "metadata": {},
   "outputs": [],
   "source": [
    "#field= WideField(footprinttype='uniform')\n",
    "#field.footprint=SDSS\n",
    "#trace=field.sample_points(nsample=1e5, Hthin=350, dmin=1, dmax=1000)"
   ]
  },
  {
   "cell_type": "code",
   "execution_count": 17,
   "metadata": {},
   "outputs": [],
   "source": [
    "thin_dist_list=[]\n",
    "thick_dist_list=[]\n",
    "halo_dist_list=[]\n",
    "discr_ls=[]\n",
    "discr_bs=[]"
   ]
  },
  {
   "cell_type": "markdown",
   "metadata": {},
   "source": [
    "for i in tqdm(np.arange(1000)):\n",
    "    c=sdsscoord[np.random.choice(len(sdsscoord))]\n",
    "    narro_field=popsims.Pointing(coord=c)\n",
    "    halo_field=popsims.Pointing(coord=c, density='spheroid')\n",
    "\n",
    "    narro_field.mag_limits=dict(zip(['VISTA_{}'.format(k) for k in VISTA_DEPTHS.keys()],\\\n",
    "             [(0, VISTA_DEPTHS[k]) for k in VISTA_DEPTHS.keys()]))\n",
    "    thin_dist_list +=list(narro_field.draw_distances(0.1, 1000,350,  nsample=1e3))\n",
    "    thick_dist_list +=list(narro_field.draw_distances(0.1, 1000,900,  nsample=1e3))\n",
    "    halo_dist_list +=list(halo_field.draw_distances(0.1, 1000,900,  nsample=1e3))\n",
    "    discr_ls += [c.galactic.l.value]\n",
    "    discr_bs += [c.galactic.b.value]"
   ]
  },
  {
   "cell_type": "code",
   "execution_count": 18,
   "metadata": {},
   "outputs": [],
   "source": [
    "#np.save('/volumes/LaCie/popsimsdata/lodieupaper_distances.npy',\\\n",
    "#        {'thind':thin_dist_list ,\\\n",
    "#         'thickd':thick_dist_list ,\\\n",
    "#         'halod': halo_dist_list,\\\n",
    "#         'l': discr_ls ,\\\n",
    "#         'b': discr_bs}, allow_pickle=True)"
   ]
  },
  {
   "cell_type": "code",
   "execution_count": 19,
   "metadata": {},
   "outputs": [],
   "source": [
    "grid=np.arange(14, 40)"
   ]
  },
  {
   "cell_type": "code",
   "execution_count": 20,
   "metadata": {},
   "outputs": [],
   "source": [
    "dictionary=np.load('/volumes/LaCie/popsimsdata/lodieupaper_distances.npy', allow_pickle=True)\n",
    "dist_dictionary=dictionary.flatten()[0]\n",
    "thin_dist_list= dist_dictionary['thind']\n",
    "thick_dist_list= dist_dictionary['thickd']\n",
    "halo_dist_list= dist_dictionary['halod']\n",
    "discr_ls = dist_dictionary['l']\n",
    "discr_bs = dist_dictionary['b']"
   ]
  },
  {
   "cell_type": "code",
   "execution_count": 21,
   "metadata": {},
   "outputs": [],
   "source": [
    "from popsims import galaxy"
   ]
  },
  {
   "cell_type": "code",
   "execution_count": 22,
   "metadata": {},
   "outputs": [],
   "source": [
    "max_distances={}\n",
    "for g in grid:\n",
    "    pol=galaxy.POLYNOMIALS['absmags']['dwarfs']['VISTA_J']['fit']\n",
    "    max_distances[g]=galaxy.get_distance(pol(g), 19.5)"
   ]
  },
  {
   "cell_type": "code",
   "execution_count": 23,
   "metadata": {},
   "outputs": [
    {
     "data": {
      "text/plain": [
       "{14: 1279.0694890106447,\n",
       " 15: 958.0806620206615,\n",
       " 16: 737.5505586463466,\n",
       " 17: 581.6612397596215,\n",
       " 18: 468.4074143054953,\n",
       " 19: 384.0254409775539,\n",
       " 20: 319.7501672164548,\n",
       " 21: 269.8982952879229,\n",
       " 22: 230.7145440728559,\n",
       " 23: 199.66372573352987,\n",
       " 24: 174.9891543630689,\n",
       " 25: 155.4334950279863,\n",
       " 26: 140.0596177774378,\n",
       " 27: 128.13169572384982,\n",
       " 28: 119.02935053358857,\n",
       " 29: 112.17505931522875,\n",
       " 30: 106.96069371527251,\n",
       " 31: 102.6667199422274,\n",
       " 32: 98.38299055604526,\n",
       " 33: 92.97058860538125,\n",
       " 34: 85.1512263203001,\n",
       " 35: 73.84636736852276,\n",
       " 36: 58.82200176029963,\n",
       " 37: 41.39901147561286,\n",
       " 38: 24.52893977454304,\n",
       " 39: 11.530423583423294}"
      ]
     },
     "execution_count": 23,
     "metadata": {},
     "output_type": "execute_result"
    }
   ],
   "source": [
    "max_distances"
   ]
  },
  {
   "cell_type": "code",
   "execution_count": 24,
   "metadata": {},
   "outputs": [],
   "source": [
    "def resample_distance(df, dmax_dict, population ):\n",
    "    df['d']=np.nan\n",
    "    if population=='thin_disk':\n",
    "        ds=np.array(thin_dist_list)\n",
    "    if population=='thick_disk':\n",
    "        ds=np.array(thick_dist_list)\n",
    "    if population=='halo':\n",
    "        ds=np.array(halo_dist_list)\n",
    "    ds=np.array(ds)\n",
    "    df['spt_r']=np.round(df.spt)\n",
    "    \n",
    "    dx= ds[ds< dmax_dict[float(df.spt_r.iloc[0])] ]\n",
    "    df['d']= np.random.choice(dx, len(df))\n",
    "    return df\n",
    "def sample_distance_properly(df, dmax_dict, population='thin_disk'):\n",
    "    df['spt_r']=np.round(df.spt)\n",
    "    groups=[]\n",
    "    for g in tqdm( df.groupby('spt_r')):\n",
    "        groups.append(resample_distance(g[1], dmax_dict, population))\n",
    "    return pd.concat(groups)\n",
    "def interpolate_sdss(ra, dec):\n",
    "    interpolators=[a.to(u.degree).value, b.to(u.degree).value, np.ones_like(a)]\n",
    "    return interpolated(ra, dec, interpolators )\n",
    "def apply_sdss_selection(df):\n",
    "    entiregalaxy=SkyCoord(l=df.l*u.radian,\\\n",
    "                     b=df.b*u.radian, frame='galactic')\n",
    "    \n",
    "    gridra=Angle(entiregalaxy.icrs.ra.to(u.radian))\n",
    "    gridra.wrap_at('180d', inplace=True)\n",
    "    griddec=Angle(entiregalaxy.icrs.dec.to(u.radian))\n",
    "    griddec.wrap_at('180d', inplace=True)\n",
    "\n",
    "    selectionfunction=interpolate_sdss(gridra.to(u.degree).value, \\\n",
    "                                                  griddec.to(u.degree).value)\n",
    "    df['SDSS_selection']= selectionfunction\n",
    "    df['ra']=gridra\n",
    "    df['dec']=griddec\n",
    "    return df\n",
    "\n",
    "def apply_color_cuts(df):\n",
    "    bools=[]\n",
    "    for k in color_cuts.keys():\n",
    "        xkey, ykey= k.split('-')\n",
    "        if color_cuts[k][-1]=='greater':\n",
    "            bools.append(df['abs_{}'.format(xkey)]-df['abs_{}'.format(ykey)] >= color_cuts[k][0])\n",
    "        if color_cuts[k][-1]=='less':\n",
    "            print (k)\n",
    "            bools.append(df['abs_{}'.format(xkey)]-df['abs_{}'.format(ykey)] <= color_cuts[k][0])\n",
    "    return np.logical_and.reduce(bools)\n",
    "    "
   ]
  },
  {
   "cell_type": "code",
   "execution_count": 25,
   "metadata": {},
   "outputs": [],
   "source": [
    "mag_keys0=['VISTA_Z', 'VISTA_Y', 'VISTA_J', 'VISTA_H', 'VISTA_KS', 'UKIDSS_Z', \\\n",
    " 'UKIDSS_J', 'UKIDSS_H', 'UKIDSS_K']"
   ]
  },
  {
   "cell_type": "code",
   "execution_count": 26,
   "metadata": {},
   "outputs": [],
   "source": [
    "def apply_all_magnitude_color_cuts(df):\n",
    "    other_bools=[]\n",
    "    for k in PS1_DEPTHS.keys():\n",
    "        other_bools.append((df['PANSTARRS_{}'.format(k)]<PS1_DEPTHS[k]).values)\n",
    "    for k in SDSS_DEPTHS.keys():\n",
    "        other_bools.append((df['SDSS_{}'.format(k)]<SDSS_DEPTHS[k]).values)\n",
    "    for k in VISTA_DEPTHS.keys():\n",
    "        other_bools.append((df['VISTA_{}'.format(k)]<VISTA_DEPTHS[k]).values)\n",
    "    tot_bools=np.logical_and.reduce(other_bools)\n",
    "    #\n",
    "    \n",
    "    return tot_bools"
   ]
  },
  {
   "cell_type": "code",
   "execution_count": 27,
   "metadata": {},
   "outputs": [],
   "source": [
    "def sample_distance_from_d3(dmax, nsample):\n",
    "    ##random choice from d^3\n",
    "    d=np.linspace(0.1, dmax, 1000)\n",
    "    cdf=(d**3)/np.nanmax(d**3)\n",
    "    return popsims.tools.random_draw(d, cdf, nsample=nsample)"
   ]
  },
  {
   "cell_type": "code",
   "execution_count": 28,
   "metadata": {},
   "outputs": [],
   "source": [
    "#"
   ]
  },
  {
   "cell_type": "code",
   "execution_count": 29,
   "metadata": {},
   "outputs": [],
   "source": [
    "#redra ibjects from halo thin or thick based on the max dista\n",
    "def resample_by_max_distance(nsample=1e4):\n",
    "    df_list=[]\n",
    "    for k in max_distances.keys():\n",
    "        if max_distances[k] >200:\n",
    "            #make distance array array\n",
    "            thin_dist_list_arr=np.array(thin_dist_list)\n",
    "            thick_dist_list_arr=np.array(thick_dist_list)\n",
    "            halo_dist_list_arr=np.array(halo_dist_list)\n",
    "        else:\n",
    "            thin_dist_list_arr=sample_distance_from_d3(2*max_distances[k], int(1e5))\n",
    "            thick_dist_list_arr=sample_distance_from_d3(2*max_distances[k], int(1e5))\n",
    "            halo_dist_list_arr=sample_distance_from_d3(2*max_distances[k], int(1e5))\n",
    "        \n",
    "        \n",
    "        #use metal-rich models but absolute mag relations for metal poor\n",
    "        df_thin=galaxy.create_pop(bfraction=0.2,\\\n",
    "                         model='burrows1997',\\\n",
    "                             l=discr_ls, b=discr_bs,\\\n",
    "                           absmag_keys=mag_keys0, \\\n",
    "                      nsample=2*nsample, \\\n",
    "            distances= thin_dist_list_arr[thin_dist_list_arr<2*max_distances[k]],\\\n",
    "                  poptype='dwarfs')\n",
    "        \n",
    "        df_thick=galaxy.create_pop(bfraction=0.2,\\\n",
    "                          model='burrows1997',\\\n",
    "                             l=discr_ls, b=discr_bs,\\\n",
    "                           absmag_keys=mag_keys0, \\\n",
    "                      nsample=2*nsample, \\\n",
    "        distances= thick_dist_list_arr[thick_dist_list_arr<2*max_distances[k]],\\\n",
    "                         population='thick_disk', poptype='subdwarfs')\n",
    "        \n",
    "        df_halo=galaxy.create_pop(bfraction=0.2,\\\n",
    "                         model='burrows1997',\\\n",
    "                             l=discr_ls, b=discr_bs,\\\n",
    "                           absmag_keys=mag_keys0, \\\n",
    "                      nsample=2*nsample,\\\n",
    "        distances= halo_dist_list_arr[halo_dist_list_arr<2*max_distances[k]],\\\n",
    "                         population='halo', poptype='subdwarfs')\n",
    "        \n",
    "        df_thin['population']='thin_disk'\n",
    "        df_thick['population']='thick_disk' \n",
    "        df_halo['population']='halo'\n",
    "        \n",
    "        #make magnitudes and distance cuts righ aay\n",
    "        thin_bool=np.logical_and.reduce([df_thin.spt>=k, df_thin.spt<k+1, \\\n",
    "                                         df_thin.d <2*max_distances[k]])\n",
    "                                        #apply_all_magnitude_color_cuts(df_thin)])\n",
    "        \n",
    "        thick_bool=np.logical_and.reduce([df_thick.spt>=k, df_thick.spt<k+1, \\\n",
    "                                         df_thick.d <2*max_distances[k]])\n",
    "                                         # apply_all_magnitude_color_cuts(df_thick)])\n",
    "        \n",
    "        halo_bool=np.logical_and.reduce([df_halo.spt>=k, df_halo.spt<k+1, \\\n",
    "                                         df_halo.d <2*max_distances[k]])\n",
    "                                       #  apply_all_magnitude_color_cuts(df_halo)])\n",
    "        \n",
    "        print ('thin for spt {} {}'.format(k, len(df_thin.loc[thin_bool])))\n",
    "        print ('thick for spt {} {}'.format(k, len(df_thick.loc[thick_bool])))\n",
    "        print ('halo for spt {} {}'.format(k, len(df_halo.loc[halo_bool])))\n",
    "        df_thin_small_df=(df_thin.loc[thin_bool]).reset_index(drop=True)\n",
    "        df_thick_small_df=(df_thick.loc[thick_bool]).reset_index(drop=True)\n",
    "        df_halo_small_df=(df_halo.loc[halo_bool]).reset_index(drop=True)\n",
    "        \n",
    "        df_list.append(pd.concat([df_thin_small_df.sample(n=int(nsample), replace=True), \\\n",
    "              df_thick_small_df.sample(n=int(nsample), replace=True), \\\n",
    "              df_halo_small_df.sample(n=int(nsample), replace=True)]).reset_index(drop=True))\n",
    "        \n",
    "        del df_thin_small_df\n",
    "        del df_thick_small_df\n",
    "        del df_halo_small_df\n",
    "        \n",
    "    df0=pd.concat(df_list)\n",
    "    #use SD relations from Rocio for \n",
    "    df=galaxy.pop_mags_from_type(df0.spt.values, d=df0.d.values, \\\n",
    "                keys=['SDSS_R', 'SDSS_I', 'SDSS_Z'], reference='kiman2019').join(df0, rsuffix='_rocio')\n",
    "    df=df.drop(['abs_SDSS_R', 'abs_SDSS_I', 'abs_SDSS_Z', 'SDSS_R', 'SDSS_I', 'SDSS_Z'], axis=1).rename(columns={'SDSS_R_rocio': 'SDSS_R',\\\n",
    "               'abs_SDSS_R_rocio': 'abs_SDSS_R',\\\n",
    "               'SDSS_I_rocio': 'SDSS_I',\\\n",
    "               'abs_SDSS_I_rocio': 'abs_SDSS_I',\\\n",
    "               'SDSS_Z_rocio': 'SDSS_Z',\\\n",
    "               'abs_SDSS_Z_rocio': 'abs_SDSS_Z'}).reset_index(drop=True)\n",
    "    \n",
    "    #use default stuff for 2MASS \n",
    "    df['abs_2MASS_J']=spe.typeToMag(df.spt.values, '2MASS J')[0]\n",
    "    df['abs_2MASS_H']=spe.typeToMag(df.spt.values, '2MASS H')[0]\n",
    "    df['abs_2MASS_K']=spe.typeToMag(df.spt.values, '2MASS K')[0]\n",
    "    df['2MASS_J']=df.abs_2MASS_J+5*np.log10(df.d/10.0)\n",
    "    df['2MASS_H']=df.abs_2MASS_H+5*np.log10(df.d/10.0)\n",
    "    df['2MASS_K']=df.abs_2MASS_K+5*np.log10(df.d/10.0)\n",
    "\n",
    "    #Add\n",
    "    sd_bool=(df.population != 'thin_disk').values\n",
    "    for k in ['SDSS_Z', 'SDSS_R', 'SDSS_Z', '2MASS_J', '2MASS_H', '2MASS_KS']:\n",
    "\n",
    "        df.loc[sd_bool, 'abs_{}'.format(k)]= (spe.typeToMag(df.spt.values[sd_bool], \\\n",
    "                                              k,  reference='zhang2013')[0])\n",
    "        df.loc[sd_bool, k]=df.loc[sd_bool, 'abs_{}'.format(k)]+5*np.log10(df.d.loc[sd_bool]/10.0)\n",
    "    \n",
    "    df['spt_r']=df.spt.apply(np.round)\n",
    "    color_bools=apply_color_cuts(df)\n",
    "    other_bools=[]\n",
    "    for k in OTHER_CUTS.keys():\n",
    "        other_bools.append((df[k]<OTHER_CUTS[k]).values)\n",
    "    tot_bools=np.logical_and.reduce(other_bools)\n",
    "    tot_bools=np.logical_and(color_bools, tot_bools)\n",
    "    dfn=(df.loc[color_bools]).reset_index(drop=True)\n",
    "    return dfn\n",
    "\n"
   ]
  },
  {
   "cell_type": "code",
   "execution_count": 30,
   "metadata": {},
   "outputs": [
    {
     "name": "stdout",
     "output_type": "stream",
     "text": [
      "thin for spt 14 11018\n",
      "thick for spt 14 10873\n",
      "halo for spt 14 10715\n",
      "thin for spt 15 9338\n",
      "thick for spt 15 9150\n",
      "halo for spt 15 9167\n",
      "thin for spt 16 5986\n",
      "thick for spt 16 5714\n",
      "halo for spt 16 5712\n",
      "thin for spt 17 2597\n",
      "thick for spt 17 2082\n",
      "halo for spt 17 2144\n",
      "thin for spt 18 1351\n",
      "thick for spt 18 908\n",
      "halo for spt 18 942\n",
      "thin for spt 19 1395\n",
      "thick for spt 19 843\n",
      "halo for spt 19 889\n",
      "thin for spt 20 1354\n",
      "thick for spt 20 870\n",
      "halo for spt 20 833\n",
      "thin for spt 21 1207\n",
      "thick for spt 21 838\n",
      "halo for spt 21 877\n",
      "thin for spt 22 1148\n",
      "thick for spt 22 726\n",
      "halo for spt 22 728\n",
      "thin for spt 23 1403\n",
      "thick for spt 23 660\n",
      "halo for spt 23 637\n",
      "thin for spt 24 1673\n",
      "thick for spt 24 483\n",
      "halo for spt 24 459\n",
      "thin for spt 25 1674\n",
      "thick for spt 25 357\n",
      "halo for spt 25 345\n",
      "thin for spt 26 1512\n",
      "thick for spt 26 332\n",
      "halo for spt 26 318\n",
      "thin for spt 27 1291\n",
      "thick for spt 27 321\n",
      "halo for spt 27 251\n",
      "thin for spt 28 1188\n",
      "thick for spt 28 273\n",
      "halo for spt 28 249\n",
      "thin for spt 29 1270\n",
      "thick for spt 29 318\n",
      "halo for spt 29 328\n",
      "thin for spt 30 1083\n",
      "thick for spt 30 273\n",
      "halo for spt 30 203\n",
      "thin for spt 31 973\n",
      "thick for spt 31 256\n",
      "halo for spt 31 228\n",
      "thin for spt 32 1410\n",
      "thick for spt 32 382\n",
      "halo for spt 32 357\n",
      "thin for spt 33 1498\n",
      "thick for spt 33 473\n",
      "halo for spt 33 382\n",
      "thin for spt 34 2729\n",
      "thick for spt 34 977\n",
      "halo for spt 34 841\n",
      "thin for spt 35 4063\n",
      "thick for spt 35 1907\n",
      "halo for spt 35 1653\n",
      "thin for spt 36 6514\n",
      "thick for spt 36 4589\n",
      "halo for spt 36 3920\n",
      "thin for spt 37 9061\n",
      "thick for spt 37 9235\n",
      "halo for spt 37 8899\n",
      "thin for spt 38 12367\n",
      "thick for spt 38 15071\n",
      "halo for spt 38 15121\n",
      "thin for spt 39 9424\n",
      "thick for spt 39 12390\n",
      "halo for spt 39 12500\n",
      "VISTA_J-VISTA_KS\n"
     ]
    }
   ],
   "source": [
    "dfn=resample_by_max_distance(nsample=5e4)"
   ]
  },
  {
   "cell_type": "code",
   "execution_count": 31,
   "metadata": {},
   "outputs": [
    {
     "data": {
      "text/plain": [
       "387070"
      ]
     },
     "execution_count": 31,
     "metadata": {},
     "output_type": "execute_result"
    }
   ],
   "source": [
    "len(dfn)"
   ]
  },
  {
   "cell_type": "code",
   "execution_count": null,
   "metadata": {},
   "outputs": [],
   "source": []
  },
  {
   "cell_type": "code",
   "execution_count": null,
   "metadata": {},
   "outputs": [],
   "source": []
  },
  {
   "cell_type": "code",
   "execution_count": 32,
   "metadata": {},
   "outputs": [
    {
     "data": {
      "text/plain": [
       "387070"
      ]
     },
     "execution_count": 32,
     "metadata": {},
     "output_type": "execute_result"
    }
   ],
   "source": [
    "len(dfn)"
   ]
  },
  {
   "cell_type": "code",
   "execution_count": 33,
   "metadata": {},
   "outputs": [],
   "source": [
    "#dfn=dfn.sample(n=int(1e5), replace=True )\n",
    "#dfn=df.sample(n= int(1e4), replace=True )"
   ]
  },
  {
   "cell_type": "code",
   "execution_count": 34,
   "metadata": {},
   "outputs": [
    {
     "data": {
      "text/plain": [
       "[Text(0.5, 0, 'Distance')]"
      ]
     },
     "execution_count": 34,
     "metadata": {},
     "output_type": "execute_result"
    },
    {
     "data": {
      "image/png": "[encoded data removed]",
      "text/plain": [
       "<Figure size 432x288 with 1 Axes>"
      ]
     },
     "metadata": {
      "needs_background": "light"
     },
     "output_type": "display_data"
    }
   ],
   "source": [
    "fig, ax=plt.subplots()\n",
    "h=plt.hist(dfn.d, bins='auto', log=True)\n",
    "ax.set(xlabel='Distance')"
   ]
  },
  {
   "cell_type": "code",
   "execution_count": 35,
   "metadata": {},
   "outputs": [
    {
     "name": "stdout",
     "output_type": "stream",
     "text": [
      "14.0 25763\n",
      "15.0 26108\n",
      "16.0 58570\n",
      "17.0 21462\n",
      "18.0 37329\n",
      "19.0 25695\n",
      "20.0 26997\n",
      "21.0 28425\n",
      "22.0 24938\n",
      "23.0 22552\n",
      "24.0 20809\n",
      "25.0 19388\n",
      "26.0 19339\n",
      "27.0 21626\n",
      "28.0 8069\n"
     ]
    }
   ],
   "source": [
    "for g in dfn.groupby('spt_r'):\n",
    "    print (g[0], len(g[1]))"
   ]
  },
  {
   "cell_type": "code",
   "execution_count": 36,
   "metadata": {},
   "outputs": [],
   "source": [
    "halo_bool=(dfn.population !='thin_disk').values"
   ]
  },
  {
   "cell_type": "code",
   "execution_count": 37,
   "metadata": {},
   "outputs": [],
   "source": [
    "mags= galaxy.pop_mags_from_type(np.random.uniform(10, 40, 1000),\n",
    "                keys=['SDSS_R', 'SDSS_I', 'SDSS_Z'], reference='kiman2019')"
   ]
  },
  {
   "cell_type": "code",
   "execution_count": 38,
   "metadata": {},
   "outputs": [],
   "source": [
    "#mags"
   ]
  },
  {
   "cell_type": "code",
   "execution_count": 39,
   "metadata": {},
   "outputs": [],
   "source": [
    "zhang_mags={}\n",
    "for k in ['SDSS_R', 'SDSS_I', 'SDSS_Z']:\n",
    "    zhang_mags[k]=spe.typeToMag(np.random.uniform(10, 40, 1000), k,  reference='zhang2013')[0]"
   ]
  },
  {
   "cell_type": "code",
   "execution_count": 40,
   "metadata": {},
   "outputs": [],
   "source": [
    "zhang_mags=pd.Series(zhang_mags)"
   ]
  },
  {
   "cell_type": "code",
   "execution_count": 41,
   "metadata": {},
   "outputs": [
    {
     "data": {
      "text/plain": [
       "<matplotlib.collections.PathCollection at 0x7fe1ff5aa640>"
      ]
     },
     "execution_count": 41,
     "metadata": {},
     "output_type": "execute_result"
    },
    {
     "data": {
      "image/png": "[encoded data removed]",
      "text/plain": [
       "<Figure size 432x288 with 1 Axes>"
      ]
     },
     "metadata": {
      "needs_background": "light"
     },
     "output_type": "display_data"
    }
   ],
   "source": [
    "fig, ax=plt.subplots()\n",
    "ax.scatter(mags.abs_SDSS_R-mags.abs_SDSS_I, \\\n",
    "           mags.abs_SDSS_I-mags.abs_SDSS_Z,s=10, c='k')\n",
    "\n",
    "ax.scatter(zhang_mags.SDSS_R-zhang_mags.SDSS_I, \\\n",
    "           zhang_mags.SDSS_I-zhang_mags.SDSS_Z,s=10, c='b')\n",
    "\n",
    "\n",
    "#ax.set(xlabel='r-i', ylabel='i-z', xlim=[0, 3], ylim=[0,3])\n"
   ]
  },
  {
   "cell_type": "code",
   "execution_count": 42,
   "metadata": {},
   "outputs": [],
   "source": [
    "#dfn"
   ]
  },
  {
   "cell_type": "code",
   "execution_count": 43,
   "metadata": {},
   "outputs": [],
   "source": [
    "dfn_coord=SkyCoord(l=dfn.l*u.degree, b=dfn.b*u.degree, frame='galactic')"
   ]
  },
  {
   "cell_type": "code",
   "execution_count": 44,
   "metadata": {},
   "outputs": [],
   "source": [
    "dfn['ra']=dfn_coord.icrs.ra.to(u.degree)\n",
    "dfn['dec']=dfn_coord.icrs.dec.to(u.degree)"
   ]
  },
  {
   "cell_type": "code",
   "execution_count": 48,
   "metadata": {},
   "outputs": [
    {
     "data": {
      "text/plain": [
       "0         150.811196\n",
       "1         194.905890\n",
       "2         190.439925\n",
       "3         178.970601\n",
       "4         176.093754\n",
       "             ...    \n",
       "387065    228.313491\n",
       "387066    101.522159\n",
       "387067    302.142409\n",
       "387068    194.021249\n",
       "387069    332.708045\n",
       "Name: ra, Length: 387070, dtype: float64"
      ]
     },
     "execution_count": 48,
     "metadata": {},
     "output_type": "execute_result"
    }
   ],
   "source": [
    "dfn['ra']"
   ]
  },
  {
   "cell_type": "code",
   "execution_count": null,
   "metadata": {},
   "outputs": [],
   "source": [
    "tqdm.pandas()\n",
    "motion_df=dfn[['ra', 'dec', 'd', 'U', 'V', \\\n",
    "       'W' ]].progress_apply(lambda x: galaxy.get_proper_motion(*x), axis=1).reset_index(drop=True)"
   ]
  },
  {
   "cell_type": "code",
   "execution_count": null,
   "metadata": {},
   "outputs": [],
   "source": [
    "motion_halo=pd.DataFrame( popsims.galaxy.get_proper_motion_cylindrical(dfn.ra.values, \\\n",
    "                             dfn.dec.values,\n",
    "                            (dfn.d.values)/1000,\n",
    "                             dfn.Vr.values,\n",
    "                            (dfn.Vphi.values)/(dfn.d.values+8300.*u.pc.to(u.km)),\n",
    "                            dfn.Vz.values))"
   ]
  },
  {
   "cell_type": "code",
   "execution_count": null,
   "metadata": {},
   "outputs": [],
   "source": [
    "#len(dfj)==len(dfn)"
   ]
  },
  {
   "cell_type": "code",
   "execution_count": null,
   "metadata": {},
   "outputs": [],
   "source": [
    "dfn=dfn.reset_index(drop=True)"
   ]
  },
  {
   "cell_type": "code",
   "execution_count": null,
   "metadata": {},
   "outputs": [],
   "source": [
    "dfj=dfn.join(motion_df).reset_index(drop=True)"
   ]
  },
  {
   "cell_type": "code",
   "execution_count": null,
   "metadata": {},
   "outputs": [],
   "source": [
    "halo_bool=dfj.population=='halo'"
   ]
  },
  {
   "cell_type": "code",
   "execution_count": null,
   "metadata": {},
   "outputs": [],
   "source": [
    "#computer proper motions for halo star\n",
    "dfj.loc[halo_bool, 'RV'] = motion_halo[halo_bool]['RV'].values\n",
    "dfj.loc[halo_bool, 'mu_alpha'] = motion_halo[halo_bool]['mu_alpha'].values\n",
    "dfj.loc[halo_bool, 'mu_delta']= motion_halo[halo_bool]['mu_delta'].values"
   ]
  },
  {
   "cell_type": "code",
   "execution_count": null,
   "metadata": {},
   "outputs": [],
   "source": [
    "fig, ax=plt.subplots()\n",
    "for k in PS1_DEPTHS.keys():\n",
    "    #h=plt.hist(df['PANSTARRS_{}'.format(k)], bins='auto', histtype='step',\\\n",
    "    #           lw=2, log=True, linestyle='--')\n",
    "    h=plt.hist(dfn['PANSTARRS_{}'.format(k)].values, bins='auto',\\\n",
    "               histtype='step', lw=2, log=True)"
   ]
  },
  {
   "cell_type": "code",
   "execution_count": null,
   "metadata": {},
   "outputs": [],
   "source": [
    "dfj.columns"
   ]
  },
  {
   "cell_type": "code",
   "execution_count": null,
   "metadata": {},
   "outputs": [],
   "source": [
    "for k in [ '2MASS_J', '2MASS_H', 'VISTA_J', 'VISTA_H']:\n",
    "    dfj['redH_{}'.format(k)]=dfj['abs_{}'.format(k)]+\\\n",
    "     5*np.log10((dfj.mu_alpha**2+ dfj.mu_delta**2)**0.5)+5"
   ]
  },
  {
   "cell_type": "code",
   "execution_count": null,
   "metadata": {},
   "outputs": [],
   "source": [
    "fig, ax=plt.subplots()\n",
    "for k in [ '2MASS_J', '2MASS_H', 'VISTA_J', 'VISTA_H']:\n",
    "    vals=dfj['redH_{}'.format(k)].values\n",
    "    h=plt.hist(popsims.dropnans(vals),\\\n",
    "               bins='auto', histtype='step', lw=2, \n",
    "               log=True, label=k, range=[0, 30])\n",
    "plt.legend(fontsize=14)\n",
    "ax.set(xlabel='Reduced Proper Motion')"
   ]
  },
  {
   "cell_type": "code",
   "execution_count": null,
   "metadata": {},
   "outputs": [],
   "source": [
    "fig, ax=plt.subplots()\n",
    "\n",
    "h=ax.scatter((dfj.mu_alpha**2+ dfj.mu_delta**2)**0.5, dfj.d,  c=dfj.spt, s=1, alpha=0.5)\n",
    "ax.set(xscale='log', yscale='log', xlabel='Proper motion (mas/yr)', \\\n",
    "       ylabel='Distance (pc)', )"
   ]
  },
  {
   "cell_type": "code",
   "execution_count": null,
   "metadata": {},
   "outputs": [],
   "source": [
    "#(dfj['VISTA_J']-dfj['VISTA_KS']).min()"
   ]
  },
  {
   "cell_type": "code",
   "execution_count": null,
   "metadata": {},
   "outputs": [],
   "source": [
    "### color-color plots\n",
    "fig, ax=plt.subplots(figsize=(12, 4), ncols=3)\n",
    "\n",
    "\n",
    "ax[0].scatter((dfj.SDSS_I[dfj.population=='thick_disk']-\\\n",
    "                dfj['VISTA_J'][dfj.population=='thick_disk']), \\\n",
    "           dfj['redH_{}'.format('VISTA_J')][dfj.population=='thick_disk'], s=10, \\\n",
    "           label='thick disk', marker='*')\n",
    "ax[0].scatter((dfj.SDSS_I[dfj.population=='halo']-\\\n",
    "            dfj['VISTA_J'].loc[dfj.population=='halo']), \\\n",
    "           dfj['redH_{}'.format('VISTA_J')].loc[dfj.population=='halo'], \\\n",
    "           s=10, label='halo stars', color='r',\n",
    "              marker='D')\n",
    "ax[0].scatter((dfl_conct.SDSSi-dfl_conct.Jmag_VHS).values, \\\n",
    "                dfl_conct.Hj, s=5, c='k', label='Crossmatches')\n",
    "\n",
    "\n",
    "\n",
    "ax[1].scatter((dfj.SDSS_Z[dfj.population=='thick_disk']-\\\n",
    "                dfj.VISTA_J[dfj.population=='thick_disk']), \n",
    "          (dfj.VISTA_J[dfj.population=='thick_disk']-\\\n",
    "                dfj.VISTA_KS[dfj.population=='thick_disk']),\n",
    "           label='thick disk')\n",
    "ax[1].scatter((dfj.SDSS_Z[dfj.population=='halo']-\\\n",
    "                dfj.VISTA_J[dfj.population=='halo']), \n",
    "          (dfj.VISTA_J[dfj.population=='halo']-\\\n",
    "                dfj.VISTA_KS[dfj.population=='halo']),\n",
    "           s=10, label='halo stars', color='r',\n",
    "              marker='D')\n",
    "ax[1].scatter((dfl_conct.SDSSz-dfl_conct.Jmag_VHS).values, \\\n",
    "              (dfl_conct.Jmag_VHS-dfl_conct.Kmag_VHS).values, s=5, c='k', label='Crossmatches')\n",
    "\n",
    "\n",
    "\n",
    "ax[-1].scatter((dfj.SDSS_I[dfj.population=='thick_disk']-\\\n",
    "                dfj.SDSS_Z[dfj.population=='thick_disk']), \n",
    "          (dfj['VISTA_J'][dfj.population=='thick_disk']-\\\n",
    "                dfj['VISTA_KS'][dfj.population=='thick_disk']),\n",
    "           label='thick disk')\n",
    "ax[-1].scatter((dfj.SDSS_I[dfj.population=='halo']-\\\n",
    "                dfj.SDSS_Z[dfj.population=='halo']), \n",
    "          (dfj['VISTA_J'][dfj.population=='halo']-\\\n",
    "                dfj['VISTA_KS'][dfj.population=='halo']),\n",
    "           s=10, label='halo stars', color='r',\n",
    "              marker='D')\n",
    "ax[-1].scatter((dfl_conct.SDSSi-dfl_conct.SDSSz).values, \\\n",
    "              (dfl_conct.Jmag_VHS-dfl_conct.Kmag_VHS).values, s=5, c='k', \\\n",
    "               label='Crossmatches')\n",
    "\n",
    "ax[0].set(xlabel='i-J',ylabel=r'H$_J$', xlim=[1., 9], ylim=[30, 15])\n",
    "ax[0].axvline(1.9, color='k', linestyle='--')\n",
    "ax[1].set(xlabel='z-J', ylabel='J-K', xlim=[0, 5], ylim=[-1.5, 1.5])\n",
    "ax[-1].set(xlabel='i-z', ylabel='J-K', xlim=[0, 3], ylim=[-1, 1.2])\n",
    "\n",
    "plt.tight_layout()\n",
    "plt.savefig(popsims.FIGURES+'/simulatedcolors_sdss_vhs.pdf')"
   ]
  },
  {
   "cell_type": "code",
   "execution_count": null,
   "metadata": {},
   "outputs": [],
   "source": [
    "#"
   ]
  },
  {
   "cell_type": "code",
   "execution_count": null,
   "metadata": {},
   "outputs": [],
   "source": [
    "dfj['selection_function']=1."
   ]
  },
  {
   "cell_type": "code",
   "execution_count": null,
   "metadata": {},
   "outputs": [],
   "source": [
    "#df['selection_function']=tot_bools"
   ]
  },
  {
   "cell_type": "code",
   "execution_count": null,
   "metadata": {},
   "outputs": [],
   "source": [
    "def get_ncounts(binby='spt', grid=np.arange(15, 40),\n",
    "               population='thin_disk', df=None):\n",
    "    \n",
    "    df=(df[df.population==population]).reset_index(drop=True)\n",
    "    scale=[df.scale.mean(), df.scale_unc.mean(),df.scale_times_model.mean()]\n",
    "    NSIM=dict(zip(grid, np.zeros((len(grid), 2))))\n",
    "    \n",
    "    df['r_{}'.format(binby)]=df[binby].apply(np.round)\n",
    "    df=df[df['r_{}'.format(binby)].isin(grid)].reset_index(drop=True)\n",
    "\n",
    "    for g in tqdm(df.groupby('r_{}'.format(binby))):\n",
    "        \n",
    "        sn= len(df[np.logical_and(df.temperature>=450, df.temperature<=2100)])\n",
    "        n0=scale[-1]/scale[0]\n",
    "        #print (n0)\n",
    "        scln=np.array([scale[0]*n0/sn,\\\n",
    "                       (scale[1]*scale[-1])/(sn*scale[0])])\n",
    "        \n",
    "        #if sd:\n",
    "        #    b0=np.logical_and(df.temperature>=450, df.temperature<=2100)\n",
    "        #    b1=df.population=='halo'\n",
    "        #    nhalo=len(df[np.logical_and(b0, b1)])/sn\n",
    "        #    scln=scln*nhalo\n",
    "\n",
    "        \n",
    "        #assert scln[0] > scale[0]\n",
    "        NSIM[g[0]]=np.nansum(g[1].selection_function)*scln\n",
    "    df.drop('r_{}'.format(binby), axis=1)\n",
    "    return pd.DataFrame(NSIM).T.rename(columns={0: 'N', 1: 'Nunc'})"
   ]
  },
  {
   "cell_type": "code",
   "execution_count": null,
   "metadata": {},
   "outputs": [],
   "source": [
    " #dfj"
   ]
  },
  {
   "cell_type": "code",
   "execution_count": null,
   "metadata": {},
   "outputs": [],
   "source": [
    "\n",
    "counts=get_ncounts(grid=grid, population='thin_disk', df=dfj)\n",
    "thickcounts=get_ncounts(grid=grid,  population='thick_disk', df=dfj)\n",
    "halocounts=get_ncounts(grid=grid,  population='halo', df=dfj)"
   ]
  },
  {
   "cell_type": "code",
   "execution_count": null,
   "metadata": {},
   "outputs": [],
   "source": [
    "#halocounts"
   ]
  },
  {
   "cell_type": "code",
   "execution_count": null,
   "metadata": {},
   "outputs": [],
   "source": [
    "import scipy.integrate as integrate"
   ]
  },
  {
   "cell_type": "code",
   "execution_count": null,
   "metadata": {},
   "outputs": [],
   "source": [
    "def compute_volume(spt, l, b, h=350):\n",
    "    dmin=0\n",
    "    dmax=max_distances[spt]\n",
    "    if np.isnan(dmax):\n",
    "        return np.nan\n",
    "    else:\n",
    "        ds=np.linspace(dmin, dmax, 1000)\n",
    "        rd=np.sqrt( (ds * np.cos( b ) )**2 + popsims.Rsun * (popsims.Rsun - 2 * ds * np.cos( b ) * np.cos( l ) ) )\n",
    "        zd=popsims.Zsun+ ds * np.sin( b - np.arctan( popsims.Zsun / popsims.Rsun) )\n",
    "        rh=popsims.galactic_density(rd, zd, h)\n",
    "        return {'thin': integrate.trapz(rh['thin']*(ds**2), x=ds), \\\n",
    "                'thick': integrate.trapz(rh['thick']*(ds**2), x=ds), \\\n",
    "                'halo': integrate.trapz(rh['halo']*(ds**2), x=ds)}\n",
    "                "
   ]
  },
  {
   "cell_type": "code",
   "execution_count": null,
   "metadata": {},
   "outputs": [],
   "source": [
    "grid"
   ]
  },
  {
   "cell_type": "code",
   "execution_count": null,
   "metadata": {},
   "outputs": [],
   "source": [
    "volumes={}\n",
    "for k in grid:\n",
    "    vs={'thin': 0.0, 'thick': 0.0, 'halo': 0.0}\n",
    "    for f in tqdm(footprint):\n",
    "        l=f.galactic.l.radian\n",
    "        b=f.galactic.b.radian\n",
    "        v=compute_volume(k, l, b, h=350)\n",
    "        vs['thin'] +=v['thin']\n",
    "        vs['thick'] +=v['thick']\n",
    "        vs['halo'] +=v['halo']\n",
    "    volumes[k]=vs"
   ]
  },
  {
   "cell_type": "code",
   "execution_count": null,
   "metadata": {},
   "outputs": [],
   "source": [
    "#save this, takes too much time to do\n",
    "volumes_df=pd.DataFrame(volumes).T/len(footprint)"
   ]
  },
  {
   "cell_type": "code",
   "execution_count": null,
   "metadata": {},
   "outputs": [],
   "source": [
    "area=5350*(u.degree**2).to(u.radian**2)*(u.radian**2)\n",
    "area_to_degree=area.to(u.degree**2)"
   ]
  },
  {
   "cell_type": "code",
   "execution_count": null,
   "metadata": {},
   "outputs": [],
   "source": [
    "area_to_degree"
   ]
  },
  {
   "cell_type": "code",
   "execution_count": null,
   "metadata": {},
   "outputs": [],
   "source": [
    "#volumes"
   ]
  },
  {
   "cell_type": "code",
   "execution_count": null,
   "metadata": {},
   "outputs": [],
   "source": [
    "#easiest ay is to compute volumes for every field and then\n",
    "#second easiest thing, simulate an entire sky and do 2d-interpolation over sdss area"
   ]
  },
  {
   "cell_type": "code",
   "execution_count": null,
   "metadata": {},
   "outputs": [],
   "source": [
    "#counts['volume']=pd.Series(volumes).T/len(dfn_coord)\n",
    "#sdcounts['volume']=pd.Series(volumes).T/len(dfn_coord)"
   ]
  },
  {
   "cell_type": "code",
   "execution_count": null,
   "metadata": {},
   "outputs": [],
   "source": [
    "counts.N.median()"
   ]
  },
  {
   "cell_type": "code",
   "execution_count": null,
   "metadata": {},
   "outputs": [],
   "source": [
    "fig, ax=plt.subplots()\n",
    "volumes_df.thin.apply(np.log10).plot(label='thin', ax=ax)\n",
    "volumes_df.thick.apply(np.log10).plot(label='thick', ax=ax)\n",
    "volumes_df.halo.apply(np.log10).plot(label='halo', ax=ax)\n",
    "ax.legend()\n",
    "ax.set(ylabel=r'N/radian$^2$')\n",
    "\n"
   ]
  },
  {
   "cell_type": "code",
   "execution_count": null,
   "metadata": {},
   "outputs": [],
   "source": [
    "fig, ax=plt.subplots(figsize=(8, 5))\n",
    "\n",
    "ax.step(counts.index, (counts.N.values*volumes_df.thin.values*area.value/(area)).to(u.deg**-2), \\\n",
    "        label='Thin Disk', where='mid')\n",
    "ax.step(thickcounts.index, (thickcounts.N.values*0.12*volumes_df.thick.values*area.value/area).to(u.deg**-2),\\\n",
    "        label='Thick Disk', where='mid')\n",
    "ax.step(halocounts.index,  (halocounts.N.values*0.0025*volumes_df.halo.values*area.value/area).to(u.deg**-2),\\\n",
    "        label='Halo', where='mid')\n",
    "ax.set( xlabel='Spectral Type',  ylabel=r'Surface Density (deg $^{-2}$)', yscale='log', xlim=[14, 40] )\n",
    "ax.grid()\n",
    "#ax.axhline(100, linestyle='--', c='k')\n",
    "plt.legend()\n",
    "plt.tight_layout()\n",
    "ax.minorticks_on()\n",
    "ax.set_xticks([14, 17, 20,  25, 30, 35, 40])\n",
    "ax.set_xticklabels(['M4', 'M7', 'L0', 'L5', 'T0', 'T5', 'Y0'])\n",
    "plt.savefig(popsims.FIGURES+'/simulatedncounts_sdss_vhs.pdf')"
   ]
  },
  {
   "cell_type": "code",
   "execution_count": null,
   "metadata": {},
   "outputs": [],
   "source": [
    "np.nansum((thickcounts.N.values*0.12*volumes_df.thick.values*area.value/area).to(u.deg**-2))"
   ]
  },
  {
   "cell_type": "code",
   "execution_count": null,
   "metadata": {},
   "outputs": [],
   "source": [
    "0.14*10,000"
   ]
  },
  {
   "cell_type": "code",
   "execution_count": null,
   "metadata": {},
   "outputs": [],
   "source": [
    "#read in a metal-poor baraffe model\n",
    "#baraffe=pd.read_csv(popsims.EVOL_MODELS_FOLDER+'//baraffe1998.csv')\n",
    "#metpoor=(baraffe[baraffe.metallicity<0]).reset_index(drop=True)"
   ]
  },
  {
   "cell_type": "code",
   "execution_count": null,
   "metadata": {},
   "outputs": [],
   "source": [
    "#metpoor.to_csv(popsims.EVOL_MODELS_FOLDER+'//baraffe1998_metalpoor.csv', index=False)"
   ]
  },
  {
   "cell_type": "code",
   "execution_count": null,
   "metadata": {},
   "outputs": [],
   "source": []
  },
  {
   "cell_type": "code",
   "execution_count": null,
   "metadata": {},
   "outputs": [],
   "source": []
  },
  {
   "cell_type": "code",
   "execution_count": null,
   "metadata": {},
   "outputs": [],
   "source": []
  }
 ],
 "metadata": {
  "kernelspec": {
   "display_name": "Python 3 (ipykernel)",
   "language": "python",
   "name": "python3"
  },
  "language_info": {
   "codemirror_mode": {
    "name": "ipython",
    "version": 3
   },
   "file_extension": ".py",
   "mimetype": "text/x-python",
   "name": "python",
   "nbconvert_exporter": "python",
   "pygments_lexer": "ipython3",
   "version": "3.9.7"
  }
 },
 "nbformat": 4,
 "nbformat_minor": 4
}
